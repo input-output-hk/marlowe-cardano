{
 "cells": [
  {
   "cell_type": "markdown",
   "id": "22a05683-c342-40d6-bbce-76b2bcab6736",
   "metadata": {},
   "source": [
    "# Marlowe CLI `query` Subcommands\n",
    "\n",
    "The `marlowe-cli query` commands perform chain-index queries to discover the Marlowe-related history on the Cardano blockchain."
   ]
  },
  {
   "cell_type": "markdown",
   "id": "0be2e098-d5c7-4a07-ab7b-54f6aa850fdb",
   "metadata": {},
   "source": [
    "## Contents\n",
    "\n",
    "*   [Address](#address)\n",
    "*   [App](#app)\n",
    "*   [History](#history)\n",
    "*   [Output](#output)\n",
    "*   [Payout](#payout)\n",
    "*   [Transaction](#transaction)"
   ]
  },
  {
   "cell_type": "markdown",
   "id": "b1559ea7-3a6b-4f5a-a5fb-7b7ad578a7f4",
   "metadata": {},
   "source": [
    "## Available Commands"
   ]
  },
  {
   "cell_type": "code",
   "execution_count": 1,
   "id": "7f9650d5-c7a0-46e4-abf9-0d633f39bd6f",
   "metadata": {},
   "outputs": [
    {
     "name": "stdout",
     "output_type": "stream",
     "text": [
      "Usage: marlowe-cli query COMMAND\n",
      "\n",
      "  Blockchain queries for Marlowe.\n",
      "\n",
      "Available options:\n",
      "  -h,--help                Show this help text\n",
      "\n",
      "Query commands:\n",
      "  address                  Query transactions at an address.\n",
      "  app                      Query the state of the Marlowe application script.\n",
      "  history                  Query for the Marlowe contract histories.\n",
      "  output                   Query output details.\n",
      "  payout                   Query the state of the Marlowe payout script.\n",
      "  transaction              Query transaction details.\n"
     ]
    }
   ],
   "source": [
    "marlowe-cli query --help"
   ]
  },
  {
   "cell_type": "markdown",
   "id": "c5a071ef-1818-4a80-a259-3280d06e78c1",
   "metadata": {},
   "source": [
    "## Address"
   ]
  },
  {
   "cell_type": "code",
   "execution_count": 2,
   "id": "8ac3306d-4732-469d-9bad-6904424ad8e4",
   "metadata": {},
   "outputs": [
    {
     "name": "stdout",
     "output_type": "stream",
     "text": [
      "Usage: marlowe-cli query address --index-url URL [--spent] \n",
      "                                 [--out-file OUTPUT_FILE] ADDRESS\n",
      "\n",
      "  Query transactions at an address.\n",
      "\n",
      "Available options:\n",
      "  --index-url URL          URL for the Plutus chain index.\n",
      "  --spent                  Whether to also report spent transactions.\n",
      "  --out-file OUTPUT_FILE   JSON output file for address data.\n",
      "  ADDRESS                  The address.\n",
      "  -h,--help                Show this help text\n"
     ]
    }
   ],
   "source": [
    "marlowe-cli query address --help"
   ]
  },
  {
   "cell_type": "markdown",
   "id": "f8ff143f-1cb0-473e-b240-c19199ef113b",
   "metadata": {},
   "source": [
    "### Example"
   ]
  },
  {
   "cell_type": "code",
   "execution_count": 3,
   "id": "f1a929eb-4dde-4662-8128-f0c85fc06b52",
   "metadata": {},
   "outputs": [
    {
     "name": "stdout",
     "output_type": "stream",
     "text": [
      "- _citxCardanoTx:\n",
      "    eraInMode: AlonzoEraInCardanoMode\n",
      "    tx:\n",
      "      cborHex: 84a5008482582073f53d385eb75f890430c9b06fb74f2dbb1395fc6c7051774977fe63464c02b50182582073f53d385eb75f890430c9b06fb74f2dbb1395fc6c7051774977fe63464c02b502825820f7769579b2cb976afecd8e1b20d2b22d78050d44f4e63e5a038cd89e7e7a65ab01825820ff68d04b699ecba76f1e3d7bdf803573828639cfa5863171788c5f000b72b9c3020d80018482581d6084117ffa443e598527726f6509078114ecd1f2c031e71dd5d239d5041a02f7fc5b82581d6084117ffa443e598527726f6509078114ecd1f2c031e71dd5d239d504821a001e8480a1581c8af8951db9f0ee17a17f5c91d7579854197316f21185a5d83438a0dba14246420182581d6084117ffa443e598527726f6509078114ecd1f2c031e71dd5d239d504821a001e8480a1581ca72e9977bf3079d0c5143a8e859f6b3a6ca368083f3680fb6bc202b5a14246420182581d6084117ffa443e598527726f6509078114ecd1f2c031e71dd5d239d504821a001e8480a1581cd0e2ebf0a20c10d870d447854d178b2b0928ae1ce8661a01acfc662fa142464201021a0002f4250e80a100818258204b6a0fb7d62fbc0e5894ec95d66ca73f110f224fe1d383acaf1c051994472473584070ce933ec5d104c550ab47e80273d1d233823254f0f28468a36ee07789f8ccf0ac4470482c12d57d7ca5d4f20e6e751817eafca3df8afc3fdb99b13f54aafe08f5f6\n",
      "      description: ''\n",
      "      type: Tx AlonzoEra\n",
      "  _citxData: []\n",
      "  _citxInputs:\n",
      "  - txInRef:\n",
      "      txOutRefId:\n",
      "        getTxId: 73f53d385eb75f890430c9b06fb74f2dbb1395fc6c7051774977fe63464c02b5\n",
      "      txOutRefIdx: 1\n",
      "    txInType: null\n",
      "  - txInRef:\n",
      "      txOutRefId:\n",
      "        getTxId: 73f53d385eb75f890430c9b06fb74f2dbb1395fc6c7051774977fe63464c02b5\n",
      "      txOutRefIdx: 2\n",
      "    txInType: null\n",
      "  - txInRef:\n",
      "      txOutRefId:\n"
     ]
    }
   ],
   "source": [
    "marlowe-cli query address --index-url http://localhost:9083 \\\n",
    "                          addr_test1vzzpzll6gsl9npf8wfhk2zg8sy2we50jcqc7w8w46gua2pqq7cw2q \\\n",
    "| json2yaml \\\n",
    "| head -n 20"
   ]
  },
  {
   "cell_type": "markdown",
   "id": "0f2bffe5-adee-4434-b6e7-110dee964484",
   "metadata": {},
   "source": [
    "## App"
   ]
  },
  {
   "cell_type": "code",
   "execution_count": 4,
   "id": "df44b2b7-7f57-4a73-a342-9ccb0579360d",
   "metadata": {},
   "outputs": [
    {
     "name": "stdout",
     "output_type": "stream",
     "text": [
      "Usage: marlowe-cli query app --index-url URL [--roles-currency CURRENCY_SYMBOL] \n",
      "                             [--spent] [--out-file OUTPUT_FILE]\n",
      "\n",
      "  Query the state of the Marlowe application script.\n",
      "\n",
      "Available options:\n",
      "  --index-url URL          URL for the Plutus chain index.\n",
      "  --roles-currency CURRENCY_SYMBOL\n",
      "                           The currency symbol for roles, if any.\n",
      "  --spent                  Whether to also report spent transactions.\n",
      "  --out-file OUTPUT_FILE   JSON output file for Marlowe data.\n",
      "  -h,--help                Show this help text\n"
     ]
    }
   ],
   "source": [
    "marlowe-cli query app --help"
   ]
  },
  {
   "cell_type": "markdown",
   "id": "16132861-1806-4c31-b20c-ac1724814c53",
   "metadata": {},
   "source": [
    "### Example"
   ]
  },
  {
   "cell_type": "code",
   "execution_count": 5,
   "id": "97108edc-05ba-411c-bf18-92963763171d",
   "metadata": {},
   "outputs": [
    {
     "name": "stdout",
     "output_type": "stream",
     "text": [
      "- marloweDatum:\n",
      "    marloweContract:\n",
      "      timeout: 1929587625000\n",
      "      timeout_continuation: close\n",
      "      when:\n",
      "      - case:\n",
      "          deposits: 15000000\n",
      "          into_account:\n",
      "            role_token: PAB\n",
      "          of_token:\n",
      "            currency_symbol: ''\n",
      "            token_name: ''\n",
      "          party:\n",
      "            role_token: PAB\n",
      "        then:\n",
      "          timeout: 1961123625000\n",
      "          timeout_continuation: close\n",
      "          when:\n",
      "          - case:\n",
      "              notify_if: true\n"
     ]
    }
   ],
   "source": [
    "marlowe-cli query app --index-url http://localhost:9083 \\\n",
    "                      --roles-currency ce78aa73ad62a31e98a76b7952a25fa90fa510e1e2ef473d001274ff \\\n",
    "                      --spent \\\n",
    "| json2yaml \\\n",
    "| head -n 20"
   ]
  },
  {
   "cell_type": "markdown",
   "id": "78cf04cf-b594-403e-8bed-e4ee0807201e",
   "metadata": {},
   "source": [
    "## History"
   ]
  },
  {
   "cell_type": "code",
   "execution_count": 6,
   "id": "117ba640-a3e4-4a58-9c88-410001ea5d44",
   "metadata": {},
   "outputs": [
    {
     "name": "stdout",
     "output_type": "stream",
     "text": [
      "Usage: marlowe-cli query history --slot-length INTEGER --slot-offset INTEGER\n",
      "                                 --index-url URL \n",
      "                                 [--roles-currency CURRENCY_SYMBOL] \n",
      "                                 [--out-file OUTPUT_FILE]\n",
      "\n",
      "  Query for the Marlowe contract histories.\n",
      "\n",
      "Available options:\n",
      "  --slot-length INTEGER    The slot length, in milliseconds.\n",
      "  --slot-offset INTEGER    The effective POSIX time of slot zero, in\n",
      "                           milliseconds.\n",
      "  --index-url URL          URL for the Plutus chain index.\n",
      "  --roles-currency CURRENCY_SYMBOL\n",
      "                           The currency symbol for roles, if any.\n",
      "  --out-file OUTPUT_FILE   JSON output file for history data.\n",
      "  -h,--help                Show this help text\n"
     ]
    }
   ],
   "source": [
    "marlowe-cli query history --help"
   ]
  },
  {
   "cell_type": "markdown",
   "id": "2e9956b8-e889-4dad-8622-9162b44a64b2",
   "metadata": {},
   "source": [
    "### Example"
   ]
  },
  {
   "cell_type": "code",
   "execution_count": 7,
   "id": "67bbe081-8769-479d-a01f-d1d7901c6935",
   "metadata": {},
   "outputs": [],
   "source": [
    "marlowe-cli util slotting --testnet-magic 1566 \\\n",
    "                          --socket-path node.socket \\\n",
    "                          --out-file 1566.slotting"
   ]
  },
  {
   "cell_type": "code",
   "execution_count": 8,
   "id": "2ac868bd-80ff-4a9f-9ee1-cfc507056a07",
   "metadata": {},
   "outputs": [
    {
     "name": "stdout",
     "output_type": "stream",
     "text": [
      "scSlotLength: 1000\n",
      "scSlotZeroTime: 1649976791000\n"
     ]
    }
   ],
   "source": [
    "json2yaml 1566.slotting"
   ]
  },
  {
   "cell_type": "code",
   "execution_count": 9,
   "id": "e43bee4f-b4c2-4544-b401-d55189e31002",
   "metadata": {},
   "outputs": [
    {
     "name": "stdout",
     "output_type": "stream",
     "text": [
      "- historyData:\n",
      "    marloweContract:\n",
      "      timeout: 1929587625000\n",
      "      timeout_continuation: close\n",
      "      when:\n",
      "      - case:\n",
      "          deposits: 15000000\n",
      "          into_account:\n",
      "            role_token: PAB\n",
      "          of_token:\n",
      "            currency_symbol: ''\n",
      "            token_name: ''\n",
      "          party:\n",
      "            role_token: PAB\n",
      "        then:\n",
      "          timeout: 1961123625000\n",
      "          timeout_continuation: close\n",
      "          when:\n",
      "          - case:\n",
      "              notify_if: true\n"
     ]
    }
   ],
   "source": [
    "marlowe-cli query history --slot-length $(jq .scSlotLength 1566.slotting) \\\n",
    "                          --slot-offset $(jq .scSlotZeroTime 1566.slotting) \\\n",
    "                          --index-url http://localhost:9083 \\\n",
    "                          --roles-currency ce78aa73ad62a31e98a76b7952a25fa90fa510e1e2ef473d001274ff \\\n",
    "| json2yaml \\\n",
    "| head -n 20"
   ]
  },
  {
   "cell_type": "markdown",
   "id": "21269179-db38-446b-bb99-b682a7fc001a",
   "metadata": {
    "tags": []
   },
   "source": [
    "## Output"
   ]
  },
  {
   "cell_type": "code",
   "execution_count": 10,
   "id": "e1a034eb-4d62-4063-a6ef-fd2cece293c0",
   "metadata": {},
   "outputs": [
    {
     "name": "stdout",
     "output_type": "stream",
     "text": [
      "Usage: marlowe-cli query output --index-url URL \n",
      "                                [--all | --lovelace-only LOVELACE | \n",
      "                                  --asset-only CURRENCY_SYMBOL.TOKEN_NAME] \n",
      "                                [--spent] [--out-file OUTPUT_FILE] ADDRESS\n",
      "\n",
      "  Query output details.\n",
      "\n",
      "Available options:\n",
      "  --index-url URL          URL for the Plutus chain index.\n",
      "  --all                    Report all output.\n",
      "  --lovelace-only LOVELACE The minimum Lovelace that must be the sole asset in\n",
      "                           the output value.\n",
      "  --asset-only CURRENCY_SYMBOL.TOKEN_NAME\n",
      "                           The current symbol and token name for the sole native\n",
      "                           asset in the value.\n",
      "  --spent                  Whether to also report spent transactions.\n",
      "  --out-file OUTPUT_FILE   JSON output file for address data.\n",
      "  ADDRESS                  The address.\n",
      "  -h,--help                Show this help text\n"
     ]
    }
   ],
   "source": [
    "marlowe-cli query output --help"
   ]
  },
  {
   "cell_type": "markdown",
   "id": "21e31098-922d-41bb-ac01-e318d3d8ed6c",
   "metadata": {},
   "source": [
    "### Example"
   ]
  },
  {
   "cell_type": "code",
   "execution_count": 11,
   "id": "cb3ed8b0-e81f-4757-bf3b-8e0ab8717298",
   "metadata": {},
   "outputs": [
    {
     "name": "stdout",
     "output_type": "stream",
     "text": [
      "- - txOutRefId:\n",
      "      getTxId: e338b26be569e3dc79f9a07c4d75ab79fdde9534860f984635556dac3a620b1c\n",
      "    txOutRefIdx: 1\n",
      "  - _ciTxOutAddress:\n",
      "      addressCredential:\n",
      "        contents:\n",
      "          getPubKeyHash: 84117ffa443e598527726f6509078114ecd1f2c031e71dd5d239d504\n",
      "        tag: PubKeyCredential\n",
      "      addressStakingCredential: null\n",
      "    _ciTxOutValue:\n",
      "      getValue:\n",
      "      - - unCurrencySymbol: ''\n",
      "        - - - unTokenName: ''\n",
      "            - 2000000\n",
      "      - - unCurrencySymbol: 8af8951db9f0ee17a17f5c91d7579854197316f21185a5d83438a0db\n",
      "        - - - unTokenName: FB\n",
      "            - 1\n",
      "    tag: PublicKeyChainIndexTxOut\n",
      "- - txOutRefId:\n",
      "      getTxId: e338b26be569e3dc79f9a07c4d75ab79fdde9534860f984635556dac3a620b1c\n"
     ]
    }
   ],
   "source": [
    "marlowe-cli query output --index-url http://localhost:9083 \\\n",
    "                         addr_test1vzzpzll6gsl9npf8wfhk2zg8sy2we50jcqc7w8w46gua2pqq7cw2q \\\n",
    "| json2yaml \\\n",
    "| head -n 20"
   ]
  },
  {
   "cell_type": "markdown",
   "id": "4c1c8118-a3fe-49bf-9dc4-47367f25993a",
   "metadata": {},
   "source": [
    "## Payout"
   ]
  },
  {
   "cell_type": "code",
   "execution_count": 12,
   "id": "334c825b-d59f-4eab-bd95-e707a4bf243a",
   "metadata": {},
   "outputs": [
    {
     "name": "stdout",
     "output_type": "stream",
     "text": [
      "Usage: marlowe-cli query payout --index-url URL \n",
      "                                [--roles-currency CURRENCY_SYMBOL] [--spent] \n",
      "                                [--out-file OUTPUT_FILE]\n",
      "\n",
      "  Query the state of the Marlowe payout script.\n",
      "\n",
      "Available options:\n",
      "  --index-url URL          URL for the Plutus chain index.\n",
      "  --roles-currency CURRENCY_SYMBOL\n",
      "                           The currency symbol for roles, if any.\n",
      "  --spent                  Whether to also report spent transactions.\n",
      "  --out-file OUTPUT_FILE   JSON output file for payout data.\n",
      "  -h,--help                Show this help text\n"
     ]
    }
   ],
   "source": [
    "marlowe-cli query payout --help"
   ]
  },
  {
   "cell_type": "markdown",
   "id": "8e07e9bb-e971-4759-8616-5b3be89ebebd",
   "metadata": {},
   "source": [
    "### Example"
   ]
  },
  {
   "cell_type": "code",
   "execution_count": 13,
   "id": "834a200b-f5fa-4068-99a9-7eb073c7789b",
   "metadata": {},
   "outputs": [
    {
     "name": "stdout",
     "output_type": "stream",
     "text": [
      "- marloweDatum:\n",
      "    marloweContract:\n",
      "      timeout: 1929587625000\n",
      "      timeout_continuation: close\n",
      "      when:\n",
      "      - case:\n",
      "          deposits: 15000000\n",
      "          into_account:\n",
      "            role_token: PAB\n",
      "          of_token:\n",
      "            currency_symbol: ''\n",
      "            token_name: ''\n",
      "          party:\n",
      "            role_token: PAB\n",
      "        then:\n",
      "          timeout: 1961123625000\n",
      "          timeout_continuation: close\n",
      "          when:\n",
      "          - case:\n",
      "              notify_if: true\n"
     ]
    }
   ],
   "source": [
    "marlowe-cli query payout --index-url http://localhost:9083 \\\n",
    "                         --roles-currency ce78aa73ad62a31e98a76b7952a25fa90fa510e1e2ef473d001274ff \\\n",
    "                         --spent \\\n",
    "| json2yaml \\\n",
    "| head -n 20"
   ]
  },
  {
   "cell_type": "markdown",
   "id": "80ffc48f-7484-4301-8ad1-b6ff3bba5b60",
   "metadata": {},
   "source": [
    "## Transaction"
   ]
  },
  {
   "cell_type": "code",
   "execution_count": 14,
   "id": "3dac8a5e-2cec-4086-aecd-e27738c02275",
   "metadata": {},
   "outputs": [
    {
     "name": "stdout",
     "output_type": "stream",
     "text": [
      "Usage: marlowe-cli query transaction \n",
      "         --index-url URL [--out-file OUTPUT_FILE] TXID\n",
      "\n",
      "  Query transaction details.\n",
      "\n",
      "Available options:\n",
      "  --index-url URL          URL for the Plutus chain index.\n",
      "  --out-file OUTPUT_FILE   JSON output file for transaction data.\n",
      "  TXID                     The transaction ID.\n",
      "  -h,--help                Show this help text\n"
     ]
    }
   ],
   "source": [
    "marlowe-cli query transaction --help"
   ]
  },
  {
   "cell_type": "markdown",
   "id": "bfff2db5-63cb-4e48-b5e3-1b8b96d39729",
   "metadata": {},
   "source": [
    "### Example"
   ]
  },
  {
   "cell_type": "code",
   "execution_count": 15,
   "id": "b9fe3e79-d183-4dbe-8363-f40acba9efcd",
   "metadata": {},
   "outputs": [
    {
     "name": "stdout",
     "output_type": "stream",
     "text": [
      "- _citxCardanoTx:\n",
      "    eraInMode: AlonzoEraInCardanoMode\n",
      "    tx:\n",
      "      cborHex: 84a5008582582025356d58106f8f7e401ab3aa0b2a960c54f577797af0b04115c4fe38502e50e90182582025356d58106f8f7e401ab3aa0b2a960c54f577797af0b04115c4fe38502e50e90282582063a6abf52df55128e63baa72f52270896cb5d73154edcb317a352d49a4559771018258207b68db3624e8ad82c8825996bfd6910716409226617ee5fcfdc01e77d59c2b41028258208019ea71e0fdf66c3cfbd4d7496980b3b6650a7a809b9a21557f82d31d849b20010d80018482581d6084117ffa443e598527726f6509078114ecd1f2c031e71dd5d239d5041a123a24cf82581d6084117ffa443e598527726f6509078114ecd1f2c031e71dd5d239d504821a001e8480a1581c8af8951db9f0ee17a17f5c91d7579854197316f21185a5d83438a0dba14246420182581d6084117ffa443e598527726f6509078114ecd1f2c031e71dd5d239d504821a001e8480a1581ca72e9977bf3079d0c5143a8e859f6b3a6ca368083f3680fb6bc202b5a14246420182581d6084117ffa443e598527726f6509078114ecd1f2c031e71dd5d239d504821a001e8480a1581cd494046cae145c146af0a581a42f596097179720d6cf7ce38b5ddf6fa142464201021a00030bb10e80a100818258204b6a0fb7d62fbc0e5894ec95d66ca73f110f224fe1d383acaf1c05199447247358404797b4f444d80a0947c5e45118f1a6aa11f2ec87dec127afced3f2759d3eb8113e1d34a6bd7bb1e1bfd9fc12ac638497e1aa91314a59b2ed85f8b9cad472d803f5f6\n",
      "      description: ''\n",
      "      type: Tx AlonzoEra\n",
      "  _citxData: []\n",
      "  _citxInputs:\n",
      "  - txInRef:\n",
      "      txOutRefId:\n",
      "        getTxId: 25356d58106f8f7e401ab3aa0b2a960c54f577797af0b04115c4fe38502e50e9\n",
      "      txOutRefIdx: 1\n",
      "    txInType: null\n",
      "  - txInRef:\n",
      "      txOutRefId:\n",
      "        getTxId: 25356d58106f8f7e401ab3aa0b2a960c54f577797af0b04115c4fe38502e50e9\n",
      "      txOutRefIdx: 2\n",
      "    txInType: null\n",
      "  - txInRef:\n",
      "      txOutRefId:\n"
     ]
    }
   ],
   "source": [
    "marlowe-cli query transaction --index-url http://localhost:9083 \\\n",
    "                              8d85c3a104d0c9148aa14bbf0f4b042cff9f7a62bcc02644f3c5ffb10ebad6ce \\\n",
    "| json2yaml \\\n",
    "| head -n 20"
   ]
  }
 ],
 "metadata": {
  "kernelspec": {
   "display_name": "Bash - Marlowe",
   "language": "bash",
   "name": "bash_marlowe"
  },
  "language_info": {
   "codemirror_mode": "shell",
   "file_extension": ".sh",
   "mimetype": "text/x-sh",
   "name": "/nix/store/l0wlqpbsvh1pgvhcdhw7qkka3d31si7k-bash-5.1-p8/bin/bash"
  }
 },
 "nbformat": 4,
 "nbformat_minor": 5
}
