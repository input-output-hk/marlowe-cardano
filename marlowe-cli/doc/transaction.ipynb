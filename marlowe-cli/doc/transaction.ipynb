{
 "cells": [
  {
   "cell_type": "markdown",
   "id": "c0b52988-2426-4785-b008-09dfb53af1e6",
   "metadata": {},
   "source": [
    "# Marlowe CLI `transaction` Subcommands\n",
    "\n",
    "The `marlowe-cli transaction` commands construct, and optionally submit, low-level Marlowe transactions."
   ]
  },
  {
   "cell_type": "markdown",
   "id": "736ef21f-32cc-492c-bb24-1cec229c3e92",
   "metadata": {},
   "source": [
    "## Contents\n",
    "\n",
    "*   [Simple](#simple)\n",
    "*   [Create](#create)\n",
    "*   [Advance](#advance)\n",
    "*   [Close](#close)\n",
    "*   [Submit](#submit)"
   ]
  },
  {
   "cell_type": "markdown",
   "id": "ed3160fc-4611-4876-b610-c6afa61f53fe",
   "metadata": {},
   "source": [
    "## Available Commands"
   ]
  },
  {
   "cell_type": "code",
   "execution_count": 1,
   "id": "06d56575-232f-4b7a-98c2-ef87af052898",
   "metadata": {},
   "outputs": [
    {
     "name": "stdout",
     "output_type": "stream",
     "text": [
      "Usage: marlowe-cli transaction COMMAND\n",
      "\n",
      "  Create and submit transactions.\n",
      "\n",
      "Available options:\n",
      "  -h,--help                Show this help text\n",
      "\n",
      "Low-level commands for creating and submitting transactions:\n",
      "  advance                  Build a transaction that both spends from and pays to\n",
      "                           a Marlowe script.\n",
      "  close                    Build a transaction that spends from a Marlowe\n",
      "                           script.\n",
      "  create                   Build a transaction that pays to a Marlowe script.\n",
      "  simple                   Build a non-Marlowe transaction.\n",
      "  submit                   Submit a transaction body.\n"
     ]
    }
   ],
   "source": [
    "marlowe-cli transaction --help"
   ]
  },
  {
   "cell_type": "markdown",
   "id": "04038414-0adb-4d99-a0e5-a97d2d315597",
   "metadata": {},
   "source": [
    "## Simple"
   ]
  },
  {
   "cell_type": "code",
   "execution_count": 2,
   "id": "33853275-b02e-491d-a7d7-2443086786c3",
   "metadata": {},
   "outputs": [
    {
     "name": "stdout",
     "output_type": "stream",
     "text": [
      "Usage: marlowe-cli transaction simple \n",
      "         --testnet-magic INTEGER --socket-path SOCKET_FILE\n",
      "         (--required-signer SIGNING_FILE) (--tx-in TXID#TXIX) \n",
      "         [--tx-out ADDRESS+VALUE] --change-address ADDRESS \n",
      "         [--metadata-file METADATA_FILE] --out-file FILE [--submit SECONDS] \n",
      "         [--print-stats] [--script-invalid]\n",
      "\n",
      "  Build a non-Marlowe transaction.\n",
      "\n",
      "Available options:\n",
      "  --testnet-magic INTEGER  Network magic. Defaults to the CARDANO_TESTNET_MAGIC\n",
      "                           environment variable's value.\n",
      "  --socket-path SOCKET_FILE\n",
      "                           Location of the cardano-node socket file. Defaults to\n",
      "                           the CARDANO_NODE_SOCKET_PATH environment variable's\n",
      "                           value.\n",
      "  --required-signer SIGNING_FILE\n",
      "                           File containing a required signing key.\n",
      "  --tx-in TXID#TXIX        Transaction input in TxId#TxIx format.\n",
      "  --tx-out ADDRESS+VALUE   Transaction output in ADDRESS+VALUE format.\n",
      "  --change-address ADDRESS Address to receive ADA in excess of fee.\n",
      "  --metadata-file METADATA_FILE\n",
      "                           JSON file containing metadata.\n",
      "  --out-file FILE          Output file for transaction body.\n",
      "  --submit SECONDS         Also submit the transaction, and wait for\n",
      "                           confirmation.\n",
      "  --print-stats            Print statistics.\n",
      "  --script-invalid         Assert that the transaction is invalid.\n",
      "  -h,--help                Show this help text\n"
     ]
    }
   ],
   "source": [
    "marlowe-cli transaction simple --help"
   ]
  },
  {
   "cell_type": "markdown",
   "id": "6778d7ca-8808-48c9-a324-da21bd13a809",
   "metadata": {},
   "source": [
    "### Example\n",
    "\n",
    "```bash\n",
    "$ marlowe-cli transaction simple --testnet-magic 1566 \\\n",
    "                                 --socket-path node.socket \\\n",
    "                                 --tx-in 'ddeebf86ee6390c10ae6d204f8c13ae74ecc02151fcce9e3e45099d32815b963#0' \\\n",
    "                                 --tx-in 'ddeebf86ee6390c10ae6d204f8c13ae74ecc02151fcce9e3e45099d32815b963#1' \\\n",
    "                                 --tx-in 'ddeebf86ee6390c10ae6d204f8c13ae74ecc02151fcce9e3e45099d32815b963#2' \\\n",
    "                                 --tx-out 'addr_test1vrssw4edcts00kk6lp7p5n64666m23tpprqaarmdwkaq69gfvqnpz+1400000+1 d0e2ebf0a20c10d870d447854d178b2b0928ae1ce8661a01acfc662f.FB' \\\n",
    "                                 --required-signer francis-beaumont.skey \\\n",
    "                                 --change-address addr_test1wr2yzgn42ws0r2t9lmnavzs0wf9ndrw3hhduyzrnplxwhncaya5f8 \\\n",
    "                                 --out-file /dev/null \\\n",
    "                                 --submit 600\n",
    "```"
   ]
  },
  {
   "cell_type": "markdown",
   "id": "8f320f4e-e49d-499f-be40-07237fd6cd61",
   "metadata": {},
   "source": [
    "## Create"
   ]
  },
  {
   "cell_type": "code",
   "execution_count": 3,
   "id": "d9eebe89-e288-4e0a-9c57-cc6346d17bdd",
   "metadata": {},
   "outputs": [
    {
     "name": "stdout",
     "output_type": "stream",
     "text": [
      "Usage: marlowe-cli transaction create \n",
      "         --testnet-magic INTEGER --socket-path SOCKET_FILE\n",
      "         --script-address ADDRESS (--required-signer SIGNING_FILE)\n",
      "         --tx-out-datum-file DATUM_FILE --tx-out-marlowe VALUE\n",
      "         (--tx-in TXID#TXIX) [--tx-out ADDRESS+VALUE] --change-address ADDRESS \n",
      "         [--metadata-file METADATA_FILE] --out-file FILE [--submit SECONDS] \n",
      "         [--print-stats] [--script-invalid]\n",
      "\n",
      "  Build a transaction that pays to a Marlowe script.\n",
      "\n",
      "Available options:\n",
      "  --testnet-magic INTEGER  Network magic. Defaults to the CARDANO_TESTNET_MAGIC\n",
      "                           environment variable's value.\n",
      "  --socket-path SOCKET_FILE\n",
      "                           Location of the cardano-node socket file. Defaults to\n",
      "                           the CARDANO_NODE_SOCKET_PATH environment variable's\n",
      "                           value.\n",
      "  --script-address ADDRESS Address of the Marlowe contract.\n",
      "  --required-signer SIGNING_FILE\n",
      "                           File containing a required signing key.\n",
      "  --tx-out-datum-file DATUM_FILE\n",
      "                           Datum JSON file datum paid to Marlowe contract.\n",
      "  --tx-out-marlowe VALUE   Value paid to Marlowe contract.\n",
      "  --tx-in TXID#TXIX        Transaction input in TxId#TxIx format.\n",
      "  --tx-out ADDRESS+VALUE   Transaction output in ADDRESS+VALUE format.\n",
      "  --change-address ADDRESS Address to receive ADA in excess of fee.\n",
      "  --metadata-file METADATA_FILE\n",
      "                           JSON file containing metadata.\n",
      "  --out-file FILE          Output file for transaction body.\n",
      "  --submit SECONDS         Also submit the transaction, and wait for\n",
      "                           confirmation.\n",
      "  --print-stats            Print statistics.\n",
      "  --script-invalid         Assert that the transaction is invalid.\n",
      "  -h,--help                Show this help text\n"
     ]
    }
   ],
   "source": [
    "marlowe-cli transaction create --help"
   ]
  },
  {
   "cell_type": "markdown",
   "id": "fe3bbb19-59b8-4ff0-86e0-22a7bfda5ea1",
   "metadata": {},
   "source": [
    "### Example\n",
    "\n",
    "```bash\n",
    "$ marlowe-cli transaction create --testnet-magic 1566 \\\n",
    "                                 --socket-path node.socket \\\n",
    "                                 --script-address addr_test1wquea223tl4cdz6n6w000g84hznt2tedafkdvwr6njhex9q39w5zm \\\n",
    "                                 --tx-out-datum-file monolithic.datum \\\n",
    "                                 --tx-out-marlowe 3000000 \\\n",
    "                                 --tx-in 'e7fe7883a3d7f78694a7706b74b221762c9777884dd2dbd23115b31862bcf0d8#0' \\\n",
    "                                 --change-address addr_test1vzl43spe69knxgfl5eqxrr89lwkef3elskmapjvzmy6akmc29ya5n \\\n",
    "                                 --out-file tx.raw \\\n",
    "                                 --required-signer path/to/payment.skey \\\n",
    "                                 --print-stats \\\n",
    "                                 --submit=600\n",
    "```"
   ]
  },
  {
   "cell_type": "markdown",
   "id": "faaaf752-5873-47be-a9c3-cd81720e60b5",
   "metadata": {},
   "source": [
    "## Advance"
   ]
  },
  {
   "cell_type": "code",
   "execution_count": 4,
   "id": "0989dc9b-aaa3-4888-8886-09ef1c3d30bd",
   "metadata": {},
   "outputs": [
    {
     "name": "stdout",
     "output_type": "stream",
     "text": [
      "Usage: marlowe-cli transaction advance \n",
      "         --testnet-magic INTEGER --socket-path SOCKET_FILE\n",
      "         --script-address ADDRESS --tx-in-script-file PLUTUS_FILE\n",
      "         --tx-in-redeemer-file REDEEMER_FILE --tx-in-datum-file DATUM_FILE\n",
      "         (--required-signer SIGNING_FILE) --tx-in-marlowe TXID#TXIX\n",
      "         --tx-out-datum-file DATUM_FILE --tx-out-marlowe VALUE\n",
      "         (--tx-in TXID#TXIX) [--tx-out ADDRESS+VALUE]\n",
      "         --tx-in-collateral TXID#TXIX --change-address ADDRESS\n",
      "         --invalid-before SLOT --invalid-hereafter SLOT \n",
      "         [--metadata-file METADATA_FILE] --out-file FILE [--submit SECONDS] \n",
      "         [--print-stats] [--script-invalid]\n",
      "\n",
      "  Build a transaction that both spends from and pays to a Marlowe script.\n",
      "\n",
      "Available options:\n",
      "  --testnet-magic INTEGER  Network magic. Defaults to the CARDANO_TESTNET_MAGIC\n",
      "                           environment variable's value.\n",
      "  --socket-path SOCKET_FILE\n",
      "                           Location of the cardano-node socket file. Defaults to\n",
      "                           the CARDANO_NODE_SOCKET_PATH environment variable's\n",
      "                           value.\n",
      "  --script-address ADDRESS Address of the Marlowe contract.\n",
      "  --tx-in-script-file PLUTUS_FILE\n",
      "                           Plutus file for Marlowe contract.\n",
      "  --tx-in-redeemer-file REDEEMER_FILE\n",
      "                           Redeemer JSON file spent from Marlowe contract.\n",
      "  --tx-in-datum-file DATUM_FILE\n",
      "                           Datum JSON file spent from Marlowe contract.\n",
      "  --required-signer SIGNING_FILE\n",
      "                           File containing a required signing key.\n",
      "  --tx-in-marlowe TXID#TXIX\n",
      "                           UTxO spent from Marlowe contract.\n",
      "  --tx-out-datum-file DATUM_FILE\n",
      "                           Datum JSON file datum paid to Marlowe contract.\n",
      "  --tx-out-marlowe VALUE   Value paid to Marlowe contract.\n",
      "  --tx-in TXID#TXIX        Transaction input in TxId#TxIx format.\n",
      "  --tx-out ADDRESS+VALUE   Transaction output in ADDRESS+VALUE format.\n",
      "  --tx-in-collateral TXID#TXIX\n",
      "                           Collateral for transaction.\n",
      "  --change-address ADDRESS Address to receive ADA in excess of fee.\n",
      "  --invalid-before SLOT    Minimum slot for the redemption.\n",
      "  --invalid-hereafter SLOT Maximum slot for the redemption.\n",
      "  --metadata-file METADATA_FILE\n",
      "                           JSON file containing metadata.\n",
      "  --out-file FILE          Output file for transaction body.\n",
      "  --submit SECONDS         Also submit the transaction, and wait for\n",
      "                           confirmation.\n",
      "  --print-stats            Print statistics.\n",
      "  --script-invalid         Assert that the transaction is invalid.\n",
      "  -h,--help                Show this help text\n"
     ]
    }
   ],
   "source": [
    "marlowe-cli transaction advance --help"
   ]
  },
  {
   "cell_type": "markdown",
   "id": "eb1db47d-d03a-4bbc-8c7b-ba46abf42600",
   "metadata": {},
   "source": [
    "### Example\n",
    "\n",
    "```bash\n",
    "$ marlowe-cli transaction advance --testnet-magic 1566 \\\n",
    "                                 --socket-path node.socket \\\n",
    "                                 --script-address addr_test1wquea223tl4cdz6n6w000g84hznt2tedafkdvwr6njhex9q39w5zm \\\n",
    "                                 --tx-in-script-file monolithic.plutus \\\n",
    "                                 --tx-in-redeemer-file monolithic.redeemer \\\n",
    "                                 --tx-in-datum-file monolithic.datum \\\n",
    "                                 --tx-in-marlowe '49315e78af81a9025ba136dfcdaf58d2356eaee63553ae42dd3219a7eea3f892#1' \\\n",
    "                                 --tx-out-datum-file monolithic.datum \\\n",
    "                                 --tx-out-marlowe 3000000 \\\n",
    "                                 --tx-in 'e7fe7883a3d7f78694a7706b74b221762c9777884dd2dbd23115b31862bcf0d8#0' \\\n",
    "                                 --tx-in-marlowe '49315e78af81a9025ba136dfcdaf58d2356eaee63553ae42dd3219a7eea3f892#1' \\\n",
    "                                 --tx-in '49315e78af81a9025ba136dfcdaf58d2356eaee63553ae42dd3219a7eea3f892#0' \\\n",
    "                                 --tx-in-collateral '49315e78af81a9025ba136dfcdaf58d2356eaee63553ae42dd3219a7eea3f892#0' \\\n",
    "                                 --change-address addr_test1vzl43spe69knxgfl5eqxrr89lwkef3elskmapjvzmy6akmc29ya5n \\\n",
    "                                 --invalid-before 100 \\\n",
    "                                 --invalid-hereafter 100000000 \\\n",
    "                                 --out-file tx.raw \\\n",
    "                                 --required-signer path/to/payment.skey \\\n",
    "                                 --print-stats \\\n",
    "                                 --submit=600\n",
    "``````"
   ]
  },
  {
   "cell_type": "markdown",
   "id": "e5939169-ef9e-4b63-8890-89a206096a96",
   "metadata": {},
   "source": [
    "## Close"
   ]
  },
  {
   "cell_type": "code",
   "execution_count": 5,
   "id": "7e32f41e-4109-4c2b-847b-d93d74344fa5",
   "metadata": {},
   "outputs": [
    {
     "name": "stdout",
     "output_type": "stream",
     "text": [
      "Usage: marlowe-cli transaction close \n",
      "         --testnet-magic INTEGER --socket-path SOCKET_FILE\n",
      "         --tx-in-script-file PLUTUS_FILE --tx-in-redeemer-file REDEEMER_FILE\n",
      "         --tx-in-datum-file DATUM_FILE (--required-signer SIGNING_FILE)\n",
      "         --tx-in-marlowe TXID#TXIX (--tx-in TXID#TXIX) [--tx-out ADDRESS+VALUE]\n",
      "         --tx-in-collateral TXID#TXIX --change-address ADDRESS\n",
      "         --invalid-before SLOT --invalid-hereafter SLOT \n",
      "         [--metadata-file METADATA_FILE] --out-file FILE [--submit SECONDS] \n",
      "         [--print-stats] [--script-invalid]\n",
      "\n",
      "  Build a transaction that spends from a Marlowe script.\n",
      "\n",
      "Available options:\n",
      "  --testnet-magic INTEGER  Network magic. Defaults to the CARDANO_TESTNET_MAGIC\n",
      "                           environment variable's value.\n",
      "  --socket-path SOCKET_FILE\n",
      "                           Location of the cardano-node socket file. Defaults to\n",
      "                           the CARDANO_NODE_SOCKET_PATH environment variable's\n",
      "                           value.\n",
      "  --tx-in-script-file PLUTUS_FILE\n",
      "                           Plutus file for Marlowe contract.\n",
      "  --tx-in-redeemer-file REDEEMER_FILE\n",
      "                           Redeemer JSON file spent from Marlowe contract.\n",
      "  --tx-in-datum-file DATUM_FILE\n",
      "                           Datum JSON file spent from Marlowe contract.\n",
      "  --required-signer SIGNING_FILE\n",
      "                           File containing a required signing key.\n",
      "  --tx-in-marlowe TXID#TXIX\n",
      "                           UTxO spent from Marlowe contract.\n",
      "  --tx-in TXID#TXIX        Transaction input in TxId#TxIx format.\n",
      "  --tx-out ADDRESS+VALUE   Transaction output in ADDRESS+VALUE format.\n",
      "  --tx-in-collateral TXID#TXIX\n",
      "                           Collateral for transaction.\n",
      "  --change-address ADDRESS Address to receive ADA in excess of fee.\n",
      "  --invalid-before SLOT    Minimum slot for the redemption.\n",
      "  --invalid-hereafter SLOT Maximum slot for the redemption.\n",
      "  --metadata-file METADATA_FILE\n",
      "                           JSON file containing metadata.\n",
      "  --out-file FILE          Output file for transaction body.\n",
      "  --submit SECONDS         Also submit the transaction, and wait for\n",
      "                           confirmation.\n",
      "  --print-stats            Print statistics.\n",
      "  --script-invalid         Assert that the transaction is invalid.\n",
      "  -h,--help                Show this help text\n"
     ]
    }
   ],
   "source": [
    "marlowe-cli transaction close --help"
   ]
  },
  {
   "cell_type": "markdown",
   "id": "341080ad-2f73-4ce9-b225-25debf2bd468",
   "metadata": {},
   "source": [
    "### Example\n",
    "\n",
    "```bash\n",
    "$ marlowe-cli transaction close --testnet-magic 1566 \\\n",
    "                                --socket-path node.socket \\\n",
    "                                --tx-in-script-file monolithic.plutus \\\n",
    "                                --tx-in-redeemer-file monolithic.redeemer \\\n",
    "                                --tx-in-datum-file monolithic.datum \\\n",
    "                                --tx-in-marlowe '49315e78af81a9025ba136dfcdaf58d2356eaee63553ae42dd3219a7eea3f892#1' \\\n",
    "                                --tx-in '49315e78af81a9025ba136dfcdaf58d2356eaee63553ae42dd3219a7eea3f892#0' \\\n",
    "                                --tx-in-collateral '49315e78af81a9025ba136dfcdaf58d2356eaee63553ae42dd3219a7eea3f892#0' \\\n",
    "                                --tx-out 'addr_test1vzl43spe69knxgfl5eqxrr89lwkef3elskmapjvzmy6akmc29ya5n+3000000' \\\n",
    "                                --change-address addr_test1vzl43spe69knxgfl5eqxrr89lwkef3elskmapjvzmy6akmc29ya5n \\\n",
    "                                --invalid-before 100 \\\n",
    "                                --invalid-hereafter 100000000 \\\n",
    "                                --out-file tx.raw \\\n",
    "                                --required-signer path/to/payment.skey \\\n",
    "                                --print-stats \\\n",
    "                                --submit=600\n",
    "```"
   ]
  },
  {
   "cell_type": "markdown",
   "id": "437ca7b4-1ab4-46c3-9979-29d8e2e53878",
   "metadata": {},
   "source": [
    "## Submit"
   ]
  },
  {
   "cell_type": "code",
   "execution_count": 6,
   "id": "192d6fd2-6a9b-48e5-91d7-074fe7eba25c",
   "metadata": {},
   "outputs": [
    {
     "name": "stdout",
     "output_type": "stream",
     "text": [
      "Usage: marlowe-cli transaction submit \n",
      "         --testnet-magic INTEGER --socket-path SOCKET_FILE\n",
      "         --tx-body-file BODY_FILE [--required-signer SIGNING_FILE] \n",
      "         [--timeout SECONDS]\n",
      "\n",
      "  Submit a transaction body.\n",
      "\n",
      "Available options:\n",
      "  --testnet-magic INTEGER  Network magic. Defaults to the CARDANO_TESTNET_MAGIC\n",
      "                           environment variable's value.\n",
      "  --socket-path SOCKET_FILE\n",
      "                           Location of the cardano-node socket file. Defaults to\n",
      "                           the CARDANO_NODE_SOCKET_PATH environment variable's\n",
      "                           value.\n",
      "  --tx-body-file BODY_FILE File containing the transaction body.\n",
      "  --required-signer SIGNING_FILE\n",
      "                           File containing a required signing key.\n",
      "  --timeout SECONDS        Also submit the transaction, and wait for\n",
      "                           confirmation.\n",
      "  -h,--help                Show this help text\n"
     ]
    }
   ],
   "source": [
    "marlowe-cli transaction submit --help"
   ]
  },
  {
   "cell_type": "markdown",
   "id": "f92c3b1f-74ba-4dfe-aa6f-00a7d9127e5c",
   "metadata": {},
   "source": [
    "### Example\n",
    "\n",
    "```bash\n",
    "$ marlowe-cli transaction submit --testnet-magic 1566 \\\n",
    "                                 --socket-path node.socket \\\n",
    "                                 --tx-body-file tx.raw \\\n",
    "                                 --required-signer christopher-marlowe.skey \\\n",
    "                                 --timeout 600\n",
    "```"
   ]
  }
 ],
 "metadata": {
  "kernelspec": {
   "display_name": "Bash - Marlowe",
   "language": "bash",
   "name": "bash_marlowe"
  },
  "language_info": {
   "codemirror_mode": "shell",
   "file_extension": ".sh",
   "mimetype": "text/x-sh",
   "name": "/nix/store/l0wlqpbsvh1pgvhcdhw7qkka3d31si7k-bash-5.1-p8/bin/bash"
  }
 },
 "nbformat": 4,
 "nbformat_minor": 5
}
