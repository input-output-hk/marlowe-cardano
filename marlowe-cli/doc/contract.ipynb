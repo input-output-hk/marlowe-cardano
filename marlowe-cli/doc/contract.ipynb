{
 "cells": [
  {
   "cell_type": "markdown",
   "id": "dc1f2a7f-5274-45ac-9fd0-dd7d4b51418a",
   "metadata": {},
   "source": [
    "# Marlowe CLI `contract` Subcommands\n",
    "\n",
    "The `marlowe-cli contract` commands provide low-level access to the Plutus mechanics of Marlowe contracts: script address, validator, datum, and redeemer."
   ]
  },
  {
   "cell_type": "markdown",
   "id": "2c53eeff-efaf-4125-be80-4761ad2f421b",
   "metadata": {},
   "source": [
    "## Contents\n",
    "\n",
    "*   [Address](#address)\n",
    "*   [Datum](#datum)\n",
    "*   [Redeemer](#redeemer)\n",
    "*   [Validator](#validator)\n",
    "*   [Marlowe](#marlowe)"
   ]
  },
  {
   "cell_type": "markdown",
   "id": "520f8049-f407-4b0e-8469-60a41fe2bde6",
   "metadata": {},
   "source": [
    "## Available Commands"
   ]
  },
  {
   "cell_type": "code",
   "execution_count": 1,
   "id": "225e2422-e101-4108-84fa-bf0904403067",
   "metadata": {},
   "outputs": [
    {
     "name": "stdout",
     "output_type": "stream",
     "text": [
      "Usage: marlowe-cli contract COMMAND\n",
      "\n",
      "  Export contract address, validator, datum, or redeemer.\n",
      "\n",
      "Available options:\n",
      "  -h,--help                Show this help text\n",
      "\n",
      "Low-level commands for exporting Marlowe contract information:\n",
      "  address                  Print a contract validator address.\n",
      "  datum                    Export a contract datum to a JSON file.\n",
      "  marlowe                  Export a Marlowe contract to a JSON file.\n",
      "  redeemer                 Export a contract redeemer to a JSON file.\n",
      "  validator                Export a contract validator to a JSON file.\n"
     ]
    }
   ],
   "source": [
    "marlowe-cli contract --help"
   ]
  },
  {
   "cell_type": "markdown",
   "id": "a843efb1-fb63-4487-bd4e-dcd0d43808bf",
   "metadata": {},
   "source": [
    "## Address"
   ]
  },
  {
   "cell_type": "code",
   "execution_count": 2,
   "id": "cae10a6a-a944-411c-8767-553d925f201a",
   "metadata": {},
   "outputs": [
    {
     "name": "stdout",
     "output_type": "stream",
     "text": [
      "Usage: marlowe-cli contract address \n",
      "         --testnet-magic INTEGER [--stake-address ADDRESS] \n",
      "         [--roles-currency CURRENCY_SYMBOL]\n",
      "\n",
      "  Print a contract validator address.\n",
      "\n",
      "Available options:\n",
      "  --testnet-magic INTEGER  Network magic. Defaults to the CARDANO_TESTNET_MAGIC\n",
      "                           environment variable's value.\n",
      "  --stake-address ADDRESS  Stake address, if any.\n",
      "  --roles-currency CURRENCY_SYMBOL\n",
      "                           The currency symbol for roles, if any.\n",
      "  -h,--help                Show this help text\n"
     ]
    }
   ],
   "source": [
    "marlowe-cli contract address --help"
   ]
  },
  {
   "cell_type": "markdown",
   "id": "62ea8a5d-9c9c-43ca-b364-dcb8a29f9b81",
   "metadata": {},
   "source": [
    "### Example\n",
    "\n",
    "Compute the Marlowe application's script address for a particular roles currency."
   ]
  },
  {
   "cell_type": "code",
   "execution_count": 3,
   "id": "39102970-9245-4a76-92ea-ae7ccc5879d8",
   "metadata": {},
   "outputs": [
    {
     "name": "stdout",
     "output_type": "stream",
     "text": [
      "addr_test1wz05yhgck28y4avk9zvy94ekcv75arjrz0g6z2l9f0lrgusf93am7\n"
     ]
    }
   ],
   "source": [
    "marlowe-cli contract address --testnet-magic 1566 \\\n",
    "                             --roles-currency d0e2ebf0a20c10d870d447854d178b2b0928ae1ce8661a01acfc662f"
   ]
  },
  {
   "cell_type": "markdown",
   "id": "67c8b770-452b-4329-983b-6d743b95c935",
   "metadata": {},
   "source": [
    "## Datum"
   ]
  },
  {
   "cell_type": "code",
   "execution_count": 4,
   "id": "66762d26-5b48-4d29-b534-177a25959d71",
   "metadata": {},
   "outputs": [
    {
     "name": "stdout",
     "output_type": "stream",
     "text": [
      "Usage: marlowe-cli contract datum --contract-file CONTRACT_FILE\n",
      "                                  --state-file STATE_FILE \n",
      "                                  [--out-file DATUM_FILE] [--print-stats]\n",
      "\n",
      "  Export a contract datum to a JSON file.\n",
      "\n",
      "Available options:\n",
      "  --contract-file CONTRACT_FILE\n",
      "                           JSON input file for the contract.\n",
      "  --state-file STATE_FILE  JSON input file for the contract state.\n",
      "  --out-file DATUM_FILE    JSON output file for datum.\n",
      "  --print-stats            Print statistics.\n",
      "  -h,--help                Show this help text\n"
     ]
    }
   ],
   "source": [
    "marlowe-cli contract datum --help"
   ]
  },
  {
   "cell_type": "markdown",
   "id": "062a0060-ebe8-4810-afaa-3fc5cd8c611c",
   "metadata": {},
   "source": [
    "### Example\n",
    "\n",
    "This invocation of `marlowe-cli contract datum` takes the contract file [contract-1.contract](contract-1.contract) and state file [contract-1.state](contract-1.state) as inputs and it outputs the corresponding Plutus datum file [contract-1.datum](contract-1.datum)."
   ]
  },
  {
   "cell_type": "code",
   "execution_count": 5,
   "id": "5ab18ab7-eb57-4123-9172-6bd15af15c94",
   "metadata": {},
   "outputs": [
    {
     "name": "stdout",
     "output_type": "stream",
     "text": [
      "close\n",
      "...\n"
     ]
    }
   ],
   "source": [
    "json2yaml contract-1.contract"
   ]
  },
  {
   "cell_type": "code",
   "execution_count": 6,
   "id": "5d1ca50c-5518-49a1-929f-3ace7eb307ca",
   "metadata": {},
   "outputs": [
    {
     "name": "stdout",
     "output_type": "stream",
     "text": [
      "accounts:\n",
      "- - - pk_hash: 0a11b0c7e25dc5d9c63171bdf39d9741b901dc903e12b4e162348e07\n",
      "    - currency_symbol: ''\n",
      "      token_name: ''\n",
      "  - 8000000\n",
      "boundValues: []\n",
      "choices: []\n",
      "minTime: 40000000\n"
     ]
    }
   ],
   "source": [
    "json2yaml contract-1.state"
   ]
  },
  {
   "cell_type": "code",
   "execution_count": 7,
   "id": "7cd22eab-8656-4901-8373-1f213f2964ae",
   "metadata": {},
   "outputs": [
    {
     "name": "stdout",
     "output_type": "stream",
     "text": [
      "a52838e20767cabb955d387ffad8c68184c4cdc78e7c60e51ee6b2fd25e07909\n",
      "\n",
      "Datum size: 68\n"
     ]
    }
   ],
   "source": [
    "marlowe-cli contract datum --contract-file contract-1.contract \\\n",
    "                           --state-file contract-1.state \\\n",
    "                           --out-file contract-1.datum \\\n",
    "                           --print-stats"
   ]
  },
  {
   "cell_type": "code",
   "execution_count": 8,
   "id": "4f91e26a-9a33-4d36-86ba-53794ef2ff08",
   "metadata": {},
   "outputs": [
    {
     "name": "stdout",
     "output_type": "stream",
     "text": [
      "constructor: 0\n",
      "fields:\n",
      "- constructor: 0\n",
      "  fields:\n",
      "  - map:\n",
      "    - k:\n",
      "        constructor: 0\n",
      "        fields:\n",
      "        - constructor: 0\n",
      "          fields:\n",
      "          - bytes: 0a11b0c7e25dc5d9c63171bdf39d9741b901dc903e12b4e162348e07\n",
      "        - constructor: 0\n",
      "          fields:\n",
      "          - bytes: ''\n",
      "          - bytes: ''\n",
      "      v:\n",
      "        int: 8000000\n",
      "  - map: []\n",
      "  - map: []\n",
      "  - int: 40000000\n",
      "- constructor: 0\n",
      "  fields: []\n"
     ]
    }
   ],
   "source": [
    "json2yaml contract-1.datum"
   ]
  },
  {
   "cell_type": "markdown",
   "id": "256564e6-c9ec-4d7f-95d5-c626a77f335c",
   "metadata": {},
   "source": [
    "## Redeemer"
   ]
  },
  {
   "cell_type": "code",
   "execution_count": 9,
   "id": "b36b3d9e-b93a-4b05-b3b8-7341bf0f41f9",
   "metadata": {},
   "outputs": [
    {
     "name": "stdout",
     "output_type": "stream",
     "text": [
      "Usage: marlowe-cli contract redeemer \n",
      "         [--input-file INPUT_FILE] [--out-file OUTPUT_FILE] [--print-stats]\n",
      "\n",
      "  Export a contract redeemer to a JSON file.\n",
      "\n",
      "Available options:\n",
      "  --input-file INPUT_FILE  JSON input file for redeemer inputs.\n",
      "  --out-file OUTPUT_FILE   JSON output file for redeemer.\n",
      "  --print-stats            Print statistics.\n",
      "  -h,--help                Show this help text\n"
     ]
    }
   ],
   "source": [
    "marlowe-cli contract redeemer --help"
   ]
  },
  {
   "cell_type": "markdown",
   "id": "febd3342-5587-468b-8566-cfcfdaa8fdd6",
   "metadata": {},
   "source": [
    "### Example\n",
    "\n",
    "This invocation of `marlowe-cli contract redeemer` takes the Marlowe input file [contract-2.input](contract-2.input) as input and it outputs the corresponding Plutus redeemer [contract-2.redeemer](contract-2.redeemer)."
   ]
  },
  {
   "cell_type": "code",
   "execution_count": 10,
   "id": "1643bdc0-1f19-4d2b-8789-2c1e89af128c",
   "metadata": {},
   "outputs": [
    {
     "name": "stdout",
     "output_type": "stream",
     "text": [
      "input_from_party:\n",
      "  pk_hash: 0a11b0c7e25dc5d9c63171bdf39d9741b901dc903e12b4e162348e07\n",
      "into_account:\n",
      "  pk_hash: 0a11b0c7e25dc5d9c63171bdf39d9741b901dc903e12b4e162348e07\n",
      "of_token:\n",
      "  currency_symbol: ''\n",
      "  token_name: ''\n",
      "that_deposits: 10000000\n"
     ]
    }
   ],
   "source": [
    "json2yaml contract-2.input"
   ]
  },
  {
   "cell_type": "code",
   "execution_count": 11,
   "id": "a6a1dc62-993f-4c0e-a192-62a61b1b6296",
   "metadata": {},
   "outputs": [
    {
     "name": "stdout",
     "output_type": "stream",
     "text": [
      "\n",
      "Redeemer size: 89\n"
     ]
    }
   ],
   "source": [
    "marlowe-cli contract redeemer --input-file contract-2.input \\\n",
    "                              --out-file contract-2.redeemer \\\n",
    "                              --print-stats"
   ]
  },
  {
   "cell_type": "code",
   "execution_count": 12,
   "id": "b30a8f3d-53b0-48e3-b266-7bebc461b605",
   "metadata": {},
   "outputs": [
    {
     "name": "stdout",
     "output_type": "stream",
     "text": [
      "list:\n",
      "- constructor: 0\n",
      "  fields:\n",
      "  - constructor: 0\n",
      "    fields:\n",
      "    - constructor: 0\n",
      "      fields:\n",
      "      - bytes: 0a11b0c7e25dc5d9c63171bdf39d9741b901dc903e12b4e162348e07\n",
      "    - constructor: 0\n",
      "      fields:\n",
      "      - bytes: 0a11b0c7e25dc5d9c63171bdf39d9741b901dc903e12b4e162348e07\n",
      "    - constructor: 0\n",
      "      fields:\n",
      "      - bytes: ''\n",
      "      - bytes: ''\n",
      "    - int: 10000000\n"
     ]
    }
   ],
   "source": [
    "json2yaml contract-2.redeemer"
   ]
  },
  {
   "cell_type": "markdown",
   "id": "64728c7a-d831-4bbb-9272-5c80cf970228",
   "metadata": {},
   "source": [
    "## Validator"
   ]
  },
  {
   "cell_type": "code",
   "execution_count": 13,
   "id": "df82cf90-9a51-43f7-8429-b9e18efd1667",
   "metadata": {},
   "outputs": [
    {
     "name": "stdout",
     "output_type": "stream",
     "text": [
      "Usage: marlowe-cli contract validator \n",
      "         --testnet-magic INTEGER [--stake-address ADDRESS] \n",
      "         [--roles-currency CURRENCY_SYMBOL] [--out-file OUTPUT_FILE] \n",
      "         [--print-hash] [--print-stats]\n",
      "\n",
      "  Export a contract validator to a JSON file.\n",
      "\n",
      "Available options:\n",
      "  --testnet-magic INTEGER  Network magic. Defaults to the CARDANO_TESTNET_MAGIC\n",
      "                           environment variable's value.\n",
      "  --stake-address ADDRESS  Stake address, if any.\n",
      "  --roles-currency CURRENCY_SYMBOL\n",
      "                           The currency symbol for roles, if any.\n",
      "  --out-file OUTPUT_FILE   JSON output file for validator.\n",
      "  --print-hash             Print validator hash.\n",
      "  --print-stats            Print statistics.\n",
      "  -h,--help                Show this help text\n"
     ]
    }
   ],
   "source": [
    "marlowe-cli contract validator --help"
   ]
  },
  {
   "cell_type": "markdown",
   "id": "744a343d-8f46-4a7b-b2b2-d0f771d74dfc",
   "metadata": {},
   "source": [
    "## Example\n",
    "\n",
    "This invocation of `marlowe-cli contract validator` computes the Marlowe application Plutus script [contract-3.plutus](contract-3.plutus) for a particular roles currency."
   ]
  },
  {
   "cell_type": "code",
   "execution_count": 14,
   "id": "801d7afd-6db6-4118-b759-aa84c70a7cba",
   "metadata": {},
   "outputs": [
    {
     "name": "stdout",
     "output_type": "stream",
     "text": [
      "addr_test1wz05yhgck28y4avk9zvy94ekcv75arjrz0g6z2l9f0lrgusf93am7\n",
      "\n",
      "Validator size: 12415\n",
      "Bare-validator cost: ExBudget {exBudgetCPU = ExCPU 24652144, exBudgetMemory = ExMemory 82900}\n"
     ]
    }
   ],
   "source": [
    "marlowe-cli contract validator --testnet-magic 1566 \\\n",
    "                               --roles-currency d0e2ebf0a20c10d870d447854d178b2b0928ae1ce8661a01acfc662f \\\n",
    "                               --out-file contract-3.plutus \\\n",
    "                               --print-stats"
   ]
  },
  {
   "cell_type": "code",
   "execution_count": 15,
   "id": "85fd6ade-96b0-447e-bd9c-4cba1d2c7f43",
   "metadata": {},
   "outputs": [
    {
     "name": "stdout",
     "output_type": "stream",
     "text": [
      "{\n",
      "    \"type\": \"PlutusScriptV1\",\n",
      "    \"description\": \"\",\n",
      "    \"cborHex\": \"59307f59307c010000332323233223232323232323232323232323232323322323232323232323232323232323322323232323232323232323322332232323232323233223232323232323232323232323322332232323232323232323232323232323232323232323232323232323232323232323232323232332232323232323232323232323232323232323232232222323253353332223500a2235005232322350072323232323223353235001223500223223355335333573466e2000400c23804234044c0d0c8488c00400ccd5421c0400c00454cd4ccd5cd19b88001501008e0108d0113034332212233002004003501033550870100300113322122330010040033355087015002001350112222333308a01004003002500623033122222300200622533335333333305408f0100200101000650a10150a101130341222220051303412222200313034122222004222221533500513333038004003002001153333335015221303b03c13501822225335333355307712001505f2209a01004099011303d03e1333303c0080070060052221303c03d2221303c03d222221303e03f2221303c03d15335333573466e2400540382300422c04540384004cc8848cc00400c008d4d401c888888888"
     ]
    }
   ],
   "source": [
    "head -c 1000 contract-3.plutus"
   ]
  },
  {
   "cell_type": "markdown",
   "id": "5ccd3169-e19d-4863-acd2-6b794a3712eb",
   "metadata": {},
   "source": [
    "## Marlowe"
   ]
  },
  {
   "cell_type": "code",
   "execution_count": 16,
   "id": "e77b159b-afde-44e4-b91e-73c0d83deeb7",
   "metadata": {},
   "outputs": [
    {
     "name": "stdout",
     "output_type": "stream",
     "text": [
      "Usage: marlowe-cli contract marlowe \n",
      "         --testnet-magic INTEGER [--stake-address ADDRESS] \n",
      "         [--roles-currency CURRENCY_SYMBOL] --contract-file CONTRACT_FILE\n",
      "         --state-file STATE_FILE [--input-file INPUT_FILE] \n",
      "         [--out-file OUTPUT_FILE] [--print-stats]\n",
      "\n",
      "  Export a Marlowe contract to a JSON file.\n",
      "\n",
      "Available options:\n",
      "  --testnet-magic INTEGER  Network magic. Defaults to the CARDANO_TESTNET_MAGIC\n",
      "                           environment variable's value.\n",
      "  --stake-address ADDRESS  Stake address, if any.\n",
      "  --roles-currency CURRENCY_SYMBOL\n",
      "                           The currency symbol for roles, if any.\n",
      "  --contract-file CONTRACT_FILE\n",
      "                           JSON input file for the contract.\n",
      "  --state-file STATE_FILE  JSON input file for the contract state.\n",
      "  --input-file INPUT_FILE  JSON input file for redeemer inputs.\n",
      "  --out-file OUTPUT_FILE   JSON output file for contract.\n",
      "  --print-stats            Print statistics.\n",
      "  -h,--help                Show this help text\n"
     ]
    }
   ],
   "source": [
    "marlowe-cli contract marlowe --help"
   ]
  },
  {
   "cell_type": "markdown",
   "id": "cd35c8eb-04e9-477d-bc10-0e1d17449988",
   "metadata": {},
   "source": [
    "### Example\n",
    "\n",
    "This invocation of `marlowe-cli contract marlowe` takes the contract file [contract-2.contract](contract-2.contract), the state file [contract-2.state](contract-2.state), and the Marlowe input file [contract-2.input](contract-2.input) as inputs and outputs a file bundling Plutus validator, datum, and redeemer information for the corresponding Marlowe transaction."
   ]
  },
  {
   "cell_type": "code",
   "execution_count": 17,
   "id": "2562dc31-a9f8-4dcd-ab1e-5adea7994e1a",
   "metadata": {},
   "outputs": [
    {
     "name": "stdout",
     "output_type": "stream",
     "text": [
      "\n",
      "Bare-validator cost: ExBudget {exBudgetCPU = ExCPU 24652144, exBudgetMemory = ExMemory 82900}\n",
      "Validator size: 12415\n",
      "Datum size: 264\n",
      "Redeemer size: 89\n",
      "Total size: 12768\n"
     ]
    }
   ],
   "source": [
    "marlowe-cli contract marlowe --testnet-magic 1566 \\\n",
    "                             --roles-currency d0e2ebf0a20c10d870d447854d178b2b0928ae1ce8661a01acfc662f \\\n",
    "                             --contract-file contract-2.contract \\\n",
    "                             --state-file contract-2.state \\\n",
    "                             --input-file contract-2.input \\\n",
    "                             --out-file contract-2.marlowe \\\n",
    "                             --print-stats"
   ]
  },
  {
   "cell_type": "code",
   "execution_count": 18,
   "id": "61aecda5-9258-4cb5-b47e-54960eddc24b",
   "metadata": {},
   "outputs": [
    {
     "name": "stdout",
     "output_type": "stream",
     "text": [
      "\u001b[0;32m\"redeemer\"\u001b[0m\n",
      "\u001b[0;32m\"validator\"\u001b[0m\n",
      "\u001b[0;32m\"datum\"\u001b[0m\n"
     ]
    }
   ],
   "source": [
    "jq 'to_entries[] | .key' contract-2.marlowe"
   ]
  }
 ],
 "metadata": {
  "kernelspec": {
   "display_name": "Bash - Marlowe",
   "language": "bash",
   "name": "bash_marlowe"
  },
  "language_info": {
   "codemirror_mode": "shell",
   "file_extension": ".sh",
   "mimetype": "text/x-sh",
   "name": "/nix/store/l0wlqpbsvh1pgvhcdhw7qkka3d31si7k-bash-5.1-p8/bin/bash"
  }
 },
 "nbformat": 4,
 "nbformat_minor": 5
}
