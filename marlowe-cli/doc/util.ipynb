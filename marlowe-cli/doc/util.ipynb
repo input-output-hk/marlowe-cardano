{
 "cells": [
  {
   "cell_type": "markdown",
   "id": "70b8ca28-4e29-4c0d-b8b0-9e9e93d2493f",
   "metadata": {},
   "source": [
    "# Marlowe CLI `util` Subcommands\n",
    "\n",
    "The `marlowe-cli util` command provide miscellanous support for Marlowe contracts and transactions."
   ]
  },
  {
   "cell_type": "markdown",
   "id": "489dab68-0e35-49e1-ba53-efd715eaccd2",
   "metadata": {},
   "source": [
    "## Contents\n",
    "\n",
    "*   [Decode Bech32](#decode-bech32)\n",
    "*   [Encode Bech32](#encode-bech32)\n",
    "*   [Slotting](#slotting)\n",
    "*   [Merkleize](#merkleize)\n",
    "*   [Demerkleize](#demerkleize)\n",
    "*   [Clean](#clean)\n",
    "*   [Faucet](#faucet)\n",
    "*   [Mint](#mint)\n",
    "*   [Select](#select)\n",
    "*   [Watch](#watch)"
   ]
  },
  {
   "cell_type": "markdown",
   "id": "e3df101f-612a-42c0-9101-c5af889a5107",
   "metadata": {},
   "source": [
    "## Available Commands"
   ]
  },
  {
   "cell_type": "code",
   "execution_count": 1,
   "id": "6daf0a9e-e1ab-4601-a466-7abfda6b3235",
   "metadata": {},
   "outputs": [
    {
     "name": "stdout",
     "output_type": "stream",
     "text": [
      "Usage: marlowe-cli util COMMAND\n",
      "\n",
      "  Miscellaneous utilities.\n",
      "\n",
      "Available options:\n",
      "  -h,--help                Show this help text\n",
      "\n",
      "Miscellaneous low-level commands:\n",
      "  clean                    Reorganize the UTxOs at an address, separating\n",
      "                           tokens.\n",
      "  decode-bech32            DecodBech32 data.\n",
      "  demerkleize              Demerkleize a Marlowe contract.\n",
      "  encode-bech32            EncodBech32 data.\n",
      "  faucet                   Fund an address from a faucet. Note that the faucet\n",
      "                           is only funded on the private developer testnet for\n",
      "                           Marlowe, and that this command will not supply funds\n",
      "                           on public networks.\n",
      "  merkleize                Merkleize a Marlowe contract.\n",
      "  mint                     Mint native tokens.\n",
      "  select                   Select UTxO by asset.\n",
      "  slotting                 Find the slot-to-time relationship for the current\n",
      "                           epoch.\n",
      "  watch                    Watch Marlowe transactions on a Cardano node.\n"
     ]
    }
   ],
   "source": [
    "marlowe-cli util --help"
   ]
  },
  {
   "cell_type": "markdown",
   "id": "610ea6ac-d350-4e25-8c40-3876914d7dec",
   "metadata": {},
   "source": [
    "## Decode Bech32"
   ]
  },
  {
   "cell_type": "code",
   "execution_count": 2,
   "id": "45aed3cf-81cc-4bcb-9295-c3b92aac156a",
   "metadata": {},
   "outputs": [
    {
     "name": "stdout",
     "output_type": "stream",
     "text": [
      "Usage: marlowe-cli util decode-bech32 BECH32\n",
      "\n",
      "  DecodBech32 data.\n",
      "\n",
      "Available options:\n",
      "  BECH32                   The Bech32 text.\n",
      "  -h,--help                Show this help text\n"
     ]
    }
   ],
   "source": [
    "marlowe-cli util decode-bech32 --help"
   ]
  },
  {
   "cell_type": "markdown",
   "id": "e97c6f35-4f7b-4e1c-a804-de21ad446428",
   "metadata": {},
   "source": [
    "### Example"
   ]
  },
  {
   "cell_type": "code",
   "execution_count": 3,
   "id": "bedced5c-b95c-4f7e-bcce-db2c0b8b150a",
   "metadata": {},
   "outputs": [
    {
     "name": "stdout",
     "output_type": "stream",
     "text": [
      "Human-readable part: addr_test\n",
      "70d441227553a0f1a965fee7d60a0f724b368dd1bddbc208730fccebcf\n"
     ]
    }
   ],
   "source": [
    "marlowe-cli util decode-bech32 addr_test1wr2yzgn42ws0r2t9lmnavzs0wf9ndrw3hhduyzrnplxwhncaya5f8"
   ]
  },
  {
   "cell_type": "markdown",
   "id": "5b2a2a76-bddc-443e-bfa7-da3b4a2115b0",
   "metadata": {},
   "source": [
    "## Encode Bech32"
   ]
  },
  {
   "cell_type": "code",
   "execution_count": 4,
   "id": "becdc9a1-3873-4687-a5d7-4c83943bdff4",
   "metadata": {},
   "outputs": [
    {
     "name": "stdout",
     "output_type": "stream",
     "text": [
      "Usage: marlowe-cli util encode-bech32 PREFIX BASE16\n",
      "\n",
      "  EncodBech32 data.\n",
      "\n",
      "Available options:\n",
      "  PREFIX                   The Bech32 human-readable prefix.\n",
      "  BASE16                   The base 16 data to be encoded.\n",
      "  -h,--help                Show this help text\n"
     ]
    }
   ],
   "source": [
    "marlowe-cli util encode-bech32 --help"
   ]
  },
  {
   "cell_type": "markdown",
   "id": "d26785b1-5813-4b19-a9bd-25e0f6b743e7",
   "metadata": {},
   "source": [
    "### Example"
   ]
  },
  {
   "cell_type": "code",
   "execution_count": 5,
   "id": "8019691d-9bef-4f9d-86a2-f3ba320abdaf",
   "metadata": {},
   "outputs": [
    {
     "name": "stdout",
     "output_type": "stream",
     "text": [
      "addr_test1wr2yzgn42ws0r2t9lmnavzs0wf9ndrw3hhduyzrnplxwhncaya5f8\n"
     ]
    }
   ],
   "source": [
    "marlowe-cli util encode-bech32 addr_test 70d441227553a0f1a965fee7d60a0f724b368dd1bddbc208730fccebcf"
   ]
  },
  {
   "cell_type": "markdown",
   "id": "233257b8-d526-4816-bfe5-2aaa74d7f76e",
   "metadata": {},
   "source": [
    "## Slotting"
   ]
  },
  {
   "cell_type": "code",
   "execution_count": 6,
   "id": "47d51a9b-a144-43ee-8ba7-cc1f4f02dce5",
   "metadata": {},
   "outputs": [
    {
     "name": "stdout",
     "output_type": "stream",
     "text": [
      "Usage: marlowe-cli util slotting --testnet-magic INTEGER\n",
      "                                 --socket-path SOCKET_FILE [--out-file FILE]\n",
      "\n",
      "  Find the slot-to-time relationship for the current epoch.\n",
      "\n",
      "Available options:\n",
      "  --testnet-magic INTEGER  Network magic. Defaults to the CARDANO_TESTNET_MAGIC\n",
      "                           environment variable's value.\n",
      "  --socket-path SOCKET_FILE\n",
      "                           Location of the cardano-node socket file. Defaults to\n",
      "                           the CARDANO_NODE_SOCKET_PATH environment variable's\n",
      "                           value.\n",
      "  --out-file FILE          Output file for slot configuration.\n",
      "  -h,--help                Show this help text\n"
     ]
    }
   ],
   "source": [
    "marlowe-cli util slotting --help"
   ]
  },
  {
   "cell_type": "markdown",
   "id": "e65f39d3-1eec-4d61-9e81-670c9440a0bd",
   "metadata": {},
   "source": [
    "### Example\n",
    "\n",
    "This invocation of `marlowe-cli util slotting` computes the slot-to-time parameters for the 1566 testnet."
   ]
  },
  {
   "cell_type": "code",
   "execution_count": 7,
   "id": "380549be-a73b-4c13-b8ae-a4568912c632",
   "metadata": {},
   "outputs": [],
   "source": [
    "marlowe-cli util slotting --testnet-magic 1566 \\\n",
    "                          --socket-path node.socket \\\n",
    "                          --out-file 1566.slotting"
   ]
  },
  {
   "cell_type": "code",
   "execution_count": 8,
   "id": "b72e3d21-176c-4fb9-be59-d3d9b1e948c8",
   "metadata": {},
   "outputs": [
    {
     "name": "stdout",
     "output_type": "stream",
     "text": [
      "scSlotLength: 1000\n",
      "scSlotZeroTime: 1649976791000\n"
     ]
    }
   ],
   "source": [
    "json2yaml 1566.slotting"
   ]
  },
  {
   "cell_type": "markdown",
   "id": "ef5442d5-ef54-4a9e-aaad-0e70c06c68ed",
   "metadata": {},
   "source": [
    "## Merkleize"
   ]
  },
  {
   "cell_type": "code",
   "execution_count": 9,
   "id": "e192cdf4-1b2c-4c0d-a16d-f1f964cfba62",
   "metadata": {},
   "outputs": [
    {
     "name": "stdout",
     "output_type": "stream",
     "text": [
      "Usage: marlowe-cli util merkleize --in-file MARLOWE_FILE \n",
      "                                  [--out-file MARLOWE_FILE]\n",
      "\n",
      "  Merkleize a Marlowe contract.\n",
      "\n",
      "Available options:\n",
      "  --in-file MARLOWE_FILE   The Marlowe JSON file containing the contract to be\n",
      "                           merkleized.\n",
      "  --out-file MARLOWE_FILE  Output file Marlowe JSON containing the merkleized\n",
      "                           contract.\n",
      "  -h,--help                Show this help text\n"
     ]
    }
   ],
   "source": [
    "marlowe-cli util merkleize --help"
   ]
  },
  {
   "cell_type": "markdown",
   "id": "bebd3b50-650b-4156-8e78-5547919e5f5b",
   "metadata": {},
   "source": [
    "### Example"
   ]
  },
  {
   "cell_type": "markdown",
   "id": "fa594f47-6de6-4c0f-af89-9249a2f6f97b",
   "metadata": {},
   "source": [
    "Create a test contract."
   ]
  },
  {
   "cell_type": "code",
   "execution_count": 10,
   "id": "a131c297-636f-4030-91b5-29ed9ef21a9c",
   "metadata": {},
   "outputs": [],
   "source": [
    "marlowe-cli run initialize --testnet-magic 1566 \\\n",
    "                           --socket-path node.socket \\\n",
    "                           --contract-file simple-1.contract \\\n",
    "                           --state-file simple-1.state \\\n",
    "                           --out-file simple-1.marlowe"
   ]
  },
  {
   "cell_type": "code",
   "execution_count": 11,
   "id": "3ee9cd61-e503-4ecd-9a6f-1c466cd1e651",
   "metadata": {},
   "outputs": [
    {
     "name": "stdout",
     "output_type": "stream",
     "text": [
      "timeout: 1655663503000\n",
      "timeout_continuation: close\n",
      "when:\n",
      "- case:\n",
      "    deposits: 12000000\n",
      "    into_account:\n",
      "      pk_hash: 84117ffa443e598527726f6509078114ecd1f2c031e71dd5d239d504\n",
      "    of_token:\n",
      "      currency_symbol: ''\n",
      "      token_name: ''\n",
      "    party:\n",
      "      pk_hash: 84117ffa443e598527726f6509078114ecd1f2c031e71dd5d239d504\n",
      "  then:\n",
      "    timeout: 1655663504000\n",
      "    timeout_continuation: close\n",
      "    when:\n",
      "    - case:\n",
      "        notify_if: true\n",
      "      then:\n",
      "        from_account:\n",
      "          pk_hash: 84117ffa443e598527726f6509078114ecd1f2c031e71dd5d239d504\n",
      "        pay: 5000000\n",
      "        then:\n",
      "          timeout: 1655663505000\n",
      "          timeout_continuation: close\n",
      "          when:\n",
      "          - case:\n",
      "              notify_if: true\n",
      "            then: close\n",
      "        to:\n",
      "          party:\n",
      "            pk_hash: 84117ffa443e598527726f6509078114ecd1f2c031e71dd5d239d504\n",
      "        token:\n",
      "          currency_symbol: ''\n",
      "          token_name: ''\n"
     ]
    }
   ],
   "source": [
    "jq .contract simple-1.marlowe | json2yaml"
   ]
  },
  {
   "cell_type": "markdown",
   "id": "9313aba7-33df-4dfc-a8f4-aefc1b2a0afe",
   "metadata": {},
   "source": [
    "Now merkleize it."
   ]
  },
  {
   "cell_type": "code",
   "execution_count": 12,
   "id": "93f65f36-e67d-4e6d-b4b9-8aa9ad47d499",
   "metadata": {},
   "outputs": [],
   "source": [
    "marlowe-cli util merkleize --in-file simple-1.marlowe \\\n",
    "                           --out-file simple-1-merkleized.marlowe"
   ]
  },
  {
   "cell_type": "code",
   "execution_count": 13,
   "id": "d4b691a1-ac11-4a8b-bb45-7427a4a784d2",
   "metadata": {},
   "outputs": [
    {
     "name": "stdout",
     "output_type": "stream",
     "text": [
      "timeout: 1655663503000\n",
      "timeout_continuation: close\n",
      "when:\n",
      "- case:\n",
      "    deposits: 12000000\n",
      "    into_account:\n",
      "      pk_hash: 84117ffa443e598527726f6509078114ecd1f2c031e71dd5d239d504\n",
      "    of_token:\n",
      "      currency_symbol: ''\n",
      "      token_name: ''\n",
      "    party:\n",
      "      pk_hash: 84117ffa443e598527726f6509078114ecd1f2c031e71dd5d239d504\n",
      "  merkleized_then: ded7b66715ff96e4d3cbd277fcb0e894f9f19906e6658c9fa5bce31c986002d5\n"
     ]
    }
   ],
   "source": [
    "jq .contract simple-1-merkleized.marlowe | json2yaml"
   ]
  },
  {
   "cell_type": "markdown",
   "id": "f4d82263-30c4-4fc5-b71a-7de4d210332f",
   "metadata": {},
   "source": [
    "Examine the continuations."
   ]
  },
  {
   "cell_type": "code",
   "execution_count": 14,
   "id": "783cfb06-798a-4ba8-a68a-baaaee06abb4",
   "metadata": {},
   "outputs": [
    {
     "name": "stdout",
     "output_type": "stream",
     "text": [
      "- - 3878bba3343a12e37bc80007e20a5b3be885cfec00cbc494faf66e2a99b6fa97\n",
      "  - from_account:\n",
      "      pk_hash: 84117ffa443e598527726f6509078114ecd1f2c031e71dd5d239d504\n",
      "    pay: 5000000\n",
      "    then:\n",
      "      timeout: 1655663505000\n",
      "      timeout_continuation: close\n",
      "      when:\n",
      "      - case:\n",
      "          notify_if: true\n",
      "        then: close\n",
      "    to:\n",
      "      party:\n",
      "        pk_hash: 84117ffa443e598527726f6509078114ecd1f2c031e71dd5d239d504\n",
      "    token:\n",
      "      currency_symbol: ''\n",
      "      token_name: ''\n",
      "- - ded7b66715ff96e4d3cbd277fcb0e894f9f19906e6658c9fa5bce31c986002d5\n",
      "  - timeout: 1655663504000\n",
      "    timeout_continuation: close\n",
      "    when:\n",
      "    - case:\n",
      "        notify_if: true\n",
      "      merkleized_then: 3878bba3343a12e37bc80007e20a5b3be885cfec00cbc494faf66e2a99b6fa97\n"
     ]
    }
   ],
   "source": [
    "jq .continuations simple-1-merkleized.marlowe | json2yaml"
   ]
  },
  {
   "cell_type": "markdown",
   "id": "65f42229-5295-4a30-b245-b4e28cb12e56",
   "metadata": {},
   "source": [
    "## Demerkleize"
   ]
  },
  {
   "cell_type": "code",
   "execution_count": 15,
   "id": "1686c2f1-fabc-47ab-97f2-41f5a45410cb",
   "metadata": {},
   "outputs": [
    {
     "name": "stdout",
     "output_type": "stream",
     "text": [
      "Usage: marlowe-cli util demerkleize \n",
      "         --in-file MARLOWE_FILE [--out-file MARLOWE_FILE]\n",
      "\n",
      "  Demerkleize a Marlowe contract.\n",
      "\n",
      "Available options:\n",
      "  --in-file MARLOWE_FILE   The Marlowe JSON file containing the contract to be\n",
      "                           demerkleized.\n",
      "  --out-file MARLOWE_FILE  Output file Marlowe JSON containing the demerkleized\n",
      "                           contract.\n",
      "  -h,--help                Show this help text\n"
     ]
    }
   ],
   "source": [
    "marlowe-cli util demerkleize --help"
   ]
  },
  {
   "cell_type": "markdown",
   "id": "f4866e81-db10-41aa-9a99-c78a2e5e9e66",
   "metadata": {},
   "source": [
    "### Example"
   ]
  },
  {
   "cell_type": "markdown",
   "id": "66043e1b-7ee1-4a4b-805a-ea1504783035",
   "metadata": {},
   "source": [
    "Examine an already-merkleized contract."
   ]
  },
  {
   "cell_type": "code",
   "execution_count": 16,
   "id": "3785e9bf-31fe-4f21-a11a-4b3646426991",
   "metadata": {},
   "outputs": [
    {
     "name": "stdout",
     "output_type": "stream",
     "text": [
      "timeout: 1655663503000\n",
      "timeout_continuation: close\n",
      "when:\n",
      "- case:\n",
      "    deposits: 12000000\n",
      "    into_account:\n",
      "      pk_hash: 84117ffa443e598527726f6509078114ecd1f2c031e71dd5d239d504\n",
      "    of_token:\n",
      "      currency_symbol: ''\n",
      "      token_name: ''\n",
      "    party:\n",
      "      pk_hash: 84117ffa443e598527726f6509078114ecd1f2c031e71dd5d239d504\n",
      "  merkleized_then: ded7b66715ff96e4d3cbd277fcb0e894f9f19906e6658c9fa5bce31c986002d5\n"
     ]
    }
   ],
   "source": [
    "jq .contract simple-1-merkleized.marlowe | json2yaml"
   ]
  },
  {
   "cell_type": "markdown",
   "id": "5b421b61-59ec-4314-b8b8-3275dde725bc",
   "metadata": {},
   "source": [
    "Examine the continuations."
   ]
  },
  {
   "cell_type": "code",
   "execution_count": 17,
   "id": "e9d85177-f26b-4031-9a2c-319ccb8333dc",
   "metadata": {},
   "outputs": [
    {
     "name": "stdout",
     "output_type": "stream",
     "text": [
      "- - 3878bba3343a12e37bc80007e20a5b3be885cfec00cbc494faf66e2a99b6fa97\n",
      "  - from_account:\n",
      "      pk_hash: 84117ffa443e598527726f6509078114ecd1f2c031e71dd5d239d504\n",
      "    pay: 5000000\n",
      "    then:\n",
      "      timeout: 1655663505000\n",
      "      timeout_continuation: close\n",
      "      when:\n",
      "      - case:\n",
      "          notify_if: true\n",
      "        then: close\n",
      "    to:\n",
      "      party:\n",
      "        pk_hash: 84117ffa443e598527726f6509078114ecd1f2c031e71dd5d239d504\n",
      "    token:\n",
      "      currency_symbol: ''\n",
      "      token_name: ''\n",
      "- - ded7b66715ff96e4d3cbd277fcb0e894f9f19906e6658c9fa5bce31c986002d5\n",
      "  - timeout: 1655663504000\n",
      "    timeout_continuation: close\n",
      "    when:\n",
      "    - case:\n",
      "        notify_if: true\n",
      "      merkleized_then: 3878bba3343a12e37bc80007e20a5b3be885cfec00cbc494faf66e2a99b6fa97\n"
     ]
    }
   ],
   "source": [
    "jq .continuations simple-1-merkleized.marlowe | json2yaml"
   ]
  },
  {
   "cell_type": "markdown",
   "id": "7817ab52-4de7-4fcd-b0af-3d2cfa8db379",
   "metadata": {},
   "source": [
    "Reverse the merkliezation."
   ]
  },
  {
   "cell_type": "code",
   "execution_count": 18,
   "id": "ff531b4b-18e8-4f4b-bc1c-6f5de5918e6f",
   "metadata": {},
   "outputs": [],
   "source": [
    "marlowe-cli util demerkleize --in-file simple-1-merkleized.marlowe \\\n",
    "                             --out-file simple-1-demerkleized.marlowe"
   ]
  },
  {
   "cell_type": "code",
   "execution_count": 19,
   "id": "57d9dcc5-42a3-4815-8460-6cc9aaa085cb",
   "metadata": {},
   "outputs": [
    {
     "name": "stdout",
     "output_type": "stream",
     "text": [
      "timeout: 1655663503000\n",
      "timeout_continuation: close\n",
      "when:\n",
      "- case:\n",
      "    deposits: 12000000\n",
      "    into_account:\n",
      "      pk_hash: 84117ffa443e598527726f6509078114ecd1f2c031e71dd5d239d504\n",
      "    of_token:\n",
      "      currency_symbol: ''\n",
      "      token_name: ''\n",
      "    party:\n",
      "      pk_hash: 84117ffa443e598527726f6509078114ecd1f2c031e71dd5d239d504\n",
      "  then:\n",
      "    timeout: 1655663504000\n",
      "    timeout_continuation: close\n",
      "    when:\n",
      "    - case:\n",
      "        notify_if: true\n",
      "      then:\n",
      "        from_account:\n",
      "          pk_hash: 84117ffa443e598527726f6509078114ecd1f2c031e71dd5d239d504\n",
      "        pay: 5000000\n",
      "        then:\n",
      "          timeout: 1655663505000\n",
      "          timeout_continuation: close\n",
      "          when:\n",
      "          - case:\n",
      "              notify_if: true\n",
      "            then: close\n",
      "        to:\n",
      "          party:\n",
      "            pk_hash: 84117ffa443e598527726f6509078114ecd1f2c031e71dd5d239d504\n",
      "        token:\n",
      "          currency_symbol: ''\n",
      "          token_name: ''\n"
     ]
    }
   ],
   "source": [
    "jq .contract simple-1-demerkleized.marlowe | json2yaml"
   ]
  },
  {
   "cell_type": "markdown",
   "id": "7c8bfe38-cd9a-48ba-93ee-178de132177f",
   "metadata": {},
   "source": [
    "Compare to the original contract."
   ]
  },
  {
   "cell_type": "code",
   "execution_count": 20,
   "id": "f7f7a6cf-73a1-49bf-a5fd-661c28b5b2d2",
   "metadata": {},
   "outputs": [
    {
     "name": "stdout",
     "output_type": "stream",
     "text": [
      "Files simple-1.marlowe and simple-1-demerkleized.marlowe are identical\n"
     ]
    }
   ],
   "source": [
    "diff -s simple-1.marlowe simple-1-demerkleized.marlowe"
   ]
  },
  {
   "cell_type": "markdown",
   "id": "46f0195e-72bc-428e-875c-77175c4e2e8d",
   "metadata": {},
   "source": [
    "## Select"
   ]
  },
  {
   "cell_type": "code",
   "execution_count": 21,
   "id": "395296f2-233b-41e1-aa67-72f247730bee",
   "metadata": {},
   "outputs": [
    {
     "name": "stdout",
     "output_type": "stream",
     "text": [
      "Usage: marlowe-cli util select --testnet-magic INTEGER --socket-path SOCKET_FILE\n",
      "                               [--all | --lovelace-only LOVELACE | \n",
      "                                 --asset-only CURRENCY_SYMBOL.TOKEN_NAME]\n",
      "                               ADDRESS\n",
      "\n",
      "  Select UTxO by asset.\n",
      "\n",
      "Available options:\n",
      "  --testnet-magic INTEGER  Network magic. Defaults to the CARDANO_TESTNET_MAGIC\n",
      "                           environment variable's value.\n",
      "  --socket-path SOCKET_FILE\n",
      "                           Location of the cardano-node socket file. Defaults to\n",
      "                           the CARDANO_NODE_SOCKET_PATH environment variable's\n",
      "                           value.\n",
      "  --all                    Report all output.\n",
      "  --lovelace-only LOVELACE The minimum Lovelace that must be the sole asset in\n",
      "                           the output value.\n",
      "  --asset-only CURRENCY_SYMBOL.TOKEN_NAME\n",
      "                           The current symbol and token name for the sole native\n",
      "                           asset in the value.\n",
      "  ADDRESS                  The address.\n",
      "  -h,--help                Show this help text\n"
     ]
    }
   ],
   "source": [
    "marlowe-cli util select --help"
   ]
  },
  {
   "cell_type": "markdown",
   "id": "b2452e8f-c0b1-407f-b3ee-4a610b79a9d2",
   "metadata": {},
   "source": [
    "### Example\n",
    "\n",
    "```bash\n",
    "$ marlowe-cli util select --testnet-magic 1566 \\\n",
    "                          --socket-path node.socket \\\n",
    "                          --lovelace-only 20000000 \\\n",
    "                          addr_test1vrssw4edcts00kk6lp7p5n64666m23tpprqaarmdwkaq69gfvqnpz\n",
    "```"
   ]
  },
  {
   "cell_type": "markdown",
   "id": "8062439f-572f-44fa-b68d-2d92f681a594",
   "metadata": {},
   "source": [
    "## Clean"
   ]
  },
  {
   "cell_type": "code",
   "execution_count": 22,
   "id": "4ceb6692-d18b-4cd9-924f-c822a6b11222",
   "metadata": {},
   "outputs": [
    {
     "name": "stdout",
     "output_type": "stream",
     "text": [
      "Usage: marlowe-cli util clean --testnet-magic INTEGER --socket-path SOCKET_FILE\n",
      "                              (--required-signer SIGNING_FILE) \n",
      "                              [--lovelace LOVELACE] --change-address ADDRESS\n",
      "                              --out-file FILE [--submit SECONDS]\n",
      "\n",
      "  Reorganize the UTxOs at an address, separating tokens.\n",
      "\n",
      "Available options:\n",
      "  --testnet-magic INTEGER  Network magic. Defaults to the CARDANO_TESTNET_MAGIC\n",
      "                           environment variable's value.\n",
      "  --socket-path SOCKET_FILE\n",
      "                           Location of the cardano-node socket file. Defaults to\n",
      "                           the CARDANO_NODE_SOCKET_PATH environment variable's\n",
      "                           value.\n",
      "  --required-signer SIGNING_FILE\n",
      "                           File containing a required signing key.\n",
      "  --lovelace LOVELACE      The lovelace to send with each bundle of tokens.\n",
      "  --change-address ADDRESS Address to receive ADA in excess of fee.\n",
      "  --out-file FILE          Output file for transaction body.\n",
      "  --submit SECONDS         Also submit the transaction, and wait for\n",
      "                           confirmation.\n",
      "  -h,--help                Show this help text\n"
     ]
    }
   ],
   "source": [
    "marlowe-cli util clean --help"
   ]
  },
  {
   "cell_type": "markdown",
   "id": "ec612ace-2f5b-4114-8ec4-cc97b32abaef",
   "metadata": {},
   "source": [
    "### Example\n",
    "\n",
    "```bash\n",
    "$ marlowe-cli util clean --testnet-magic 1566 \\\n",
    "                         --socket-path node.socket \\\n",
    "                         --required-signer christopher-marlowe.skey \\\n",
    "                         --change-address addr_test1vrssw4edcts00kk6lp7p5n64666m23tpprqaarmdwkaq69gfvqnpz \\\n",
    "                         --out-file /dev/null \\\n",
    "                         --submit=600\n",
    "```"
   ]
  },
  {
   "cell_type": "markdown",
   "id": "9d153afe-0af1-4c19-a4b2-58391eb245cd",
   "metadata": {},
   "source": [
    "## Faucet"
   ]
  },
  {
   "cell_type": "code",
   "execution_count": 23,
   "id": "f4dd5149-c272-4866-81cb-eb098332e77f",
   "metadata": {},
   "outputs": [
    {
     "name": "stdout",
     "output_type": "stream",
     "text": [
      "Usage: marlowe-cli util faucet --testnet-magic INTEGER --socket-path SOCKET_FILE\n",
      "                               [--lovelace LOVELACE] --out-file FILE \n",
      "                               [--submit SECONDS] ADDRESS\n",
      "\n",
      "  Fund an address from a faucet. Note that the faucet is only funded on the\n",
      "  private developer testnet for Marlowe, and that this command will not supply\n",
      "  funds on public networks.\n",
      "\n",
      "Available options:\n",
      "  --testnet-magic INTEGER  Network magic. Defaults to the CARDANO_TESTNET_MAGIC\n",
      "                           environment variable's value.\n",
      "  --socket-path SOCKET_FILE\n",
      "                           Location of the cardano-node socket file. Defaults to\n",
      "                           the CARDANO_NODE_SOCKET_PATH environment variable's\n",
      "                           value.\n",
      "  --lovelace LOVELACE      The lovelace to send to each address.\n",
      "  --out-file FILE          Output file for transaction body.\n",
      "  --submit SECONDS         Also submit the transaction, and wait for\n",
      "                           confirmation.\n",
      "  ADDRESS                  The addresses to receive the funds.\n",
      "  -h,--help                Show this help text\n"
     ]
    }
   ],
   "source": [
    "marlowe-cli util faucet --help"
   ]
  },
  {
   "cell_type": "markdown",
   "id": "c67f2a27-3efc-447a-8aeb-f27a9be0ff7a",
   "metadata": {},
   "source": [
    "### Example\n",
    "\n",
    "```bash\n",
    "$ marlowe-cli util faucet --testnet-magic 1566 \\\n",
    "                          --socket-path node.socket \\\n",
    "                          --lovelace 100000000 \\\n",
    "                          --out-file /dev/null \\\n",
    "                          --submit 600 \\\n",
    "                          addr_test1vrssw4edcts00kk6lp7p5n64666m23tpprqaarmdwkaq69gfvqnpz\n",
    "```"
   ]
  },
  {
   "cell_type": "markdown",
   "id": "b42cc54d-eccf-4a2e-936f-d23ed48c33ad",
   "metadata": {},
   "source": [
    "## Mint"
   ]
  },
  {
   "cell_type": "code",
   "execution_count": 24,
   "id": "1c091c87-5f1f-4977-a00d-3ea63b188313",
   "metadata": {},
   "outputs": [
    {
     "name": "stdout",
     "output_type": "stream",
     "text": [
      "Usage: marlowe-cli util mint --testnet-magic INTEGER --socket-path SOCKET_FILE\n",
      "                             --required-signer SIGNING_FILE \n",
      "                             [--metadata-file JSON_FILE] [--count INTEGER] \n",
      "                             [--expires SLOT_NO] [--lovelace LOVELACE]\n",
      "                             --change-address ADDRESS --out-file FILE \n",
      "                             [--submit SECONDS] TOKEN_NAME\n",
      "\n",
      "  Mint native tokens.\n",
      "\n",
      "Available options:\n",
      "  --testnet-magic INTEGER  Network magic. Defaults to the CARDANO_TESTNET_MAGIC\n",
      "                           environment variable's value.\n",
      "  --socket-path SOCKET_FILE\n",
      "                           Location of the cardano-node socket file. Defaults to\n",
      "                           the CARDANO_NODE_SOCKET_PATH environment variable's\n",
      "                           value.\n",
      "  --required-signer SIGNING_FILE\n",
      "                           File containing a required signing key.\n",
      "  --metadata-file JSON_FILE\n",
      "                           The CIP-25 metadata, with keys for each token name.\n",
      "  --count INTEGER          The number of each token to mint.\n",
      "  --expires SLOT_NO        The slot number after which miniting is no longer\n",
      "                           possible.\n",
      "  --lovelace LOVELACE      The lovelace to send with each bundle of tokens.\n",
      "  --change-address ADDRESS Address to receive ADA in excess of fee.\n",
      "  --out-file FILE          Output file for transaction body.\n",
      "  --submit SECONDS         Also submit the transaction, and wait for\n",
      "                           confirmation.\n",
      "  TOKEN_NAME               The name of the token.\n",
      "  -h,--help                Show this help text\n"
     ]
    }
   ],
   "source": [
    "marlowe-cli util mint --help"
   ]
  },
  {
   "cell_type": "markdown",
   "id": "12f2ca75-0161-4eec-b0f2-98ab34d42a1a",
   "metadata": {},
   "source": [
    "### Example\n",
    "\n",
    "```bash\n",
    "$ marlowe-cli util mint --testnet-magic 1566 \\\n",
    "                        --socket-path node.socket \\\n",
    "                        --required-signer christopher-marlowe.skey \\\n",
    "                        --change-address addr_test1vrssw4edcts00kk6lp7p5n64666m23tpprqaarmdwkaq69gfvqnpz \\\n",
    "                        --count -1 \\\n",
    "                        --expires 6591100 \\\n",
    "                        --out-file /dev/null \\\n",
    "                        --submit=600 \\\n",
    "                        CM FB TM\n",
    "```"
   ]
  },
  {
   "cell_type": "markdown",
   "id": "d99b694e-3d73-4b4e-bf67-d7c6c24348b0",
   "metadata": {},
   "source": [
    "## Watch"
   ]
  },
  {
   "cell_type": "code",
   "execution_count": 25,
   "id": "9d2fd89c-267b-4b1c-a152-6fe7945a444a",
   "metadata": {},
   "outputs": [
    {
     "name": "stdout",
     "output_type": "stream",
     "text": [
      "Usage: marlowe-cli util watch --testnet-magic INTEGER --socket-path SOCKET_FILE \n",
      "                              [--all] [--cbor] [--continue] \n",
      "                              [--restart POINT_FILE] [--out-file OUTPUT_FILE]\n",
      "\n",
      "  Watch Marlowe transactions on a Cardano node.\n",
      "\n",
      "Available options:\n",
      "  --testnet-magic INTEGER  Network magic. Defaults to the CARDANO_TESTNET_MAGIC\n",
      "                           environment variable's value.\n",
      "  --socket-path SOCKET_FILE\n",
      "                           Location of the cardano-node socket file. Defaults to\n",
      "                           the CARDANO_NODE_SOCKET_PATH environment variable's\n",
      "                           value.\n",
      "  --all                    Whether to also output non-Marlowe transactions.\n",
      "  --cbor                   Whether to output CBOR instead of JSON.\n",
      "  --continue               Whether to continue when the current tip of the chain\n",
      "                           is reached.\n",
      "  --restart POINT_FILE     File for restoring and saving current point on the\n",
      "                           chain.\n",
      "  --out-file OUTPUT_FILE   File in which to store records of Marlowe\n",
      "                           transactions.\n",
      "  -h,--help                Show this help text\n"
     ]
    }
   ],
   "source": [
    "marlowe-cli util watch --help"
   ]
  },
  {
   "cell_type": "markdown",
   "id": "8c9f76f8-c417-4985-aaa9-6ffe4adea641",
   "metadata": {},
   "source": [
    "### Example\n",
    "\n",
    "```bash\n",
    "$ marlowe-cli util watch --testnet-magic 1566 \\\n",
    "                         --socket-path node.socket\n",
    "```"
   ]
  }
 ],
 "metadata": {
  "kernelspec": {
   "display_name": "Bash - Marlowe",
   "language": "bash",
   "name": "bash_marlowe"
  },
  "language_info": {
   "codemirror_mode": "shell",
   "file_extension": ".sh",
   "mimetype": "text/x-sh",
   "name": "/nix/store/l0wlqpbsvh1pgvhcdhw7qkka3d31si7k-bash-5.1-p8/bin/bash"
  }
 },
 "nbformat": 4,
 "nbformat_minor": 5
}
