{
 "cells": [
  {
   "cell_type": "markdown",
   "id": "71b3d9ec-88dd-4e8f-b734-62876c2f4d6f",
   "metadata": {},
   "source": [
    "# Marlowe CLI `input` Subcommands\n",
    "\n",
    "The `marlowe-cli input` commands generate files for Marlowe inputs."
   ]
  },
  {
   "cell_type": "markdown",
   "id": "37f9a37b-7a3c-433b-afd7-6fb15c43f2cc",
   "metadata": {},
   "source": [
    "## Contents\n",
    "\n",
    "*   [Choose](#choose)\n",
    "*   [Deposit](#deposit)\n",
    "*   [Notify](#notify)"
   ]
  },
  {
   "cell_type": "markdown",
   "id": "830403ef-d579-4fbe-ab14-f96a057b6b09",
   "metadata": {},
   "source": [
    "## Available Commands"
   ]
  },
  {
   "cell_type": "code",
   "execution_count": 1,
   "id": "335c2362-39c8-4560-a43f-a0b04f318a9c",
   "metadata": {},
   "outputs": [
    {
     "name": "stdout",
     "output_type": "stream",
     "text": [
      "Usage: marlowe-cli input COMMAND\n",
      "\n",
      "  Create inputs to a contract.\n",
      "\n",
      "Available options:\n",
      "  -h,--help                Show this help text\n",
      "\n",
      "Low-level commands for creating inputs to a contract:\n",
      "  choose                   Create Marlowe input for a choice.\n",
      "  deposit                  Create Marlowe input for a deposit.\n",
      "  notify                   Create Marlowe input for a notification.\n"
     ]
    }
   ],
   "source": [
    "marlowe-cli input --help"
   ]
  },
  {
   "cell_type": "markdown",
   "id": "7568aa71-43a4-4055-97bf-1162c39c8e92",
   "metadata": {},
   "source": [
    "## Choose"
   ]
  },
  {
   "cell_type": "code",
   "execution_count": 2,
   "id": "ac4261ca-59ad-4593-a690-9fd2d1c418fd",
   "metadata": {},
   "outputs": [
    {
     "name": "stdout",
     "output_type": "stream",
     "text": [
      "Usage: marlowe-cli input choose --choice-name NAME --choice-party PARTY\n",
      "                                --choice-number INTEGER [--out-file OUTPUT_FILE]\n",
      "\n",
      "  Create Marlowe input for a choice.\n",
      "\n",
      "Available options:\n",
      "  --choice-name NAME       The name of the choice made.\n",
      "  --choice-party PARTY     The party making the choice.\n",
      "  --choice-number INTEGER  The number chosen.\n",
      "  --out-file OUTPUT_FILE   JSON output file for contract input.\n",
      "  -h,--help                Show this help text\n"
     ]
    }
   ],
   "source": [
    "marlowe-cli input choose --help"
   ]
  },
  {
   "cell_type": "markdown",
   "id": "40f01706-6bf3-40ad-aff5-38605aeb7418",
   "metadata": {},
   "source": [
    "### Example\n",
    "\n",
    "This invocation of `marlowe-cli input choose` has Christopher Marlowe choose the \"ADA/GBP Price\" with value 1,000,000. It creates the Marlowe input file [input-1.input](input-1.input)."
   ]
  },
  {
   "cell_type": "code",
   "execution_count": 3,
   "id": "2c7432c6-c6ad-4eda-981d-7bf1c0bd4b1a",
   "metadata": {},
   "outputs": [],
   "source": [
    "marlowe-cli input choose --choice-party 'Role=Christopher Marlowe' \\\n",
    "                         --choice-name 'ADA/GBP Price' \\\n",
    "                         --choice-number 1000000 \\\n",
    "                         --out-file input-1.input"
   ]
  },
  {
   "cell_type": "code",
   "execution_count": 4,
   "id": "fa56a8c5-6ec6-4d0d-83e4-3bdbba4af311",
   "metadata": {},
   "outputs": [
    {
     "name": "stdout",
     "output_type": "stream",
     "text": [
      "for_choice_id:\n",
      "  choice_name: ADA/GBP Price\n",
      "  choice_owner:\n",
      "    role_token: Christopher Marlowe\n",
      "input_that_chooses_num: 1000000\n"
     ]
    }
   ],
   "source": [
    "json2yaml input-1.input"
   ]
  },
  {
   "cell_type": "markdown",
   "id": "9c00b580-664d-467d-acf5-ba146b07b718",
   "metadata": {},
   "source": [
    "## Deposit"
   ]
  },
  {
   "cell_type": "code",
   "execution_count": 5,
   "id": "f494b136-57db-49ad-9d67-9f90c9a67fbe",
   "metadata": {},
   "outputs": [
    {
     "name": "stdout",
     "output_type": "stream",
     "text": [
      "Usage: marlowe-cli input deposit --deposit-account PARTY --deposit-party PARTY \n",
      "                                 [--deposit-token TOKEN]\n",
      "                                 --deposit-amount INTEGER \n",
      "                                 [--out-file OUTPUT_FILE]\n",
      "\n",
      "  Create Marlowe input for a deposit.\n",
      "\n",
      "Available options:\n",
      "  --deposit-account PARTY  The account for the deposit.\n",
      "  --deposit-party PARTY    The party making the deposit.\n",
      "  --deposit-token TOKEN    The token being deposited, if not Ada.\n",
      "  --deposit-amount INTEGER The amount of token being deposited.\n",
      "  --out-file OUTPUT_FILE   JSON output file for contract input.\n",
      "  -h,--help                Show this help text\n"
     ]
    }
   ],
   "source": [
    "marlowe-cli input deposit --help"
   ]
  },
  {
   "cell_type": "markdown",
   "id": "bf133e34-1032-42a5-82df-e4c4de5687d4",
   "metadata": {},
   "source": [
    "### Example\n",
    "\n",
    "This invocation of `marlowe-cli input deposit` has Christopher Marlowe deposit 1000 ADA into the account of Francis Bacon. It creates the Marlowe input file [input-2.input](input-2.input)."
   ]
  },
  {
   "cell_type": "code",
   "execution_count": 6,
   "id": "887c37e7-cfba-46a7-8643-2df49da80784",
   "metadata": {},
   "outputs": [],
   "source": [
    "marlowe-cli input deposit --deposit-party 'Role=Christopher Marlowe' \\\n",
    "                          --deposit-amount 1000000000 \\\n",
    "                          --deposit-account 'Role=Francis Bacon' \\\n",
    "                          --out-file input-2.input"
   ]
  },
  {
   "cell_type": "code",
   "execution_count": 7,
   "id": "c0366e34-560a-4a2e-a28b-9f7a99d02ac4",
   "metadata": {},
   "outputs": [
    {
     "name": "stdout",
     "output_type": "stream",
     "text": [
      "input_from_party:\n",
      "  role_token: Christopher Marlowe\n",
      "into_account:\n",
      "  role_token: Francis Bacon\n",
      "of_token:\n",
      "  currency_symbol: ''\n",
      "  token_name: ''\n",
      "that_deposits: 1000000000\n"
     ]
    }
   ],
   "source": [
    "json2yaml input-2.input"
   ]
  },
  {
   "cell_type": "markdown",
   "id": "40f6179e-d0e2-42d2-a348-1795298c8cd6",
   "metadata": {},
   "source": [
    "## Notify"
   ]
  },
  {
   "cell_type": "code",
   "execution_count": 8,
   "id": "68b9bca6-814a-4984-ae2c-c817f959d4d5",
   "metadata": {},
   "outputs": [
    {
     "name": "stdout",
     "output_type": "stream",
     "text": [
      "Usage: marlowe-cli input notify [--out-file OUTPUT_FILE]\n",
      "\n",
      "  Create Marlowe input for a notification.\n",
      "\n",
      "Available options:\n",
      "  --out-file OUTPUT_FILE   JSON output file for contract input.\n",
      "  -h,--help                Show this help text\n"
     ]
    }
   ],
   "source": [
    "marlowe-cli input notify --help"
   ]
  },
  {
   "cell_type": "markdown",
   "id": "83d54d28-34c8-4cf6-aa61-8f76e34ddb64",
   "metadata": {},
   "source": [
    "### Example\n",
    "\n",
    "This invocation of `marlowe-cli input notify` simply notifices a contract to progress. It creates the Marlowe input file [input-3.input](input-3.input)."
   ]
  },
  {
   "cell_type": "code",
   "execution_count": 9,
   "id": "b6e4930d-c01f-48ab-a2ea-6b3aabbfef37",
   "metadata": {},
   "outputs": [],
   "source": [
    "marlowe-cli input notify --out-file input-3.input"
   ]
  },
  {
   "cell_type": "code",
   "execution_count": 10,
   "id": "ac5cddd6-a5d0-49f4-8a23-380b33413e42",
   "metadata": {},
   "outputs": [
    {
     "name": "stdout",
     "output_type": "stream",
     "text": [
      "input_notify\n",
      "...\n"
     ]
    }
   ],
   "source": [
    "json2yaml input-3.input"
   ]
  }
 ],
 "metadata": {
  "kernelspec": {
   "display_name": "Bash - Marlowe",
   "language": "bash",
   "name": "bash_marlowe"
  },
  "language_info": {
   "codemirror_mode": "shell",
   "file_extension": ".sh",
   "mimetype": "text/x-sh",
   "name": "/nix/store/l0wlqpbsvh1pgvhcdhw7qkka3d31si7k-bash-5.1-p8/bin/bash"
  }
 },
 "nbformat": 4,
 "nbformat_minor": 5
}
