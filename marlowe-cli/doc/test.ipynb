{
 "cells": [
  {
   "cell_type": "markdown",
   "id": "ff7f6ae1-8059-4780-9576-4a067d072b9b",
   "metadata": {},
   "source": [
    "# Marlowe CLI `test` Commands\n",
    "\n",
    "The `marlowe-cli test` command provided scripted testing of Marlowe contracts."
   ]
  },
  {
   "cell_type": "markdown",
   "id": "35865b92-ce2c-49c5-883a-1689a19e5ea6",
   "metadata": {
    "jp-MarkdownHeadingCollapsed": true,
    "tags": []
   },
   "source": [
    "## Contents\n",
    "\n",
    "*   [Contracts](#contracts)"
   ]
  },
  {
   "cell_type": "markdown",
   "id": "20a37344-fa8f-4b1b-b7d6-e920f4969eaf",
   "metadata": {},
   "source": [
    "## Available Commands"
   ]
  },
  {
   "cell_type": "code",
   "execution_count": 1,
   "id": "42aa6f11-5fab-44c2-b688-999d32390204",
   "metadata": {},
   "outputs": [
    {
     "name": "stdout",
     "output_type": "stream",
     "text": [
      "Usage: marlowe-cli test COMMAND\n",
      "\n",
      "  Test contracts.\n",
      "\n",
      "Available options:\n",
      "  -h,--help                Show this help text\n",
      "\n",
      "Commands for testing contracts:\n",
      "  contracts                Test Marlowe contracts using the Marlowe PAB.\n"
     ]
    }
   ],
   "source": [
    "marlowe-cli test --help"
   ]
  },
  {
   "cell_type": "markdown",
   "id": "783c9049-c62a-4285-8c77-83f4663a953a",
   "metadata": {},
   "source": [
    "## Contracts"
   ]
  },
  {
   "cell_type": "code",
   "execution_count": 3,
   "id": "75f8ec73-12c0-4586-97ed-f2fe0557a81a",
   "metadata": {},
   "outputs": [
    {
     "name": "stdout",
     "output_type": "stream",
     "text": [
      "Usage: marlowe-cli test contracts --testnet-magic INTEGER\n",
      "                                  --socket-path SOCKET_FILE --wallet-url URL\n",
      "                                  --pab-url URL --faucet-key SIGNING_FILE\n",
      "                                  --faucet-address ADDRESS\n",
      "                                  --burn-address ADDRESS --passphrase PASSWORD\n",
      "                                  TEST_FILE\n",
      "\n",
      "  Test Marlowe contracts using the Marlowe PAB.\n",
      "\n",
      "Available options:\n",
      "  --testnet-magic INTEGER  Network magic. Defaults to the CARDANO_TESTNET_MAGIC\n",
      "                           environment variable's value.\n",
      "  --socket-path SOCKET_FILE\n",
      "                           Location of the cardano-node socket file. Defaults to\n",
      "                           the CARDANO_NODE_SOCKET_PATH environment variable's\n",
      "                           value.\n",
      "  --wallet-url URL         URL for Cardano Wallet.\n",
      "  --pab-url URL            URL for the Marlowe PAB.\n",
      "  --faucet-key SIGNING_FILE\n",
      "                           The file containing the signing key for the faucet.\n",
      "  --faucet-address ADDRESS The address of the faucet.\n",
      "  --burn-address ADDRESS   Burn address for discarding used tokens.\n",
      "  --passphrase PASSWORD    The passphrase used for the Marlowe PAB.\n",
      "  TEST_FILE                JSON file containing a test case.\n",
      "  -h,--help                Show this help text\n"
     ]
    }
   ],
   "source": [
    "marlowe-cli test contracts --help"
   ]
  },
  {
   "cell_type": "markdown",
   "id": "70e66daf-8d07-4b35-becd-8438ae541014",
   "metadata": {},
   "source": [
    "### Example\n",
    "\n",
    "See [run-tests.sh](../run-tests.sh) for an example of testing Marlowe contracts on the PAB."
   ]
  }
 ],
 "metadata": {
  "kernelspec": {
   "display_name": "Bash - Marlowe",
   "language": "bash",
   "name": "bash_marlowe"
  },
  "language_info": {
   "codemirror_mode": "shell",
   "file_extension": ".sh",
   "mimetype": "text/x-sh",
   "name": "/nix/store/l0wlqpbsvh1pgvhcdhw7qkka3d31si7k-bash-5.1-p8/bin/bash"
  }
 },
 "nbformat": 4,
 "nbformat_minor": 5
}
