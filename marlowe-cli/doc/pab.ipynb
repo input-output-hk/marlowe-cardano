{
 "cells": [
  {
   "cell_type": "markdown",
   "id": "8d6bb698-345a-4855-b9a9-4a3587995c30",
   "metadata": {},
   "source": [
    "# Marlowe CLI Backend Subcommands\n",
    "\n",
    "These commands interact with Marlowe's Plutus Application Backend (PAB) instance. See [the PAB example](pab-tutorial.md) for a tutorial on using these commands."
   ]
  },
  {
   "cell_type": "markdown",
   "id": "fca18f23-5a4a-49a7-a7ac-29adb2146237",
   "metadata": {},
   "source": [
    "## Contents\n",
    "\n",
    "*   [App](#app)\n",
    "*   [Create](#create)\n",
    "*   [Apply-inputs](#apply-inputs)\n",
    "*   [Redeem](#redeem)\n",
    "*   [Follower](#follower)\n",
    "*   [Follow](#follow)\n",
    "*   [Companion](#companion)\n",
    "*   [Stop](#stop)"
   ]
  },
  {
   "cell_type": "markdown",
   "id": "834d80b7-e5b4-4404-b910-dfe61fb6bd22",
   "metadata": {},
   "source": [
    "## Available Commands"
   ]
  },
  {
   "cell_type": "code",
   "execution_count": 1,
   "id": "92312685-3e85-4d32-9060-e9aa3a9c3f99",
   "metadata": {},
   "outputs": [
    {
     "name": "stdout",
     "output_type": "stream",
     "text": [
      "Usage: marlowe-cli pab COMMAND\n",
      "\n",
      "  Run a contract via the PAB.\n",
      "\n",
      "Available options:\n",
      "  -h,--help                Show this help text\n",
      "\n",
      "Commands for running contracts on the PAB:\n",
      "  app                      Start the Marlowe application contract.\n",
      "  create                   Create a Marlowe contract.\n",
      "  apply-inputs             Apply inputs to a Marlowe contract.\n",
      "  redeem                   Redeem funds from a Marlowe contract.\n",
      "  follower                 Start the Marlowe follower contract.\n",
      "  follow                   Follow a Marlowe contract.\n",
      "  companion                Start the Marlowe companion contract.\n",
      "  stop                     Stop a Marlowe contract.\n"
     ]
    }
   ],
   "source": [
    "marlowe-cli pab --help"
   ]
  },
  {
   "cell_type": "markdown",
   "id": "e6d144dc-338e-4638-b739-6dc7632d0950",
   "metadata": {},
   "source": [
    "## App"
   ]
  },
  {
   "cell_type": "code",
   "execution_count": 2,
   "id": "a330a0b7-8181-4b6b-b5e2-df2ad4f70ac6",
   "metadata": {},
   "outputs": [
    {
     "name": "stdout",
     "output_type": "stream",
     "text": [
      "Usage: marlowe-cli pab app --pab-url URL --wallet WALLET_ID [--loop] \n",
      "                           [--out-params-file PARAMS_FILE] \n",
      "                           [--out-instance-file INSTANCE_FILE]\n",
      "\n",
      "  Start the Marlowe application contract.\n",
      "\n",
      "Available options:\n",
      "  --pab-url URL            URL for the Marlowe PAB.\n",
      "  --wallet WALLET_ID       Wallet ID for the contract.\n",
      "  --loop                   Whether to listen to PAB messages until the contract\n",
      "                           stops.\n",
      "  --out-params-file PARAMS_FILE\n",
      "                           Output file for the Marlowe parameters.\n",
      "  --out-instance-file INSTANCE_FILE\n",
      "                           Output file for the instance ID.\n",
      "  -h,--help                Show this help text\n"
     ]
    }
   ],
   "source": [
    "marlowe-cli pab app --help"
   ]
  },
  {
   "cell_type": "markdown",
   "id": "bca6f0fc-4685-4518-851a-5612f3a41233",
   "metadata": {},
   "source": [
    "## Create"
   ]
  },
  {
   "cell_type": "code",
   "execution_count": 3,
   "id": "2d3b7116-e856-4d57-b83a-d50c6b975d24",
   "metadata": {},
   "outputs": [
    {
     "name": "stdout",
     "output_type": "stream",
     "text": [
      "Usage: marlowe-cli pab create --pab-url URL --instance-file INSTANCE_FILE\n",
      "                              --contract-file CONTRACT_FILE \n",
      "                              [--owner ROLE=ADDRESS]\n",
      "\n",
      "  Create a Marlowe contract.\n",
      "\n",
      "Available options:\n",
      "  --pab-url URL            URL for the Marlowe PAB.\n",
      "  --instance-file INSTANCE_FILE\n",
      "                           Input file for the instance ID.\n",
      "  --contract-file CONTRACT_FILE\n",
      "                           JSON input file for the contract.\n",
      "  --owner ROLE=ADDRESS     The role name and its address.\n",
      "  -h,--help                Show this help text\n"
     ]
    }
   ],
   "source": [
    "marlowe-cli pab create --help"
   ]
  },
  {
   "cell_type": "markdown",
   "id": "ece2f11a-dcc2-4d36-992a-c770da4432a5",
   "metadata": {},
   "source": [
    "## Apply-Inputs"
   ]
  },
  {
   "cell_type": "code",
   "execution_count": 4,
   "id": "52689233-cc41-4392-8178-a50652ed380c",
   "metadata": {},
   "outputs": [
    {
     "name": "stdout",
     "output_type": "stream",
     "text": [
      "Usage: marlowe-cli pab apply-inputs \n",
      "         --pab-url URL --instance-file INSTANCE_FILE --params-file PARAMS_FILE \n",
      "         [--deposit-account PARTY --deposit-party PARTY [--deposit-token TOKEN]\n",
      "           --deposit-amount INTEGER |\n",
      "           --choice-name NAME --choice-party PARTY --choice-number INTEGER | \n",
      "           --notify] --invalid-before POSIX_TIME --invalid-hereafter POSIX_TIME\n",
      "\n",
      "  Apply inputs to a Marlowe contract.\n",
      "\n",
      "Available options:\n",
      "  --pab-url URL            URL for the Marlowe PAB.\n",
      "  --instance-file INSTANCE_FILE\n",
      "                           Input file for the instance ID.\n",
      "  --params-file PARAMS_FILE\n",
      "                           JSON input file for the Marlowe parameters.\n",
      "  --deposit-account PARTY  The account for the deposit.\n",
      "  --deposit-party PARTY    The party making the deposit.\n",
      "  --deposit-token TOKEN    The token being deposited, if not Ada.\n",
      "  --deposit-amount INTEGER The amount of token being deposited.\n",
      "  --choice-name NAME       The name of the choice made.\n",
      "  --choice-party PARTY     The party making the choice.\n",
      "  --choice-number INTEGER  The number chosen.\n",
      "  --notify                 Notify the contract.\n",
      "  --invalid-before POSIX_TIME\n",
      "                           Minimum time for the input, in POSIX milliseconds.\n",
      "  --invalid-hereafter POSIX_TIME\n",
      "                           Maximum time for the input, in POSIX milliseconds.\n",
      "  -h,--help                Show this help text\n"
     ]
    }
   ],
   "source": [
    "marlowe-cli pab apply-inputs --help"
   ]
  },
  {
   "cell_type": "markdown",
   "id": "db6bfc23-7ae1-40b9-95cf-47f5ff8e9151",
   "metadata": {},
   "source": [
    "## Redeem"
   ]
  },
  {
   "cell_type": "code",
   "execution_count": 5,
   "id": "be3cbd1f-0dfb-4227-adca-6c6299bbb411",
   "metadata": {},
   "outputs": [
    {
     "name": "stdout",
     "output_type": "stream",
     "text": [
      "Usage: marlowe-cli pab redeem --pab-url URL --instance-file INSTANCE_FILE\n",
      "                              --params-file PARAMS_FILE --owner ROLE=ADDRESS\n",
      "\n",
      "  Redeem funds from a Marlowe contract.\n",
      "\n",
      "Available options:\n",
      "  --pab-url URL            URL for the Marlowe PAB.\n",
      "  --instance-file INSTANCE_FILE\n",
      "                           Input file for the instance ID.\n",
      "  --params-file PARAMS_FILE\n",
      "                           JSON input file for the Marlowe parameters.\n",
      "  --owner ROLE=ADDRESS     The role name and its address.\n",
      "  -h,--help                Show this help text\n"
     ]
    }
   ],
   "source": [
    "marlowe-cli pab redeem --help"
   ]
  },
  {
   "cell_type": "markdown",
   "id": "75cd5753-c6ac-4b9e-8b43-c15988d02371",
   "metadata": {},
   "source": [
    "## Follower"
   ]
  },
  {
   "cell_type": "code",
   "execution_count": 6,
   "id": "df538028-fbe5-4fc9-8423-9207fe2504ed",
   "metadata": {},
   "outputs": [
    {
     "name": "stdout",
     "output_type": "stream",
     "text": [
      "Usage: marlowe-cli pab follower --pab-url URL --wallet WALLET_ID [--loop] \n",
      "                                [--out-file INSTANCE_FILE]\n",
      "\n",
      "  Start the Marlowe follower contract.\n",
      "\n",
      "Available options:\n",
      "  --pab-url URL            URL for the Marlowe PAB.\n",
      "  --wallet WALLET_ID       Wallet ID for the contract.\n",
      "  --loop                   Whether to listen to PAB messages until the contract\n",
      "                           stops.\n",
      "  --out-file INSTANCE_FILE Output file for the instance ID.\n",
      "  -h,--help                Show this help text\n"
     ]
    }
   ],
   "source": [
    "marlowe-cli pab follower --help"
   ]
  },
  {
   "cell_type": "markdown",
   "id": "72c9ca9a-60e1-4a98-8cc2-d72eb08ab5e8",
   "metadata": {},
   "source": [
    "## Follow"
   ]
  },
  {
   "cell_type": "code",
   "execution_count": 7,
   "id": "98534a52-c0b3-4b6e-8c27-d46367285c80",
   "metadata": {},
   "outputs": [
    {
     "name": "stdout",
     "output_type": "stream",
     "text": [
      "Usage: marlowe-cli pab follow --pab-url URL --instance-file INSTANCE_FILE\n",
      "                              --params-file PARAMS_FILE\n",
      "\n",
      "  Follow a Marlowe contract.\n",
      "\n",
      "Available options:\n",
      "  --pab-url URL            URL for the Marlowe PAB.\n",
      "  --instance-file INSTANCE_FILE\n",
      "                           Input file for the instance ID.\n",
      "  --params-file PARAMS_FILE\n",
      "                           JSON input file for the Marlowe parameters.\n",
      "  -h,--help                Show this help text\n"
     ]
    }
   ],
   "source": [
    "marlowe-cli pab follow --help"
   ]
  },
  {
   "cell_type": "markdown",
   "id": "03e574a6-3746-4f5f-9253-a8b0fb19ea08",
   "metadata": {},
   "source": [
    "## Companion"
   ]
  },
  {
   "cell_type": "code",
   "execution_count": 8,
   "id": "28914669-d712-4697-bf42-a2c5b1384cd3",
   "metadata": {},
   "outputs": [
    {
     "name": "stdout",
     "output_type": "stream",
     "text": [
      "Usage: marlowe-cli pab companion --pab-url URL --wallet WALLET_ID [--loop] \n",
      "                                 [--out-file INSTANCE_FILE]\n",
      "\n",
      "  Start the Marlowe companion contract.\n",
      "\n",
      "Available options:\n",
      "  --pab-url URL            URL for the Marlowe PAB.\n",
      "  --wallet WALLET_ID       Wallet ID for the contract.\n",
      "  --loop                   Whether to listen to PAB messages until the contract\n",
      "                           stops.\n",
      "  --out-file INSTANCE_FILE Output file for the instance ID.\n",
      "  -h,--help                Show this help text\n"
     ]
    }
   ],
   "source": [
    "marlowe-cli pab companion --help"
   ]
  },
  {
   "cell_type": "markdown",
   "id": "e502ba2f-b57d-4f34-9362-23e702575d26",
   "metadata": {},
   "source": [
    "## Stop"
   ]
  },
  {
   "cell_type": "code",
   "execution_count": 9,
   "id": "724423cc-a1a3-4481-a8f6-9ccf1ace7e33",
   "metadata": {},
   "outputs": [
    {
     "name": "stdout",
     "output_type": "stream",
     "text": [
      "Usage: marlowe-cli pab stop --pab-url URL --instance-file INSTANCE_FILE\n",
      "\n",
      "  Stop a Marlowe contract.\n",
      "\n",
      "Available options:\n",
      "  --pab-url URL            URL for the Marlowe PAB.\n",
      "  --instance-file INSTANCE_FILE\n",
      "                           Input file for the instance ID.\n",
      "  -h,--help                Show this help text\n"
     ]
    }
   ],
   "source": [
    "marlowe-cli pab stop --help"
   ]
  }
 ],
 "metadata": {
  "kernelspec": {
   "display_name": "Bash - Marlowe",
   "language": "bash",
   "name": "bash_marlowe"
  },
  "language_info": {
   "codemirror_mode": "shell",
   "file_extension": ".sh",
   "mimetype": "text/x-sh",
   "name": "/nix/store/l0wlqpbsvh1pgvhcdhw7qkka3d31si7k-bash-5.1-p8/bin/bash"
  }
 },
 "nbformat": 4,
 "nbformat_minor": 5
}
