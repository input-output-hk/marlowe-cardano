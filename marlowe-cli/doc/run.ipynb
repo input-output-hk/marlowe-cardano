{
 "cells": [
  {
   "cell_type": "markdown",
   "id": "4925a719-369e-4680-9f5d-1c6fb124cde4",
   "metadata": {
    "tags": []
   },
   "source": [
    "# Marlowe CLI `run` Subcommands\n",
    "\n",
    "The `marlowe-cli run` subcommands support [a high-level workflow](../ReadMe.md#high-level-workflow) for interacting with Marlowe contracts without dealing with the\n",
    "underlying its Plutus mechanics.\n",
    "\n",
    "The [\"contract for differences\" example](../examples/cfd/ReadMe.md) illustrates the use of `marlowe-cli run`."
   ]
  },
  {
   "cell_type": "markdown",
   "id": "5bcd0449-cc35-47dd-83f9-d210e13c8c76",
   "metadata": {},
   "source": [
    "## Contents\n",
    "\n",
    "*   [Initialize](#initialize)\n",
    "*   [Prepare](#prepare)\n",
    "*   [Execute](#execute)\n",
    "*   [Withdraw](#withdraw)"
   ]
  },
  {
   "cell_type": "markdown",
   "id": "1bd03868-3150-4a7b-8cc7-d00a688c97a5",
   "metadata": {},
   "source": [
    "## Available Commands"
   ]
  },
  {
   "cell_type": "code",
   "execution_count": 1,
   "id": "d36155bd-ae39-4c9a-8c83-5d9ea80410ef",
   "metadata": {},
   "outputs": [
    {
     "name": "stdout",
     "output_type": "stream",
     "text": [
      "Usage: marlowe-cli run COMMAND\n",
      "\n",
      "  Run a contract.\n",
      "\n",
      "Available options:\n",
      "  -h,--help                Show this help text\n",
      "\n",
      "Commands for running contracts:\n",
      "  execute                  Run a Marlowe transaction.\n",
      "  initialize               Initialize the first transaction of a Marlowe\n",
      "                           contract and write output to a JSON file.\n",
      "  prepare                  Prepare the next step of a Marlowe contract and write\n",
      "                           the output to a JSON file.\n",
      "  withdraw                 Withdraw funds from the Marlowe role address.\n"
     ]
    }
   ],
   "source": [
    "marlowe-cli run --help"
   ]
  },
  {
   "cell_type": "markdown",
   "id": "e5e80a2a-3f8c-4de3-a43f-842e5b9a7834",
   "metadata": {},
   "source": [
    "## Initialize"
   ]
  },
  {
   "cell_type": "code",
   "execution_count": 2,
   "id": "01dfb154-c04b-43d4-a12e-92df2d5cdbdd",
   "metadata": {},
   "outputs": [
    {
     "name": "stdout",
     "output_type": "stream",
     "text": [
      "Usage: marlowe-cli run initialize --testnet-magic INTEGER\n",
      "                                  --socket-path SOCKET_FILE \n",
      "                                  [--stake-address ADDRESS] \n",
      "                                  [--roles-currency CURRENCY_SYMBOL]\n",
      "                                  --contract-file CONTRACT_FILE\n",
      "                                  --state-file STATE_FILE \n",
      "                                  [--out-file OUTPUT_FILE] [--merkleize] \n",
      "                                  [--print-stats]\n",
      "\n",
      "  Initialize the first transaction of a Marlowe contract and write output to a\n",
      "  JSON file.\n",
      "\n",
      "Available options:\n",
      "  --testnet-magic INTEGER  Network magic. Defaults to the CARDANO_TESTNET_MAGIC\n",
      "                           environment variable's value.\n",
      "  --socket-path SOCKET_FILE\n",
      "                           Location of the cardano-node socket file. Defaults to\n",
      "                           the CARDANO_NODE_SOCKET_PATH environment variable's\n",
      "                           value.\n",
      "  --stake-address ADDRESS  Stake address, if any.\n",
      "  --roles-currency CURRENCY_SYMBOL\n",
      "                           The currency symbol for roles, if any.\n",
      "  --contract-file CONTRACT_FILE\n",
      "                           JSON input file for the contract.\n",
      "  --state-file STATE_FILE  JSON input file for the contract state.\n",
      "  --out-file OUTPUT_FILE   JSON output file for initialize.\n",
      "  --merkleize              Whether to deeply merkleize the contract.\n",
      "  --print-stats            Print statistics.\n",
      "  -h,--help                Show this help text\n"
     ]
    }
   ],
   "source": [
    "marlowe-cli run initialize --help"
   ]
  },
  {
   "cell_type": "markdown",
   "id": "f216e063-2671-48f7-b5cf-fc003274bc90",
   "metadata": {},
   "source": [
    "### Example\n",
    "\n",
    "Here is a sample invocation of `marlowe-cli run initialize`: it takes the initial contract [run-1.contract](run-1.contract) file and state file [run-1.state](run-1.state) as input and it outputs the comprehensive bundle of Marlowe transaction information [run-1.marlowe](run-1.marlowe).\n",
    "\n",
    "```bash\n",
    "$ marlowe-cli run initialize --testnet-magic 1566 \\\n",
    "                             --socket-path node.socket \\\n",
    "                             --roles-currency d0e2ebf0a20c10d870d447854d178b2b0928ae1ce8661a01acfc662f \\\n",
    "                             --contract-file run-1.contract \\\n",
    "                             --state-file run-1.state \\\n",
    "                             --out-file run-1.marlowe \\\n",
    "                             --print-stats\n",
    "```\n",
    "\n",
    "```console\n",
    "Validator size: 12415\n",
    "Base-validator cost: ExBudget {exBudgetCPU = ExCPU 24652144, exBudgetMemory = ExMemory 82900}\n",
    "```"
   ]
  },
  {
   "cell_type": "markdown",
   "id": "a6cfa7b2-76fc-49f1-ae71-482d6b1a4f12",
   "metadata": {},
   "source": [
    "## Prepare"
   ]
  },
  {
   "cell_type": "code",
   "execution_count": 3,
   "id": "5c03a672-ddf3-4600-8aca-dca2bcc1ef24",
   "metadata": {},
   "outputs": [
    {
     "name": "stdout",
     "output_type": "stream",
     "text": [
      "Usage: marlowe-cli run prepare --marlowe-file MARLOWE_FILE \n",
      "                               [--deposit-account PARTY --deposit-party PARTY \n",
      "                                 [--deposit-token TOKEN]\n",
      "                                 --deposit-amount INTEGER |\n",
      "                                 --choice-name NAME --choice-party PARTY\n",
      "                                 --choice-number INTEGER |\n",
      "                                 --notify] --invalid-before POSIX_TIME\n",
      "                               --invalid-hereafter POSIX_TIME \n",
      "                               [--out-file OUTPUT_FILE] [--print-stats]\n",
      "\n",
      "  Prepare the next step of a Marlowe contract and write the output to a JSON\n",
      "  file.\n",
      "\n",
      "Available options:\n",
      "  --marlowe-file MARLOWE_FILE\n",
      "                           JSON input file for the Marlowe state and contract.\n",
      "  --deposit-account PARTY  The account for the deposit.\n",
      "  --deposit-party PARTY    The party making the deposit.\n",
      "  --deposit-token TOKEN    The token being deposited, if not Ada.\n",
      "  --deposit-amount INTEGER The amount of token being deposited.\n",
      "  --choice-name NAME       The name of the choice made.\n",
      "  --choice-party PARTY     The party making the choice.\n",
      "  --choice-number INTEGER  The number chosen.\n",
      "  --notify                 Notify the contract.\n",
      "  --invalid-before POSIX_TIME\n",
      "                           Minimum time for the input, in POSIX milliseconds.\n",
      "  --invalid-hereafter POSIX_TIME\n",
      "                           Maximum time for the input, in POSIX milliseconds.\n",
      "  --out-file OUTPUT_FILE   JSON output file for contract.\n",
      "  --print-stats            Print statistics.\n",
      "  -h,--help                Show this help text\n"
     ]
    }
   ],
   "source": [
    "marlowe-cli run prepare --help"
   ]
  },
  {
   "cell_type": "markdown",
   "id": "2380d24e-a62b-425b-b6bd-fefb523983c4",
   "metadata": {},
   "source": [
    "### Example\n",
    "\n",
    "Here is a sample invocation of `marlowe-cli run prepare`: it takes the comprehensive Marlowe transaction information [run-1.marlowe](run-1.marlowe) as input and it outputs the new comphrensive Marlowe transaction information [run-2.marlowe](run-2.marlowe) that results from applying the input to the contract.\n",
    "\n",
    "```bash\n",
    "$ marlowe-cli run prepare --marlowe-file run-1.marlowe \\\n",
    "                          --deposit-account Role=FB \\\n",
    "                          --deposit-party Role=FB \\\n",
    "                          --deposit-amount 7000000 \\\n",
    "                          --invalid-before 1655566811000 \\\n",
    "                          --invalid-hereafter 1655578691000 \\\n",
    "                          --out-file run-2.marlowe \\\n",
    "                          --print-stats\n",
    "```\n",
    "\n",
    "```console\n",
    "Datum size: 901\n",
    "```"
   ]
  },
  {
   "cell_type": "markdown",
   "id": "a019cc8d-f8c3-4220-b18b-ad180272e52f",
   "metadata": {},
   "source": [
    "## Execute"
   ]
  },
  {
   "cell_type": "code",
   "execution_count": 4,
   "id": "8b1cf266-b515-483c-8d0c-945e84cfa808",
   "metadata": {},
   "outputs": [
    {
     "name": "stdout",
     "output_type": "stream",
     "text": [
      "Usage: marlowe-cli run execute --testnet-magic INTEGER --socket-path SOCKET_FILE\n",
      "                               [--marlowe-in-file MARLOWE_FILE\n",
      "                                 --tx-in-marlowe TXID#TXIX\n",
      "                                 --tx-in-collateral TXID#TXIX]\n",
      "                               --marlowe-out-file MARLOWE_FILE \n",
      "                               [--tx-in TXID#TXIX] [--tx-out ADDRESS+VALUE]\n",
      "                               --change-address ADDRESS \n",
      "                               [--required-signer SIGNING_FILE] \n",
      "                               [--metadata-file METADATA_FILE] --out-file FILE \n",
      "                               [--submit SECONDS] [--print-stats] \n",
      "                               [--script-invalid]\n",
      "\n",
      "  Run a Marlowe transaction.\n",
      "\n",
      "Available options:\n",
      "  --testnet-magic INTEGER  Network magic. Defaults to the CARDANO_TESTNET_MAGIC\n",
      "                           environment variable's value.\n",
      "  --socket-path SOCKET_FILE\n",
      "                           Location of the cardano-node socket file. Defaults to\n",
      "                           the CARDANO_NODE_SOCKET_PATH environment variable's\n",
      "                           value.\n",
      "  --marlowe-in-file MARLOWE_FILE\n",
      "                           JSON file with the Marlowe initial state and initial\n",
      "                           contract, if any.\n",
      "  --tx-in-marlowe TXID#TXIX\n",
      "                           UTxO spent from Marlowe contract, if any.\n",
      "  --tx-in-collateral TXID#TXIX\n",
      "                           Collateral for transaction, if any.\n",
      "  --marlowe-out-file MARLOWE_FILE\n",
      "                           JSON file with the Marlowe inputs, final state, and\n",
      "                           final contract.\n",
      "  --tx-in TXID#TXIX        Transaction input in TxId#TxIx format.\n",
      "  --tx-out ADDRESS+VALUE   Transaction output in ADDRESS+VALUE format.\n",
      "  --change-address ADDRESS Address to receive ADA in excess of fee.\n",
      "  --required-signer SIGNING_FILE\n",
      "                           File containing a required signing key.\n",
      "  --metadata-file METADATA_FILE\n",
      "                           JSON file containing metadata.\n",
      "  --out-file FILE          Output file for transaction body.\n",
      "  --submit SECONDS         Also submit the transaction, and wait for\n",
      "                           confirmation.\n",
      "  --print-stats            Print statistics.\n",
      "  --script-invalid         Assert that the transaction is invalid.\n",
      "  -h,--help                Show this help text\n"
     ]
    }
   ],
   "source": [
    "marlowe-cli run execute --help"
   ]
  },
  {
   "cell_type": "markdown",
   "id": "02ea3671-f246-46bb-a68c-9e39c090ad5d",
   "metadata": {},
   "source": [
    "### Example\n",
    "\n",
    "Here is a sample invocation of `marlowe-cli run execute`: it takes the comprehensive Marlowe information for the prior and new transaction, respectively [run-1.marlowe](run-1.marlowe) and [run-2.marlowe](run-2.marlowe) as input and it outputs the Cardano transaction body [run-2.raw](run-2.raw).\n",
    "\n",
    "```bash\n",
    "$ marlowe-cli run execute --testnet-magic 1566 \\\n",
    "                          --socket-path node.socket \\\n",
    "                          --marlowe-in-file run-1.marlowe \\\n",
    "                          --tx-in-marlowe 'c2044f136b94a9c8f272ef8108c859733d43e2afc36ffb0c68de0d4894f44cbe#1' \\\n",
    "                          --tx-in-collateral 'e338b26be569e3dc79f9a07c4d75ab79fdde9534860f984635556dac3a620b1c#0' \\\n",
    "                          --tx-in 'e338b26be569e3dc79f9a07c4d75ab79fdde9534860f984635556dac3a620b1c#0' \\\n",
    "                          --tx-in 'e338b26be569e3dc79f9a07c4d75ab79fdde9534860f984635556dac3a620b1c#3' \\\n",
    "                          --required-signer francis-beaumont.skey \\\n",
    "                          --marlowe-out-file run-2.marlowe \\\n",
    "                          --tx-out 'addr_test1vzzpzll6gsl9npf8wfhk2zg8sy2we50jcqc7w8w46gua2pqq7cw2q+2000000+1 d0e2ebf0a20c10d870d447854d178b2b0928ae1ce8661a01acfc662f.FB' \\\n",
    "                          --change-address addr_test1vzzpzll6gsl9npf8wfhk2zg8sy2we50jcqc7w8w46gua2pqq7cw2q \\\n",
    "                          --out-file run-2.raw \\\n",
    "                          --print-stats \\\n",
    "                          --submit=600\n",
    "```\n",
    "\n",
    "```console\n",
    "Fee: Lovelace 1392248\n",
    "Size: 14729 / 32768 = 44%\n",
    "Execution units:\n",
    "  Memory: 6779848 / 30000000 = 22%\n",
    "  Steps: 2467753419 / 10000000000 = 24%\n",
    "```"
   ]
  },
  {
   "cell_type": "markdown",
   "id": "95504dcf-d6e6-4fea-969f-7160563b3d5b",
   "metadata": {},
   "source": [
    "## Withdraw"
   ]
  },
  {
   "cell_type": "code",
   "execution_count": 5,
   "id": "e3b9e92e-e0c4-4365-a891-a69559b6be17",
   "metadata": {},
   "outputs": [
    {
     "name": "stdout",
     "output_type": "stream",
     "text": [
      "Usage: marlowe-cli run withdraw --testnet-magic INTEGER\n",
      "                                --socket-path SOCKET_FILE\n",
      "                                --marlowe-file MARLOWE_FILE\n",
      "                                --role-name TOKEN_NAME\n",
      "                                --tx-in-collateral TXID#TXIX [--tx-in TXID#TXIX]\n",
      "                                [--tx-out ADDRESS+VALUE]\n",
      "                                --change-address ADDRESS \n",
      "                                [--required-signer SIGNING_FILE] \n",
      "                                [--metadata-file METADATA_FILE] --out-file FILE \n",
      "                                [--submit SECONDS] [--print-stats] \n",
      "                                [--script-invalid]\n",
      "\n",
      "  Withdraw funds from the Marlowe role address.\n",
      "\n",
      "Available options:\n",
      "  --testnet-magic INTEGER  Network magic. Defaults to the CARDANO_TESTNET_MAGIC\n",
      "                           environment variable's value.\n",
      "  --socket-path SOCKET_FILE\n",
      "                           Location of the cardano-node socket file. Defaults to\n",
      "                           the CARDANO_NODE_SOCKET_PATH environment variable's\n",
      "                           value.\n",
      "  --marlowe-file MARLOWE_FILE\n",
      "                           JSON file with the Marlowe inputs, final state, and\n",
      "                           final contract.\n",
      "  --role-name TOKEN_NAME   The role name for the withdrawal.\n",
      "  --tx-in-collateral TXID#TXIX\n",
      "                           Collateral for transaction.\n",
      "  --tx-in TXID#TXIX        Transaction input in TxId#TxIx format.\n",
      "  --tx-out ADDRESS+VALUE   Transaction output in ADDRESS+VALUE format.\n",
      "  --change-address ADDRESS Address to receive ADA in excess of fee.\n",
      "  --required-signer SIGNING_FILE\n",
      "                           File containing a required signing key.\n",
      "  --metadata-file METADATA_FILE\n",
      "                           JSON file containing metadata.\n",
      "  --out-file FILE          Output file for transaction body.\n",
      "  --submit SECONDS         Also submit the transaction, and wait for\n",
      "                           confirmation.\n",
      "  --print-stats            Print statistics.\n",
      "  --script-invalid         Assert that the transaction is invalid.\n",
      "  -h,--help                Show this help text\n"
     ]
    }
   ],
   "source": [
    "marlowe-cli run withdraw --help"
   ]
  },
  {
   "cell_type": "markdown",
   "id": "da033e25-8880-49b1-b877-ab851c5a5eba",
   "metadata": {},
   "source": [
    "### Example\n",
    "\n",
    "Here is a sample invocation of `marlowe-cli run withdraw`: it takes the comprehensive Marlowe transaction information [run-5.marlowe](run-5.marlowe) as input and it outputs the Cardano transaction body file [run-6.raw](run-6.raw).\n",
    "\n",
    "```bash\n",
    "$ marlowe-cli run withdraw --testnet-magic 1566 \\\n",
    "                           --socket-path node.socket \\\n",
    "                           --marlowe-file run-5.marlowe \\\n",
    "                           --role-name FB \\\n",
    "                           --tx-in 'cc618dd85f19629509a6eacf11cd59357c18e3e9699c0b02797889e0c717d2f9#0' \\\n",
    "                           --tx-in 'cc618dd85f19629509a6eacf11cd59357c18e3e9699c0b02797889e0c717d2f9#2' \\\n",
    "                           --tx-in-collateral 'cc618dd85f19629509a6eacf11cd59357c18e3e9699c0b02797889e0c717d2f9#0' \\\n",
    "                           --required-signer francis-beaumont.skey \\\n",
    "                           --tx-out 'addr_test1vzzpzll6gsl9npf8wfhk2zg8sy2we50jcqc7w8w46gua2pqq7cw2q+2000000+1 d0e2ebf0a20c10d870d447854d178b2b0928ae1ce8661a01acfc662f.FB' \\\n",
    "                           --change-address addr_test1vzzpzll6gsl9npf8wfhk2zg8sy2we50jcqc7w8w46gua2pqq7cw2q \\\n",
    "                           --out-file run-6.raw \\\n",
    "                           --print-stats \\\n",
    "                           --submit=600\n",
    "```\n",
    "\n",
    "```console\n",
    "Fee: Lovelace 426563\n",
    "Size: 2885 / 32768 = 8%\n",
    "Execution units:\n",
    "  Memory: 1461810 / 30000000 = 4%\n",
    "  Steps: 557930172 / 10000000000 = 5%\n",
    "```"
   ]
  }
 ],
 "metadata": {
  "kernelspec": {
   "display_name": "Bash - Marlowe",
   "language": "bash",
   "name": "bash_marlowe"
  },
  "language_info": {
   "codemirror_mode": "shell",
   "file_extension": ".sh",
   "mimetype": "text/x-sh",
   "name": "/nix/store/l0wlqpbsvh1pgvhcdhw7qkka3d31si7k-bash-5.1-p8/bin/bash"
  }
 },
 "nbformat": 4,
 "nbformat_minor": 5
}
