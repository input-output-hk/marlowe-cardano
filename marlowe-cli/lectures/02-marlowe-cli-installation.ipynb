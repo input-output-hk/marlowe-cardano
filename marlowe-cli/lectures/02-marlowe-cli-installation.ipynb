{
 "cells": [
  {
   "cell_type": "markdown",
   "id": "b96cf36b-4b21-467f-8e25-db40832915f9",
   "metadata": {},
   "source": [
    "<font color=red>This lecture is a work in progress that will be finalized on 21 June 2022.</font>"
   ]
  },
  {
   "cell_type": "markdown",
   "id": "1e664cfd-0a31-4c11-9d3e-81c544774fa4",
   "metadata": {
    "tags": []
   },
   "source": [
    "# Installing Marlowe CLI and Associated Tools\n",
    "\n",
    "This lecture describes how to install `marlowe-cli` and the other tools needed to run Marlowe contracts.\n",
    "\n",
    "👉 Installation assistance is available on the Marlowe Discord channel <<https://discord.com/channels/826816523368005654/936295815926927390/936316494042779698>>."
   ]
  },
  {
   "cell_type": "markdown",
   "id": "4fcffebd-b7cb-4a8d-9567-aa947b170e13",
   "metadata": {},
   "source": [
    "## Prerequisites\n",
    "\n",
    "In addition to `marlowe-cli` and other Cardano tools, the following common command-line tools are used in these lectures. Install these if they aren't already installed.\n",
    "\n",
    "*   `bash`\n",
    "*   `git`\n",
    "*   `curl`\n",
    "*   `sed`\n",
    "*   `tr`\n",
    "*   `basenc`\n",
    "*   `jq`"
   ]
  },
  {
   "cell_type": "markdown",
   "id": "c1875a93-e87d-4b6a-b67c-0a95f902a827",
   "metadata": {},
   "source": [
    "## Cloning the Git Repository for Marlowe\n",
    "\n",
    "The Marlowe repository for Cardano is located at <<https://github.com/input-output-hk/marlowe-cardano.git>>.\n",
    "*   This repository contains the Marlowe source code, documentation, examples, and test cases.\n",
    "*   The repository is needed if you want to use Marlowe from a Nix shell.\n",
    "*   It is convenient, but not strictly required, if you install Marlowe tools from the Marlowe Pioneers Daedalus installation.\n",
    "\n",
    "The following `git` command will copy the repository onto your machine."
   ]
  },
  {
   "cell_type": "code",
   "execution_count": 1,
   "id": "40d48cb2-5e71-4fc9-8f30-01cbad682f55",
   "metadata": {
    "tags": []
   },
   "outputs": [
    {
     "name": "stdout",
     "output_type": "stream",
     "text": [
      "Cloning into 'marlowe-cardano'...\n",
      "remote: Enumerating objects: 127844, done.\u001b[K\n",
      "remote: Counting objects: 100% (617/617), done.\u001b[K\n",
      "remote: Compressing objects: 100% (327/327), done.\u001b[K\n",
      "remote: Total 127844 (delta 294), reused 583 (delta 276), pack-reused 127227\u001b[K\n",
      "Receiving objects: 100% (127844/127844), 119.44 MiB | 7.89 MiB/s, done.\n",
      "Resolving deltas: 100% (81794/81794), done.\n",
      "Note: switching to '0951b134e7744f1a4fafc8efbd0d2d1ddbba8e46'.\n"
     ]
    }
   ],
   "source": [
    "git clone git@github.com:input-output-hk/marlowe-cardano.git -b mpp-cli-lectures"
   ]
  },
  {
   "cell_type": "markdown",
   "id": "5eca6031-f2e6-47d8-bcea-a3798e618a26",
   "metadata": {
    "tags": []
   },
   "source": [
    "## Installating Daedalus\n",
    "\n",
    "Daedalus is the Cardano full-node wallet. The version for Marlowe Pioneers runs a Cardano node on the Marlowe Pioneers test network.\n",
    "\n",
    "1.  Download the version of Daedalus for your operating system from <<https://buildkite.com/input-output-hk/daedalus/builds?branch=feature%2Fddw-1039-marlowe-pioneers-installer>>.\n",
    "2.  Run the Daedalus installer.\n",
    "3.  Launch Daedalus from the menu of programs installed in your operating system."
   ]
  },
  {
   "cell_type": "markdown",
   "id": "46d2eca0-69f7-4748-9357-2627e83148d7",
   "metadata": {},
   "source": [
    "🤔 ***Do we want to include screenshots of Daedalus in this slide and in subsequent slides?***"
   ]
  },
  {
   "cell_type": "markdown",
   "id": "99a5f18b-666b-4f73-b26a-f57bcf467416",
   "metadata": {},
   "source": [
    "## Creating a Cardano Wallet using Daedalus\n",
    "\n",
    "1.  Click \"Add wallet\" on the main screen.\n",
    "2.  Click \"Create\".\n",
    "3.  Enter a nickname for the wallet and a password.\n",
    "4.  Daedalus will display a seed phrase and instructions for securing it. Keep a record of this seed phrase so that you can use the wallet at the command line or in Marlowe Run.\n",
    "\n",
    "If you previously created a wallet using Marlowe Run, instead of creating a new wallet you can use the \"Restore\" function in place of \"Create\".\n",
    "\n",
    "🚫 Never reuse the seed phrase from any `mainnet` wallet on a test network like the Marlowe Pioneers testnet."
   ]
  },
  {
   "cell_type": "markdown",
   "id": "9246acf2-e69a-427e-952c-268c18c56961",
   "metadata": {},
   "source": [
    "🤔 ***Is this a strong enough warning, or should we say more?***"
   ]
  },
  {
   "cell_type": "markdown",
   "id": "57969c08-b513-4049-bc90-109c356e1272",
   "metadata": {
    "tags": []
   },
   "source": [
    "## Installing Marlowe CLI and Cardano Tools\n",
    "\n",
    "NixOS and the Nix package manager are available at <<https://nixos.org/>>.\n",
    " \n",
    "👉 See <<https://github.com/input-output-hk/marlowe-cardano/blob/main/README.adoc#how-to-set-up-the-iohk-binary-caches>> on how to set up binary caches for the Nix build. This will greatly speed the build process.\n",
    "\n",
    "Once the binary caches have been set up, simply enter a nix shell."
   ]
  },
  {
   "cell_type": "code",
   "execution_count": 2,
   "id": "59f075ec-6304-4ca3-a9aa-2dd3cbacbbd0",
   "metadata": {},
   "outputs": [],
   "source": [
    "nix-shell marlowe-cardano/shell.nix"
   ]
  },
  {
   "cell_type": "markdown",
   "id": "e8267ce7-61bb-4045-8e78-dc4eca55cb65",
   "metadata": {},
   "source": [
    "The `marlowe-cli` and the other required executable programs are all available within that shell."
   ]
  },
  {
   "cell_type": "code",
   "execution_count": 3,
   "id": "d562e1d2-2f60-4c70-bd29-91a28647cab9",
   "metadata": {},
   "outputs": [
    {
     "name": "stdout",
     "output_type": "stream",
     "text": [
      "marlowe-cli 0.0.3.1 @ \n"
     ]
    }
   ],
   "source": [
    "marlowe-cli --version"
   ]
  },
  {
   "cell_type": "code",
   "execution_count": 4,
   "id": "15d2f058-437b-4d12-9f7d-cd145d85d1e9",
   "metadata": {},
   "outputs": [
    {
     "name": "stdout",
     "output_type": "stream",
     "text": [
      "cardano-cli 1.34.0 - linux-x86_64 - ghc-8.10\n",
      "git rev 0000000000000000000000000000000000000000\n"
     ]
    }
   ],
   "source": [
    "cardano-cli --version"
   ]
  },
  {
   "cell_type": "code",
   "execution_count": 5,
   "id": "3c7ba431-fbb2-4bb8-9ff9-9b41b1dccec0",
   "metadata": {},
   "outputs": [
    {
     "name": "stdout",
     "output_type": "stream",
     "text": [
      "v2022-01-18 (git revision: 9d5ab5ea5e51b4fab7e77cd1af6bc00822fe9d77)\n"
     ]
    }
   ],
   "source": [
    "cardano-wallet version"
   ]
  },
  {
   "cell_type": "markdown",
   "id": "5ad0a90c-0887-4991-894f-096ae9fe4665",
   "metadata": {},
   "source": [
    "## Creating a Payment and Signing Keys\n",
    "\n",
    "In order to sign transactions in `marlowe-cli`, we need the payment and signing keys for the first address in the wallet. In this example, let's assume that the seed phrase for the wallet is stored in a file name `my-wallet.seed`. (The seed phrase could have been generated by Daedalus, by Marlowe, or by the command `cardano-wallet recovery-phrase generate`.) The following sequence of commands, which much be executed within the Nix shell for Marlowe CLI, will create payment and signing keys."
   ]
  },
  {
   "cell_type": "code",
   "execution_count": 6,
   "id": "8f888b4c-88d0-4652-a337-79f8c6893b66",
   "metadata": {},
   "outputs": [
    {
     "name": "stdout",
     "output_type": "stream",
     "text": [
      "broccoli tool napkin scale lab liquid staff turn equal city sail company govern hold rent act nurse orbit torch normal update master valley twenty\n"
     ]
    }
   ],
   "source": [
    "# View the seed phrase.\n",
    "cat my-wallet.seed"
   ]
  },
  {
   "cell_type": "code",
   "execution_count": 7,
   "id": "3fac406f-6d50-4081-a780-080fe5b00ffd",
   "metadata": {},
   "outputs": [],
   "source": [
    "# Store the payment signing key in the file `my-walley.skey`.\n",
    "cat my-wallet.seed | cardano-wallet key from-recovery-phrase Shelley | cardano-wallet key child 1852H/1815H/0H/0/0 > my-wallet.prv\n",
    "cardano-cli key convert-cardano-address-key --shelley-payment-key --signing-key-file my-wallet.prv --out-file my-wallet.skey\n",
    "rm my-wallet.prv\n",
    "\n",
    "# Store the payment verification key in the file `my-wallet.vkey`.\n",
    "cardano-cli key verification-key --signing-key-file my-wallet.skey --verification-key-file my-wallet.vkey\n",
    "\n",
    "# Compute the address.\n",
    "cardano-cli address build --testnet-magic 1567 --payment-verification-key-file my-wallet.vkey > my-wallet.address"
   ]
  },
  {
   "cell_type": "markdown",
   "id": "881ae3cc-1c98-40d3-94ec-07e6b0936734",
   "metadata": {},
   "source": [
    "Here are the keys:"
   ]
  },
  {
   "cell_type": "code",
   "execution_count": 8,
   "id": "1061ccc6-8141-459d-8fd9-1b6363daec53",
   "metadata": {},
   "outputs": [
    {
     "name": "stdout",
     "output_type": "stream",
     "text": [
      "-rw------- 1 pioneer marlowe 367 Apr 29 07:39 my-wallet.skey\n",
      "-rw------- 1 pioneer marlowe 244 Apr 29 07:39 my-wallet.vkey\n"
     ]
    }
   ],
   "source": [
    "ls -l my-wallet.skey my-wallet.vkey"
   ]
  },
  {
   "cell_type": "markdown",
   "id": "3433628c-b1b3-4ace-9bb2-e58e579ec088",
   "metadata": {},
   "source": [
    "Here is the address:"
   ]
  },
  {
   "cell_type": "code",
   "execution_count": 9,
   "id": "031a5573-c60a-4a8f-bb75-8881cf24ad81",
   "metadata": {},
   "outputs": [
    {
     "name": "stdout",
     "output_type": "stream",
     "text": [
      "addr_test1vp8fta3c0g85dd9pu4fp4tsjq955w2zz76y2ywumsmky86s5vzhzg"
     ]
    }
   ],
   "source": [
    "cat my-wallet.address"
   ]
  },
  {
   "cell_type": "markdown",
   "id": "b217c2a3-fd1d-4a55-9292-94f837b65ddb",
   "metadata": {},
   "source": [
    "## Funding the Address of the Daedalus Wallet\n",
    "\n",
    "You should have received an API key for the Marlowe Pioneers faucet. Call this `FAUCET_KEY`.\n",
    "\n",
    "Run the following command to request test ADA."
   ]
  },
  {
   "cell_type": "code",
   "execution_count": 10,
   "id": "8f2717b3-5238-4318-8f7e-c0799b655f89",
   "metadata": {},
   "outputs": [
    {
     "name": "stdout",
     "output_type": "stream",
     "text": [
      "{\"success\":true,\"amount\":1000000000000,\"unit\":\"lovelace\",\"fee\":167965,\"minLovelace\":999978,\"txid\":\"d8c062e3d350723938cae4f1708c4c5521ad349cd345c923f52f2ccba87fe311\"}"
     ]
    }
   ],
   "source": [
    "curl -k -X POST https://faucet.pioneers.testnet.marlowe-finance.io/send-money/$(cat my-wallet.address)?apiKey=$FAUCET_KEY"
   ]
  },
  {
   "cell_type": "markdown",
   "id": "2b09bc70-60a6-423c-af00-cb511bb31dc8",
   "metadata": {},
   "source": [
    "In a minute or so, Daedalus should list the transaction that sent the funds and update the wallet's balance."
   ]
  },
  {
   "cell_type": "markdown",
   "id": "533b5960-1de5-4e97-89bd-630e7d058d23",
   "metadata": {
    "tags": []
   },
   "source": [
    "## Finding the Cardano Node Socket\n",
    "\n",
    "Start Daedalus, which will run a Cardano node on the Marlowe Pioneers test network. Some `marlowe-cli` commands require a connection to the *node socket*.\n",
    "*   On Linux systems, the node socket will be located at `~/.local/share/Daedalus/marlowe_pioneers/cardano-node.socket`.\n",
    "*   On MacOS systems, the node socket will be located at `~/Library/Application Support/Daedalus Marlowe Pioneers/cardano-node.socket`.\n",
    "*   On Windows systems, 😕 ***TO BE WRITTEN*** .\n",
    "\n",
    "Set the shell variable `CARDANO_NODE_SOCKET_PATH` to equal the location of this socket file."
   ]
  },
  {
   "cell_type": "code",
   "execution_count": 11,
   "id": "3752c1b2-7687-4ff8-a1db-79eae137fe4f",
   "metadata": {},
   "outputs": [],
   "source": [
    "export CARDANO_NODE_SOCKET_PATH=~/.local/share/Daedalus/marlowe_pioneers/cardano-node.socket"
   ]
  },
  {
   "cell_type": "markdown",
   "id": "04013ee3-9cee-4ec1-94ab-55737d337b6d",
   "metadata": {},
   "source": [
    "Now we can check that `marlowe-cli` can communicate with the cardano node."
   ]
  },
  {
   "cell_type": "code",
   "execution_count": 12,
   "id": "21c85c9b-f0bf-4d2f-8704-0ad70f5f8752",
   "metadata": {},
   "outputs": [
    {
     "name": "stdout",
     "output_type": "stream",
     "text": [
      "TxIn \"d8c062e3d350723938cae4f1708c4c5521ad349cd345c923f52f2ccba87fe311\" (TxIx 0)\n"
     ]
    }
   ],
   "source": [
    "marlowe-cli util select --testnet-magic 1567 --socket-path \"$CARDANO_NODE_SOCKET_PATH\" $(cat my-wallet.address)"
   ]
  },
  {
   "cell_type": "markdown",
   "id": "675348ab-cffc-44ee-94f5-afdfc396a52b",
   "metadata": {},
   "source": [
    "Also check that `cardano-cli` can communicate with the cardano node."
   ]
  },
  {
   "cell_type": "code",
   "execution_count": 13,
   "id": "47e146a7-c838-4c2f-8cec-38f914547087",
   "metadata": {},
   "outputs": [
    {
     "name": "stdout",
     "output_type": "stream",
     "text": [
      "                           TxHash                                 TxIx        Amount\n",
      "--------------------------------------------------------------------------------------\n",
      "d8c062e3d350723938cae4f1708c4c5521ad349cd345c923f52f2ccba87fe311     0        1000000000000 lovelace + TxOutDatumNone\n"
     ]
    }
   ],
   "source": [
    "cardano-cli query utxo --testnet-magic 1567 --address $(cat my-wallet.address)"
   ]
  },
  {
   "cell_type": "markdown",
   "id": "5ca1ef1e-540a-4f4a-9d0e-929afc5aa4d6",
   "metadata": {},
   "source": [
    "## Troubleshooting\n",
    "\n",
    "😕 ***TO BE WRITTEN*** "
   ]
  },
  {
   "cell_type": "markdown",
   "id": "70d00a44-b646-4f7d-8abe-e7fdec4cddf9",
   "metadata": {},
   "source": [
    "## Resources\n",
    "\n",
    "*   General installation instructions for Marlowe: <<https://github.com/input-output-hk/marlowe-cardano/blob/main/README.adoc>>.\n",
    "*   Plutus Community: <<https://plutus-community.readthedocs.io/en/latest/>>.\n",
    "*   Nix package manage and NixOs: <<https://nixos.org/>>."
   ]
  },
  {
   "cell_type": "markdown",
   "id": "dc794f94-7def-41ce-aec6-c571ddda7fd9",
   "metadata": {},
   "source": [
    "## Summary\n",
    "\n",
    "*   The Daedalus wallet and the Marlowe git repository provide the necessities for running Marlowe contracts.\n",
    "*   Marlowe CLI requires access to a Cardano node such as the one bundled with the Daedalus wallet.\n",
    "*   Several Cardano tools are useful for running Marlowe contracts from the command line:\n",
    "    *   `marlowe-cli`\n",
    "    *   `cardano-cli`\n",
    "    *   `cardano-wallet`\n",
    "*   One needs to create payment and signing keys in order to submit transactions to the blockchain."
   ]
  },
  {
   "cell_type": "markdown",
   "id": "7bc5a75f-7814-49f8-9b3f-436171d89156",
   "metadata": {},
   "source": [
    "## Other Lectures\n",
    "\n",
    "Lectures on Marlowe CLI: <<https://github.com/input-output-hk/marlowe-cardano/blob/mpp-cli-lectures/marlowe-cli/lectures/ReadMe.md>>\n",
    "\n",
    "*   Overview of Marlowe CLI\n",
    "*   ~~Installing Marlowe CLI and Associated Tools~~\n",
    "*   Running Marlowe Contracts without Blockchain Transactions\n",
    "*   Running Marlowe Contacts on the Blockchain\n",
    "*   Running Marlowe Contracts with the Plutus Application Backend (PAB)\n",
    "*   Reference for Marlowe CLI Commands"
   ]
  }
 ],
 "metadata": {
  "kernelspec": {
   "display_name": "Bash - Marlowe",
   "language": "bash",
   "name": "bash_marlowe"
  },
  "language_info": {
   "codemirror_mode": "shell",
   "file_extension": ".sh",
   "mimetype": "text/x-sh",
   "name": "/nix/store/l0wlqpbsvh1pgvhcdhw7qkka3d31si7k-bash-5.1-p8/bin/bash"
  }
 },
 "nbformat": 4,
 "nbformat_minor": 5
}
