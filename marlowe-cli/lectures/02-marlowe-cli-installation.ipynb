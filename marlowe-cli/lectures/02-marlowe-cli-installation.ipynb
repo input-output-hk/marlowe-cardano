{
 "cells": [
  {
   "cell_type": "markdown",
   "id": "1e664cfd-0a31-4c11-9d3e-81c544774fa4",
   "metadata": {
    "tags": []
   },
   "source": [
    "# Installing Marlowe CLI and Associated Tools\n",
    "\n",
    "This lecture describes how to install `marlowe-cli` and the other tools needed to run Marlowe contracts."
   ]
  },
  {
   "cell_type": "markdown",
   "id": "4fcffebd-b7cb-4a8d-9567-aa947b170e13",
   "metadata": {},
   "source": [
    "## Prerequisites\n",
    "\n",
    "In addition to `marlowe-cli` and other Cardano tools, the following common command-line tools are used in these lectures. Install these if they aren't already installed.\n",
    "\n",
    "*   `bash`\n",
    "*   `git`\n",
    "*   `curl`\n",
    "*   `sed`\n",
    "*   `tr`\n",
    "*   `basenc`\n",
    "*   `jq`\n",
    "*   `json2yaml`"
   ]
  },
  {
   "cell_type": "markdown",
   "id": "5eca6031-f2e6-47d8-bcea-a3798e618a26",
   "metadata": {
    "tags": []
   },
   "source": [
    "## Installating Daedalus\n",
    "\n",
    "Daedalus is the Cardano full-node wallet. The version for Marlowe Pioneers runs a Cardano node on the Marlowe Pioneers test network.\n",
    "\n",
    "1.  Download the version of Daedalus for your operating system.\n",
    "    *   [Linux](https://pioneers.marlowe-finance.io/daedalus/linux)\n",
    "    *   [Mac](https://pioneers.marlowe-finance.io/daedalus/macOS)\n",
    "    *   [Windows](https://pioneers.marlowe-finance.io/daedalus/windows)\n",
    "2.  Run the Daedalus installer.\n",
    "3.  Launch Daedalus from the menu of programs installed in your operating system."
   ]
  },
  {
   "cell_type": "markdown",
   "id": "99a5f18b-666b-4f73-b26a-f57bcf467416",
   "metadata": {},
   "source": [
    "## Creating a Cardano Wallet using Daedalus\n",
    "\n",
    "1.  Click \"Add wallet\" on the main screen.\n",
    "2.  Click \"Create\".\n",
    "3.  Enter a nickname for the wallet and a password.\n",
    "4.  Daedalus will display a seed phrase and instructions for securing it. Keep a record of this seed phrase so that you can use the wallet at the command line or in Marlowe Run.\n",
    "\n",
    "If you previously created a wallet using Marlowe Run, instead of creating a new wallet you can use the \"Restore\" function in place of \"Create\".\n",
    "\n",
    "🚫 Never reuse the seed phrase from any `mainnet` wallet on a test network like the Marlowe Pioneers testnet."
   ]
  },
  {
   "cell_type": "markdown",
   "id": "60d82dd3-9efa-4aa5-9396-831b5302200f",
   "metadata": {},
   "source": [
    "### Funding a Daedalus Wallet on the Marlowe Pioneers Testnet\n",
    "\n",
    "Choose the first address in the Daedalus wallet, and call that `$ADDRESS`. Execute the following cURL command to fund the wallet."
   ]
  },
  {
   "cell_type": "code",
   "execution_count": 1,
   "id": "cd2d541b-a725-40d3-afea-6e68d4591abe",
   "metadata": {},
   "outputs": [],
   "source": [
    "curl -k -X POST https://faucet.pioneers.testnet.marlowe-finance.io/send-money/$ADDRESS"
   ]
  },
  {
   "cell_type": "markdown",
   "id": "57969c08-b513-4049-bc90-109c356e1272",
   "metadata": {
    "tags": []
   },
   "source": [
    "## Installing Marlowe CLI and Cardano Tools"
   ]
  },
  {
   "cell_type": "markdown",
   "id": "6b204438-a020-4a02-8c5b-9869d47cd127",
   "metadata": {},
   "source": [
    "### Using Daedalus for Linux or Mac\n",
    "\n",
    "The Marlowe Daedalus for Linux or Mac comes with `marlowe-cli` and other tools pre-installed. Use the \"Open a Marlowe terminal\" menu item in the \"Daedalus\" menu. This feature is not available in Marlowe Daedalus for Windows.\n",
    "\n",
    "![Accessing the Marlowe terminal.](diagrams/daedalus-terminal-menu.png)\n",
    "\n",
    "![The Marlowe terminal in Daedalus.](diagrams/daedalus-terminal-window.png)"
   ]
  },
  {
   "cell_type": "markdown",
   "id": "5ad93fda-31c5-47b1-bd58-e4449edc2f82",
   "metadata": {
    "tags": []
   },
   "source": [
    "### Using the Nix\n",
    "\n",
    "NixOS and the Nix package manager are available at https://nixos.org/. See also the Plutus Community Docs at https://plutus-community.readthedocs.io/en/latest/.\n",
    " \n",
    "👉 See https://github.com/input-output-hk/marlowe-cardano/blob/main/README.adoc#how-to-set-up-the-iohk-binary-caches on how to set up binary caches for the Nix build. This will greatly speed the build process.\n",
    "\n",
    "Once the binary caches have been set up, clone the Marlowe Git repository.\n",
    "\n",
    "The Marlowe repository for Cardano is located at https://github.com/input-output-hk/marlowe-cardano.git.\n",
    "*   This repository contains the Marlowe source code, documentation, examples, and test cases.\n",
    "*   The repository is needed if you want to use Marlowe from a Nix shell.\n",
    "*   It is convenient, but not strictly required, if you install Marlowe tools from the Marlowe Pioneers Daedalus installation.\n",
    "\n",
    "The following `git` command will copy the repository onto your machine."
   ]
  },
  {
   "cell_type": "code",
   "execution_count": 2,
   "id": "40d48cb2-5e71-4fc9-8f30-01cbad682f55",
   "metadata": {
    "tags": []
   },
   "outputs": [
    {
     "name": "stdout",
     "output_type": "stream",
     "text": [
      "Cloning into 'marlowe-cardano'...\n",
      "remote: Enumerating objects: 127844, done.\u001b[K\n",
      "remote: Counting objects: 100% (617/617), done.\u001b[K\n",
      "remote: Compressing objects: 100% (327/327), done.\u001b[K\n",
      "remote: Total 127844 (delta 294), reused 583 (delta 276), pack-reused 127227\u001b[K\n",
      "Receiving objects: 100% (127844/127844), 119.44 MiB | 7.89 MiB/s, done.\n",
      "Resolving deltas: 100% (81794/81794), done.\n",
      "Note: switching to '0951b134e7744f1a4fafc8efbd0d2d1ddbba8e46'.\n"
     ]
    }
   ],
   "source": [
    "git clone https://github.com/input-output-hk/marlowe-cardano.git -b mpp-cli-lectures"
   ]
  },
  {
   "cell_type": "markdown",
   "id": "941008de-5e4e-40aa-a7b0-c33e0d9bf391",
   "metadata": {},
   "source": [
    "After the git repository has been cloned. Change the default directory to its top folder and open a Nix shell."
   ]
  },
  {
   "cell_type": "code",
   "execution_count": 3,
   "id": "59f075ec-6304-4ca3-a9aa-2dd3cbacbbd0",
   "metadata": {},
   "outputs": [],
   "source": [
    "cd marlowe-cardano\n",
    "nix-shell"
   ]
  },
  {
   "cell_type": "markdown",
   "id": "e8267ce7-61bb-4045-8e78-dc4eca55cb65",
   "metadata": {},
   "source": [
    "The `marlowe-cli` and the other required executable programs are all available within that shell."
   ]
  },
  {
   "cell_type": "code",
   "execution_count": 4,
   "id": "d562e1d2-2f60-4c70-bd29-91a28647cab9",
   "metadata": {},
   "outputs": [
    {
     "name": "stdout",
     "output_type": "stream",
     "text": [
      "marlowe-cli 0.0.4.3\n"
     ]
    }
   ],
   "source": [
    "marlowe-cli --version"
   ]
  },
  {
   "cell_type": "code",
   "execution_count": 5,
   "id": "15d2f058-437b-4d12-9f7d-cd145d85d1e9",
   "metadata": {},
   "outputs": [
    {
     "name": "stdout",
     "output_type": "stream",
     "text": [
      "cardano-cli 1.34.1 - linux-x86_64 - ghc-8.10\n",
      "git rev 0000000000000000000000000000000000000000\n"
     ]
    }
   ],
   "source": [
    "cardano-cli --version"
   ]
  },
  {
   "cell_type": "code",
   "execution_count": 6,
   "id": "3c7ba431-fbb2-4bb8-9ff9-9b41b1dccec0",
   "metadata": {},
   "outputs": [
    {
     "name": "stdout",
     "output_type": "stream",
     "text": [
      "v2022-01-18 (git revision: 0000000000000000000000000000000000000000)\n"
     ]
    }
   ],
   "source": [
    "cardano-wallet version"
   ]
  },
  {
   "cell_type": "markdown",
   "id": "5ad0a90c-0887-4991-894f-096ae9fe4665",
   "metadata": {},
   "source": [
    "## Creating Payment and Signing Keys\n",
    "\n",
    "In order to sign transactions in `marlowe-cli`, we need the payment and signing keys for the first address in the wallet. In this example, let's assume that the seed phrase for the wallet is stored in a file name `my-wallet.seed`. (The seed phrase could have been generated by Daedalus, by Marlowe, or by the command `cardano-wallet recovery-phrase generate`.) The following sequence of commands, which much be executed within the Nix shell for Marlowe CLI, will create payment and signing keys."
   ]
  },
  {
   "cell_type": "code",
   "execution_count": 7,
   "id": "8f888b4c-88d0-4652-a337-79f8c6893b66",
   "metadata": {},
   "outputs": [
    {
     "name": "stdout",
     "output_type": "stream",
     "text": [
      "broccoli tool napkin scale lab liquid staff turn equal city sail company govern hold rent act nurse orbit torch normal update master valley twenty\n"
     ]
    }
   ],
   "source": [
    "# View the seed phrase.\n",
    "cat my-wallet.seed"
   ]
  },
  {
   "cell_type": "code",
   "execution_count": 8,
   "id": "3fac406f-6d50-4081-a780-080fe5b00ffd",
   "metadata": {},
   "outputs": [],
   "source": [
    "# Store the payment signing key in the file `my-walley.skey`.\n",
    "cat my-wallet.seed | cardano-wallet key from-recovery-phrase Shelley | cardano-wallet key child 1852H/1815H/0H/0/0 > my-wallet.prv\n",
    "cardano-cli key convert-cardano-address-key --shelley-payment-key --signing-key-file my-wallet.prv --out-file my-wallet.skey\n",
    "rm my-wallet.prv\n",
    "\n",
    "# Store the payment verification key in the file `my-wallet.vkey`.\n",
    "cardano-cli key verification-key --signing-key-file my-wallet.skey --verification-key-file my-wallet.vkey\n",
    "\n",
    "# Compute the address.\n",
    "cardano-cli address build --testnet-magic 1567 --payment-verification-key-file my-wallet.vkey > my-wallet.address"
   ]
  },
  {
   "cell_type": "markdown",
   "id": "881ae3cc-1c98-40d3-94ec-07e6b0936734",
   "metadata": {},
   "source": [
    "Here are the keys:"
   ]
  },
  {
   "cell_type": "code",
   "execution_count": 9,
   "id": "1061ccc6-8141-459d-8fd9-1b6363daec53",
   "metadata": {},
   "outputs": [
    {
     "name": "stdout",
     "output_type": "stream",
     "text": [
      "-rw------- 1 bbush bbush-upg 367 Jun 23 10:39 my-wallet.skey\n",
      "-rw------- 1 bbush bbush-upg 244 Jun 23 10:39 my-wallet.vkey\n"
     ]
    }
   ],
   "source": [
    "ls -l my-wallet.skey my-wallet.vkey"
   ]
  },
  {
   "cell_type": "markdown",
   "id": "3433628c-b1b3-4ace-9bb2-e58e579ec088",
   "metadata": {},
   "source": [
    "Here is the address:"
   ]
  },
  {
   "cell_type": "code",
   "execution_count": 10,
   "id": "031a5573-c60a-4a8f-bb75-8881cf24ad81",
   "metadata": {},
   "outputs": [
    {
     "name": "stdout",
     "output_type": "stream",
     "text": [
      "addr_test1vzhk6c3qwlgh6dtdmrhhe2857pvzw73t2q8gdyd95f6mvsq9msxgv"
     ]
    }
   ],
   "source": [
    "cat my-wallet.address"
   ]
  },
  {
   "cell_type": "markdown",
   "id": "b217c2a3-fd1d-4a55-9292-94f837b65ddb",
   "metadata": {},
   "source": [
    "## Funding the Address of the Daedalus Wallet\n",
    "\n",
    "Run the following command to request test ADA."
   ]
  },
  {
   "cell_type": "code",
   "execution_count": 11,
   "id": "8f2717b3-5238-4318-8f7e-c0799b655f89",
   "metadata": {},
   "outputs": [
    {
     "name": "stdout",
     "output_type": "stream",
     "text": [
      "{\"success\":true,\"amount\":1000000000,\"unit\":\"lovelace\",\"fee\":167789,\"minLovelace\":999978,\"txid\":\"2395ff913b98019cb7fa8ad87e72a449cad9f026aebb976073e86c72f1849406\"}"
     ]
    }
   ],
   "source": [
    "curl -k -X POST https://faucet.pioneers.testnet.marlowe-finance.io/send-money/$(cat my-wallet.address)"
   ]
  },
  {
   "cell_type": "markdown",
   "id": "2b09bc70-60a6-423c-af00-cb511bb31dc8",
   "metadata": {},
   "source": [
    "In a minute or so, Daedalus should list the transaction that sent the funds and update the wallet's balance."
   ]
  },
  {
   "cell_type": "markdown",
   "id": "533b5960-1de5-4e97-89bd-630e7d058d23",
   "metadata": {
    "tags": []
   },
   "source": [
    "## Finding the Cardano Node Socket\n",
    "\n",
    "Start Daedalus, which will run a Cardano node on the Marlowe Pioneers test network. Some `marlowe-cli` commands require a connection to the *node socket*.\n",
    "*   On Linux systems, the node socket will be located at `~/.local/share/Daedalus/marlowe_pioneers/cardano-node.socket`.\n",
    "*   On MacOS systems, the node socket will be located at `~/Library/Application Support/Daedalus Marlowe Pioneers/cardano-node.socket`.\n",
    "\n",
    "Set the shell variable `CARDANO_NODE_SOCKET_PATH` to equal the location of this socket file."
   ]
  },
  {
   "cell_type": "code",
   "execution_count": 12,
   "id": "3752c1b2-7687-4ff8-a1db-79eae137fe4f",
   "metadata": {},
   "outputs": [],
   "source": [
    "export CARDANO_NODE_SOCKET_PATH=~/.local/share/Daedalus/marlowe_pioneers/cardano-node.socket"
   ]
  },
  {
   "cell_type": "markdown",
   "id": "690f3391-ddad-4b48-b539-0d74cfebda61",
   "metadata": {},
   "source": [
    "Set the shell variable `CARDANO_TESTNET_MAGIC` to the magic number for the test network."
   ]
  },
  {
   "cell_type": "code",
   "execution_count": 13,
   "id": "b16ddd07-4b14-4a68-81b4-2b95c258fe4b",
   "metadata": {},
   "outputs": [],
   "source": [
    "export CARDANO_TESTNET_MAGIC=1567"
   ]
  },
  {
   "cell_type": "markdown",
   "id": "04013ee3-9cee-4ec1-94ab-55737d337b6d",
   "metadata": {},
   "source": [
    "Now we can check that `marlowe-cli` can communicate with the cardano node."
   ]
  },
  {
   "cell_type": "code",
   "execution_count": 14,
   "id": "21c85c9b-f0bf-4d2f-8704-0ad70f5f8752",
   "metadata": {},
   "outputs": [
    {
     "name": "stdout",
     "output_type": "stream",
     "text": [
      "TxIn \"2395ff913b98019cb7fa8ad87e72a449cad9f026aebb976073e86c72f1849406\" (TxIx 0)\n",
      "TxIn \"4876f07f767c78557ef7a8379d5dafc2b4e1572f6b4f52f9e9c278f2423dc4e2\" (TxIx 0)\n",
      "TxIn \"4876f07f767c78557ef7a8379d5dafc2b4e1572f6b4f52f9e9c278f2423dc4e2\" (TxIx 1)\n",
      "TxIn \"4876f07f767c78557ef7a8379d5dafc2b4e1572f6b4f52f9e9c278f2423dc4e2\" (TxIx 2)\n",
      "TxIn \"4876f07f767c78557ef7a8379d5dafc2b4e1572f6b4f52f9e9c278f2423dc4e2\" (TxIx 3)\n",
      "TxIn \"beb74e6f1973506bdd460806b0b4851c4c305476eeb707a51b60bdf191aa50b9\" (TxIx 0)\n"
     ]
    }
   ],
   "source": [
    "marlowe-cli util select $(cat my-wallet.address)"
   ]
  },
  {
   "cell_type": "markdown",
   "id": "675348ab-cffc-44ee-94f5-afdfc396a52b",
   "metadata": {},
   "source": [
    "Also check that `cardano-cli` can communicate with the cardano node."
   ]
  },
  {
   "cell_type": "code",
   "execution_count": 15,
   "id": "47e146a7-c838-4c2f-8cec-38f914547087",
   "metadata": {},
   "outputs": [
    {
     "name": "stdout",
     "output_type": "stream",
     "text": [
      "                           TxHash                                 TxIx        Amount\n",
      "--------------------------------------------------------------------------------------\n",
      "2395ff913b98019cb7fa8ad87e72a449cad9f026aebb976073e86c72f1849406     0        1000000000 lovelace + TxOutDatumNone\n",
      "4876f07f767c78557ef7a8379d5dafc2b4e1572f6b4f52f9e9c278f2423dc4e2     0        346602935 lovelace + TxOutDatumNone\n",
      "4876f07f767c78557ef7a8379d5dafc2b4e1572f6b4f52f9e9c278f2423dc4e2     1        2000000 lovelace + 1 1c964b2b89b6c9d2a8e2d564a3541b3b355d0451825ad0481a63f86c.434d + TxOutDatumNone\n",
      "4876f07f767c78557ef7a8379d5dafc2b4e1572f6b4f52f9e9c278f2423dc4e2     2        2000000 lovelace + 1 1c964b2b89b6c9d2a8e2d564a3541b3b355d0451825ad0481a63f86c.544d + TxOutDatumNone\n",
      "4876f07f767c78557ef7a8379d5dafc2b4e1572f6b4f52f9e9c278f2423dc4e2     3        2000000 lovelace + 1 1c964b2b89b6c9d2a8e2d564a3541b3b355d0451825ad0481a63f86c.4642 + TxOutDatumNone\n",
      "beb74e6f1973506bdd460806b0b4851c4c305476eeb707a51b60bdf191aa50b9     0        639627462 lovelace + TxOutDatumNone\n"
     ]
    }
   ],
   "source": [
    "cardano-cli query utxo --testnet-magic \"$CARDANO_TESTNET_MAGIC\" --address $(cat my-wallet.address)"
   ]
  },
  {
   "cell_type": "markdown",
   "id": "5ca1ef1e-540a-4f4a-9d0e-929afc5aa4d6",
   "metadata": {},
   "source": [
    "## Troubleshooting\n",
    "\n",
    "👉 Installation assistance is available on the Marlowe Discord channel https://discord.com/channels/826816523368005654/936295815926927390/936316494042779698."
   ]
  },
  {
   "cell_type": "markdown",
   "id": "70d00a44-b646-4f7d-8abe-e7fdec4cddf9",
   "metadata": {},
   "source": [
    "## Resources\n",
    "\n",
    "*   General installation instructions for Marlowe: https://github.com/input-output-hk/marlowe-cardano/blob/main/README.adoc.\n",
    "*   Plutus Community: https://plutus-community.readthedocs.io/en/latest/.\n",
    "*   Nix package manage and NixOs: https://nixos.org/.\n",
    "*   Marlowe CLI documentation: https://github.com/input-output-hk/marlowe-cardano/blob/mpp-cli-lectures/marlowe-cli/ReadMe.md."
   ]
  },
  {
   "cell_type": "markdown",
   "id": "dc794f94-7def-41ce-aec6-c571ddda7fd9",
   "metadata": {},
   "source": [
    "## Summary\n",
    "\n",
    "*   The Daedalus wallet and the Marlowe git repository provide the necessities for running Marlowe contracts.\n",
    "*   Marlowe CLI requires access to a Cardano node such as the one bundled with the Daedalus wallet.\n",
    "*   Several Cardano tools are useful for running Marlowe contracts from the command line:\n",
    "    *   `marlowe-cli`\n",
    "    *   `cardano-cli`\n",
    "    *   `cardano-wallet`\n",
    "*   One needs to create payment and signing keys in order to submit transactions to the blockchain."
   ]
  },
  {
   "cell_type": "markdown",
   "id": "7bc5a75f-7814-49f8-9b3f-436171d89156",
   "metadata": {},
   "source": [
    "## Other Lectures\n",
    "\n",
    "Lectures on Marlowe CLI: https://github.com/input-output-hk/marlowe-cardano/blob/mpp-cli-lectures/marlowe-cli/lectures/ReadMe.md\n",
    "\n",
    "*   [Overview of Marlowe CLI](01-marlowe-cli-overview.ipynb)\n",
    "*   ~~Installing Marlowe CLI and Associated Tools~~\n",
    "*   [Running Marlowe Contracts without Blockchain Transactions](03-marlowe-cli-abstract.ipynb)\n",
    "*   [Running Marlowe Contacts on the Blockchain](04-marlowe-cli-concrete.ipynb)\n",
    "*   [Running Marlowe Contracts with the Marlowe Backend](05-marlowe-cli-pab.ipynb)"
   ]
  }
 ],
 "metadata": {
  "kernelspec": {
   "display_name": "Bash - Marlowe",
   "language": "bash",
   "name": "bash_marlowe"
  },
  "language_info": {
   "codemirror_mode": "shell",
   "file_extension": ".sh",
   "mimetype": "text/x-sh",
   "name": "/nix/store/zwjm0gln1vk7x1akpyz0yxjsd1yc46gi-bash-5.1-p16/bin/bash"
  }
 },
 "nbformat": 4,
 "nbformat_minor": 5
}
