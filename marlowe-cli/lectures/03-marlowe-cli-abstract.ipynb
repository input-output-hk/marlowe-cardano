{
 "cells": [
  {
   "cell_type": "markdown",
   "id": "8e94be62-c392-4f83-9994-805970b19b9b",
   "metadata": {},
   "source": [
    "<font color=red>This lecture is a work in progress that will be finalized on 21 June 2022.</font>"
   ]
  },
  {
   "cell_type": "markdown",
   "id": "1e664cfd-0a31-4c11-9d3e-81c544774fa4",
   "metadata": {},
   "source": [
    "# Running Marlowe Contracts without Blockchain Transactions\n",
    "\n",
    "This lecture shows how to execute a contract using `marlowe-cli`, but without submitting transactions on the blockchain. This lets one simulate the operation of a contract."
   ]
  },
  {
   "cell_type": "markdown",
   "id": "af7a99d5-c4bf-43d8-9ec1-84c5e29f1338",
   "metadata": {},
   "source": [
    "## Escrow Contract\n",
    "\n",
    "*   A buyer wishes to purchase an item.\n",
    "*   They deposit funds.\n",
    "*   After they deposit funds they may report a problem with the purchase.\n",
    "*   If they don’t report a problem, then the funds are released to the seller.\n",
    "*   If they do report a problem, the seller may agree that there is a problem (in which case the buyer receives a refund) or they may dispute that there is a problem.\n",
    "*   If the seller disputes the problem, then a mediator decides who receives the funds.\n",
    "*   The contract has logic to handle situations where a party fails to act in a timely manner."
   ]
  },
  {
   "cell_type": "markdown",
   "id": "3e357d4b-b909-4a4b-93f7-8935d052813b",
   "metadata": {},
   "source": [
    "### Flow Chart for Escrow Example\n",
    "\n",
    "![Execution paths through the escrow example contract.](diagrams/escrow-flow.png)"
   ]
  },
  {
   "cell_type": "markdown",
   "id": "f8a2996a-52b5-4fb5-8142-ba321f0ca842",
   "metadata": {},
   "source": [
    "### Escrow Example in Marlowe Format\n",
    "\n",
    "```haskell\n",
    "When\n",
    "  [\n",
    "    Case (Deposit (Role \"Francis Beaumont (the seller)\") (Role \"Thomas Middleton (the buyer)\") ada 256)\n",
    "      ( When\n",
    "        [\n",
    "          Case (Choice (ChoiceId \"Everything is alright\" (Role \"Thomas Middleton (the buyer)\")) [Bound 0 0])\n",
    "            Close\n",
    "        , Case (Choice (ChoiceId \"Report problem\" (Role \"Thomas Middleton (the buyer)\")) [Bound 1 1])\n",
    "            ( Pay (Role \"Francis Beaumont (the seller)\") (Account (Role \"Thomas Middleton (the buyer)\")) ada 256 )\n",
    "            ( When\n",
    "              [\n",
    "                Case (Choice (ChoiceId \"Confirm problem\" (Role \"Francis Beaumont (the seller)\")) [Bound 1 1])\n",
    "                  Close\n",
    "              , Case (Choice (ChoiceId \"Dispute problem\" (Role \"Francis Beaumont (the seller)\")) [Bound 0 0])\n",
    "                ( When\n",
    "                  [\n",
    "                    Case (Choice (ChoiceId \"Dismiss claim\" (Role \"Christopher Marlowe (the mediator)\")) [Bound 0 0])\n",
    "                      ( Pay (Role \"Thomas Middleton (the buyer)\") (Account (Role \"Francis Beaumont (the seller)\")) ada 256 )\n",
    "                      Close\n",
    "                  , Case (Choice (ChoiceId \"Confirm claim\" (Role \"Christopher Marlowe (the mediator)\")) [Bound 1 1])\n",
    "                      Close\n",
    "                  ]\n",
    "                  (SlotParam \"Mediation deadline\")\n",
    "                  Close\n",
    "                )\n",
    "              ]\n",
    "              (SlotParam \"Dispute deadline\")\n",
    "            ) Close\n",
    "        ]\n",
    "        (SlotParam \"Complaint deadline\")\n",
    "        Close\n",
    "      )\n",
    "  ]\n",
    "  (SlotParam \"Payment deadline\")\n",
    "  Close\n",
    "```"
   ]
  },
  {
   "cell_type": "markdown",
   "id": "e90bb06b-77ed-4fde-b729-fbbc100533e3",
   "metadata": {},
   "source": [
    "### Escrow Example in Blockly\n",
    "\n",
    "![Blockly representation of escrow example contract, split into three columns.](diagrams/escrow-blockly.png)"
   ]
  },
  {
   "cell_type": "markdown",
   "id": "f47388a9-9fb5-40ac-a78d-d4300133ae50",
   "metadata": {},
   "source": [
    "### Four of the Eight Pathways through the Escrow Contract\n",
    "\n",
    "![Four possible executions of the escrow contract.](diagrams/escrow-paths.png)"
   ]
  },
  {
   "cell_type": "markdown",
   "id": "1905153e-da60-4df7-9cf3-89d7855487ea",
   "metadata": {},
   "source": [
    "😨 ***REDRAW AND REVISE LAYOUT***"
   ]
  },
  {
   "cell_type": "markdown",
   "id": "b97ea3fc-9747-4fb8-a729-6a9901d29ccd",
   "metadata": {},
   "source": [
    "## Scenario\n",
    "\n",
    "![Overview of escrow example.](diagrams/escrow-detailed-setup.png)"
   ]
  },
  {
   "cell_type": "markdown",
   "id": "9d8f1cf3-30b0-45df-a4d0-2209505b074c",
   "metadata": {},
   "source": [
    "😨 ***REDRAW AND REVISE LAYOUT***"
   ]
  },
  {
   "cell_type": "markdown",
   "id": "74869494-63ec-40ec-961c-d103297693e0",
   "metadata": {},
   "source": [
    "## Select the Parameters for the Contract\n",
    "\n",
    "First use some environment variables to store some values"
   ]
  },
  {
   "cell_type": "code",
   "execution_count": 1,
   "id": "d992d571-1086-4180-9e62-973ac6e4bceb",
   "metadata": {},
   "outputs": [],
   "source": [
    "INITIAL_LOVELACE=3000000             # The creation transaction will deposit 3₳.\n",
    "PRICE=256000000                      # The prices of the item is 256₳.\n",
    "\n",
    "SELLER_ROLE=FB                       # Francis Beaumont (FB) is the seller.\n",
    "BUYER_ROLE=TM                        # Thomas Middleton is the buyer.\n",
    "MEDIATOR_ROLE=CM                     # Christopher Marlowe is the mediator.\n",
    "\n",
    "NOW=$(($(date -u +%s)*1000))         # The current time in POSIX milliseconds.\n",
    "HOUR=$((60*60*1000))                 # One hour, in POSIX milliseconds.\n",
    "PAYMENT_DEADLINE=$((NOW+10*HOUR))    # The payment deadline, ten hours from now.\n",
    "COMPLAINT_DEADLINE=$((NOW+12*HOUR))  # The complaint deadline, twelve hours from now.\n",
    "DISPUTE_DEADLINE=$((NOW+14*HOUR))    # The dispute deadline, fourteen hours from now.\n",
    "MEDIATION_DEADLINE=$((NOW+16*HOUR))  # The mediation deadline, sixteen hours from now."
   ]
  },
  {
   "cell_type": "markdown",
   "id": "89c92546-24c3-44bb-8fde-cf2af480a6b9",
   "metadata": {},
   "source": [
    "## Create the Contract and Its Initial State\n",
    "\n",
    "Now create the contract:\n",
    "*   The contract is stored in the JSON file `tx-1.contract`.\n",
    "*   The initial state is stored in the JSON file `tx-1.state`."
   ]
  },
  {
   "cell_type": "code",
   "execution_count": 2,
   "id": "8dd1e78b-3640-41c6-8ec4-a803142e8b5e",
   "metadata": {},
   "outputs": [],
   "source": [
    "marlowe-cli template escrow --minimum-ada \"$INITIAL_LOVELACE\"          \\\n",
    "                            --price \"$PRICE\"                           \\\n",
    "                            --seller \"Role=$SELLER_ROLE\"               \\\n",
    "                            --buyer \"Role=$BUYER_ROLE\"                 \\\n",
    "                            --mediator \"Role=$MEDIATOR_ROLE\"           \\\n",
    "                            --payment-deadline \"$PAYMENT_DEADLINE\"     \\\n",
    "                            --complaint-deadline \"$COMPLAINT_DEADLINE\" \\\n",
    "                            --dispute-deadline \"$DISPUTE_DEADLINE\"     \\\n",
    "                            --mediation-deadline \"$MEDIATION_DEADLINE\" \\\n",
    "                            --out-contract-file tx-1.contract          \\\n",
    "                            --out-state-file    tx-1.state"
   ]
  },
  {
   "cell_type": "markdown",
   "id": "e02b3f67-6c39-4173-8f3d-35193837e83e",
   "metadata": {},
   "source": [
    "## Alternative: Download a Contract from Marlowe Playground\n",
    "\n",
    "Instead of using the `marlowe-cli template` command, one can create a contract in Marlowe Playground using Haskell, JavaScript, or Blockly.\n",
    "1.  Design the contract in Marlowe Playground.\n",
    "2.  Press the \"Send to Simulator\" button.\n",
    "3.  Click \"Download as JSON\" to download the contract, saving it as `tx-1.contract`.\n",
    "\n",
    "One also needs to create the initial state `tx-1.state`, which consists of (a) account balances, (b) preexisting choices, (c) preexisting assignments of variables, and the minimum POSIX time when the contract can be started.\n",
    "\n",
    "Simply create a JSON file with no choices or bound values and just one account with the minimum ADA deposit for the role that creates the contract (in this case, `$MEDIATOR_ROLE`)."
   ]
  },
  {
   "cell_type": "code",
   "execution_count": 3,
   "id": "37c53cbf-dc9f-46fc-a1bc-043964b6055e",
   "metadata": {},
   "outputs": [],
   "source": [
    "cat << EOI > tx-1.state\n",
    "{\n",
    "    \"accounts\": [\n",
    "        [[{\"role_token\": \"$MEDIATOR_ROLE\"}, {\"currency_symbol\": \"\", \"token_name\": \"\"}], $INITIAL_LOVELACE]\n",
    "    ],\n",
    "    \"choices\": [],\n",
    "    \"boundValues\": [],\n",
    "    \"minTime\": 1\n",
    "}\n",
    "EOI"
   ]
  },
  {
   "cell_type": "markdown",
   "id": "16db1982-0ccf-4107-b120-2865978936c0",
   "metadata": {},
   "source": [
    "## Minting the Role Currency\n",
    "\n",
    "Previously we created a wallet with a signing key file `my-wallet.skey` and address file `my-wallet.address`. We also located the Cardano node socket path at `$CARDANO_NODE_SOCKET_PATH`. Now we use these to mint role tokens for use in the Marlowe contract."
   ]
  },
  {
   "cell_type": "code",
   "execution_count": 4,
   "id": "26ac972f-2a43-4234-ac45-bf91b76832f7",
   "metadata": {},
   "outputs": [],
   "source": [
    "export CARDANO_NODE_SOCKET_PATH=~/.local/share/Daedalus/marlowe_pioneers/cardano-node.socket"
   ]
  },
  {
   "cell_type": "code",
   "execution_count": 5,
   "id": "0c1e7688-8f40-4aef-8fd9-cb46f0c83c16",
   "metadata": {},
   "outputs": [
    {
     "name": "stdout",
     "output_type": "stream",
     "text": [
      "PolicyID \"38fa7eb06a9bc7f219c4a7e06aaa37f2d92569f6ef350c42323910fa\"\n"
     ]
    }
   ],
   "source": [
    "marlowe-cli util mint --testnet-magic 1567                      \\\n",
    "                      --socket-path \"$CARDANO_NODE_SOCKET_PATH\" \\\n",
    "                      --required-signer my-wallet.skey          \\\n",
    "                      --change-address $(cat my-wallet.address) \\\n",
    "                      --out-file /dev/null                      \\\n",
    "                      --submit 600                              \\\n",
    "                      \"$MEDIATOR_ROLE\" \"$SELLER_ROLE\" \"$BUYER_ROLE\""
   ]
  },
  {
   "cell_type": "markdown",
   "id": "92135be5-0b50-477c-ad21-8daca994b336",
   "metadata": {},
   "source": [
    "The policy ID will be used for the Marlowe roles currency."
   ]
  },
  {
   "cell_type": "code",
   "execution_count": 6,
   "id": "c1b57349-38c5-4ef4-a77d-d95a5cf7ead6",
   "metadata": {},
   "outputs": [],
   "source": [
    "ROLES_CURRENCY=38fa7eb06a9bc7f219c4a7e06aaa37f2d92569f6ef350c42323910fa"
   ]
  },
  {
   "cell_type": "markdown",
   "id": "aaf0c2d0-ed3c-4ed3-aa8d-cfd375849f62",
   "metadata": {},
   "source": [
    "We can query the address to see that the tokens have been minted. These will also be visible in Daedalus."
   ]
  },
  {
   "cell_type": "code",
   "execution_count": 7,
   "id": "b7030b8a-1733-4411-b95b-13ac419c77c7",
   "metadata": {},
   "outputs": [
    {
     "name": "stdout",
     "output_type": "stream",
     "text": [
      "                           TxHash                                 TxIx        Amount\n",
      "--------------------------------------------------------------------------------------\n",
      "7f2728cdf78b21b9da70851a16f340a94d64302957eb76a09f8a821a7e2769a7     0        969821035 lovelace + TxOutDatumNone\n",
      "7f2728cdf78b21b9da70851a16f340a94d64302957eb76a09f8a821a7e2769a7     1        10000000 lovelace + 1 38fa7eb06a9bc7f219c4a7e06aaa37f2d92569f6ef350c42323910fa.434d + TxOutDatumNone\n",
      "7f2728cdf78b21b9da70851a16f340a94d64302957eb76a09f8a821a7e2769a7     2        10000000 lovelace + 1 38fa7eb06a9bc7f219c4a7e06aaa37f2d92569f6ef350c42323910fa.4642 + TxOutDatumNone\n",
      "7f2728cdf78b21b9da70851a16f340a94d64302957eb76a09f8a821a7e2769a7     3        10000000 lovelace + 1 38fa7eb06a9bc7f219c4a7e06aaa37f2d92569f6ef350c42323910fa.544d + TxOutDatumNone\n"
     ]
    }
   ],
   "source": [
    "cardano-cli query utxo --testnet-magic 1567 --address $(cat my-wallet.address)"
   ]
  },
  {
   "cell_type": "markdown",
   "id": "f3640433-00eb-4ada-85e8-0b9f231fd008",
   "metadata": {},
   "source": [
    "## Step 1: Mediator Creates Escrow Contract with Initial ADA\n",
    "\n",
    "![Initialization for step 1.](diagrams/escrow-step1.png)"
   ]
  },
  {
   "cell_type": "markdown",
   "id": "e4f5c34e-8afc-49a4-bfaa-b88b33b8a970",
   "metadata": {},
   "source": [
    "😨 ***REDRAW AND REVISE LAYOUT***"
   ]
  },
  {
   "cell_type": "markdown",
   "id": "a522a14c-e186-486a-bdf6-4f51694dbb6a",
   "metadata": {},
   "source": [
    "## Initializing Step 1\n",
    "\n",
    "Marlowe CLI uses `.marlowe` JSON files to store information about the progression of a Marlowe contract. Now that we have created the contract, we can bundle the contract, state, Plutus data, and network information into such a file."
   ]
  },
  {
   "cell_type": "code",
   "execution_count": 8,
   "id": "6c9e5f03-792c-4037-b417-d5f3230dab7f",
   "metadata": {},
   "outputs": [
    {
     "name": "stdout",
     "output_type": "stream",
     "text": [
      "\n",
      "Validator size: 12633\n",
      "Base-validator cost: ExBudget {exBudgetCPU = ExCPU 24920101, exBudgetMemory = ExMemory 83800}\n"
     ]
    }
   ],
   "source": [
    "marlowe-cli run initialize --testnet-magic 1567                      \\\n",
    "                           --socket-path \"$CARDANO_NODE_SOCKET_PATH\" \\\n",
    "                           --roles-currency \"$ROLES_CURRENCY\"        \\\n",
    "                           --contract-file tx-1.contract             \\\n",
    "                           --state-file    tx-1.state                \\\n",
    "                           --out-file      tx-1.marlowe              \\\n",
    "                           --print-stats"
   ]
  },
  {
   "cell_type": "code",
   "execution_count": 9,
   "id": "d0d85f58-a8a4-4330-95a2-eb72c663d6bd",
   "metadata": {},
   "outputs": [
    {
     "name": "stdout",
     "output_type": "stream",
     "text": [
      "-rw-rw-r-- 1 pioneer marlowe  8286 Apr 29 10:17 tx-1.contract\n",
      "-rw-rw-r-- 1 pioneer marlowe 40778 Apr 29 10:17 tx-1.marlowe\n",
      "-rw-rw-r-- 1 pioneer marlowe   348 Apr 29 10:17 tx-1.state\n"
     ]
    }
   ],
   "source": [
    "ls -l tx-1.*"
   ]
  },
  {
   "cell_type": "markdown",
   "id": "0f87510f-ad47-4075-a8a9-d3d88ba9e6fe",
   "metadata": {},
   "source": [
    "## Step 2: Buyer Deposits Funds into Seller’s Account\n",
    "\n",
    "![Transition from step 1 to step 2.](diagrams/escrow-step2.png)"
   ]
  },
  {
   "cell_type": "markdown",
   "id": "84cc9349-a702-41d3-be25-2a6e4c24b8ae",
   "metadata": {},
   "source": [
    "😨 ***REDRAW AND REVISE LAYOUT***"
   ]
  },
  {
   "cell_type": "markdown",
   "id": "cb870dc3-964e-451f-8e96-8677c6ef1948",
   "metadata": {},
   "source": [
    "## Transition from Step 1 to Step 2"
   ]
  },
  {
   "cell_type": "code",
   "execution_count": 10,
   "id": "c342bfdc-79ad-42b6-9ed4-3d352dd59934",
   "metadata": {},
   "outputs": [
    {
     "name": "stdout",
     "output_type": "stream",
     "text": [
      "\n",
      "Datum size: 463\n"
     ]
    }
   ],
   "source": [
    "marlowe-cli run prepare --marlowe-file tx-1.marlowe           \\\n",
    "                        --deposit-account \"Role=$SELLER_ROLE\" \\\n",
    "                        --deposit-party \"Role=$BUYER_ROLE\"    \\\n",
    "                        --deposit-amount \"$PRICE\"             \\\n",
    "                        --invalid-before \"$NOW\"               \\\n",
    "                        --invalid-hereafter \"$((NOW+9*HOUR))\" \\\n",
    "                        --out-file tx-2.marlowe               \\\n",
    "                        --print-stats"
   ]
  },
  {
   "cell_type": "markdown",
   "id": "217d11a8-9606-4e50-84c7-2bc0cd042c28",
   "metadata": {},
   "source": [
    "## Step 3: The Buyer Reports That There is a Problem\n",
    "\n",
    "![Transition from step 2 to step 3.](diagrams/escrow-step3.png)"
   ]
  },
  {
   "cell_type": "markdown",
   "id": "4f0cca0b-6285-43b1-b775-010ec2995002",
   "metadata": {},
   "source": [
    "😨 ***REDRAW AND REVISE LAYOUT***"
   ]
  },
  {
   "cell_type": "markdown",
   "id": "7be0dbcd-8c60-4e5e-aea1-98e23a1975f7",
   "metadata": {},
   "source": [
    "## Transition from Step 2 to Step 3"
   ]
  },
  {
   "cell_type": "code",
   "execution_count": 11,
   "id": "0fcaf891-d217-46e5-a624-49aaedbb91f7",
   "metadata": {},
   "outputs": [
    {
     "name": "stdout",
     "output_type": "stream",
     "text": [
      "\n",
      "Datum size: 341\n",
      "Payment 1\n",
      "  Acccount: \"FB\"\n",
      "  Payee: Account \"TM\"\n",
      "  Ada: 256.000000\n"
     ]
    }
   ],
   "source": [
    "marlowe-cli run prepare --marlowe-file tx-2.marlowe           \\\n",
    "                        --choice-name \"Report problem\"        \\\n",
    "                        --choice-party \"Role=$BUYER_ROLE\"     \\\n",
    "                        --choice-number 1                     \\\n",
    "                        --invalid-before \"$NOW\"               \\\n",
    "                        --invalid-hereafter \"$((NOW+9*HOUR))\" \\\n",
    "                        --out-file tx-3.marlowe               \\\n",
    "                        --print-stats"
   ]
  },
  {
   "cell_type": "markdown",
   "id": "5f157bb0-00ee-4920-bf67-6868d598c0f2",
   "metadata": {
    "tags": []
   },
   "source": [
    "## Step 4: The Seller Disputes that There is a Problem\n",
    "\n",
    "![Transition from step 3 to step 4.](diagrams/escrow-step4.png)"
   ]
  },
  {
   "cell_type": "markdown",
   "id": "fdd802b7-6485-49a0-bbbf-df408b2e01b1",
   "metadata": {},
   "source": [
    "😨 ***REDRAW AND REVISE LAYOUT***"
   ]
  },
  {
   "cell_type": "markdown",
   "id": "cb74be36-56ae-4485-a2a8-48d8a59f1193",
   "metadata": {},
   "source": [
    "## Transition from Step 3 to Step 4"
   ]
  },
  {
   "cell_type": "code",
   "execution_count": 12,
   "id": "b6f30f22-3713-42db-8ed2-82ea458b9a3f",
   "metadata": {},
   "outputs": [
    {
     "name": "stdout",
     "output_type": "stream",
     "text": [
      "\n",
      "Datum size: 262\n"
     ]
    }
   ],
   "source": [
    "marlowe-cli run prepare --marlowe-file tx-3.marlowe            \\\n",
    "                        --choice-name \"Dispute problem\"        \\\n",
    "                        --choice-party \"Role=$SELLER_ROLE\"     \\\n",
    "                        --choice-number 0                      \\\n",
    "                        --invalid-before \"$NOW\"                \\\n",
    "                        --invalid-hereafter \"$((NOW+9*HOUR))\"  \\\n",
    "                        --out-file tx-4.marlowe                \\\n",
    "                        --print-stats"
   ]
  },
  {
   "cell_type": "markdown",
   "id": "b6cfa68e-17c8-4d66-a38d-f563b7f10a25",
   "metadata": {},
   "source": [
    "## Step 5: The Mediator Dismisses the Claim\n",
    "\n",
    "![Transition from step 4 to step 5](diagrams/escrow-step5.png)"
   ]
  },
  {
   "cell_type": "markdown",
   "id": "ea90bd5f-d3d0-4621-813d-b46546fe446e",
   "metadata": {},
   "source": [
    "😨 ***REDRAW AND REVISE LAYOUT***"
   ]
  },
  {
   "cell_type": "markdown",
   "id": "ff285fa2-7e6d-4638-9033-2c7e0853e798",
   "metadata": {},
   "source": [
    "## Transition from Step 4 to Step 5"
   ]
  },
  {
   "cell_type": "code",
   "execution_count": 13,
   "id": "9dabec20-2c26-422f-8c20-75f0ede758b1",
   "metadata": {},
   "outputs": [
    {
     "name": "stdout",
     "output_type": "stream",
     "text": [
      "\n",
      "Datum size: 104\n",
      "Payment 1\n",
      "  Acccount: \"TM\"\n",
      "  Payee: Account \"FB\"\n",
      "  Ada: 256.000000\n",
      "Payment 2\n",
      "  Acccount: \"CM\"\n",
      "  Payee: Party \"CM\"\n",
      "  Ada: 3.000000\n",
      "Payment 3\n",
      "  Acccount: \"FB\"\n",
      "  Payee: Party \"FB\"\n",
      "  Ada: 256.000000\n"
     ]
    }
   ],
   "source": [
    "marlowe-cli run prepare --marlowe-file tx-4.marlowe           \\\n",
    "                        --choice-name \"Dismiss claim\"         \\\n",
    "                        --choice-party \"Role=$MEDIATOR_ROLE\"  \\\n",
    "                        --choice-number 0                     \\\n",
    "                        --invalid-before \"$NOW\"               \\\n",
    "                        --invalid-hereafter \"$((NOW+9*HOUR))\" \\\n",
    "                        --out-file tx-5.marlowe               \\\n",
    "                        --print-stats"
   ]
  },
  {
   "cell_type": "markdown",
   "id": "d51d2483-bedc-4f5f-be69-d991a30b993d",
   "metadata": {},
   "source": [
    "## Troubleshooting\n",
    "\n",
    "*   Run the contract in the Marlowe Playground simulator before running it at the command line.\n",
    "*   Pay attention to the timeouts in `When` clauses of a contract:\n",
    "    *   Does the timeout trigger the intendent movement of funds between accounts?\n",
    "    *   Is the timeout consistent with other timeouts in `Case` statements?\n",
    "*   At the semantic level, these Marlowe errors can occur:\n",
    "    *   `TEAmbiguousTimeIntervalError`: The time interval for a transaction straddles the timeout of a `When` clause.\n",
    "    *   `TEApplyNoMatchError`: The attempted application of input to the contract was illegal.\n",
    "    *   `TEIntervalError IntervalError`\n",
    "        *   `InvalidInterval`: The start of the time interval is after its end.\n",
    "        *   `IntervalInPast`: The interval falls before the current time.\n",
    "    *   `TEUselessTransaction`: The attempted application of input does not change the state of the contract.\n",
    "    *   `TEHashMismatch`: An incorrect contract was provided for the merkleized continuation."
   ]
  },
  {
   "cell_type": "markdown",
   "id": "f35562b2-7da7-429d-8cec-a50dda5385c2",
   "metadata": {},
   "source": [
    "## Resources\n",
    "\n",
    "*   Marlowe Debugging Cookbook: <<https://github.com/input-output-hk/marlowe-cardano/blob/mpp-cli-lectures/marlowe/debugging-cookbook.md>>.\n",
    "*   Example contracts with `marlowe-cli`: <<https://github.com/input-output-hk/marlowe-cardano/blob/mpp-cli-lectures/marlowe-cli/examples/ReadMe.md>>.\n",
    "*   Marlowe contract examples: <<https://github.com/input-output-hk/marlowe-cardano/tree/main/marlowe-contracts>>.\n",
    "*   Marlowe Playground: <<https://playground.marlowe.iohkdev.io/#/>>.\n",
    "*   Marlowe Run\n",
    "    *   On pioneers testnet: <<https://marlowe-run-marlowe-pioneers.plutus.aws.iohkdev.io/>>.\n",
    "    *   On mock network: <<https://marlowe-finance.io/>>.\n",
    "*   Cardano Docs for Marlowe: <<https://docs.cardano.org/marlowe/learn-about-marlowe>>.\n",
    "*   Plutus Pioneers Program: <<https://github.com/input-output-hk/plutus-pioneer-program>>.\n",
    "*   Plutus Community: <<https://plutus-community.readthedocs.io/en/latest/>>.\n",
    "*   The Plutonomicon: <<https://github.com/Plutonomicon/plutonomicon/blob/main/README.md>>."
   ]
  },
  {
   "cell_type": "markdown",
   "id": "064dbc03-a24d-4f53-8d29-9fe53cad2b9c",
   "metadata": {},
   "source": [
    "## Summary\n",
    "\n",
    "*   Use `marlowe-cli template` instantiate a contract from a template.\n",
    "*   Alternatively, use Marlowe Playground to design a contract and download it as a JSON file.\n",
    "*   The initial state for a contract consists of . . .\n",
    "    *    Account balances.\n",
    "    *    Preexisting choices.\n",
    "    *    Preexisting assignments of variables.\n",
    "    *    The minimum POSIX time when the contract can be started.\n",
    "*   Use `marlowe-cli run initialize` to package the contract, initial state, Plutus data, and network information into a `.marlowe` file that can be used to run the contract.\n",
    "*   Use `marlowe-cli run prepare` to apply input to a contract, which causes it to transition from one state to another.\n",
    "*   Use `marlowe-cli util mint` if you need to mint role tokens."
   ]
  },
  {
   "cell_type": "markdown",
   "id": "f7d08878-5fd3-4eb9-9e5a-38dabce49b01",
   "metadata": {},
   "source": [
    "## Other Lectures\n",
    "\n",
    "Lectures on Marlowe CLI: <<https://github.com/input-output-hk/marlowe-cardano/blob/mpp-cli-lectures/marlowe-cli/lectures/ReadMe.md>>\n",
    "\n",
    "*   Overview of Marlowe CLI\n",
    "*   Installing Marlowe CLI and Associated Tools\n",
    "*   ~~Running Marlowe Contracts without Blockchain Transactions~~\n",
    "*   Running Marlowe Contacts on the Blockchain\n",
    "*   Running Marlowe Contracts with the Plutus Application Backend (PAB)\n",
    "*   Reference for Marlowe CLI Commands"
   ]
  }
 ],
 "metadata": {
  "kernelspec": {
   "display_name": "Bash - Marlowe",
   "language": "bash",
   "name": "bash_marlowe"
  },
  "language_info": {
   "codemirror_mode": "shell",
   "file_extension": ".sh",
   "mimetype": "text/x-sh",
   "name": "/nix/store/l0wlqpbsvh1pgvhcdhw7qkka3d31si7k-bash-5.1-p8/bin/bash"
  }
 },
 "nbformat": 4,
 "nbformat_minor": 5
}
