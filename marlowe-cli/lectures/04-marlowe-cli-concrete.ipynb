{
 "cells": [
  {
   "cell_type": "markdown",
   "id": "a7983771-b4ac-4ba8-acdb-14127b99dd0d",
   "metadata": {},
   "source": [
    "# Running Marlowe Contracts on the Blockchain\n",
    "\n",
    "In this lecture we demonstrate how to use `marlowe-cli` to run Marlowe contracts on the blockchain, but without using the Marlowe Backend. We do this for the escrow contract of the previous lecture."
   ]
  },
  {
   "cell_type": "markdown",
   "id": "fa403e22-374e-4b2f-ab00-6bce42dc6cef",
   "metadata": {
    "tags": []
   },
   "source": [
    "## Contract Parameters\n",
    "\n",
    "In the previous lecture, we ran the contract without submitting transactions. There we set the following parameters."
   ]
  },
  {
   "cell_type": "code",
   "execution_count": 1,
   "id": "449a6394-0c74-45a1-95bb-e7f99d0a8784",
   "metadata": {},
   "outputs": [],
   "source": [
    "INITIAL_LOVELACE=3000000             # The creation transaction will deposit 3₳.\n",
    "PRICE=256000000                      # The prices of the item is 256₳.\n",
    "MINIMUM_ADA=2000000                  # The minimum lovelace to be included with native token ouptut.\n",
    "\n",
    "MEDIATOR_ROLE=CM                     # Christopher Marlowe is the mediator.\n",
    "BUYER_ROLE=TM                        # Thomas Middleton is the buyer.\n",
    "SELLER_ROLE=FB                       # Francis Beaumont (FB) is the seller.\n",
    "\n",
    "NOW=$(($(date -u +%s)*1000))         # The current time in POSIX milliseconds.\n",
    "HOUR=$((60*60*1000))                 # One hour, in POSIX milliseconds.\n",
    "PAYMENT_DEADLINE=$((NOW+10*HOUR))    # The payment deadline, ten hours from now.\n",
    "COMPLAINT_DEADLINE=$((NOW+12*HOUR))  # The complaint deadline, twelve hours from now.\n",
    "DISPUTE_DEADLINE=$((NOW+14*HOUR))    # The dispute deadline, fourteen hours from now.\n",
    "MEDIATION_DEADLINE=$((NOW+16*HOUR))  # The mediation deadline, sixteen hours from now.\n",
    "\n",
    "ROLES_CURRENCY=1c964b2b89b6c9d2a8e2d564a3541b3b355d0451825ad0481a63f86c\n",
    "\n",
    "MEDIATOR_TOKEN=\"$ROLES_CURRENCY.$MEDIATOR_ROLE\"\n",
    "BUYER_TOKEN=\"$ROLES_CURRENCY.$BUYER_ROLE\"\n",
    "SELLER_TOKEN=\"$ROLES_CURRENCY.$SELLER_ROLE\""
   ]
  },
  {
   "cell_type": "code",
   "execution_count": 2,
   "id": "06fbc54f-037c-4764-9ce2-0bc4de5108b6",
   "metadata": {},
   "outputs": [],
   "source": [
    "WALLET_SKEY=my-wallet.skey\n",
    "WALLET_ADDRESS=$(cat my-wallet.address)"
   ]
  },
  {
   "cell_type": "code",
   "execution_count": 3,
   "id": "afbcb2db-fe3e-48da-aba7-d52a0ad09737",
   "metadata": {},
   "outputs": [],
   "source": [
    "export CARDANO_TESTNET_MAGIC=1567"
   ]
  },
  {
   "cell_type": "code",
   "execution_count": 4,
   "id": "ee35c253-3556-4540-b411-6ecb9cdb026d",
   "metadata": {},
   "outputs": [],
   "source": [
    "export CARDANO_NODE_SOCKET_PATH=~/.local/share/Daedalus/marlowe_pioneers/cardano-node.socket"
   ]
  },
  {
   "cell_type": "markdown",
   "id": "ee86a197-89f8-460b-9e93-5f01615a9149",
   "metadata": {
    "tags": []
   },
   "source": [
    "## Creating Signing Keys for Roles\n",
    "\n",
    "The escrow contract involves three participants (Mediator, Buyer, Seller), so a real-life scenario for it involves three wallets.\n",
    "*   The next sections shows to create signing keys and addresses for these roles.\n",
    "*   Alternatively, one can create the signing keys for three wallets using the instructions in the lecture on installing Marlowe tools."
   ]
  },
  {
   "cell_type": "markdown",
   "id": "1add3343-6eb4-4c1b-b83d-d490ae2c28ef",
   "metadata": {},
   "source": [
    "### Keys and Address for the Mediator\n",
    "\n",
    "First set variables related to the mediator."
   ]
  },
  {
   "cell_type": "code",
   "execution_count": 5,
   "id": "c95d5ba1-069b-4e5c-a111-aef85925690c",
   "metadata": {},
   "outputs": [],
   "source": [
    "MEDIATOR_ROLE=\"$MEDIATOR_ROLE\"\n",
    "MEDIATOR_SKEY=mediator.skey\n",
    "MEDIATOR_VKEY=mediator.vkey"
   ]
  },
  {
   "cell_type": "markdown",
   "id": "98cd0cab-eb3a-4055-981b-3105ef0d9cec",
   "metadata": {},
   "source": [
    "Generate keys for the mediator and compute their address."
   ]
  },
  {
   "cell_type": "code",
   "execution_count": 6,
   "id": "02327a53-d68b-466a-a26d-535f1a17b316",
   "metadata": {},
   "outputs": [
    {
     "name": "stdout",
     "output_type": "stream",
     "text": [
      "addr_test1vzx02m47g6phgswsrsslpla4srem5jrr0qehvme52pgsgpslvf74m\n"
     ]
    }
   ],
   "source": [
    "cardano-cli address key-gen --signing-key-file \"$MEDIATOR_SKEY\" --verification-key-file \"$MEDIATOR_VKEY\"\n",
    "MEDIATOR_ADDRESS=$(cardano-cli address build --testnet-magic \"$CARDANO_TESTNET_MAGIC\" --payment-verification-key-file \"$MEDIATOR_VKEY\")\n",
    "echo $MEDIATOR_ADDRESS"
   ]
  },
  {
   "cell_type": "markdown",
   "id": "373913ad-da3a-4605-b299-5bf85ebf7b3f",
   "metadata": {},
   "source": [
    "### Keys and Address for the Buyer and Seller"
   ]
  },
  {
   "cell_type": "code",
   "execution_count": 7,
   "id": "899eb78d-bca9-401a-93a6-f2548a7c536e",
   "metadata": {},
   "outputs": [
    {
     "name": "stdout",
     "output_type": "stream",
     "text": [
      "addr_test1vq6c2ra4uy3n0n23yy4nhuwl7s5xntw5scc0edtfmc66u2grfpg5c\n"
     ]
    }
   ],
   "source": [
    "BUYER_ROLE=\"$BUYER_ROLE\"\n",
    "BUYER_SKEY=buyer.skey\n",
    "BUYER_VKEY=buyer.vkey\n",
    "cardano-cli address key-gen --signing-key-file \"$BUYER_SKEY\" --verification-key-file \"$BUYER_VKEY\"\n",
    "BUYER_ADDRESS=$(cardano-cli address build --testnet-magic \"$CARDANO_TESTNET_MAGIC\" --payment-verification-key-file \"$BUYER_VKEY\")\n",
    "echo $BUYER_ADDRESS"
   ]
  },
  {
   "cell_type": "code",
   "execution_count": 8,
   "id": "6934a8b1-25bc-4bef-8199-b36374bb6c28",
   "metadata": {},
   "outputs": [
    {
     "name": "stdout",
     "output_type": "stream",
     "text": [
      "addr_test1vp6caftktaxlwngf7pj28yp0avads233gu95xy2c28au5uggc75r7\n"
     ]
    }
   ],
   "source": [
    "SELLER_ROLE=\"$SELLER_ROLE\"\n",
    "SELLER_SKEY=seller.skey\n",
    "SELLER_VKEY=seller.vkey\n",
    "cardano-cli address key-gen --signing-key-file \"$SELLER_SKEY\" --verification-key-file \"$SELLER_VKEY\"\n",
    "SELLER_ADDRESS=$(cardano-cli address build --testnet-magic \"$CARDANO_TESTNET_MAGIC\" --payment-verification-key-file \"$SELLER_VKEY\")\n",
    "echo $SELLER_ADDRESS"
   ]
  },
  {
   "cell_type": "markdown",
   "id": "1161caa5-cdce-43e6-bc70-1e6e5e5245b2",
   "metadata": {},
   "source": [
    "### Distribute Role Tokens and Ada\n",
    "\n",
    "In the previous lecture we minted role tokens for this contract. They are in UTxOs held at the address in `WALLET_ADDRESS=my-wallet.address`."
   ]
  },
  {
   "cell_type": "code",
   "execution_count": 9,
   "id": "54198ec3-7aaf-4f44-8fba-0827ba1f0831",
   "metadata": {},
   "outputs": [
    {
     "name": "stdout",
     "output_type": "stream",
     "text": [
      "                           TxHash                                 TxIx        Amount\n",
      "--------------------------------------------------------------------------------------\n",
      "acd0cd4e234f7d34d1de79c5d640b88cb85d4244f6b60bf260e0a4ac73425429     0        1957654914 lovelace + TxOutDatumNone\n",
      "acd0cd4e234f7d34d1de79c5d640b88cb85d4244f6b60bf260e0a4ac73425429     1        10000000 lovelace + 1 1c964b2b89b6c9d2a8e2d564a3541b3b355d0451825ad0481a63f86c.434d + TxOutDatumNone\n",
      "acd0cd4e234f7d34d1de79c5d640b88cb85d4244f6b60bf260e0a4ac73425429     2        10000000 lovelace + 1 1c964b2b89b6c9d2a8e2d564a3541b3b355d0451825ad0481a63f86c.4642 + TxOutDatumNone\n",
      "acd0cd4e234f7d34d1de79c5d640b88cb85d4244f6b60bf260e0a4ac73425429     3        10000000 lovelace + 1 1c964b2b89b6c9d2a8e2d564a3541b3b355d0451825ad0481a63f86c.544d + TxOutDatumNone\n"
     ]
    }
   ],
   "source": [
    "cardano-cli query utxo --testnet-magic \"$CARDANO_TESTNET_MAGIC\" --address \"$WALLET_ADDRESS\""
   ]
  },
  {
   "cell_type": "markdown",
   "id": "220f8c51-32c1-4b11-84dd-5bab07afe955",
   "metadata": {},
   "source": [
    "Here is the correspondence between the role names and their hexadecimal representations."
   ]
  },
  {
   "cell_type": "markdown",
   "id": "9213a223-963f-45a4-9461-8183148e7165",
   "metadata": {},
   "source": [
    "Now distribute the tokens and some ADA, 20 ADA to the mediator, 300 ADA to the buyer, and 40 ADA to the seller."
   ]
  },
  {
   "cell_type": "code",
   "execution_count": 10,
   "id": "ef581c05-a207-4d11-91e3-e14ef6c379a6",
   "metadata": {},
   "outputs": [
    {
     "name": "stdout",
     "output_type": "stream",
     "text": [
      "TxId \"d80b74a12aca93e1178acc54006343bce2505f9358f91b3667ba37b85c620d27\"\n"
     ]
    }
   ],
   "source": [
    "TX_IN=acd0cd4e234f7d34d1de79c5d640b88cb85d4244f6b60bf260e0a4ac73425429\n",
    "\n",
    "marlowe-cli transaction simple --required-signer \"$WALLET_SKEY\"                                       \\\n",
    "                               --tx-in \"$TX_IN#0\"                                                     \\\n",
    "                               --tx-in \"$TX_IN#1\"                                                     \\\n",
    "                               --tx-in \"$TX_IN#2\"                                                     \\\n",
    "                               --tx-in \"$TX_IN#3\"                                                     \\\n",
    "                               --change-address \"$WALLET_ADDRESS\"                                     \\\n",
    "                               --tx-out \"$MEDIATOR_ADDRESS+20000000+1 $ROLES_CURRENCY.$MEDIATOR_ROLE\" \\\n",
    "                               --tx-out \"$BUYER_ADDRESS+300000000+1 $ROLES_CURRENCY.$BUYER_ROLE\"      \\\n",
    "                               --tx-out \"$SELLER_ADDRESS+40000000+1 $ROLES_CURRENCY.$SELLER_ROLE\"     \\\n",
    "                               --out-file /dev/null                                                   \\\n",
    "                               --submit 600"
   ]
  },
  {
   "cell_type": "markdown",
   "id": "b6a9d88b-0766-4ad7-814c-c0b3c469c04f",
   "metadata": {},
   "source": [
    "### Ensure That Each Address Has a Tokenless UTxO for Collateral\n",
    "\n",
    "The command `marlowe-cli util clean` reorganizes UTxOs at an address so that there is a tokenless UTxO that is suitable for use as collateral."
   ]
  },
  {
   "cell_type": "code",
   "execution_count": 11,
   "id": "8111f4e8-6683-496b-8ccc-924e1a64e9e7",
   "metadata": {},
   "outputs": [
    {
     "name": "stdout",
     "output_type": "stream",
     "text": [
      "TxId \"38ac0d8404542e45b9f23acb967169aed4ce5f5f65a20b8de79fbed5fc1593f0\"\n"
     ]
    }
   ],
   "source": [
    "marlowe-cli util clean --required-signer \"$MEDIATOR_SKEY\"         \\\n",
    "                       --change-address \"$MEDIATOR_ADDRESS\"       \\\n",
    "                       --out-file /dev/null                       \\\n",
    "                       --submit=600"
   ]
  },
  {
   "cell_type": "code",
   "execution_count": 12,
   "id": "2d579ef8-41d6-4556-ae92-5e63ff4f6105",
   "metadata": {},
   "outputs": [
    {
     "name": "stdout",
     "output_type": "stream",
     "text": [
      "TxId \"e730ef6a49c90733baf470f439004296796b679563568804142b736ccd26a61b\"\n"
     ]
    }
   ],
   "source": [
    "marlowe-cli util clean --required-signer \"$BUYER_SKEY\"           \\\n",
    "                       --change-address \"$BUYER_ADDRESS\"         \\\n",
    "                       --out-file /dev/null                      \\\n",
    "                       --submit=600"
   ]
  },
  {
   "cell_type": "code",
   "execution_count": 13,
   "id": "7e3a4d3d-7c25-4e1d-808c-324ba8492c4f",
   "metadata": {},
   "outputs": [
    {
     "name": "stdout",
     "output_type": "stream",
     "text": [
      "TxId \"471bef7858cd2bd3e44368511f0b0b1d4f7e0714c5a7b52a9773a1cdd12536af\"\n"
     ]
    }
   ],
   "source": [
    "marlowe-cli util clean --required-signer \"$SELLER_SKEY\"          \\\n",
    "                       --change-address \"$SELLER_ADDRESS\"        \\\n",
    "                       --out-file /dev/null                      \\\n",
    "                       --submit=600"
   ]
  },
  {
   "cell_type": "markdown",
   "id": "c446d77d-1ec7-4ee1-9fc6-500d5e17104e",
   "metadata": {},
   "source": [
    "### Check That Funds Have Been Distributed Correctly\n",
    "\n",
    "The `cardano-cli` tool outputs token names in hexadecimal instead of ASCII. Here is the correspondence between the role names and their hexadecimal representations."
   ]
  },
  {
   "cell_type": "code",
   "execution_count": 14,
   "id": "8630ceeb-e1b3-4835-a9d0-c606d3668c12",
   "metadata": {},
   "outputs": [
    {
     "name": "stdout",
     "output_type": "stream",
     "text": [
      "CM=434d\n",
      "TM=544d\n",
      "FB=4642\n"
     ]
    }
   ],
   "source": [
    "for n in \"$MEDIATOR_ROLE\" \"$BUYER_ROLE\" \"$SELLER_ROLE\"\n",
    "do\n",
    "  echo \"$n=$(echo -n $n | basenc --base16 | tr '[:upper:]' '[:lower:]')\"\n",
    "done"
   ]
  },
  {
   "cell_type": "code",
   "execution_count": 15,
   "id": "4c0b58e5-f7c8-474e-91c9-f5a5c33637c6",
   "metadata": {},
   "outputs": [
    {
     "name": "stdout",
     "output_type": "stream",
     "text": [
      "                           TxHash                                 TxIx        Amount\n",
      "--------------------------------------------------------------------------------------\n",
      "38ac0d8404542e45b9f23acb967169aed4ce5f5f65a20b8de79fbed5fc1593f0     0        17831023 lovelace + TxOutDatumNone\n",
      "38ac0d8404542e45b9f23acb967169aed4ce5f5f65a20b8de79fbed5fc1593f0     1        2000000 lovelace + 1 1c964b2b89b6c9d2a8e2d564a3541b3b355d0451825ad0481a63f86c.434d + TxOutDatumNone\n"
     ]
    }
   ],
   "source": [
    "cardano-cli query utxo --testnet-magic \"$CARDANO_TESTNET_MAGIC\" --address \"$MEDIATOR_ADDRESS\""
   ]
  },
  {
   "cell_type": "code",
   "execution_count": 16,
   "id": "e8defc23-c81f-4c7a-92ef-ffc744e8894e",
   "metadata": {},
   "outputs": [
    {
     "name": "stdout",
     "output_type": "stream",
     "text": [
      "                           TxHash                                 TxIx        Amount\n",
      "--------------------------------------------------------------------------------------\n",
      "e730ef6a49c90733baf470f439004296796b679563568804142b736ccd26a61b     0        297831023 lovelace + TxOutDatumNone\n",
      "e730ef6a49c90733baf470f439004296796b679563568804142b736ccd26a61b     1        2000000 lovelace + 1 1c964b2b89b6c9d2a8e2d564a3541b3b355d0451825ad0481a63f86c.544d + TxOutDatumNone\n"
     ]
    }
   ],
   "source": [
    "cardano-cli query utxo --testnet-magic \"$CARDANO_TESTNET_MAGIC\" --address \"$BUYER_ADDRESS\""
   ]
  },
  {
   "cell_type": "code",
   "execution_count": 17,
   "id": "3c3fec8c-2dc7-419c-978d-9f7348257b16",
   "metadata": {},
   "outputs": [
    {
     "name": "stdout",
     "output_type": "stream",
     "text": [
      "                           TxHash                                 TxIx        Amount\n",
      "--------------------------------------------------------------------------------------\n",
      "471bef7858cd2bd3e44368511f0b0b1d4f7e0714c5a7b52a9773a1cdd12536af     0        37831023 lovelace + TxOutDatumNone\n",
      "471bef7858cd2bd3e44368511f0b0b1d4f7e0714c5a7b52a9773a1cdd12536af     1        2000000 lovelace + 1 1c964b2b89b6c9d2a8e2d564a3541b3b355d0451825ad0481a63f86c.4642 + TxOutDatumNone\n"
     ]
    }
   ],
   "source": [
    "cardano-cli query utxo --testnet-magic \"$CARDANO_TESTNET_MAGIC\" --address \"$SELLER_ADDRESS\""
   ]
  },
  {
   "cell_type": "code",
   "execution_count": 18,
   "id": "32cfe149-9576-4323-9b8c-5adaee604629",
   "metadata": {},
   "outputs": [],
   "source": [
    "TX_0_MEDIATOR_ADA=\"38ac0d8404542e45b9f23acb967169aed4ce5f5f65a20b8de79fbed5fc1593f0#0\"\n",
    "TX_0_MEDIATOR_TOKEN=\"38ac0d8404542e45b9f23acb967169aed4ce5f5f65a20b8de79fbed5fc1593f0#1\"\n",
    "\n",
    "TX_0_BUYER_ADA=\"e730ef6a49c90733baf470f439004296796b679563568804142b736ccd26a61b#0\"\n",
    "TX_0_BUYER_TOKEN=\"e730ef6a49c90733baf470f439004296796b679563568804142b736ccd26a61b#1\"\n",
    "\n",
    "TX_0_SELLER_ADA=\"471bef7858cd2bd3e44368511f0b0b1d4f7e0714c5a7b52a9773a1cdd12536af#0\"\n",
    "TX_0_SELLER_TOKEN=\"471bef7858cd2bd3e44368511f0b0b1d4f7e0714c5a7b52a9773a1cdd12536af#1\""
   ]
  },
  {
   "cell_type": "markdown",
   "id": "81806298-f06f-492c-b17f-e52a8288dbd7",
   "metadata": {},
   "source": [
    "## Create the Contract and Its Initial State"
   ]
  },
  {
   "cell_type": "code",
   "execution_count": 19,
   "id": "efec81d2-4cd2-4b72-8fab-82a6e60741c7",
   "metadata": {},
   "outputs": [],
   "source": [
    "marlowe-cli template escrow --minimum-ada \"$INITIAL_LOVELACE\"          \\\n",
    "                            --price \"$PRICE\"                           \\\n",
    "                            --seller \"Role=$SELLER_ROLE\"               \\\n",
    "                            --buyer \"Role=$BUYER_ROLE\"                 \\\n",
    "                            --mediator \"Role=$MEDIATOR_ROLE\"           \\\n",
    "                            --payment-deadline \"$PAYMENT_DEADLINE\"     \\\n",
    "                            --complaint-deadline \"$COMPLAINT_DEADLINE\" \\\n",
    "                            --dispute-deadline \"$DISPUTE_DEADLINE\"     \\\n",
    "                            --mediation-deadline \"$MEDIATION_DEADLINE\" \\\n",
    "                            --out-contract-file tx-1.contract          \\\n",
    "                            --out-state-file    tx-1.state"
   ]
  },
  {
   "cell_type": "markdown",
   "id": "510a0b42-f8f2-4137-abde-480620daa8f0",
   "metadata": {},
   "source": [
    "## Transaction 1: Mediator Creates Escrow Contract with Initial ADA\n",
    "\n",
    "First create the `.marlowe` file that containts the contract, its state, Plutus data, and network information."
   ]
  },
  {
   "cell_type": "code",
   "execution_count": 20,
   "id": "1c2fff84-68a8-4549-b0a6-8eed814be3dc",
   "metadata": {},
   "outputs": [
    {
     "name": "stdout",
     "output_type": "stream",
     "text": [
      "\n",
      "Validator size: 12611\n",
      "Base-validator cost: ExBudget {exBudgetCPU = ExCPU 24562825, exBudgetMemory = ExMemory 82600}\n"
     ]
    }
   ],
   "source": [
    "marlowe-cli run initialize --roles-currency \"$ROLES_CURRENCY\"        \\\n",
    "                           --contract-file tx-1.contract             \\\n",
    "                           --state-file    tx-1.state                \\\n",
    "                           --out-file      tx-1.marlowe              \\\n",
    "                           --print-stats"
   ]
  },
  {
   "cell_type": "markdown",
   "id": "606eba34-e7f6-46d0-94e8-534b60429c2d",
   "metadata": {},
   "source": [
    "👉 If you are planning to run a large contract on chain, use the `--merkleize` flag with `marlowe-cli run initialize`. This will break the contract into a Merkle DAG where only the immediately relevant part of the contract is stored on chain and the rest of the contract is supplied on-chain in a just-in-time manner."
   ]
  },
  {
   "cell_type": "markdown",
   "id": "7c198cd5-6a73-454c-9c89-d8744aecbbb7",
   "metadata": {},
   "source": [
    "The mediator uses their tokenless UTxO to fund the contract."
   ]
  },
  {
   "cell_type": "code",
   "execution_count": 21,
   "id": "65a43251-6014-49f0-83e7-06059612e11a",
   "metadata": {},
   "outputs": [
    {
     "name": "stdout",
     "output_type": "stream",
     "text": [
      "\n",
      "Fee: Lovelace 197709\n",
      "Size: 719 / 32768 = 2%\n",
      "Execution units:\n",
      "  Memory: 0 / 30000000 = 0%\n",
      "  Steps: 0 / 10000000000 = 0%\n",
      "TxId \"384b93dedbe32fb48921853c0365c9a8f0be3425d5211e020952da08ff1cb6fa\"\n"
     ]
    }
   ],
   "source": [
    "marlowe-cli run execute --testnet-magic \"$CARDANO_TESTNET_MAGIC\"  \\\n",
    "                        --socket-path \"$CARDANO_NODE_SOCKET_PATH\" \\\n",
    "                        --tx-in \"$TX_0_MEDIATOR_ADA\"              \\\n",
    "                        --change-address \"$MEDIATOR_ADDRESS\"      \\\n",
    "                        --required-signer \"$MEDIATOR_SKEY\"        \\\n",
    "                        --marlowe-out-file tx-1.marlowe           \\\n",
    "                        --out-file tx-1.raw                       \\\n",
    "                        --print-stats                             \\\n",
    "                        --submit=600"
   ]
  },
  {
   "cell_type": "code",
   "execution_count": 22,
   "id": "7e72a2a9-77f3-4d3e-bed2-9374ed13c23b",
   "metadata": {},
   "outputs": [],
   "source": [
    "TX_1=384b93dedbe32fb48921853c0365c9a8f0be3425d5211e020952da08ff1cb6fa"
   ]
  },
  {
   "cell_type": "markdown",
   "id": "bd45b944-90e7-4c0c-b074-bf038a1ab897",
   "metadata": {
    "jp-MarkdownHeadingCollapsed": true,
    "tags": []
   },
   "source": [
    "### UTxOs in Transaction 1\n",
    "\n",
    "*Note: this diagram is slightly misleading because it shows the minting of role tokens during the creation of the Marlowe contract, but the actual transaction that was submitted in this example used pre-minted role tokens.*\n",
    "\n",
    "![Transaction 1](diagrams/escrow-utxos-1-only.svg)"
   ]
  },
  {
   "cell_type": "markdown",
   "id": "de391b4d-a2a0-4cb8-8243-fca9c07ed9d2",
   "metadata": {},
   "source": [
    "### Results of Transaction 1\n",
    "\n",
    "The mediator now has a little less ADA because they deposited 3 ADA."
   ]
  },
  {
   "cell_type": "code",
   "execution_count": 23,
   "id": "745f9a48-5b60-490a-a268-a09b2ab651ed",
   "metadata": {},
   "outputs": [
    {
     "name": "stdout",
     "output_type": "stream",
     "text": [
      "                           TxHash                                 TxIx        Amount\n",
      "--------------------------------------------------------------------------------------\n",
      "384b93dedbe32fb48921853c0365c9a8f0be3425d5211e020952da08ff1cb6fa     0        14633314 lovelace + TxOutDatumNone\n",
      "38ac0d8404542e45b9f23acb967169aed4ce5f5f65a20b8de79fbed5fc1593f0     1        2000000 lovelace + 1 1c964b2b89b6c9d2a8e2d564a3541b3b355d0451825ad0481a63f86c.434d + TxOutDatumNone\n"
     ]
    }
   ],
   "source": [
    "cardano-cli query utxo --testnet-magic \"$CARDANO_TESTNET_MAGIC\" --address \"$MEDIATOR_ADDRESS\""
   ]
  },
  {
   "cell_type": "markdown",
   "id": "4f6c79e4-7f38-4270-bc08-01b0e101588d",
   "metadata": {},
   "source": [
    "The Plutus script for the Marlowe contract now contains the 3 ADA that the mediator deposited."
   ]
  },
  {
   "cell_type": "code",
   "execution_count": 24,
   "id": "301ab347-33f7-41b9-bcb5-cc63c68dd8d7",
   "metadata": {},
   "outputs": [
    {
     "name": "stdout",
     "output_type": "stream",
     "text": [
      "addr_test1wzkcad2ay3lhr5x3xtjx5895grlfpjp3czf8vlnn9yraafsuy7nk8\n"
     ]
    }
   ],
   "source": [
    "CONTRACT_ADDRESS=$(jq -r '.marloweValidator.address' tx-1.marlowe)\n",
    "echo \"$CONTRACT_ADDRESS\""
   ]
  },
  {
   "cell_type": "code",
   "execution_count": 25,
   "id": "bc1292d3-53da-43ef-a3e8-d3f49a5a9bb4",
   "metadata": {},
   "outputs": [
    {
     "name": "stdout",
     "output_type": "stream",
     "text": [
      "                           TxHash                                 TxIx        Amount\n",
      "--------------------------------------------------------------------------------------\n",
      "384b93dedbe32fb48921853c0365c9a8f0be3425d5211e020952da08ff1cb6fa     1        3000000 lovelace + TxOutDatumHash ScriptDataInAlonzoEra \"6e380a227e612bef7c95581cdb072cddb6baa55886e783ce3f7d08da07a3c8d2\"\n"
     ]
    }
   ],
   "source": [
    "cardano-cli query utxo --testnet-magic \"$CARDANO_TESTNET_MAGIC\" --address \"$CONTRACT_ADDRESS\""
   ]
  },
  {
   "cell_type": "markdown",
   "id": "e2166e0c-108b-40e5-b720-00043d697e1a",
   "metadata": {},
   "source": [
    "## Transaction 2: Buyer Deposits Funds into Seller’s Account"
   ]
  },
  {
   "cell_type": "code",
   "execution_count": 26,
   "id": "1a64df49-504b-4ddb-8f54-f2b912892c15",
   "metadata": {},
   "outputs": [
    {
     "name": "stdout",
     "output_type": "stream",
     "text": [
      "\n",
      "Datum size: 463\n"
     ]
    }
   ],
   "source": [
    "marlowe-cli run prepare --marlowe-file tx-1.marlowe           \\\n",
    "                        --deposit-account \"Role=$SELLER_ROLE\" \\\n",
    "                        --deposit-party \"Role=$BUYER_ROLE\"    \\\n",
    "                        --deposit-amount \"$PRICE\"             \\\n",
    "                        --invalid-before \"$NOW\"               \\\n",
    "                        --invalid-hereafter \"$((NOW+9*HOUR))\" \\\n",
    "                        --out-file tx-2.marlowe               \\\n",
    "                        --print-stats"
   ]
  },
  {
   "cell_type": "markdown",
   "id": "bb97f9fa-4439-485c-896a-22f5d47ab90e",
   "metadata": {},
   "source": [
    "The buyer uses their UTxOs and the script UTxO to deposit their funds."
   ]
  },
  {
   "cell_type": "code",
   "execution_count": 27,
   "id": "343596c7-b587-4526-b7ab-83a323d39f51",
   "metadata": {},
   "outputs": [
    {
     "name": "stdout",
     "output_type": "stream",
     "text": [
      "\n",
      "Fee: Lovelace 1296004\n",
      "Size: 14041 / 32768 = 42%\n",
      "Execution units:\n",
      "  Memory: 6041956 / 30000000 = 20%\n",
      "  Steps: 2143271103 / 10000000000 = 21%\n",
      "TxId \"75e3c5e2960b1486100b7318bc892d25060447b7e94af4264055f703e11356a4\"\n"
     ]
    }
   ],
   "source": [
    "marlowe-cli run execute --marlowe-in-file tx-1.marlowe                        \\\n",
    "                        --tx-in-marlowe \"$TX_1#1\"                             \\\n",
    "                        --tx-in-collateral \"$TX_0_BUYER_ADA\"                  \\\n",
    "                        --tx-in \"$TX_0_BUYER_ADA\"                             \\\n",
    "                        --tx-in \"$TX_0_BUYER_TOKEN\"                           \\\n",
    "                        --required-signer \"$BUYER_SKEY\"                       \\\n",
    "                        --marlowe-out-file tx-2.marlowe                       \\\n",
    "                        --tx-out \"$BUYER_ADDRESS+$MINIMUM_ADA+1 $BUYER_TOKEN\" \\\n",
    "                        --change-address \"$BUYER_ADDRESS\"                     \\\n",
    "                        --out-file tx-2.raw                                   \\\n",
    "                        --print-stats                                         \\\n",
    "                        --submit=600"
   ]
  },
  {
   "cell_type": "code",
   "execution_count": 28,
   "id": "2a90fa1b-1ee7-4306-838a-d64167043c23",
   "metadata": {},
   "outputs": [],
   "source": [
    "TX_2=75e3c5e2960b1486100b7318bc892d25060447b7e94af4264055f703e11356a4"
   ]
  },
  {
   "cell_type": "markdown",
   "id": "a7548b87-b727-4c68-a1ea-4b5fa7009dbc",
   "metadata": {},
   "source": [
    "## UTxOs in Transaction 2\n",
    "\n",
    "![Transaction 2](diagrams/escrow-utxos-2-only.svg)"
   ]
  },
  {
   "cell_type": "markdown",
   "id": "3cec8711-f512-4542-a63d-38003a094d3a",
   "metadata": {},
   "source": [
    "## Results of Transaction 2\n",
    "\n",
    "The buyer now has a less ADA because they deposited 256 ADA."
   ]
  },
  {
   "cell_type": "code",
   "execution_count": 29,
   "id": "dbfbeea3-68f2-44bf-88d4-01728669a33c",
   "metadata": {},
   "outputs": [
    {
     "name": "stdout",
     "output_type": "stream",
     "text": [
      "                           TxHash                                 TxIx        Amount\n",
      "--------------------------------------------------------------------------------------\n",
      "75e3c5e2960b1486100b7318bc892d25060447b7e94af4264055f703e11356a4     0        40535019 lovelace + TxOutDatumNone\n",
      "75e3c5e2960b1486100b7318bc892d25060447b7e94af4264055f703e11356a4     2        2000000 lovelace + 1 1c964b2b89b6c9d2a8e2d564a3541b3b355d0451825ad0481a63f86c.544d + TxOutDatumNone\n"
     ]
    }
   ],
   "source": [
    "cardano-cli query utxo --testnet-magic \"$CARDANO_TESTNET_MAGIC\" --address \"$BUYER_ADDRESS\""
   ]
  },
  {
   "cell_type": "markdown",
   "id": "83b2b1ca-628f-4d13-aaae-5d32e96c0780",
   "metadata": {},
   "source": [
    "The Plutus script for the Marlowe contract now contains the additional 256 ADA that the buyer deposited."
   ]
  },
  {
   "cell_type": "code",
   "execution_count": 30,
   "id": "f59d948d-c857-41dc-9457-6f6c9f670b2e",
   "metadata": {},
   "outputs": [
    {
     "name": "stdout",
     "output_type": "stream",
     "text": [
      "                           TxHash                                 TxIx        Amount\n",
      "--------------------------------------------------------------------------------------\n",
      "75e3c5e2960b1486100b7318bc892d25060447b7e94af4264055f703e11356a4     1        259000000 lovelace + TxOutDatumHash ScriptDataInAlonzoEra \"064c013ad3c6680e8988f11d6a86a2b85f863a98c7638ee279f5d8475480625e\"\n"
     ]
    }
   ],
   "source": [
    "cardano-cli query utxo --testnet-magic \"$CARDANO_TESTNET_MAGIC\" --address \"$CONTRACT_ADDRESS\""
   ]
  },
  {
   "cell_type": "markdown",
   "id": "1a416c81-4ccb-4964-aab8-e2d76fc4512a",
   "metadata": {},
   "source": [
    "## Transaction 3: The Buyer Reports That There is a Problem"
   ]
  },
  {
   "cell_type": "code",
   "execution_count": 31,
   "id": "4d79bf4c-11f4-454f-81db-c356150f164b",
   "metadata": {},
   "outputs": [
    {
     "name": "stdout",
     "output_type": "stream",
     "text": [
      "\n",
      "Datum size: 341\n",
      "Payment 1\n",
      "  Acccount: \"FB\"\n",
      "  Payee: Account \"TM\"\n",
      "  Ada: 256.000000\n"
     ]
    }
   ],
   "source": [
    "marlowe-cli run prepare --marlowe-file tx-2.marlowe           \\\n",
    "                        --choice-name \"Report problem\"        \\\n",
    "                        --choice-party \"Role=$BUYER_ROLE\"     \\\n",
    "                        --choice-number 1                     \\\n",
    "                        --invalid-before \"$NOW\"               \\\n",
    "                        --invalid-hereafter \"$((NOW+9*HOUR))\" \\\n",
    "                        --out-file tx-3.marlowe               \\\n",
    "                        --print-stats"
   ]
  },
  {
   "cell_type": "markdown",
   "id": "e021e38d-a43c-41f3-9a7a-fdec22399a53",
   "metadata": {},
   "source": [
    "The buyer uses their UTxOs and the script UTxO to report that there is a problem."
   ]
  },
  {
   "cell_type": "code",
   "execution_count": 32,
   "id": "f4b3c269-2c11-4d75-bcf7-4316cc3c88df",
   "metadata": {},
   "outputs": [
    {
     "name": "stdout",
     "output_type": "stream",
     "text": [
      "\n",
      "Fee: Lovelace 1371485\n",
      "Size: 13896 / 32768 = 42%\n",
      "Execution units:\n",
      "  Memory: 7092394 / 30000000 = 23%\n",
      "  Steps: 2438012013 / 10000000000 = 24%\n",
      "TxId \"ec7ada2334eb94e7f5922f7d764853f60ca6936754a37439675f6f2f33fa241a\"\n"
     ]
    }
   ],
   "source": [
    "marlowe-cli run execute --marlowe-in-file tx-2.marlowe                        \\\n",
    "                        --tx-in-marlowe \"$TX_2#1\"                             \\\n",
    "                        --tx-in-collateral \"$TX_2#0\"                          \\\n",
    "                        --tx-in \"$TX_2#0\"                                     \\\n",
    "                        --tx-in \"$TX_2#2\"                                     \\\n",
    "                        --required-signer \"$BUYER_SKEY\"                       \\\n",
    "                        --marlowe-out-file tx-3.marlowe                       \\\n",
    "                        --tx-out \"$BUYER_ADDRESS+$MINIMUM_ADA+1 $BUYER_TOKEN\" \\\n",
    "                        --change-address \"$BUYER_ADDRESS\"                     \\\n",
    "                        --out-file tx-3.raw                                   \\\n",
    "                        --print-stats                                         \\\n",
    "                        --submit=600"
   ]
  },
  {
   "cell_type": "code",
   "execution_count": 33,
   "id": "e6053756-1bfe-473d-831c-74182ba2d1fc",
   "metadata": {},
   "outputs": [],
   "source": [
    "TX_3=ec7ada2334eb94e7f5922f7d764853f60ca6936754a37439675f6f2f33fa241a"
   ]
  },
  {
   "cell_type": "markdown",
   "id": "b064c819-186e-4692-9426-bfcfbb76215c",
   "metadata": {},
   "source": [
    "## UTxOs in Transaction 3\n",
    "\n",
    "![Transaction 3](diagrams/escrow-utxos-3-only.svg)"
   ]
  },
  {
   "cell_type": "markdown",
   "id": "c6b47988-847f-42b0-8262-e3fcc058bd64",
   "metadata": {},
   "source": [
    "## Results of Transaction 3\n",
    "\n",
    "The buyer now has a approximately the same amount of ADA because they only reported the problem and didn't deposit anything."
   ]
  },
  {
   "cell_type": "code",
   "execution_count": 34,
   "id": "175b5f43-d431-4343-a3e8-82580b6fb718",
   "metadata": {},
   "outputs": [
    {
     "name": "stdout",
     "output_type": "stream",
     "text": [
      "                           TxHash                                 TxIx        Amount\n",
      "--------------------------------------------------------------------------------------\n",
      "ec7ada2334eb94e7f5922f7d764853f60ca6936754a37439675f6f2f33fa241a     0        39163534 lovelace + TxOutDatumNone\n",
      "ec7ada2334eb94e7f5922f7d764853f60ca6936754a37439675f6f2f33fa241a     2        2000000 lovelace + 1 1c964b2b89b6c9d2a8e2d564a3541b3b355d0451825ad0481a63f86c.544d + TxOutDatumNone\n"
     ]
    }
   ],
   "source": [
    "cardano-cli query utxo --testnet-magic \"$CARDANO_TESTNET_MAGIC\" --address \"$BUYER_ADDRESS\""
   ]
  },
  {
   "cell_type": "markdown",
   "id": "2f471fee-da85-4bd8-b7df-c22f5a2105d2",
   "metadata": {},
   "source": [
    "The ADA at the Plutus script hasn't changed, but the datum there has changed."
   ]
  },
  {
   "cell_type": "code",
   "execution_count": 35,
   "id": "f40dedb7-baef-4525-a689-81cc8a56517a",
   "metadata": {},
   "outputs": [
    {
     "name": "stdout",
     "output_type": "stream",
     "text": [
      "                           TxHash                                 TxIx        Amount\n",
      "--------------------------------------------------------------------------------------\n",
      "ec7ada2334eb94e7f5922f7d764853f60ca6936754a37439675f6f2f33fa241a     1        259000000 lovelace + TxOutDatumHash ScriptDataInAlonzoEra \"d9c96497784109bbfae3ff3e4693082cb38b917d0e56c9d1613cd663d071ba42\"\n"
     ]
    }
   ],
   "source": [
    "cardano-cli query utxo --testnet-magic \"$CARDANO_TESTNET_MAGIC\" --address \"$CONTRACT_ADDRESS\""
   ]
  },
  {
   "cell_type": "markdown",
   "id": "6429ba4f-da3b-485f-9515-fc4fd0fc8e05",
   "metadata": {},
   "source": [
    "## Transaction 4: The Seller Disputes that There is a Problem"
   ]
  },
  {
   "cell_type": "code",
   "execution_count": 36,
   "id": "da050fe9-5bde-4dae-8580-d239bd57a90a",
   "metadata": {},
   "outputs": [
    {
     "name": "stdout",
     "output_type": "stream",
     "text": [
      "\n",
      "Datum size: 262\n"
     ]
    }
   ],
   "source": [
    "marlowe-cli run prepare --marlowe-file tx-3.marlowe            \\\n",
    "                        --choice-name \"Dispute problem\"        \\\n",
    "                        --choice-party \"Role=$SELLER_ROLE\"     \\\n",
    "                        --choice-number 0                      \\\n",
    "                        --invalid-before \"$NOW\"                \\\n",
    "                        --invalid-hereafter \"$((NOW+9*HOUR))\"  \\\n",
    "                        --out-file tx-4.marlowe                \\\n",
    "                        --print-stats"
   ]
  },
  {
   "cell_type": "markdown",
   "id": "e3164441-546d-4188-90e1-8bdb94eadce0",
   "metadata": {},
   "source": [
    "The seller uses their UTxOs and the script UTxO to dispute that there is a problem."
   ]
  },
  {
   "cell_type": "code",
   "execution_count": 37,
   "id": "48f81d3d-f4ed-43e4-b095-fbae16242ef9",
   "metadata": {},
   "outputs": [
    {
     "name": "stdout",
     "output_type": "stream",
     "text": [
      "\n",
      "Fee: Lovelace 1243679\n",
      "Size: 13696 / 32768 = 41%\n",
      "Execution units:\n",
      "  Memory: 5646268 / 30000000 = 18%\n",
      "  Steps: 1944739687 / 10000000000 = 19%\n",
      "TxId \"77d328a6042d24876b6943ebbf263d1457d83a537ab9bfe80af5daf6068c983a\"\n"
     ]
    }
   ],
   "source": [
    "marlowe-cli run execute --marlowe-in-file tx-3.marlowe                          \\\n",
    "                        --tx-in-marlowe \"$TX_3#1\"                               \\\n",
    "                        --tx-in-collateral \"$TX_0_SELLER_ADA\"                   \\\n",
    "                        --tx-in \"$TX_0_SELLER_ADA\"                              \\\n",
    "                        --tx-in \"$TX_0_SELLER_TOKEN\"                            \\\n",
    "                        --required-signer \"$SELLER_SKEY\"                        \\\n",
    "                        --marlowe-out-file tx-4.marlowe                         \\\n",
    "                        --tx-out \"$SELLER_ADDRESS+$MINIMUM_ADA+1 $SELLER_TOKEN\" \\\n",
    "                        --change-address \"$SELLER_ADDRESS\"                      \\\n",
    "                        --out-file tx-4.raw                                     \\\n",
    "                        --print-stats                                           \\\n",
    "                        --submit=600"
   ]
  },
  {
   "cell_type": "code",
   "execution_count": 38,
   "id": "5ca7a809-e623-44d7-9ab0-1dc4ed9d2a26",
   "metadata": {},
   "outputs": [],
   "source": [
    "TX_4=77d328a6042d24876b6943ebbf263d1457d83a537ab9bfe80af5daf6068c983a"
   ]
  },
  {
   "cell_type": "markdown",
   "id": "9a79d0a8-3788-4ee3-bd83-9faa70fae6e3",
   "metadata": {},
   "source": [
    "## UTxOs in Transaction 4\n",
    "\n",
    "![Transaction 4](diagrams/escrow-utxos-4-only.svg)"
   ]
  },
  {
   "cell_type": "markdown",
   "id": "a783a7de-2c53-4ebc-b09a-05572afc71ca",
   "metadata": {},
   "source": [
    "## Results of Transaction 4\n",
    "\n",
    "The seller now has a approximately the same amount of ADA because they only disputed the problem and didn't deposit anything."
   ]
  },
  {
   "cell_type": "code",
   "execution_count": 39,
   "id": "2b8b2615-9a05-4272-b200-588087ce4e9c",
   "metadata": {},
   "outputs": [
    {
     "name": "stdout",
     "output_type": "stream",
     "text": [
      "                           TxHash                                 TxIx        Amount\n",
      "--------------------------------------------------------------------------------------\n",
      "77d328a6042d24876b6943ebbf263d1457d83a537ab9bfe80af5daf6068c983a     0        36587344 lovelace + TxOutDatumNone\n",
      "77d328a6042d24876b6943ebbf263d1457d83a537ab9bfe80af5daf6068c983a     2        2000000 lovelace + 1 1c964b2b89b6c9d2a8e2d564a3541b3b355d0451825ad0481a63f86c.4642 + TxOutDatumNone\n"
     ]
    }
   ],
   "source": [
    "cardano-cli query utxo --testnet-magic \"$CARDANO_TESTNET_MAGIC\" --address \"$SELLER_ADDRESS\""
   ]
  },
  {
   "cell_type": "markdown",
   "id": "f431bef1-0b57-4542-81fc-e39178fd8326",
   "metadata": {},
   "source": [
    "The ADA at the Plutus script hasn't changed, but the datum there has changed."
   ]
  },
  {
   "cell_type": "code",
   "execution_count": 40,
   "id": "40580f3d-10aa-4557-b3bf-9dda13528e41",
   "metadata": {},
   "outputs": [
    {
     "name": "stdout",
     "output_type": "stream",
     "text": [
      "                           TxHash                                 TxIx        Amount\n",
      "--------------------------------------------------------------------------------------\n",
      "77d328a6042d24876b6943ebbf263d1457d83a537ab9bfe80af5daf6068c983a     1        259000000 lovelace + TxOutDatumHash ScriptDataInAlonzoEra \"285403ff2e05a649eb8aa6bed12945d4d47efc1b660cf7cfa4ccc02939a98263\"\n"
     ]
    }
   ],
   "source": [
    "cardano-cli query utxo --testnet-magic \"$CARDANO_TESTNET_MAGIC\" --address \"$CONTRACT_ADDRESS\""
   ]
  },
  {
   "cell_type": "markdown",
   "id": "29edde4f-b562-4310-8ffb-0f083fe5d247",
   "metadata": {},
   "source": [
    "## Transaction 5: The Mediator Dismisses the Claim"
   ]
  },
  {
   "cell_type": "code",
   "execution_count": 41,
   "id": "81c11f2a-d182-4a61-9e74-052aa17c4113",
   "metadata": {},
   "outputs": [
    {
     "name": "stdout",
     "output_type": "stream",
     "text": [
      "\n",
      "Datum size: 104\n",
      "Payment 1\n",
      "  Acccount: \"TM\"\n",
      "  Payee: Account \"FB\"\n",
      "  Ada: 256.000000\n",
      "Payment 2\n",
      "  Acccount: \"CM\"\n",
      "  Payee: Party \"CM\"\n",
      "  Ada: 3.000000\n",
      "Payment 3\n",
      "  Acccount: \"FB\"\n",
      "  Payee: Party \"FB\"\n",
      "  Ada: 256.000000\n"
     ]
    }
   ],
   "source": [
    "marlowe-cli run prepare --marlowe-file tx-4.marlowe           \\\n",
    "                        --choice-name \"Dismiss claim\"         \\\n",
    "                        --choice-party \"Role=$MEDIATOR_ROLE\"  \\\n",
    "                        --choice-number 0                     \\\n",
    "                        --invalid-before \"$NOW\"               \\\n",
    "                        --invalid-hereafter \"$((NOW+9*HOUR))\" \\\n",
    "                        --out-file tx-5.marlowe               \\\n",
    "                        --print-stats"
   ]
  },
  {
   "cell_type": "markdown",
   "id": "3f5eb149-3ec6-4b73-9eec-a500f0f6a725",
   "metadata": {},
   "source": [
    "The mediator user their UTxOs and the script UTxO to dismiss the claim, in favor of the seller."
   ]
  },
  {
   "cell_type": "code",
   "execution_count": 42,
   "id": "a2b4af0c-2e9a-4a61-a718-cb2d514ce9e1",
   "metadata": {},
   "outputs": [
    {
     "name": "stdout",
     "output_type": "stream",
     "text": [
      "\n",
      "Fee: Lovelace 1234387\n",
      "Size: 13430 / 32768 = 40%\n",
      "Execution units:\n",
      "  Memory: 5706864 / 30000000 = 19%\n",
      "  Steps: 1929702732 / 10000000000 = 19%\n",
      "TxId \"baa487b158dbf4add2e90e03c40ad869b1c3a9163a28cbee1be8c43ba6a24737\"\n"
     ]
    }
   ],
   "source": [
    "marlowe-cli run execute --marlowe-in-file tx-4.marlowe                              \\\n",
    "                        --tx-in-marlowe \"$TX_4#1\"                                   \\\n",
    "                        --tx-in-collateral \"$TX_1#0\"                                \\\n",
    "                        --tx-in \"$TX_1#0\"                                           \\\n",
    "                        --tx-in \"$TX_0_MEDIATOR_TOKEN\"                              \\\n",
    "                        --required-signer \"$MEDIATOR_SKEY\"                          \\\n",
    "                        --marlowe-out-file tx-5.marlowe                             \\\n",
    "                        --tx-out \"$MEDIATOR_ADDRESS+$MINIMUM_ADA+1 $MEDIATOR_TOKEN\" \\\n",
    "                        --change-address \"$MEDIATOR_ADDRESS\"                        \\\n",
    "                        --out-file tx-5.raw                                         \\\n",
    "                        --print-stats                                               \\\n",
    "                        --submit=600"
   ]
  },
  {
   "cell_type": "code",
   "execution_count": 43,
   "id": "bef4956a-74c7-41fb-9230-5480c48f059d",
   "metadata": {},
   "outputs": [],
   "source": [
    "TX_5=baa487b158dbf4add2e90e03c40ad869b1c3a9163a28cbee1be8c43ba6a24737"
   ]
  },
  {
   "cell_type": "markdown",
   "id": "17421d10-d9cb-4d73-92e6-735cce554429",
   "metadata": {},
   "source": [
    "## UTxOs in Transaction 5\n",
    "\n",
    "![Transaction 5](diagrams/escrow-utxos-5-only.svg)"
   ]
  },
  {
   "cell_type": "markdown",
   "id": "e950874b-2516-40a8-87b4-fa2ed461a7f9",
   "metadata": {},
   "source": [
    "## Results of Transaction 5\n",
    "\n",
    "The mediator now has a approximately the same amount of ADA because they only settled the claim and didn't deposit anything."
   ]
  },
  {
   "cell_type": "code",
   "execution_count": 44,
   "id": "1b215b1d-815a-44bf-b29b-ac3cd7c993d6",
   "metadata": {},
   "outputs": [
    {
     "name": "stdout",
     "output_type": "stream",
     "text": [
      "                           TxHash                                 TxIx        Amount\n",
      "--------------------------------------------------------------------------------------\n",
      "baa487b158dbf4add2e90e03c40ad869b1c3a9163a28cbee1be8c43ba6a24737     0        13398927 lovelace + TxOutDatumNone\n",
      "baa487b158dbf4add2e90e03c40ad869b1c3a9163a28cbee1be8c43ba6a24737     3        2000000 lovelace + 1 1c964b2b89b6c9d2a8e2d564a3541b3b355d0451825ad0481a63f86c.434d + TxOutDatumNone\n"
     ]
    }
   ],
   "source": [
    "cardano-cli query utxo --testnet-magic \"$CARDANO_TESTNET_MAGIC\" --address \"$MEDIATOR_ADDRESS\""
   ]
  },
  {
   "cell_type": "markdown",
   "id": "81dc0969-c2bc-4fb5-a9cc-b764d913d83a",
   "metadata": {},
   "source": [
    "The contract is complete, so there is no ADA at the Plutus script address."
   ]
  },
  {
   "cell_type": "code",
   "execution_count": 45,
   "id": "47334bd7-e268-4048-ae7d-9d86cb0e2836",
   "metadata": {},
   "outputs": [
    {
     "name": "stdout",
     "output_type": "stream",
     "text": [
      "                           TxHash                                 TxIx        Amount\n",
      "--------------------------------------------------------------------------------------\n"
     ]
    }
   ],
   "source": [
    "cardano-cli query utxo --testnet-magic \"$CARDANO_TESTNET_MAGIC\" --address \"$CONTRACT_ADDRESS\""
   ]
  },
  {
   "cell_type": "markdown",
   "id": "168e1364-dc6e-4aad-bbb6-3ad972580738",
   "metadata": {},
   "source": [
    "The payout script address now contains payments that the seller and mediator can claim."
   ]
  },
  {
   "cell_type": "code",
   "execution_count": 46,
   "id": "ee81e7d5-a659-4761-951c-1821b64e164c",
   "metadata": {},
   "outputs": [
    {
     "name": "stdout",
     "output_type": "stream",
     "text": [
      "addr_test1wrhuxnrrnjkz3le2e0xt5zdstk0xhsv0hdwhvguyshjc95sajj7wh\n"
     ]
    }
   ],
   "source": [
    "ROLE_ADDRESS=$(jq -r '.rolesValidator.address' tx-1.marlowe)\n",
    "echo \"$ROLE_ADDRESS\""
   ]
  },
  {
   "cell_type": "code",
   "execution_count": 47,
   "id": "5fdaca82-2c1b-42af-99f0-5efa6d91b3d1",
   "metadata": {},
   "outputs": [
    {
     "name": "stdout",
     "output_type": "stream",
     "text": [
      "                           TxHash                                 TxIx        Amount\n",
      "--------------------------------------------------------------------------------------\n",
      "baa487b158dbf4add2e90e03c40ad869b1c3a9163a28cbee1be8c43ba6a24737     1        3000000 lovelace + TxOutDatumHash ScriptDataInAlonzoEra \"1d8ad8b0a642297fa38291e4522015f82d47774e9a9829345a0952c654f427a3\"\n",
      "baa487b158dbf4add2e90e03c40ad869b1c3a9163a28cbee1be8c43ba6a24737     2        256000000 lovelace + TxOutDatumHash ScriptDataInAlonzoEra \"f605a13bb90b0f530748173887182b9135318402c3d5c989e40cca12b283664b\"\n"
     ]
    }
   ],
   "source": [
    "cardano-cli query utxo --testnet-magic \"$CARDANO_TESTNET_MAGIC\" --address \"$ROLE_ADDRESS\""
   ]
  },
  {
   "cell_type": "markdown",
   "id": "1111ac65-fd60-429a-811f-dfe3440e6b95",
   "metadata": {},
   "source": [
    "## Transaction 6: The Seller Withdraws Their Funds\n",
    "\n",
    "The `marlowe-cli run withdraw` command lets the seller withdraw their funds from the payout script address."
   ]
  },
  {
   "cell_type": "code",
   "execution_count": 48,
   "id": "47069ca8-399a-42d1-9886-ba3a8682a696",
   "metadata": {},
   "outputs": [
    {
     "name": "stdout",
     "output_type": "stream",
     "text": [
      "\n",
      "Fee: Lovelace 422221\n",
      "Size: 2885 / 32768 = 8%\n",
      "Execution units:\n",
      "  Memory: 1407010 / 30000000 = 4%\n",
      "  Steps: 541567360 / 10000000000 = 5%\n",
      "TxId \"f92e098a405fc1db52a12a2df2a98ecccc9002dc8c0dc12ec07e106dfc641dc3\"\n"
     ]
    }
   ],
   "source": [
    "marlowe-cli run withdraw --marlowe-file tx-5.marlowe                             \\\n",
    "                         --role-name \"$SELLER_ROLE\"                              \\\n",
    "                         --tx-in \"$TX_4#0\"                                       \\\n",
    "                         --tx-in \"$TX_4#2\"                                       \\\n",
    "                         --tx-in-collateral \"$TX_4#0\"                            \\\n",
    "                         --required-signer \"$SELLER_SKEY\"                        \\\n",
    "                         --tx-out \"$SELLER_ADDRESS+$MINIMUM_ADA+1 $SELLER_TOKEN\" \\\n",
    "                         --change-address \"$SELLER_ADDRESS\"                      \\\n",
    "                         --out-file tx-6.raw                                     \\\n",
    "                         --print-stats                                           \\\n",
    "                         --submit=600"
   ]
  },
  {
   "cell_type": "code",
   "execution_count": 49,
   "id": "40ce4812-c4c2-481e-88fc-9dcc2f45868b",
   "metadata": {},
   "outputs": [],
   "source": [
    "TX_6=f92e098a405fc1db52a12a2df2a98ecccc9002dc8c0dc12ec07e106dfc641dc3"
   ]
  },
  {
   "cell_type": "markdown",
   "id": "b6810ff6-11f0-46f5-8712-a26a950e80c0",
   "metadata": {},
   "source": [
    "## UTxOs in Transaction 6\n",
    "\n",
    "![Transaction 6](diagrams/escrow-utxos-6-only.svg)"
   ]
  },
  {
   "cell_type": "markdown",
   "id": "63fe94bf-cea5-4505-9998-e9e5e98d484c",
   "metadata": {},
   "source": [
    "## Transaction 7: The Mediator Withdraws Their Funds"
   ]
  },
  {
   "cell_type": "code",
   "execution_count": 50,
   "id": "43459659-f4f8-4387-9954-d153e4063f86",
   "metadata": {},
   "outputs": [
    {
     "name": "stdout",
     "output_type": "stream",
     "text": [
      "\n",
      "Fee: Lovelace 426563\n",
      "Size: 2885 / 32768 = 8%\n",
      "Execution units:\n",
      "  Memory: 1461810 / 30000000 = 4%\n",
      "  Steps: 557930172 / 10000000000 = 5%\n",
      "TxId \"98c5ab8be5b78513b9313a568b70e86473da7618dd91c0a265b83be1bc73e6eb\"\n"
     ]
    }
   ],
   "source": [
    "marlowe-cli run withdraw --marlowe-file tx-5.marlowe                                 \\\n",
    "                         --role-name \"$MEDIATOR_ROLE\"                                \\\n",
    "                         --tx-in \"$TX_5#0\"                                           \\\n",
    "                         --tx-in \"$TX_5#3\"                                          \\\n",
    "                         --tx-in-collateral \"$TX_5#0\"                                \\\n",
    "                         --required-signer \"$MEDIATOR_SKEY\"                          \\\n",
    "                         --tx-out \"$MEDIATOR_ADDRESS+$MINIMUM_ADA+1 $MEDIATOR_TOKEN\" \\\n",
    "                         --change-address \"$MEDIATOR_ADDRESS\"                        \\\n",
    "                         --out-file tx-7.raw                                         \\\n",
    "                         --print-stats                                               \\\n",
    "                         --submit=600"
   ]
  },
  {
   "cell_type": "code",
   "execution_count": 51,
   "id": "617a7752-a946-4dcf-84d3-9b50dd7e9f0a",
   "metadata": {},
   "outputs": [],
   "source": [
    "TX_7=98c5ab8be5b78513b9313a568b70e86473da7618dd91c0a265b83be1bc73e6eb"
   ]
  },
  {
   "cell_type": "markdown",
   "id": "8ebeb850-7a2d-43fb-98a9-f6b617ac8075",
   "metadata": {},
   "source": [
    "## UTxOs in Transactions 7\n",
    "\n",
    "![Transaction 7](diagrams/escrow-utxos-7-only.svg)"
   ]
  },
  {
   "cell_type": "markdown",
   "id": "10cb3144-8b27-4319-841e-311aaa2c91e5",
   "metadata": {
    "tags": []
   },
   "source": [
    "## Results of Transactions 6 and 7\n",
    "\n",
    "The payout script address has no funds."
   ]
  },
  {
   "cell_type": "code",
   "execution_count": 52,
   "id": "18126b01-e2f8-4769-a782-6c43b395dda6",
   "metadata": {},
   "outputs": [
    {
     "name": "stdout",
     "output_type": "stream",
     "text": [
      "                           TxHash                                 TxIx        Amount\n",
      "--------------------------------------------------------------------------------------\n"
     ]
    }
   ],
   "source": [
    "cardano-cli query utxo --testnet-magic \"$CARDANO_TESTNET_MAGIC\" --address \"$ROLE_ADDRESS\""
   ]
  },
  {
   "cell_type": "markdown",
   "id": "43c03f11-0f9b-4fcc-93d8-2098b0560812",
   "metadata": {},
   "source": [
    "The mediator and seller have the funds they withdrew."
   ]
  },
  {
   "cell_type": "code",
   "execution_count": 53,
   "id": "4fbba8ec-1d01-4085-b547-e1113cf3f74e",
   "metadata": {},
   "outputs": [
    {
     "name": "stdout",
     "output_type": "stream",
     "text": [
      "                           TxHash                                 TxIx        Amount\n",
      "--------------------------------------------------------------------------------------\n",
      "98c5ab8be5b78513b9313a568b70e86473da7618dd91c0a265b83be1bc73e6eb     0        12972364 lovelace + TxOutDatumNone\n",
      "98c5ab8be5b78513b9313a568b70e86473da7618dd91c0a265b83be1bc73e6eb     1        3000000 lovelace + TxOutDatumNone\n",
      "98c5ab8be5b78513b9313a568b70e86473da7618dd91c0a265b83be1bc73e6eb     2        2000000 lovelace + 1 1c964b2b89b6c9d2a8e2d564a3541b3b355d0451825ad0481a63f86c.434d + TxOutDatumNone\n"
     ]
    }
   ],
   "source": [
    "cardano-cli query utxo --testnet-magic \"$CARDANO_TESTNET_MAGIC\" --address \"$MEDIATOR_ADDRESS\""
   ]
  },
  {
   "cell_type": "code",
   "execution_count": 54,
   "id": "1de29970-6484-47e5-8cc1-761fb5c7cc87",
   "metadata": {},
   "outputs": [
    {
     "name": "stdout",
     "output_type": "stream",
     "text": [
      "                           TxHash                                 TxIx        Amount\n",
      "--------------------------------------------------------------------------------------\n",
      "f92e098a405fc1db52a12a2df2a98ecccc9002dc8c0dc12ec07e106dfc641dc3     0        36165123 lovelace + TxOutDatumNone\n",
      "f92e098a405fc1db52a12a2df2a98ecccc9002dc8c0dc12ec07e106dfc641dc3     1        256000000 lovelace + TxOutDatumNone\n",
      "f92e098a405fc1db52a12a2df2a98ecccc9002dc8c0dc12ec07e106dfc641dc3     2        2000000 lovelace + 1 1c964b2b89b6c9d2a8e2d564a3541b3b355d0451825ad0481a63f86c.4642 + TxOutDatumNone\n"
     ]
    }
   ],
   "source": [
    "cardano-cli query utxo --testnet-magic \"$CARDANO_TESTNET_MAGIC\" --address \"$SELLER_ADDRESS\""
   ]
  },
  {
   "cell_type": "markdown",
   "id": "c997da1d-2398-4add-bc5e-67652934b1e5",
   "metadata": {},
   "source": [
    "## Clean Up\n",
    "\n",
    "We send the funds and role tokens back to the wallet."
   ]
  },
  {
   "cell_type": "code",
   "execution_count": 55,
   "id": "125d117f-cd32-44e5-8342-305de992a0e3",
   "metadata": {},
   "outputs": [
    {
     "name": "stdout",
     "output_type": "stream",
     "text": [
      "TxId \"1c53b73469335276e67c7bd59f64e7d01a3cf7ec21c801aee3c2709185395465\"\n"
     ]
    }
   ],
   "source": [
    "marlowe-cli transaction simple --required-signer \"$MEDIATOR_SKEY\"                                  \\\n",
    "                               --tx-in \"$TX_7#0\" --tx-in \"$TX_7#1\" --tx-in \"$TX_7#2\"               \\\n",
    "                               --required-signer \"$BUYER_SKEY\"                                     \\\n",
    "                               --tx-in \"$TX_3#0\" --tx-in \"$TX_3#2\"                                 \\\n",
    "                               --required-signer \"$SELLER_SKEY\"                                    \\\n",
    "                               --tx-in \"$TX_6#0\" --tx-in \"$TX_6#1\" --tx-in \"$TX_6#2\"               \\\n",
    "                               --tx-out \"$WALLET_ADDRESS+2000000+1 $ROLES_CURRENCY.$MEDIATOR_ROLE\" \\\n",
    "                               --tx-out \"$WALLET_ADDRESS+2000000+1 $ROLES_CURRENCY.$BUYER_ROLE\"    \\\n",
    "                               --tx-out \"$WALLET_ADDRESS+2000000+1 $ROLES_CURRENCY.$SELLER_ROLE\"   \\\n",
    "                               --change-address \"$WALLET_ADDRESS\"                                  \\\n",
    "                               --out-file /dev/null                                                \\\n",
    "                               --submit=600"
   ]
  },
  {
   "cell_type": "markdown",
   "id": "1bb9901f-9e8d-4479-af1c-bf32a49f111b",
   "metadata": {},
   "source": [
    "## Viewing Transactions on Cardano Explorer"
   ]
  },
  {
   "cell_type": "code",
   "execution_count": 56,
   "id": "15dda658-db99-4853-8470-4cf463e59498",
   "metadata": {},
   "outputs": [
    {
     "name": "stdout",
     "output_type": "stream",
     "text": [
      "Transaction 1: https://explorer.pioneers.testnet.marlowe-finance.io/en/transaction?id=384b93dedbe32fb48921853c0365c9a8f0be3425d5211e020952da08ff1cb6fa\n",
      "Transaction 2: https://explorer.pioneers.testnet.marlowe-finance.io/en/transaction?id=75e3c5e2960b1486100b7318bc892d25060447b7e94af4264055f703e11356a4\n",
      "Transaction 3: https://explorer.pioneers.testnet.marlowe-finance.io/en/transaction?id=ec7ada2334eb94e7f5922f7d764853f60ca6936754a37439675f6f2f33fa241a\n",
      "Transaction 4: https://explorer.pioneers.testnet.marlowe-finance.io/en/transaction?id=77d328a6042d24876b6943ebbf263d1457d83a537ab9bfe80af5daf6068c983a\n",
      "Transaction 5: https://explorer.pioneers.testnet.marlowe-finance.io/en/transaction?id=baa487b158dbf4add2e90e03c40ad869b1c3a9163a28cbee1be8c43ba6a24737\n",
      "Transaction 6: https://explorer.pioneers.testnet.marlowe-finance.io/en/transaction?id=f92e098a405fc1db52a12a2df2a98ecccc9002dc8c0dc12ec07e106dfc641dc3\n",
      "Transaction 7: https://explorer.pioneers.testnet.marlowe-finance.io/en/transaction?id=98c5ab8be5b78513b9313a568b70e86473da7618dd91c0a265b83be1bc73e6eb\n"
     ]
    }
   ],
   "source": [
    "echo 'Transaction 1: https://explorer.pioneers.testnet.marlowe-finance.io/en/transaction?id='\"$TX_1\"\n",
    "echo 'Transaction 2: https://explorer.pioneers.testnet.marlowe-finance.io/en/transaction?id='\"$TX_2\"\n",
    "echo 'Transaction 3: https://explorer.pioneers.testnet.marlowe-finance.io/en/transaction?id='\"$TX_3\"\n",
    "echo 'Transaction 4: https://explorer.pioneers.testnet.marlowe-finance.io/en/transaction?id='\"$TX_4\"\n",
    "echo 'Transaction 5: https://explorer.pioneers.testnet.marlowe-finance.io/en/transaction?id='\"$TX_5\"\n",
    "echo 'Transaction 6: https://explorer.pioneers.testnet.marlowe-finance.io/en/transaction?id='\"$TX_6\"\n",
    "echo 'Transaction 7: https://explorer.pioneers.testnet.marlowe-finance.io/en/transaction?id='\"$TX_7\""
   ]
  },
  {
   "cell_type": "markdown",
   "id": "65810b92-1637-4428-a3f6-64a7019ac4a4",
   "metadata": {},
   "source": [
    "## Progression of eUTxOs\n",
    "\n",
    "![Boxes are UTxOs; ovals are transactions; ADA values are rounded to one decimal place.](diagrams/escrow-utxos.gif)"
   ]
  },
  {
   "cell_type": "markdown",
   "id": "1d73807b-0cd0-4bca-aa67-690b3de2d45f",
   "metadata": {},
   "source": [
    "## Troubleshooting\n",
    "\n",
    "*   See the previous lecture, \"Running Marlowe Contracts without Blockchain Transactions\", for hints at troubleshooting the semantic aspects of a Marlowe contract.\n",
    "*   If the contract is too large to fit on the blockhain, use the `--merkleize` flag in `marlowe-cli run initialize` to minimize its on-chain size.\n",
    "*   If a transaction fails phase two validation, a terse Marlowe error will be reported:\n",
    "    *   `\"B0\"`: All accounts must have positive balances.\n",
    "    *   `\"B1\"`: The value input from the script does not match that specified in its datum.\n",
    "    *   If these errors occur during Plutus validation but not outside of it, then there likely is a clock inconsistency between local time and the node.\n",
    "        *   `\"E1\" = TEAmbiguousTimeIntervalError`: The time interval for a transaction straddles the timeout of a `When` clause.\n",
    "        *   `\"E2\" = TEApplyNoMatchError`: The attempted application of input to the contract was illegal.\n",
    "        *   `\"E3\" = TEIntervalError InvalidInterval`: The start of the time interval is after its end.\n",
    "        *   `\"E4\" = IntervalInPast`: The interval falls before the current time.\n",
    "        *   `\"E5\" = TEUselessTransaction`: The attempted application of input does not change the state of the contract.\n",
    "        *   `\"E6\" = TEHashMismatch`: An incorrect contract was provided for the merkleized continuation.\n",
    "    *   `\"H\"`: The merkleized continuation for the contract is missing from the transaction.\n",
    "    *   `\"I0\"`: The input datum was not provided to the script.\n",
    "    *   `\"I1\"`: Inputting from two Marlowe scripts with the same address in the same transaction is forbidden.\n",
    "    *   `\"L1+\"`: The datum or value at the script output does not match the contract's transition.\n",
    "    *   `\"O0\"`: Outputing to two Marlowe scripts with the same address in the same transaction is forbidden.\n",
    "    *   `\"P\"`: Insufficient value is paid to a public-key address.\n",
    "    *   `\"R\"`: Insufficient value is paid in a role payout.\n",
    "    *   `\"R0\"`: The slot/time validity range for the transaction is infinite or semi-infinite. The range should be finite/bounded.\n",
    "    *   `\"S\"`: A required public-key signature was not present in the transaction.\n",
    "    *   `\"T\"`: The role token authorizing the application of input is not present in the transaction.\n",
    "*   Validation error codes not mentioned above result from Plutus or Plutus Apps functions. "
   ]
  },
  {
   "cell_type": "markdown",
   "id": "05ec7065-6cbc-45c9-ad86-ff2e944e52f4",
   "metadata": {
    "tags": []
   },
   "source": [
    "## Resources\n",
    "\n",
    "*   Marlowe CLI documentation: https://github.com/input-output-hk/marlowe-cardano/blob/mpp-cli-lectures/marlowe-cli/ReadMe.md.\n",
    "*   Marlowe Debugging Cookbook: https://github.com/input-output-hk/marlowe-cardano/blob/mpp-cli-lectures/marlowe/debugging-cookbook.md.\n",
    "*   Example contracts with `marlowe-cli`: https://github.com/input-output-hk/marlowe-cardano/blob/mpp-cli-lectures/marlowe-cli/examples/ReadMe.md.\n",
    "*   Marlowe contract examples: https://github.com/input-output-hk/marlowe-cardano/tree/main/marlowe-contracts.\n",
    "*   Marlowe Playground: https://playground.marlowe.iohkdev.io/#/.\n",
    "*   Marlowe Run\n",
    "    *   On pioneers testnet: https://marlowe-run-marlowe-pioneers.plutus.aws.iohkdev.io/.\n",
    "    *   On mock network: https://marlowe-finance.io/.\n",
    "*   Cardano Docs for Marlowe: https://docs.cardano.org/marlowe/learn-about-marlowe.\n",
    "*   Plutus Pioneers Program: https://github.com/input-output-hk/plutus-pioneer-program.\n",
    "*   Plutus Community: https://plutus-community.readthedocs.io/en/latest/.\n",
    "*   The Plutonomicon: https://github.com/Plutonomicon/plutonomicon/blob/main/README.md."
   ]
  },
  {
   "cell_type": "markdown",
   "id": "3921a5b9-4479-4bf5-b815-e8c7da96b1b7",
   "metadata": {},
   "source": [
    "## Exercises\n",
    "\n",
    "1.  Alter the one or more of the command flags in `marlowe-cli run execute` in the above execution of the escrow contract so that the blockchain rejects the transaction because it fails validation by the Marlowe script. For example, omit including the required role token, sign with the wrong key, submit the transaction outside of the range between `--invalid-before` and `--invalid-hereafter`, or provide insufficient funds.\n",
    "2.  Repeat the above execution of the escrow contract, but have the seller choose to confirm the problem instead of disputing it.\n",
    "3.  Run a similar execution using a different contract from `marlowe-cli template --help`, Marlowe Playground, or https://github.com/input-output-hk/marlowe-cardano/tree/main/marlowe-contracts.\n",
    "4.  Draw a eUTxO diagram for a contract you have run with `marlowe-cli`, Marlowe Run, or Marlowe Playground."
   ]
  },
  {
   "cell_type": "markdown",
   "id": "a486770a-2915-490f-9cea-724c1f0e870e",
   "metadata": {
    "jp-MarkdownHeadingCollapsed": true,
    "tags": []
   },
   "source": [
    "## Summary\n",
    "\n",
    "*   Role tokens must be distributed to the parties involved in the transactions of a Marlowe contract.\n",
    "*   The `marlowe-cli run execute` command submits Marlowe transactions to the blockchain.\n",
    "*   The `marlowe-cli run withdraw` command submits a transaction to withdraw funds from Marlowe's payout script address.\n",
    "*   If the contract is large, use the `--merkleize` flag with `marlowe-cli run initialize`, so that the contract's on-chain storage is minimized.\n",
    "*   Transactions can be viewed on the Cardano explore at https://explorer.pioneers.testnet.marlowe-finance.io/en."
   ]
  },
  {
   "cell_type": "markdown",
   "id": "d39e9d63-9216-499d-8e39-b0f25e4ac872",
   "metadata": {
    "tags": []
   },
   "source": [
    "## Other Lectures\n",
    "\n",
    "Lectures on Marlowe CLI: https://github.com/input-output-hk/marlowe-cardano/blob/mpp-cli-lectures/marlowe-cli/lectures/ReadMe.md\n",
    "\n",
    "*   [Overview of Marlowe CLI](01-marlowe-cli-overview.ipynb)\n",
    "*   [Installing Marlowe CLI and Associated Tools](02-marlowe-cli-installation.ipynb)\n",
    "*   [Running Marlowe Contracts without Blockchain Transactions](03-marlowe-cli-abstract.ipynb)\n",
    "*   ~~Running Marlowe Contacts on the Blockchain~~\n",
    "*   [Running Marlowe Contracts with the Marlowe Backend](05-marlowe-cli-pab.ipynb)"
   ]
  }
 ],
 "metadata": {
  "kernelspec": {
   "display_name": "Bash - Marlowe",
   "language": "bash",
   "name": "bash_marlowe"
  },
  "language_info": {
   "codemirror_mode": "shell",
   "file_extension": ".sh",
   "mimetype": "text/x-sh",
   "name": "/nix/store/zwjm0gln1vk7x1akpyz0yxjsd1yc46gi-bash-5.1-p16/bin/bash"
  }
 },
 "nbformat": 4,
 "nbformat_minor": 5
}
