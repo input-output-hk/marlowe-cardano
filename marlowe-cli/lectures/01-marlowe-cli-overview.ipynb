{
 "cells": [
  {
   "cell_type": "markdown",
   "id": "1aa5c1df-498b-4c7c-a0b3-a84cc19d1e00",
   "metadata": {},
   "source": [
    "<font color=red>This lecture is a work in progress that will be finalized on 21 June 2022.</font>"
   ]
  },
  {
   "cell_type": "markdown",
   "id": "1e664cfd-0a31-4c11-9d3e-81c544774fa4",
   "metadata": {
    "tags": []
   },
   "source": [
    "# Overview of Marlowe CLI\n",
    "\n",
    "This lecture provides an introduction to the `marlowe-cli` tool, which allows one to create and interact with Marlowe contracts on the blockchain. It summarizes uses of the tool, the levels at which it can interact with Marlowe on the blockchain, and how Marlowe transactions relate to the Cardano's eUTxO model."
   ]
  },
  {
   "cell_type": "markdown",
   "id": "b3bc51d5-b622-4928-8a45-0e0b764042cf",
   "metadata": {
    "jp-MarkdownHeadingCollapsed": true,
    "tags": []
   },
   "source": [
    "## Purpose\n",
    "\n",
    "The `marlowe-cli` tool enables developers to submit transactions and interact from the command line with Marlowe contracts on the Cardano blockchain, just as the `cardano-cli` tool has enabled them to do so for plain transactions, simple scripts, and Plutus scripts.\n",
    "\n",
    "***Use Cases***\n",
    "\n",
    "1.  Facilitation of internal development and testing of Marlowe contracts.\n",
    "    1.  Measuring transaction size.\n",
    "    2.  Submitting transactions.\n",
    "    3.  Testing wallet integrations.\n",
    "    4.  Debugging validators.\n",
    "2.  Early access to Marlowe capabilities on testnet and mainnet.\n",
    "3.  Integration with external developer’s workflows and toolsets for Marlowe contracts, similar to how the Cardano development community has heavily integrated `cardano-cli` into various services (libraries, faucets, token minting, marketplaces, etc.).\n",
    "4.  Incorporation into training for use of Marlowe."
   ]
  },
  {
   "cell_type": "markdown",
   "id": "ed014549-5a00-4462-b4fd-f4e4e2cb4849",
   "metadata": {},
   "source": [
    "## Three Levels of Interaction with Marlowe on the Blockchain\n",
    "\n",
    "| Low Level | High Level | Plutus Application Backend (PAB) |\n",
    "|-----------|------------|----------------------------------|\n",
    "| • Supports developer workflows for debugging and fine-grained control of each atomic operation involved in running Marlowe contracts. | • Supports a straightforward workflow for users that just want to run contracts from the command line. | • Supports direct interaction with the PAB contracts and endpoints for running Marlowe from the command line. |\n",
    "| • Controls modification of Marlowe state and construction of Marlowe input. | • Hides details of input and state of Marlowe contracts. | • Hides details of UTxO management by interacting with a Cardano Wallet or Daedalus. |\n",
    "| • Controls construction and submission of validators, datums, and redeemers. | • Hides and automates many aspects of Plutus and interaction with the Cardano node. | • Mimics the workflow for using Marlowe Run. |\n",
    "| • Focus on the mechanics of Marlowe on Plutus and Cardano. | • Focuses on the Marlowe contract. | • Focuses on user interaction. |"
   ]
  },
  {
   "cell_type": "markdown",
   "id": "2a7141d9-12f4-474c-940c-80c23c5bcac7",
   "metadata": {},
   "source": [
    "## Review of eUTxO Model\n",
    "\n",
    "![Boxes are UTxOs; ovals are transactions.](diagrams/eutxo.png)"
   ]
  },
  {
   "cell_type": "markdown",
   "id": "a9692488-e8f5-4613-a283-ca3aa77a1260",
   "metadata": {},
   "source": [
    "## Marlowe Roles: Currency, Tokens, and Payouts\n",
    "\n",
    "*   Each Marlowe contract has a currency symbol for its roles and a payout validator script for receiving and disbursing payments to participants.\n",
    "*   Participants typically interact with Marlowe contracts by including a role token in transactions that the participant authorizes.\n",
    "    *   Role tokens are a concatenation of the currency symbol and the role name as the token name.\n",
    "*   Participants withdraw funds from a special payout script using their role token.\n",
    "    *   The payout Plutus script is unique to each role currency symbol.\n",
    "    *   The datum at the payout address is simply the token name for the participant that is allowed to spend that UTxO.\n",
    "    *   The redeemer for spending from the payout script is empty.\n",
    "*   Roles provide a flexible and secure way for participants to interact with Marlowe.\n",
    "*   Role tokens can be transferred from one wallet to another."
   ]
  },
  {
   "cell_type": "markdown",
   "id": "a02a1da2-ef2d-451a-94ae-f95e77dfd011",
   "metadata": {},
   "source": [
    "## Marlowe on the Blockchain\n",
    "\n",
    "| Component | Plutus Validator Script | Datum | Redeemer |\n",
    "|-----------|-------------------------|-------|----------|\n",
    "| Minting role tokens | One-shot monetary policy | n/a | n/a |\n",
    "| Marlowe application | Generic for all Marlowe contracts, but whose address is specialized to the roles for the contract | Unexecuted parts of the contract; balances for accounts; records of past inputs; values of parameters | Input to the next step of the contract,such as deposits, choices, or notifications |\n",
    "| Marlowe payouts | Specific to particular role currency | Role that is to be paid. | n/a |"
   ]
  },
  {
   "cell_type": "markdown",
   "id": "50e179c5-fe21-4051-a536-2517f56e3d0c",
   "metadata": {
    "tags": []
   },
   "source": [
    "## Life Cycle of a Marlowe Contract\n",
    "\n",
    "![Transitions in a Marlowe contract.](diagrams/lifecycle.png)"
   ]
  },
  {
   "cell_type": "markdown",
   "id": "fc0476f6-5850-4331-b00d-17f33481bae6",
   "metadata": {},
   "source": [
    "### Using Marlowe CLI to Study Transitions of a Marlowe Contract\n",
    "\n",
    "![`marlowe-cli` commands transitioning a Marlowe contract without submitting transactions.](diagrams/high-level-abstract.png)"
   ]
  },
  {
   "cell_type": "markdown",
   "id": "8ab449fb-3728-4fef-a491-549c809ab7d1",
   "metadata": {
    "jp-MarkdownHeadingCollapsed": true,
    "tags": []
   },
   "source": [
    "### Using Marlowe CLI to Execute Transactions for a Marlowe Contract\n",
    "\n",
    "![`marlowe-cli` commands for creating and submitting transactions for a Marlowe contract.](diagrams/high-level-concrete.png)"
   ]
  },
  {
   "cell_type": "markdown",
   "id": "bb3bc946-096b-4bdc-974c-1faffaa21007",
   "metadata": {
    "jp-MarkdownHeadingCollapsed": true,
    "tags": []
   },
   "source": [
    "### Transaction that Creates a Marlowe Contract\n",
    "\n",
    "Use `marlowe-cli run execute` to create a Marlowe contract.\n",
    "\n",
    "![Boxes are UTxOs; ovals are transactions; ADA fees are approximate.](diagrams/create.png)"
   ]
  },
  {
   "cell_type": "markdown",
   "id": "272a4fe7-e09c-47f1-afdd-c42fad19de69",
   "metadata": {},
   "source": [
    "### Transaction that Applies Inputs to a Marlowe Contract\n",
    "\n",
    "Use `marlowe-cli run execute` to apply inputs to a Marlowe contract.\n",
    "\n",
    "![Boxes are UTxOs; ovals are transactions; ADA fees are approximate.](diagrams/apply-inputs.png)"
   ]
  },
  {
   "cell_type": "markdown",
   "id": "840853ad-1d15-4409-8add-54ead8481390",
   "metadata": {
    "tags": []
   },
   "source": [
    "### Transaction that Redeems a Marlowe Payout\n",
    "\n",
    "Use `marlowe-cli run withdraw` to redeem funds of a Marlowe payout.\n",
    "\n",
    "![Boxes are UTxOs; ovals are transactions; ADA fees are approximate.](diagrams/redeem.png)"
   ]
  },
  {
   "cell_type": "markdown",
   "id": "b8943778-21ad-4462-b245-3a64ab2b4ee7",
   "metadata": {},
   "source": [
    "## Example UTxOs for a Contract's Life Cycle\n",
    "\n",
    "![Boxes are UTxOs; ovals are transactions; ADA values are rounded to one decimal place.](diagrams/escrow-utxos.gif)"
   ]
  },
  {
   "cell_type": "markdown",
   "id": "96f57f0a-356b-4fac-a72e-8748babec31a",
   "metadata": {
    "jp-MarkdownHeadingCollapsed": true,
    "tags": []
   },
   "source": [
    "## High-Level Marlowe CLI Commands\n",
    "\n",
    "| Command | Description |\n",
    "|---------|-------------|\n",
    "| `run` | Run a contract. |\n",
    "| `run execute` | Run a Marlowe transaction. |\n",
    "| `run initialize` | Initialize the first transaction of a Marlowe contract and write output to a JSON file. |\n",
    "| `run prepare` | Prepare the next step of a Marlowe contract and write the output to a JSON file. |\n",
    "| `run withdraw` | Withdraw funds from the Marlowe role address. |\n",
    "| `template` | Create a contract from a template. |\n",
    "| `template coveredCall` | Create a covered call Option. |\n",
    "| `template escrow` | Create an escrow contract. |\n",
    "| `template simple` | Create a simple example contract. |\n",
    "| `template swap` | Create a swap contract. |\n",
    "| `template zcb` | Create a zero-coupon bond. |"
   ]
  },
  {
   "cell_type": "markdown",
   "id": "4082bf35-7a41-45c9-ad61-718753cfca43",
   "metadata": {
    "tags": []
   },
   "source": [
    "## Marlowe CLI Commands for the Plutus Application Backend (PAB)\n",
    "\n",
    "| Command | Description |\n",
    "|---------|-------------|\n",
    "| `pab` | Run a contract via the PAB. |\n",
    "| `pab app` | Start the Marlowe application contract. |\n",
    "| `pab apply-inputs` | Apply inputs to a Marlowe contract. |\n",
    "| `pab companion` | Start the Marlowe companion contract. |\n",
    "| `pab create` | Create a Marlowe contract. |\n",
    "| `pab follow` | Follow a Marlowe contract. |\n",
    "| `pab follower` | Start the Marlowe follower contract. |\n",
    "| `pab redeem` | Redeem funds from a Marlowe contract. |\n",
    "| `pab stop` | Stop a Marlowe contract. |\n",
    "| `test` | Test contracts. |\n",
    "| `test contracts` | Test Marlowe contracts using the Marlowe PAB. |"
   ]
  },
  {
   "cell_type": "markdown",
   "id": "f3144497-188a-4db0-bd88-dba194f31cd7",
   "metadata": {},
   "source": [
    "## Low-Level Marlowe CLI Commands (1 of 2)\n",
    "\n",
    "| Command | Description |\n",
    "|---------|-------------|\n",
    "| `contract` | Export contract address, validator, datum, or redeemer. |\n",
    "| `contract address` | Print a contract validator address. |\n",
    "| `contract datum` | Export a contract datum to a JSON file. |\n",
    "| `contract marlowe` | Export a Marlowe contract to a JSON file. |\n",
    "| `contract redeemer` | Export a contract redeemer to a JSON file. |\n",
    "| `contract validator` | Export a contract validator to a JSON file. |\n",
    "| `input` | Create inputs to a contract. |\n",
    "| `input choose` | Create Marlowe input for a choice. |\n",
    "| `input deposit` | Create Marlowe input for a deposit. |\n",
    "| `input notify` | Create Marlowe input for a notification. |"
   ]
  },
  {
   "cell_type": "markdown",
   "id": "2718b039-f5d6-47d5-ae3b-0af35c3efd45",
   "metadata": {},
   "source": [
    "## Low-Level Marlowe CLI Commands (2 of 2)\n",
    "\n",
    "| Command | Description |\n",
    "|---------|-------------|\n",
    "| `role` | Export role address, validator, datum, or redeemer. |\n",
    "| `role address` | Print a role validator address. |\n",
    "| `role datum` | Export a role datum to a JSON file. |\n",
    "| `role redeemer` | Export a role redeemer to a JSON file. |\n",
    "| `role validator` | Export a role validator to a JSON file. |\n",
    "| `transaction` | Create and submit transactions. |\n",
    "| `transaction advance` | Build a transaction that both spends from and pays to a Marlowe script. |\n",
    "| `transaction close` | Build a transaction that spends from a Marlowe script. |\n",
    "| `transaction create` | Build a transaction that pays to a Marlowe script. |\n",
    "| `transaction simple` | Build a non-Marlowe transaction. |\n",
    "| `transaction submit` | Submit a transaction body. |"
   ]
  },
  {
   "cell_type": "markdown",
   "id": "2580dff0-d700-4ce7-87aa-ef4b8f5f7525",
   "metadata": {},
   "source": [
    "## Query Commands\n",
    "\n",
    "| Command | Description |\n",
    "|---------|-------------|\n",
    "| `query` | Blockchain queries for Marlowe. |\n",
    "| `query address` | Query transactions at an address. |\n",
    "| `query app` | Query the state of the Marlowe application script. |\n",
    "| `query history` | Query for the Marlowe contract histories. |\n",
    "| `query output` | Query output details. |\n",
    "| `query payout` | Query the state of the Marlowe payout script. |\n",
    "| `query transaction` | Query transaction details. |"
   ]
  },
  {
   "cell_type": "markdown",
   "id": "11a53c65-4126-44c7-b649-6db3cd2904c3",
   "metadata": {},
   "source": [
    "## Miscellaneous Marlowe CLI Commands\n",
    "\n",
    "| Command | Description |\n",
    "|---------|-------------|\n",
    "| `util` | Miscellaneous utilities. |\n",
    "| `util clean` | Reorganize the UTxOs at an address, separating tokens. |\n",
    "| `util decode-bech32` | DecodBech32 data. |\n",
    "| `util encode-bech32` | EncodBech32 data. |\n",
    "| `util faucet` | Fund an address from a faucet. |\n",
    "| `util mint` | Mint native tokens. |\n",
    "| `util select` | Select UTxO by asset. |\n",
    "| `util slotting` | Find the slot-to-time relationship for the current epoch. |\n",
    "| `util watch` | Watch Marlowe transactions on a Cardano node. |"
   ]
  },
  {
   "cell_type": "markdown",
   "id": "74310a65-1a12-4a80-b469-4c68e427f979",
   "metadata": {},
   "source": [
    "## Getting Help for Marlowe CLI"
   ]
  },
  {
   "cell_type": "code",
   "execution_count": 1,
   "id": "9028b734-2c0c-4297-aeac-a744ebc6d901",
   "metadata": {},
   "outputs": [
    {
     "name": "stdout",
     "output_type": "stream",
     "text": [
      "marlowe-cli : a command-line tool for Marlowe contracts\n",
      "\n",
      "Usage: marlowe-cli [--version] (COMMAND | COMMAND)\n",
      "\n",
      "  Utilities for Marlowe.\n",
      "\n",
      "Available options:\n",
      "  -h,--help                Show this help text\n",
      "  --version                Show version.\n",
      "\n",
      "High-level commands:\n",
      "  run                      Run a contract.\n",
      "  pab                      Run a contract via the PAB.\n",
      "  template                 Create a contract from a template.\n",
      "  test                     Test contracts.\n",
      "\n",
      "Low-level commands:\n",
      "  contract                 Export contract address, validator, datum, or\n",
      "                           redeemer.\n",
      "  input                    Create inputs to a contract.\n",
      "  role                     Export role address, validator, datum, or redeemer.\n",
      "  query                    Blockchain queries for Marlowe.\n",
      "  transaction              Create and submit transactions.\n",
      "  util                     Miscellaneous utilities.\n"
     ]
    }
   ],
   "source": [
    "marlowe-cli --help"
   ]
  },
  {
   "cell_type": "markdown",
   "id": "61c7307c-f574-4b1e-8bd2-c46eecd8d608",
   "metadata": {},
   "source": [
    "## Troubleshooting\n",
    "\n",
    "*   Run the contract in the Marlowe Playground simulator before running it at the command line.\n",
    "*   Pay attention to the timeouts in `When` clauses of a contract:\n",
    "    *   Does the timeout trigger the intendent movement of funds between accounts?\n",
    "    *   Is the timeout consistent with other timeouts in `Case` statements?"
   ]
  },
  {
   "cell_type": "markdown",
   "id": "4c7431ca-dbfa-46f4-8d82-6a2ba1930059",
   "metadata": {},
   "source": [
    "## Resources\n",
    "\n",
    "*   Marlowe Cardano repository: <<https://github.com/input-output-hk/marlowe-cardano/>>.\n",
    "*   Cardano Docs for Marlowe: <<https://docs.cardano.org/marlowe/learn-about-marlowe>>.\n",
    "*   Marlowe Playground: <<https://playground.marlowe.iohkdev.io/#/>>.\n",
    "*   Marlowe Run\n",
    "    *   On pioneers testnet: <<https://marlowe-run-marlowe-pioneers.plutus.aws.iohkdev.io/>>.\n",
    "    *   On mock network: <<https://marlowe-finance.io/>>."
   ]
  },
  {
   "cell_type": "markdown",
   "id": "de7207c1-a1e6-44c4-bcbc-f0174ee6fe1b",
   "metadata": {},
   "source": [
    "## Summary\n",
    "\n",
    "*   Marlowe CLI can be used at various level of interaction with the blockchain.\n",
    "    *   Run contracts without actually making blockchain transactions.\n",
    "    *   Submit Marlowe transactions on the blockchain.\n",
    "        *   At high level, without explicitly using Plutus.\n",
    "        *   At low level, dealing directly with Plutus constructs.\n",
    "    *   Interact with the Plutus Application Backend (PAB).\n",
    "*   There are three types of Marlowe transactions on the blockchain:\n",
    "    *   Creating a contract.\n",
    "    *   Applying inputs to a contract.\n",
    "    *   Withdrawing funds from the contract's role-payout address.\n",
    "*   Use `marlowe-cli --help` to print information on Marlowe CLi commands."
   ]
  },
  {
   "cell_type": "markdown",
   "id": "f7d08878-5fd3-4eb9-9e5a-38dabce49b01",
   "metadata": {
    "tags": []
   },
   "source": [
    "## Other Lectures\n",
    "\n",
    "Lectures on Marlowe CLI: <<https://github.com/input-output-hk/marlowe-cardano/blob/mpp-cli-lectures/marlowe-cli/lectures/ReadMe.md>>\n",
    "\n",
    "*   ~~Overview of Marlowe CLI~~\n",
    "*   Installing Marlowe CLI and Associated Tools\n",
    "*   Running Marlowe Contracts without Blockchain Transactions\n",
    "*   Running Marlowe Contacts on the Blockchain\n",
    "*   Running Marlowe Contracts with the Plutus Application Backend (PAB)\n",
    "*   Reference for Marlowe CLI Commands"
   ]
  }
 ],
 "metadata": {
  "kernelspec": {
   "display_name": "Bash - Marlowe",
   "language": "bash",
   "name": "bash_marlowe"
  },
  "language_info": {
   "codemirror_mode": "shell",
   "file_extension": ".sh",
   "mimetype": "text/x-sh",
   "name": "/nix/store/l0wlqpbsvh1pgvhcdhw7qkka3d31si7k-bash-5.1-p8/bin/bash"
  }
 },
 "nbformat": 4,
 "nbformat_minor": 5
}
