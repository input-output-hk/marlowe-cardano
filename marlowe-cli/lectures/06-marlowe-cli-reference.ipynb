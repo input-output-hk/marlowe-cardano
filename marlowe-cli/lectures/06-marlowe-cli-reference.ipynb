{
 "cells": [
  {
   "cell_type": "markdown",
   "id": "b9e68044-822b-443d-a369-6260290227fb",
   "metadata": {},
   "source": [
    "<font color=red>This lecture is a work in progress that will be finalized on 21 June 2022.</font>"
   ]
  },
  {
   "cell_type": "markdown",
   "id": "a7983771-b4ac-4ba8-acdb-14127b99dd0d",
   "metadata": {},
   "source": [
    "# Reference for Marlowe CLI Commands\n"
   ]
  },
  {
   "cell_type": "code",
   "execution_count": 1,
   "id": "0171c91c-d38a-41fa-9c3d-0fa7474b2860",
   "metadata": {},
   "outputs": [
    {
     "name": "stdout",
     "output_type": "stream",
     "text": [
      "marlowe-cli : a command-line tool for Marlowe contracts\n",
      "\n",
      "Usage: marlowe-cli [--version] (COMMAND | COMMAND)\n",
      "\n",
      "  Utilities for Marlowe.\n",
      "\n",
      "Available options:\n",
      "  -h,--help                Show this help text\n",
      "  --version                Show version.\n",
      "\n",
      "High-level commands:\n",
      "  run                      Run a contract.\n",
      "  pab                      Run a contract via the PAB.\n",
      "  template                 Create a contract from a template.\n",
      "  test                     Test contracts.\n",
      "\n",
      "Low-level commands:\n",
      "  contract                 Export contract address, validator, datum, or\n",
      "                           redeemer.\n",
      "  input                    Create inputs to a contract.\n",
      "  role                     Export role address, validator, datum, or redeemer.\n",
      "  query                    Blockchain queries for Marlowe.\n",
      "  transaction              Create and submit transactions.\n",
      "  util                     Miscellaneous utilities.\n"
     ]
    }
   ],
   "source": [
    "marlowe-cli --help"
   ]
  },
  {
   "cell_type": "markdown",
   "id": "72c22701-6a3e-4602-a705-a5c1069c526c",
   "metadata": {},
   "source": [
    "## High-Level Commands"
   ]
  },
  {
   "cell_type": "markdown",
   "id": "44150568-206b-493c-9b3b-ec15a2033c81",
   "metadata": {},
   "source": [
    "### Commands for Running Contracts"
   ]
  },
  {
   "cell_type": "code",
   "execution_count": 2,
   "id": "a7a3ca8d-9014-4afd-894e-e40c003f8817",
   "metadata": {},
   "outputs": [
    {
     "name": "stdout",
     "output_type": "stream",
     "text": [
      "Usage: marlowe-cli run COMMAND\n",
      "\n",
      "  Run a contract.\n",
      "\n",
      "Available options:\n",
      "  -h,--help                Show this help text\n",
      "\n",
      "Commands for running contracts:\n",
      "  execute                  Run a Marlowe transaction.\n",
      "  initialize               Initialize the first transaction of a Marlowe\n",
      "                           contract and write output to a JSON file.\n",
      "  prepare                  Prepare the next step of a Marlowe contract and write\n",
      "                           the output to a JSON file.\n",
      "  withdraw                 Withdraw funds from the Marlowe role address.\n"
     ]
    }
   ],
   "source": [
    "marlowe-cli run --help"
   ]
  },
  {
   "cell_type": "markdown",
   "id": "fbc170e6-fd3f-483c-a8f1-385af43402de",
   "metadata": {},
   "source": [
    "### Commands for Running Contracts on the PAB"
   ]
  },
  {
   "cell_type": "code",
   "execution_count": 3,
   "id": "0be90a9a-7300-45aa-aa30-23dfeabbbdf2",
   "metadata": {},
   "outputs": [
    {
     "name": "stdout",
     "output_type": "stream",
     "text": [
      "Usage: marlowe-cli pab COMMAND\n",
      "\n",
      "  Run a contract via the PAB.\n",
      "\n",
      "Available options:\n",
      "  -h,--help                Show this help text\n",
      "\n",
      "Commands for running contracts on the PAB:\n",
      "  app                      Start the Marlowe application contract.\n",
      "  create                   Create a Marlowe contract.\n",
      "  apply-inputs             Apply inputs to a Marlowe contract.\n",
      "  redeem                   Redeem funds from a Marlowe contract.\n",
      "  follower                 Start the Marlowe follower contract.\n",
      "  follow                   Follow a Marlowe contract.\n",
      "  companion                Start the Marlowe companion contract.\n",
      "  stop                     Stop a Marlowe contract.\n"
     ]
    }
   ],
   "source": [
    "marlowe-cli pab --help"
   ]
  },
  {
   "cell_type": "markdown",
   "id": "6b4e4e42-5849-490f-ba75-b5f00029c354",
   "metadata": {},
   "source": [
    "### Commands for Creating Marlowe Contracts from Templates"
   ]
  },
  {
   "cell_type": "code",
   "execution_count": 4,
   "id": "66a402e9-a691-4a51-ad47-7b58036d8ed1",
   "metadata": {},
   "outputs": [
    {
     "name": "stdout",
     "output_type": "stream",
     "text": [
      "Usage: marlowe-cli template COMMAND\n",
      "\n",
      "  Create a contract from a template.\n",
      "\n",
      "Available options:\n",
      "  -h,--help                Show this help text\n",
      "\n",
      "Commands for creating Marlowe contracts from templates:\n",
      "  escrow                   Create an escrow contract.\n",
      "  simple                   Create a simple example contract.\n",
      "  swap                     Create a swap contract.\n",
      "  zcb                      Create a zero-coupon bond.\n",
      "  coveredCall              Create a covered call Option.\n"
     ]
    }
   ],
   "source": [
    "marlowe-cli template --help"
   ]
  },
  {
   "cell_type": "markdown",
   "id": "e49d7509-b81a-47ed-9a55-dff4491f6080",
   "metadata": {},
   "source": [
    "### Commands for Testing Contracts"
   ]
  },
  {
   "cell_type": "code",
   "execution_count": 5,
   "id": "420a3194-753c-43d4-8687-981c3d91a2a2",
   "metadata": {},
   "outputs": [
    {
     "name": "stdout",
     "output_type": "stream",
     "text": [
      "Usage: marlowe-cli test COMMAND\n",
      "\n",
      "  Test contracts.\n",
      "\n",
      "Available options:\n",
      "  -h,--help                Show this help text\n",
      "\n",
      "Commands for testing contracts:\n",
      "  contracts                Test Marlowe contracts using the Marlowe PAB.\n"
     ]
    }
   ],
   "source": [
    "marlowe-cli test --help"
   ]
  },
  {
   "cell_type": "markdown",
   "id": "7a38b14a-f2d5-4840-8f8d-b9aa189aac3f",
   "metadata": {},
   "source": [
    "## Low-Level Commands"
   ]
  },
  {
   "cell_type": "markdown",
   "id": "e913a0ba-580a-447c-aab5-8c10dd06a4a7",
   "metadata": {},
   "source": [
    "### Export Contract Address, Validator, Datum, or Redeemer"
   ]
  },
  {
   "cell_type": "code",
   "execution_count": 6,
   "id": "2eb3cc2f-80ec-42f2-b39c-4519d87d61be",
   "metadata": {},
   "outputs": [
    {
     "name": "stdout",
     "output_type": "stream",
     "text": [
      "Usage: marlowe-cli contract COMMAND\n",
      "\n",
      "  Export contract address, validator, datum, or redeemer.\n",
      "\n",
      "Available options:\n",
      "  -h,--help                Show this help text\n",
      "\n",
      "Low-level commands for exporting Marlowe contract information:\n",
      "  address                  Print a contract validator address.\n",
      "  datum                    Export a contract datum to a JSON file.\n",
      "  marlowe                  Export a Marlowe contract to a JSON file.\n",
      "  redeemer                 Export a contract redeemer to a JSON file.\n",
      "  validator                Export a contract validator to a JSON file.\n"
     ]
    }
   ],
   "source": [
    "marlowe-cli contract --help"
   ]
  },
  {
   "cell_type": "markdown",
   "id": "8c6c69db-4f20-4899-9734-acc6473a06ca",
   "metadata": {},
   "source": [
    "### Create Inputs to a Contract"
   ]
  },
  {
   "cell_type": "code",
   "execution_count": 7,
   "id": "56072aff-639c-4e66-b5d0-d994bab09020",
   "metadata": {},
   "outputs": [
    {
     "name": "stdout",
     "output_type": "stream",
     "text": [
      "Usage: marlowe-cli input COMMAND\n",
      "\n",
      "  Create inputs to a contract.\n",
      "\n",
      "Available options:\n",
      "  -h,--help                Show this help text\n",
      "\n",
      "Low-level commands for creating inputs to a contract:\n",
      "  choose                   Create Marlowe input for a choice.\n",
      "  deposit                  Create Marlowe input for a deposit.\n",
      "  notify                   Create Marlowe input for a notification.\n"
     ]
    }
   ],
   "source": [
    "marlowe-cli input --help"
   ]
  },
  {
   "cell_type": "markdown",
   "id": "56405a6f-4534-46b2-81dd-8ecb8d365ef8",
   "metadata": {},
   "source": [
    "### Export Role Address, Validator, Datum, or Redeemer."
   ]
  },
  {
   "cell_type": "code",
   "execution_count": 8,
   "id": "334f51af-84cc-4b37-bb03-07d2403e3f03",
   "metadata": {},
   "outputs": [
    {
     "name": "stdout",
     "output_type": "stream",
     "text": [
      "Usage: marlowe-cli role COMMAND\n",
      "\n",
      "  Export role address, validator, datum, or redeemer.\n",
      "\n",
      "Available options:\n",
      "  -h,--help                Show this help text\n",
      "\n",
      "Low-level commands for exporting Marlowe role information:\n",
      "  address                  Print a role validator address.\n",
      "  datum                    Export a role datum to a JSON file.\n",
      "  redeemer                 Export a role redeemer to a JSON file.\n",
      "  validator                Export a role validator to a JSON file.\n"
     ]
    }
   ],
   "source": [
    "marlowe-cli role --help"
   ]
  },
  {
   "cell_type": "markdown",
   "id": "5483bb9b-c625-4bf4-9926-5ad32a898d6b",
   "metadata": {},
   "source": [
    "### Blockchain Queries for Marlowe"
   ]
  },
  {
   "cell_type": "code",
   "execution_count": 9,
   "id": "1bcbf447-ba60-49af-ba99-f0706aab0c07",
   "metadata": {},
   "outputs": [
    {
     "name": "stdout",
     "output_type": "stream",
     "text": [
      "Usage: marlowe-cli query COMMAND\n",
      "\n",
      "  Blockchain queries for Marlowe.\n",
      "\n",
      "Available options:\n",
      "  -h,--help                Show this help text\n",
      "\n",
      "Query commands:\n",
      "  address                  Query transactions at an address.\n",
      "  app                      Query the state of the Marlowe application script.\n",
      "  history                  Query for the Marlowe contract histories.\n",
      "  output                   Query output details.\n",
      "  payout                   Query the state of the Marlowe payout script.\n",
      "  transaction              Query transaction details.\n"
     ]
    }
   ],
   "source": [
    "marlowe-cli query --help"
   ]
  },
  {
   "cell_type": "markdown",
   "id": "241be6f4-d870-40a5-9c1a-65a1efec18b9",
   "metadata": {},
   "source": [
    "### Create and Submit Transactions"
   ]
  },
  {
   "cell_type": "code",
   "execution_count": 10,
   "id": "da1937a0-44d6-43a6-ae22-115278656a3c",
   "metadata": {},
   "outputs": [
    {
     "name": "stdout",
     "output_type": "stream",
     "text": [
      "Usage: marlowe-cli transaction COMMAND\n",
      "\n",
      "  Create and submit transactions.\n",
      "\n",
      "Available options:\n",
      "  -h,--help                Show this help text\n",
      "\n",
      "Low-level commands for creating and submitting transactions:\n",
      "  advance                  Build a transaction that both spends from and pays to\n",
      "                           a Marlowe script.\n",
      "  close                    Build a transaction that spends from a Marlowe\n",
      "                           script.\n",
      "  create                   Build a transaction that pays to a Marlowe script.\n",
      "  simple                   Build a non-Marlowe transaction.\n",
      "  submit                   Submit a transaction body.\n"
     ]
    }
   ],
   "source": [
    "marlowe-cli transaction --help"
   ]
  },
  {
   "cell_type": "markdown",
   "id": "956cc19f-687a-474d-8090-a42a3fea0842",
   "metadata": {},
   "source": [
    "### Miscellaneous Utilities"
   ]
  },
  {
   "cell_type": "code",
   "execution_count": 11,
   "id": "4b02aeb6-dbe2-4f59-b664-3c44d877c500",
   "metadata": {},
   "outputs": [
    {
     "name": "stdout",
     "output_type": "stream",
     "text": [
      "Usage: marlowe-cli util COMMAND\n",
      "\n",
      "  Miscellaneous utilities.\n",
      "\n",
      "Available options:\n",
      "  -h,--help                Show this help text\n",
      "\n",
      "Miscellaneous low-level commands:\n",
      "  clean                    Reorganize the UTxOs at an address, separating\n",
      "                           tokens.\n",
      "  decode-bech32            DecodBech32 data.\n",
      "  encode-bech32            EncodBech32 data.\n",
      "  faucet                   Fund an address from a faucet.\n",
      "  mint                     Mint native tokens.\n",
      "  select                   Select UTxO by asset.\n",
      "  slotting                 Find the slot-to-time relationship for the current\n",
      "                           epoch.\n",
      "  watch                    Watch Marlowe transactions on a Cardano node.\n"
     ]
    }
   ],
   "source": [
    "marlowe-cli util --help"
   ]
  },
  {
   "cell_type": "markdown",
   "id": "d39e9d63-9216-499d-8e39-b0f25e4ac872",
   "metadata": {},
   "source": [
    "## Other Lectures\n",
    "\n",
    "Lectures on Marlowe CLI: <<https://github.com/input-output-hk/marlowe-cardano/blob/mpp-cli-lectures/marlowe-cli/lectures/ReadMe.md>>\n",
    "\n",
    "*   Overview of Marlowe CLI\n",
    "*   Installing Marlowe CLI and Associated Tools~\n",
    "*   Running Marlowe Contracts without Blockchain Transactions\n",
    "*   Running Marlowe Contacts on the Blockchain\n",
    "*   Running Marlowe Contracts with the Plutus Application Backend (PAB)\n",
    "*   ~~Reference for Marlowe CLI Commands~~"
   ]
  }
 ],
 "metadata": {
  "kernelspec": {
   "display_name": "Bash - Marlowe",
   "language": "bash",
   "name": "bash_marlowe"
  },
  "language_info": {
   "codemirror_mode": "shell",
   "file_extension": ".sh",
   "mimetype": "text/x-sh",
   "name": "/nix/store/l0wlqpbsvh1pgvhcdhw7qkka3d31si7k-bash-5.1-p8/bin/bash"
  }
 },
 "nbformat": 4,
 "nbformat_minor": 5
}
