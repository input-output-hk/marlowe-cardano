{
 "cells": [
  {
   "cell_type": "markdown",
   "id": "a7983771-b4ac-4ba8-acdb-14127b99dd0d",
   "metadata": {},
   "source": [
    "# Running Marlowe Contracts with the Marlowe Backend\n",
    "\n",
    "In this lecture we demonstrate how to use `marlowe-cli` to run Marlowe contracts using the Marlowe Backend."
   ]
  },
  {
   "cell_type": "markdown",
   "id": "30f229be-aa78-4c54-9c57-f2a7d207ed78",
   "metadata": {},
   "source": [
    "## Components for Marlowe Deployment\n",
    "\n",
    "*   **Marlowe using its backend**\n",
    "    *   Cardano node, `cardano-node`, interacts with the Cardano blockchain at large.\n",
    "    *   Cardano wallet, `cardano-wallet`, manages users' wallets.\n",
    "    *   Plutus chain index, `plutus-chain-index`, indexes historical and unspent transactions and Plutus data.\n",
    "    *   Plutus application backend, `marlowe-pab`, constructs Marlowe transactions.\n",
    "*   Marlowe Run\n",
    "    *   Marlowe Run server, `marlowe-dashboard-server`, provides proxies to the wallet, chain index, and PAB.\n",
    "    *   Marlowe Run client, `marlowe-dashboard-client`, serves the user interface.\n",
    "*   Marlowe Playground\n",
    "    *   Marlowe Playground server, `marlowe-playground-server`, provides backend services.\n",
    "    *   Marlowe Playground client, `marlowe-playground-client`, serves the user interface."
   ]
  },
  {
   "cell_type": "markdown",
   "id": "1064a6e5-e008-44ba-bf35-3822ad7806bd",
   "metadata": {},
   "source": [
    "## Marlowe Deployment Using Its Backend\n",
    "\n",
    "![Components in a Marlowe Backend deployment.](diagrams/testnet-deployment.svg)"
   ]
  },
  {
   "cell_type": "markdown",
   "id": "9cbcc093-6b27-45c7-a96b-c2bcf08709ab",
   "metadata": {},
   "source": [
    "## Running the Marlowe Backend\n",
    "\n",
    "All five backend services (`cardano-node`, `cardano-wallet`, `plutus-chain-index`, `marlowe-pab`, and `marlowe-dashboard-server`) can be launched from within a Nix shell using a script for Docker Compose.\n",
    "\n",
    "```console\n",
    "[nix-shell] $ start-marlowe-run\n",
    "```\n",
    "\n",
    "If needed, the Marlowe Run frontend can be launched similarly.\n",
    "\n",
    "```console\n",
    "[nix-shell] $ npm run start\n",
    "```\n",
    "\n",
    "See https://github.com/input-output-hk/marlowe-cardano/blob/mpp-cli-lectures/marlowe-dashboard-client/README.md for details."
   ]
  },
  {
   "cell_type": "markdown",
   "id": "69060b9b-02a7-49ce-b840-f2c654dae7bc",
   "metadata": {},
   "source": [
    "## Marlowe's Backend Contracts\n",
    "\n",
    "*   The Marlowe Backend uses the term \"contract\" to describe groups of backend endpoints.\n",
    "    *   These \"contracts\" are not smart contracts or Marlowe contracts.\n",
    "*   Marlowe implements three generic backend contracts.\n",
    "    *   The `MarloweApp` contract submits transactions related to a Marlowe contract.\n",
    "    *   The `MarloweFollower` contract reports information about Marlowe transactions that have occurred on the blockchain.\n",
    "    *   The `WalletCompanion` contract discovers Marlowe contracts that have appeared on the blockchain."
   ]
  },
  {
   "cell_type": "markdown",
   "id": "80e72ae5-718e-446b-abc8-8995d9fdacad",
   "metadata": {},
   "source": [
    "### Marlowe Application Contract and Endpoints\n",
    "\n",
    "The `MarloweApp` backend contract has endpoints that can be called by applications.\n",
    "\n",
    "1.  `create` submits a new Marlowe contract to the blockchain and mints any needed role tokens.\n",
    "2.  `apply-inputs` submits a transaction that advances a Marlowe contract to is next state. Inputs may be any combination of choices, deposits, and notifications.\n",
    "3.  `auto` submits a transaction that advances a Marlowe contract without applying any inputs, as in the case where a `When` clause has timed out.\n",
    "4.  `redeem` submits a transaction that withdraws funds from a Marlowe contract's payout validator address.\n",
    "\n",
    "These endpoints closely correspond to the non-backend commands that `marlowe-cli` supports Marlowe transactions. The caller receives a WebSocket message each after the endpoint's transaction is confirmed on the blockchain:\n",
    "\n",
    "```haskell\n",
    "data MarloweEndpointResult =\n",
    "    CreateResponse MarloweParams\n",
    "  | ApplyInputsResponse\n",
    "  | AutoResponse\n",
    "  | RedeemResponse\n",
    "  | CloseResponse\n",
    "```"
   ]
  },
  {
   "cell_type": "markdown",
   "id": "9e2dce1d-93a3-4c44-8d37-1816c7363376",
   "metadata": {},
   "source": [
    "### Marlowe Follower Contract and Endpoints\n",
    "\n",
    "The `MarloweFollower` backend contract just has a single endpoint.\n",
    "\n",
    "Calling the `follow` endpoint with the parameters of a Marlowe contract results in a stream of WebSockets messages that notify the caller about transactions involving the contract and the contract's progression.\n",
    "\n",
    "```haskell\n",
    "data ContractHistory =\n",
    "  ContractHistory\n",
    "    { chParams         :: MarloweParams      -- ^ The \"instance id\" of the contract.\n",
    "    , chInitialData    :: MarloweData        -- ^ The initial Contract and State.\n",
    "    , chHistory        :: [TransactionInput] -- ^ All the transactions that affected the contract.\n",
    "    , chAddress        :: Address            -- ^ The script address of the marlowe contract\n",
    "    , chUnspentPayouts :: UnspentPayouts     -- ^ All UTxOs associated with our payout script.\n",
    "    }\n",
    "```"
   ]
  },
  {
   "cell_type": "markdown",
   "id": "94f891fa-2cf6-4efc-ac01-fa1d2c0c5d02",
   "metadata": {},
   "source": [
    "### Wallet Companion Contract\n",
    "\n",
    "The `WalletCompanion` backend contract has not endpoints.\n",
    "\n",
    "It produces a stream of WebSockets messages that notify the creator about new Marlowe contracts in its wallet, represented by a map from contract parameters to contract and state.\n",
    "\n",
    "```haskell\n",
    "newtype CompanionState = CompanionState (Map MarloweParams MarloweData)\n",
    "```"
   ]
  },
  {
   "cell_type": "markdown",
   "id": "a26edf07-3744-4d7a-8a72-44f2f30ef597",
   "metadata": {
    "tags": []
   },
   "source": [
    "## Calling Backend Endpoints with Marlowe CLI\n",
    "\n",
    "The `marlowe-cli pab` commands enable one to create any of the three backend contracts or call their endpoints."
   ]
  },
  {
   "cell_type": "code",
   "execution_count": 1,
   "id": "85859199-b535-420a-b64a-86a67ab217cf",
   "metadata": {},
   "outputs": [
    {
     "name": "stdout",
     "output_type": "stream",
     "text": [
      "Usage: marlowe-cli pab COMMAND\n",
      "\n",
      "  Run a contract via the PAB.\n",
      "\n",
      "Available options:\n",
      "  -h,--help                Show this help text\n",
      "\n",
      "Commands for running contracts on the PAB:\n",
      "  app                      Start the Marlowe application contract.\n",
      "  create                   Create a Marlowe contract.\n",
      "  apply-inputs             Apply inputs to a Marlowe contract.\n",
      "  redeem                   Redeem funds from a Marlowe contract.\n",
      "  follower                 Start the Marlowe follower contract.\n",
      "  follow                   Follow a Marlowe contract.\n",
      "  companion                Start the Marlowe companion contract.\n",
      "  stop                     Stop a Marlowe contract.\n"
     ]
    }
   ],
   "source": [
    "marlowe-cli pab --help"
   ]
  },
  {
   "cell_type": "markdown",
   "id": "db061aa2-20b0-4b69-9af7-9645fa98f136",
   "metadata": {},
   "source": [
    "## Running a Simple Contract using the Backend\n",
    "\n",
    "*   Documentation at https://github.com/input-output-hk/marlowe-cardano/blob/mpp-cli-lectures/marlowe-cli/doc/pab-tutorial.md provides a full example of using all three backend contracts and their endpoints, along with the log messages expected from all of the backend services.\n",
    "*   Here we just illustrate the use of the transaction-submitting backend contract, `MarloweApp`."
   ]
  },
  {
   "cell_type": "markdown",
   "id": "21b4e5fd-90bc-4d2c-94fc-2bcd15148033",
   "metadata": {},
   "source": [
    "### Designing a Contract\n",
    "\n",
    "We create a simple contract that receives a deposit and then pays it out after a notification."
   ]
  },
  {
   "cell_type": "code",
   "execution_count": 2,
   "id": "0e617df8-241a-4d0d-bef9-ad5c52d86514",
   "metadata": {},
   "outputs": [],
   "source": [
    "NOW=$(( $(date -u +%s) * 1000 ))\n",
    "HOUR=$(( 60 * 60 * 1000 ))\n",
    "cat > contract.json << EOI\n",
    "{\n",
    "  \"when\": [\n",
    "    {\n",
    "      \"case\": {\n",
    "        \"party\": {\"role_token\": \"PAB\"}, \"deposits\": 15000000,\n",
    "        \"of_token\": {\"currency_symbol\": \"\", \"token_name\": \"\"},\n",
    "        \"into_account\": {\"role_token\": \"PAB\"}\n",
    "      },\n",
    "      \"then\": {\n",
    "        \"when\": [{\"case\": {\"notify_if\": true}, \"then\": \"close\"}],\n",
    "      \"timeout\": $(( NOW + 12 * HOUR )), \"timeout_continuation\": \"close\"\n",
    "      }\n",
    "    }\n",
    "  ],\n",
    "  \"timeout\": $(( NOW + 10 * HOUR )), \"timeout_continuation\": \"close\"\n",
    "}\n",
    "EOI"
   ]
  },
  {
   "cell_type": "markdown",
   "id": "e628e5c1-3657-4822-8cfe-daa62cf1798e",
   "metadata": {},
   "source": [
    "### Restoring the Wallet\n",
    "\n",
    "Because the PAB operates on wallets served by `cardano-wallet`, we need to create a wallet in that service. We use the same wallet as in the earlier lecture \"Installing Marlowe CLI and Associated Tools\"."
   ]
  },
  {
   "cell_type": "code",
   "execution_count": 3,
   "id": "1b6324fa-0781-43e3-ad71-c100db19aac1",
   "metadata": {},
   "outputs": [],
   "source": [
    "cat << EOI > wallet.restore\n",
    "{\n",
    "  \"name\": \"Example Wallet\",\n",
    "  \"mnemonic_sentence\": [\n",
    "    \"broccoli\", \"tool\", \"napkin\", \"scale\", \"lab\", \"liquid\",\n",
    "    \"staff\", \"turn\", \"equal\", \"city\", \"sail\", \"company\",\n",
    "    \"govern\", \"hold\", \"rent\", \"act\", \"nurse\", \"orbit\",\n",
    "    \"torch\", \"normal\", \"update\", \"master\", \"valley\", \"twenty\"\n",
    "  ],\n",
    "  \"passphrase\": \"fixme-allow-pass-per-wallet\"\n",
    "}\n",
    "EOI"
   ]
  },
  {
   "cell_type": "code",
   "execution_count": 4,
   "id": "45eeb892-6a6e-4887-bc90-e45808828168",
   "metadata": {},
   "outputs": [
    {
     "name": "stdout",
     "output_type": "stream",
     "text": [
      "{\"passphrase\":{\"last_updated_at\":\"2022-05-02T20:18:24.422037003Z\"},\"name\":\"Example Wallet\",\"address_pool_gap\":20,\"state\":{\"progress\":{\"quantity\":0,\"unit\":\"percent\"},\"status\":\"syncing\"},\"id\":\"45ef9f5fd955028cd6c434be8ab4085b6ef89d0e\",\"delegation\":{\"active\":{\"status\":\"not_delegating\"},\"next\":[]},\"assets\":{\"available\":[],\"total\":[]},\"balance\":{\"available\":{\"quantity\":0,\"unit\":\"lovelace\"},\"total\":{\"quantity\":0,\"unit\":\"lovelace\"},\"reward\":{\"quantity\":0,\"unit\":\"lovelace\"}},\"tip\":{\"absolute_slot_number\":0,\"time\":\"2022-04-14T14:52:01Z\",\"slot_number\":0,\"epoch_number\":0,\"height\":{\"quantity\":0,\"unit\":\"block\"}}}"
     ]
    }
   ],
   "source": [
    "curl -X POST -H \"Content-type: application/json\" -d @wallet.restore http://localhost:8090/v2/wallets"
   ]
  },
  {
   "cell_type": "markdown",
   "id": "410438e7-c60d-428f-9378-aec8ea7a2b8d",
   "metadata": {},
   "source": [
    "We record the wallet ID and retrieve its first address."
   ]
  },
  {
   "cell_type": "code",
   "execution_count": 5,
   "id": "64aef9d6-adde-40ed-92a1-1e258d3a35f9",
   "metadata": {},
   "outputs": [
    {
     "name": "stdout",
     "output_type": "stream",
     "text": [
      "addr_test1qzhk6c3qwlgh6dtdmrhhe2857pvzw73t2q8gdyd95f6mvs9dyukrsjz88gz9889rmf63dtluc2glauja64krx25cyzmsa00l2y\n"
     ]
    }
   ],
   "source": [
    "WALLET_ID=45ef9f5fd955028cd6c434be8ab4085b6ef89d0e\n",
    "WALLET_ADDRESS=$(curl -s http://localhost:8090/v2/wallets/$WALLET_ID/addresses | jq -r '.[0].id')\n",
    "echo $WALLET_ADDRESS"
   ]
  },
  {
   "cell_type": "markdown",
   "id": "c92aa021-e128-4b96-bf33-b5ffb918e81e",
   "metadata": {},
   "source": [
    "Send 100 test ADA to that wallet address before running the rest of this example."
   ]
  },
  {
   "cell_type": "markdown",
   "id": "b6ccdefe-aee8-4232-a3a4-fdcec3e7aad1",
   "metadata": {},
   "source": [
    "### Starting the `MarloweApp`\n",
    "\n",
    "The `marlowe-cli pab app` command takes a Cardano Wallet ID and a connection to the Marlowe PAB as input and it outputs a file containing the Marlowe parameters of the contract and the PAB instance ID."
   ]
  },
  {
   "cell_type": "code",
   "execution_count": 6,
   "id": "a02d03df-9651-46d7-bfa9-bfdf4c9cc1e1",
   "metadata": {},
   "outputs": [
    {
     "name": "stdout",
     "output_type": "stream",
     "text": [
      "[1] 1173015\n"
     ]
    },
    {
     "ename": "",
     "evalue": "1",
     "output_type": "error",
     "traceback": []
    }
   ],
   "source": [
    "marlowe-cli pab app --pab-url http://localhost:9080  \\\n",
    "                    --wallet $WALLET_ID              \\\n",
    "                    --out-params-file app.params     \\\n",
    "                    --out-instance-file app.instance \\\n",
    "                    --loop                           &"
   ]
  },
  {
   "cell_type": "markdown",
   "id": "f1550343-bc8d-45c4-ba28-2a5d9d7859d5",
   "metadata": {},
   "source": [
    "The `app.params` file will not be written until the `create` endpoint has been called. We can run this command in the background via bash's `&`. It will print out WebSocket messages from the PAB until the contract instance stops."
   ]
  },
  {
   "cell_type": "markdown",
   "id": "d055cf72-f436-4f5a-9499-26551b06b17e",
   "metadata": {},
   "source": [
    "### Calling the Create Endpoint\n",
    "\n",
    "When calling the `create` endpoint, simply supply the contract to the PAB along with the instance ID and the addresses for owners of role tokens."
   ]
  },
  {
   "cell_type": "code",
   "execution_count": 7,
   "id": "73a55ddb-a4c3-452e-b188-aae527c5495d",
   "metadata": {},
   "outputs": [
    {
     "name": "stdout",
     "output_type": "stream",
     "text": [
      "New active endpoints: []\n"
     ]
    }
   ],
   "source": [
    "marlowe-cli pab create --pab-url http://localhost:9080 \\\n",
    "                       --instance-file app.instance    \\\n",
    "                       --contract-file contract.json   \\\n",
    "                       --owner PAB=$WALLET_ADDRESS"
   ]
  },
  {
   "cell_type": "markdown",
   "id": "1eee9e4d-11fc-4cf6-bbde-e38ab273f275",
   "metadata": {},
   "source": [
    "Wait for the transaction to be confirmed on the blockchain."
   ]
  },
  {
   "cell_type": "code",
   "execution_count": 8,
   "id": "e25b9f19-8407-4848-b1f4-6b2863b342c9",
   "metadata": {},
   "outputs": [
    {
     "name": "stdout",
     "output_type": "stream",
     "text": [
      "New observable state: Just (EndpointSuccess 2b3460b3-b639-4d60-a38b-bae2367e511d (CreateResponse (MarloweParams {rolePayoutValidatorHash = 362d3928e20d33fda0e44fb73f348b78e1a6708cac2128d506d2a770, rolesCurrency = debff7b749b6fb9d96578fdc6f27d2fbcb116869b9e845279836fa23})))\n",
      "New active endpoints: [ActiveEndpoint {aeDescription = EndpointDescription {getEndpointDescription = \"close\"}, aeMetadata = Nothing},ActiveEndpoint {aeDescription = EndpointDescription {getEndpointDescription = \"redeem\"}, aeMetadata = Nothing},ActiveEndpoint {aeDescription = EndpointDescription {getEndpointDescription = \"auto\"}, aeMetadata = Nothing},ActiveEndpoint {aeDescription = EndpointDescription {getEndpointDescription = \"apply-inputs-nonmerkleized\"}, aeMetadata = Nothing},ActiveEndpoint {aeDescription = EndpointDescription {getEndpointDescription = \"apply-inputs\"}, aeMetadata = Nothing},ActiveEndpoint {aeDescription = EndpointDescription {getEndpointDescription = \"create\"}, aeMetadata = Nothing}]\n"
     ]
    }
   ],
   "source": [
    "sleep 90"
   ]
  },
  {
   "cell_type": "markdown",
   "id": "bb1383fc-5824-46c7-a2ab-c84efe1a4a89",
   "metadata": {},
   "source": [
    "### Making a Deposit to the Contract\n",
    "\n",
    "Simply call the `apply-inputs` endpoint with `--deposit` flags."
   ]
  },
  {
   "cell_type": "code",
   "execution_count": 9,
   "id": "b5820fb1-4d18-4a15-b35c-cbed80bac875",
   "metadata": {},
   "outputs": [
    {
     "name": "stdout",
     "output_type": "stream",
     "text": [
      "New active endpoints: []\n"
     ]
    }
   ],
   "source": [
    "marlowe-cli pab apply-inputs --pab-url http://localhost:9080 \\\n",
    "                             --instance-file app.instance    \\\n",
    "                             --params-file app.params        \\\n",
    "                             --deposit-account Role=PAB      \\\n",
    "                             --deposit-party Role=PAB        \\\n",
    "                             --deposit-amount 15000000       \\\n",
    "                             --invalid-before \"$NOW\"         \\\n",
    "                             --invalid-hereafter \"$((NOW+HOUR))\""
   ]
  },
  {
   "cell_type": "markdown",
   "id": "397bc9d3-e70f-456e-97a7-ec123ea68dd0",
   "metadata": {},
   "source": [
    "Wait for the transaction to be confirmed on the blockchain."
   ]
  },
  {
   "cell_type": "code",
   "execution_count": 10,
   "id": "40b73404-0ca5-4def-8742-2f6c7f7d081e",
   "metadata": {},
   "outputs": [
    {
     "name": "stdout",
     "output_type": "stream",
     "text": [
      "New observable state: Just (EndpointSuccess c144ef5b-4b6c-48ed-a886-11cf762a933b ApplyInputsResponse)\n",
      "New active endpoints: [ActiveEndpoint {aeDescription = EndpointDescription {getEndpointDescription = \"close\"}, aeMetadata = Nothing},ActiveEndpoint {aeDescription = EndpointDescription {getEndpointDescription = \"redeem\"}, aeMetadata = Nothing},ActiveEndpoint {aeDescription = EndpointDescription {getEndpointDescription = \"auto\"}, aeMetadata = Nothing},ActiveEndpoint {aeDescription = EndpointDescription {getEndpointDescription = \"apply-inputs-nonmerkleized\"}, aeMetadata = Nothing},ActiveEndpoint {aeDescription = EndpointDescription {getEndpointDescription = \"apply-inputs\"}, aeMetadata = Nothing},ActiveEndpoint {aeDescription = EndpointDescription {getEndpointDescription = \"create\"}, aeMetadata = Nothing}]\n"
     ]
    }
   ],
   "source": [
    "sleep 90"
   ]
  },
  {
   "cell_type": "markdown",
   "id": "41386681-52d5-46ed-a1fa-8b0e7e836e84",
   "metadata": {},
   "source": [
    "### Notifying a Contract\n",
    "\n",
    "Simply call the `apply-inputs` endpont with the `--notify` flag."
   ]
  },
  {
   "cell_type": "code",
   "execution_count": 11,
   "id": "201fb687-c112-4eee-b316-3b58bfdcd97d",
   "metadata": {},
   "outputs": [
    {
     "name": "stdout",
     "output_type": "stream",
     "text": [
      "New active endpoints: []\n"
     ]
    }
   ],
   "source": [
    "marlowe-cli pab apply-inputs --pab-url http://localhost:9080 \\\n",
    "                             --instance-file app.instance    \\\n",
    "                             --params-file app.params        \\\n",
    "                             --notify                        \\\n",
    "                             --invalid-before \"$NOW\"         \\\n",
    "                             --invalid-hereafter \"$((NOW+HOUR))\""
   ]
  },
  {
   "cell_type": "markdown",
   "id": "aeedaed5-1bc6-4ed4-b027-ac98c3d0d7b1",
   "metadata": {},
   "source": [
    "Wait for the transaction to be confirmed on the blockchain."
   ]
  },
  {
   "cell_type": "code",
   "execution_count": 12,
   "id": "2fe6fd99-dbf5-4d46-9472-18bf13ba0315",
   "metadata": {},
   "outputs": [
    {
     "name": "stdout",
     "output_type": "stream",
     "text": [
      "New observable state: Just (EndpointSuccess cfd7791f-f9cd-4a08-9e58-bc63ca16881c ApplyInputsResponse)\n",
      "New active endpoints: [ActiveEndpoint {aeDescription = EndpointDescription {getEndpointDescription = \"close\"}, aeMetadata = Nothing},ActiveEndpoint {aeDescription = EndpointDescription {getEndpointDescription = \"redeem\"}, aeMetadata = Nothing},ActiveEndpoint {aeDescription = EndpointDescription {getEndpointDescription = \"auto\"}, aeMetadata = Nothing},ActiveEndpoint {aeDescription = EndpointDescription {getEndpointDescription = \"apply-inputs-nonmerkleized\"}, aeMetadata = Nothing},ActiveEndpoint {aeDescription = EndpointDescription {getEndpointDescription = \"apply-inputs\"}, aeMetadata = Nothing},ActiveEndpoint {aeDescription = EndpointDescription {getEndpointDescription = \"create\"}, aeMetadata = Nothing}]\n"
     ]
    }
   ],
   "source": [
    "sleep 90"
   ]
  },
  {
   "cell_type": "markdown",
   "id": "798816eb-9eee-4a79-9767-bd6cf385a0ea",
   "metadata": {},
   "source": [
    "### Withdrawing Funds from the Payout Validator\n",
    "\n",
    "Simply call the `redeem` endpoint with the name of the owner and their address."
   ]
  },
  {
   "cell_type": "code",
   "execution_count": 13,
   "id": "172f74bd-eefc-4d15-9269-134655b6c138",
   "metadata": {},
   "outputs": [
    {
     "name": "stdout",
     "output_type": "stream",
     "text": [
      "New active endpoints: []\n"
     ]
    }
   ],
   "source": [
    "marlowe-cli pab redeem --pab-url http://localhost:9080 \\\n",
    "                       --instance-file app.instance    \\\n",
    "                       --params-file app.params        \\\n",
    "                       --owner PAB=$WALLET_ADDRESS"
   ]
  },
  {
   "cell_type": "markdown",
   "id": "a5cd89f1-3c14-4f3b-ac56-82309aa3bfd4",
   "metadata": {},
   "source": [
    "Wait for the transaction to be confirmed on the blockchain."
   ]
  },
  {
   "cell_type": "code",
   "execution_count": 14,
   "id": "e2efdf57-a709-4bf7-b7f9-014203fe7259",
   "metadata": {},
   "outputs": [
    {
     "name": "stdout",
     "output_type": "stream",
     "text": [
      "New observable state: Just (EndpointSuccess 96619ae4-0e58-46fb-a327-d2f913a39e0d RedeemResponse)\n",
      "New active endpoints: [ActiveEndpoint {aeDescription = EndpointDescription {getEndpointDescription = \"close\"}, aeMetadata = Nothing},ActiveEndpoint {aeDescription = EndpointDescription {getEndpointDescription = \"redeem\"}, aeMetadata = Nothing},ActiveEndpoint {aeDescription = EndpointDescription {getEndpointDescription = \"auto\"}, aeMetadata = Nothing},ActiveEndpoint {aeDescription = EndpointDescription {getEndpointDescription = \"apply-inputs-nonmerkleized\"}, aeMetadata = Nothing},ActiveEndpoint {aeDescription = EndpointDescription {getEndpointDescription = \"apply-inputs\"}, aeMetadata = Nothing},ActiveEndpoint {aeDescription = EndpointDescription {getEndpointDescription = \"create\"}, aeMetadata = Nothing}]\n"
     ]
    }
   ],
   "source": [
    "sleep 90"
   ]
  },
  {
   "cell_type": "markdown",
   "id": "8a615d85-d30e-4f79-ad09-61d37ba90147",
   "metadata": {},
   "source": [
    "### Stop the `MarloweApp`\n",
    "\n",
    "Simpley tell the PAB to stop the contract."
   ]
  },
  {
   "cell_type": "code",
   "execution_count": 15,
   "id": "1d3b31b5-dc5b-4382-97aa-c1927eb32fbf",
   "metadata": {},
   "outputs": [
    {
     "name": "stdout",
     "output_type": "stream",
     "text": [
      "Contract finished.\n"
     ]
    },
    {
     "ename": "",
     "evalue": "1",
     "output_type": "error",
     "traceback": []
    }
   ],
   "source": [
    "marlowe-cli pab stop --pab-url http://localhost:9080 \\\n",
    "                     --instance-file app.instance"
   ]
  },
  {
   "cell_type": "markdown",
   "id": "9af6ca22-ce3f-4387-9669-35a244f0bec9",
   "metadata": {
    "tags": []
   },
   "source": [
    "## Querying the On-Chain State and History of a Marlowe Contract\n",
    "\n",
    "Marlowe CLI can query the Plutus chain index to find the current statet of a contract.\n",
    "\n",
    "Record the roles currency from the previous example and query to see if there is any live state for the Marlowe contract with that roles currency."
   ]
  },
  {
   "cell_type": "code",
   "execution_count": 16,
   "id": "9b5e21eb-100a-46af-bdd3-8304e9039973",
   "metadata": {},
   "outputs": [
    {
     "name": "stdout",
     "output_type": "stream",
     "text": [
      "[]\n"
     ]
    }
   ],
   "source": [
    "ROLES_CURRENCY=debff7b749b6fb9d96578fdc6f27d2fbcb116869b9e845279836fa23\n",
    "marlowe-cli query app --index-url http://localhost:9083 --roles-currency $ROLES_CURRENCY"
   ]
  },
  {
   "cell_type": "markdown",
   "id": "a551b4cc-6e5b-4804-87e1-ab91abe644bf",
   "metadata": {},
   "source": [
    "The query is empty because the contract already completed. Query again with the `--spent` flag to see its prior states."
   ]
  },
  {
   "cell_type": "code",
   "execution_count": 17,
   "id": "ea3eba85-26fe-46b2-9f85-18ee2c5a106d",
   "metadata": {},
   "outputs": [
    {
     "name": "stdout",
     "output_type": "stream",
     "text": [
      "- marloweDatum:\n",
      "    marloweContract:\n",
      "      timeout: 1651565881000\n",
      "      timeout_continuation: close\n",
      "      when:\n",
      "      - case:\n",
      "          notify_if: true\n",
      "        then: close\n",
      "    marloweState:\n",
      "      accounts:\n"
     ]
    }
   ],
   "source": [
    "marlowe-cli query app --index-url http://localhost:9083 --roles-currency $ROLES_CURRENCY --spent | json2yaml | head -n 10"
   ]
  },
  {
   "cell_type": "markdown",
   "id": "375317e4-f78d-4dd6-88cc-b5ddd4a70940",
   "metadata": {},
   "source": [
    "One can also query the detailed history of a contract to see which inputs were applied, etc."
   ]
  },
  {
   "cell_type": "code",
   "execution_count": 18,
   "id": "ff8d0c06-d692-4ca7-82ce-8ae19707160d",
   "metadata": {},
   "outputs": [
    {
     "name": "stdout",
     "output_type": "stream",
     "text": [
      "- historyData:\n",
      "    marloweContract:\n",
      "      timeout: 1651558681000\n",
      "      timeout_continuation: close\n",
      "      when:\n",
      "      - case:\n",
      "          deposits: 15000000\n",
      "          into_account:\n",
      "            role_token: PAB\n",
      "          of_token:\n"
     ]
    }
   ],
   "source": [
    "marlowe-cli query history --index-url http://localhost:9083 --roles-currency $ROLES_CURRENCY | json2yaml | head -n 10"
   ]
  },
  {
   "cell_type": "markdown",
   "id": "60f38eaa-269f-4ac0-b0da-acdfa08b96e7",
   "metadata": {},
   "source": [
    "## Testing Marlowe Contracts with its Backend\n",
    "\n",
    "Marlowe CLI can also be used to run test scripts for the PAB. Those test scripts contain a series of endpoint calls and other operations, along with assertions to check. See https://github.com/input-output-hk/marlowe-cardano/blob/mpp-cli-lectures/marlowe-cli/test/ReadMe.md for details."
   ]
  },
  {
   "cell_type": "code",
   "execution_count": 19,
   "id": "41843dd8-a3d3-4e08-adb8-68fbd3600e78",
   "metadata": {},
   "outputs": [
    {
     "name": "stdout",
     "output_type": "stream",
     "text": [
      "Usage: marlowe-cli test contracts [--testnet-magic INTEGER]\n",
      "                                  --socket-path SOCKET_FILE --wallet-url URL\n",
      "                                  --pab-url URL --faucet-key SIGNING_FILE\n",
      "                                  --faucet-address ADDRESS\n",
      "                                  --burn-address ADDRESS --passphrase PASSWORD\n",
      "                                  TEST_FILE\n",
      "\n",
      "  Test Marlowe contracts using the Marlowe PAB.\n",
      "\n",
      "Available options:\n",
      "  --testnet-magic INTEGER  Network magic, or omit for mainnet.\n",
      "  --socket-path SOCKET_FILE\n",
      "                           Location of the cardano-node socket file.\n",
      "  --wallet-url URL         URL for Cardano Wallet.\n",
      "  --pab-url URL            URL for the Marlowe PAB.\n",
      "  --faucet-key SIGNING_FILE\n",
      "                           The file containing the signing key for the faucet.\n",
      "  --faucet-address ADDRESS The address of the faucet.\n",
      "  --burn-address ADDRESS   Burn address for discarding used tokens.\n",
      "  --passphrase PASSWORD    The passphrase used for the Marlowe PAB.\n",
      "  TEST_FILE                JSON file containing a test case.\n",
      "  -h,--help                Show this help text\n"
     ]
    }
   ],
   "source": [
    "marlowe-cli test contracts --help"
   ]
  },
  {
   "cell_type": "markdown",
   "id": "6f7924ff-16a0-4321-a6ff-af3d75e46c18",
   "metadata": {},
   "source": [
    "## Troubleshooting\n",
    "\n",
    "*   See the previous lecture, \"Running Marlowe Contacts on the Blockchain\", for hints on troubleshooting Marlowe transactions in general.\n",
    "*   Correct operation of the Marlowe backend depends upon having all of the ports correctly configured.\n",
    "*   Failures may occur when wallets do not have sufficient funds.\n",
    "*   Run the Marlowe backend test suite to verify that the backend components are working: https://github.com/input-output-hk/marlowe-cardano/blob/mpp-cli-lectures/marlowe-cli/run-tests.sh.\n",
    "*   Study the log files of the backend components to see whether requests are reaching the backend, chain-index, wallet, and node."
   ]
  },
  {
   "cell_type": "markdown",
   "id": "1631450d-cc62-41a7-96bd-c7c50c130536",
   "metadata": {
    "tags": []
   },
   "source": [
    "## Resources\n",
    "\n",
    "*   Marlowe CLI documentation: https://github.com/input-output-hk/marlowe-cardano/blob/mpp-cli-lectures/marlowe-cli/ReadMe.md.\n",
    "*   Marlowe Debugging Cookbook: https://github.com/input-output-hk/marlowe-cardano/blob/mpp-cli-lectures/marlowe/debugging-cookbook.md.\n",
    "*   Test suite for Marlowe backend with `marlowe-cli`: https://github.com/input-output-hk/marlowe-cardano/blob/mpp-cli-lectures/marlowe-cli/test/ReadMe.md.\n",
    "*   Detailed example for the Marlowe backend: https://github.com/input-output-hk/marlowe-cardano/blob/mpp-cli-lectures/marlowe-cli/doc/pab-tutorial.md.\n",
    "*   Marlowe Playground: https://playground.marlowe.iohkdev.io/#/.\n",
    "*   Marlowe Run\n",
    "    *   On pioneers testnet: https://marlowe-run-marlowe-pioneers.plutus.aws.iohkdev.io/.\n",
    "    *   On mock network: https://marlowe-finance.io/.\n",
    "*   Plutus Pioneers Program: https://github.com/input-output-hk/plutus-pioneer-program.\n",
    "*   Plutus Community: https://plutus-community.readthedocs.io/en/latest/."
   ]
  },
  {
   "cell_type": "markdown",
   "id": "dc00b4eb-0c7b-4471-a418-2d0543b556c0",
   "metadata": {},
   "source": [
    "## Exercises (Difficult)\n",
    "\n",
    "1.  Repeat the Marlowe backend tutorial https://github.com/input-output-hk/marlowe-cardano/blob/mpp-cli-lectures/marlowe-cli/doc/pab-tutorial.md.\n",
    "2.  Run the Marlowe backend tests https://github.com/input-output-hk/marlowe-cardano/blob/mpp-cli-lectures/marlowe-cli/run-tests.sh."
   ]
  },
  {
   "cell_type": "markdown",
   "id": "47b19d04-c44a-4ebd-9673-44c7b3f766d4",
   "metadata": {
    "jp-MarkdownHeadingCollapsed": true,
    "tags": []
   },
   "source": [
    "## Summary\n",
    "\n",
    "*   The Marlowe backend consists of six components working together.\n",
    "*   The `marlowe-cli pab` command lets one create PAB contracts and call their endpoints.\n",
    "*   The `marlowe-cli query` command will query the Plutus chain index to determine the state or history of a Marlowe contract.\n",
    "*   The `marlowe-cli test contracts` command runs test scripts that check the correct operation of contracts on the Marlowe PAB."
   ]
  },
  {
   "cell_type": "markdown",
   "id": "d39e9d63-9216-499d-8e39-b0f25e4ac872",
   "metadata": {},
   "source": [
    "## Other Lectures\n",
    "\n",
    "Lectures on Marlowe CLI: https://github.com/input-output-hk/marlowe-cardano/blob/mpp-cli-lectures/marlowe-cli/lectures/ReadMe.md\n",
    "\n",
    "*   [Overview of Marlowe CLI](01-marlowe-cli-overview.ipynb)\n",
    "*   [Installing Marlowe CLI and Associated Tools](02-marlowe-cli-installation.ipynb)\n",
    "*   [Running Marlowe Contracts without Blockchain Transactions](03-marlowe-cli-abstract.ipynb)\n",
    "*   [Running Marlowe Contacts on the Blockchain](04-marlowe-cli-concrete.ipynb)\n",
    "*   ~~Running Marlowe Contracts with the Marlowe Backend~~"
   ]
  }
 ],
 "metadata": {
  "kernelspec": {
   "display_name": "Bash - Marlowe",
   "language": "bash",
   "name": "bash_marlowe"
  },
  "language_info": {
   "codemirror_mode": "shell",
   "file_extension": ".sh",
   "mimetype": "text/x-sh",
   "name": "/nix/store/zwjm0gln1vk7x1akpyz0yxjsd1yc46gi-bash-5.1-p16/bin/bash"
  }
 },
 "nbformat": 4,
 "nbformat_minor": 5
}
