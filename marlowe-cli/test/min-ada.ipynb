{
 "cells": [
  {
   "cell_type": "markdown",
   "id": "ee325653-e97b-422c-b6f8-871875293e48",
   "metadata": {},
   "source": [
    "# Deposit Fails Due to Min-ADA Requirement"
   ]
  },
  {
   "cell_type": "markdown",
   "id": "38dfc939-efc4-465d-90a9-d5e7db736dca",
   "metadata": {},
   "source": [
    "This test case illustrates that Marlowe contracts involving native tokens may contain unexecutable `Deposit` actions due to the [min-ADA](https://mantis.functionally.io/how-to/min-ada-value/) requirement that a certain amount of ADA always reside in a UTxO containing a native token. Under the protocol parameters during the Alonzo Era, the min-ADA varies from approximately 1.3 ADA to 22.5 ADA. Although this requirement may block certain paths through an otherwise valid Marlowe contract, it does not cause funds to be locked forever: rather, there will always be an executable path through the contract that leads to its closing and the dispersement of funds from the contract.\n",
    "\n",
    "👉 This example highlights the importance of performing static analysis of a Marlowe contract *before* creating the contract on the blockchain. To verify that a contract will not experience this failure mode, one needs to compute the min-ADA requirement (via a tool like `cardano-cli transaction calculate-min-required-utxo`) at *every `Deposit` and `Pay`* in the contract to verify that the ADA balance exceeds min-ADA at each of those locations."
   ]
  },
  {
   "cell_type": "markdown",
   "id": "0d8ab225-6865-4645-a9df-4ed0eff933a2",
   "metadata": {},
   "source": [
    "## Preliminaries"
   ]
  },
  {
   "cell_type": "markdown",
   "id": "7ebe6680-9f05-4bb6-af7d-07bf446e1690",
   "metadata": {},
   "source": [
    "Select the network."
   ]
  },
  {
   "cell_type": "code",
   "execution_count": 1,
   "id": "c5a93e4e-18c4-417a-9142-ba1ac3552bfd",
   "metadata": {},
   "outputs": [],
   "source": [
    "CARDANO_TESTNET_MAGIC=1567\n",
    "CARDANO_NODE_SOCKET_PATH=node.socket"
   ]
  },
  {
   "cell_type": "markdown",
   "id": "457959ba-821f-4e0b-9d0f-f93c9f00b00a",
   "metadata": {},
   "source": [
    "Select the payment credentials."
   ]
  },
  {
   "cell_type": "code",
   "execution_count": 2,
   "id": "eccb7113-45e3-4fb3-9f70-25a231506126",
   "metadata": {},
   "outputs": [
    {
     "name": "stdout",
     "output_type": "stream",
     "text": [
      "0a11b0c7e25dc5d9c63171bdf39d9741b901dc903e12b4e162348e07\n",
      "addr_test1vq9prvx8ufwutkwxx9cmmuuajaqmjqwujqlp9d8pvg6gupczgtm9j\n"
     ]
    }
   ],
   "source": [
    "PAYMENT_SKEY=payment.skey\n",
    "PAYMENT_VKEY=payment.vkey\n",
    "PAYMENT_HASH=$(cardano-cli address key-hash --payment-verification-key-file $PAYMENT_VKEY)\n",
    "echo $PAYMENT_HASH\n",
    "PAYMENT_ADDR=$(cardano-cli address build --testnet-magic $CARDANO_TESTNET_MAGIC --payment-verification-key-file $PAYMENT_VKEY)\n",
    "echo $PAYMENT_ADDR"
   ]
  },
  {
   "cell_type": "markdown",
   "id": "9b242d04-86b1-4e94-aadb-d40b92dcbdae",
   "metadata": {},
   "source": [
    "Set the token name."
   ]
  },
  {
   "cell_type": "code",
   "execution_count": 3,
   "id": "4bf23ba1-e159-40c7-b171-9bce750d26ea",
   "metadata": {},
   "outputs": [],
   "source": [
    "TOKEN_NAME=\"Token requiring min 1.448244 ADA\""
   ]
  },
  {
   "cell_type": "markdown",
   "id": "bca06b64-b931-4d9c-bf50-bb8115b65171",
   "metadata": {},
   "source": [
    "Mint the token."
   ]
  },
  {
   "cell_type": "code",
   "execution_count": 4,
   "id": "41ad7e61-82ad-482c-8ffa-a265b0f8de68",
   "metadata": {},
   "outputs": [
    {
     "name": "stdout",
     "output_type": "stream",
     "text": [
      "8bb3b343d8e404472337966a722150048c768d0a92a9813596c5338d\n"
     ]
    }
   ],
   "source": [
    "POLICY_ID=$(\n",
    "marlowe-cli util mint --required-signer $PAYMENT_SKEY \\\n",
    "                      --change-address $PAYMENT_ADDR  \\\n",
    "                      --out-file /dev/null            \\\n",
    "                      --submit 600                    \\\n",
    "                      \"$TOKEN_NAME\"                   \\\n",
    "| sed -e 's/PolicyID \"\\(.*\\)\"$/\\1/'                   \\\n",
    ")\n",
    "echo $POLICY_ID"
   ]
  },
  {
   "cell_type": "markdown",
   "id": "0ac20fd2-c50a-43e9-900c-917b762af3e0",
   "metadata": {},
   "source": [
    "View the result of the minting."
   ]
  },
  {
   "cell_type": "code",
   "execution_count": 5,
   "id": "ad8de416-ee9c-4dcd-b4ba-835c6df28bc5",
   "metadata": {},
   "outputs": [
    {
     "name": "stdout",
     "output_type": "stream",
     "text": [
      "                           TxHash                                 TxIx        Amount\n",
      "--------------------------------------------------------------------------------------\n",
      "6a41f880e754c8e692bb02008e8906b21119ba18156ccb078cb95e650995b811     0        2303800612582 lovelace + TxOutDatumNone\n",
      "6a41f880e754c8e692bb02008e8906b21119ba18156ccb078cb95e650995b811     1        10000000 lovelace + 1 8bb3b343d8e404472337966a722150048c768d0a92a9813596c5338d.546f6b656e20726571756972696e67206d696e20312e34343832343420414441 + TxOutDatumNone\n"
     ]
    }
   ],
   "source": [
    "cardano-cli query utxo --testnet-magic $CARDANO_TESTNET_MAGIC --address $PAYMENT_ADDR"
   ]
  },
  {
   "cell_type": "markdown",
   "id": "3dca3a6d-c915-4663-bd97-b8aeab6fd123",
   "metadata": {},
   "source": [
    "## *Control Case:* Successful Transaction with Sufficient Min-ADA"
   ]
  },
  {
   "cell_type": "markdown",
   "id": "a794d159-d64d-4c10-a346-8f226e0bf0fb",
   "metadata": {},
   "source": [
    "Select the UTxOs for later use in the transactions."
   ]
  },
  {
   "cell_type": "code",
   "execution_count": 6,
   "id": "b56dab18-3df0-4e6c-9926-b9bdf2efeaa3",
   "metadata": {},
   "outputs": [
    {
     "name": "stdout",
     "output_type": "stream",
     "text": [
      "6a41f880e754c8e692bb02008e8906b21119ba18156ccb078cb95e650995b811#0\n"
     ]
    }
   ],
   "source": [
    "TX_0_ADA=$(marlowe-cli util select --lovelace-only 10000000 $PAYMENT_ADDR | sed -e 's/^TxIn \"\\(.*\\)\" (TxIx \\(.*\\))$/\\1#\\2/' | head)\n",
    "echo $TX_0_ADA"
   ]
  },
  {
   "cell_type": "code",
   "execution_count": 7,
   "id": "664b5d1a-3347-4d07-8ecb-c59017cf640a",
   "metadata": {},
   "outputs": [
    {
     "name": "stdout",
     "output_type": "stream",
     "text": [
      "6a41f880e754c8e692bb02008e8906b21119ba18156ccb078cb95e650995b811#1\n"
     ]
    }
   ],
   "source": [
    "TX_0_TOKEN=$(marlowe-cli util select --asset-only \"$POLICY_ID.$TOKEN_NAME\" $PAYMENT_ADDR | sed -e 's/^TxIn \"\\(.*\\)\" (TxIx \\(.*\\))$/\\1#\\2/')\n",
    "echo $TX_0_TOKEN"
   ]
  },
  {
   "cell_type": "markdown",
   "id": "a6cb5bf4-db7f-4ae0-8e16-b5a19780335b",
   "metadata": {},
   "source": [
    "### Design the contract and its initial state"
   ]
  },
  {
   "cell_type": "markdown",
   "id": "9d19c1ee-74a9-45ba-9258-f38bfada6f1e",
   "metadata": {},
   "source": [
    "Find the current time."
   ]
  },
  {
   "cell_type": "code",
   "execution_count": 8,
   "id": "c216e1f6-4faf-486e-8113-b163041dbbee",
   "metadata": {},
   "outputs": [
    {
     "name": "stdout",
     "output_type": "stream",
     "text": [
      "1658968791000\n"
     ]
    }
   ],
   "source": [
    "NOW=$(($(date -u +%s) * 1000))\n",
    "MINUTE=$((60 * 1000))\n",
    "echo $NOW"
   ]
  },
  {
   "cell_type": "markdown",
   "id": "c1710eb5-9d49-4f52-8785-c3bd36de40b1",
   "metadata": {},
   "source": [
    "Create a contract which receives a deposit of the token, waits for a notification, and then pays the token."
   ]
  },
  {
   "cell_type": "code",
   "execution_count": 9,
   "id": "1ade0fea-10c1-4f54-b2de-c2487cfc8002",
   "metadata": {},
   "outputs": [
    {
     "name": "stdout",
     "output_type": "stream",
     "text": [
      "timeout: 1658969091000\n",
      "timeout_continuation: close\n",
      "when:\n",
      "- case:\n",
      "    deposits: 1\n",
      "    into_account:\n",
      "      pk_hash: 0a11b0c7e25dc5d9c63171bdf39d9741b901dc903e12b4e162348e07\n",
      "    of_token:\n",
      "      currency_symbol: 8bb3b343d8e404472337966a722150048c768d0a92a9813596c5338d\n",
      "      token_name: Token requiring min 1.448244 ADA\n",
      "    party:\n",
      "      pk_hash: 0a11b0c7e25dc5d9c63171bdf39d9741b901dc903e12b4e162348e07\n",
      "  then:\n",
      "    timeout: 1658969091000\n",
      "    timeout_continuation: close\n",
      "    when:\n",
      "    - case:\n",
      "        notify_if: true\n",
      "      then: close\n"
     ]
    }
   ],
   "source": [
    "cat > min-ada.contract << EOI\n",
    "{\n",
    "  \"when\" : [\n",
    "    {\n",
    "      \"case\" : {\n",
    "        \"party\" : {\"pk_hash\" : \"$PAYMENT_HASH\"}\n",
    "      , \"deposits\" : 1\n",
    "      , \"of_token\" : {\n",
    "          \"currency_symbol\" : \"$POLICY_ID\"\n",
    "        , \"token_name\" : \"$TOKEN_NAME\"\n",
    "        }\n",
    "      , \"into_account\" : {\"pk_hash\" : \"$PAYMENT_HASH\"}\n",
    "      }\n",
    "     , \"then\" : {\n",
    "         \"when\" : [\n",
    "           {\n",
    "             \"case\" :{ \n",
    "               \"notify_if\" : true\n",
    "              }\n",
    "           , \"then\":\"close\"\n",
    "           }\n",
    "         ]\n",
    "       , \"timeout_continuation\" : \"close\"\n",
    "       , \"timeout\" : $((NOW + 5 * MINUTE))\n",
    "       }\n",
    "     }\n",
    "   ]\n",
    ", \"timeout_continuation\" : \"close\"\n",
    ", \"timeout\" : $((NOW + 5 * MINUTE))\n",
    "}\n",
    "EOI\n",
    "json2yaml min-ada.contract"
   ]
  },
  {
   "cell_type": "markdown",
   "id": "66c18024-1009-4c4c-bbfa-c35f07395deb",
   "metadata": {},
   "source": [
    "The contract will start with 2 ADA, which is sufficient to cover the min-ADA requirement throughout the life of the contract."
   ]
  },
  {
   "cell_type": "code",
   "execution_count": 10,
   "id": "dc9c7025-9bc0-4a58-b4e7-cb6553716b66",
   "metadata": {},
   "outputs": [],
   "source": [
    "INITIAL_LOVELACE=2000000"
   ]
  },
  {
   "cell_type": "markdown",
   "id": "3a72aac0-a9b3-4533-9979-f766754036c9",
   "metadata": {},
   "source": [
    "Create the initial state of the contract, which starts with the initial ADA."
   ]
  },
  {
   "cell_type": "code",
   "execution_count": 11,
   "id": "474272c7-be07-4b34-a54c-524b928e40d4",
   "metadata": {},
   "outputs": [
    {
     "name": "stdout",
     "output_type": "stream",
     "text": [
      "accounts:\n",
      "- - - pk_hash: 0a11b0c7e25dc5d9c63171bdf39d9741b901dc903e12b4e162348e07\n",
      "    - currency_symbol: ''\n",
      "      token_name: ''\n",
      "  - 2000000\n",
      "boundValues: []\n",
      "choices: []\n",
      "minTime: 1658968791000\n"
     ]
    }
   ],
   "source": [
    "cat > min-ada.state << EOI\n",
    "{\n",
    "  \"choices\": [],\n",
    "  \"accounts\": [\n",
    "    [\n",
    "      [\n",
    "        {\n",
    "          \"pk_hash\": \"$PAYMENT_HASH\"\n",
    "        },\n",
    "        {\n",
    "          \"currency_symbol\": \"\",\n",
    "          \"token_name\": \"\"\n",
    "        }\n",
    "      ],\n",
    "      $INITIAL_LOVELACE\n",
    "    ]\n",
    "  ],\n",
    "  \"minTime\": $NOW,\n",
    "  \"boundValues\": []\n",
    "}\n",
    "EOI\n",
    "json2yaml min-ada.state"
   ]
  },
  {
   "cell_type": "markdown",
   "id": "af4131c7-5a8a-4124-b55e-eb70372e07c4",
   "metadata": {},
   "source": [
    "### 1. Create the contract"
   ]
  },
  {
   "cell_type": "markdown",
   "id": "5743c82e-555f-4c72-853c-946b261646a3",
   "metadata": {},
   "source": [
    "Create the Plutus script and the initial datum."
   ]
  },
  {
   "cell_type": "code",
   "execution_count": 12,
   "id": "0dcf8724-af1c-44bb-8999-1561bf121745",
   "metadata": {},
   "outputs": [],
   "source": [
    "marlowe-cli run initialize --contract-file min-ada.contract \\\n",
    "                           --state-file    min-ada.state    \\\n",
    "                           --out-file      min-ada-1.marlowe"
   ]
  },
  {
   "cell_type": "markdown",
   "id": "673cb0d5-3a38-4868-9775-73255cb2f7f2",
   "metadata": {},
   "source": [
    "Compute the address of the Marlowe script."
   ]
  },
  {
   "cell_type": "code",
   "execution_count": 13,
   "id": "05748c95-dd99-4640-8863-5b53f2e0df3f",
   "metadata": {},
   "outputs": [
    {
     "name": "stdout",
     "output_type": "stream",
     "text": [
      "addr_test1wp3v2mx0ccsh4l6kjtsa86lgnsss20f3lsgcst9jr07axpcmajgcl\n"
     ]
    }
   ],
   "source": [
    "SCRIPT_ADDR=$(jq -r .marloweValidator.address min-ada-1.marlowe)\n",
    "echo $SCRIPT_ADDR"
   ]
  },
  {
   "cell_type": "markdown",
   "id": "9882a68e-9a07-4402-9524-40e8fcb37383",
   "metadata": {},
   "source": [
    "Submit the transaction to create the contract."
   ]
  },
  {
   "cell_type": "code",
   "execution_count": 14,
   "id": "548de0b0-a8e8-4334-9320-02619df2e6e0",
   "metadata": {},
   "outputs": [
    {
     "name": "stdout",
     "output_type": "stream",
     "text": [
      "\n",
      "Fee: Lovelace 188249\n",
      "Size: 504 / 32768 = 1%\n",
      "Execution units:\n",
      "  Memory: 0 / 30000000 = 0%\n",
      "  Steps: 0 / 10000000000 = 0%\n",
      "TxId \"83562a16c19d0c41de032a6568b51d8ba2a1788f31ded2daf15d0c2530958d5d\"\n"
     ]
    }
   ],
   "source": [
    "TX_1=$(\n",
    "marlowe-cli run execute --required-signer $PAYMENT_SKEY      \\\n",
    "                        --tx-in $TX_0_ADA                    \\\n",
    "                        --marlowe-out-file min-ada-1.marlowe \\\n",
    "                        --change-address $PAYMENT_ADDR       \\\n",
    "                        --out-file /dev/null                 \\\n",
    "                        --submit 600                         \\\n",
    "                        --print-stats                        \\\n",
    "| sed -e 's/^TxId \"\\(.*\\)\"$/\\1/'                             \\\n",
    ")\n",
    "echo \"TxId \\\"$TX_1\\\"\""
   ]
  },
  {
   "cell_type": "markdown",
   "id": "721bc753-6d84-41af-976d-64e7aa4b9091",
   "metadata": {},
   "source": [
    "The script address now has the contract with its initial state."
   ]
  },
  {
   "cell_type": "code",
   "execution_count": 15,
   "id": "b99c65da-5ef4-46b8-9dfe-1214ab94a37b",
   "metadata": {},
   "outputs": [
    {
     "name": "stdout",
     "output_type": "stream",
     "text": [
      "                           TxHash                                 TxIx        Amount\n",
      "--------------------------------------------------------------------------------------\n",
      "83562a16c19d0c41de032a6568b51d8ba2a1788f31ded2daf15d0c2530958d5d     1        2000000 lovelace + TxOutDatumHash ScriptDataInAlonzoEra \"dad1cf3a390d2953a1019c209350813572fc5b2787ddfb4afe431baee35c8184\"\n"
     ]
    }
   ],
   "source": [
    "cardano-cli query utxo --testnet-magic $CARDANO_TESTNET_MAGIC --address $SCRIPT_ADDR | sed -n -e \"1,2p;/$TX_1/p\""
   ]
  },
  {
   "cell_type": "markdown",
   "id": "f0e32af7-64ae-4c56-af53-cfe6d31583f5",
   "metadata": {},
   "source": [
    "### 2. Deposit the token"
   ]
  },
  {
   "cell_type": "markdown",
   "id": "33b5bf0b-5f8f-4e8c-b2b8-ac3bb46a74a0",
   "metadata": {},
   "source": [
    "Prepare the transaction for depositing the token into the contract."
   ]
  },
  {
   "cell_type": "code",
   "execution_count": 16,
   "id": "85cf7b3d-0835-4d7c-83e0-d9882e1899ff",
   "metadata": {},
   "outputs": [],
   "source": [
    "marlowe-cli run prepare --marlowe-file min-ada-1.marlowe          \\\n",
    "                        --deposit-account PK=$PAYMENT_HASH        \\\n",
    "                        --deposit-party PK=$PAYMENT_HASH          \\\n",
    "                        --deposit-token \"$POLICY_ID.$TOKEN_NAME\"  \\\n",
    "                        --deposit-amount 1                        \\\n",
    "                        --invalid-before $NOW                     \\\n",
    "                        --invalid-hereafter $((NOW + 4 * MINUTE)) \\\n",
    "                        --out-file min-ada-2.marlowe"
   ]
  },
  {
   "cell_type": "markdown",
   "id": "82ed0f97-7d73-4ab0-8c5c-ee56507d9cac",
   "metadata": {},
   "source": [
    "Submit the transaction to deposit the token."
   ]
  },
  {
   "cell_type": "code",
   "execution_count": 17,
   "id": "d832d8e1-045e-4e33-ada8-ff5e843bc25a",
   "metadata": {},
   "outputs": [
    {
     "name": "stdout",
     "output_type": "stream",
     "text": [
      "\n",
      "Fee: Lovelace 1123677\n",
      "Size: 13649 / 32768 = 41%\n",
      "Execution units:\n",
      "  Memory: 4219780 / 30000000 = 14%\n",
      "  Steps: 1450621095 / 10000000000 = 14%\n",
      "TxId \"e351668cbc0ed1f4168604b778a02879481cc12198bfc3eabd1cc4a9051111e6\"\n"
     ]
    }
   ],
   "source": [
    "TX_2=$(\n",
    "marlowe-cli run execute --required-signer $PAYMENT_SKEY      \\\n",
    "                        --tx-in \"$TX_0_TOKEN\"                \\\n",
    "                        --tx-in \"$TX_1#0\"                    \\\n",
    "                        --tx-in-collateral \"$TX_1#0\"         \\\n",
    "                        --tx-in-marlowe \"$TX_1#1\"            \\\n",
    "                        --marlowe-in-file  min-ada-1.marlowe \\\n",
    "                        --marlowe-out-file min-ada-2.marlowe \\\n",
    "                        --change-address $PAYMENT_ADDR       \\\n",
    "                        --out-file /dev/null                 \\\n",
    "                        --submit 600                         \\\n",
    "                        --print-stats                        \\\n",
    "| sed -e 's/^TxId \"\\(.*\\)\"$/\\1/'                             \\\n",
    ")\n",
    "echo \"TxId \\\"$TX_2\\\"\""
   ]
  },
  {
   "cell_type": "markdown",
   "id": "a2d9fdd9-62a2-4e22-94de-ed7bb4137f57",
   "metadata": {},
   "source": [
    "View the new UTxO at the script address."
   ]
  },
  {
   "cell_type": "code",
   "execution_count": 18,
   "id": "eaeae3e9-af0f-4b4d-a37c-42b942966aba",
   "metadata": {},
   "outputs": [
    {
     "name": "stdout",
     "output_type": "stream",
     "text": [
      "                           TxHash                                 TxIx        Amount\n",
      "--------------------------------------------------------------------------------------\n",
      "e351668cbc0ed1f4168604b778a02879481cc12198bfc3eabd1cc4a9051111e6     1        2000000 lovelace + 1 8bb3b343d8e404472337966a722150048c768d0a92a9813596c5338d.546f6b656e20726571756972696e67206d696e20312e34343832343420414441 + TxOutDatumHash ScriptDataInAlonzoEra \"397e99881a94613502057eb525cd0b6f3e0b5a096cb4da4e5b2d214bb2dbe563\"\n"
     ]
    }
   ],
   "source": [
    "cardano-cli query utxo --testnet-magic $CARDANO_TESTNET_MAGIC --address $SCRIPT_ADDR | sed -n -e \"1,2p;/$TX_1/p;/$TX_2/p\""
   ]
  },
  {
   "cell_type": "markdown",
   "id": "8ec208df-80dd-4256-8836-13fbab6dfcfe",
   "metadata": {},
   "source": [
    "### 3. Notify the contract to close"
   ]
  },
  {
   "cell_type": "markdown",
   "id": "ca9ef3a7-8f2c-4733-a455-63c3e199786d",
   "metadata": {},
   "source": [
    "Prepare the notification."
   ]
  },
  {
   "cell_type": "code",
   "execution_count": 19,
   "id": "3d18c021-9b1d-49c5-81da-1583a14a4fc6",
   "metadata": {},
   "outputs": [
    {
     "name": "stdout",
     "output_type": "stream",
     "text": [
      "Payment 1\n",
      "  Acccount: PK \"0a11b0c7e25dc5d9c63171bdf39d9741b901dc903e12b4e162348e07\"\n",
      "  Payee: Party (PK \"0a11b0c7e25dc5d9c63171bdf39d9741b901dc903e12b4e162348e07\")\n",
      "  Ada: 2.000000\n",
      "Payment 2\n",
      "  Acccount: PK \"0a11b0c7e25dc5d9c63171bdf39d9741b901dc903e12b4e162348e07\"\n",
      "  Payee: Party (PK \"0a11b0c7e25dc5d9c63171bdf39d9741b901dc903e12b4e162348e07\")\n",
      "  Ada: 0.000000\n",
      "  8bb3b343d8e404472337966a722150048c768d0a92a9813596c5338d.\"Token requiring min 1.448244 ADA\": 1\n"
     ]
    }
   ],
   "source": [
    "marlowe-cli run prepare --marlowe-file min-ada-2.marlowe          \\\n",
    "                        --notify                                  \\\n",
    "                        --invalid-before $NOW                     \\\n",
    "                        --invalid-hereafter $((NOW + 4 * MINUTE)) \\\n",
    "                        --out-file min-ada-3.marlowe"
   ]
  },
  {
   "cell_type": "markdown",
   "id": "7548f745-da03-4785-b49a-fcd9de63c3dd",
   "metadata": {},
   "source": [
    "Submit the notification."
   ]
  },
  {
   "cell_type": "code",
   "execution_count": 20,
   "id": "945025dc-e8aa-4710-bad4-cc1f0d4f511b",
   "metadata": {},
   "outputs": [
    {
     "name": "stdout",
     "output_type": "stream",
     "text": [
      "\n",
      "Fee: Lovelace 1030934\n",
      "Size: 13172 / 32768 = 40%\n",
      "Execution units:\n",
      "  Memory: 3421362 / 30000000 = 11%\n",
      "  Steps: 1156000626 / 10000000000 = 11%\n",
      "TxId \"3e9ca0c50476c0b82ce0cd1a7f6837dc36af5c2401a1f84be0fc4fb56d0b032b\"\n"
     ]
    }
   ],
   "source": [
    "TX_3=$(\n",
    "marlowe-cli run execute --required-signer $PAYMENT_SKEY      \\\n",
    "                        --tx-in \"$TX_2#0\"                    \\\n",
    "                        --tx-in-collateral \"$TX_2#0\"         \\\n",
    "                        --tx-in-marlowe \"$TX_2#1\"            \\\n",
    "                        --marlowe-in-file  min-ada-2.marlowe \\\n",
    "                        --marlowe-out-file min-ada-3.marlowe \\\n",
    "                        --change-address $PAYMENT_ADDR       \\\n",
    "                        --out-file /dev/null                 \\\n",
    "                        --submit 600                         \\\n",
    "                        --print-stats                        \\\n",
    "| sed -e 's/^TxId \"\\(.*\\)\"$/\\1/'                             \\\n",
    ")\n",
    "echo \"TxId \\\"$TX_3\\\"\""
   ]
  },
  {
   "cell_type": "markdown",
   "id": "0950d875-2db3-444e-ab34-a6bf6d20e109",
   "metadata": {},
   "source": [
    "Since the contract has closed, there is no UTxO at the script address."
   ]
  },
  {
   "cell_type": "code",
   "execution_count": 21,
   "id": "cc160d2c-5d30-482a-be03-da9be9bf649d",
   "metadata": {},
   "outputs": [
    {
     "name": "stdout",
     "output_type": "stream",
     "text": [
      "                           TxHash                                 TxIx        Amount\n",
      "--------------------------------------------------------------------------------------\n"
     ]
    }
   ],
   "source": [
    "cardano-cli query utxo --testnet-magic $CARDANO_TESTNET_MAGIC --address $SCRIPT_ADDR | sed -n -e \"1,2p;/$TX_1/p;/$TX_2/p;/$TX_3/p\""
   ]
  },
  {
   "cell_type": "markdown",
   "id": "8aa4ab89-091f-4299-a425-d774b00b0671",
   "metadata": {},
   "source": [
    "The initial lovelace and the token have been paid back."
   ]
  },
  {
   "cell_type": "code",
   "execution_count": 22,
   "id": "a7657414-03f0-4e6e-9670-c1898766b4e2",
   "metadata": {},
   "outputs": [
    {
     "name": "stdout",
     "output_type": "stream",
     "text": [
      "                           TxHash                                 TxIx        Amount\n",
      "--------------------------------------------------------------------------------------\n",
      "3e9ca0c50476c0b82ce0cd1a7f6837dc36af5c2401a1f84be0fc4fb56d0b032b     0        2303806269722 lovelace + TxOutDatumNone\n",
      "3e9ca0c50476c0b82ce0cd1a7f6837dc36af5c2401a1f84be0fc4fb56d0b032b     1        2000000 lovelace + 1 8bb3b343d8e404472337966a722150048c768d0a92a9813596c5338d.546f6b656e20726571756972696e67206d696e20312e34343832343420414441 + TxOutDatumNone\n"
     ]
    }
   ],
   "source": [
    "cardano-cli query utxo --testnet-magic $CARDANO_TESTNET_MAGIC --address $PAYMENT_ADDR | sed -n -e \"1,2p;/$TX_1/p;/$TX_2/p;/$TX_3/p\""
   ]
  },
  {
   "cell_type": "markdown",
   "id": "9f4f216e-47c9-4b97-941e-a17dd10afb0d",
   "metadata": {},
   "source": [
    "## *Failure Case:* Unable to Deposit Token"
   ]
  },
  {
   "cell_type": "markdown",
   "id": "768a1fe1-92f7-4cab-8293-3753185169ba",
   "metadata": {},
   "source": [
    "Select the UTxOs for later use in the transactions."
   ]
  },
  {
   "cell_type": "code",
   "execution_count": 23,
   "id": "b06f02e3-5174-4347-94cc-3b7e99c83d77",
   "metadata": {},
   "outputs": [
    {
     "name": "stdout",
     "output_type": "stream",
     "text": [
      "                           TxHash                                 TxIx        Amount\n",
      "--------------------------------------------------------------------------------------\n",
      "3e9ca0c50476c0b82ce0cd1a7f6837dc36af5c2401a1f84be0fc4fb56d0b032b     0        2303806269722 lovelace + TxOutDatumNone\n",
      "3e9ca0c50476c0b82ce0cd1a7f6837dc36af5c2401a1f84be0fc4fb56d0b032b     1        2000000 lovelace + 1 8bb3b343d8e404472337966a722150048c768d0a92a9813596c5338d.546f6b656e20726571756972696e67206d696e20312e34343832343420414441 + TxOutDatumNone\n"
     ]
    }
   ],
   "source": [
    "cardano-cli query utxo --testnet-magic $CARDANO_TESTNET_MAGIC --address $PAYMENT_ADDR"
   ]
  },
  {
   "cell_type": "code",
   "execution_count": 24,
   "id": "5ab35399-5934-4023-ad8a-9d27af43ccab",
   "metadata": {},
   "outputs": [
    {
     "name": "stdout",
     "output_type": "stream",
     "text": [
      "3e9ca0c50476c0b82ce0cd1a7f6837dc36af5c2401a1f84be0fc4fb56d0b032b#0\n"
     ]
    }
   ],
   "source": [
    "TX_0_ADA=$(marlowe-cli util select --lovelace-only 10000000 $PAYMENT_ADDR | sed -e 's/^TxIn \"\\(.*\\)\" (TxIx \\(.*\\))$/\\1#\\2/' | head)\n",
    "echo $TX_0_ADA"
   ]
  },
  {
   "cell_type": "code",
   "execution_count": 25,
   "id": "d9870f49-4f1a-40b9-870a-6ad7617d1ead",
   "metadata": {},
   "outputs": [
    {
     "name": "stdout",
     "output_type": "stream",
     "text": [
      "3e9ca0c50476c0b82ce0cd1a7f6837dc36af5c2401a1f84be0fc4fb56d0b032b#1\n"
     ]
    }
   ],
   "source": [
    "TX_0_TOKEN=$(marlowe-cli util select --asset-only \"$POLICY_ID.$TOKEN_NAME\" $PAYMENT_ADDR | sed -e 's/^TxIn \"\\(.*\\)\" (TxIx \\(.*\\))$/\\1#\\2/')\n",
    "echo $TX_0_TOKEN"
   ]
  },
  {
   "cell_type": "markdown",
   "id": "710c8070-e1ee-4d9e-981b-b8887f29a465",
   "metadata": {},
   "source": [
    "### Design the contract"
   ]
  },
  {
   "cell_type": "code",
   "execution_count": 26,
   "id": "79a67b4d-fa9f-4da9-87fe-40e4ae5edb4b",
   "metadata": {},
   "outputs": [
    {
     "name": "stdout",
     "output_type": "stream",
     "text": [
      "1658968930000\n"
     ]
    }
   ],
   "source": [
    "NOW=$(($(date -u +%s) * 1000))\n",
    "MINUTE=$((60 * 1000))\n",
    "echo $NOW"
   ]
  },
  {
   "cell_type": "markdown",
   "id": "1cd5b877-bd06-4f04-abf5-99f2d8c06808",
   "metadata": {},
   "source": [
    "Create a contract which receives a deposit of the token, waits for a notification, and then pays the token."
   ]
  },
  {
   "cell_type": "code",
   "execution_count": 27,
   "id": "009a4adc-02c8-48a7-90e4-707012205798",
   "metadata": {},
   "outputs": [
    {
     "name": "stdout",
     "output_type": "stream",
     "text": [
      "timeout: 1658969230000\n",
      "timeout_continuation: close\n",
      "when:\n",
      "- case:\n",
      "    deposits: 1\n",
      "    into_account:\n",
      "      pk_hash: 0a11b0c7e25dc5d9c63171bdf39d9741b901dc903e12b4e162348e07\n",
      "    of_token:\n",
      "      currency_symbol: 8bb3b343d8e404472337966a722150048c768d0a92a9813596c5338d\n",
      "      token_name: Token requiring min 1.448244 ADA\n",
      "    party:\n",
      "      pk_hash: 0a11b0c7e25dc5d9c63171bdf39d9741b901dc903e12b4e162348e07\n",
      "  then:\n",
      "    timeout: 1658969230000\n",
      "    timeout_continuation: close\n",
      "    when:\n",
      "    - case:\n",
      "        notify_if: true\n",
      "      then: close\n"
     ]
    }
   ],
   "source": [
    "cat > min-ada.contract << EOI\n",
    "{\n",
    "  \"when\" : [\n",
    "    {\n",
    "      \"case\" : {\n",
    "        \"party\" : {\"pk_hash\" : \"$PAYMENT_HASH\"}\n",
    "      , \"deposits\" : 1\n",
    "      , \"of_token\" : {\n",
    "          \"currency_symbol\" : \"$POLICY_ID\"\n",
    "        , \"token_name\" : \"$TOKEN_NAME\"\n",
    "        }\n",
    "      , \"into_account\" : {\"pk_hash\" : \"$PAYMENT_HASH\"}\n",
    "      }\n",
    "     , \"then\" : {\n",
    "         \"when\" : [\n",
    "           {\n",
    "             \"case\" :{ \n",
    "               \"notify_if\" : true\n",
    "              }\n",
    "           , \"then\":\"close\"\n",
    "           }\n",
    "         ]\n",
    "       , \"timeout_continuation\" : \"close\"\n",
    "       , \"timeout\" : $((NOW + 5 * MINUTE))\n",
    "       }\n",
    "     }\n",
    "   ]\n",
    ", \"timeout_continuation\" : \"close\"\n",
    ", \"timeout\" : $((NOW + 5 * MINUTE))\n",
    "}\n",
    "EOI\n",
    "json2yaml min-ada.contract"
   ]
  },
  {
   "cell_type": "markdown",
   "id": "ed712b6c-38b9-4abf-a212-93626b01091b",
   "metadata": {},
   "source": [
    "The contract will start with 1.4 ADA, which is **not** sufficient to cover the min-ADA requirement throughout the life of the contract."
   ]
  },
  {
   "cell_type": "code",
   "execution_count": 28,
   "id": "9a2c1843-e7d9-4b71-b7a3-0d891a759e7b",
   "metadata": {
    "tags": []
   },
   "outputs": [],
   "source": [
    "INITIAL_LOVELACE=1400000"
   ]
  },
  {
   "cell_type": "markdown",
   "id": "7de59300-e7a2-460f-bb7a-39c1d1013d20",
   "metadata": {},
   "source": [
    "Create the initial state of the contract, which starts with the initial ADA."
   ]
  },
  {
   "cell_type": "code",
   "execution_count": 29,
   "id": "9a0c76f0-8c48-49aa-9f84-e84cccca0c74",
   "metadata": {},
   "outputs": [
    {
     "name": "stdout",
     "output_type": "stream",
     "text": [
      "accounts:\n",
      "- - - pk_hash: 0a11b0c7e25dc5d9c63171bdf39d9741b901dc903e12b4e162348e07\n",
      "    - currency_symbol: ''\n",
      "      token_name: ''\n",
      "  - 1400000\n",
      "boundValues: []\n",
      "choices: []\n",
      "minTime: 1658968930000\n"
     ]
    }
   ],
   "source": [
    "cat > min-ada.state << EOI\n",
    "{\n",
    "  \"choices\": [],\n",
    "  \"accounts\": [\n",
    "    [\n",
    "      [\n",
    "        {\n",
    "          \"pk_hash\": \"$PAYMENT_HASH\"\n",
    "        },\n",
    "        {\n",
    "          \"currency_symbol\": \"\",\n",
    "          \"token_name\": \"\"\n",
    "        }\n",
    "      ],\n",
    "      $INITIAL_LOVELACE\n",
    "    ]\n",
    "  ],\n",
    "  \"minTime\": $NOW,\n",
    "  \"boundValues\": []\n",
    "}\n",
    "EOI\n",
    "json2yaml min-ada.state"
   ]
  },
  {
   "cell_type": "markdown",
   "id": "9f03c4cf-0904-4a3e-b306-91c27f4c4bdd",
   "metadata": {},
   "source": [
    "### 1. Create the contract"
   ]
  },
  {
   "cell_type": "markdown",
   "id": "c343e815-f698-4021-a6cf-8d00a2d00d2d",
   "metadata": {},
   "source": [
    "Create the Plutus script and the initial datum."
   ]
  },
  {
   "cell_type": "code",
   "execution_count": 30,
   "id": "2a01183a-20ef-4ef2-b6cd-9cf5320e9cc3",
   "metadata": {},
   "outputs": [],
   "source": [
    "marlowe-cli run initialize --contract-file min-ada.contract \\\n",
    "                           --state-file    min-ada.state    \\\n",
    "                           --out-file      min-ada-1.marlowe"
   ]
  },
  {
   "cell_type": "markdown",
   "id": "1cbca04e-5e72-4121-b2fc-b5381dfc2589",
   "metadata": {},
   "source": [
    "Compute the address of the Marlowe script."
   ]
  },
  {
   "cell_type": "code",
   "execution_count": 31,
   "id": "14184673-e630-47aa-bfcf-7b0157df5151",
   "metadata": {},
   "outputs": [
    {
     "name": "stdout",
     "output_type": "stream",
     "text": [
      "addr_test1wp3v2mx0ccsh4l6kjtsa86lgnsss20f3lsgcst9jr07axpcmajgcl\n"
     ]
    }
   ],
   "source": [
    "SCRIPT_ADDR=$(jq -r .marloweValidator.address min-ada-1.marlowe)\n",
    "echo $SCRIPT_ADDR"
   ]
  },
  {
   "cell_type": "markdown",
   "id": "270653cc-6233-401f-822c-7167bf5274c3",
   "metadata": {},
   "source": [
    "Submit the transaction to create the contract."
   ]
  },
  {
   "cell_type": "code",
   "execution_count": 32,
   "id": "56855efb-fb44-420f-a28d-09ca290c743e",
   "metadata": {},
   "outputs": [
    {
     "name": "stdout",
     "output_type": "stream",
     "text": [
      "\n",
      "Fee: Lovelace 188249\n",
      "Size: 504 / 32768 = 1%\n",
      "Execution units:\n",
      "  Memory: 0 / 30000000 = 0%\n",
      "  Steps: 0 / 10000000000 = 0%\n",
      "TxId \"cd60f7caf14f105d7fc4de03417119619ca412adb87c650b60315918381c79c0\"\n"
     ]
    }
   ],
   "source": [
    "TX_1=$(\n",
    "marlowe-cli run execute --required-signer $PAYMENT_SKEY      \\\n",
    "                        --tx-in $TX_0_ADA                    \\\n",
    "                        --marlowe-out-file min-ada-1.marlowe \\\n",
    "                        --change-address $PAYMENT_ADDR       \\\n",
    "                        --out-file /dev/null                 \\\n",
    "                        --submit 600                         \\\n",
    "                        --print-stats                        \\\n",
    "| sed -e 's/^TxId \"\\(.*\\)\"$/\\1/'                             \\\n",
    ")\n",
    "echo \"TxId \\\"$TX_1\\\"\""
   ]
  },
  {
   "cell_type": "markdown",
   "id": "285cc63d-80be-491a-ba32-f259da664dcd",
   "metadata": {},
   "source": [
    "The script address now has the contract with its initial state."
   ]
  },
  {
   "cell_type": "code",
   "execution_count": 33,
   "id": "3ed9c723-060b-48b6-95c7-c36a42d3a187",
   "metadata": {},
   "outputs": [
    {
     "name": "stdout",
     "output_type": "stream",
     "text": [
      "                           TxHash                                 TxIx        Amount\n",
      "--------------------------------------------------------------------------------------\n",
      "cd60f7caf14f105d7fc4de03417119619ca412adb87c650b60315918381c79c0     1        1400000 lovelace + TxOutDatumHash ScriptDataInAlonzoEra \"fbc34ba877f12f17881dd2296d365ca34dffa1516f2ed7037c9af14f69f107f6\"\n"
     ]
    }
   ],
   "source": [
    "cardano-cli query utxo --testnet-magic $CARDANO_TESTNET_MAGIC --address $SCRIPT_ADDR | sed -n -e \"1,2p;/$TX_1/p\""
   ]
  },
  {
   "cell_type": "markdown",
   "id": "25f99b77-4198-49a7-b30f-703cf0c08ccd",
   "metadata": {},
   "source": [
    "### Attempt to deposit the token, but fail"
   ]
  },
  {
   "cell_type": "markdown",
   "id": "12cacb1e-60dd-4438-b4f1-5f83ec072ccf",
   "metadata": {},
   "source": [
    "Prepare the transaction for depositing the token into the contract."
   ]
  },
  {
   "cell_type": "code",
   "execution_count": 34,
   "id": "facec4c1-608b-428e-9152-1f3e0fe1cfcf",
   "metadata": {},
   "outputs": [],
   "source": [
    "marlowe-cli run prepare --marlowe-file min-ada-1.marlowe          \\\n",
    "                        --deposit-account PK=$PAYMENT_HASH        \\\n",
    "                        --deposit-party PK=$PAYMENT_HASH          \\\n",
    "                        --deposit-token \"$POLICY_ID.$TOKEN_NAME\"  \\\n",
    "                        --deposit-amount 1                        \\\n",
    "                        --invalid-before $NOW                     \\\n",
    "                        --invalid-hereafter $((NOW + 4 * MINUTE)) \\\n",
    "                        --out-file min-ada-2.marlowe"
   ]
  },
  {
   "cell_type": "markdown",
   "id": "05a555f1-4404-430b-bd0c-f2ff919ee9e7",
   "metadata": {},
   "source": [
    "Submit the transaction to deposit the token."
   ]
  },
  {
   "cell_type": "code",
   "execution_count": 35,
   "id": "e4f2322a-8f11-4e33-8094-9c3c2b00afc6",
   "metadata": {},
   "outputs": [
    {
     "name": "stdout",
     "output_type": "stream",
     "text": [
      "TxBodyErrorMinUTxONotMet (TxOutInAnyEra AlonzoEra (TxOut (AddressInEra (ShelleyAddressInEra ShelleyBasedEraAlonzo) (ShelleyAddress Testnet (ScriptHashObj (ScriptHash \"62c56ccfc6217aff5692e1d3ebe89c21053d31fc11882cb21bfdd307\")) StakeRefNull)) (TxOutValue MultiAssetInAlonzoEra (valueFromList [(AdaAssetId,1400000),(AssetId \"8bb3b343d8e404472337966a722150048c768d0a92a9813596c5338d\" \"Token requiring min 1.448244 ADA\",1)])) (TxOutDatum' ScriptDataInAlonzoEra \"462bb67b7d140596aacac90caf95ecca69eb1fc9708aad49ea5468c6b16ee931\" (ScriptDataConstructor 0 [ScriptDataConstructor 0 [ScriptDataMap [(ScriptDataConstructor 0 [ScriptDataConstructor 0 [ScriptDataBytes \"\\n\\DC1\\176\\199\\226]\\197\\217\\198\\&1q\\189\\243\\157\\151A\\185\\SOH\\220\\144>\\DC2\\180\\225b4\\142\\a\"],ScriptDataConstructor 0 [ScriptDataBytes \"\",ScriptDataBytes \"\"]],ScriptDataNumber 1400000),(ScriptDataConstructor 0 [ScriptDataConstructor 0 [ScriptDataBytes \"\\n\\DC1\\176\\199\\226]\\197\\217\\198\\&1q\\189\\243\\157\\151A\\185\\SOH\\220\\144>\\DC2\\180\\225b4\\142\\a\"],ScriptDataConstructor 0 [ScriptDataBytes \"\\139\\179\\179C\\216\\228\\EOTG#7\\150jr!P\\EOT\\140v\\141\\n\\146\\169\\129\\&5\\150\\197\\&3\\141\",ScriptDataBytes \"Token requiring min 1.448244 ADA\"]],ScriptDataNumber 1)],ScriptDataMap [],ScriptDataMap [],ScriptDataNumber 1658968930000],ScriptDataConstructor 3 [ScriptDataList [ScriptDataConstructor 0 [ScriptDataConstructor 2 [ScriptDataConstructor 9 []],ScriptDataConstructor 0 []]],ScriptDataNumber 1658969230000,ScriptDataConstructor 0 []]])))) (Lovelace 1793064)\n"
     ]
    },
    {
     "ename": "",
     "evalue": "1",
     "output_type": "error",
     "traceback": []
    }
   ],
   "source": [
    "marlowe-cli run execute --required-signer $PAYMENT_SKEY      \\\n",
    "                        --tx-in \"$TX_0_TOKEN\"                \\\n",
    "                        --tx-in \"$TX_1#0\"                    \\\n",
    "                        --tx-in-collateral \"$TX_1#0\"         \\\n",
    "                        --tx-in-marlowe \"$TX_1#1\"            \\\n",
    "                        --marlowe-in-file  min-ada-1.marlowe \\\n",
    "                        --marlowe-out-file min-ada-2.marlowe \\\n",
    "                        --change-address $PAYMENT_ADDR       \\\n",
    "                        --out-file /dev/null                 \\\n",
    "                        --submit 600                         \\\n",
    "                        --print-stats"
   ]
  },
  {
   "cell_type": "markdown",
   "id": "5739aeb5-2ccd-4f09-ba4b-310495523763",
   "metadata": {},
   "source": [
    "The transaction failed with `TxBodyErrorMinUTxONotMet` because the script address only contains 1.4 ADA, but more ADA is needed to cover the min-ADA requirement. ***This `Case` statement in the contract can never be executed.***"
   ]
  },
  {
   "cell_type": "markdown",
   "id": "dc31a353-83c1-42a9-9f16-33f041198c19",
   "metadata": {},
   "source": [
    "### 2. Wait for a timeout and close the contract"
   ]
  },
  {
   "cell_type": "markdown",
   "id": "02a58929-1686-403a-8338-5701e460da48",
   "metadata": {},
   "source": [
    "Although the contract cannot proceed along its intended path with the deposit of the token, the contract is not blocked forever because the timeout for the `When` statement lets the contract close."
   ]
  },
  {
   "cell_type": "markdown",
   "id": "c7f09c07-99a2-41d5-8d3c-9a3e5dfb0b71",
   "metadata": {},
   "source": [
    "Prepare the transaction to close the contract."
   ]
  },
  {
   "cell_type": "code",
   "execution_count": 36,
   "id": "2df8c7cc-05f7-4b40-be03-fadcc9511e3c",
   "metadata": {},
   "outputs": [
    {
     "name": "stdout",
     "output_type": "stream",
     "text": [
      "Payment 1\n",
      "  Acccount: PK \"0a11b0c7e25dc5d9c63171bdf39d9741b901dc903e12b4e162348e07\"\n",
      "  Payee: Party (PK \"0a11b0c7e25dc5d9c63171bdf39d9741b901dc903e12b4e162348e07\")\n",
      "  Ada: 1.400000\n"
     ]
    }
   ],
   "source": [
    "marlowe-cli run prepare --marlowe-file min-ada-1.marlowe          \\\n",
    "                        --invalid-before $((NOW + 5 * MINUTE))    \\\n",
    "                        --invalid-hereafter $((NOW + 9 * MINUTE)) \\\n",
    "                        --out-file min-ada-2.marlowe"
   ]
  },
  {
   "cell_type": "markdown",
   "id": "bebdcf9e-cbf8-466e-acb2-c6b7b16088c0",
   "metadata": {},
   "source": [
    "Wait for the timeout, so that the contract can be closed."
   ]
  },
  {
   "cell_type": "code",
   "execution_count": 37,
   "id": "365d272b-b936-458f-93bb-ddf70b07f1c2",
   "metadata": {},
   "outputs": [],
   "source": [
    "sleep 5m"
   ]
  },
  {
   "cell_type": "markdown",
   "id": "670d1b84-8721-42bd-9689-ef32f326d0e0",
   "metadata": {},
   "source": [
    "Submit the transaction to close the contract."
   ]
  },
  {
   "cell_type": "code",
   "execution_count": 38,
   "id": "2f2e9b55-4798-4300-8753-704262647401",
   "metadata": {},
   "outputs": [
    {
     "name": "stdout",
     "output_type": "stream",
     "text": [
      "\n",
      "Fee: Lovelace 946434\n",
      "Size: 13156 / 32768 = 40%\n",
      "Execution units:\n",
      "  Memory: 2358820 / 30000000 = 7%\n",
      "  Steps: 844119786 / 10000000000 = 8%\n",
      "TxId \"a59695584207ad1ecad9f44cc4a98de5ad530c355cefcd365789b310322cfe5a\"\n"
     ]
    }
   ],
   "source": [
    "TX_2=$(\n",
    "marlowe-cli run execute --required-signer $PAYMENT_SKEY      \\\n",
    "                        --tx-in \"$TX_1#0\"                    \\\n",
    "                        --tx-in-collateral \"$TX_1#0\"         \\\n",
    "                        --tx-in-marlowe \"$TX_1#1\"            \\\n",
    "                        --marlowe-in-file  min-ada-1.marlowe \\\n",
    "                        --marlowe-out-file min-ada-2.marlowe \\\n",
    "                        --change-address $PAYMENT_ADDR       \\\n",
    "                        --out-file /dev/null                 \\\n",
    "                        --submit 600                         \\\n",
    "                        --print-stats                        \\\n",
    "| sed -e 's/^TxId \"\\(.*\\)\"$/\\1/'                             \\\n",
    ")\n",
    "echo \"TxId \\\"$TX_2\\\"\""
   ]
  },
  {
   "cell_type": "markdown",
   "id": "af82e897-e955-482e-8dab-2e801b11e3d4",
   "metadata": {},
   "source": [
    "Since the contract has closed, there is no UTxO at the script address."
   ]
  },
  {
   "cell_type": "code",
   "execution_count": 39,
   "id": "a93987bc-fa0c-454c-aaf7-3db0365175a9",
   "metadata": {},
   "outputs": [
    {
     "name": "stdout",
     "output_type": "stream",
     "text": [
      "                           TxHash                                 TxIx        Amount\n",
      "--------------------------------------------------------------------------------------\n"
     ]
    }
   ],
   "source": [
    "cardano-cli query utxo --testnet-magic $CARDANO_TESTNET_MAGIC --address $SCRIPT_ADDR | sed -n -e \"1,2p;/$TX_1/p;/$TX_2/p\""
   ]
  },
  {
   "cell_type": "markdown",
   "id": "57fa62e7-15f4-4c6f-bd1e-964855751643",
   "metadata": {},
   "source": [
    "The initial lovelace has been paid back."
   ]
  },
  {
   "cell_type": "code",
   "execution_count": 40,
   "id": "2140a374-9529-4e10-a3c6-a1533220b75f",
   "metadata": {},
   "outputs": [
    {
     "name": "stdout",
     "output_type": "stream",
     "text": [
      "                           TxHash                                 TxIx        Amount\n",
      "--------------------------------------------------------------------------------------\n",
      "a59695584207ad1ecad9f44cc4a98de5ad530c355cefcd365789b310322cfe5a     0        2303803735039 lovelace + TxOutDatumNone\n",
      "a59695584207ad1ecad9f44cc4a98de5ad530c355cefcd365789b310322cfe5a     1        1400000 lovelace + TxOutDatumNone\n"
     ]
    }
   ],
   "source": [
    "cardano-cli query utxo --testnet-magic $CARDANO_TESTNET_MAGIC --address $PAYMENT_ADDR | sed -n -e \"1,2p;/$TX_1/p;/$TX_2/p\""
   ]
  },
  {
   "cell_type": "markdown",
   "id": "8519bc6b-44fa-4f12-ac3d-83672ec20357",
   "metadata": {},
   "source": [
    "## Clean Up"
   ]
  },
  {
   "cell_type": "markdown",
   "id": "408f1429-b460-4724-8726-d5c9629517df",
   "metadata": {},
   "source": [
    "Burn the token."
   ]
  },
  {
   "cell_type": "code",
   "execution_count": 41,
   "id": "820cd210-663f-4ce4-8b66-12091d1f9686",
   "metadata": {},
   "outputs": [
    {
     "name": "stdout",
     "output_type": "stream",
     "text": [
      "PolicyID \"8bb3b343d8e404472337966a722150048c768d0a92a9813596c5338d\"\n"
     ]
    }
   ],
   "source": [
    "marlowe-cli util mint --required-signer $PAYMENT_SKEY \\\n",
    "                      --change-address $PAYMENT_ADDR  \\\n",
    "                      --out-file /dev/null            \\\n",
    "                      --submit 600                    \\\n",
    "                      --count -1                      \\\n",
    "                      \"$TOKEN_NAME\""
   ]
  },
  {
   "cell_type": "code",
   "execution_count": 42,
   "id": "8b18f75e-698d-433b-9120-dc5504156343",
   "metadata": {},
   "outputs": [
    {
     "name": "stdout",
     "output_type": "stream",
     "text": [
      "                           TxHash                                 TxIx        Amount\n",
      "--------------------------------------------------------------------------------------\n",
      "5e833cf44dead4d0eadb5ad31ba8e1e54b44c658531ff2210fc2e2e961aa7563     0        2303806952598 lovelace + TxOutDatumNone\n"
     ]
    }
   ],
   "source": [
    "cardano-cli query utxo --testnet-magic $CARDANO_TESTNET_MAGIC --address $PAYMENT_ADDR"
   ]
  }
 ],
 "metadata": {
  "kernelspec": {
   "display_name": "Bash - Marlowe",
   "language": "bash",
   "name": "bash_marlowe"
  },
  "language_info": {
   "codemirror_mode": "shell",
   "file_extension": ".sh",
   "mimetype": "text/x-sh",
   "name": "/nix/store/zwjm0gln1vk7x1akpyz0yxjsd1yc46gi-bash-5.1-p16/bin/bash"
  }
 },
 "nbformat": 4,
 "nbformat_minor": 5
}
