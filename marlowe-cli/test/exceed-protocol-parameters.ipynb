{
 "cells": [
  {
   "cell_type": "markdown",
   "id": "ee325653-e97b-422c-b6f8-871875293e48",
   "metadata": {},
   "source": [
    "# Funds Locked upon Exceeding Protocol Parameters"
   ]
  },
  {
   "cell_type": "markdown",
   "id": "38dfc939-efc4-465d-90a9-d5e7db736dca",
   "metadata": {},
   "source": [
    "This test case illustrates that Marlowe contracts may lock funds forever if they exceed protocol parameters for script execution. The example simply tries to make too many payments in a `Close`, and because there are no branches in the contract that provide alternative to the `Close`, the funds at the script address are *locked forever*.\n",
    "\n",
    "Without loss of generality, this example applies to any transaction-related protocol parameter:\n",
    "1. Transaction size (`maxTxSize`)\n",
    "2. Execution steps (`maxTxExecutionUnits.steps`)\n",
    "3. Execution memory (`maxTxExecutionUnits.memory`)\n",
    "4. Minimum ADA (`utxoCostPerWord`), also see [\"Deposit Fails Due to Min-ADA Requirement\"](min-ada.ipynb)\n",
    "5. Value size (`maxValueSize`)\n",
    "\n",
    "Also without loss of generality, this example applies to these circumstances:\n",
    "1. A `Pay` may violate any of the first four protocol limits listed above, with the result that funds in the script are permanently locked.\n",
    "2. A `If`, `Let`, `Assert`, or `Close` may violate any of the first three protocol limits listed above, with the result that funds in the script are permanently locked.\n",
    "3. A `When` with a `Case` of `Deposit` may violate any of the five protocol limits listed above, with the result that the path for the `Case` can never be executed.\n",
    "4. A `When` with a `Case` of `Choice` or `Notify` may violate any of the first three protocol limits listed above, with the result that the path for the `Case` can never be executed.\n",
    "\n",
    "In summary, here are situations when funds may be locked permanently or when a path of execution may be blocked:\n",
    "\n",
    "| Protocol Limit   | Protocol Parameter           | `Pay`  | `If`/`Let`/`Assert`/`Close` | `Deposit` | `Choice`/`Notify` |\n",
    "|------------------|------------------------------|--------|-----------------------------|-----------|-------------------|\n",
    "| Transaction size | `maxTxSize`                  | locks  | locks                       | blocks    | blocks            |\n",
    "| Execution steps  | `maxTxExecutionUnits.steps`  | locks  | locks                       | blocks    | blocks            |\n",
    "| Execution memory | `maxTxExecutionUnits.memory` | locks  | locks                       | blocks    | blocks            |\n",
    "| Minimum ADA      | `utxoCostPerWord`            | locks  |                             | blocks    |                   |\n",
    "| Value size       | `maxValueSize`               |        |                             | blocks    |                   |\n",
    "\n",
    "👉 This example highlights the importance of performing static analysis of a Marlowe contract *before* creating the contract on the blockchain. To verify that a contract will not experience these failure mode, one needs to attempt to execute off-chain every possible path the contract could take during its complete execution or equivalently prove that execution would not violate protocol limits."
   ]
  },
  {
   "cell_type": "markdown",
   "id": "0d8ab225-6865-4645-a9df-4ed0eff933a2",
   "metadata": {},
   "source": [
    "## Preliminaries"
   ]
  },
  {
   "cell_type": "markdown",
   "id": "7ebe6680-9f05-4bb6-af7d-07bf446e1690",
   "metadata": {},
   "source": [
    "Select the network."
   ]
  },
  {
   "cell_type": "code",
   "execution_count": 1,
   "id": "c5a93e4e-18c4-417a-9142-ba1ac3552bfd",
   "metadata": {},
   "outputs": [],
   "source": [
    "CARDANO_TESTNET_MAGIC=1567\n",
    "CARDANO_NODE_SOCKET_PATH=node.socket"
   ]
  },
  {
   "cell_type": "markdown",
   "id": "457959ba-821f-4e0b-9d0f-f93c9f00b00a",
   "metadata": {},
   "source": [
    "Select the payment credentials."
   ]
  },
  {
   "cell_type": "code",
   "execution_count": 2,
   "id": "eccb7113-45e3-4fb3-9f70-25a231506126",
   "metadata": {
    "tags": []
   },
   "outputs": [
    {
     "name": "stdout",
     "output_type": "stream",
     "text": [
      "addr_test1vq9prvx8ufwutkwxx9cmmuuajaqmjqwujqlp9d8pvg6gupczgtm9j\n"
     ]
    }
   ],
   "source": [
    "PAYMENT_SKEY=payment.skey\n",
    "PAYMENT_VKEY=payment.vkey\n",
    "PAYMENT_ADDR=$(cardano-cli address build --testnet-magic $CARDANO_TESTNET_MAGIC --payment-verification-key-file $PAYMENT_VKEY)\n",
    "echo $PAYMENT_ADDR"
   ]
  },
  {
   "cell_type": "markdown",
   "id": "75127289-df73-44c5-825f-e3c8ec733e5a",
   "metadata": {},
   "source": [
    "View the UTxOs at the address."
   ]
  },
  {
   "cell_type": "code",
   "execution_count": 3,
   "id": "8bbeec84-b4a5-435e-b1a1-0b9d640bf653",
   "metadata": {},
   "outputs": [
    {
     "name": "stdout",
     "output_type": "stream",
     "text": [
      "                           TxHash                                 TxIx        Amount\n",
      "--------------------------------------------------------------------------------------\n",
      "3c63978224ceda22aaa07ef2c3bbc516590e5cf4daf6468eb4ef0d4ecee2ce04     0        2303713336502 lovelace + TxOutDatumNone\n"
     ]
    }
   ],
   "source": [
    "cardano-cli query utxo --testnet-magic $CARDANO_TESTNET_MAGIC --address $PAYMENT_ADDR"
   ]
  },
  {
   "cell_type": "markdown",
   "id": "4644cffa-f32b-4114-9454-d281d34be4b1",
   "metadata": {
    "tags": []
   },
   "source": [
    "Select the UTxOs for later use in the transactions."
   ]
  },
  {
   "cell_type": "code",
   "execution_count": 4,
   "id": "143570ee-6b76-4eab-adc3-630c4b7cd19e",
   "metadata": {},
   "outputs": [
    {
     "name": "stdout",
     "output_type": "stream",
     "text": [
      "3c63978224ceda22aaa07ef2c3bbc516590e5cf4daf6468eb4ef0d4ecee2ce04#0\n"
     ]
    }
   ],
   "source": [
    "TX_0=$(marlowe-cli util select --lovelace-only 10000000 $PAYMENT_ADDR | sed -e 's/^TxIn \"\\(.*\\)\" (TxIx \\(.*\\))$/\\1#\\2/' | head)\n",
    "echo $TX_0"
   ]
  },
  {
   "cell_type": "markdown",
   "id": "43367b96-3a24-4b3d-b7e6-b2928f66c3b6",
   "metadata": {},
   "source": [
    "## Specify the Initial State of the Contract"
   ]
  },
  {
   "cell_type": "markdown",
   "id": "35c4bbb0-ed04-430f-b2c9-87bc249e444b",
   "metadata": {},
   "source": [
    "The contract will start with funds in 24 accounts associated with public key hashes."
   ]
  },
  {
   "cell_type": "markdown",
   "id": "cea7711a-fd9a-4207-a4bc-64a5a346bb57",
   "metadata": {},
   "source": [
    "Compute the public key hashes for a sequence of addresses in a wallet."
   ]
  },
  {
   "cell_type": "code",
   "execution_count": 5,
   "id": "307e07f3-256b-4ffa-b5a9-09b3384f9658",
   "metadata": {},
   "outputs": [],
   "source": [
    "ROOT_PRV=william-shakespeare.root.prv"
   ]
  },
  {
   "cell_type": "code",
   "execution_count": 6,
   "id": "4ea1c4fd-adc7-4ccb-9aee-1fca7a424bc7",
   "metadata": {},
   "outputs": [
    {
     "name": "stdout",
     "output_type": "stream",
     "text": [
      "PKH(1852H/1815H/0H/0/0) = 55ff7536247204d8775d1310209e32899b51b9962619f01f711c22ad\n",
      "PKH(1852H/1815H/0H/0/1) = b3374bd9fbbabb477bc4747dba6c7ebc904f9689bdcacc0ea372241d\n",
      "PKH(1852H/1815H/0H/0/2) = fa624f89c3796f76de9db2a96f419e22a64fce86f7edfe2fc7169423\n",
      "PKH(1852H/1815H/0H/0/3) = beec84d4e2b5d3b8b5b24764e77a9cbfdda959d92f28638ff9803c67\n",
      "PKH(1852H/1815H/0H/0/4) = 2439261fcb28f6d253d01b912cd00339dee520d66b7e5293a150394b\n",
      "PKH(1852H/1815H/0H/0/5) = 0c31258f61fefff6e4c501040788d69bd484f397d5e3a1e15e47ecc4\n",
      "PKH(1852H/1815H/0H/0/6) = 00911380b3063f7648b1cfe803b83fd02eaf1acfcbc35b35351146a3\n",
      "PKH(1852H/1815H/0H/0/7) = 7dec85b5412971ace19df57f4619ab78370c76cc23c7b25a5930e803\n",
      "PKH(1852H/1815H/0H/0/8) = 3bca24a78c9b50d24637b86cdabd3639c201188814f6973f8c48d456\n",
      "PKH(1852H/1815H/0H/0/9) = c8719ddaadcebd7f8caa30c992309c85b22d8346699e49e468317bc5\n",
      "PKH(1852H/1815H/0H/0/10) = 93e137997722293a87d6d871bf065e16e86310236de6aae66e3ad543\n",
      "PKH(1852H/1815H/0H/0/11) = a9dc0e21d6b34909702ea57fa2e79df9c191aea4755340bc559aefa3\n",
      "PKH(1852H/1815H/0H/0/12) = 4f4ba112b12420455b2deda225c1399a27cb56079079552aed93f2e2\n",
      "PKH(1852H/1815H/0H/0/13) = 69cc650f25cc81f7dd3e77b7b6b63b34006ea88ad1aa11cb05af8ef5\n",
      "PKH(1852H/1815H/0H/0/14) = 21475d2732c4d99764fac7e8327c41ca8a5c753f2a2fc7fc460661eb\n",
      "PKH(1852H/1815H/0H/0/15) = e55282c9d8fcada36b8fe165b72fbf59367944094106401a8ea8d207\n",
      "PKH(1852H/1815H/0H/0/16) = 10d648f51cf13fefd4aa5cb5ce2127a3709e95a556230bff2c2c538e\n",
      "PKH(1852H/1815H/0H/0/17) = e56a394b8d07e007987efe6c73a262fafcd5a77427ed834e082a9eaa\n",
      "PKH(1852H/1815H/0H/0/18) = e7d1af953b804b27ac841b04405a63100321858562b40443ef2fae21\n",
      "PKH(1852H/1815H/0H/0/19) = 52b479b9e9a0e1779cb31570432858c75068efe91bad1e3688d0745a\n",
      "PKH(1852H/1815H/0H/0/20) = 8c5440d793cb3cc582f464242a98efc0585bf1499d9699a9e689e436\n",
      "PKH(1852H/1815H/0H/0/21) = bec2f76d26c28e57cbd2f95ce29f16b97e281301f9f758b8ef61bf27\n",
      "PKH(1852H/1815H/0H/0/22) = 3531204aa9247e2924ad03098e75cedaebfa1895d4595622885941e2\n",
      "PKH(1852H/1815H/0H/0/23) = ee10d6cca30c11bec0c8cd482ec44811749c32faf78e61b0c704c453\n",
      "PKH(1852H/1815H/0H/0/24) = beeca10906ba3ed1645f1365db04933d25151d1f2e4e245419046981\n"
     ]
    }
   ],
   "source": [
    "for i in `seq 0 24`\n",
    "do\n",
    "  PKH[$i]=$(\n",
    "    cardano-wallet key child 1852H/1815H/0H/0/$i < $ROOT_PRV \\\n",
    "  | cardano-cli key convert-cardano-address-key --shelley-payment-key --signing-key-file /dev/stdin --out-file /dev/stdout \\\n",
    "  | cardano-cli key verification-key --signing-key-file /dev/stdin --verification-key-file /dev/stdout \\\n",
    "  | cardano-cli address key-hash --payment-verification-key-file /dev/stdin \\\n",
    "  )\n",
    "  echo \"PKH(1852H/1815H/0H/0/$i) = ${PKH[$i]}\"\n",
    "done"
   ]
  },
  {
   "cell_type": "markdown",
   "id": "1c792967-9328-4d4f-85b7-e211d933a641",
   "metadata": {},
   "source": [
    "Find the current time."
   ]
  },
  {
   "cell_type": "code",
   "execution_count": 7,
   "id": "9b57b09f-66bb-44d1-a842-a80201387e3c",
   "metadata": {},
   "outputs": [
    {
     "name": "stdout",
     "output_type": "stream",
     "text": [
      "1658974431000\n"
     ]
    }
   ],
   "source": [
    "NOW=$(($(date -u +%s) * 1000))\n",
    "MINUTE=$((60 * 1000))\n",
    "echo $NOW"
   ]
  },
  {
   "cell_type": "markdown",
   "id": "6da1ca00-7ec9-44cc-9ac3-26ab08aa6814",
   "metadata": {},
   "source": [
    "Each account will have 2 ADA."
   ]
  },
  {
   "cell_type": "code",
   "execution_count": 8,
   "id": "a8063dde-14f1-44a6-ab18-ec01b229bb36",
   "metadata": {},
   "outputs": [],
   "source": [
    "PKH_LOVELACE=2000000"
   ]
  },
  {
   "cell_type": "markdown",
   "id": "585f66ac-ccde-4b6b-afc2-68efc3f3c1d1",
   "metadata": {},
   "source": [
    "Build the state file."
   ]
  },
  {
   "cell_type": "code",
   "execution_count": 9,
   "id": "395f6091-e66f-4cb4-8b3e-a1f1701f577a",
   "metadata": {},
   "outputs": [
    {
     "name": "stdout",
     "output_type": "stream",
     "text": [
      "{\n",
      "  \"choices\": [],\n",
      "  \"accounts\": [\n",
      "    [[{\"pk_hash\":\"55ff7536247204d8775d1310209e32899b51b9962619f01f711c22ad\"},{\"currency_symbol\": \"\",\"token_name\": \"\"}],2000000],\n",
      "    [[{\"pk_hash\":\"b3374bd9fbbabb477bc4747dba6c7ebc904f9689bdcacc0ea372241d\"},{\"currency_symbol\": \"\",\"token_name\": \"\"}],2000000],\n",
      "    [[{\"pk_hash\":\"fa624f89c3796f76de9db2a96f419e22a64fce86f7edfe2fc7169423\"},{\"currency_symbol\": \"\",\"token_name\": \"\"}],2000000],\n",
      "    [[{\"pk_hash\":\"beec84d4e2b5d3b8b5b24764e77a9cbfdda959d92f28638ff9803c67\"},{\"currency_symbol\": \"\",\"token_name\": \"\"}],2000000],\n",
      "    [[{\"pk_hash\":\"2439261fcb28f6d253d01b912cd00339dee520d66b7e5293a150394b\"},{\"currency_symbol\": \"\",\"token_name\": \"\"}],2000000],\n",
      "    [[{\"pk_hash\":\"0c31258f61fefff6e4c501040788d69bd484f397d5e3a1e15e47ecc4\"},{\"currency_symbol\": \"\",\"token_name\": \"\"}],2000000],\n",
      "    [[{\"pk_hash\":\"00911380b3063f7648b1cfe803b83fd02eaf1acfcbc35b35351146a3\"},{\"currency_symbol\": \"\",\"token_name\": \"\"}],2000000],\n",
      "    [[{\"pk_hash\":\"7dec85b5412971ace19df57f4619ab78370c76cc23c7b25a5930e803\"},{\"currency_symbol\": \"\",\"token_name\": \"\"}],2000000],\n",
      "    [[{\"pk_hash\":\"3bca24a78c9b50d24637b86cdabd3639c201188814f6973f8c48d456\"},{\"currency_symbol\": \"\",\"token_name\": \"\"}],2000000],\n",
      "    [[{\"pk_hash\":\"c8719ddaadcebd7f8caa30c992309c85b22d8346699e49e468317bc5\"},{\"currency_symbol\": \"\",\"token_name\": \"\"}],2000000],\n",
      "    [[{\"pk_hash\":\"93e137997722293a87d6d871bf065e16e86310236de6aae66e3ad543\"},{\"currency_symbol\": \"\",\"token_name\": \"\"}],2000000],\n",
      "    [[{\"pk_hash\":\"a9dc0e21d6b34909702ea57fa2e79df9c191aea4755340bc559aefa3\"},{\"currency_symbol\": \"\",\"token_name\": \"\"}],2000000],\n",
      "    [[{\"pk_hash\":\"4f4ba112b12420455b2deda225c1399a27cb56079079552aed93f2e2\"},{\"currency_symbol\": \"\",\"token_name\": \"\"}],2000000],\n",
      "    [[{\"pk_hash\":\"69cc650f25cc81f7dd3e77b7b6b63b34006ea88ad1aa11cb05af8ef5\"},{\"currency_symbol\": \"\",\"token_name\": \"\"}],2000000],\n",
      "    [[{\"pk_hash\":\"21475d2732c4d99764fac7e8327c41ca8a5c753f2a2fc7fc460661eb\"},{\"currency_symbol\": \"\",\"token_name\": \"\"}],2000000],\n",
      "    [[{\"pk_hash\":\"e55282c9d8fcada36b8fe165b72fbf59367944094106401a8ea8d207\"},{\"currency_symbol\": \"\",\"token_name\": \"\"}],2000000],\n",
      "    [[{\"pk_hash\":\"10d648f51cf13fefd4aa5cb5ce2127a3709e95a556230bff2c2c538e\"},{\"currency_symbol\": \"\",\"token_name\": \"\"}],2000000],\n",
      "    [[{\"pk_hash\":\"e56a394b8d07e007987efe6c73a262fafcd5a77427ed834e082a9eaa\"},{\"currency_symbol\": \"\",\"token_name\": \"\"}],2000000],\n",
      "    [[{\"pk_hash\":\"e7d1af953b804b27ac841b04405a63100321858562b40443ef2fae21\"},{\"currency_symbol\": \"\",\"token_name\": \"\"}],2000000],\n",
      "    [[{\"pk_hash\":\"52b479b9e9a0e1779cb31570432858c75068efe91bad1e3688d0745a\"},{\"currency_symbol\": \"\",\"token_name\": \"\"}],2000000],\n",
      "    [[{\"pk_hash\":\"8c5440d793cb3cc582f464242a98efc0585bf1499d9699a9e689e436\"},{\"currency_symbol\": \"\",\"token_name\": \"\"}],2000000],\n",
      "    [[{\"pk_hash\":\"bec2f76d26c28e57cbd2f95ce29f16b97e281301f9f758b8ef61bf27\"},{\"currency_symbol\": \"\",\"token_name\": \"\"}],2000000],\n",
      "    [[{\"pk_hash\":\"3531204aa9247e2924ad03098e75cedaebfa1895d4595622885941e2\"},{\"currency_symbol\": \"\",\"token_name\": \"\"}],2000000],\n",
      "    [[{\"pk_hash\":\"ee10d6cca30c11bec0c8cd482ec44811749c32faf78e61b0c704c453\"},{\"currency_symbol\": \"\",\"token_name\": \"\"}],2000000],\n",
      "    [[{\"pk_hash\":\"beeca10906ba3ed1645f1365db04933d25151d1f2e4e245419046981\"},{\"currency_symbol\": \"\",\"token_name\": \"\"}],2000000]\n",
      "  ],\n",
      "  \"minTime\": 1658974431000,\n",
      "  \"boundValues\": []\n",
      "}\n"
     ]
    }
   ],
   "source": [
    "cat > exceed-protocol-parameters.state << EOI\n",
    "{\n",
    "  \"choices\": [],\n",
    "  \"accounts\": [\n",
    "EOI\n",
    "\n",
    "for i in `seq 0 24`\n",
    "do\n",
    "  if [[ i -lt 24 ]]\n",
    "  then\n",
    "    COMMA=,\n",
    "  else\n",
    "    COMMA=\n",
    "  fi\n",
    "  echo '    [[{\"pk_hash\":\"'${PKH[$i]}'\"},{\"currency_symbol\": \"\",\"token_name\": \"\"}],'$PKH_LOVELACE']'$COMMA >> exceed-protocol-parameters.state\n",
    "done\n",
    "\n",
    "cat >> exceed-protocol-parameters.state << EOI\n",
    "  ],\n",
    "  \"minTime\": $NOW,\n",
    "  \"boundValues\": []\n",
    "}\n",
    "EOI\n",
    "cat exceed-protocol-parameters.state"
   ]
  },
  {
   "cell_type": "markdown",
   "id": "86b25e03-f4ec-477a-b1f6-4e07d4b09333",
   "metadata": {},
   "source": [
    "## Design the Contract"
   ]
  },
  {
   "cell_type": "markdown",
   "id": "27c2a0d9-e6ad-446c-8745-55bcbd1751c8",
   "metadata": {},
   "source": [
    "We just use the `Close` contract."
   ]
  },
  {
   "cell_type": "code",
   "execution_count": 10,
   "id": "db0fd3d8-3547-4339-8189-3858def9fe67",
   "metadata": {},
   "outputs": [
    {
     "name": "stdout",
     "output_type": "stream",
     "text": [
      "\"close\"\n"
     ]
    }
   ],
   "source": [
    "cat > exceed-protocol-parameters.contract << EOI\n",
    "\"close\"\n",
    "EOI\n",
    "cat exceed-protocol-parameters.contract"
   ]
  },
  {
   "cell_type": "markdown",
   "id": "af4131c7-5a8a-4124-b55e-eb70372e07c4",
   "metadata": {},
   "source": [
    "## Create the Contract"
   ]
  },
  {
   "cell_type": "markdown",
   "id": "5743c82e-555f-4c72-853c-946b261646a3",
   "metadata": {},
   "source": [
    "Create the Plutus script and the initial datum."
   ]
  },
  {
   "cell_type": "code",
   "execution_count": 11,
   "id": "0dcf8724-af1c-44bb-8999-1561bf121745",
   "metadata": {},
   "outputs": [],
   "source": [
    "marlowe-cli run initialize --contract-file exceed-protocol-parameters.contract \\\n",
    "                           --state-file    exceed-protocol-parameters.state    \\\n",
    "                           --out-file      exceed-protocol-parameters-1.marlowe"
   ]
  },
  {
   "cell_type": "markdown",
   "id": "c7eb0e3e-8504-4e51-9a1b-a8dee988b58e",
   "metadata": {},
   "source": [
    "Compute the address of the Marlowe script."
   ]
  },
  {
   "cell_type": "code",
   "execution_count": 12,
   "id": "05748c95-dd99-4640-8863-5b53f2e0df3f",
   "metadata": {},
   "outputs": [
    {
     "name": "stdout",
     "output_type": "stream",
     "text": [
      "addr_test1wp3v2mx0ccsh4l6kjtsa86lgnsss20f3lsgcst9jr07axpcmajgcl\n"
     ]
    }
   ],
   "source": [
    "SCRIPT_ADDR=$(jq -r .marloweValidator.address exceed-protocol-parameters-1.marlowe)\n",
    "echo $SCRIPT_ADDR"
   ]
  },
  {
   "cell_type": "markdown",
   "id": "9882a68e-9a07-4402-9524-40e8fcb37383",
   "metadata": {},
   "source": [
    "Submit the transaction to create the contract."
   ]
  },
  {
   "cell_type": "code",
   "execution_count": 13,
   "id": "548de0b0-a8e8-4334-9320-02619df2e6e0",
   "metadata": {},
   "outputs": [
    {
     "name": "stdout",
     "output_type": "stream",
     "text": [
      "\n",
      "Fee: Lovelace 231369\n",
      "Size: 1484 / 32768 = 4%\n",
      "Execution units:\n",
      "  Memory: 0 / 30000000 = 0%\n",
      "  Steps: 0 / 10000000000 = 0%\n",
      "TxId \"35ee60b253518257651aac771418fbe978ba3bcb53fc37faa55ca4c2a9cae6d5\"\n"
     ]
    }
   ],
   "source": [
    "TX_1=$(\n",
    "marlowe-cli run execute --required-signer $PAYMENT_SKEY                         \\\n",
    "                        --tx-in $TX_0                                           \\\n",
    "                        --marlowe-out-file exceed-protocol-parameters-1.marlowe \\\n",
    "                        --change-address $PAYMENT_ADDR                          \\\n",
    "                        --out-file /dev/null                                    \\\n",
    "                        --submit 600                                            \\\n",
    "                        --print-stats                                           \\\n",
    "| sed -e 's/^TxId \"\\(.*\\)\"$/\\1/'                                                \\\n",
    ")\n",
    "echo \"TxId \\\"$TX_1\\\"\""
   ]
  },
  {
   "cell_type": "markdown",
   "id": "721bc753-6d84-41af-976d-64e7aa4b9091",
   "metadata": {},
   "source": [
    "The script address now has the contract with its initial state."
   ]
  },
  {
   "cell_type": "code",
   "execution_count": 14,
   "id": "b99c65da-5ef4-46b8-9dfe-1214ab94a37b",
   "metadata": {},
   "outputs": [
    {
     "name": "stdout",
     "output_type": "stream",
     "text": [
      "                           TxHash                                 TxIx        Amount\n",
      "--------------------------------------------------------------------------------------\n",
      "35ee60b253518257651aac771418fbe978ba3bcb53fc37faa55ca4c2a9cae6d5     1        50000000 lovelace + TxOutDatumHash ScriptDataInAlonzoEra \"19b0ee81d540c980f102381a22fb6d7644d8ebccd17d71feef4edc8330026a9c\"\n"
     ]
    }
   ],
   "source": [
    "cardano-cli query utxo --testnet-magic $CARDANO_TESTNET_MAGIC --address $SCRIPT_ADDR | sed -n -e \"1,2p;/$TX_1/p\""
   ]
  },
  {
   "cell_type": "markdown",
   "id": "f0e32af7-64ae-4c56-af53-cfe6d31583f5",
   "metadata": {},
   "source": [
    "## Attempt to Close the Contract"
   ]
  },
  {
   "cell_type": "markdown",
   "id": "c7f09c07-99a2-41d5-8d3c-9a3e5dfb0b71",
   "metadata": {},
   "source": [
    "Prepare the transaction to close the contract."
   ]
  },
  {
   "cell_type": "code",
   "execution_count": 15,
   "id": "2df8c7cc-05f7-4b40-be03-fadcc9511e3c",
   "metadata": {},
   "outputs": [
    {
     "name": "stdout",
     "output_type": "stream",
     "text": [
      "Payment 1\n",
      "  Acccount: PK \"55ff7536247204d8775d1310209e32899b51b9962619f01f711c22ad\"\n",
      "  Payee: Party (PK \"55ff7536247204d8775d1310209e32899b51b9962619f01f711c22ad\")\n",
      "  Ada: 2.000000\n",
      "Payment 2\n",
      "  Acccount: PK \"b3374bd9fbbabb477bc4747dba6c7ebc904f9689bdcacc0ea372241d\"\n",
      "  Payee: Party (PK \"b3374bd9fbbabb477bc4747dba6c7ebc904f9689bdcacc0ea372241d\")\n",
      "  Ada: 2.000000\n",
      "Payment 3\n",
      "  Acccount: PK \"fa624f89c3796f76de9db2a96f419e22a64fce86f7edfe2fc7169423\"\n",
      "  Payee: Party (PK \"fa624f89c3796f76de9db2a96f419e22a64fce86f7edfe2fc7169423\")\n",
      "  Ada: 2.000000\n",
      "Payment 4\n",
      "  Acccount: PK \"beec84d4e2b5d3b8b5b24764e77a9cbfdda959d92f28638ff9803c67\"\n",
      "  Payee: Party (PK \"beec84d4e2b5d3b8b5b24764e77a9cbfdda959d92f28638ff9803c67\")\n",
      "  Ada: 2.000000\n",
      "Payment 5\n",
      "  Acccount: PK \"2439261fcb28f6d253d01b912cd00339dee520d66b7e5293a150394b\"\n",
      "  Payee: Party (PK \"2439261fcb28f6d253d01b912cd00339dee520d66b7e5293a150394b\")\n",
      "  Ada: 2.000000\n",
      "Payment 6\n",
      "  Acccount: PK \"0c31258f61fefff6e4c501040788d69bd484f397d5e3a1e15e47ecc4\"\n",
      "  Payee: Party (PK \"0c31258f61fefff6e4c501040788d69bd484f397d5e3a1e15e47ecc4\")\n",
      "  Ada: 2.000000\n",
      "Payment 7\n",
      "  Acccount: PK \"00911380b3063f7648b1cfe803b83fd02eaf1acfcbc35b35351146a3\"\n",
      "  Payee: Party (PK \"00911380b3063f7648b1cfe803b83fd02eaf1acfcbc35b35351146a3\")\n",
      "  Ada: 2.000000\n",
      "Payment 8\n",
      "  Acccount: PK \"7dec85b5412971ace19df57f4619ab78370c76cc23c7b25a5930e803\"\n",
      "  Payee: Party (PK \"7dec85b5412971ace19df57f4619ab78370c76cc23c7b25a5930e803\")\n",
      "  Ada: 2.000000\n",
      "Payment 9\n",
      "  Acccount: PK \"3bca24a78c9b50d24637b86cdabd3639c201188814f6973f8c48d456\"\n",
      "  Payee: Party (PK \"3bca24a78c9b50d24637b86cdabd3639c201188814f6973f8c48d456\")\n",
      "  Ada: 2.000000\n",
      "Payment 10\n",
      "  Acccount: PK \"c8719ddaadcebd7f8caa30c992309c85b22d8346699e49e468317bc5\"\n",
      "  Payee: Party (PK \"c8719ddaadcebd7f8caa30c992309c85b22d8346699e49e468317bc5\")\n",
      "  Ada: 2.000000\n",
      "Payment 11\n",
      "  Acccount: PK \"93e137997722293a87d6d871bf065e16e86310236de6aae66e3ad543\"\n",
      "  Payee: Party (PK \"93e137997722293a87d6d871bf065e16e86310236de6aae66e3ad543\")\n",
      "  Ada: 2.000000\n",
      "Payment 12\n",
      "  Acccount: PK \"a9dc0e21d6b34909702ea57fa2e79df9c191aea4755340bc559aefa3\"\n",
      "  Payee: Party (PK \"a9dc0e21d6b34909702ea57fa2e79df9c191aea4755340bc559aefa3\")\n",
      "  Ada: 2.000000\n",
      "Payment 13\n",
      "  Acccount: PK \"4f4ba112b12420455b2deda225c1399a27cb56079079552aed93f2e2\"\n",
      "  Payee: Party (PK \"4f4ba112b12420455b2deda225c1399a27cb56079079552aed93f2e2\")\n",
      "  Ada: 2.000000\n",
      "Payment 14\n",
      "  Acccount: PK \"69cc650f25cc81f7dd3e77b7b6b63b34006ea88ad1aa11cb05af8ef5\"\n",
      "  Payee: Party (PK \"69cc650f25cc81f7dd3e77b7b6b63b34006ea88ad1aa11cb05af8ef5\")\n",
      "  Ada: 2.000000\n",
      "Payment 15\n",
      "  Acccount: PK \"21475d2732c4d99764fac7e8327c41ca8a5c753f2a2fc7fc460661eb\"\n",
      "  Payee: Party (PK \"21475d2732c4d99764fac7e8327c41ca8a5c753f2a2fc7fc460661eb\")\n",
      "  Ada: 2.000000\n",
      "Payment 16\n",
      "  Acccount: PK \"e55282c9d8fcada36b8fe165b72fbf59367944094106401a8ea8d207\"\n",
      "  Payee: Party (PK \"e55282c9d8fcada36b8fe165b72fbf59367944094106401a8ea8d207\")\n",
      "  Ada: 2.000000\n",
      "Payment 17\n",
      "  Acccount: PK \"10d648f51cf13fefd4aa5cb5ce2127a3709e95a556230bff2c2c538e\"\n",
      "  Payee: Party (PK \"10d648f51cf13fefd4aa5cb5ce2127a3709e95a556230bff2c2c538e\")\n",
      "  Ada: 2.000000\n",
      "Payment 18\n",
      "  Acccount: PK \"e56a394b8d07e007987efe6c73a262fafcd5a77427ed834e082a9eaa\"\n",
      "  Payee: Party (PK \"e56a394b8d07e007987efe6c73a262fafcd5a77427ed834e082a9eaa\")\n",
      "  Ada: 2.000000\n",
      "Payment 19\n",
      "  Acccount: PK \"e7d1af953b804b27ac841b04405a63100321858562b40443ef2fae21\"\n",
      "  Payee: Party (PK \"e7d1af953b804b27ac841b04405a63100321858562b40443ef2fae21\")\n",
      "  Ada: 2.000000\n",
      "Payment 20\n",
      "  Acccount: PK \"52b479b9e9a0e1779cb31570432858c75068efe91bad1e3688d0745a\"\n",
      "  Payee: Party (PK \"52b479b9e9a0e1779cb31570432858c75068efe91bad1e3688d0745a\")\n",
      "  Ada: 2.000000\n",
      "Payment 21\n",
      "  Acccount: PK \"8c5440d793cb3cc582f464242a98efc0585bf1499d9699a9e689e436\"\n",
      "  Payee: Party (PK \"8c5440d793cb3cc582f464242a98efc0585bf1499d9699a9e689e436\")\n",
      "  Ada: 2.000000\n",
      "Payment 22\n",
      "  Acccount: PK \"bec2f76d26c28e57cbd2f95ce29f16b97e281301f9f758b8ef61bf27\"\n",
      "  Payee: Party (PK \"bec2f76d26c28e57cbd2f95ce29f16b97e281301f9f758b8ef61bf27\")\n",
      "  Ada: 2.000000\n",
      "Payment 23\n",
      "  Acccount: PK \"3531204aa9247e2924ad03098e75cedaebfa1895d4595622885941e2\"\n",
      "  Payee: Party (PK \"3531204aa9247e2924ad03098e75cedaebfa1895d4595622885941e2\")\n",
      "  Ada: 2.000000\n",
      "Payment 24\n",
      "  Acccount: PK \"ee10d6cca30c11bec0c8cd482ec44811749c32faf78e61b0c704c453\"\n",
      "  Payee: Party (PK \"ee10d6cca30c11bec0c8cd482ec44811749c32faf78e61b0c704c453\")\n",
      "  Ada: 2.000000\n",
      "Payment 25\n",
      "  Acccount: PK \"beeca10906ba3ed1645f1365db04933d25151d1f2e4e245419046981\"\n",
      "  Payee: Party (PK \"beeca10906ba3ed1645f1365db04933d25151d1f2e4e245419046981\")\n",
      "  Ada: 2.000000\n"
     ]
    }
   ],
   "source": [
    "marlowe-cli run prepare --marlowe-file exceed-protocol-parameters-1.marlowe \\\n",
    "                        --invalid-before $NOW                      \\\n",
    "                        --invalid-hereafter $((NOW + 10 * MINUTE)) \\\n",
    "                        --out-file exceed-protocol-parameters-2.marlowe"
   ]
  },
  {
   "cell_type": "markdown",
   "id": "670d1b84-8721-42bd-9689-ef32f326d0e0",
   "metadata": {},
   "source": [
    "Submit the transaction to close the contract."
   ]
  },
  {
   "cell_type": "code",
   "execution_count": 16,
   "id": "2f2e9b55-4798-4300-8753-704262647401",
   "metadata": {},
   "outputs": [
    {
     "name": "stdout",
     "output_type": "stream",
     "text": [
      "\n",
      "Fee: Lovelace 4122863\n",
      "Size: 15029 / 32768 = 45%\n",
      "Execution units:\n",
      "  Memory: 40971920 / 30000000 = 136%\n",
      "  Steps: 12855779752 / 10000000000 = 128%\n",
      "TxValidationErrorInMode (ShelleyTxValidationError ShelleyBasedEraAlonzo (ApplyTxError [UtxowFailure (WrappedShelleyEraFailure (UtxoFailure (ExUnitsTooBigUTxO (WrapExUnits {unWrapExUnits = ExUnits' {exUnitsMem' = 30000000, exUnitsSteps' = 10000000000}}) (WrapExUnits {unWrapExUnits = ExUnits' {exUnitsMem' = 40971920, exUnitsSteps' = 12855779752}}))))])) AlonzoEraInCardanoMode\n"
     ]
    },
    {
     "ename": "",
     "evalue": "1",
     "output_type": "error",
     "traceback": []
    }
   ],
   "source": [
    "marlowe-cli run execute --required-signer $PAYMENT_SKEY                         \\\n",
    "                        --tx-in \"$TX_1#0\"                                       \\\n",
    "                        --tx-in-collateral \"$TX_1#0\"                            \\\n",
    "                        --tx-in-marlowe \"$TX_1#1\"                               \\\n",
    "                        --marlowe-in-file  exceed-protocol-parameters-1.marlowe \\\n",
    "                        --marlowe-out-file exceed-protocol-parameters-2.marlowe \\\n",
    "                        --change-address $PAYMENT_ADDR                          \\\n",
    "                        --out-file /dev/null                                    \\\n",
    "                        --submit 600                                            \\\n",
    "                        --print-stats"
   ]
  },
  {
   "cell_type": "markdown",
   "id": "fbfb6709-293f-46ae-8e4d-b86b5067d4dd",
   "metadata": {},
   "source": [
    "The transactions fails and ***the funds in the contract are locked forever***."
   ]
  }
 ],
 "metadata": {
  "kernelspec": {
   "display_name": "Bash - Marlowe",
   "language": "bash",
   "name": "bash_marlowe"
  },
  "language_info": {
   "codemirror_mode": "shell",
   "file_extension": ".sh",
   "mimetype": "text/x-sh",
   "name": "/nix/store/zwjm0gln1vk7x1akpyz0yxjsd1yc46gi-bash-5.1-p16/bin/bash"
  }
 },
 "nbformat": 4,
 "nbformat_minor": 5
}
