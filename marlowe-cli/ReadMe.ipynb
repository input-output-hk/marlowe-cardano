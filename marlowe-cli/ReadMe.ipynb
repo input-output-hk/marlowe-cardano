{
 "cells": [
  {
   "cell_type": "markdown",
   "id": "9ac330d6-9ea5-416a-8c89-0a33affd76ee",
   "metadata": {},
   "source": [
    "# Marlowe Command-Line Interface (CLI) Tool\n",
    "\n",
    "The `marlowe-cli` tool provides several utilities for serialising Marlowe contracts to validators, datums, and redeemers. It also computes hashes and addresses. It can be used in conjunction with [`cardano-cli`](https://github.com/input-output-hk/cardano-node/blob/master/cardano-cli/README.md) to submit Marlowe transactions to the Cardano blockchain.\n",
    "\n",
    "See the [Marlowe Debugging Cookbook](../marlowe/debugging-cookbook.md) for troubleshooting information, or the [Marlowe CLI Pioneers Lectures](lectures/ReadMe.md)."
   ]
  },
  {
   "cell_type": "markdown",
   "id": "d22d9c8d-5f52-432e-a511-bba3ab7e056b",
   "metadata": {},
   "source": [
    "## Contents\n",
    "\n",
    "*   [Installation](#installation)\n",
    "*   [Available commands](#available-commands)\n",
    "*   [Workflows](#workflows)\n",
    "    *   [High-level workflow](#high-level-workflow)\n",
    "        *   [Examples](#examples)\n",
    "        *   [Test cases](#test-cases)\n",
    "    *   [Low-level workflow](#low-level-workflow)\n",
    "    *   [Backend workflow](#backend-workflow)\n",
    "*   [Automated Tests](#automated-tests)\n",
    "*   [Editing and rebuilding this documentation](#editing-and-rebuilding-this-documentation)"
   ]
  },
  {
   "cell_type": "markdown",
   "id": "b5c3fde7-fed2-46fd-9f89-49797e0baed5",
   "metadata": {},
   "source": [
    "## Installation\n",
    "\n",
    "One can install `marlowe-cli` either using Nix or Cabal. Detailed instructions are available [here](https://github.com/input-output-hk/marlowe-cardano/blob/main/README.adoc)."
   ]
  },
  {
   "cell_type": "markdown",
   "id": "af63d2f8-3181-4acf-9b30-9bf6912d08e0",
   "metadata": {},
   "source": [
    "### Installation via Nix\n",
    "\n",
    "NixOS and the Nix package manager are available at <<https://nixos.org/>>.\n",
    " \n",
    "👉 See <<https://github.com/input-output-hk/marlowe-cardano/blob/main/README.adoc#how-to-set-up-the-iohk-binary-caches>> on how to set up binary caches for the Nix build. This will greatly speed the build process.\n",
    "\n",
    "Once the binary caches have been set up, clone the Marlowe repository and simply enter a nix shell.\n",
    "\n",
    "    git clone https://github.com/input-output-hk/marlowe-cardano.git\n",
    "    cd marlowe-cardano\n",
    "    nix-shell"
   ]
  },
  {
   "cell_type": "code",
   "execution_count": 1,
   "id": "1f7411d4-5a2b-40b0-a8ee-fecd8479e89f",
   "metadata": {},
   "outputs": [
    {
     "name": "stdout",
     "output_type": "stream",
     "text": [
      "marlowe-cli 0.0.5.0\n"
     ]
    }
   ],
   "source": [
    "marlowe-cli --version"
   ]
  },
  {
   "cell_type": "markdown",
   "id": "5adb85ad-92ea-4434-97c2-e17770aab216",
   "metadata": {},
   "source": [
    "### Installation via Cabal\n",
    "\n",
    "Cabal and GHC are available at [GHCup](https://www.haskell.org/ghcup/).\n",
    "\n",
    "Installing directly via `cabal` and `ghc` involves lengthy compilation, but avoids the use of Nix. First ensure that Cabal 3.4 and GHC 8.10.7 are installed."
   ]
  },
  {
   "cell_type": "code",
   "execution_count": 2,
   "id": "0e7909b6-352f-4a28-85d2-d9e0b0bf87f5",
   "metadata": {},
   "outputs": [
    {
     "name": "stdout",
     "output_type": "stream",
     "text": [
      "cabal-install version 3.4.0.0\n",
      "compiled using version 3.4.1.0 of the Cabal library \n"
     ]
    }
   ],
   "source": [
    "cabal --version"
   ]
  },
  {
   "cell_type": "code",
   "execution_count": 3,
   "id": "5c16d3e4-a6d8-4279-aa40-dd2c49b08eba",
   "metadata": {},
   "outputs": [
    {
     "name": "stdout",
     "output_type": "stream",
     "text": [
      "The Glorious Glasgow Haskell Compilation System, version 8.10.7\n"
     ]
    }
   ],
   "source": [
    "ghc --version"
   ]
  },
  {
   "cell_type": "markdown",
   "id": "bb36c75a-ee63-4d10-a151-f91bf826e59a",
   "metadata": {},
   "source": [
    "Clone the Marlowe repository and execute `cabal`:\n",
    "\n",
    "    git clone https://github.com/input-output-hk/marlowe-cardano.git\n",
    "    cd marlowe-cardano\n",
    "    cabal install exe:marlowe-cli\n"
   ]
  },
  {
   "cell_type": "markdown",
   "id": "73ae4981-5de2-4830-8896-9efbf6ce9fb5",
   "metadata": {},
   "source": [
    "## Available Commands"
   ]
  },
  {
   "cell_type": "code",
   "execution_count": 4,
   "id": "35c4ed4f-7dfe-4126-9343-0933733bcba7",
   "metadata": {},
   "outputs": [
    {
     "name": "stdout",
     "output_type": "stream",
     "text": [
      "marlowe-cli : a command-line tool for Marlowe contracts\n",
      "\n",
      "Usage: marlowe-cli [--version] (COMMAND | COMMAND)\n",
      "\n",
      "  Utilities for Marlowe.\n",
      "\n",
      "Available options:\n",
      "  -h,--help                Show this help text\n",
      "  --version                Show version.\n",
      "\n",
      "High-level commands:\n",
      "  run                      Run a contract.\n",
      "  pab                      Run a contract via the PAB.\n",
      "  template                 Create a contract from a template.\n",
      "  test                     Test contracts.\n",
      "\n",
      "Low-level commands:\n",
      "  contract                 Export contract address, validator, datum, or\n",
      "                           redeemer.\n",
      "  input                    Create inputs to a contract.\n",
      "  role                     Export role address, validator, datum, or redeemer.\n",
      "  query                    Blockchain queries for Marlowe.\n",
      "  transaction              Create and submit transactions.\n",
      "  util                     Miscellaneous utilities.\n"
     ]
    }
   ],
   "source": [
    "marlowe-cli --help"
   ]
  },
  {
   "cell_type": "markdown",
   "id": "575d90cd-f988-4da9-b4d9-58e9f059d5b8",
   "metadata": {},
   "source": [
    "Further help is available for each subcommand:\n",
    "\n",
    "*   high-level commands\n",
    "    *   [`marlowe-cli run`](doc/run.md)\n",
    "    *   [`marlowe-cli pab`](doc/pab.md)\n",
    "    *   [`marlowe-cli template`](doc/template.md)\n",
    "    *   [`marlowe-cli test`](doc/test.md)\n",
    "*   low-level commands\n",
    "    *   [`marlowe-cli contract`](doc/contract.md)\n",
    "    *   [`marlowe-cli input`](doc/input.md)\n",
    "    *   [`marlowe-cli role`](doc/role.md)\n",
    "    *   [`marlowe-cli query`](doc/query.md)\n",
    "    *   [`marlowe-cli transaction`](doc/transaction.md)\n",
    "    *   [`marlowe-cli util`](doc/util.md)"
   ]
  },
  {
   "cell_type": "markdown",
   "id": "a4223197-3cb6-4679-a7c2-37776c516cc1",
   "metadata": {},
   "source": [
    "## Workflows\n",
    "\n",
    "Marlowe CLI supports workflows for specific use cases:\n",
    "\n",
    "*   [A high-level workflow](#high-level-workflow) for interacting with Marlowe contracts without dealing with the underlying its Plutus mechanics.\n",
    "*   [A low-level workflow](#low-level-workflow) that exposes the Plutus mechanics of Marlowe contracts.\n",
    "*   [A backend workflow](#backend-worfklow) for interacting with Marlowe via the Plutus Application Backend (PAB)."
   ]
  },
  {
   "cell_type": "markdown",
   "id": "9892fe83-f386-4c5a-8b66-2bef67114a2a",
   "metadata": {
    "tags": []
   },
   "source": [
    "### High-Level Workflow\n",
    "\n",
    "In the high-level workflow for `marlowe-cli`, the user creates a contract from a template, using Marlowe Playground, programmatically, or by hand.\n",
    "The user provides input at each step of contract execution.  The tool manages the contract state transitions and handles the construction and submission of transactions.\n",
    "\n",
    "![High-level Marlowe CLI workflow.](doc/diagrams/high-level-workflow.svg)"
   ]
  },
  {
   "cell_type": "markdown",
   "id": "fcbb80ec-988e-4fa1-9a2e-1fdb8ea84fc6",
   "metadata": {
    "jp-MarkdownHeadingCollapsed": true,
    "tags": []
   },
   "source": [
    "#### Examples\n",
    "\n",
    "*   [simple contract](examples/simple/ReadMe.md)\n",
    "*   [escrow](examples/escrow/ReadMe.md)\n",
    "*   [swap](examples/swap/ReadMe.md)\n",
    "*   [zero-coupon bond](examples/zcb/ReadMe.md)\n",
    "*   [contract for differences](examples/cfd/ReadMe.md)\n",
    "*   [covered call](examples/coveredCall/ReadMe.md)"
   ]
  },
  {
   "cell_type": "markdown",
   "id": "3f4fe8e2-0777-42d7-98b7-ed46270112ac",
   "metadata": {},
   "source": [
    "#### Test Cases\n",
    "\n",
    "*   [simple contract](examples/simple/run-test.sh)\n",
    "*   escrow\n",
    "    *   [\"everything is alright\"](examples/escrow/run-everything-is-alright.sh)\n",
    "    *   [\"confirm problem\"](examples/escrow/run-confirm-problem.sh)\n",
    "    *   [\"dismiss claim\"](examples/escrow/run-dimiss-claim.sh)\n",
    "    *   [\"confirm claim\"](examples/escrow/run-confirm-claim.sh)\n",
    "*   [swap](examples/swap/run-swap.sh)\n",
    "*   [zero-coupon bond](examples/zcb/run-zcb.sh)\n",
    "*   [contract for differences](examples/cfd/run-cfd.sh)\n",
    "*   [covered call](examples/coveredCall/run-coveredCall.sh)"
   ]
  },
  {
   "cell_type": "markdown",
   "id": "a9665c4d-5f8b-4f1a-9665-5f04855394e8",
   "metadata": {},
   "source": [
    "### Low-Level Workflow\n",
    "\n",
    "The `marlowe-cli` tools supports both granular and monolithic workflows for creating the files and hashes needed to submit Marlowe contracts with `cardano-cli`. The workflows only differ in how information is packaged."
   ]
  },
  {
   "cell_type": "markdown",
   "id": "187c1f2b-2565-42f7-b9e7-627e03815387",
   "metadata": {},
   "source": [
    "#### Monolithic Workflow\n",
    "\n",
    "The [`export-marlowe`](doc/export.md) command writes a JSON file with sufficient information to run the contract on the blockchain. It contains the following information.\n",
    "\n",
    "*   Script address\n",
    "*   Validator hash\n",
    "*   Datum hash\n",
    "*   CBOR for Plutus script\n",
    "*   JSON and CBOR for datum.\n",
    "*   JSON and CBOR for redeemer.\n",
    "*   Size of the above CBOR in bytes\n",
    "*   Execution cost\n",
    "\n",
    "The diagram below illusrates how the `export` command can be used in conjunction with [`jq`](https://stedolan.github.io/jq/manual/) and `cardano-cli`.\n",
    "\n",
    "![Marlowe workflow using `marlowe-cli`, `jq`, and `cardano-cli`.](doc/diagrams/monolithic.svg)\n",
    "\n",
    "See [monolithic.marlowe](doc/monolithic.marlowe) for an example file containing this information for a simple contract. A tutorial for this workflow is available [here](doc/monolithic.md)."
   ]
  },
  {
   "cell_type": "markdown",
   "id": "0826beb7-d0ba-49d0-8601-62873fe2785c",
   "metadata": {
    "tags": []
   },
   "source": [
    "### Granular Workflow\n",
    "\n",
    "The [`contract address`](doc/contract.md#address), [`contract validator`](doc/contract.md#validator), [`contract datum`](doc/contract.md#datum), and [`contract redeemer`](doc/contract.md#redeemer) commands write the corresponding subset of information to a JSON file or to the console. These allows finer-grain access to the capabilities of the `contract marlowe` command. The diagram below illustrates how these commands can be used in conjunction with `cardano-cli`.\n",
    "\n",
    "![Marlowe workflow using `marlowe-cli` and `cardano-cli`.](doc/diagrams/granular.svg)\n",
    "\n",
    "A tutorial for this workflow is available [here](doc/granular.md).\n"
   ]
  },
  {
   "cell_type": "markdown",
   "id": "a125b5b6-e2a7-4c4d-9fcd-10a533ef89ec",
   "metadata": {},
   "source": [
    "## Backend Workflow\n",
    "\n",
    "Marlowe currently uses the Plutus Application Backend (PAB) as its backend. A [detailed tutorial](pab-tutorial.md) provides step-by-step instructions for interacting with it via the command line."
   ]
  },
  {
   "cell_type": "markdown",
   "id": "9f8436d5-ffc7-4018-9a5f-b34b571cc5c8",
   "metadata": {},
   "source": [
    "## Automated Tests"
   ]
  },
  {
   "cell_type": "markdown",
   "id": "14a9829c-caab-4a3d-b847-a4efc404b3c6",
   "metadata": {},
   "source": [
    "*   Tests that interact directly with the Cardano blockchain: [run-nonpab-tests.sh](run-nonpab-tests.sh)\n",
    "*   Tests that interact with the Cardano blockchain via the Marlowe backend: [run-tests.sh](run-tests.sh)."
   ]
  },
  {
   "cell_type": "markdown",
   "id": "49a256c4-f0f3-496e-b12f-6020613e26e4",
   "metadata": {},
   "source": [
    "## Editing and Rebuilding This Documentation\n",
    "\n",
    "Most of this documentation is edited in Jupyter notebooks, execute `nix run` to launch Jupyter.\n",
    "\n",
    "Execute `make` or `./Makefile` to rebuild this documentation."
   ]
  }
 ],
 "metadata": {
  "kernelspec": {
   "display_name": "Bash - Marlowe",
   "language": "bash",
   "name": "bash_marlowe"
  },
  "language_info": {
   "codemirror_mode": "shell",
   "file_extension": ".sh",
   "mimetype": "text/x-sh",
   "name": "/nix/store/l0wlqpbsvh1pgvhcdhw7qkka3d31si7k-bash-5.1-p8/bin/bash"
  }
 },
 "nbformat": 4,
 "nbformat_minor": 5
}
