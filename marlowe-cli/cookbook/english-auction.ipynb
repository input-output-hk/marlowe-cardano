{
 "cells": [
  {
   "cell_type": "markdown",
   "id": "d2282dae-c7b1-4dec-9e9d-f66dcff5e767",
   "metadata": {},
   "source": [
    "# English Auction\n",
    "\n",
    "*Executive Summary*\n",
    "\n",
    "This English Auction with five bidders and three rounds of bidding demonstrates the use of merkleization for Marlowe contracts. Because bidders may bid in any order and may bid more than once, unless they are disqualified by an illegal bid or timeout, the contract involves a combinatorial explosion of possibilities. Without merkleization, the contract JSON file is 990MB in size and contains 940k `Case` statements, but after merkleization the JSON file is 9.8MB and it contains just 1150 merkleized `Case` statements. The contract was both simulated and run on the Cardano blockchain: that involved 18 transactions.\n",
    "\n",
    "*Characteristic of this contract*\n",
    "\n",
    "*   A seller auctions one unit of an asset.\n",
    "*   Any number of bidders bid on the contract.\n",
    "*   Bids may occur in any order.\n",
    "*   There are a fixed number of bids (rounds of bidding) allowed.\n",
    "*   A bid is rejected if it isn't higher than all previous bids.\n",
    "*   A bid is rejected if it isn't immediately followed by a deposit of the Lovelace that was bid.\n",
    "*   Funds are returned to unsuccessful bidders.\n",
    "*   There is deadline for depositing the asset.\n",
    "*   Each bidding round has a deadline.\n",
    "\n",
    "*Sequences of bids in this example*\n",
    "\n",
    "1.  Third bidder bids 5 Ada.\n",
    "2.  Second bidder bids 15 Ada.\n",
    "3.  Third bidder bids 25 Ada.\n",
    "4.  First bidder bids 30 Ada.\n",
    "5.  Second bidder bids 40 Ada.\n",
    "6.  Third bidder bids 50 Ada.\n",
    "\n",
    "The third bidder wins the asset, the seller receives 50 Ada, and the other bidders receive back their deposits. Two of the five bidders do not bid."
   ]
  },
  {
   "cell_type": "markdown",
   "id": "766ae697-3fff-46e7-97ad-25d43987c440",
   "metadata": {
    "tags": []
   },
   "source": [
    "## Preliminaries"
   ]
  },
  {
   "cell_type": "markdown",
   "id": "c27b9add-75d2-43c0-bdfa-5e307d0d7ec4",
   "metadata": {},
   "source": [
    "Make a note of the versions of the Marlowe repository and software."
   ]
  },
  {
   "cell_type": "code",
   "execution_count": null,
   "id": "59b0f329-1f59-4366-b4dc-34b9e4adee00",
   "metadata": {},
   "outputs": [
    {
     "name": "stdout",
     "output_type": "stream",
     "text": [
      "marlowe-cli 0.0.5.0\n"
     ]
    }
   ],
   "source": [
    "marlowe-cli --version"
   ]
  },
  {
   "cell_type": "code",
   "execution_count": null,
   "id": "dcac1a0e-f533-4cad-b474-c1f122f79cce",
   "metadata": {},
   "outputs": [
    {
     "name": "stdout",
     "output_type": "stream",
     "text": [
      "cardano-cli 1.34.1 - linux-x86_64 - ghc-8.10\n",
      "git rev 0000000000000000000000000000000000000000\n"
     ]
    }
   ],
   "source": [
    "cardano-cli --version"
   ]
  },
  {
   "cell_type": "code",
   "execution_count": null,
   "id": "85240b4e-2412-4530-95e4-5219eb8a9780",
   "metadata": {},
   "outputs": [
    {
     "name": "stdout",
     "output_type": "stream",
     "text": [
      "de3ca53f994f989ba7f5693e5e03bdfbcd52beee\n"
     ]
    }
   ],
   "source": [
    "git rev-parse HEAD"
   ]
  },
  {
   "cell_type": "markdown",
   "id": "0a7fcb94-db1e-4800-ae68-68ee488599ce",
   "metadata": {},
   "source": [
    "### Select the Cardano network"
   ]
  },
  {
   "cell_type": "code",
   "execution_count": 1,
   "id": "60ab7ef1-d69a-4d40-aa20-894916013cf2",
   "metadata": {},
   "outputs": [],
   "source": [
    "export CARDANO_TESTNET_MAGIC=1567\n",
    "export CARDANO_NODE_SOCKET_PATH=node.socket"
   ]
  },
  {
   "cell_type": "markdown",
   "id": "a4d471e2-0e05-428d-a32d-75b56c7e4eb0",
   "metadata": {},
   "source": [
    "### Set up keys, addresses, and tokens\n",
    "\n",
    "This section can be omitted if only off-chain simulation is performed."
   ]
  },
  {
   "cell_type": "markdown",
   "id": "7cd6c667-584b-4911-bb20-01cbf6cb5b0f",
   "metadata": {},
   "source": [
    "#### Mint the native asset token\n",
    "\n",
    "The bidding will be for a native token that represents either a digital or physical asset.\n",
    "\n",
    "First create keys."
   ]
  },
  {
   "cell_type": "code",
   "execution_count": 2,
   "id": "cbf242b6-89fa-41a5-bc95-e3ba213b0098",
   "metadata": {},
   "outputs": [
    {
     "name": "stdout",
     "output_type": "stream",
     "text": [
      "addr_test1vqryjqrp77xt97naa7ez5qvtqvkuucyyzqw02vl9vxmu4vq7gkjkv\n"
     ]
    }
   ],
   "source": [
    "MINTING_SKEY=english-auction-x.skey\n",
    "cardano-cli address key-gen --signing-key-file $MINTING_SKEY --verification-key-file english-auction-x.vkey\n",
    "MINTING_ADDRESS=$(cardano-cli address build --testnet-magic \"$CARDANO_TESTNET_MAGIC\" --payment-verification-key-file english-auction-x.vkey)\n",
    "echo $MINTING_ADDRESS"
   ]
  },
  {
   "cell_type": "markdown",
   "id": "7ec0dd93-ec76-4b41-9d88-9b7064d2f536",
   "metadata": {},
   "source": [
    "For terseness, denominate bids in Ada instead of Lovelace."
   ]
  },
  {
   "cell_type": "code",
   "execution_count": 3,
   "id": "6ad36369-00ff-4307-8a84-922689ac0155",
   "metadata": {},
   "outputs": [],
   "source": [
    "ADA=1000000"
   ]
  },
  {
   "cell_type": "markdown",
   "id": "2b60b182-f791-426b-8af9-d5bedcc3dfa8",
   "metadata": {},
   "source": [
    "Fund the address."
   ]
  },
  {
   "cell_type": "code",
   "execution_count": 4,
   "id": "29d3b14d-fd5e-4add-90fb-27d45fa67fb5",
   "metadata": {},
   "outputs": [
    {
     "name": "stdout",
     "output_type": "stream",
     "text": [
      "TxId \"e0efe318c28d92b82ec97d5cdb562c8ae65cf3525ea7b5df5b4ef1faba557b6f\"\n"
     ]
    }
   ],
   "source": [
    "marlowe-cli util faucet --lovelace $((50 * ADA)) \\\n",
    "                        --out-file /dev/null     \\\n",
    "                        --submit 600             \\\n",
    "                        $MINTING_ADDRESS"
   ]
  },
  {
   "cell_type": "markdown",
   "id": "3de5f927-e61e-42b3-bdd8-2a49a82682f6",
   "metadata": {},
   "source": [
    "Mint the token."
   ]
  },
  {
   "cell_type": "code",
   "execution_count": 5,
   "id": "9577ed83-9db3-42e7-b887-24481947ef85",
   "metadata": {},
   "outputs": [],
   "source": [
    "TOKEN_NAME=Globe"
   ]
  },
  {
   "cell_type": "code",
   "execution_count": 6,
   "id": "784ccda5-2086-4e78-8283-41f2a1fd4c17",
   "metadata": {},
   "outputs": [],
   "source": [
    "TOKEN_CURRENCY=$(\n",
    "marlowe-cli util mint --required-signer $MINTING_SKEY   \\\n",
    "                      --change-address $MINTING_ADDRESS \\\n",
    "                      --out-file /dev/null              \\\n",
    "                      --submit 600                      \\\n",
    "                      $TOKEN_NAME                       \\\n",
    "| sed -e 's/^PolicyID \"\\(.*\\)\"$/\\1/   '                 \\\n",
    ")"
   ]
  },
  {
   "cell_type": "code",
   "execution_count": 7,
   "id": "f949b0b7-e440-49e2-ae6f-81eeb9133c3d",
   "metadata": {},
   "outputs": [
    {
     "name": "stdout",
     "output_type": "stream",
     "text": [
      "The subject of the auction is 76574a57d6a0bc1db5ad534b90ac0aacdad765754eca3f4e7dc7c116.Globe.\n",
      "The hexadecimal representation of this is 76574a57d6a0bc1db5ad534b90ac0aacdad765754eca3f4e7dc7c116.476C6F6265.\n"
     ]
    }
   ],
   "source": [
    "TOKEN=$TOKEN_CURRENCY.$TOKEN_NAME\n",
    "echo \"The subject of the auction is $TOKEN.\"\n",
    "echo \"The hexadecimal representation of this is $TOKEN_CURRENCY.$(echo -n $TOKEN_NAME | basenc --base16).\""
   ]
  },
  {
   "cell_type": "markdown",
   "id": "e959a3ce-5821-4c81-b3d5-2cc9bc79431a",
   "metadata": {},
   "source": [
    "#### Generate keys for parties"
   ]
  },
  {
   "cell_type": "markdown",
   "id": "6329edd1-cd93-4fff-af30-f865329dcb68",
   "metadata": {},
   "source": [
    "The seller has role index 0, and the bidders have role indices matching their sequence."
   ]
  },
  {
   "cell_type": "code",
   "execution_count": 8,
   "id": "75f77cf4-eeb6-4052-9e58-094758f02d1b",
   "metadata": {},
   "outputs": [],
   "source": [
    "ROLE=(\"Seller\" \"Bidder 1\" \"Bidder 2\" \"Bidder 3\")"
   ]
  },
  {
   "cell_type": "code",
   "execution_count": 9,
   "id": "638483ba-89b3-431b-bb34-c872a8e3e1fd",
   "metadata": {},
   "outputs": [
    {
     "name": "stdout",
     "output_type": "stream",
     "text": [
      "Seller has address addr_test1vr8j4ev357a2q6kjhwqg6ejclwv6mjrewrtn3szm08fjxfc9n009p.\n",
      "Bidder 1 has address addr_test1vrkxylr7k0zfdr7xf8h42lmafh7mlzlrcz4smf2e2he6x9q4vsa9t.\n",
      "Bidder 2 has address addr_test1vrls090up80k509v82x8h8puqrduargxr5cmtydqyttqjvg5u4g3t.\n",
      "Bidder 3 has address addr_test1vrvstcvdp9fugqswl8ftljv03zmjpdulvwvv074neaewp2ss9gwvg.\n"
     ]
    }
   ],
   "source": [
    "for i in 0 1 2 3\n",
    "do\n",
    "  SKEY[$i]=english-auction-$i.skey\n",
    "  cardano-cli address key-gen --signing-key-file ${SKEY[$i]} --verification-key-file english-auction-$i.vkey\n",
    "  ADDRESS[$i]=$(cardano-cli address build --testnet-magic \"$CARDANO_TESTNET_MAGIC\" --payment-verification-key-file english-auction-$i.vkey)\n",
    "  echo \"${ROLE[$i]} has address ${ADDRESS[$i]}.\"\n",
    "done"
   ]
  },
  {
   "cell_type": "markdown",
   "id": "1c8bd03c-2a54-4df2-9df8-9c668fa10af0",
   "metadata": {},
   "source": [
    "#### Fund the addresses"
   ]
  },
  {
   "cell_type": "code",
   "execution_count": 10,
   "id": "929a3a08-821d-49cb-b64d-182f23cbf37c",
   "metadata": {},
   "outputs": [
    {
     "name": "stdout",
     "output_type": "stream",
     "text": [
      "TxId \"163e7181763ed971204ea69fb794696da1e9bd10be50eb069819efd61bcce818\"\n"
     ]
    }
   ],
   "source": [
    "marlowe-cli util faucet --lovelace $((100 * ADA)) --out-file /dev/null --submit 600  ${ADDRESS[@]}"
   ]
  },
  {
   "cell_type": "markdown",
   "id": "b4897828-89a1-458c-aab8-82392feeb1b4",
   "metadata": {},
   "source": [
    "#### Mint the role tokens"
   ]
  },
  {
   "cell_type": "code",
   "execution_count": 11,
   "id": "ef9ba3eb-030a-428d-b14b-328ce91f2731",
   "metadata": {},
   "outputs": [
    {
     "name": "stdout",
     "output_type": "stream",
     "text": [
      "The roles currency has policy ID d6390543e76fe398ccb5d7e90da5f0548e29759cf94d565d82ad4b19.\n"
     ]
    }
   ],
   "source": [
    "ROLES_CURRENCY=$(\n",
    "marlowe-cli util mint --required-signer ${SKEY[0]}   \\\n",
    "                      --change-address ${ADDRESS[0]} \\\n",
    "                      --out-file /dev/null           \\\n",
    "                      --submit 600                   \\\n",
    "                      \"${ROLE[@]}\"                   \\\n",
    "| sed -e 's/^PolicyID \"\\(.*\\)\"$/\\1/'                 \\\n",
    ")\n",
    "echo The roles currency has policy ID $ROLES_CURRENCY."
   ]
  },
  {
   "cell_type": "code",
   "execution_count": 12,
   "id": "68dd2638-3c48-427a-abe1-246cddaff4c9",
   "metadata": {},
   "outputs": [],
   "source": [
    "for i in 0 1 2 3\n",
    "do\n",
    "  ROLE_TOKEN[$i]=\"$ROLES_CURRENCY.${ROLE[$i]}\"\n",
    "done"
   ]
  },
  {
   "cell_type": "markdown",
   "id": "15097db7-47da-4127-b07e-27a39d60450a",
   "metadata": {},
   "source": [
    "View the role tokens."
   ]
  },
  {
   "cell_type": "code",
   "execution_count": 13,
   "id": "2181e378-1593-445d-958a-aeda8ec7a838",
   "metadata": {},
   "outputs": [
    {
     "name": "stdout",
     "output_type": "stream",
     "text": [
      "                           TxHash                                 TxIx        Amount\n",
      "--------------------------------------------------------------------------------------\n",
      "3aced0ba2210ae7a4e644d9285c986f08fea126b3cf353305bd85ee0db6e5440     0        59815667 lovelace + TxOutDatumNone\n",
      "3aced0ba2210ae7a4e644d9285c986f08fea126b3cf353305bd85ee0db6e5440     1        10000000 lovelace + 1 d6390543e76fe398ccb5d7e90da5f0548e29759cf94d565d82ad4b19.4269646465722031 + TxOutDatumNone\n",
      "3aced0ba2210ae7a4e644d9285c986f08fea126b3cf353305bd85ee0db6e5440     2        10000000 lovelace + 1 d6390543e76fe398ccb5d7e90da5f0548e29759cf94d565d82ad4b19.4269646465722032 + TxOutDatumNone\n",
      "3aced0ba2210ae7a4e644d9285c986f08fea126b3cf353305bd85ee0db6e5440     3        10000000 lovelace + 1 d6390543e76fe398ccb5d7e90da5f0548e29759cf94d565d82ad4b19.4269646465722033 + TxOutDatumNone\n",
      "3aced0ba2210ae7a4e644d9285c986f08fea126b3cf353305bd85ee0db6e5440     4        10000000 lovelace + 1 d6390543e76fe398ccb5d7e90da5f0548e29759cf94d565d82ad4b19.53656c6c6572 + TxOutDatumNone\n"
     ]
    }
   ],
   "source": [
    "cardano-cli query utxo --testnet-magic \"$CARDANO_TESTNET_MAGIC\" --address ${ADDRESS[0]}"
   ]
  },
  {
   "cell_type": "markdown",
   "id": "d1d88d18-f92c-4f3b-b5d6-3314ae5d7e6c",
   "metadata": {},
   "source": [
    "#### Distribute the role tokens"
   ]
  },
  {
   "cell_type": "code",
   "execution_count": 14,
   "id": "e8f4f1ae-c2ef-40e1-b46f-fd094fa0f41d",
   "metadata": {},
   "outputs": [
    {
     "name": "stdout",
     "output_type": "stream",
     "text": [
      "TxId \"6db1c167b9f9d04dff91a1d5a5592c3cf210bf224d76b247f5726429d4ce7ca8\"\n"
     ]
    }
   ],
   "source": [
    "marlowe-cli transaction simple --required-signer ${SKEY[0]} \\\n",
    "                               --change-address ${ADDRESS[0]} \\\n",
    "                               --tx-in $(marlowe-cli util select --asset-only \"${ROLE_TOKEN[1]}\" ${ADDRESS[0]} | sed -e 's/^TxIn \"\\(.*\\)\" (TxIx \\(.*\\))$/\\1#\\2/') \\\n",
    "                               --tx-in $(marlowe-cli util select --asset-only \"${ROLE_TOKEN[2]}\" ${ADDRESS[0]} | sed -e 's/^TxIn \"\\(.*\\)\" (TxIx \\(.*\\))$/\\1#\\2/') \\\n",
    "                               --tx-in $(marlowe-cli util select --asset-only \"${ROLE_TOKEN[3]}\" ${ADDRESS[0]} | sed -e 's/^TxIn \"\\(.*\\)\" (TxIx \\(.*\\))$/\\1#\\2/') \\\n",
    "                               --tx-out \"${ADDRESS[1]}+2000000+1 ${ROLE_TOKEN[1]}\" \\\n",
    "                               --tx-out \"${ADDRESS[2]}+2000000+1 ${ROLE_TOKEN[2]}\" \\\n",
    "                               --tx-out \"${ADDRESS[3]}+2000000+1 ${ROLE_TOKEN[3]}\" \\\n",
    "                               --out-file /dev/null \\\n",
    "                               --submit 600"
   ]
  },
  {
   "cell_type": "markdown",
   "id": "3ee666c2-a323-4cd1-b627-cc542d82e131",
   "metadata": {},
   "source": [
    "#### Send the native token for the asset to the seller"
   ]
  },
  {
   "cell_type": "code",
   "execution_count": 15,
   "id": "9d61441c-18f1-46ff-a206-064df6c4569e",
   "metadata": {},
   "outputs": [
    {
     "name": "stdout",
     "output_type": "stream",
     "text": [
      "TxId \"c271ad69a6231e950a16c10e20b10e2581015fb5e3f6dca91c2d7bbec29590f9\"\n"
     ]
    }
   ],
   "source": [
    "marlowe-cli transaction simple --required-signer $MINTING_SKEY \\\n",
    "                               --change-address $MINTING_ADDRESS \\\n",
    "                               --tx-in $(marlowe-cli util select --asset-only $TOKEN $MINTING_ADDRESS | sed -e 's/^TxIn \"\\(.*\\)\" (TxIx \\(.*\\))$/\\1#\\2/') \\\n",
    "                               --tx-out \"${ADDRESS[0]}+2000000+1 $TOKEN\" \\\n",
    "                               --out-file /dev/null \\\n",
    "                               --submit 600"
   ]
  },
  {
   "cell_type": "markdown",
   "id": "823a2192-61d2-43d2-9dec-f5980f950305",
   "metadata": {},
   "source": [
    "#### Check that the roles have the tokens they need"
   ]
  },
  {
   "cell_type": "code",
   "execution_count": 16,
   "id": "e0ebcca9-5929-4de4-b2c9-a9175c74cd84",
   "metadata": {},
   "outputs": [
    {
     "name": "stdout",
     "output_type": "stream",
     "text": [
      "\n",
      "Seller possesses the following UTxOs:\n",
      "                           TxHash                                 TxIx        Amount\n",
      "--------------------------------------------------------------------------------------\n",
      "3aced0ba2210ae7a4e644d9285c986f08fea126b3cf353305bd85ee0db6e5440     0        59815667 lovelace + TxOutDatumNone\n",
      "3aced0ba2210ae7a4e644d9285c986f08fea126b3cf353305bd85ee0db6e5440     4        10000000 lovelace + 1 d6390543e76fe398ccb5d7e90da5f0548e29759cf94d565d82ad4b19.53656c6c6572 + TxOutDatumNone\n",
      "6db1c167b9f9d04dff91a1d5a5592c3cf210bf224d76b247f5726429d4ce7ca8     0        23811663 lovelace + TxOutDatumNone\n",
      "c271ad69a6231e950a16c10e20b10e2581015fb5e3f6dca91c2d7bbec29590f9     1        2000000 lovelace + 1 76574a57d6a0bc1db5ad534b90ac0aacdad765754eca3f4e7dc7c116.476c6f6265 + TxOutDatumNone\n",
      "\n",
      "Bidder 1 possesses the following UTxOs:\n",
      "                           TxHash                                 TxIx        Amount\n",
      "--------------------------------------------------------------------------------------\n",
      "163e7181763ed971204ea69fb794696da1e9bd10be50eb069819efd61bcce818     3        100000000 lovelace + TxOutDatumNone\n",
      "6db1c167b9f9d04dff91a1d5a5592c3cf210bf224d76b247f5726429d4ce7ca8     1        2000000 lovelace + 1 d6390543e76fe398ccb5d7e90da5f0548e29759cf94d565d82ad4b19.4269646465722031 + TxOutDatumNone\n",
      "\n",
      "Bidder 2 possesses the following UTxOs:\n",
      "                           TxHash                                 TxIx        Amount\n",
      "--------------------------------------------------------------------------------------\n",
      "163e7181763ed971204ea69fb794696da1e9bd10be50eb069819efd61bcce818     4        100000000 lovelace + TxOutDatumNone\n",
      "6db1c167b9f9d04dff91a1d5a5592c3cf210bf224d76b247f5726429d4ce7ca8     2        2000000 lovelace + 1 d6390543e76fe398ccb5d7e90da5f0548e29759cf94d565d82ad4b19.4269646465722032 + TxOutDatumNone\n",
      "\n",
      "Bidder 3 possesses the following UTxOs:\n",
      "                           TxHash                                 TxIx        Amount\n",
      "--------------------------------------------------------------------------------------\n",
      "163e7181763ed971204ea69fb794696da1e9bd10be50eb069819efd61bcce818     5        100000000 lovelace + TxOutDatumNone\n",
      "6db1c167b9f9d04dff91a1d5a5592c3cf210bf224d76b247f5726429d4ce7ca8     3        2000000 lovelace + 1 d6390543e76fe398ccb5d7e90da5f0548e29759cf94d565d82ad4b19.4269646465722033 + TxOutDatumNone\n"
     ]
    }
   ],
   "source": [
    "for i in 0 1 2 3\n",
    "do\n",
    "  echo\n",
    "  echo \"${ROLE[$i]} possesses the following UTxOs:\"\n",
    "  cardano-cli query utxo --testnet-magic \"$CARDANO_TESTNET_MAGIC\" --address ${ADDRESS[$i]}\n",
    "done"
   ]
  },
  {
   "cell_type": "markdown",
   "id": "9d7994be-8723-43bf-b98f-640188948e42",
   "metadata": {},
   "source": [
    "### Set up the contract\n",
    "\n",
    "Start the contract at the current time."
   ]
  },
  {
   "cell_type": "code",
   "execution_count": 17,
   "id": "932d174a-1092-4c5f-9da1-4dd84bd6eb81",
   "metadata": {},
   "outputs": [
    {
     "name": "stdout",
     "output_type": "stream",
     "text": [
      "1655691097000\n"
     ]
    }
   ],
   "source": [
    "NOW=$(($(date -u +%s) * 1000))\n",
    "echo $NOW"
   ]
  },
  {
   "cell_type": "markdown",
   "id": "600ccf78-e0ef-4cf2-878b-8fb65c69fd87",
   "metadata": {},
   "source": [
    "Use a four hour time window for submitting transactions. This is just for convenienc when testing this contract."
   ]
  },
  {
   "cell_type": "code",
   "execution_count": 18,
   "id": "b43c72cd-d15c-4323-aee7-09e95c17cae9",
   "metadata": {},
   "outputs": [
    {
     "name": "stdout",
     "output_type": "stream",
     "text": [
      "1655705497000\n"
     ]
    }
   ],
   "source": [
    "HOUR=$((60 * 60 * 1000))\n",
    "LATER=$((NOW + 4 * HOUR))\n",
    "echo $LATER"
   ]
  },
  {
   "cell_type": "markdown",
   "id": "abeb8d27-6010-459f-905e-caf65739757a",
   "metadata": {},
   "source": [
    "There is a minimum Ada requirement associated with a native token."
   ]
  },
  {
   "cell_type": "code",
   "execution_count": 19,
   "id": "88f6d4e0-2271-42cc-9cfe-177362edf9e9",
   "metadata": {},
   "outputs": [],
   "source": [
    "MIN_ADA=$((2 * ADA))"
   ]
  },
  {
   "cell_type": "markdown",
   "id": "16e9346d-b183-4e58-92a0-fd63dff0d9fb",
   "metadata": {},
   "source": [
    "Create a Haskell program that will generate a contract with six rounds of bidding for three bidders. We could use `runhaskell` instead of `ghc`, but `runhaskell` is slow because it doesn't perform optimizations."
   ]
  },
  {
   "cell_type": "code",
   "execution_count": 20,
   "id": "5e86a115-5b6a-4e65-9a36-63b781eb4685",
   "metadata": {},
   "outputs": [],
   "source": [
    "cat << EOI > english-auction.hs\n",
    "\n",
    "{-# LANGUAGE NumericUnderscores #-}\n",
    "{-# LANGUAGE OverloadedStrings  #-}\n",
    "{-# LANGUAGE Trustworthy        #-}\n",
    "\n",
    "module Main (\n",
    "-- * Entry point\n",
    "  main\n",
    "-- * Contracts\n",
    ", makeContract\n",
    ") where\n",
    "\n",
    "import Data.Aeson (encodeFile)\n",
    "import Data.String (fromString)\n",
    "import Language.Marlowe.Extended.V1\n",
    "import qualified Language.Marlowe.Core.V1.Semantics.Types as S (Contract)\n",
    "\n",
    "-- | Print the contract.\n",
    "main :: IO ()\n",
    "main =\n",
    "  encodeFile \"english-auction-01.contract\"\n",
    "    . (toCore :: Contract -> Maybe S.Contract)\n",
    "    $ makeContract 6 5\n",
    "      (Bound 2_000_000 1_000_000_000_000)\n",
    "      (Token \"$TOKEN_CURRENCY\" \"$TOKEN_NAME\")\n",
    "      $NOW (5 * $HOUR)\n",
    "\n",
    "-- | The party that sells the item at auction.\n",
    "seller :: Party\n",
    "seller = Role \"Seller\"\n",
    "\n",
    "-- | The quantity of items that is auctioned.\n",
    "assetAmount :: Value\n",
    "assetAmount = Constant 1\n",
    "\n",
    "-- | The minimum Ada requirement for the asset.\n",
    "minAda :: Value\n",
    "minAda = Constant $MIN_ADA\n",
    "\n",
    "-- | The value of the highest bid.\n",
    "highestBid :: ValueId\n",
    "highestBid = \"Highest Bid\"\n",
    "\n",
    "-- | Create the Marlowe contract for an English auction.\n",
    "makeContract :: Int       -- ^ The number of rounds of bidding.\n",
    "             -> Int       -- ^ The number of bidders.\n",
    "             -> Bound     -- ^ The range for valid bids, in Lovelace.\n",
    "             -> Token     -- ^ The token representing the asset being bid upon.\n",
    "             -> Integer   -- ^ The start time of the contract.\n",
    "             -> Integer   -- ^ The spacing between bid deadlines.\n",
    "             -> Contract  -- ^ The English auction.\n",
    "makeContract nRounds nBidders bidBounds assetToken start delta =\n",
    "  let\n",
    "    bids =\n",
    "      [\n",
    "        ChoiceId (fromString $ \"Bid \" <> show i) party\n",
    "      |\n",
    "        i <- [1..nBidders]\n",
    "      , let party = fromString $ \"Bidder \" <> show i\n",
    "      ]\n",
    "    deadlines =\n",
    "      [\n",
    "        POSIXTime $ start + delta * (1 + fromIntegral i)\n",
    "      |\n",
    "        i <- [1..nRounds]\n",
    "      ]\n",
    "  in\n",
    "   -- Deposit the asset, then make the bids, but close if no one bids.\n",
    "    makeAssetDeposit assetToken (POSIXTime $ start + delta)\n",
    "      $ makeBids bidBounds assetToken deadlines bids\n",
    "        Close\n",
    "\n",
    "-- | Deposit the asset that is the subject of the bidding.\n",
    "makeAssetDeposit :: Token     -- ^ The token representing the asset being bid upon.\n",
    "                 -> Timeout   -- ^ The timeout for depositing the asset.\n",
    "                 -> Contract  -- ^ The contract to be executed after the asset is deposited.\n",
    "                 -> Contract  -- ^ The contract for the asset deposit and subsequent activity.\n",
    "makeAssetDeposit asset assetDeadline continuation =\n",
    "  When\n",
    "    [\n",
    "      -- The seller deposits the asset being auctioned.\n",
    "      Case (Deposit seller seller asset assetAmount)\n",
    "        continuation\n",
    "    ]\n",
    "    -- The contract ends if the deposit is not made.\n",
    "    assetDeadline\n",
    "    Close\n",
    "\n",
    "-- | Make the contract for bids.\n",
    "makeBids :: Bound       -- ^ The range of valid bids, in Lovelace.\n",
    "         -> Token       -- ^ The token representing the asset being bid upon.\n",
    "         -> [Timeout]   -- ^ The deadlines for the rounds of bidding.\n",
    "         -> [ChoiceId]  -- ^ The choices the bidders will make.\n",
    "         -> Contract    -- ^ The contract to be executed at the end of the bidding.\n",
    "         -> Contract    -- ^ The bidding contract.\n",
    "makeBids _ _ [] _ continuation = continuation\n",
    "makeBids _ _ _ [] continuation = continuation\n",
    "makeBids bounds assetToken (deadline : remainingDeadlines) bids continuation =\n",
    "  When\n",
    "    [\n",
    "      -- Let the bidder make their bid.\n",
    "      Case (Choice bid [bounds])\n",
    "        $ let\n",
    "            bidAmount = ChoiceValue bid\n",
    "          in\n",
    "            -- Check if the bid is highest so far.\n",
    "            If (ValueGT bidAmount $ UseValue highestBid)\n",
    "              -- Require a deposit if the bid is highest.\n",
    "              (\n",
    "                When\n",
    "                  [\n",
    "                    -- Deposit the Lovelace for the bid.\n",
    "                    Case (Deposit bidder bidder ada . SubValue (AddValue bidAmount minAda) $ AvailableMoney bidder ada)\n",
    "                      -- Record the new highest amount.\n",
    "                      $ Let highestBid bidAmount\n",
    "                      -- Handle the remaining bids.\n",
    "                      $ remaining\n",
    "                      -- Make the payment for the asset.\n",
    "                      $ Pay bidder (Party seller) ada bidAmount\n",
    "                      $ Pay seller (Party bidder) assetToken assetAmount\n",
    "                        Close\n",
    "                  ]\n",
    "                  -- Ignore the bid and disqualify the bidder if the deposit was not made.\n",
    "                  deadline\n",
    "                    $ disqualify continuation\n",
    "              )\n",
    "              -- Ignore the bid and disqualify the bidder if it is not highest.\n",
    "              (\n",
    "                -- Handle the remaining bids and finalization.\n",
    "                disqualify continuation\n",
    "              )\n",
    "    |\n",
    "      bid@(ChoiceId _ bidder) <- bids\n",
    "    , let remaining = makeBids bounds assetToken remainingDeadlines bids\n",
    "          disqualify = makeBids bounds assetToken remainingDeadlines $ filter (/= bid) bids\n",
    "\n",
    "    ]\n",
    "    -- End the bidding if no one bids in this round.\n",
    "    deadline\n",
    "    continuation\n",
    "    \n",
    "EOI"
   ]
  },
  {
   "cell_type": "markdown",
   "id": "1c12779d-9a21-4d82-aab7-086d62de0b68",
   "metadata": {},
   "source": [
    "👉 Note that the above contract contains the multiple-input vulnerability where a bidder could submit all of the contract's bids in a single transaction, thus locking other bidders out of participating. How would you simply alter the contract to prevent this?"
   ]
  },
  {
   "cell_type": "code",
   "execution_count": 21,
   "id": "a13b3624-e1ee-4f81-a16f-8a47dec69a5b",
   "metadata": {},
   "outputs": [
    {
     "name": "stdout",
     "output_type": "stream",
     "text": [
      "[1 of 1] Compiling Main             ( english-auction.hs, english-auction.o )\n",
      "Linking english-auction ...\n"
     ]
    }
   ],
   "source": [
    "ghc -O2 -o english-auction english-auction.hs"
   ]
  },
  {
   "cell_type": "code",
   "execution_count": 22,
   "id": "97eafa2c-598e-48ca-9d2b-c33825031226",
   "metadata": {},
   "outputs": [
    {
     "name": "stdout",
     "output_type": "stream",
     "text": [
      "57.81user 8.02system 1:15.89elapsed 86%CPU (0avgtext+0avgdata 13986688maxresident)k\n",
      "2443904inputs+2018096outputs (75289major+4519845minor)pagefaults 0swaps\n"
     ]
    }
   ],
   "source": [
    "`which time` \\\n",
    "./english-auction"
   ]
  },
  {
   "cell_type": "markdown",
   "id": "2e52f3bc-82aa-42d3-a629-22f766cd8704",
   "metadata": {},
   "source": [
    "How large is the contract?"
   ]
  },
  {
   "cell_type": "code",
   "execution_count": 23,
   "id": "fc5da0ab-aa40-427d-8a44-15c75c2f1018",
   "metadata": {},
   "outputs": [
    {
     "name": "stdout",
     "output_type": "stream",
     "text": [
      "-rw-rw-r-- 1 bbush bbush-upg 985M Jun 19 20:13 english-auction-01.contract\n"
     ]
    }
   ],
   "source": [
    "ls -lh english-auction-01.contract"
   ]
  },
  {
   "cell_type": "markdown",
   "id": "6eabc2ee-f495-4154-b1ad-3e54727f3e4a",
   "metadata": {},
   "source": [
    "How many `Case` statements does it contain?"
   ]
  },
  {
   "cell_type": "code",
   "execution_count": 105,
   "id": "4ec374b8-7034-4f1b-b124-69fd4b90e424",
   "metadata": {},
   "outputs": [
    {
     "name": "stdout",
     "output_type": "stream",
     "text": [
      "942181\n"
     ]
    }
   ],
   "source": [
    "sed -e 's/case/&\\n/g' english-auction-01.contract | grep case | wc -l"
   ]
  },
  {
   "cell_type": "markdown",
   "id": "456707bf-adfb-4171-b042-1b0756dd4063",
   "metadata": {},
   "source": [
    "### Set the initial state\n",
    "\n",
    "The Seller will deposit 2 Ada when the contract is created."
   ]
  },
  {
   "cell_type": "code",
   "execution_count": 24,
   "id": "4b95ea64-87d8-4678-b438-0559b0a1c704",
   "metadata": {},
   "outputs": [],
   "source": [
    "yaml2json << EOI > english-auction-01.state\n",
    "accounts:\n",
    "- - - role_token: Seller\n",
    "    - currency_symbol: ''\n",
    "      token_name: ''\n",
    "  - $MIN_ADA\n",
    "boundValues: []\n",
    "choices: []\n",
    "minTime: $NOW\n",
    "EOI"
   ]
  },
  {
   "cell_type": "code",
   "execution_count": 25,
   "id": "03787fe2-9b14-4d92-a014-be6e6095eb7e",
   "metadata": {},
   "outputs": [
    {
     "name": "stdout",
     "output_type": "stream",
     "text": [
      "{\"accounts\":[[[{\"role_token\":\"Seller\"},{\"currency_symbol\":\"\",\"token_name\":\"\"}],2000000]],\"boundValues\":[],\"choices\":[],\"minTime\":1655691097000}\n"
     ]
    }
   ],
   "source": [
    "cat english-auction-01.state"
   ]
  },
  {
   "cell_type": "markdown",
   "id": "b5400d8d-4c2d-4a7a-99e3-bdc87629f91f",
   "metadata": {
    "tags": []
   },
   "source": [
    "## Simulate the Contract\n",
    "\n",
    "We start by simulating the contract before running on the blockchain. This lets us test our inputs without committing any Ada. It also separates the logic of the contract's progression from the details of eUTxO management."
   ]
  },
  {
   "cell_type": "markdown",
   "id": "1791ce5f-f3ca-4eba-90ae-489a97fcec44",
   "metadata": {},
   "source": [
    "### 1. Initialize the contract information\n",
    "\n",
    "Create a `.marlowe` file that contains all of the information needed to start the contract. Note that we merkleization the contract because of its large size."
   ]
  },
  {
   "cell_type": "code",
   "execution_count": 26,
   "id": "631e5627-4497-4837-9a25-519190c4f2aa",
   "metadata": {},
   "outputs": [
    {
     "name": "stdout",
     "output_type": "stream",
     "text": [
      "\n",
      "Validator size: 12773\n",
      "Base-validator cost: ExBudget {exBudgetCPU = ExCPU 24741463, exBudgetMemory = ExMemory 83200}\n",
      "303.31user 52.67system 10:44.46elapsed 55%CPU (0avgtext+0avgdata 13905708maxresident)k\n",
      "34809824inputs+20168outputs (2041852major+9429868minor)pagefaults 0swaps\n"
     ]
    }
   ],
   "source": [
    "`which time` \\\n",
    "marlowe-cli run initialize --roles-currency $ROLES_CURRENCY            \\\n",
    "                           --contract-file english-auction-01.contract \\\n",
    "                           --state-file    english-auction-01.state    \\\n",
    "                           --out-file      english-auction-01.marlowe  \\\n",
    "                           --merkleize                                 \\\n",
    "                           --print-stats"
   ]
  },
  {
   "cell_type": "markdown",
   "id": "0ff743db-11e4-48e9-a813-de3ac8d73497",
   "metadata": {},
   "source": [
    "The contract now contains just the native asset, in the Seller's account."
   ]
  },
  {
   "cell_type": "code",
   "execution_count": 27,
   "id": "e34d8886-ad8b-4e18-86a5-da89b07b3659",
   "metadata": {},
   "outputs": [
    {
     "name": "stdout",
     "output_type": "stream",
     "text": [
      "accounts:\n",
      "- - - role_token: Seller\n",
      "    - currency_symbol: ''\n",
      "      token_name: ''\n",
      "  - 2000000\n",
      "boundValues: []\n",
      "choices: []\n",
      "minTime: 1655691097000\n"
     ]
    }
   ],
   "source": [
    "jq .state english-auction-01.marlowe | json2yaml"
   ]
  },
  {
   "cell_type": "markdown",
   "id": "756cfa87-1bcb-41d7-a8ab-8d3cf13fbba5",
   "metadata": {},
   "source": [
    "How large is the merkleized contract?"
   ]
  },
  {
   "cell_type": "code",
   "execution_count": 106,
   "id": "6839cdd4-0eb8-41db-a1ea-0a963926ddfb",
   "metadata": {},
   "outputs": [
    {
     "name": "stdout",
     "output_type": "stream",
     "text": [
      "-rw-rw-r-- 1 bbush bbush-upg 9.8M Jun 19 20:23 english-auction-01.marlowe\n"
     ]
    }
   ],
   "source": [
    "ls -lh english-auction-01.marlowe"
   ]
  },
  {
   "cell_type": "markdown",
   "id": "703d3efb-86d7-4856-8eaf-965c5b122daf",
   "metadata": {},
   "source": [
    "How many merkle hashes does it contain?"
   ]
  },
  {
   "cell_type": "code",
   "execution_count": 107,
   "id": "87bdd19f-b45f-47ec-904c-bdb237217d20",
   "metadata": {},
   "outputs": [
    {
     "name": "stdout",
     "output_type": "stream",
     "text": [
      "\u001b[0;39m1151\u001b[0m\n"
     ]
    }
   ],
   "source": [
    "jq '.continuations | length' english-auction-01.marlowe"
   ]
  },
  {
   "cell_type": "markdown",
   "id": "df6792a5-6d95-4011-a138-0a5dc25c0dbe",
   "metadata": {
    "tags": []
   },
   "source": [
    "### 2. The Seller deposits the native asset"
   ]
  },
  {
   "cell_type": "code",
   "execution_count": 28,
   "id": "7912039a-af9e-4db3-b9df-a9867d8f9eb0",
   "metadata": {},
   "outputs": [
    {
     "name": "stdout",
     "output_type": "stream",
     "text": [
      "\n",
      "Datum size: 545\n"
     ]
    }
   ],
   "source": [
    "marlowe-cli run prepare --deposit-account Role=Seller             \\\n",
    "                        --deposit-party   Role=Seller             \\\n",
    "                        --deposit-token \"$TOKEN\"                  \\\n",
    "                        --deposit-amount 1                        \\\n",
    "                        --invalid-before $NOW                     \\\n",
    "                        --invalid-hereafter $LATER                \\\n",
    "                        --marlowe-file english-auction-01.marlowe \\\n",
    "                        --out-file     english-auction-02.marlowe \\\n",
    "                        --print-stats"
   ]
  },
  {
   "cell_type": "markdown",
   "id": "9e7c4882-326c-44bf-965b-f4d7f82fd857",
   "metadata": {},
   "source": [
    "Now the contract contains initial Ada and the native token, both in the Seller's account."
   ]
  },
  {
   "cell_type": "code",
   "execution_count": 29,
   "id": "1291ebb4-35b8-4b0f-80a1-d5640484e59d",
   "metadata": {},
   "outputs": [
    {
     "name": "stdout",
     "output_type": "stream",
     "text": [
      "accounts:\n",
      "- - - role_token: Seller\n",
      "    - currency_symbol: ''\n",
      "      token_name: ''\n",
      "  - 2000000\n",
      "- - - role_token: Seller\n",
      "    - currency_symbol: 76574a57d6a0bc1db5ad534b90ac0aacdad765754eca3f4e7dc7c116\n",
      "      token_name: Globe\n",
      "  - 1\n",
      "boundValues: []\n",
      "choices: []\n",
      "minTime: 1655691097000\n"
     ]
    }
   ],
   "source": [
    "jq .state english-auction-02.marlowe | json2yaml"
   ]
  },
  {
   "cell_type": "markdown",
   "id": "6fa51a29-b09a-4ca9-9918-1283e207ab2d",
   "metadata": {},
   "source": [
    "### 3. Third bidder bids 5 Ada"
   ]
  },
  {
   "cell_type": "code",
   "execution_count": 30,
   "id": "b759b36f-be4d-4345-9a97-257e503b9719",
   "metadata": {},
   "outputs": [],
   "source": [
    "AMOUNT_1=$((5 * ADA))"
   ]
  },
  {
   "cell_type": "code",
   "execution_count": 31,
   "id": "f6aaec48-332b-4f3c-b291-a90ed27b790c",
   "metadata": {},
   "outputs": [
    {
     "name": "stdout",
     "output_type": "stream",
     "text": [
      "\n",
      "Datum size: 645\n"
     ]
    }
   ],
   "source": [
    "marlowe-cli run prepare --choice-party Role=\"Bidder 3\"            \\\n",
    "                        --choice-name \"Bid 3\"                     \\\n",
    "                        --choice-number $AMOUNT_1                 \\\n",
    "                        --invalid-before $NOW                     \\\n",
    "                        --invalid-hereafter $LATER                \\\n",
    "                        --marlowe-file english-auction-02.marlowe \\\n",
    "                        --out-file     english-auction-03.marlowe \\\n",
    "                        --print-stats"
   ]
  },
  {
   "cell_type": "markdown",
   "id": "a095b545-52ed-4522-b396-707e9c284fe1",
   "metadata": {},
   "source": [
    "The bid has been recorded in the state."
   ]
  },
  {
   "cell_type": "code",
   "execution_count": 32,
   "id": "2ccc5fa8-1c2f-4510-b84a-e1d15a145c8d",
   "metadata": {},
   "outputs": [
    {
     "name": "stdout",
     "output_type": "stream",
     "text": [
      "accounts:\n",
      "- - - role_token: Seller\n",
      "    - currency_symbol: ''\n",
      "      token_name: ''\n",
      "  - 2000000\n",
      "- - - role_token: Seller\n",
      "    - currency_symbol: 76574a57d6a0bc1db5ad534b90ac0aacdad765754eca3f4e7dc7c116\n",
      "      token_name: Globe\n",
      "  - 1\n",
      "boundValues: []\n",
      "choices:\n",
      "- - choice_name: Bid 3\n",
      "    choice_owner:\n",
      "      role_token: Bidder 3\n",
      "  - 5000000\n",
      "minTime: 1655691097000\n"
     ]
    }
   ],
   "source": [
    "jq .state english-auction-03.marlowe | json2yaml"
   ]
  },
  {
   "cell_type": "markdown",
   "id": "ba2a66ea-25f7-4a38-bfab-1eb617412053",
   "metadata": {},
   "source": [
    "### 4. Third bidder deposits 7 Ada\n",
    "\n",
    "The bidder must deposit whatever Ada they just bid, along with the minimum Ada requirement."
   ]
  },
  {
   "cell_type": "code",
   "execution_count": 33,
   "id": "dd95b6e4-862e-456f-853f-3ca050bac7bd",
   "metadata": {},
   "outputs": [
    {
     "name": "stdout",
     "output_type": "stream",
     "text": [
      "7000000\n"
     ]
    }
   ],
   "source": [
    "DELTA_1=$((AMOUNT_1 + $MIN_ADA))\n",
    "echo $DELTA_1"
   ]
  },
  {
   "cell_type": "code",
   "execution_count": 34,
   "id": "c084fd9b-f900-4219-8c03-8e9e9998e2d7",
   "metadata": {},
   "outputs": [
    {
     "name": "stdout",
     "output_type": "stream",
     "text": [
      "\n",
      "Datum size: 765\n"
     ]
    }
   ],
   "source": [
    "marlowe-cli run prepare --deposit-account Role=\"Bidder 3\"         \\\n",
    "                        --deposit-party Role=\"Bidder 3\"           \\\n",
    "                        --deposit-amount $DELTA_1                 \\\n",
    "                        --invalid-before $NOW                     \\\n",
    "                        --invalid-hereafter $LATER                \\\n",
    "                        --marlowe-file english-auction-03.marlowe \\\n",
    "                        --out-file     english-auction-04.marlowe \\\n",
    "                        --print-stats"
   ]
  },
  {
   "cell_type": "markdown",
   "id": "09ad03d5-c3b3-4af2-a3a5-e6d725564101",
   "metadata": {},
   "source": [
    "The third bidder's deposit is in their account."
   ]
  },
  {
   "cell_type": "code",
   "execution_count": 35,
   "id": "25640177-1b7e-4f78-adb0-d03d9d789ae1",
   "metadata": {},
   "outputs": [
    {
     "name": "stdout",
     "output_type": "stream",
     "text": [
      "accounts:\n",
      "- - - role_token: Seller\n",
      "    - currency_symbol: ''\n",
      "      token_name: ''\n",
      "  - 2000000\n",
      "- - - role_token: Seller\n",
      "    - currency_symbol: 76574a57d6a0bc1db5ad534b90ac0aacdad765754eca3f4e7dc7c116\n",
      "      token_name: Globe\n",
      "  - 1\n",
      "- - - role_token: Bidder 3\n",
      "    - currency_symbol: ''\n",
      "      token_name: ''\n",
      "  - 7000000\n",
      "boundValues:\n",
      "- - Highest Bid\n",
      "  - 5000000\n",
      "choices:\n",
      "- - choice_name: Bid 3\n",
      "    choice_owner:\n",
      "      role_token: Bidder 3\n",
      "  - 5000000\n",
      "minTime: 1655691097000\n"
     ]
    }
   ],
   "source": [
    "jq .state english-auction-04.marlowe | json2yaml"
   ]
  },
  {
   "cell_type": "markdown",
   "id": "f40ed246-d5a7-4267-92af-ab17dd47b598",
   "metadata": {},
   "source": [
    "### 5. Second bidder bids 15 Ada"
   ]
  },
  {
   "cell_type": "code",
   "execution_count": 36,
   "id": "9f5c65d1-9ca7-4a8c-ae16-47bafc42e6ad",
   "metadata": {},
   "outputs": [],
   "source": [
    "AMOUNT_2=$((15 * ADA))"
   ]
  },
  {
   "cell_type": "code",
   "execution_count": 37,
   "id": "0fabcadf-b3d8-4282-a1b8-299507ebd18a",
   "metadata": {},
   "outputs": [
    {
     "name": "stdout",
     "output_type": "stream",
     "text": [
      "\n",
      "Datum size: 865\n"
     ]
    }
   ],
   "source": [
    "marlowe-cli run prepare --choice-party Role=\"Bidder 2\"            \\\n",
    "                        --choice-name \"Bid 2\"                     \\\n",
    "                        --choice-number $AMOUNT_2                 \\\n",
    "                        --invalid-before $NOW                     \\\n",
    "                        --invalid-hereafter $LATER                \\\n",
    "                        --marlowe-file english-auction-04.marlowe \\\n",
    "                        --out-file     english-auction-05.marlowe \\\n",
    "                        --print-stats"
   ]
  },
  {
   "cell_type": "markdown",
   "id": "c3574793-318d-48c3-9245-4c21097d7308",
   "metadata": {},
   "source": [
    "The second bid has been recorded."
   ]
  },
  {
   "cell_type": "code",
   "execution_count": 38,
   "id": "d3b9daf1-b12b-447f-8f98-36b96e799d71",
   "metadata": {},
   "outputs": [
    {
     "name": "stdout",
     "output_type": "stream",
     "text": [
      "- - choice_name: Bid 3\n",
      "    choice_owner:\n",
      "      role_token: Bidder 3\n",
      "  - 5000000\n",
      "- - choice_name: Bid 2\n",
      "    choice_owner:\n",
      "      role_token: Bidder 2\n",
      "  - 15000000\n"
     ]
    }
   ],
   "source": [
    "jq .state.choices english-auction-05.marlowe | json2yaml"
   ]
  },
  {
   "cell_type": "markdown",
   "id": "39a97993-f47c-47e8-8b9f-b67e0118bf06",
   "metadata": {
    "tags": []
   },
   "source": [
    "### 6. Second bidder deposits 17 Ada"
   ]
  },
  {
   "cell_type": "code",
   "execution_count": 39,
   "id": "66046287-d012-4bbf-aff4-afcec90bf1d9",
   "metadata": {},
   "outputs": [
    {
     "name": "stdout",
     "output_type": "stream",
     "text": [
      "17000000\n"
     ]
    }
   ],
   "source": [
    "DELTA_2=$((AMOUNT_2 + MIN_ADA))\n",
    "echo $DELTA_2"
   ]
  },
  {
   "cell_type": "code",
   "execution_count": 40,
   "id": "fb7a74e5-8bdd-45e1-8324-8e2ccb107e1e",
   "metadata": {},
   "outputs": [
    {
     "name": "stdout",
     "output_type": "stream",
     "text": [
      "\n",
      "Warnings:\n",
      "  TransactionShadowing \"Highest Bid\" 5000000 15000000\n",
      "Datum size: 821\n"
     ]
    }
   ],
   "source": [
    "marlowe-cli run prepare --deposit-account Role=\"Bidder 2\"         \\\n",
    "                        --deposit-party Role=\"Bidder 2\"           \\\n",
    "                        --deposit-amount $DELTA_2                 \\\n",
    "                        --invalid-before $NOW                     \\\n",
    "                        --invalid-hereafter $LATER                \\\n",
    "                        --marlowe-file english-auction-05.marlowe \\\n",
    "                        --out-file     english-auction-06.marlowe \\\n",
    "                        --print-stats"
   ]
  },
  {
   "cell_type": "markdown",
   "id": "747dabe8-2d29-47c6-bf3a-bc4742254fac",
   "metadata": {},
   "source": [
    "The second bidder's deposit appears in their account."
   ]
  },
  {
   "cell_type": "code",
   "execution_count": 41,
   "id": "22fe8ad0-0d66-460d-950f-8e1d6ffc6fab",
   "metadata": {},
   "outputs": [
    {
     "name": "stdout",
     "output_type": "stream",
     "text": [
      "- - - role_token: Seller\n",
      "    - currency_symbol: ''\n",
      "      token_name: ''\n",
      "  - 2000000\n",
      "- - - role_token: Seller\n",
      "    - currency_symbol: 76574a57d6a0bc1db5ad534b90ac0aacdad765754eca3f4e7dc7c116\n",
      "      token_name: Globe\n",
      "  - 1\n",
      "- - - role_token: Bidder 3\n",
      "    - currency_symbol: ''\n",
      "      token_name: ''\n",
      "  - 7000000\n",
      "- - - role_token: Bidder 2\n",
      "    - currency_symbol: ''\n",
      "      token_name: ''\n",
      "  - 17000000\n"
     ]
    }
   ],
   "source": [
    "jq .state.accounts english-auction-06.marlowe | json2yaml"
   ]
  },
  {
   "cell_type": "markdown",
   "id": "403b9775-9c0f-4972-8505-674542a859e2",
   "metadata": {},
   "source": [
    "### 7. Third bidder bids 25 Ada"
   ]
  },
  {
   "cell_type": "code",
   "execution_count": 42,
   "id": "90ce7f7e-d44e-4b41-a2c6-61165dac8026",
   "metadata": {},
   "outputs": [],
   "source": [
    "AMOUNT_3=$((25 * ADA))"
   ]
  },
  {
   "cell_type": "code",
   "execution_count": 43,
   "id": "4f1d9d95-4805-49bc-af5c-5a200d1616de",
   "metadata": {},
   "outputs": [
    {
     "name": "stdout",
     "output_type": "stream",
     "text": [
      "\n",
      "Datum size: 893\n"
     ]
    }
   ],
   "source": [
    "marlowe-cli run prepare --choice-party Role=\"Bidder 3\"            \\\n",
    "                        --choice-name \"Bid 3\"                     \\\n",
    "                        --choice-number $AMOUNT_3                 \\\n",
    "                        --invalid-before $NOW                     \\\n",
    "                        --invalid-hereafter $LATER                \\\n",
    "                        --marlowe-file english-auction-06.marlowe \\\n",
    "                        --out-file     english-auction-07.marlowe \\\n",
    "                        --print-stats"
   ]
  },
  {
   "cell_type": "markdown",
   "id": "e91993d0-dee2-431b-b2e3-8fc3e765bc47",
   "metadata": {},
   "source": [
    "The record of choices reflects the third bidder's increased bid."
   ]
  },
  {
   "cell_type": "code",
   "execution_count": 44,
   "id": "76fbc093-1525-459f-a4f9-8e81cc909f13",
   "metadata": {},
   "outputs": [
    {
     "name": "stdout",
     "output_type": "stream",
     "text": [
      "- - choice_name: Bid 3\n",
      "    choice_owner:\n",
      "      role_token: Bidder 3\n",
      "  - 25000000\n",
      "- - choice_name: Bid 2\n",
      "    choice_owner:\n",
      "      role_token: Bidder 2\n",
      "  - 15000000\n"
     ]
    }
   ],
   "source": [
    "jq .state.choices english-auction-07.marlowe | json2yaml"
   ]
  },
  {
   "cell_type": "markdown",
   "id": "e90576c2-9364-47ce-bd7c-9da28c1a5d1c",
   "metadata": {},
   "source": [
    "### 8. Third bidder deposits 20 Ada\n",
    "\n",
    "Because there is already 5 Ada in the third bidder's account, they only need to deposit 20 Ada more, not the full 25 Ada that they bid."
   ]
  },
  {
   "cell_type": "code",
   "execution_count": 45,
   "id": "09d44bb3-0c60-4c80-b2ed-7c365cb07a67",
   "metadata": {},
   "outputs": [
    {
     "name": "stdout",
     "output_type": "stream",
     "text": [
      "20000000\n"
     ]
    }
   ],
   "source": [
    "DELTA_3=$((AMOUNT_3 - AMOUNT_1))\n",
    "echo $DELTA_3"
   ]
  },
  {
   "cell_type": "code",
   "execution_count": 46,
   "id": "08ef8a7c-09e3-47a9-9818-d97fcccc010b",
   "metadata": {},
   "outputs": [
    {
     "name": "stdout",
     "output_type": "stream",
     "text": [
      "\n",
      "Warnings:\n",
      "  TransactionShadowing \"Highest Bid\" 15000000 25000000\n",
      "Datum size: 821\n"
     ]
    }
   ],
   "source": [
    "marlowe-cli run prepare --deposit-account Role=\"Bidder 3\"         \\\n",
    "                        --deposit-party Role=\"Bidder 3\"           \\\n",
    "                        --deposit-amount $DELTA_3                 \\\n",
    "                        --invalid-before $NOW                     \\\n",
    "                        --invalid-hereafter $LATER                \\\n",
    "                        --marlowe-file english-auction-07.marlowe \\\n",
    "                        --out-file     english-auction-08.marlowe \\\n",
    "                        --print-stats"
   ]
  },
  {
   "cell_type": "markdown",
   "id": "4c09ccb2-ab30-4780-8519-429ee2a22eb0",
   "metadata": {},
   "source": [
    "The third bidder's account has been updated."
   ]
  },
  {
   "cell_type": "code",
   "execution_count": 47,
   "id": "dc140264-b86e-4789-adf9-4fe78e829e1e",
   "metadata": {},
   "outputs": [
    {
     "name": "stdout",
     "output_type": "stream",
     "text": [
      "- - - role_token: Seller\n",
      "    - currency_symbol: ''\n",
      "      token_name: ''\n",
      "  - 2000000\n",
      "- - - role_token: Seller\n",
      "    - currency_symbol: 76574a57d6a0bc1db5ad534b90ac0aacdad765754eca3f4e7dc7c116\n",
      "      token_name: Globe\n",
      "  - 1\n",
      "- - - role_token: Bidder 3\n",
      "    - currency_symbol: ''\n",
      "      token_name: ''\n",
      "  - 27000000\n",
      "- - - role_token: Bidder 2\n",
      "    - currency_symbol: ''\n",
      "      token_name: ''\n",
      "  - 17000000\n"
     ]
    }
   ],
   "source": [
    "jq .state.accounts english-auction-08.marlowe | json2yaml"
   ]
  },
  {
   "cell_type": "markdown",
   "id": "ed1a02b0-850e-484e-b78c-83a4ee76712c",
   "metadata": {},
   "source": [
    "### 9. First bidder bids 30 Ada"
   ]
  },
  {
   "cell_type": "code",
   "execution_count": 48,
   "id": "a2c5c1a0-9e44-481b-a96d-b6306b641eca",
   "metadata": {},
   "outputs": [],
   "source": [
    "AMOUNT_4=$((30 * ADA))"
   ]
  },
  {
   "cell_type": "code",
   "execution_count": 49,
   "id": "c2c5ae3e-2228-4994-b5fa-90d7c777f98d",
   "metadata": {},
   "outputs": [
    {
     "name": "stdout",
     "output_type": "stream",
     "text": [
      "\n",
      "Datum size: 921\n"
     ]
    }
   ],
   "source": [
    "marlowe-cli run prepare --choice-party Role=\"Bidder 1\"            \\\n",
    "                        --choice-name \"Bid 1\"                     \\\n",
    "                        --choice-number $AMOUNT_4                 \\\n",
    "                        --invalid-before $NOW                     \\\n",
    "                        --invalid-hereafter $LATER                \\\n",
    "                        --marlowe-file english-auction-08.marlowe \\\n",
    "                        --out-file     english-auction-09.marlowe \\\n",
    "                        --print-stats"
   ]
  },
  {
   "cell_type": "code",
   "execution_count": 50,
   "id": "896235f9-2e2b-4e97-8929-fb5507fba044",
   "metadata": {},
   "outputs": [
    {
     "name": "stdout",
     "output_type": "stream",
     "text": [
      "- - choice_name: Bid 3\n",
      "    choice_owner:\n",
      "      role_token: Bidder 3\n",
      "  - 25000000\n",
      "- - choice_name: Bid 2\n",
      "    choice_owner:\n",
      "      role_token: Bidder 2\n",
      "  - 15000000\n",
      "- - choice_name: Bid 1\n",
      "    choice_owner:\n",
      "      role_token: Bidder 1\n",
      "  - 30000000\n"
     ]
    }
   ],
   "source": [
    "jq .state.choices english-auction-09.marlowe | json2yaml"
   ]
  },
  {
   "cell_type": "markdown",
   "id": "2caf5f83-28db-4484-9036-6367ce1270cc",
   "metadata": {},
   "source": [
    "### 10. First bidder deposits 32 Ada"
   ]
  },
  {
   "cell_type": "code",
   "execution_count": 51,
   "id": "638b5615-0f8c-418c-b36b-8d74d38c1a89",
   "metadata": {},
   "outputs": [
    {
     "name": "stdout",
     "output_type": "stream",
     "text": [
      "32000000\n"
     ]
    }
   ],
   "source": [
    "DELTA_4=$((AMOUNT_4 + MIN_ADA))\n",
    "echo $DELTA_4"
   ]
  },
  {
   "cell_type": "code",
   "execution_count": 52,
   "id": "cfa624c9-5df6-4245-8630-47a9047ac989",
   "metadata": {},
   "outputs": [
    {
     "name": "stdout",
     "output_type": "stream",
     "text": [
      "\n",
      "Warnings:\n",
      "  TransactionShadowing \"Highest Bid\" 25000000 30000000\n",
      "Datum size: 877\n"
     ]
    }
   ],
   "source": [
    "marlowe-cli run prepare --deposit-account Role=\"Bidder 1\"         \\\n",
    "                        --deposit-party Role=\"Bidder 1\"           \\\n",
    "                        --deposit-amount $DELTA_4                 \\\n",
    "                        --invalid-before $NOW                     \\\n",
    "                        --invalid-hereafter $LATER                \\\n",
    "                        --marlowe-file english-auction-09.marlowe \\\n",
    "                        --out-file     english-auction-10.marlowe \\\n",
    "                        --print-stats"
   ]
  },
  {
   "cell_type": "code",
   "execution_count": 53,
   "id": "97fd48c9-df2b-4f98-8165-798f028aa8d2",
   "metadata": {},
   "outputs": [
    {
     "name": "stdout",
     "output_type": "stream",
     "text": [
      "- - - role_token: Seller\n",
      "    - currency_symbol: ''\n",
      "      token_name: ''\n",
      "  - 2000000\n",
      "- - - role_token: Seller\n",
      "    - currency_symbol: 76574a57d6a0bc1db5ad534b90ac0aacdad765754eca3f4e7dc7c116\n",
      "      token_name: Globe\n",
      "  - 1\n",
      "- - - role_token: Bidder 3\n",
      "    - currency_symbol: ''\n",
      "      token_name: ''\n",
      "  - 27000000\n",
      "- - - role_token: Bidder 2\n",
      "    - currency_symbol: ''\n",
      "      token_name: ''\n",
      "  - 17000000\n",
      "- - - role_token: Bidder 1\n",
      "    - currency_symbol: ''\n",
      "      token_name: ''\n",
      "  - 32000000\n"
     ]
    }
   ],
   "source": [
    "jq .state.accounts english-auction-10.marlowe | json2yaml"
   ]
  },
  {
   "cell_type": "markdown",
   "id": "d8530909-577d-4c99-9ea1-e5fae9333f43",
   "metadata": {},
   "source": [
    "### 11. Second bidder bids 40 Ada"
   ]
  },
  {
   "cell_type": "code",
   "execution_count": 54,
   "id": "d50ca019-6f06-46f9-8baf-8c53d8a5bef1",
   "metadata": {},
   "outputs": [],
   "source": [
    "AMOUNT_5=$((40 * ADA))"
   ]
  },
  {
   "cell_type": "code",
   "execution_count": 55,
   "id": "b9b06d25-3192-4168-b175-1fa486bd6158",
   "metadata": {},
   "outputs": [
    {
     "name": "stdout",
     "output_type": "stream",
     "text": [
      "\n",
      "Datum size: 949\n"
     ]
    }
   ],
   "source": [
    "marlowe-cli run prepare --choice-party Role=\"Bidder 2\"            \\\n",
    "                        --choice-name \"Bid 2\"                     \\\n",
    "                        --choice-number $AMOUNT_5                 \\\n",
    "                        --invalid-before $NOW                     \\\n",
    "                        --invalid-hereafter $LATER                \\\n",
    "                        --marlowe-file english-auction-10.marlowe \\\n",
    "                        --out-file     english-auction-11.marlowe \\\n",
    "                        --print-stats"
   ]
  },
  {
   "cell_type": "code",
   "execution_count": 56,
   "id": "3b39a20d-99b0-4268-ba72-99e2b7b3e816",
   "metadata": {},
   "outputs": [
    {
     "name": "stdout",
     "output_type": "stream",
     "text": [
      "- - choice_name: Bid 3\n",
      "    choice_owner:\n",
      "      role_token: Bidder 3\n",
      "  - 25000000\n",
      "- - choice_name: Bid 2\n",
      "    choice_owner:\n",
      "      role_token: Bidder 2\n",
      "  - 40000000\n",
      "- - choice_name: Bid 1\n",
      "    choice_owner:\n",
      "      role_token: Bidder 1\n",
      "  - 30000000\n"
     ]
    }
   ],
   "source": [
    "jq .state.choices english-auction-11.marlowe | json2yaml"
   ]
  },
  {
   "cell_type": "markdown",
   "id": "580f9136-e3d8-4e27-8c72-bea0d2e36782",
   "metadata": {},
   "source": [
    "### 12. Second bidder deposits 25 Ada\n",
    "\n",
    "The second bidder had previously deposited 15 Ada, so they only need to deposit 25 Ada more to match their bid of 40 Ada."
   ]
  },
  {
   "cell_type": "code",
   "execution_count": 57,
   "id": "013f9e87-47e4-4723-b0b8-8ee4c95b07fe",
   "metadata": {},
   "outputs": [
    {
     "name": "stdout",
     "output_type": "stream",
     "text": [
      "25000000\n"
     ]
    }
   ],
   "source": [
    "DELTA_5=$((AMOUNT_5 - AMOUNT_2))\n",
    "echo $DELTA_5"
   ]
  },
  {
   "cell_type": "code",
   "execution_count": 58,
   "id": "f0274c5d-10c6-419d-99eb-25161f909dbf",
   "metadata": {},
   "outputs": [
    {
     "name": "stdout",
     "output_type": "stream",
     "text": [
      "\n",
      "Warnings:\n",
      "  TransactionShadowing \"Highest Bid\" 30000000 40000000\n",
      "Datum size: 877\n"
     ]
    }
   ],
   "source": [
    "marlowe-cli run prepare --deposit-account Role=\"Bidder 2\"         \\\n",
    "                        --deposit-party Role=\"Bidder 2\"           \\\n",
    "                        --deposit-amount $DELTA_5                 \\\n",
    "                        --invalid-before $NOW                     \\\n",
    "                        --invalid-hereafter $LATER                \\\n",
    "                        --marlowe-file english-auction-11.marlowe \\\n",
    "                        --out-file     english-auction-12.marlowe \\\n",
    "                        --print-stats"
   ]
  },
  {
   "cell_type": "code",
   "execution_count": 59,
   "id": "735f9deb-64bb-4ce9-86db-b4be1e6299b8",
   "metadata": {},
   "outputs": [
    {
     "name": "stdout",
     "output_type": "stream",
     "text": [
      "- - - role_token: Seller\n",
      "    - currency_symbol: ''\n",
      "      token_name: ''\n",
      "  - 2000000\n",
      "- - - role_token: Seller\n",
      "    - currency_symbol: 76574a57d6a0bc1db5ad534b90ac0aacdad765754eca3f4e7dc7c116\n",
      "      token_name: Globe\n",
      "  - 1\n",
      "- - - role_token: Bidder 3\n",
      "    - currency_symbol: ''\n",
      "      token_name: ''\n",
      "  - 27000000\n",
      "- - - role_token: Bidder 2\n",
      "    - currency_symbol: ''\n",
      "      token_name: ''\n",
      "  - 42000000\n",
      "- - - role_token: Bidder 1\n",
      "    - currency_symbol: ''\n",
      "      token_name: ''\n",
      "  - 32000000\n"
     ]
    }
   ],
   "source": [
    "jq .state.accounts english-auction-12.marlowe | json2yaml"
   ]
  },
  {
   "cell_type": "markdown",
   "id": "6bc10882-0503-469a-9efe-664b34bebc48",
   "metadata": {},
   "source": [
    "### 13. Third bidder bids 50 Ada"
   ]
  },
  {
   "cell_type": "code",
   "execution_count": 60,
   "id": "cc082f15-4302-49eb-aa08-410fc405785d",
   "metadata": {},
   "outputs": [],
   "source": [
    "AMOUNT_6=$((50 * ADA))"
   ]
  },
  {
   "cell_type": "code",
   "execution_count": 61,
   "id": "dfd7da4b-d079-4746-a60b-6cc7c5264773",
   "metadata": {},
   "outputs": [
    {
     "name": "stdout",
     "output_type": "stream",
     "text": [
      "\n",
      "Datum size: 594\n"
     ]
    }
   ],
   "source": [
    "marlowe-cli run prepare --choice-party Role=\"Bidder 3\"            \\\n",
    "                        --choice-name \"Bid 3\"                     \\\n",
    "                        --choice-number $AMOUNT_6                 \\\n",
    "                        --invalid-before $NOW                     \\\n",
    "                        --invalid-hereafter $LATER                \\\n",
    "                        --marlowe-file english-auction-12.marlowe \\\n",
    "                        --out-file     english-auction-13.marlowe \\\n",
    "                        --print-stats"
   ]
  },
  {
   "cell_type": "code",
   "execution_count": 62,
   "id": "9fefac06-be94-45d8-83b3-6d8ca1c22548",
   "metadata": {},
   "outputs": [
    {
     "name": "stdout",
     "output_type": "stream",
     "text": [
      "- - choice_name: Bid 3\n",
      "    choice_owner:\n",
      "      role_token: Bidder 3\n",
      "  - 50000000\n",
      "- - choice_name: Bid 2\n",
      "    choice_owner:\n",
      "      role_token: Bidder 2\n",
      "  - 40000000\n",
      "- - choice_name: Bid 1\n",
      "    choice_owner:\n",
      "      role_token: Bidder 1\n",
      "  - 30000000\n"
     ]
    }
   ],
   "source": [
    "jq .state.choices english-auction-13.marlowe | json2yaml"
   ]
  },
  {
   "cell_type": "markdown",
   "id": "d3e4fd13-5df7-4f5a-b56b-e19a907ee455",
   "metadata": {},
   "source": [
    "### 14. Third bidder deposits 25 Ada, and contract closes\n",
    "\n",
    "The third bidder needs to deposit an additional 25 Ada in order to fulfill their 50 Ada bid. Because this was the last round of bidding, the contract closes and makes payments to the seller and bidders."
   ]
  },
  {
   "cell_type": "code",
   "execution_count": 63,
   "id": "06812b47-7a5c-41d2-907b-4f709023cb30",
   "metadata": {},
   "outputs": [
    {
     "name": "stdout",
     "output_type": "stream",
     "text": [
      "25000000\n"
     ]
    }
   ],
   "source": [
    "DELTA_6=$((AMOUNT_6 - AMOUNT_3))\n",
    "echo $DELTA_6"
   ]
  },
  {
   "cell_type": "code",
   "execution_count": 64,
   "id": "933d7335-e000-46a3-9ec6-771803286c00",
   "metadata": {},
   "outputs": [
    {
     "name": "stdout",
     "output_type": "stream",
     "text": [
      "\n",
      "Warnings:\n",
      "  TransactionShadowing \"Highest Bid\" 40000000 50000000\n",
      "Datum size: 128\n",
      "Payment 1\n",
      "  Acccount: \"Bidder 3\"\n",
      "  Payee: Party \"Seller\"\n",
      "  Ada: 50.000000\n",
      "Payment 2\n",
      "  Acccount: \"Seller\"\n",
      "  Payee: Party \"Bidder 3\"\n",
      "  Ada: 0.000000\n",
      "  76574a57d6a0bc1db5ad534b90ac0aacdad765754eca3f4e7dc7c116.\"Globe\": 1\n",
      "Payment 3\n",
      "  Acccount: \"Seller\"\n",
      "  Payee: Party \"Seller\"\n",
      "  Ada: 2.000000\n",
      "Payment 4\n",
      "  Acccount: \"Bidder 3\"\n",
      "  Payee: Party \"Bidder 3\"\n",
      "  Ada: 2.000000\n",
      "Payment 5\n",
      "  Acccount: \"Bidder 2\"\n",
      "  Payee: Party \"Bidder 2\"\n",
      "  Ada: 42.000000\n",
      "Payment 6\n",
      "  Acccount: \"Bidder 1\"\n",
      "  Payee: Party \"Bidder 1\"\n",
      "  Ada: 32.000000\n"
     ]
    }
   ],
   "source": [
    "marlowe-cli run prepare --deposit-account Role=\"Bidder 3\"         \\\n",
    "                        --deposit-party Role=\"Bidder 3\"           \\\n",
    "                        --deposit-amount $DELTA_6                 \\\n",
    "                        --invalid-before $NOW                     \\\n",
    "                        --invalid-hereafter $LATER                \\\n",
    "                        --marlowe-file english-auction-13.marlowe \\\n",
    "                        --out-file     english-auction-14.marlowe \\\n",
    "                        --print-stats"
   ]
  },
  {
   "cell_type": "markdown",
   "id": "9232052d-a30e-4ccc-b7fa-91d161c751b7",
   "metadata": {},
   "source": [
    "We see that the first and second bidders receive their deposit back, the seller receives the 50 Ada of the winning bid, and the third bidder receives the native token. The accounts are now empty."
   ]
  },
  {
   "cell_type": "code",
   "execution_count": 65,
   "id": "cab7a472-3354-4479-b544-d897c79429b3",
   "metadata": {},
   "outputs": [
    {
     "name": "stdout",
     "output_type": "stream",
     "text": [
      "accounts: []\n",
      "boundValues:\n",
      "- - Highest Bid\n",
      "  - 50000000\n",
      "choices:\n",
      "- - choice_name: Bid 3\n",
      "    choice_owner:\n",
      "      role_token: Bidder 3\n",
      "  - 50000000\n",
      "- - choice_name: Bid 2\n",
      "    choice_owner:\n",
      "      role_token: Bidder 2\n",
      "  - 40000000\n",
      "- - choice_name: Bid 1\n",
      "    choice_owner:\n",
      "      role_token: Bidder 1\n",
      "  - 30000000\n",
      "minTime: 1655691097000\n"
     ]
    }
   ],
   "source": [
    "jq .state english-auction-14.marlowe | json2yaml"
   ]
  },
  {
   "cell_type": "markdown",
   "id": "4e08d299-6b50-422b-835a-a406f516b4fa",
   "metadata": {},
   "source": [
    "The contract has closed."
   ]
  },
  {
   "cell_type": "code",
   "execution_count": 66,
   "id": "f41a96f4-dc6b-4cee-90d1-47ca06fa6c29",
   "metadata": {},
   "outputs": [
    {
     "name": "stdout",
     "output_type": "stream",
     "text": [
      "close\n",
      "...\n"
     ]
    }
   ],
   "source": [
    "jq .contract english-auction-14.marlowe | json2yaml"
   ]
  },
  {
   "cell_type": "markdown",
   "id": "2e9056cb-37c0-48be-a4ad-f67eea380054",
   "metadata": {},
   "source": [
    "## Run the Contract on Chain"
   ]
  },
  {
   "cell_type": "markdown",
   "id": "55a4f05e-be05-4b6d-818f-2947cfa27328",
   "metadata": {},
   "source": [
    "### Find the script addresses"
   ]
  },
  {
   "cell_type": "code",
   "execution_count": 67,
   "id": "44fc3f60-bca6-4c26-ae4c-f1a787d6bf4a",
   "metadata": {},
   "outputs": [
    {
     "name": "stdout",
     "output_type": "stream",
     "text": [
      "addr_test1wruj7yprp4dhw3qlmwg32hayxtg5e69f7fw8d68lhwxml0sy2a5nu\n"
     ]
    }
   ],
   "source": [
    "MARLOWE_ADDRESS=$(jq -r .marloweValidator.address english-auction-01.marlowe)\n",
    "echo $MARLOWE_ADDRESS"
   ]
  },
  {
   "cell_type": "code",
   "execution_count": 68,
   "id": "3eeef892-6f29-4d1d-aabd-f470dee89c8d",
   "metadata": {},
   "outputs": [
    {
     "name": "stdout",
     "output_type": "stream",
     "text": [
      "addr_test1wrsfjxk2xsfk98w766a7872zntr7f0nnc3ujntuqq0ss8wsup09a2\n"
     ]
    }
   ],
   "source": [
    "PAYOUT_ADDRESS=$(jq -r .rolesValidator.address english-auction-01.marlowe)\n",
    "echo $PAYOUT_ADDRESS"
   ]
  },
  {
   "cell_type": "markdown",
   "id": "e2e27090-6f6a-4a72-8551-9e341a1cdf4a",
   "metadata": {},
   "source": [
    "### 1. Create the contract"
   ]
  },
  {
   "cell_type": "code",
   "execution_count": 69,
   "id": "471dadf6-c3f8-457c-b754-795abe85171d",
   "metadata": {},
   "outputs": [
    {
     "name": "stdout",
     "output_type": "stream",
     "text": [
      "\n",
      "Fee: Lovelace 183849\n",
      "Size: 404 / 32768 = 1%\n",
      "Execution units:\n",
      "  Memory: 0 / 30000000 = 0%\n",
      "  Steps: 0 / 10000000000 = 0%\n",
      "TxId \"9a4616b9261614aa2dd88e11d72be5f519052981b53f11f383d975cab5a9337e\"\n"
     ]
    }
   ],
   "source": [
    "TX_1=$(\n",
    "marlowe-cli run execute --tx-in $(marlowe-cli util select --lovelace-only $((50 * ADA)) ${ADDRESS[0]} | sed -e 's/^TxIn \"\\(.*\\)\" (TxIx \\(.*\\))$/\\1#\\2/') \\\n",
    "                        --required-signer ${SKEY[0]} \\\n",
    "                        --change-address ${ADDRESS[0]} \\\n",
    "                        --marlowe-out-file english-auction-01.marlowe \\\n",
    "                        --out-file /dev/null \\\n",
    "                        --submit 600 \\\n",
    "                        --print-stats \\\n",
    "| sed -e 's/^TxId \"\\(.*\\)\"$/\\1/' \\\n",
    ")\n",
    "echo \"TxId \\\"$TX_1\\\"\""
   ]
  },
  {
   "cell_type": "code",
   "execution_count": 70,
   "id": "bc30ee67-4d74-4e8b-8d6a-c138ad2bca30",
   "metadata": {},
   "outputs": [
    {
     "name": "stdout",
     "output_type": "stream",
     "text": [
      "UTxOs at Marlowe validator address:\n",
      "                           TxHash                                 TxIx        Amount\n",
      "--------------------------------------------------------------------------------------\n",
      "9a4616b9261614aa2dd88e11d72be5f519052981b53f11f383d975cab5a9337e     1        2000000 lovelace + TxOutDatumHash ScriptDataInAlonzoEra \"f7b56ece8568464c604eb8e34b46a569a48fa1ea3ecda6e0837a2e8f8ad8efb0\"\n",
      "\n",
      "UTxOs at Seller address:\n",
      "                           TxHash                                 TxIx        Amount\n",
      "--------------------------------------------------------------------------------------\n",
      "3aced0ba2210ae7a4e644d9285c986f08fea126b3cf353305bd85ee0db6e5440     4        10000000 lovelace + 1 d6390543e76fe398ccb5d7e90da5f0548e29759cf94d565d82ad4b19.53656c6c6572 + TxOutDatumNone\n",
      "6db1c167b9f9d04dff91a1d5a5592c3cf210bf224d76b247f5726429d4ce7ca8     0        23811663 lovelace + TxOutDatumNone\n",
      "9a4616b9261614aa2dd88e11d72be5f519052981b53f11f383d975cab5a9337e     0        57631818 lovelace + TxOutDatumNone\n",
      "c271ad69a6231e950a16c10e20b10e2581015fb5e3f6dca91c2d7bbec29590f9     1        2000000 lovelace + 1 76574a57d6a0bc1db5ad534b90ac0aacdad765754eca3f4e7dc7c116.476c6f6265 + TxOutDatumNone\n"
     ]
    }
   ],
   "source": [
    "echo \"UTxOs at Marlowe validator address:\"\n",
    "cardano-cli query utxo --testnet-magic \"$CARDANO_TESTNET_MAGIC\" --address \"$MARLOWE_ADDRESS\"\n",
    "echo\n",
    "echo \"UTxOs at Seller address:\"\n",
    "cardano-cli query utxo --testnet-magic \"$CARDANO_TESTNET_MAGIC\" --address \"${ADDRESS[0]}\""
   ]
  },
  {
   "cell_type": "markdown",
   "id": "0123357f-b1a7-4d06-a3f9-71b3fac0179c",
   "metadata": {},
   "source": [
    "### 2. Seller deposits the native asset"
   ]
  },
  {
   "cell_type": "code",
   "execution_count": 71,
   "id": "94b79890-05bf-4db8-ad72-b868cf7c94a6",
   "metadata": {
    "tags": []
   },
   "outputs": [
    {
     "name": "stdout",
     "output_type": "stream",
     "text": [
      "\n",
      "Fee: Lovelace 1469233\n",
      "Size: 14636 / 32768 = 44%\n",
      "Execution units:\n",
      "  Memory: 7791022 / 30000000 = 25%\n",
      "  Steps: 2721412543 / 10000000000 = 27%\n",
      "TxId \"81205bcec1ca1903e24c8e8e7b0cd53f9312d61bd8bdcd8c829ddefec2145bb7\"\n"
     ]
    }
   ],
   "source": [
    "TX_2=$(\n",
    "marlowe-cli run execute --marlowe-in-file english-auction-01.marlowe \\\n",
    "                        --tx-in-marlowe \"$TX_1#1\" \\\n",
    "                        --tx-in-collateral \"$TX_1#0\"\\\n",
    "                        --tx-in \"$TX_1#0\" \\\n",
    "                        --tx-in $(marlowe-cli util select --asset-only $TOKEN ${ADDRESS[0]} | sed -e 's/^TxIn \"\\(.*\\)\" (TxIx \\(.*\\))$/\\1#\\2/') \\\n",
    "                        --tx-in $(marlowe-cli util select --asset-only \"${ROLE_TOKEN[0]}\" ${ADDRESS[0]} | sed -e 's/^TxIn \"\\(.*\\)\" (TxIx \\(.*\\))$/\\1#\\2/') \\\n",
    "                        --required-signer ${SKEY[0]} \\\n",
    "                        --change-address ${ADDRESS[0]} \\\n",
    "                        --marlowe-out-file english-auction-02.marlowe \\\n",
    "                        --tx-out \"${ADDRESS[0]}+$MIN_ADA+1 ${ROLE_TOKEN[0]}\" \\\n",
    "                        --out-file /dev/null \\\n",
    "                        --submit 600 \\\n",
    "                        --print-stats \\\n",
    "| sed -e 's/^TxId \"\\(.*\\)\"$/\\1/' \\\n",
    ")\n",
    "echo \"TxId \\\"$TX_2\\\"\""
   ]
  },
  {
   "cell_type": "code",
   "execution_count": 72,
   "id": "35612457-37d5-49ff-a003-1bf798370de6",
   "metadata": {},
   "outputs": [
    {
     "name": "stdout",
     "output_type": "stream",
     "text": [
      "UTxOs at Marlowe validator address:\n",
      "                           TxHash                                 TxIx        Amount\n",
      "--------------------------------------------------------------------------------------\n",
      "81205bcec1ca1903e24c8e8e7b0cd53f9312d61bd8bdcd8c829ddefec2145bb7     1        2000000 lovelace + 1 76574a57d6a0bc1db5ad534b90ac0aacdad765754eca3f4e7dc7c116.476c6f6265 + TxOutDatumHash ScriptDataInAlonzoEra \"d6dc7ca600a94eb83802938458b0bfa05a8184df39bee9fb66e444c8c5ef9748\"\n",
      "\n",
      "UTxOs at Seller address:\n",
      "                           TxHash                                 TxIx        Amount\n",
      "--------------------------------------------------------------------------------------\n",
      "6db1c167b9f9d04dff91a1d5a5592c3cf210bf224d76b247f5726429d4ce7ca8     0        23811663 lovelace + TxOutDatumNone\n",
      "81205bcec1ca1903e24c8e8e7b0cd53f9312d61bd8bdcd8c829ddefec2145bb7     0        64662585 lovelace + TxOutDatumNone\n",
      "81205bcec1ca1903e24c8e8e7b0cd53f9312d61bd8bdcd8c829ddefec2145bb7     2        2000000 lovelace + 1 d6390543e76fe398ccb5d7e90da5f0548e29759cf94d565d82ad4b19.53656c6c6572 + TxOutDatumNone\n",
      "81205bcec1ca1903e24c8e8e7b0cd53f9312d61bd8bdcd8c829ddefec2145bb7     3        1500000 lovelace + TxOutDatumHash ScriptDataInAlonzoEra \"cb99b8345b342accd57b44ab4d84f7a52e0ff489017714cdcbca9d4c16c56cd5\"\n"
     ]
    }
   ],
   "source": [
    "echo \"UTxOs at Marlowe validator address:\"\n",
    "cardano-cli query utxo --testnet-magic \"$CARDANO_TESTNET_MAGIC\" --address \"$MARLOWE_ADDRESS\"\n",
    "echo\n",
    "echo \"UTxOs at Seller address:\"\n",
    "cardano-cli query utxo --testnet-magic \"$CARDANO_TESTNET_MAGIC\" --address \"${ADDRESS[0]}\""
   ]
  },
  {
   "cell_type": "markdown",
   "id": "8f713e89-2faa-4ea3-a211-30d15176c9dd",
   "metadata": {},
   "source": [
    "### 3. Third bidder bids 5 Ada"
   ]
  },
  {
   "cell_type": "code",
   "execution_count": 73,
   "id": "9357850b-db8f-4c07-bd79-87ce0cb86352",
   "metadata": {},
   "outputs": [
    {
     "name": "stdout",
     "output_type": "stream",
     "text": [
      "\n",
      "Fee: Lovelace 1652759\n",
      "Size: 15526 / 32768 = 47%\n",
      "Execution units:\n",
      "  Memory: 9408720 / 30000000 = 31%\n",
      "  Steps: 3490740496 / 10000000000 = 34%\n",
      "TxId \"98267509306a38274adf139e52d7b5a69b09154dce5e9a3a324b8077862448bf\"\n"
     ]
    }
   ],
   "source": [
    "TX_3=$(\n",
    "marlowe-cli run execute --marlowe-in-file english-auction-02.marlowe \\\n",
    "                        --tx-in-marlowe \"$TX_2#1\" \\\n",
    "                        --tx-in-collateral $(marlowe-cli util select --lovelace-only $((10 * ADA)) ${ADDRESS[3]} | sed -e 's/^TxIn \"\\(.*\\)\" (TxIx \\(.*\\))$/\\1#\\2/') \\\n",
    "                        --tx-in $(marlowe-cli util select --lovelace-only $((10 * ADA)) ${ADDRESS[3]} | sed -e 's/^TxIn \"\\(.*\\)\" (TxIx \\(.*\\))$/\\1#\\2/') \\\n",
    "                        --tx-in $(marlowe-cli util select --asset-only \"${ROLE_TOKEN[3]}\" ${ADDRESS[3]} | sed -e 's/^TxIn \"\\(.*\\)\" (TxIx \\(.*\\))$/\\1#\\2/') \\\n",
    "                        --required-signer ${SKEY[3]} \\\n",
    "                        --change-address ${ADDRESS[3]} \\\n",
    "                        --marlowe-out-file english-auction-03.marlowe \\\n",
    "                        --tx-out \"${ADDRESS[3]}+$MIN_ADA+1 ${ROLE_TOKEN[3]}\" \\\n",
    "                        --out-file /dev/null \\\n",
    "                        --submit 600 \\\n",
    "                        --print-stats \\\n",
    "| sed -e 's/^TxId \"\\(.*\\)\"$/\\1/' \\\n",
    ")\n",
    "echo \"TxId \\\"$TX_3\\\"\""
   ]
  },
  {
   "cell_type": "code",
   "execution_count": 74,
   "id": "04592ff8-3ce1-4991-afd9-6305d66ec173",
   "metadata": {},
   "outputs": [
    {
     "name": "stdout",
     "output_type": "stream",
     "text": [
      "UTxOs at Marlowe validator address:\n",
      "                           TxHash                                 TxIx        Amount\n",
      "--------------------------------------------------------------------------------------\n",
      "98267509306a38274adf139e52d7b5a69b09154dce5e9a3a324b8077862448bf     1        2000000 lovelace + 1 76574a57d6a0bc1db5ad534b90ac0aacdad765754eca3f4e7dc7c116.476c6f6265 + TxOutDatumHash ScriptDataInAlonzoEra \"4281ced8013507068adb219e9d714250e78f0c0e50550d35be40e9a0bce62ac7\"\n",
      "\n",
      "UTxOs at Bidder 3 address:\n",
      "                           TxHash                                 TxIx        Amount\n",
      "--------------------------------------------------------------------------------------\n",
      "98267509306a38274adf139e52d7b5a69b09154dce5e9a3a324b8077862448bf     0        96847241 lovelace + TxOutDatumNone\n",
      "98267509306a38274adf139e52d7b5a69b09154dce5e9a3a324b8077862448bf     2        2000000 lovelace + 1 d6390543e76fe398ccb5d7e90da5f0548e29759cf94d565d82ad4b19.4269646465722033 + TxOutDatumNone\n",
      "98267509306a38274adf139e52d7b5a69b09154dce5e9a3a324b8077862448bf     3        1500000 lovelace + TxOutDatumHash ScriptDataInAlonzoEra \"0a02d6a07093f34b520bfd01290196ec0dc77ba1ada88c7f41eeebc84b423f16\"\n"
     ]
    }
   ],
   "source": [
    "echo \"UTxOs at Marlowe validator address:\"\n",
    "cardano-cli query utxo --testnet-magic \"$CARDANO_TESTNET_MAGIC\" --address \"$MARLOWE_ADDRESS\"\n",
    "echo\n",
    "echo \"UTxOs at ${ROLE[3]} address:\"\n",
    "cardano-cli query utxo --testnet-magic \"$CARDANO_TESTNET_MAGIC\" --address \"${ADDRESS[3]}\""
   ]
  },
  {
   "cell_type": "markdown",
   "id": "a6245b9c-d2cf-4d23-950b-2e0f29cea579",
   "metadata": {},
   "source": [
    "### 4. Third bidder deposits 5 Ada"
   ]
  },
  {
   "cell_type": "code",
   "execution_count": 75,
   "id": "516a209a-b775-4346-af57-86e833ea58f2",
   "metadata": {},
   "outputs": [
    {
     "name": "stdout",
     "output_type": "stream",
     "text": [
      "\n",
      "Fee: Lovelace 1692487\n",
      "Size: 15495 / 32768 = 47%\n",
      "Execution units:\n",
      "  Memory: 9937624 / 30000000 = 33%\n",
      "  Steps: 3575768461 / 10000000000 = 35%\n",
      "TxId \"0317360099ef0b75398781af958c4365fb4ca2ccce4aa54b1e08f32240c3ef19\"\n"
     ]
    }
   ],
   "source": [
    "TX_4=$(\n",
    "marlowe-cli run execute --marlowe-in-file english-auction-03.marlowe \\\n",
    "                        --tx-in-marlowe \"$TX_3#1\" \\\n",
    "                        --tx-in-collateral \"$TX_3#0\" \\\n",
    "                        --tx-in \"$TX_3#0\" \\\n",
    "                        --tx-in \"$TX_3#3\" \\\n",
    "                        --tx-in \"$TX_3#2\" \\\n",
    "                        --required-signer ${SKEY[3]} \\\n",
    "                        --change-address ${ADDRESS[3]} \\\n",
    "                        --marlowe-out-file english-auction-04.marlowe \\\n",
    "                        --tx-out \"${ADDRESS[3]}+$MIN_ADA+1 ${ROLE_TOKEN[3]}\" \\\n",
    "                        --out-file /dev/null \\\n",
    "                        --submit 600 \\\n",
    "                        --print-stats \\\n",
    "| sed -e 's/^TxId \"\\(.*\\)\"$/\\1/' \\\n",
    ")\n",
    "echo \"TxId \\\"$TX_4\\\"\""
   ]
  },
  {
   "cell_type": "code",
   "execution_count": 76,
   "id": "1b0b76ce-28b0-4657-9df1-433e224a9198",
   "metadata": {},
   "outputs": [
    {
     "name": "stdout",
     "output_type": "stream",
     "text": [
      "UTxOs at Marlowe validator address:\n",
      "                           TxHash                                 TxIx        Amount\n",
      "--------------------------------------------------------------------------------------\n",
      "0317360099ef0b75398781af958c4365fb4ca2ccce4aa54b1e08f32240c3ef19     1        9000000 lovelace + 1 76574a57d6a0bc1db5ad534b90ac0aacdad765754eca3f4e7dc7c116.476c6f6265 + TxOutDatumHash ScriptDataInAlonzoEra \"11a2884cf76ec09dd6929a5ce8607afdf2e5af648aceace23ac7670dbb80aaf8\"\n",
      "\n",
      "UTxOs at Bidder 3 address:\n",
      "                           TxHash                                 TxIx        Amount\n",
      "--------------------------------------------------------------------------------------\n",
      "0317360099ef0b75398781af958c4365fb4ca2ccce4aa54b1e08f32240c3ef19     0        88154754 lovelace + TxOutDatumNone\n",
      "0317360099ef0b75398781af958c4365fb4ca2ccce4aa54b1e08f32240c3ef19     2        2000000 lovelace + 1 d6390543e76fe398ccb5d7e90da5f0548e29759cf94d565d82ad4b19.4269646465722033 + TxOutDatumNone\n",
      "0317360099ef0b75398781af958c4365fb4ca2ccce4aa54b1e08f32240c3ef19     3        1500000 lovelace + TxOutDatumHash ScriptDataInAlonzoEra \"b891d4f4ba11e2113154a1d7c56ad00ebbf4ee2e03ffdd78b337cf0d1c11806a\"\n"
     ]
    }
   ],
   "source": [
    "echo \"UTxOs at Marlowe validator address:\"\n",
    "cardano-cli query utxo --testnet-magic \"$CARDANO_TESTNET_MAGIC\" --address \"$MARLOWE_ADDRESS\"\n",
    "echo\n",
    "echo \"UTxOs at ${ROLE[3]} address:\"\n",
    "cardano-cli query utxo --testnet-magic \"$CARDANO_TESTNET_MAGIC\" --address \"${ADDRESS[3]}\""
   ]
  },
  {
   "cell_type": "markdown",
   "id": "3d15291d-54b1-4e43-9ccb-48ab6dbf0d35",
   "metadata": {},
   "source": [
    "### 5. Second bidder bids 15 Ada"
   ]
  },
  {
   "cell_type": "code",
   "execution_count": 77,
   "id": "0ede626e-0564-44ce-bb21-12af1badd905",
   "metadata": {},
   "outputs": [
    {
     "name": "stdout",
     "output_type": "stream",
     "text": [
      "\n",
      "Fee: Lovelace 1848768\n",
      "Size: 16252 / 32768 = 49%\n",
      "Execution units:\n",
      "  Memory: 11257826 / 30000000 = 37%\n",
      "  Steps: 4286461465 / 10000000000 = 42%\n",
      "TxId \"431ca4191e4f3bf8ade331743c4b3558786afde4f5558bb63fd76a596838b054\"\n"
     ]
    }
   ],
   "source": [
    "TX_5=$(\n",
    "marlowe-cli run execute --marlowe-in-file english-auction-04.marlowe \\\n",
    "                        --tx-in-marlowe \"$TX_4#1\" \\\n",
    "                        --tx-in-collateral $(marlowe-cli util select --lovelace-only $((10 * ADA)) ${ADDRESS[2]} | sed -e 's/^TxIn \"\\(.*\\)\" (TxIx \\(.*\\))$/\\1#\\2/') \\\n",
    "                        --tx-in $(marlowe-cli util select --lovelace-only $((10 * ADA)) ${ADDRESS[2]} | sed -e 's/^TxIn \"\\(.*\\)\" (TxIx \\(.*\\))$/\\1#\\2/') \\\n",
    "                        --tx-in $(marlowe-cli util select --asset-only \"${ROLE_TOKEN[2]}\" ${ADDRESS[2]} | sed -e 's/^TxIn \"\\(.*\\)\" (TxIx \\(.*\\))$/\\1#\\2/') \\\n",
    "                        --required-signer ${SKEY[2]} \\\n",
    "                        --change-address ${ADDRESS[2]} \\\n",
    "                        --marlowe-out-file english-auction-05.marlowe \\\n",
    "                        --tx-out \"${ADDRESS[2]}+$MIN_ADA+1 ${ROLE_TOKEN[2]}\" \\\n",
    "                        --out-file /dev/null \\\n",
    "                        --submit 600 \\\n",
    "                        --print-stats \\\n",
    "| sed -e 's/^TxId \"\\(.*\\)\"$/\\1/' \\\n",
    ")\n",
    "echo \"TxId \\\"$TX_5\\\"\""
   ]
  },
  {
   "cell_type": "code",
   "execution_count": 78,
   "id": "dc8f3a05-06d6-4ef9-9c91-c9457f9ee83b",
   "metadata": {},
   "outputs": [
    {
     "name": "stdout",
     "output_type": "stream",
     "text": [
      "UTxOs at Marlowe validator address:\n",
      "                           TxHash                                 TxIx        Amount\n",
      "--------------------------------------------------------------------------------------\n",
      "431ca4191e4f3bf8ade331743c4b3558786afde4f5558bb63fd76a596838b054     1        9000000 lovelace + 1 76574a57d6a0bc1db5ad534b90ac0aacdad765754eca3f4e7dc7c116.476c6f6265 + TxOutDatumHash ScriptDataInAlonzoEra \"3d29f2cc6abe998fa44bea7581f9ab6375f58853b81d655831926a4cb8ed8b79\"\n",
      "\n",
      "UTxOs at Bidder 2 address:\n",
      "                           TxHash                                 TxIx        Amount\n",
      "--------------------------------------------------------------------------------------\n",
      "431ca4191e4f3bf8ade331743c4b3558786afde4f5558bb63fd76a596838b054     0        96651232 lovelace + TxOutDatumNone\n",
      "431ca4191e4f3bf8ade331743c4b3558786afde4f5558bb63fd76a596838b054     2        2000000 lovelace + 1 d6390543e76fe398ccb5d7e90da5f0548e29759cf94d565d82ad4b19.4269646465722032 + TxOutDatumNone\n",
      "431ca4191e4f3bf8ade331743c4b3558786afde4f5558bb63fd76a596838b054     3        1500000 lovelace + TxOutDatumHash ScriptDataInAlonzoEra \"a97b503b9ae9e8139f21886c7a9d758229375ca161343752c3a502dd55cd52f7\"\n"
     ]
    }
   ],
   "source": [
    "echo \"UTxOs at Marlowe validator address:\"\n",
    "cardano-cli query utxo --testnet-magic \"$CARDANO_TESTNET_MAGIC\" --address \"$MARLOWE_ADDRESS\"\n",
    "echo\n",
    "echo \"UTxOs at ${ROLE[2]} address:\"\n",
    "cardano-cli query utxo --testnet-magic \"$CARDANO_TESTNET_MAGIC\" --address \"${ADDRESS[2]}\""
   ]
  },
  {
   "cell_type": "markdown",
   "id": "0de2a95b-65f8-44fd-a5e9-f37e1222a42e",
   "metadata": {},
   "source": [
    "### 6. Second bidder deposits 15 Ada"
   ]
  },
  {
   "cell_type": "code",
   "execution_count": 79,
   "id": "ada5076a-3052-4412-8a96-faec777429e8",
   "metadata": {},
   "outputs": [
    {
     "name": "stdout",
     "output_type": "stream",
     "text": [
      "\n",
      "Fee: Lovelace 1782938\n",
      "Size: 15771 / 32768 = 48%\n",
      "Execution units:\n",
      "  Memory: 10880594 / 30000000 = 36%\n",
      "  Steps: 3907210910 / 10000000000 = 39%\n",
      "TxId \"c24b821bc19a303990c65b8e2515b9ff759670792907744de2e2b4eb476dbaf0\"\n"
     ]
    }
   ],
   "source": [
    "TX_6=$(\n",
    "marlowe-cli run execute --marlowe-in-file english-auction-05.marlowe \\\n",
    "                        --tx-in-marlowe \"$TX_5#1\" \\\n",
    "                        --tx-in-collateral \"$TX_5#0\" \\\n",
    "                        --tx-in \"$TX_5#0\" \\\n",
    "                        --tx-in \"$TX_5#3\" \\\n",
    "                        --tx-in \"$TX_5#2\" \\\n",
    "                        --required-signer ${SKEY[2]} \\\n",
    "                        --change-address ${ADDRESS[2]} \\\n",
    "                        --marlowe-out-file english-auction-06.marlowe \\\n",
    "                        --tx-out \"${ADDRESS[2]}+$MIN_ADA+1 ${ROLE_TOKEN[2]}\" \\\n",
    "                        --out-file /dev/null \\\n",
    "                        --submit 600 \\\n",
    "                        --print-stats \\\n",
    "| sed -e 's/^TxId \"\\(.*\\)\"$/\\1/' \\\n",
    ")\n",
    "echo \"TxId \\\"$TX_6\\\"\""
   ]
  },
  {
   "cell_type": "code",
   "execution_count": 80,
   "id": "f4683c73-f04b-48d8-bde5-7af29b9eff02",
   "metadata": {},
   "outputs": [
    {
     "name": "stdout",
     "output_type": "stream",
     "text": [
      "UTxOs at Marlowe validator address:\n",
      "                           TxHash                                 TxIx        Amount\n",
      "--------------------------------------------------------------------------------------\n",
      "c24b821bc19a303990c65b8e2515b9ff759670792907744de2e2b4eb476dbaf0     1        26000000 lovelace + 1 76574a57d6a0bc1db5ad534b90ac0aacdad765754eca3f4e7dc7c116.476c6f6265 + TxOutDatumHash ScriptDataInAlonzoEra \"69f2e1ab32b5652b65c6885e33b2aeada51d28be6ca6de3f5a48f96a93f20fd7\"\n",
      "\n",
      "UTxOs at Bidder 2 address:\n",
      "                           TxHash                                 TxIx        Amount\n",
      "--------------------------------------------------------------------------------------\n",
      "c24b821bc19a303990c65b8e2515b9ff759670792907744de2e2b4eb476dbaf0     0        77868294 lovelace + TxOutDatumNone\n",
      "c24b821bc19a303990c65b8e2515b9ff759670792907744de2e2b4eb476dbaf0     2        2000000 lovelace + 1 d6390543e76fe398ccb5d7e90da5f0548e29759cf94d565d82ad4b19.4269646465722032 + TxOutDatumNone\n",
      "c24b821bc19a303990c65b8e2515b9ff759670792907744de2e2b4eb476dbaf0     3        1500000 lovelace + TxOutDatumHash ScriptDataInAlonzoEra \"c082dc60ea640117d1ffa8bc8cef066187672e4383abfd4ad8948e08f901fdf0\"\n"
     ]
    }
   ],
   "source": [
    "echo \"UTxOs at Marlowe validator address:\"\n",
    "cardano-cli query utxo --testnet-magic \"$CARDANO_TESTNET_MAGIC\" --address \"$MARLOWE_ADDRESS\"\n",
    "echo\n",
    "echo \"UTxOs at ${ROLE[2]} address:\"\n",
    "cardano-cli query utxo --testnet-magic \"$CARDANO_TESTNET_MAGIC\" --address \"${ADDRESS[2]}\""
   ]
  },
  {
   "cell_type": "markdown",
   "id": "3d18bd2c-c66a-4a8a-b217-c03f8139949c",
   "metadata": {},
   "source": [
    "### 7. Third bidder bids 25 Ada"
   ]
  },
  {
   "cell_type": "code",
   "execution_count": 81,
   "id": "95d4f687-6428-4358-9d53-fb0fb5793676",
   "metadata": {},
   "outputs": [
    {
     "name": "stdout",
     "output_type": "stream",
     "text": [
      "\n",
      "Fee: Lovelace 1961496\n",
      "Size: 16376 / 32768 = 49%\n",
      "Execution units:\n",
      "  Memory: 12528882 / 30000000 = 41%\n",
      "  Steps: 4695449193 / 10000000000 = 46%\n",
      "TxId \"8630155b4a57abc54c0206b62e4abed0e82ee70304e79c0345d611032d787d8e\"\n"
     ]
    }
   ],
   "source": [
    "TX_7=$(\n",
    "marlowe-cli run execute --marlowe-in-file english-auction-06.marlowe \\\n",
    "                        --tx-in-marlowe \"$TX_6#1\" \\\n",
    "                        --tx-in-collateral \"$TX_4#0\" \\\n",
    "                        --tx-in \"$TX_4#0\" \\\n",
    "                        --tx-in \"$TX_4#3\" \\\n",
    "                        --tx-in \"$TX_4#2\" \\\n",
    "                        --required-signer ${SKEY[3]} \\\n",
    "                        --change-address ${ADDRESS[3]} \\\n",
    "                        --marlowe-out-file english-auction-07.marlowe \\\n",
    "                        --tx-out \"${ADDRESS[3]}+$MIN_ADA+1 ${ROLE_TOKEN[3]}\" \\\n",
    "                        --out-file /dev/null \\\n",
    "                        --submit 600 \\\n",
    "                        --print-stats \\\n",
    "| sed -e 's/^TxId \"\\(.*\\)\"$/\\1/' \\\n",
    ")\n",
    "echo \"TxId \\\"$TX_7\\\"\""
   ]
  },
  {
   "cell_type": "code",
   "execution_count": 82,
   "id": "6fc2835c-2783-404c-b5a0-a18eb8850fd1",
   "metadata": {},
   "outputs": [
    {
     "name": "stdout",
     "output_type": "stream",
     "text": [
      "UTxOs at Marlowe validator address:\n",
      "                           TxHash                                 TxIx        Amount\n",
      "--------------------------------------------------------------------------------------\n",
      "8630155b4a57abc54c0206b62e4abed0e82ee70304e79c0345d611032d787d8e     1        26000000 lovelace + 1 76574a57d6a0bc1db5ad534b90ac0aacdad765754eca3f4e7dc7c116.476c6f6265 + TxOutDatumHash ScriptDataInAlonzoEra \"8714c69ae411f9e75c2c136504441cc3d7ab79f36bf38cbb48322ce8456fe5f5\"\n",
      "\n",
      "UTxOs at Bidder 3 address:\n",
      "                           TxHash                                 TxIx        Amount\n",
      "--------------------------------------------------------------------------------------\n",
      "8630155b4a57abc54c0206b62e4abed0e82ee70304e79c0345d611032d787d8e     0        86193258 lovelace + TxOutDatumNone\n",
      "8630155b4a57abc54c0206b62e4abed0e82ee70304e79c0345d611032d787d8e     2        2000000 lovelace + 1 d6390543e76fe398ccb5d7e90da5f0548e29759cf94d565d82ad4b19.4269646465722033 + TxOutDatumNone\n",
      "8630155b4a57abc54c0206b62e4abed0e82ee70304e79c0345d611032d787d8e     3        1500000 lovelace + TxOutDatumHash ScriptDataInAlonzoEra \"908a16d2c084aa83b18429aee8b8be0c727c5f0298162272c096623f3736086c\"\n"
     ]
    }
   ],
   "source": [
    "echo \"UTxOs at Marlowe validator address:\"\n",
    "cardano-cli query utxo --testnet-magic \"$CARDANO_TESTNET_MAGIC\" --address \"$MARLOWE_ADDRESS\"\n",
    "echo\n",
    "echo \"UTxOs at ${ROLE[3]} address:\"\n",
    "cardano-cli query utxo --testnet-magic \"$CARDANO_TESTNET_MAGIC\" --address \"${ADDRESS[3]}\""
   ]
  },
  {
   "cell_type": "markdown",
   "id": "f3efb3f8-eaa9-4ca0-99b2-cae7e28ebe27",
   "metadata": {},
   "source": [
    "### 8. Third bidder deposits 20 Ada"
   ]
  },
  {
   "cell_type": "code",
   "execution_count": 83,
   "id": "4ab06cb8-70cf-4157-bbe1-c1f0984e5b1b",
   "metadata": {},
   "outputs": [
    {
     "name": "stdout",
     "output_type": "stream",
     "text": [
      "\n",
      "Fee: Lovelace 1817429\n",
      "Size: 15799 / 32768 = 48%\n",
      "Execution units:\n",
      "  Memory: 11294092 / 30000000 = 37%\n",
      "  Steps: 4037591190 / 10000000000 = 40%\n",
      "TxId \"3ea7fdba25d3bdd067ee9d256e69cec3fc8c3b06faacccf0953c4ece8b0d9334\"\n"
     ]
    }
   ],
   "source": [
    "TX_8=$(\n",
    "marlowe-cli run execute --marlowe-in-file english-auction-07.marlowe \\\n",
    "                        --tx-in-marlowe \"$TX_7#1\" \\\n",
    "                        --tx-in-collateral \"$TX_7#0\" \\\n",
    "                        --tx-in \"$TX_7#0\" \\\n",
    "                        --tx-in \"$TX_7#3\" \\\n",
    "                        --tx-in \"$TX_7#2\" \\\n",
    "                        --required-signer ${SKEY[3]} \\\n",
    "                        --change-address ${ADDRESS[3]} \\\n",
    "                        --marlowe-out-file english-auction-08.marlowe \\\n",
    "                        --tx-out \"${ADDRESS[3]}+$MIN_ADA+1 ${ROLE_TOKEN[3]}\" \\\n",
    "                        --out-file /dev/null \\\n",
    "                        --submit 600 \\\n",
    "                        --print-stats \\\n",
    "| sed -e 's/^TxId \"\\(.*\\)\"$/\\1/' \\\n",
    ")\n",
    "echo \"TxId \\\"$TX_8\\\"\""
   ]
  },
  {
   "cell_type": "code",
   "execution_count": 84,
   "id": "8ace3f2b-a146-46ca-bf22-5c8fa988fb2b",
   "metadata": {},
   "outputs": [
    {
     "name": "stdout",
     "output_type": "stream",
     "text": [
      "UTxOs at Marlowe validator address:\n",
      "                           TxHash                                 TxIx        Amount\n",
      "--------------------------------------------------------------------------------------\n",
      "3ea7fdba25d3bdd067ee9d256e69cec3fc8c3b06faacccf0953c4ece8b0d9334     1        46000000 lovelace + 1 76574a57d6a0bc1db5ad534b90ac0aacdad765754eca3f4e7dc7c116.476c6f6265 + TxOutDatumHash ScriptDataInAlonzoEra \"8df1637aba207e51d711784b74e1f9141e7d996c00ee2aec8ddaed4d76bee456\"\n",
      "\n",
      "UTxOs at Bidder 3 address:\n",
      "                           TxHash                                 TxIx        Amount\n",
      "--------------------------------------------------------------------------------------\n",
      "3ea7fdba25d3bdd067ee9d256e69cec3fc8c3b06faacccf0953c4ece8b0d9334     0        64375829 lovelace + TxOutDatumNone\n",
      "3ea7fdba25d3bdd067ee9d256e69cec3fc8c3b06faacccf0953c4ece8b0d9334     2        2000000 lovelace + 1 d6390543e76fe398ccb5d7e90da5f0548e29759cf94d565d82ad4b19.4269646465722033 + TxOutDatumNone\n",
      "3ea7fdba25d3bdd067ee9d256e69cec3fc8c3b06faacccf0953c4ece8b0d9334     3        1500000 lovelace + TxOutDatumHash ScriptDataInAlonzoEra \"d7ff803782225cfaccc2c3f416dfe145e5d016886c88fded1a2122d603a9ff03\"\n"
     ]
    }
   ],
   "source": [
    "echo \"UTxOs at Marlowe validator address:\"\n",
    "cardano-cli query utxo --testnet-magic \"$CARDANO_TESTNET_MAGIC\" --address \"$MARLOWE_ADDRESS\"\n",
    "echo\n",
    "echo \"UTxOs at ${ROLE[3]} address:\"\n",
    "cardano-cli query utxo --testnet-magic \"$CARDANO_TESTNET_MAGIC\" --address \"${ADDRESS[3]}\""
   ]
  },
  {
   "cell_type": "markdown",
   "id": "81115656-3d27-4eb5-80ff-803b57ab7744",
   "metadata": {},
   "source": [
    "### 9. First bidder bids 30 Ada"
   ]
  },
  {
   "cell_type": "code",
   "execution_count": 85,
   "id": "86cb82ec-2220-431c-9ebe-99bf258b80d9",
   "metadata": {},
   "outputs": [
    {
     "name": "stdout",
     "output_type": "stream",
     "text": [
      "\n",
      "Fee: Lovelace 1897856\n",
      "Size: 16368 / 32768 = 49%\n",
      "Execution units:\n",
      "  Memory: 11798586 / 30000000 = 39%\n",
      "  Steps: 4463745661 / 10000000000 = 44%\n",
      "TxId \"7b634f7246089bbb63ab608c7689ee027d0f44b6d3f82216e57506edc7da4052\"\n"
     ]
    }
   ],
   "source": [
    "TX_9=$(\n",
    "marlowe-cli run execute --marlowe-in-file english-auction-08.marlowe \\\n",
    "                        --tx-in-marlowe \"$TX_8#1\" \\\n",
    "                        --tx-in-collateral $(marlowe-cli util select --lovelace-only $((10 * ADA)) ${ADDRESS[1]} | sed -e 's/^TxIn \"\\(.*\\)\" (TxIx \\(.*\\))$/\\1#\\2/') \\\n",
    "                        --tx-in $(marlowe-cli util select --lovelace-only $((10 * ADA)) ${ADDRESS[1]} | sed -e 's/^TxIn \"\\(.*\\)\" (TxIx \\(.*\\))$/\\1#\\2/') \\\n",
    "                        --tx-in $(marlowe-cli util select --asset-only \"${ROLE_TOKEN[1]}\" ${ADDRESS[1]} | sed -e 's/^TxIn \"\\(.*\\)\" (TxIx \\(.*\\))$/\\1#\\2/') \\\n",
    "                        --required-signer ${SKEY[1]} \\\n",
    "                        --change-address ${ADDRESS[1]} \\\n",
    "                        --marlowe-out-file english-auction-09.marlowe \\\n",
    "                        --tx-out \"${ADDRESS[1]}+$MIN_ADA+1 ${ROLE_TOKEN[1]}\" \\\n",
    "                        --out-file /dev/null \\\n",
    "                        --submit 600 \\\n",
    "                        --print-stats \\\n",
    "| sed -e 's/^TxId \"\\(.*\\)\"$/\\1/' \\\n",
    ")\n",
    "echo \"TxId \\\"$TX_9\\\"\""
   ]
  },
  {
   "cell_type": "code",
   "execution_count": 86,
   "id": "f0268bd1-f7b8-4c32-a651-749b0a2cac6d",
   "metadata": {},
   "outputs": [
    {
     "name": "stdout",
     "output_type": "stream",
     "text": [
      "UTxOs at Marlowe validator address:\n",
      "                           TxHash                                 TxIx        Amount\n",
      "--------------------------------------------------------------------------------------\n",
      "7b634f7246089bbb63ab608c7689ee027d0f44b6d3f82216e57506edc7da4052     1        46000000 lovelace + 1 76574a57d6a0bc1db5ad534b90ac0aacdad765754eca3f4e7dc7c116.476c6f6265 + TxOutDatumHash ScriptDataInAlonzoEra \"d389d87f09627bdb508ede61115da1a75b2792eec7eb9ae1e93829d731e2f69b\"\n",
      "\n",
      "UTxOs at Bidder 1 address:\n",
      "                           TxHash                                 TxIx        Amount\n",
      "--------------------------------------------------------------------------------------\n",
      "7b634f7246089bbb63ab608c7689ee027d0f44b6d3f82216e57506edc7da4052     0        96602144 lovelace + TxOutDatumNone\n",
      "7b634f7246089bbb63ab608c7689ee027d0f44b6d3f82216e57506edc7da4052     2        2000000 lovelace + 1 d6390543e76fe398ccb5d7e90da5f0548e29759cf94d565d82ad4b19.4269646465722031 + TxOutDatumNone\n",
      "7b634f7246089bbb63ab608c7689ee027d0f44b6d3f82216e57506edc7da4052     3        1500000 lovelace + TxOutDatumHash ScriptDataInAlonzoEra \"bb0fdcf14c004ee7531b549fef51d58a7543e4183c531d1f3546bc1dd6a7f432\"\n"
     ]
    }
   ],
   "source": [
    "echo \"UTxOs at Marlowe validator address:\"\n",
    "cardano-cli query utxo --testnet-magic \"$CARDANO_TESTNET_MAGIC\" --address \"$MARLOWE_ADDRESS\"\n",
    "echo\n",
    "echo \"UTxOs at ${ROLE[1]} address:\"\n",
    "cardano-cli query utxo --testnet-magic \"$CARDANO_TESTNET_MAGIC\" --address \"${ADDRESS[1]}\""
   ]
  },
  {
   "cell_type": "markdown",
   "id": "887df02f-ec40-47b4-b346-238522ca59a2",
   "metadata": {},
   "source": [
    "### 10. First bidder deposits 30 Ada"
   ]
  },
  {
   "cell_type": "code",
   "execution_count": 87,
   "id": "db941db0-bcf8-4847-87b5-171338f839e5",
   "metadata": {},
   "outputs": [
    {
     "name": "stdout",
     "output_type": "stream",
     "text": [
      "\n",
      "Fee: Lovelace 1830860\n",
      "Size: 15883 / 32768 = 48%\n",
      "Execution units:\n",
      "  Memory: 11409160 / 30000000 = 38%\n",
      "  Steps: 4080529510 / 10000000000 = 40%\n",
      "TxId \"6f3cfc1753ca162c8504a3650b951aa00a24000bd50797f753c9208d234ebb37\"\n"
     ]
    }
   ],
   "source": [
    "TX_10=$(\n",
    "marlowe-cli run execute --marlowe-in-file english-auction-09.marlowe \\\n",
    "                        --tx-in-marlowe \"$TX_9#1\" \\\n",
    "                        --tx-in-collateral \"$TX_9#0\" \\\n",
    "                        --tx-in \"$TX_9#0\" \\\n",
    "                        --tx-in \"$TX_9#3\" \\\n",
    "                        --tx-in \"$TX_9#2\" \\\n",
    "                        --required-signer ${SKEY[1]} \\\n",
    "                        --change-address ${ADDRESS[1]} \\\n",
    "                        --marlowe-out-file english-auction-10.marlowe \\\n",
    "                        --tx-out \"${ADDRESS[1]}+$MIN_ADA+1 ${ROLE_TOKEN[1]}\" \\\n",
    "                        --out-file /dev/null \\\n",
    "                        --submit 600 \\\n",
    "                        --print-stats \\\n",
    "| sed -e 's/^TxId \"\\(.*\\)\"$/\\1/' \\\n",
    ")\n",
    "echo \"TxId \\\"$TX_10\\\"\""
   ]
  },
  {
   "cell_type": "code",
   "execution_count": 88,
   "id": "2d2c1d22-53e6-4aec-9954-2fed1085a77d",
   "metadata": {},
   "outputs": [
    {
     "name": "stdout",
     "output_type": "stream",
     "text": [
      "UTxOs at Marlowe validator address:\n",
      "                           TxHash                                 TxIx        Amount\n",
      "--------------------------------------------------------------------------------------\n",
      "6f3cfc1753ca162c8504a3650b951aa00a24000bd50797f753c9208d234ebb37     1        78000000 lovelace + 1 76574a57d6a0bc1db5ad534b90ac0aacdad765754eca3f4e7dc7c116.476c6f6265 + TxOutDatumHash ScriptDataInAlonzoEra \"57faa637ef5ef5823b787ca1d7ce82a03a422a3618065954d7ea0e2ff5c66b3b\"\n",
      "\n",
      "UTxOs at Bidder 1 address:\n",
      "                           TxHash                                 TxIx        Amount\n",
      "--------------------------------------------------------------------------------------\n",
      "6f3cfc1753ca162c8504a3650b951aa00a24000bd50797f753c9208d234ebb37     0        62771284 lovelace + TxOutDatumNone\n",
      "6f3cfc1753ca162c8504a3650b951aa00a24000bd50797f753c9208d234ebb37     2        2000000 lovelace + 1 d6390543e76fe398ccb5d7e90da5f0548e29759cf94d565d82ad4b19.4269646465722031 + TxOutDatumNone\n",
      "6f3cfc1753ca162c8504a3650b951aa00a24000bd50797f753c9208d234ebb37     3        1500000 lovelace + TxOutDatumHash ScriptDataInAlonzoEra \"4e29446db5cb5442910126de8e3a657c6583d8ece720d6872a6957ccd3ca0808\"\n"
     ]
    }
   ],
   "source": [
    "echo \"UTxOs at Marlowe validator address:\"\n",
    "cardano-cli query utxo --testnet-magic \"$CARDANO_TESTNET_MAGIC\" --address \"$MARLOWE_ADDRESS\"\n",
    "echo\n",
    "echo \"UTxOs at ${ROLE[1]} address:\"\n",
    "cardano-cli query utxo --testnet-magic \"$CARDANO_TESTNET_MAGIC\" --address \"${ADDRESS[1]}\""
   ]
  },
  {
   "cell_type": "markdown",
   "id": "7576ddbe-c574-43ac-a155-dac6d49677d2",
   "metadata": {},
   "source": [
    "### 11. Second bidder bids 40 Ada"
   ]
  },
  {
   "cell_type": "code",
   "execution_count": 89,
   "id": "f5f5d457-5336-4758-aa10-722453f86cd3",
   "metadata": {},
   "outputs": [
    {
     "name": "stdout",
     "output_type": "stream",
     "text": [
      "\n",
      "Fee: Lovelace 1994893\n",
      "Size: 16488 / 32768 = 50%\n",
      "Execution units:\n",
      "  Memory: 12874236 / 30000000 = 42%\n",
      "  Steps: 4813928844 / 10000000000 = 48%\n",
      "TxId \"cad8545c90f0f95dca4b5899026f2ec36b18e205b02960f11482b6e5ecbb86bd\"\n"
     ]
    }
   ],
   "source": [
    "TX_11=$(\n",
    "marlowe-cli run execute --marlowe-in-file english-auction-10.marlowe \\\n",
    "                        --tx-in-marlowe \"$TX_10#1\" \\\n",
    "                        --tx-in-collateral \"$TX_6#0\" \\\n",
    "                        --tx-in \"$TX_6#0\" \\\n",
    "                        --tx-in \"$TX_6#3\" \\\n",
    "                        --tx-in \"$TX_6#2\" \\\n",
    "                        --required-signer ${SKEY[2]} \\\n",
    "                        --change-address ${ADDRESS[2]} \\\n",
    "                        --marlowe-out-file english-auction-11.marlowe \\\n",
    "                        --tx-out \"${ADDRESS[2]}+$MIN_ADA+1 ${ROLE_TOKEN[2]}\" \\\n",
    "                        --out-file /dev/null \\\n",
    "                        --submit 600 \\\n",
    "                        --print-stats \\\n",
    "| sed -e 's/^TxId \"\\(.*\\)\"$/\\1/' \\\n",
    ")\n",
    "echo \"TxId \\\"$TX_11\\\"\""
   ]
  },
  {
   "cell_type": "code",
   "execution_count": 90,
   "id": "c178cf19-8d0f-466a-bc23-4bd4b24f9f6b",
   "metadata": {},
   "outputs": [
    {
     "name": "stdout",
     "output_type": "stream",
     "text": [
      "UTxOs at Marlowe validator address:\n",
      "                           TxHash                                 TxIx        Amount\n",
      "--------------------------------------------------------------------------------------\n",
      "cad8545c90f0f95dca4b5899026f2ec36b18e205b02960f11482b6e5ecbb86bd     1        78000000 lovelace + 1 76574a57d6a0bc1db5ad534b90ac0aacdad765754eca3f4e7dc7c116.476c6f6265 + TxOutDatumHash ScriptDataInAlonzoEra \"f7a346bf8bdd5df3e566597ab15481818a41c4a523e6b5504d664b0aff9b5cca\"\n",
      "\n",
      "UTxOs at Bidder 2 address:\n",
      "                           TxHash                                 TxIx        Amount\n",
      "--------------------------------------------------------------------------------------\n",
      "cad8545c90f0f95dca4b5899026f2ec36b18e205b02960f11482b6e5ecbb86bd     0        75873401 lovelace + TxOutDatumNone\n",
      "cad8545c90f0f95dca4b5899026f2ec36b18e205b02960f11482b6e5ecbb86bd     2        2000000 lovelace + 1 d6390543e76fe398ccb5d7e90da5f0548e29759cf94d565d82ad4b19.4269646465722032 + TxOutDatumNone\n",
      "cad8545c90f0f95dca4b5899026f2ec36b18e205b02960f11482b6e5ecbb86bd     3        1500000 lovelace + TxOutDatumHash ScriptDataInAlonzoEra \"393c302f7cc246d2cea5067f951a25570178169d4efe29fbfca407ec96a890cc\"\n"
     ]
    }
   ],
   "source": [
    "echo \"UTxOs at Marlowe validator address:\"\n",
    "cardano-cli query utxo --testnet-magic \"$CARDANO_TESTNET_MAGIC\" --address \"$MARLOWE_ADDRESS\"\n",
    "echo\n",
    "echo \"UTxOs at ${ROLE[2]} address:\"\n",
    "cardano-cli query utxo --testnet-magic \"$CARDANO_TESTNET_MAGIC\" --address \"${ADDRESS[2]}\""
   ]
  },
  {
   "cell_type": "markdown",
   "id": "370e854e-de44-4f65-bf79-d77371d247e5",
   "metadata": {},
   "source": [
    "### 12. Second bidder deposits 25 Ada"
   ]
  },
  {
   "cell_type": "code",
   "execution_count": 91,
   "id": "ec6f5e79-2f93-45de-979f-891de6221f43",
   "metadata": {},
   "outputs": [
    {
     "name": "stdout",
     "output_type": "stream",
     "text": [
      "\n",
      "Fee: Lovelace 1865351\n",
      "Size: 15911 / 32768 = 48%\n",
      "Execution units:\n",
      "  Memory: 11822658 / 30000000 = 39%\n",
      "  Steps: 4210909790 / 10000000000 = 42%\n",
      "TxId \"461d7011023d8f2ed200f15d8c6c0386133122a796d4164a78a9c04e03e0d70e\"\n"
     ]
    }
   ],
   "source": [
    "TX_12=$(\n",
    "marlowe-cli run execute --marlowe-in-file english-auction-11.marlowe \\\n",
    "                        --tx-in-marlowe \"$TX_11#1\" \\\n",
    "                        --tx-in-collateral \"$TX_11#0\" \\\n",
    "                        --tx-in \"$TX_11#0\" \\\n",
    "                        --tx-in \"$TX_11#3\" \\\n",
    "                        --tx-in \"$TX_11#2\" \\\n",
    "                        --required-signer ${SKEY[2]} \\\n",
    "                        --change-address ${ADDRESS[2]} \\\n",
    "                        --marlowe-out-file english-auction-12.marlowe \\\n",
    "                        --tx-out \"${ADDRESS[2]}+$MIN_ADA+1 ${ROLE_TOKEN[2]}\" \\\n",
    "                        --out-file /dev/null \\\n",
    "                        --submit 600 \\\n",
    "                        --print-stats \\\n",
    "| sed -e 's/^TxId \"\\(.*\\)\"$/\\1/' \\\n",
    ")\n",
    "echo \"TxId \\\"$TX_12\\\"\""
   ]
  },
  {
   "cell_type": "code",
   "execution_count": 92,
   "id": "841aa767-fbd2-4653-a921-2ca345a53837",
   "metadata": {},
   "outputs": [
    {
     "name": "stdout",
     "output_type": "stream",
     "text": [
      "UTxOs at Marlowe validator address:\n",
      "                           TxHash                                 TxIx        Amount\n",
      "--------------------------------------------------------------------------------------\n",
      "461d7011023d8f2ed200f15d8c6c0386133122a796d4164a78a9c04e03e0d70e     1        103000000 lovelace + 1 76574a57d6a0bc1db5ad534b90ac0aacdad765754eca3f4e7dc7c116.476c6f6265 + TxOutDatumHash ScriptDataInAlonzoEra \"f8ab5fe2c9d00205930cd4eb63fbfabb054758ba2d0902546fff20736eac5f34\"\n",
      "\n",
      "UTxOs at Bidder 2 address:\n",
      "                           TxHash                                 TxIx        Amount\n",
      "--------------------------------------------------------------------------------------\n",
      "461d7011023d8f2ed200f15d8c6c0386133122a796d4164a78a9c04e03e0d70e     0        49008050 lovelace + TxOutDatumNone\n",
      "461d7011023d8f2ed200f15d8c6c0386133122a796d4164a78a9c04e03e0d70e     2        2000000 lovelace + 1 d6390543e76fe398ccb5d7e90da5f0548e29759cf94d565d82ad4b19.4269646465722032 + TxOutDatumNone\n",
      "461d7011023d8f2ed200f15d8c6c0386133122a796d4164a78a9c04e03e0d70e     3        1500000 lovelace + TxOutDatumHash ScriptDataInAlonzoEra \"a15b88c8403c563add35d410b37185a134bf1bc8c579ae738c8bf8cb3068b274\"\n"
     ]
    }
   ],
   "source": [
    "echo \"UTxOs at Marlowe validator address:\"\n",
    "cardano-cli query utxo --testnet-magic \"$CARDANO_TESTNET_MAGIC\" --address \"$MARLOWE_ADDRESS\"\n",
    "echo\n",
    "echo \"UTxOs at ${ROLE[2]} address:\"\n",
    "cardano-cli query utxo --testnet-magic \"$CARDANO_TESTNET_MAGIC\" --address \"${ADDRESS[2]}\""
   ]
  },
  {
   "cell_type": "markdown",
   "id": "81d76b92-51ed-46e6-b7c4-d2de4076a200",
   "metadata": {},
   "source": [
    "### 13. Third bidder bids 50 Ada"
   ]
  },
  {
   "cell_type": "code",
   "execution_count": 93,
   "id": "b8b98db6-9b2d-4b09-8f56-7262548e4cfe",
   "metadata": {},
   "outputs": [
    {
     "name": "stdout",
     "output_type": "stream",
     "text": [
      "\n",
      "Fee: Lovelace 1820148\n",
      "Size: 15419 / 32768 = 47%\n",
      "Execution units:\n",
      "  Memory: 11490834 / 30000000 = 38%\n",
      "  Steps: 4149759053 / 10000000000 = 41%\n",
      "TxId \"012d4ebba9e6378c988aaac3e799dbb154a63b79102318214a3cf2f0395b1bff\"\n"
     ]
    }
   ],
   "source": [
    "TX_13=$(\n",
    "marlowe-cli run execute --marlowe-in-file english-auction-12.marlowe \\\n",
    "                        --tx-in-marlowe \"$TX_12#1\" \\\n",
    "                        --tx-in-collateral \"$TX_8#0\" \\\n",
    "                        --tx-in \"$TX_8#0\" \\\n",
    "                        --tx-in \"$TX_8#3\" \\\n",
    "                        --tx-in \"$TX_8#2\" \\\n",
    "                        --required-signer ${SKEY[3]} \\\n",
    "                        --change-address ${ADDRESS[3]} \\\n",
    "                        --marlowe-out-file english-auction-13.marlowe \\\n",
    "                        --tx-out \"${ADDRESS[3]}+$MIN_ADA+1 ${ROLE_TOKEN[3]}\" \\\n",
    "                        --out-file /dev/null \\\n",
    "                        --submit 600 \\\n",
    "                        --print-stats \\\n",
    "| sed -e 's/^TxId \"\\(.*\\)\"$/\\1/' \\\n",
    ")\n",
    "echo \"TxId \\\"$TX_13\\\"\""
   ]
  },
  {
   "cell_type": "code",
   "execution_count": 94,
   "id": "1ea26c8b-3fe3-47d2-977d-066803b03f3b",
   "metadata": {},
   "outputs": [
    {
     "name": "stdout",
     "output_type": "stream",
     "text": [
      "UTxOs at Marlowe validator address:\n",
      "                           TxHash                                 TxIx        Amount\n",
      "--------------------------------------------------------------------------------------\n",
      "012d4ebba9e6378c988aaac3e799dbb154a63b79102318214a3cf2f0395b1bff     1        103000000 lovelace + 1 76574a57d6a0bc1db5ad534b90ac0aacdad765754eca3f4e7dc7c116.476c6f6265 + TxOutDatumHash ScriptDataInAlonzoEra \"0fd70fb37f3115ac16f67990f15e054443a0f79319c44aa514bf12df39515d44\"\n",
      "\n",
      "UTxOs at Bidder 3 address:\n",
      "                           TxHash                                 TxIx        Amount\n",
      "--------------------------------------------------------------------------------------\n",
      "012d4ebba9e6378c988aaac3e799dbb154a63b79102318214a3cf2f0395b1bff     0        62555681 lovelace + TxOutDatumNone\n",
      "012d4ebba9e6378c988aaac3e799dbb154a63b79102318214a3cf2f0395b1bff     2        2000000 lovelace + 1 d6390543e76fe398ccb5d7e90da5f0548e29759cf94d565d82ad4b19.4269646465722033 + TxOutDatumNone\n",
      "012d4ebba9e6378c988aaac3e799dbb154a63b79102318214a3cf2f0395b1bff     3        1500000 lovelace + TxOutDatumHash ScriptDataInAlonzoEra \"bf5fabd067710d6bc6548f4d1069367a96619de8f381c88594a3bfc167fc041b\"\n"
     ]
    }
   ],
   "source": [
    "echo \"UTxOs at Marlowe validator address:\"\n",
    "cardano-cli query utxo --testnet-magic \"$CARDANO_TESTNET_MAGIC\" --address \"$MARLOWE_ADDRESS\"\n",
    "echo\n",
    "echo \"UTxOs at ${ROLE[3]} address:\"\n",
    "cardano-cli query utxo --testnet-magic \"$CARDANO_TESTNET_MAGIC\" --address \"${ADDRESS[3]}\""
   ]
  },
  {
   "cell_type": "markdown",
   "id": "38e93830-1393-4c77-973b-306ac50ebfaf",
   "metadata": {},
   "source": [
    "### 14. Third bidder deposits 25 Ada, and contract closes"
   ]
  },
  {
   "cell_type": "code",
   "execution_count": 95,
   "id": "85b566f4-f681-4d85-a88d-04c042ac4fbe",
   "metadata": {},
   "outputs": [
    {
     "name": "stdout",
     "output_type": "stream",
     "text": [
      "\n",
      "Fee: Lovelace 2050662\n",
      "Size: 14490 / 32768 = 44%\n",
      "Execution units:\n",
      "  Memory: 15158376 / 30000000 = 50%\n",
      "  Steps: 4978787464 / 10000000000 = 49%\n",
      "TxId \"68a733ab0c264e33c7c03cb1c04d9d538b348d1e4a00f285d7fb9ae9b843641e\"\n"
     ]
    }
   ],
   "source": [
    "TX_14=$(\n",
    "marlowe-cli run execute --marlowe-in-file english-auction-13.marlowe \\\n",
    "                        --tx-in-marlowe \"$TX_13#1\" \\\n",
    "                        --tx-in-collateral \"$TX_13#0\" \\\n",
    "                        --tx-in \"$TX_13#0\" \\\n",
    "                        --tx-in \"$TX_13#3\" \\\n",
    "                        --tx-in \"$TX_13#2\" \\\n",
    "                        --required-signer ${SKEY[3]} \\\n",
    "                        --change-address ${ADDRESS[3]} \\\n",
    "                        --marlowe-out-file english-auction-14.marlowe \\\n",
    "                        --tx-out \"${ADDRESS[3]}+$MIN_ADA+1 ${ROLE_TOKEN[3]}\" \\\n",
    "                        --out-file /dev/null \\\n",
    "                        --submit 600 \\\n",
    "                        --print-stats \\\n",
    "| sed -e 's/^TxId \"\\(.*\\)\"$/\\1/' \\\n",
    ")\n",
    "echo \"TxId \\\"$TX_14\\\"\""
   ]
  },
  {
   "cell_type": "code",
   "execution_count": 96,
   "id": "bc076c85-d966-468d-b7aa-7998007c637b",
   "metadata": {},
   "outputs": [
    {
     "name": "stdout",
     "output_type": "stream",
     "text": [
      "UTxOs at Marlowe validator address:\n",
      "                           TxHash                                 TxIx        Amount\n",
      "--------------------------------------------------------------------------------------\n",
      "\n",
      "UTxOs at payout validator address:\n",
      "                           TxHash                                 TxIx        Amount\n",
      "--------------------------------------------------------------------------------------\n",
      "68a733ab0c264e33c7c03cb1c04d9d538b348d1e4a00f285d7fb9ae9b843641e     1        32000000 lovelace + TxOutDatumHash ScriptDataInAlonzoEra \"b8f00d165b636528cb769f7830821eba1686f7ea947819fdb5dffc152f66d834\"\n",
      "68a733ab0c264e33c7c03cb1c04d9d538b348d1e4a00f285d7fb9ae9b843641e     2        42000000 lovelace + TxOutDatumHash ScriptDataInAlonzoEra \"e9bbfbfb77c6833bf8d0c1019948c6c77d869129107611467ea4391373c9cb4f\"\n",
      "68a733ab0c264e33c7c03cb1c04d9d538b348d1e4a00f285d7fb9ae9b843641e     3        2000000 lovelace + 1 76574a57d6a0bc1db5ad534b90ac0aacdad765754eca3f4e7dc7c116.476c6f6265 + TxOutDatumHash ScriptDataInAlonzoEra \"4e3bf0fe2852adb2e4abee1d1b669106c769bd2b6e705fd848d6b591b888a57d\"\n",
      "68a733ab0c264e33c7c03cb1c04d9d538b348d1e4a00f285d7fb9ae9b843641e     4        52000000 lovelace + TxOutDatumHash ScriptDataInAlonzoEra \"b85c8093c3c9867c74054a1851725c04dd9499a88bfd0b1e693925b2f4a46833\"\n",
      "\n",
      "UTxOs at Bidder 3 address:\n",
      "                           TxHash                                 TxIx        Amount\n",
      "--------------------------------------------------------------------------------------\n",
      "68a733ab0c264e33c7c03cb1c04d9d538b348d1e4a00f285d7fb9ae9b843641e     0        35505019 lovelace + TxOutDatumNone\n",
      "68a733ab0c264e33c7c03cb1c04d9d538b348d1e4a00f285d7fb9ae9b843641e     5        2000000 lovelace + 1 d6390543e76fe398ccb5d7e90da5f0548e29759cf94d565d82ad4b19.4269646465722033 + TxOutDatumNone\n",
      "68a733ab0c264e33c7c03cb1c04d9d538b348d1e4a00f285d7fb9ae9b843641e     6        1500000 lovelace + TxOutDatumHash ScriptDataInAlonzoEra \"337c80b0b9c04986068caebcce9877df4af8e14bfe07e3c77fb56ee03a173ea8\"\n"
     ]
    }
   ],
   "source": [
    "echo \"UTxOs at Marlowe validator address:\"\n",
    "cardano-cli query utxo --testnet-magic \"$CARDANO_TESTNET_MAGIC\" --address \"$MARLOWE_ADDRESS\"\n",
    "echo\n",
    "echo \"UTxOs at payout validator address:\"\n",
    "cardano-cli query utxo --testnet-magic \"$CARDANO_TESTNET_MAGIC\" --address \"$PAYOUT_ADDRESS\"\n",
    "echo\n",
    "echo \"UTxOs at ${ROLE[3]} address:\"\n",
    "cardano-cli query utxo --testnet-magic \"$CARDANO_TESTNET_MAGIC\" --address \"${ADDRESS[3]}\""
   ]
  },
  {
   "cell_type": "markdown",
   "id": "c81274f6-d693-4432-8e6a-075e59f028f7",
   "metadata": {},
   "source": [
    "### 15. Seller withdraws 52 Ada\n",
    "\n",
    "The seller receives the 50 Ada winning bid plus the 2 Ada they originally deposited when the contract was created."
   ]
  },
  {
   "cell_type": "code",
   "execution_count": 97,
   "id": "21d757a4-997e-4d72-8e00-a0ef468a5ffb",
   "metadata": {},
   "outputs": [
    {
     "name": "stdout",
     "output_type": "stream",
     "text": [
      "\n",
      "Fee: Lovelace 455364\n",
      "Size: 2929 / 32768 = 8%\n",
      "Execution units:\n",
      "  Memory: 1731660 / 30000000 = 5%\n",
      "  Steps: 652951119 / 10000000000 = 6%\n",
      "TxId \"37a04bae0124dc97a4c8746e3fd6f9524a501c0527bcbd17292440c4df00f740\"\n"
     ]
    }
   ],
   "source": [
    "marlowe-cli run withdraw --role-name \"${ROLE[0]}\" \\\n",
    "                         --marlowe-file english-auction-14.marlowe \\\n",
    "                         --tx-in-collateral \"$TX_2#0\" \\\n",
    "                         --tx-in \"$TX_2#0\" \\\n",
    "                         --tx-in \"$TX_2#3\" \\\n",
    "                         --tx-in \"$TX_2#2\" \\\n",
    "                         --change-address ${ADDRESS[0]} \\\n",
    "                         --required-signer ${SKEY[0]} \\\n",
    "                         --tx-out \"${ADDRESS[0]}+$MIN_ADA+1 ${ROLE_TOKEN[0]}\" \\\n",
    "                         --out-file /dev/null \\\n",
    "                         --submit 600 \\\n",
    "                         --print-stats"
   ]
  },
  {
   "cell_type": "code",
   "execution_count": 98,
   "id": "16107176-01df-4bfa-b884-c14298d49238",
   "metadata": {},
   "outputs": [
    {
     "name": "stdout",
     "output_type": "stream",
     "text": [
      "UTxOs at payout validator address:\n",
      "                           TxHash                                 TxIx        Amount\n",
      "--------------------------------------------------------------------------------------\n",
      "68a733ab0c264e33c7c03cb1c04d9d538b348d1e4a00f285d7fb9ae9b843641e     1        32000000 lovelace + TxOutDatumHash ScriptDataInAlonzoEra \"b8f00d165b636528cb769f7830821eba1686f7ea947819fdb5dffc152f66d834\"\n",
      "68a733ab0c264e33c7c03cb1c04d9d538b348d1e4a00f285d7fb9ae9b843641e     2        42000000 lovelace + TxOutDatumHash ScriptDataInAlonzoEra \"e9bbfbfb77c6833bf8d0c1019948c6c77d869129107611467ea4391373c9cb4f\"\n",
      "68a733ab0c264e33c7c03cb1c04d9d538b348d1e4a00f285d7fb9ae9b843641e     3        2000000 lovelace + 1 76574a57d6a0bc1db5ad534b90ac0aacdad765754eca3f4e7dc7c116.476c6f6265 + TxOutDatumHash ScriptDataInAlonzoEra \"4e3bf0fe2852adb2e4abee1d1b669106c769bd2b6e705fd848d6b591b888a57d\"\n",
      "\n",
      "UTxOs at Seller address:\n",
      "                           TxHash                                 TxIx        Amount\n",
      "--------------------------------------------------------------------------------------\n",
      "37a04bae0124dc97a4c8746e3fd6f9524a501c0527bcbd17292440c4df00f740     0        65707221 lovelace + TxOutDatumNone\n",
      "37a04bae0124dc97a4c8746e3fd6f9524a501c0527bcbd17292440c4df00f740     1        52000000 lovelace + TxOutDatumNone\n",
      "37a04bae0124dc97a4c8746e3fd6f9524a501c0527bcbd17292440c4df00f740     2        2000000 lovelace + 1 d6390543e76fe398ccb5d7e90da5f0548e29759cf94d565d82ad4b19.53656c6c6572 + TxOutDatumNone\n",
      "6db1c167b9f9d04dff91a1d5a5592c3cf210bf224d76b247f5726429d4ce7ca8     0        23811663 lovelace + TxOutDatumNone\n"
     ]
    }
   ],
   "source": [
    "echo \"UTxOs at payout validator address:\"\n",
    "cardano-cli query utxo --testnet-magic \"$CARDANO_TESTNET_MAGIC\" --address \"$PAYOUT_ADDRESS\"\n",
    "echo\n",
    "echo \"UTxOs at ${ROLE[0]} address:\"\n",
    "cardano-cli query utxo --testnet-magic \"$CARDANO_TESTNET_MAGIC\" --address \"${ADDRESS[0]}\""
   ]
  },
  {
   "cell_type": "markdown",
   "id": "036efdd3-ff4d-45a6-9bd4-6e77457e3298",
   "metadata": {},
   "source": [
    "### 16. First bidder withdraws their 32 Ada deposit"
   ]
  },
  {
   "cell_type": "code",
   "execution_count": 99,
   "id": "ca691f15-8432-4a0c-b673-0d7a3edfd534",
   "metadata": {},
   "outputs": [
    {
     "name": "stdout",
     "output_type": "stream",
     "text": [
      "\n",
      "Fee: Lovelace 455540\n",
      "Size: 2933 / 32768 = 8%\n",
      "Execution units:\n",
      "  Memory: 1731660 / 30000000 = 5%\n",
      "  Steps: 652951119 / 10000000000 = 6%\n",
      "TxId \"155d3ef03f1f781fa8a9a0b33746cf871c4f01bdc3e77911c998ca0e87e679bd\"\n"
     ]
    }
   ],
   "source": [
    "marlowe-cli run withdraw --role-name \"${ROLE[1]}\" \\\n",
    "                         --marlowe-file english-auction-14.marlowe \\\n",
    "                         --tx-in-collateral \"$TX_10#0\" \\\n",
    "                         --tx-in \"$TX_10#0\" \\\n",
    "                         --tx-in \"$TX_10#3\" \\\n",
    "                         --tx-in \"$TX_10#2\" \\\n",
    "                         --change-address ${ADDRESS[1]} \\\n",
    "                         --required-signer ${SKEY[1]} \\\n",
    "                         --tx-out \"${ADDRESS[1]}+$MIN_ADA+1 ${ROLE_TOKEN[1]}\" \\\n",
    "                         --out-file /dev/null \\\n",
    "                         --submit 600 \\\n",
    "                         --print-stats"
   ]
  },
  {
   "cell_type": "code",
   "execution_count": 100,
   "id": "b4ff3707-ec56-4957-898c-85385e46fcf4",
   "metadata": {},
   "outputs": [
    {
     "name": "stdout",
     "output_type": "stream",
     "text": [
      "UTxOs at payout validator address:\n",
      "                           TxHash                                 TxIx        Amount\n",
      "--------------------------------------------------------------------------------------\n",
      "68a733ab0c264e33c7c03cb1c04d9d538b348d1e4a00f285d7fb9ae9b843641e     2        42000000 lovelace + TxOutDatumHash ScriptDataInAlonzoEra \"e9bbfbfb77c6833bf8d0c1019948c6c77d869129107611467ea4391373c9cb4f\"\n",
      "68a733ab0c264e33c7c03cb1c04d9d538b348d1e4a00f285d7fb9ae9b843641e     3        2000000 lovelace + 1 76574a57d6a0bc1db5ad534b90ac0aacdad765754eca3f4e7dc7c116.476c6f6265 + TxOutDatumHash ScriptDataInAlonzoEra \"4e3bf0fe2852adb2e4abee1d1b669106c769bd2b6e705fd848d6b591b888a57d\"\n",
      "\n",
      "UTxOs at Bidder 1 address:\n",
      "                           TxHash                                 TxIx        Amount\n",
      "--------------------------------------------------------------------------------------\n",
      "155d3ef03f1f781fa8a9a0b33746cf871c4f01bdc3e77911c998ca0e87e679bd     0        63815744 lovelace + TxOutDatumNone\n",
      "155d3ef03f1f781fa8a9a0b33746cf871c4f01bdc3e77911c998ca0e87e679bd     1        32000000 lovelace + TxOutDatumNone\n",
      "155d3ef03f1f781fa8a9a0b33746cf871c4f01bdc3e77911c998ca0e87e679bd     2        2000000 lovelace + 1 d6390543e76fe398ccb5d7e90da5f0548e29759cf94d565d82ad4b19.4269646465722031 + TxOutDatumNone\n"
     ]
    }
   ],
   "source": [
    "echo \"UTxOs at payout validator address:\"\n",
    "cardano-cli query utxo --testnet-magic \"$CARDANO_TESTNET_MAGIC\" --address \"$PAYOUT_ADDRESS\"\n",
    "echo\n",
    "echo \"UTxOs at ${ROLE[1]} address:\"\n",
    "cardano-cli query utxo --testnet-magic \"$CARDANO_TESTNET_MAGIC\" --address \"${ADDRESS[1]}\""
   ]
  },
  {
   "cell_type": "markdown",
   "id": "995ee633-16be-49c8-b78d-dfd1c67554ab",
   "metadata": {},
   "source": [
    "### 17. Second bidders withdraws their 42 Ada deposit"
   ]
  },
  {
   "cell_type": "code",
   "execution_count": 101,
   "id": "30dbccbb-de83-42f2-9467-1cdcfa2c1ac0",
   "metadata": {},
   "outputs": [
    {
     "name": "stdout",
     "output_type": "stream",
     "text": [
      "\n",
      "Fee: Lovelace 449736\n",
      "Size: 2933 / 32768 = 8%\n",
      "Execution units:\n",
      "  Memory: 1658656 / 30000000 = 5%\n",
      "  Steps: 630869619 / 10000000000 = 6%\n",
      "TxId \"f1bd942bb27b3a694458fb1509708e9072b64690ebafe51b1a9bbfe1f4f34457\"\n"
     ]
    }
   ],
   "source": [
    "marlowe-cli run withdraw --role-name \"${ROLE[2]}\" \\\n",
    "                         --marlowe-file english-auction-14.marlowe \\\n",
    "                         --tx-in-collateral \"$TX_12#0\" \\\n",
    "                         --tx-in \"$TX_12#0\" \\\n",
    "                         --tx-in \"$TX_12#3\" \\\n",
    "                         --tx-in \"$TX_12#2\" \\\n",
    "                         --change-address ${ADDRESS[2]} \\\n",
    "                         --required-signer ${SKEY[2]} \\\n",
    "                         --tx-out \"${ADDRESS[2]}+$MIN_ADA+1 ${ROLE_TOKEN[2]}\" \\\n",
    "                         --out-file /dev/null \\\n",
    "                         --submit 600 \\\n",
    "                         --print-stats"
   ]
  },
  {
   "cell_type": "code",
   "execution_count": 102,
   "id": "df80da9a-752c-4fa1-aa6e-01bfcd12309b",
   "metadata": {},
   "outputs": [
    {
     "name": "stdout",
     "output_type": "stream",
     "text": [
      "UTxOs at payout validator address:\n",
      "                           TxHash                                 TxIx        Amount\n",
      "--------------------------------------------------------------------------------------\n",
      "68a733ab0c264e33c7c03cb1c04d9d538b348d1e4a00f285d7fb9ae9b843641e     3        2000000 lovelace + 1 76574a57d6a0bc1db5ad534b90ac0aacdad765754eca3f4e7dc7c116.476c6f6265 + TxOutDatumHash ScriptDataInAlonzoEra \"4e3bf0fe2852adb2e4abee1d1b669106c769bd2b6e705fd848d6b591b888a57d\"\n",
      "\n",
      "UTxOs at Bidder 2 address:\n",
      "                           TxHash                                 TxIx        Amount\n",
      "--------------------------------------------------------------------------------------\n",
      "f1bd942bb27b3a694458fb1509708e9072b64690ebafe51b1a9bbfe1f4f34457     0        50058314 lovelace + TxOutDatumNone\n",
      "f1bd942bb27b3a694458fb1509708e9072b64690ebafe51b1a9bbfe1f4f34457     1        42000000 lovelace + TxOutDatumNone\n",
      "f1bd942bb27b3a694458fb1509708e9072b64690ebafe51b1a9bbfe1f4f34457     2        2000000 lovelace + 1 d6390543e76fe398ccb5d7e90da5f0548e29759cf94d565d82ad4b19.4269646465722032 + TxOutDatumNone\n"
     ]
    }
   ],
   "source": [
    "echo \"UTxOs at payout validator address:\"\n",
    "cardano-cli query utxo --testnet-magic \"$CARDANO_TESTNET_MAGIC\" --address \"$PAYOUT_ADDRESS\"\n",
    "echo\n",
    "echo \"UTxOs at ${ROLE[2]} address:\"\n",
    "cardano-cli query utxo --testnet-magic \"$CARDANO_TESTNET_MAGIC\" --address \"${ADDRESS[2]}\""
   ]
  },
  {
   "cell_type": "markdown",
   "id": "8be7ca9b-fa79-44ad-9eb2-d42f5d1c4e40",
   "metadata": {
    "tags": []
   },
   "source": [
    "### 18. Third bidder withdraws the native token representing the asset, along with the minimum Ada"
   ]
  },
  {
   "cell_type": "code",
   "execution_count": 103,
   "id": "716cddb5-bc41-475f-bf0e-6b8876d8284d",
   "metadata": {},
   "outputs": [
    {
     "name": "stdout",
     "output_type": "stream",
     "text": [
      "\n",
      "Fee: Lovelace 474030\n",
      "Size: 2973 / 32768 = 9%\n",
      "Execution units:\n",
      "  Memory: 1937564 / 30000000 = 6%\n",
      "  Steps: 720211219 / 10000000000 = 7%\n",
      "TxId \"bf2fa15fc534eb850d0c193686b7c2243563a83b98a72767e4a35e412872bfda\"\n"
     ]
    }
   ],
   "source": [
    "marlowe-cli run withdraw --role-name \"${ROLE[3]}\" \\\n",
    "                         --marlowe-file english-auction-14.marlowe \\\n",
    "                         --tx-in-collateral \"$TX_14#0\" \\\n",
    "                         --tx-in \"$TX_14#0\" \\\n",
    "                         --tx-in \"$TX_14#5\" \\\n",
    "                         --tx-in \"$TX_14#6\" \\\n",
    "                         --change-address ${ADDRESS[3]} \\\n",
    "                         --required-signer ${SKEY[3]} \\\n",
    "                         --tx-out \"${ADDRESS[3]}+$MIN_ADA+1 ${ROLE_TOKEN[3]}\" \\\n",
    "                         --out-file /dev/null \\\n",
    "                         --submit 600 \\\n",
    "                         --print-stats"
   ]
  },
  {
   "cell_type": "code",
   "execution_count": 104,
   "id": "50a73381-231a-4237-bce8-69056f55fe66",
   "metadata": {
    "tags": []
   },
   "outputs": [
    {
     "name": "stdout",
     "output_type": "stream",
     "text": [
      "UTxOs at payout validator address:\n",
      "                           TxHash                                 TxIx        Amount\n",
      "--------------------------------------------------------------------------------------\n",
      "\n",
      "UTxOs at Bidder 3 address:\n",
      "                           TxHash                                 TxIx        Amount\n",
      "--------------------------------------------------------------------------------------\n",
      "bf2fa15fc534eb850d0c193686b7c2243563a83b98a72767e4a35e412872bfda     0        36530989 lovelace + TxOutDatumNone\n",
      "bf2fa15fc534eb850d0c193686b7c2243563a83b98a72767e4a35e412872bfda     1        2000000 lovelace + 1 76574a57d6a0bc1db5ad534b90ac0aacdad765754eca3f4e7dc7c116.476c6f6265 + TxOutDatumNone\n",
      "bf2fa15fc534eb850d0c193686b7c2243563a83b98a72767e4a35e412872bfda     2        2000000 lovelace + 1 d6390543e76fe398ccb5d7e90da5f0548e29759cf94d565d82ad4b19.4269646465722033 + TxOutDatumNone\n"
     ]
    }
   ],
   "source": [
    "echo \"UTxOs at payout validator address:\"\n",
    "cardano-cli query utxo --testnet-magic \"$CARDANO_TESTNET_MAGIC\" --address \"$PAYOUT_ADDRESS\"\n",
    "echo\n",
    "echo \"UTxOs at ${ROLE[3]} address:\"\n",
    "cardano-cli query utxo --testnet-magic \"$CARDANO_TESTNET_MAGIC\" --address \"${ADDRESS[3]}\""
   ]
  }
 ],
 "metadata": {
  "kernelspec": {
   "display_name": "Bash - Marlowe",
   "language": "bash",
   "name": "bash_marlowe"
  },
  "language_info": {
   "codemirror_mode": "shell",
   "file_extension": ".sh",
   "mimetype": "text/x-sh",
   "name": "/nix/store/zwjm0gln1vk7x1akpyz0yxjsd1yc46gi-bash-5.1-p16/bin/bash"
  }
 },
 "nbformat": 4,
 "nbformat_minor": 5
}
