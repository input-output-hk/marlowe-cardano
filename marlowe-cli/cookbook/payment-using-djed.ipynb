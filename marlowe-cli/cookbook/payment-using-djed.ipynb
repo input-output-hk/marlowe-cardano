{
 "cells": [
  {
   "cell_type": "markdown",
   "id": "ab6aa306-a615-4331-bf53-21a82a81bde5",
   "metadata": {},
   "source": [
    "# Using Djed in Marlowe Contracts"
   ]
  },
  {
   "cell_type": "markdown",
   "id": "465088ae-f77e-41bd-9ff8-14116ea2df0e",
   "metadata": {},
   "source": [
    "In this example, Christopher Marlowe sells the Swan Theatre to Francis Beaumont for 2250 `DjedUSD`. The Swan Theatre is represented as an NFT."
   ]
  },
  {
   "cell_type": "markdown",
   "id": "c27b9add-75d2-43c0-bdfa-5e307d0d7ec4",
   "metadata": {},
   "source": [
    "Make a note of the versions of the Marlowe repository and software."
   ]
  },
  {
   "cell_type": "code",
   "execution_count": null,
   "id": "59b0f329-1f59-4366-b4dc-34b9e4adee00",
   "metadata": {},
   "outputs": [
    {
     "name": "stdout",
     "output_type": "stream",
     "text": [
      "marlowe-cli 0.0.5.0\n"
     ]
    }
   ],
   "source": [
    "marlowe-cli --version"
   ]
  },
  {
   "cell_type": "code",
   "execution_count": null,
   "id": "dcac1a0e-f533-4cad-b474-c1f122f79cce",
   "metadata": {},
   "outputs": [
    {
     "name": "stdout",
     "output_type": "stream",
     "text": [
      "cardano-cli 1.34.1 - linux-x86_64 - ghc-8.10\n",
      "git rev 0000000000000000000000000000000000000000\n"
     ]
    }
   ],
   "source": [
    "cardano-cli --version"
   ]
  },
  {
   "cell_type": "code",
   "execution_count": null,
   "id": "85240b4e-2412-4530-95e4-5219eb8a9780",
   "metadata": {},
   "outputs": [
    {
     "name": "stdout",
     "output_type": "stream",
     "text": [
      "de3ca53f994f989ba7f5693e5e03bdfbcd52beee\n"
     ]
    }
   ],
   "source": [
    "git rev-parse HEAD"
   ]
  },
  {
   "cell_type": "markdown",
   "id": "092cf417-3c42-4f19-a9be-1b60e7a7d370",
   "metadata": {},
   "source": [
    "## Select the Cardano Network.\n",
    "\n",
    "We use the public `testnet` for this example."
   ]
  },
  {
   "cell_type": "code",
   "execution_count": 1,
   "id": "f670bf92-d8f2-45f1-98ad-030d0062bdbd",
   "metadata": {},
   "outputs": [],
   "source": [
    "export CARDANO_TESTNET_MAGIC=1097911063\n",
    "export CARDANO_NODE_SOCKET_PATH=node.socket"
   ]
  },
  {
   "cell_type": "markdown",
   "id": "6b10b6c3-adde-402f-a32a-d4004be4c21e",
   "metadata": {},
   "source": [
    "## Parties to the Contract"
   ]
  },
  {
   "cell_type": "markdown",
   "id": "9c7a185c-d9bb-4d86-9183-9c90f2cb15e6",
   "metadata": {},
   "source": [
    "### Christopher Marlowe\n",
    "\n",
    "Use the keys and address for Christopher Marlowe."
   ]
  },
  {
   "cell_type": "code",
   "execution_count": 2,
   "id": "e1feacd5-c354-4b18-9592-fe08eed534ec",
   "metadata": {},
   "outputs": [
    {
     "name": "stdout",
     "output_type": "stream",
     "text": [
      "addr_test1vrssw4edcts00kk6lp7p5n64666m23tpprqaarmdwkaq69gfvqnpz\n"
     ]
    }
   ],
   "source": [
    "MARLOWE_SKEY=christopher-marlowe.skey\n",
    "MARLOWE_VKEY=christopher-marlowe.vkey\n",
    "MARLOWE_PKH=$(cardano-cli address key-hash --payment-verification-key-file $MARLOWE_VKEY)\n",
    "MARLOWE_ADDR=$(cat christopher-marlowe.testnet.address)\n",
    "echo $MARLOWE_ADDR"
   ]
  },
  {
   "cell_type": "markdown",
   "id": "f7d06c61-b80f-4b1d-9c61-83747caeaaf6",
   "metadata": {},
   "source": [
    "Christopher has the requisite UTxOs at his address."
   ]
  },
  {
   "cell_type": "code",
   "execution_count": 3,
   "id": "d703f927-51ed-4a1d-982c-2d19f3e95a0f",
   "metadata": {},
   "outputs": [
    {
     "name": "stdout",
     "output_type": "stream",
     "text": [
      "                           TxHash                                 TxIx        Amount\n",
      "--------------------------------------------------------------------------------------\n",
      "a2cb791acb841e28460f1b3b0c69b9ebdf853cfaa08eb05bb3f324fca1bab46d     0        490361492 lovelace + TxOutDatumNone\n",
      "a2cb791acb841e28460f1b3b0c69b9ebdf853cfaa08eb05bb3f324fca1bab46d     1        2000000 lovelace + 1 8bb3b343d8e404472337966a722150048c768d0a92a9813596c5338d.5377616e + TxOutDatumNone\n"
     ]
    }
   ],
   "source": [
    "cardano-cli query utxo --testnet-magic $CARDANO_TESTNET_MAGIC --address $MARLOWE_ADDR"
   ]
  },
  {
   "cell_type": "markdown",
   "id": "c0971d77-f605-43c6-8317-581db544dcfc",
   "metadata": {},
   "source": [
    "We decode the hexadecimal value in the second UTxO to see that it is the Swan Theatre token."
   ]
  },
  {
   "cell_type": "code",
   "execution_count": 4,
   "id": "cde5d371-65c7-4c8d-a17b-875e404d0508",
   "metadata": {},
   "outputs": [
    {
     "name": "stdout",
     "output_type": "stream",
     "text": [
      "Swan"
     ]
    }
   ],
   "source": [
    "echo -n 5377616e | tr '[:lower:]' '[:upper:]' | basenc --decode --base16"
   ]
  },
  {
   "cell_type": "markdown",
   "id": "e9ecdacd-0303-4355-89e6-09f52843cc14",
   "metadata": {},
   "source": [
    "Keep a record of the UTxOs, so that we can spend them later."
   ]
  },
  {
   "cell_type": "code",
   "execution_count": 5,
   "id": "21a192d5-dc31-4d5f-8ff9-5b48bee806ab",
   "metadata": {},
   "outputs": [],
   "source": [
    "TX_0_MARLOWE_ADA=\"a2cb791acb841e28460f1b3b0c69b9ebdf853cfaa08eb05bb3f324fca1bab46d#0\"\n",
    "TX_0_MARLOWE_SWAN=\"a2cb791acb841e28460f1b3b0c69b9ebdf853cfaa08eb05bb3f324fca1bab46d#1\""
   ]
  },
  {
   "cell_type": "markdown",
   "id": "98a2f002-3717-4c9f-99df-33f29d2cf4b7",
   "metadata": {},
   "source": [
    "Also record the full identifier for the Swan Theatre token."
   ]
  },
  {
   "cell_type": "code",
   "execution_count": 6,
   "id": "69b11d0f-8043-4e46-a2ae-463160fbf6ce",
   "metadata": {},
   "outputs": [],
   "source": [
    "SWAN=8bb3b343d8e404472337966a722150048c768d0a92a9813596c5338d.Swan"
   ]
  },
  {
   "cell_type": "markdown",
   "id": "414ff8b6-dd8f-409a-b3b0-4349bbc49f6d",
   "metadata": {},
   "source": [
    "### Francis Beaumont\n",
    "\n",
    "Use the keys and address for Francis Beaumont."
   ]
  },
  {
   "cell_type": "code",
   "execution_count": 7,
   "id": "3266e1c1-77e2-4ce9-8644-75597501a81c",
   "metadata": {},
   "outputs": [
    {
     "name": "stdout",
     "output_type": "stream",
     "text": [
      "addr_test1vzzpzll6gsl9npf8wfhk2zg8sy2we50jcqc7w8w46gua2pqq7cw2q\n"
     ]
    }
   ],
   "source": [
    "BEAUMONT_SKEY=francis-beaumont.skey\n",
    "BEAUMONT_VKEY=francis-beaumont.vkey\n",
    "BEAUMONT_PKH=$(cardano-cli address key-hash --payment-verification-key-file $BEAUMONT_VKEY)\n",
    "BEAUMONT_ADDR=$(cat francis-beaumont.testnet.address)\n",
    "echo $BEAUMONT_ADDR"
   ]
  },
  {
   "cell_type": "markdown",
   "id": "e56a8747-cd7d-48de-aa76-4dbd739c88e1",
   "metadata": {},
   "source": [
    "Francis also has the requisite UTxOs at his address."
   ]
  },
  {
   "cell_type": "code",
   "execution_count": 8,
   "id": "7fd156b9-6e22-4d51-bc25-bef0c035a368",
   "metadata": {},
   "outputs": [
    {
     "name": "stdout",
     "output_type": "stream",
     "text": [
      "                           TxHash                                 TxIx        Amount\n",
      "--------------------------------------------------------------------------------------\n",
      "a2cb791acb841e28460f1b3b0c69b9ebdf853cfaa08eb05bb3f324fca1bab46d     2        2000000 lovelace + 2250 f4cf384ddd1b1377b08302b17990e9618b62924f5705458c17ee4f7d.446a6564555344 + TxOutDatumNone\n",
      "c86ef2ac159794ce00c0c1dce72149a065a3b559da7f0f5398abd629795fef60     0        500224541 lovelace + TxOutDatumNone\n"
     ]
    }
   ],
   "source": [
    "cardano-cli query utxo --testnet-magic $CARDANO_TESTNET_MAGIC --address $BEAUMONT_ADDR"
   ]
  },
  {
   "cell_type": "markdown",
   "id": "4a47c2fa-3d05-4ec8-81ea-3ce9c8ec5be3",
   "metadata": {},
   "source": [
    "We decode the hexadecimal value in the first UTxO to see that they are `DjedUSD` tokens."
   ]
  },
  {
   "cell_type": "code",
   "execution_count": 9,
   "id": "b606f1fa-dd92-4191-9715-dbed0996d25f",
   "metadata": {},
   "outputs": [
    {
     "name": "stdout",
     "output_type": "stream",
     "text": [
      "DjedUSD"
     ]
    }
   ],
   "source": [
    "echo -n 446a6564555344 | tr '[:lower:]' '[:upper:]' | basenc --decode --base16"
   ]
  },
  {
   "cell_type": "code",
   "execution_count": 10,
   "id": "3997a2c3-50a8-4268-860b-92d8f1bf7a39",
   "metadata": {},
   "outputs": [],
   "source": [
    "TX_0_BEAUMONT_ADA=\"c86ef2ac159794ce00c0c1dce72149a065a3b559da7f0f5398abd629795fef60#0\"\n",
    "TX_0_BEAUMONT_DJED=\"a2cb791acb841e28460f1b3b0c69b9ebdf853cfaa08eb05bb3f324fca1bab46d#2\""
   ]
  },
  {
   "cell_type": "markdown",
   "id": "7c5a8faf-a9a5-4df2-9e31-5b2db51c4756",
   "metadata": {},
   "source": [
    "Also record the full identifier for the `DjedUSD` tokens."
   ]
  },
  {
   "cell_type": "code",
   "execution_count": 11,
   "id": "f3a6bc31-4b52-4070-bbd0-655e9c165cf0",
   "metadata": {},
   "outputs": [],
   "source": [
    "DJED=f4cf384ddd1b1377b08302b17990e9618b62924f5705458c17ee4f7d.DjedUSD"
   ]
  },
  {
   "cell_type": "markdown",
   "id": "10854f02-d9d0-47e3-be6c-8aec40f40e0d",
   "metadata": {},
   "source": [
    "## The Marlowe Contract\n",
    "\n",
    "The price of the Swan Theatre is 2250 `DjedUSD`."
   ]
  },
  {
   "cell_type": "code",
   "execution_count": 12,
   "id": "5984c765-88b7-461e-a10f-fb57d5c2b530",
   "metadata": {},
   "outputs": [],
   "source": [
    "PRICE=2250"
   ]
  },
  {
   "cell_type": "markdown",
   "id": "866f87c8-c2bc-4159-8fd1-1df58b87d4cd",
   "metadata": {},
   "source": [
    "Compute deadlines relative to now."
   ]
  },
  {
   "cell_type": "code",
   "execution_count": 13,
   "id": "c2b1eefa-609a-4c62-aed3-296c7294d432",
   "metadata": {},
   "outputs": [
    {
     "name": "stdout",
     "output_type": "stream",
     "text": [
      "1652847057000\n"
     ]
    }
   ],
   "source": [
    "MILLISECOND=1000\n",
    "HOUR=$((60*60*MILLISECOND))\n",
    "NOW=$(($(date -u +%s)*MILLISECOND))\n",
    "echo $NOW"
   ]
  },
  {
   "cell_type": "code",
   "execution_count": 14,
   "id": "ac962b95-84b3-4a98-8be3-292d5001c3b4",
   "metadata": {},
   "outputs": [
    {
     "name": "stdout",
     "output_type": "stream",
     "text": [
      "1652890257000\n"
     ]
    }
   ],
   "source": [
    "DEADLINE_A=$((NOW+12*HOUR))\n",
    "echo $DEADLINE_A"
   ]
  },
  {
   "cell_type": "code",
   "execution_count": 15,
   "id": "0d8bbe56-76f1-4581-848d-3e24e069ba7e",
   "metadata": {},
   "outputs": [
    {
     "name": "stdout",
     "output_type": "stream",
     "text": [
      "1652933457000\n"
     ]
    }
   ],
   "source": [
    "DEADLINE_B=$((NOW+24*HOUR))\n",
    "echo $DEADLINE_B"
   ]
  },
  {
   "cell_type": "markdown",
   "id": "d66d5546-c149-4834-afb6-5113c3b29952",
   "metadata": {},
   "source": [
    "Create the contract from a template for swaps."
   ]
  },
  {
   "cell_type": "code",
   "execution_count": 16,
   "id": "8a68c33f-0eb0-4497-b6e7-db229d9fb29a",
   "metadata": {},
   "outputs": [],
   "source": [
    "marlowe-cli template swap --minimum-ada 2000000             \\\n",
    "                          --a-party PK=$MARLOWE_PKH         \\\n",
    "                          --a-token $SWAN                   \\\n",
    "                          --a-amount 1                      \\\n",
    "                          --a-timeout $DEADLINE_A           \\\n",
    "                          --b-party PK=$BEAUMONT_PKH        \\\n",
    "                          --b-token $DJED                   \\\n",
    "                          --b-amount $PRICE                 \\\n",
    "                          --b-timeout $DEADLINE_B           \\\n",
    "                          --out-contract-file tx-1.contract \\\n",
    "                          --out-state-file    tx-1.state"
   ]
  },
  {
   "cell_type": "markdown",
   "id": "f0547596-9a46-4f09-a3c4-441241d26e81",
   "metadata": {},
   "source": [
    "Inspect the contract."
   ]
  },
  {
   "cell_type": "code",
   "execution_count": 17,
   "id": "208ffd91-2f03-442b-96e6-060dbe76664f",
   "metadata": {},
   "outputs": [
    {
     "name": "stdout",
     "output_type": "stream",
     "text": [
      "timeout: 1652890257000\n",
      "timeout_continuation: close\n",
      "when:\n",
      "- case:\n",
      "    deposits: 1\n",
      "    into_account:\n",
      "      pk_hash: e107572dc2e0f7dadaf87c1a4f55d6b5b5456108c1de8f6d75ba0d15\n",
      "    of_token:\n",
      "      currency_symbol: 8bb3b343d8e404472337966a722150048c768d0a92a9813596c5338d\n",
      "      token_name: Swan\n",
      "    party:\n",
      "      pk_hash: e107572dc2e0f7dadaf87c1a4f55d6b5b5456108c1de8f6d75ba0d15\n",
      "  then:\n",
      "    timeout: 1652933457000\n",
      "    timeout_continuation: close\n",
      "    when:\n",
      "    - case:\n",
      "        deposits: 2250\n",
      "        into_account:\n",
      "          pk_hash: 84117ffa443e598527726f6509078114ecd1f2c031e71dd5d239d504\n",
      "        of_token:\n",
      "          currency_symbol: f4cf384ddd1b1377b08302b17990e9618b62924f5705458c17ee4f7d\n",
      "          token_name: DjedUSD\n",
      "        party:\n",
      "          pk_hash: 84117ffa443e598527726f6509078114ecd1f2c031e71dd5d239d504\n",
      "      then:\n",
      "        from_account:\n",
      "          pk_hash: e107572dc2e0f7dadaf87c1a4f55d6b5b5456108c1de8f6d75ba0d15\n",
      "        pay: 1\n",
      "        then:\n",
      "          from_account:\n",
      "            pk_hash: 84117ffa443e598527726f6509078114ecd1f2c031e71dd5d239d504\n",
      "          pay: 2250\n",
      "          then: close\n",
      "          to:\n",
      "            party:\n",
      "              pk_hash: e107572dc2e0f7dadaf87c1a4f55d6b5b5456108c1de8f6d75ba0d15\n",
      "          token:\n",
      "            currency_symbol: f4cf384ddd1b1377b08302b17990e9618b62924f5705458c17ee4f7d\n",
      "            token_name: DjedUSD\n",
      "        to:\n",
      "          party:\n",
      "            pk_hash: 84117ffa443e598527726f6509078114ecd1f2c031e71dd5d239d504\n",
      "        token:\n",
      "          currency_symbol: 8bb3b343d8e404472337966a722150048c768d0a92a9813596c5338d\n",
      "          token_name: Swan\n"
     ]
    }
   ],
   "source": [
    "json2yaml tx-1.contract"
   ]
  },
  {
   "cell_type": "markdown",
   "id": "06eaaf24-94db-454c-8f09-65aa1f1849f2",
   "metadata": {},
   "source": [
    "Inspect the initial state."
   ]
  },
  {
   "cell_type": "code",
   "execution_count": 18,
   "id": "fb50a641-b6dc-4f2d-9f10-fb2b39877f07",
   "metadata": {},
   "outputs": [
    {
     "name": "stdout",
     "output_type": "stream",
     "text": [
      "accounts:\n",
      "- - - pk_hash: e107572dc2e0f7dadaf87c1a4f55d6b5b5456108c1de8f6d75ba0d15\n",
      "    - currency_symbol: ''\n",
      "      token_name: ''\n",
      "  - 2000000\n",
      "boundValues: []\n",
      "choices: []\n",
      "minTime: 1\n"
     ]
    }
   ],
   "source": [
    "json2yaml tx-1.state"
   ]
  },
  {
   "cell_type": "markdown",
   "id": "d74046ba-53bb-48c0-914a-5fb4c07df5e3",
   "metadata": {},
   "source": [
    "## Running the Contract on the Public Testnet"
   ]
  },
  {
   "cell_type": "markdown",
   "id": "87174e3e-5db0-442d-916e-72093d1ff792",
   "metadata": {},
   "source": [
    "### Transaction 1. Christopher Creates the Contract\n",
    "\n",
    "First we initialize the `.marlowe` file that bundles the information needed to transition a contract forward."
   ]
  },
  {
   "cell_type": "code",
   "execution_count": 19,
   "id": "8bf71bab-c2ee-470b-a229-b4f21f190639",
   "metadata": {},
   "outputs": [],
   "source": [
    "marlowe-cli run initialize --contract-file  tx-1.contract \\\n",
    "                           --state-file     tx-1.state    \\\n",
    "                           --out-file       tx-1.marlowe"
   ]
  },
  {
   "cell_type": "markdown",
   "id": "c24cc0c3-2af4-48cd-badc-f049447983a1",
   "metadata": {},
   "source": [
    "Submit the transaction to the blockchain."
   ]
  },
  {
   "cell_type": "code",
   "execution_count": 20,
   "id": "e01bb099-64e1-4ce9-9241-d35c6b6d8cbe",
   "metadata": {},
   "outputs": [
    {
     "name": "stdout",
     "output_type": "stream",
     "text": [
      "\n",
      "Fee: Lovelace 202197\n",
      "Size: 821 / 16384 = 5%\n",
      "Execution units:\n",
      "  Memory: 0 / 16000000 = 0%\n",
      "  Steps: 0 / 10000000000 = 0%\n",
      "TxId \"67689604bc6232c04f7f0a544e683bd2889fb2053a91622c29364948794c12e9\"\n"
     ]
    }
   ],
   "source": [
    "marlowe-cli run execute --tx-in $TX_0_MARLOWE_ADA       \\\n",
    "                        --required-signer $MARLOWE_SKEY \\\n",
    "                        --marlowe-out-file tx-1.marlowe \\\n",
    "                        --change-address $MARLOWE_ADDR  \\\n",
    "                        --out-file /dev/null            \\\n",
    "                        --submit 600                    \\\n",
    "                        --print-stats"
   ]
  },
  {
   "cell_type": "markdown",
   "id": "dd07e6d9-031c-4695-8cef-a078ec87cfe2",
   "metadata": {},
   "source": [
    "Record the transaction ID, which we need for spending UTxOs from the transaction."
   ]
  },
  {
   "cell_type": "code",
   "execution_count": 21,
   "id": "015cebf8-e9a1-4193-9d08-927e58e8b63d",
   "metadata": {},
   "outputs": [],
   "source": [
    "TX_1=67689604bc6232c04f7f0a544e683bd2889fb2053a91622c29364948794c12e9"
   ]
  },
  {
   "cell_type": "markdown",
   "id": "930c98b5-1940-410f-ae3b-a59814ae43e5",
   "metadata": {},
   "source": [
    "Compute the Marlowe contract's validator address."
   ]
  },
  {
   "cell_type": "code",
   "execution_count": 22,
   "id": "ae31da28-1d89-486e-8ee2-e3bbdab25d84",
   "metadata": {},
   "outputs": [
    {
     "name": "stdout",
     "output_type": "stream",
     "text": [
      "addr_test1wquea223tl4cdz6n6w000g84hznt2tedafkdvwr6njhex9q39w5zm\n"
     ]
    }
   ],
   "source": [
    "VALIDATOR_ADDR=$(jq -r '.marloweValidator.address' tx-1.marlowe)\n",
    "echo $VALIDATOR_ADDR"
   ]
  },
  {
   "cell_type": "markdown",
   "id": "3c8ebb4b-f328-4b91-bd4f-83f7c6e07142",
   "metadata": {},
   "source": [
    "Query the validator's address to see that the contract was created."
   ]
  },
  {
   "cell_type": "code",
   "execution_count": 23,
   "id": "12fecb1d-1f96-4379-812a-d646d1faf4db",
   "metadata": {},
   "outputs": [
    {
     "name": "stdout",
     "output_type": "stream",
     "text": [
      "                           TxHash                                 TxIx        Amount\n",
      "--------------------------------------------------------------------------------------\n",
      "67689604bc6232c04f7f0a544e683bd2889fb2053a91622c29364948794c12e9     1        2000000 lovelace + TxOutDatumHash ScriptDataInAlonzoEra \"194a45b9721b605749ec09f3bd370a3cc3713193375688e05b3c28ebad7a0e06\"\n"
     ]
    }
   ],
   "source": [
    "cardano-cli query utxo --testnet-magic $CARDANO_TESTNET_MAGIC --address $VALIDATOR_ADDR"
   ]
  },
  {
   "cell_type": "markdown",
   "id": "79868514-1a08-4b4d-a46d-a5ceff5af333",
   "metadata": {},
   "source": [
    "See that the balance of funds at Christopher's address."
   ]
  },
  {
   "cell_type": "code",
   "execution_count": 24,
   "id": "03b8979b-123b-40d1-8188-161e03a3a9ea",
   "metadata": {},
   "outputs": [
    {
     "name": "stdout",
     "output_type": "stream",
     "text": [
      "                           TxHash                                 TxIx        Amount\n",
      "--------------------------------------------------------------------------------------\n",
      "67689604bc6232c04f7f0a544e683bd2889fb2053a91622c29364948794c12e9     0        488159295 lovelace + TxOutDatumNone\n",
      "a2cb791acb841e28460f1b3b0c69b9ebdf853cfaa08eb05bb3f324fca1bab46d     1        2000000 lovelace + 1 8bb3b343d8e404472337966a722150048c768d0a92a9813596c5338d.5377616e + TxOutDatumNone\n"
     ]
    }
   ],
   "source": [
    "cardano-cli query utxo --testnet-magic $CARDANO_TESTNET_MAGIC --address $MARLOWE_ADDR"
   ]
  },
  {
   "cell_type": "markdown",
   "id": "0315a383-db87-425f-9b89-e90ea5f3cf7d",
   "metadata": {},
   "source": [
    "### Transaction 2. Christopher Deposits the NFT Representing Ownership of the Swan Theatre\n",
    "\n",
    "Now we transition from the initial `.marlowe` file to the next `.marlowe` file by depositing 1 `Swan` token."
   ]
  },
  {
   "cell_type": "code",
   "execution_count": 25,
   "id": "c3a28500-28f6-48e8-9599-a7e1fc3bb9f8",
   "metadata": {},
   "outputs": [],
   "source": [
    "marlowe-cli run prepare --marlowe-file tx-1.marlowe         \\\n",
    "                        --deposit-account PK=$MARLOWE_PKH   \\\n",
    "                        --deposit-party PK=$MARLOWE_PKH     \\\n",
    "                        --deposit-token $SWAN               \\\n",
    "                        --deposit-amount 1                  \\\n",
    "                        --invalid-before $NOW               \\\n",
    "                        --invalid-hereafter $((NOW+6*HOUR)) \\\n",
    "                        --out-file tx-2.marlowe"
   ]
  },
  {
   "cell_type": "markdown",
   "id": "158dacc2-2883-4764-a1eb-3a847ad4fb19",
   "metadata": {},
   "source": [
    "Submit the transaction to the blockchain."
   ]
  },
  {
   "cell_type": "code",
   "execution_count": 26,
   "id": "6da2d9c8-7b6c-4d10-8e99-0d137164c86b",
   "metadata": {
    "tags": []
   },
   "outputs": [
    {
     "name": "stdout",
     "output_type": "stream",
     "text": [
      "\n",
      "Fee: Lovelace 1170290\n",
      "Size: 14041 / 16384 = 85%\n",
      "Execution units:\n",
      "  Memory: 4538228 / 16000000 = 28%\n",
      "  Steps: 1603062306 / 10000000000 = 16%\n",
      "TxId \"5213dbf8ad4bd9b0bd36883e332531cd59dc8cf7ecd03910bdd8ed96860c4e9e\"\n"
     ]
    }
   ],
   "source": [
    "marlowe-cli run execute --tx-in $TX_0_MARLOWE_SWAN      \\\n",
    "                        --tx-in \"$TX_1#0\"               \\\n",
    "                        --required-signer $MARLOWE_SKEY \\\n",
    "                        --marlowe-in-file tx-1.marlowe  \\\n",
    "                        --tx-in-marlowe \"$TX_1#1\"       \\\n",
    "                        --tx-in-collateral \"$TX_1#0\"    \\\n",
    "                        --marlowe-out-file tx-2.marlowe \\\n",
    "                        --change-address $MARLOWE_ADDR  \\\n",
    "                        --out-file /dev/null            \\\n",
    "                        --submit 600                    \\\n",
    "                        --print-stats"
   ]
  },
  {
   "cell_type": "markdown",
   "id": "0d4bc911-9d21-4ddc-a6ac-6a6c144721bd",
   "metadata": {},
   "source": [
    "Record the transaction ID, which we need for spending UTxOs from the transaction."
   ]
  },
  {
   "cell_type": "code",
   "execution_count": 27,
   "id": "71f436e1-24fe-4f4b-9116-f51e6bcf7b5e",
   "metadata": {},
   "outputs": [],
   "source": [
    "TX_2=5213dbf8ad4bd9b0bd36883e332531cd59dc8cf7ecd03910bdd8ed96860c4e9e"
   ]
  },
  {
   "cell_type": "markdown",
   "id": "d66a29c5-fd98-482c-a8e9-920b1e915428",
   "metadata": {},
   "source": [
    "Query the validator's address to see that the contract received the deposit."
   ]
  },
  {
   "cell_type": "code",
   "execution_count": 28,
   "id": "7cc2a3cd-d179-455d-8cb2-b791496bc94d",
   "metadata": {},
   "outputs": [
    {
     "name": "stdout",
     "output_type": "stream",
     "text": [
      "                           TxHash                                 TxIx        Amount\n",
      "--------------------------------------------------------------------------------------\n",
      "5213dbf8ad4bd9b0bd36883e332531cd59dc8cf7ecd03910bdd8ed96860c4e9e     1        2000000 lovelace + 1 8bb3b343d8e404472337966a722150048c768d0a92a9813596c5338d.5377616e + TxOutDatumHash ScriptDataInAlonzoEra \"6556b935e0a345df25aa47470aee5c7912a200aae7d21324924d4b9a93d477d9\"\n"
     ]
    }
   ],
   "source": [
    "cardano-cli query utxo --testnet-magic $CARDANO_TESTNET_MAGIC --address $VALIDATOR_ADDR"
   ]
  },
  {
   "cell_type": "markdown",
   "id": "d4858fd0-981a-4f03-96e7-a8f7c561efbc",
   "metadata": {},
   "source": [
    "See that the balance of funds at Christopher's address."
   ]
  },
  {
   "cell_type": "code",
   "execution_count": 29,
   "id": "e71a05ed-550d-4597-85e0-71762a663427",
   "metadata": {},
   "outputs": [
    {
     "name": "stdout",
     "output_type": "stream",
     "text": [
      "                           TxHash                                 TxIx        Amount\n",
      "--------------------------------------------------------------------------------------\n",
      "5213dbf8ad4bd9b0bd36883e332531cd59dc8cf7ecd03910bdd8ed96860c4e9e     0        488989005 lovelace + TxOutDatumNone\n"
     ]
    }
   ],
   "source": [
    "cardano-cli query utxo --testnet-magic $CARDANO_TESTNET_MAGIC --address $MARLOWE_ADDR"
   ]
  },
  {
   "cell_type": "markdown",
   "id": "10dce0a7-24b2-42c8-b0a9-c04ce93adee8",
   "metadata": {},
   "source": [
    "### Transaction 3. Francis Deposits the Djed to Pay for the Swan Theatre, Closing the Contract\n",
    "\n",
    "We again transition from one `.marlowe` file to the next `.marlowe` file by depositing the `DjedUSD`. This causes the contract to makes its payments to all parties and then close."
   ]
  },
  {
   "cell_type": "code",
   "execution_count": 30,
   "id": "12244770-c074-425f-b9d8-eef3c1309dda",
   "metadata": {},
   "outputs": [
    {
     "name": "stdout",
     "output_type": "stream",
     "text": [
      "Payment 1\n",
      "  Acccount: PK \"e107572dc2e0f7dadaf87c1a4f55d6b5b5456108c1de8f6d75ba0d15\"\n",
      "  Payee: Party (PK \"84117ffa443e598527726f6509078114ecd1f2c031e71dd5d239d504\")\n",
      "  Ada: 0.000000\n",
      "  8bb3b343d8e404472337966a722150048c768d0a92a9813596c5338d.\"Swan\": 1\n",
      "Payment 2\n",
      "  Acccount: PK \"84117ffa443e598527726f6509078114ecd1f2c031e71dd5d239d504\"\n",
      "  Payee: Party (PK \"e107572dc2e0f7dadaf87c1a4f55d6b5b5456108c1de8f6d75ba0d15\")\n",
      "  Ada: 0.000000\n",
      "  f4cf384ddd1b1377b08302b17990e9618b62924f5705458c17ee4f7d.\"DjedUSD\": 2250\n",
      "Payment 3\n",
      "  Acccount: PK \"e107572dc2e0f7dadaf87c1a4f55d6b5b5456108c1de8f6d75ba0d15\"\n",
      "  Payee: Party (PK \"e107572dc2e0f7dadaf87c1a4f55d6b5b5456108c1de8f6d75ba0d15\")\n",
      "  Ada: 2.000000\n"
     ]
    }
   ],
   "source": [
    "marlowe-cli run prepare --marlowe-file tx-2.marlowe         \\\n",
    "                        --deposit-account PK=$BEAUMONT_PKH  \\\n",
    "                        --deposit-party PK=$BEAUMONT_PKH    \\\n",
    "                        --deposit-token $DJED               \\\n",
    "                        --deposit-amount $PRICE             \\\n",
    "                        --invalid-before $NOW               \\\n",
    "                        --invalid-hereafter $((NOW+6+HOUR)) \\\n",
    "                        --out-file tx-3.marlowe"
   ]
  },
  {
   "cell_type": "markdown",
   "id": "d9f82e78-2bf9-4125-841c-c4206fd2d367",
   "metadata": {},
   "source": [
    "Submit the transaction to the blockchain."
   ]
  },
  {
   "cell_type": "code",
   "execution_count": 31,
   "id": "ca298378-edb7-4fcb-9402-261f8ad67f0b",
   "metadata": {},
   "outputs": [
    {
     "name": "stdout",
     "output_type": "stream",
     "text": [
      "\n",
      "Fee: Lovelace 1258245\n",
      "Size: 13503 / 16384 = 82%\n",
      "Execution units:\n",
      "  Memory: 5959514 / 16000000 = 37%\n",
      "  Steps: 2013861504 / 10000000000 = 20%\n",
      "TxId \"673f2019dcba6950955f35f2c2debdc9e6154838b52e89663dfce5f2d420ff50\"\n"
     ]
    }
   ],
   "source": [
    "marlowe-cli run execute --tx-in $TX_0_BEAUMONT_DJED           \\\n",
    "                        --tx-in $TX_0_BEAUMONT_ADA            \\\n",
    "                        --required-signer $BEAUMONT_SKEY      \\\n",
    "                        --marlowe-in-file tx-2.marlowe        \\\n",
    "                        --tx-in-marlowe \"$TX_2#1\"             \\\n",
    "                        --tx-in-collateral $TX_0_BEAUMONT_ADA \\\n",
    "                        --marlowe-out-file tx-3.marlowe       \\\n",
    "                        --change-address $BEAUMONT_ADDR       \\\n",
    "                        --out-file /dev/null                  \\\n",
    "                        --submit 600                          \\\n",
    "                        --print-stats"
   ]
  },
  {
   "cell_type": "markdown",
   "id": "c8ad1170-eacc-4d49-b045-edb32b54ffc5",
   "metadata": {},
   "source": [
    "Record the transaction ID, which we need for spending UTxOs from the transaction."
   ]
  },
  {
   "cell_type": "code",
   "execution_count": 32,
   "id": "43f4a967-936c-4b77-87e4-1aa2ea31cc10",
   "metadata": {},
   "outputs": [],
   "source": [
    "TX_3=673f2019dcba6950955f35f2c2debdc9e6154838b52e89663dfce5f2d420ff50"
   ]
  },
  {
   "cell_type": "markdown",
   "id": "a62b32d0-47fe-4e43-a4be-5fb770ae90ca",
   "metadata": {},
   "source": [
    "There are not funds in the contract any longer."
   ]
  },
  {
   "cell_type": "code",
   "execution_count": 33,
   "id": "8f30a138-ea93-4be3-93fe-67a435b4c196",
   "metadata": {},
   "outputs": [
    {
     "name": "stdout",
     "output_type": "stream",
     "text": [
      "                           TxHash                                 TxIx        Amount\n",
      "--------------------------------------------------------------------------------------\n"
     ]
    }
   ],
   "source": [
    "cardano-cli query utxo --testnet-magic $CARDANO_TESTNET_MAGIC --address $VALIDATOR_ADDR"
   ]
  },
  {
   "cell_type": "markdown",
   "id": "eae08736-7050-4722-b068-f19ef50bcf91",
   "metadata": {},
   "source": [
    "Christopher has received the 2250 `DjedUSD` in return for the Swan Theatre."
   ]
  },
  {
   "cell_type": "code",
   "execution_count": 34,
   "id": "beb78bb6-690f-4182-9474-abc01f867244",
   "metadata": {},
   "outputs": [
    {
     "name": "stdout",
     "output_type": "stream",
     "text": [
      "                           TxHash                                 TxIx        Amount\n",
      "--------------------------------------------------------------------------------------\n",
      "5213dbf8ad4bd9b0bd36883e332531cd59dc8cf7ecd03910bdd8ed96860c4e9e     0        488989005 lovelace + TxOutDatumNone\n",
      "673f2019dcba6950955f35f2c2debdc9e6154838b52e89663dfce5f2d420ff50     2        2000000 lovelace + 2250 f4cf384ddd1b1377b08302b17990e9618b62924f5705458c17ee4f7d.446a6564555344 + TxOutDatumNone\n"
     ]
    }
   ],
   "source": [
    "cardano-cli query utxo --testnet-magic $CARDANO_TESTNET_MAGIC --address $MARLOWE_ADDR"
   ]
  },
  {
   "cell_type": "markdown",
   "id": "ba34d74f-0ddb-4d61-8dec-42dae33c1b75",
   "metadata": {},
   "source": [
    "Francis Beaumont has received the NFT representing ownership of the Swan Theatre."
   ]
  },
  {
   "cell_type": "code",
   "execution_count": 35,
   "id": "55a5853f-2caa-4c5b-a1e9-b471b6167b4a",
   "metadata": {},
   "outputs": [
    {
     "name": "stdout",
     "output_type": "stream",
     "text": [
      "                           TxHash                                 TxIx        Amount\n",
      "--------------------------------------------------------------------------------------\n",
      "673f2019dcba6950955f35f2c2debdc9e6154838b52e89663dfce5f2d420ff50     0        499621498 lovelace + TxOutDatumNone\n",
      "673f2019dcba6950955f35f2c2debdc9e6154838b52e89663dfce5f2d420ff50     1        1344798 lovelace + 1 8bb3b343d8e404472337966a722150048c768d0a92a9813596c5338d.5377616e + TxOutDatumNone\n"
     ]
    }
   ],
   "source": [
    "cardano-cli query utxo --testnet-magic $CARDANO_TESTNET_MAGIC --address $BEAUMONT_ADDR"
   ]
  },
  {
   "cell_type": "markdown",
   "id": "f696ef43-2c84-464c-b3ce-b85d397c7abe",
   "metadata": {},
   "source": [
    "## Recap\n",
    "\n",
    "The three transactions above are viewable on Cardanoscan:\n",
    "\n",
    "1. Christopher creates the contract: [67689604bc6232c04f7f0a544e683bd2889fb2053a91622c29364948794c12e9](https://testnet.cardanoscan.io/transaction/67689604bc6232c04f7f0a544e683bd2889fb2053a91622c29364948794c12e9)\n",
    "1. Christopher deposits the Swan token: [5213dbf8ad4bd9b0bd36883e332531cd59dc8cf7ecd03910bdd8ed96860c4e9e](https://testnet.cardanoscan.io/transaction/5213dbf8ad4bd9b0bd36883e332531cd59dc8cf7ecd03910bdd8ed96860c4e9e)\n",
    "3. Christopher creates the contract: [673f2019dcba6950955f35f2c2debdc9e6154838b52e89663dfce5f2d420ff50](https://testnet.cardanoscan.io/transaction/673f2019dcba6950955f35f2c2debdc9e6154838b52e89663dfce5f2d420ff50)"
   ]
  }
 ],
 "metadata": {
  "kernelspec": {
   "display_name": "Bash - Marlowe",
   "language": "bash",
   "name": "bash_marlowe"
  },
  "language_info": {
   "codemirror_mode": "shell",
   "file_extension": ".sh",
   "mimetype": "text/x-sh",
   "name": "/nix/store/l0wlqpbsvh1pgvhcdhw7qkka3d31si7k-bash-5.1-p8/bin/bash"
  }
 },
 "nbformat": 4,
 "nbformat_minor": 5
}
