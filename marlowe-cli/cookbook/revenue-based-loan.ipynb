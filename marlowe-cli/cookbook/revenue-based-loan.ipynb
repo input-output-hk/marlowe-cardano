{
 "cells": [
  {
   "cell_type": "markdown",
   "id": "d2282dae-c7b1-4dec-9e9d-f66dcff5e767",
   "metadata": {},
   "source": [
    "# Revenue-Based Loan in Marlowe\n",
    "\n",
    "*Executive Summary*\n",
    "\n",
    "This revenue-based loan involves variable payments that are computed as a fixed percentage of the borrower's revenue during each period of the loan. The payments continue until principal plus interest is paid off. There is no penalty for missing a payment. An oracle reports the borrower's revenue each period, prior to the borrower depositing that amount. The contract was both simulated and run on the Cardano blockchain: that involved 8 transactions.\n",
    "\n",
    "[This video](https://vimeo.com/726500312/f90fd85ed7) shows [the contract](revenue-based-loan.hs) being run in Marlowe Playground.\n",
    "\n",
    "*Sequences of transactions in this example*\n",
    "\n",
    "1.  The oracle creates the contract.\n",
    "2.  The lender deposits the principal.\n",
    "3.  The oracle reports the borrower's revenue in the first period.\n",
    "4.  The borrower deposits their first payment.\n",
    "5.  The oracle reports the borrower's revenue in the second period.\n",
    "6.  The borrower deposits their second payment.\n",
    "7.  The oracle reports the borrower's revenue in the third period.\n",
    "8.  The borrower deposits their third payment, completing the repayment of principal plus interest."
   ]
  },
  {
   "cell_type": "markdown",
   "id": "766ae697-3fff-46e7-97ad-25d43987c440",
   "metadata": {
    "tags": []
   },
   "source": [
    "## Preliminaries"
   ]
  },
  {
   "cell_type": "markdown",
   "id": "c27b9add-75d2-43c0-bdfa-5e307d0d7ec4",
   "metadata": {},
   "source": [
    "Make a note of the versions of the Marlowe repository and software."
   ]
  },
  {
   "cell_type": "code",
   "execution_count": null,
   "id": "59b0f329-1f59-4366-b4dc-34b9e4adee00",
   "metadata": {},
   "outputs": [
    {
     "name": "stdout",
     "output_type": "stream",
     "text": [
      "marlowe-cli 0.0.5.0\n"
     ]
    }
   ],
   "source": [
    "marlowe-cli --version"
   ]
  },
  {
   "cell_type": "code",
   "execution_count": null,
   "id": "dcac1a0e-f533-4cad-b474-c1f122f79cce",
   "metadata": {},
   "outputs": [
    {
     "name": "stdout",
     "output_type": "stream",
     "text": [
      "cardano-cli 1.34.1 - linux-x86_64 - ghc-8.10\n",
      "git rev 0000000000000000000000000000000000000000\n"
     ]
    }
   ],
   "source": [
    "cardano-cli --version"
   ]
  },
  {
   "cell_type": "code",
   "execution_count": null,
   "id": "85240b4e-2412-4530-95e4-5219eb8a9780",
   "metadata": {},
   "outputs": [
    {
     "name": "stdout",
     "output_type": "stream",
     "text": [
      "de3ca53f994f989ba7f5693e5e03bdfbcd52beee\n"
     ]
    }
   ],
   "source": [
    "git rev-parse HEAD"
   ]
  },
  {
   "cell_type": "markdown",
   "id": "0a7fcb94-db1e-4800-ae68-68ee488599ce",
   "metadata": {},
   "source": [
    "### Select the Cardano network"
   ]
  },
  {
   "cell_type": "code",
   "execution_count": 1,
   "id": "60ab7ef1-d69a-4d40-aa20-894916013cf2",
   "metadata": {},
   "outputs": [],
   "source": [
    "export CARDANO_TESTNET_MAGIC=1567\n",
    "export CARDANO_NODE_SOCKET_PATH=node.socket"
   ]
  },
  {
   "cell_type": "markdown",
   "id": "a4d471e2-0e05-428d-a32d-75b56c7e4eb0",
   "metadata": {},
   "source": [
    "### Set up keys, addresses, and tokens\n",
    "\n",
    "This section can be omitted if only off-chain simulation is performed.\n",
    "\n",
    "We use public key hashes instead of role tokens to identify the participants in the contract."
   ]
  },
  {
   "cell_type": "markdown",
   "id": "0da797a1-740e-482d-ad36-70638afe85a7",
   "metadata": {},
   "source": [
    "### Djed\n",
    "\n",
    "The contract will use Djed for payments."
   ]
  },
  {
   "cell_type": "code",
   "execution_count": 2,
   "id": "f94d45db-bd70-4b55-9146-f4dd52edb4d4",
   "metadata": {},
   "outputs": [
    {
     "name": "stdout",
     "output_type": "stream",
     "text": [
      "1f4cc97451944ce039366dee5d9acd36a2784dd22e7c3431e50264e8.DjedUSD\n"
     ]
    }
   ],
   "source": [
    "DJED_POLICY=1f4cc97451944ce039366dee5d9acd36a2784dd22e7c3431e50264e8\n",
    "DJED_NAME=DjedUSD\n",
    "DJED=$DJED_POLICY.$DJED_NAME\n",
    "echo $DJED"
   ]
  },
  {
   "cell_type": "markdown",
   "id": "f5f29d6c-c2e5-4b5c-8164-c34291c817f6",
   "metadata": {},
   "source": [
    "In `cardano-cli` the token name is printed in hexadecimal, so we have . . ."
   ]
  },
  {
   "cell_type": "code",
   "execution_count": 3,
   "id": "1d6ce963-3a23-4a54-835d-15d04e471cb4",
   "metadata": {},
   "outputs": [
    {
     "name": "stdout",
     "output_type": "stream",
     "text": [
      "1f4cc97451944ce039366dee5d9acd36a2784dd22e7c3431e50264e8.446a6564555344\n"
     ]
    }
   ],
   "source": [
    "echo $DJED_POLICY.$(echo -n $DJED_NAME | basenc --base16 | tr '[:upper:]' '[:lower:]')"
   ]
  },
  {
   "cell_type": "markdown",
   "id": "a40630f6-964b-473b-8e74-6203b45d96e6",
   "metadata": {},
   "source": [
    "### Parties to the Contract"
   ]
  },
  {
   "cell_type": "markdown",
   "id": "40ad5b54-f275-490f-8211-1c5094db7b23",
   "metadata": {},
   "source": [
    "#### The Oracle: Christopher Marlowe"
   ]
  },
  {
   "cell_type": "code",
   "execution_count": 4,
   "id": "67c1b16c-eab5-480c-a745-c4dd495e9dd6",
   "metadata": {},
   "outputs": [
    {
     "name": "stdout",
     "output_type": "stream",
     "text": [
      "addr_test1vrssw4edcts00kk6lp7p5n64666m23tpprqaarmdwkaq69gfvqnpz\n",
      "e107572dc2e0f7dadaf87c1a4f55d6b5b5456108c1de8f6d75ba0d15\n"
     ]
    }
   ],
   "source": [
    "MARLOWE_SKEY=christopher-marlowe.skey\n",
    "MARLOWE_VKEY=christopher-marlowe.vkey\n",
    "MARLOWE_PKH=$(cardano-cli address key-hash --payment-verification-key-file $MARLOWE_VKEY)\n",
    "MARLOWE_ADDR=$(cat christopher-marlowe.testnet.address)\n",
    "echo $MARLOWE_ADDR\n",
    "echo $MARLOWE_PKH"
   ]
  },
  {
   "cell_type": "markdown",
   "id": "4c4c8b5b-f456-4551-86f3-c6394c6d907f",
   "metadata": {},
   "source": [
    "Christopher Marlowe has these UTxOs at his address:"
   ]
  },
  {
   "cell_type": "code",
   "execution_count": 5,
   "id": "02b32d34-1833-4520-ae0c-055e1f177beb",
   "metadata": {},
   "outputs": [
    {
     "name": "stdout",
     "output_type": "stream",
     "text": [
      "                           TxHash                                 TxIx        Amount\n",
      "--------------------------------------------------------------------------------------\n",
      "f872d293f9097a5e9b28e4b5817ce377544a179a6813282b6d2604fc4aed0fb6     0        994743733 lovelace + TxOutDatumNone\n"
     ]
    }
   ],
   "source": [
    "cardano-cli query utxo --testnet-magic $CARDANO_TESTNET_MAGIC --address $MARLOWE_ADDR"
   ]
  },
  {
   "cell_type": "markdown",
   "id": "0ab83a0b-369a-4c74-b8a3-0700e9536c36",
   "metadata": {},
   "source": [
    "Make a note of this UTxO for later use."
   ]
  },
  {
   "cell_type": "code",
   "execution_count": 6,
   "id": "91cad782-72f5-4103-9e88-ec25704d9cc3",
   "metadata": {},
   "outputs": [],
   "source": [
    "TX_0_MARLOWE=\"f872d293f9097a5e9b28e4b5817ce377544a179a6813282b6d2604fc4aed0fb6#0\""
   ]
  },
  {
   "cell_type": "markdown",
   "id": "f4f8b755-2a96-4c55-b37b-8b8b6fb8ca26",
   "metadata": {},
   "source": [
    "#### The Lender: Francis Beaumont"
   ]
  },
  {
   "cell_type": "code",
   "execution_count": 7,
   "id": "d2a8af1f-7cf8-417b-90ea-cb9c6bec2ac2",
   "metadata": {},
   "outputs": [
    {
     "name": "stdout",
     "output_type": "stream",
     "text": [
      "addr_test1vzzpzll6gsl9npf8wfhk2zg8sy2we50jcqc7w8w46gua2pqq7cw2q\n",
      "84117ffa443e598527726f6509078114ecd1f2c031e71dd5d239d504\n"
     ]
    }
   ],
   "source": [
    "BEAUMONT_SKEY=francis-beaumont.skey\n",
    "BEAUMONT_VKEY=francis-beaumont.vkey\n",
    "BEAUMONT_PKH=$(cardano-cli address key-hash --payment-verification-key-file $BEAUMONT_VKEY)\n",
    "BEAUMONT_ADDR=$(cat francis-beaumont.testnet.address)\n",
    "echo $BEAUMONT_ADDR\n",
    "echo $BEAUMONT_PKH"
   ]
  },
  {
   "cell_type": "code",
   "execution_count": 8,
   "id": "72eb7ab2-999d-4f83-8c05-e02da98a27d3",
   "metadata": {},
   "outputs": [
    {
     "name": "stdout",
     "output_type": "stream",
     "text": [
      "                           TxHash                                 TxIx        Amount\n",
      "--------------------------------------------------------------------------------------\n",
      "923e24f6980b547ec3fe76febd97aa050d8d4e52111ed69e9de0ef80a7cd2f93     0        970562214 lovelace + TxOutDatumNone\n",
      "923e24f6980b547ec3fe76febd97aa050d8d4e52111ed69e9de0ef80a7cd2f93     1        10000000 lovelace + 1000 1f4cc97451944ce039366dee5d9acd36a2784dd22e7c3431e50264e8.446a6564555344 + TxOutDatumNone\n"
     ]
    }
   ],
   "source": [
    "cardano-cli query utxo --testnet-magic $CARDANO_TESTNET_MAGIC --address $BEAUMONT_ADDR"
   ]
  },
  {
   "cell_type": "markdown",
   "id": "dd8212c4-6981-48ba-ad6e-1943d30b97c3",
   "metadata": {},
   "source": [
    "Make a note of these UTxOs for later use."
   ]
  },
  {
   "cell_type": "code",
   "execution_count": 9,
   "id": "4c22f0b6-8fb2-47ea-8fc1-036d24a4fb77",
   "metadata": {},
   "outputs": [],
   "source": [
    "TX_0_BEAUMONT_ADA=\"923e24f6980b547ec3fe76febd97aa050d8d4e52111ed69e9de0ef80a7cd2f93#0\"\n",
    "TX_0_BEAUMONT_DJED=\"923e24f6980b547ec3fe76febd97aa050d8d4e52111ed69e9de0ef80a7cd2f93#1\""
   ]
  },
  {
   "cell_type": "markdown",
   "id": "ecb6285a-88f5-41ff-965e-24c3d599434c",
   "metadata": {},
   "source": [
    "#### The Borrower: Thomas Kyd"
   ]
  },
  {
   "cell_type": "code",
   "execution_count": 10,
   "id": "f2b670f0-62c4-4947-a6ee-f01292f2a536",
   "metadata": {},
   "outputs": [
    {
     "name": "stdout",
     "output_type": "stream",
     "text": [
      "addr_test1vr7n0zzth5zycuh972w7rdmh48qur4f3wu6ntn2m2h30dlcvltuy5\n",
      "fd37884bbd044c72e5f29de1b777a9c1c1d531773535cd5b55e2f6ff\n"
     ]
    }
   ],
   "source": [
    "KYD_SKEY=thomas-kyd.skey\n",
    "KYD_VKEY=thomas-kyd.vkey\n",
    "KYD_PKH=$(cardano-cli address key-hash --payment-verification-key-file $KYD_VKEY)\n",
    "KYD_ADDR=$(cat thomas-kyd.testnet.address)\n",
    "echo $KYD_ADDR\n",
    "echo $KYD_PKH"
   ]
  },
  {
   "cell_type": "markdown",
   "id": "c70f1355-678c-40e1-a5f6-b76f1d29035f",
   "metadata": {},
   "source": [
    "Thomas Kyd has these UTxOs at his address:"
   ]
  },
  {
   "cell_type": "code",
   "execution_count": 11,
   "id": "c88b0398-dd36-4bf7-8f40-9ed3abaaf579",
   "metadata": {},
   "outputs": [
    {
     "name": "stdout",
     "output_type": "stream",
     "text": [
      "                           TxHash                                 TxIx        Amount\n",
      "--------------------------------------------------------------------------------------\n",
      "625b9f53ee6f5f05ca54834b99ca3dceb097be8e934828d353acb2a7e6c74cb7     0        1002574041 lovelace + TxOutDatumNone\n",
      "923e24f6980b547ec3fe76febd97aa050d8d4e52111ed69e9de0ef80a7cd2f93     2        10000000 lovelace + 100 1f4cc97451944ce039366dee5d9acd36a2784dd22e7c3431e50264e8.446a6564555344 + TxOutDatumNone\n"
     ]
    }
   ],
   "source": [
    "cardano-cli query utxo --testnet-magic $CARDANO_TESTNET_MAGIC --address $KYD_ADDR"
   ]
  },
  {
   "cell_type": "markdown",
   "id": "5d2c294d-c72a-4200-973e-dfd4a10242ae",
   "metadata": {},
   "source": [
    "Make a note of these UTxOs for later use."
   ]
  },
  {
   "cell_type": "code",
   "execution_count": 12,
   "id": "7b85bc04-1c4b-461e-9dc5-72fc6108cafc",
   "metadata": {},
   "outputs": [],
   "source": [
    "TX_0_KYD_ADA=\"625b9f53ee6f5f05ca54834b99ca3dceb097be8e934828d353acb2a7e6c74cb7#0\"\n",
    "TX_0_KYD_DJED=\"923e24f6980b547ec3fe76febd97aa050d8d4e52111ed69e9de0ef80a7cd2f93#2\""
   ]
  },
  {
   "cell_type": "markdown",
   "id": "9d7994be-8723-43bf-b98f-640188948e42",
   "metadata": {},
   "source": [
    "### Set up the contract\n",
    "\n",
    "Start the contract at the current time."
   ]
  },
  {
   "cell_type": "code",
   "execution_count": 13,
   "id": "932d174a-1092-4c5f-9da1-4dd84bd6eb81",
   "metadata": {},
   "outputs": [
    {
     "name": "stdout",
     "output_type": "stream",
     "text": [
      "1656878706000\n"
     ]
    }
   ],
   "source": [
    "NOW=$(($(date -u +%s) * 1000))\n",
    "echo $NOW"
   ]
  },
  {
   "cell_type": "markdown",
   "id": "600ccf78-e0ef-4cf2-878b-8fb65c69fd87",
   "metadata": {},
   "source": [
    "Use a four hour time window for submitting transactions. This is just for convenience when testing this contract."
   ]
  },
  {
   "cell_type": "code",
   "execution_count": 14,
   "id": "b43c72cd-d15c-4323-aee7-09e95c17cae9",
   "metadata": {},
   "outputs": [
    {
     "name": "stdout",
     "output_type": "stream",
     "text": [
      "1656893106000\n"
     ]
    }
   ],
   "source": [
    "HOUR=$((60 * 60 * 1000))\n",
    "DAY=$((24 * HOUR))\n",
    "LATER=$((NOW + 4 * HOUR))\n",
    "echo $LATER"
   ]
  },
  {
   "cell_type": "markdown",
   "id": "abeb8d27-6010-459f-905e-caf65739757a",
   "metadata": {},
   "source": [
    "There is a minimum Ada requirement associated with a native token."
   ]
  },
  {
   "cell_type": "code",
   "execution_count": 15,
   "id": "88f6d4e0-2271-42cc-9cfe-177362edf9e9",
   "metadata": {},
   "outputs": [
    {
     "name": "stdout",
     "output_type": "stream",
     "text": [
      "2000000\n"
     ]
    }
   ],
   "source": [
    "ADA=1000000\n",
    "MIN_ADA=$((2 * ADA))\n",
    "echo $MIN_ADA"
   ]
  },
  {
   "cell_type": "markdown",
   "id": "16e9346d-b183-4e58-92a0-fd63dff0d9fb",
   "metadata": {},
   "source": [
    "Create a Haskell program that will generate a contract with six rounds of bidding for three bidders. We could use `runhaskell` instead of `ghc`, but `runhaskell` is slow because it doesn't perform optimizations."
   ]
  },
  {
   "cell_type": "code",
   "execution_count": 16,
   "id": "653abe3f-e29e-45eb-b274-8dcab270507e",
   "metadata": {},
   "outputs": [],
   "source": [
    "PRINCIPAL=1000\n",
    "INTEREST=100\n",
    "RATE=3"
   ]
  },
  {
   "cell_type": "code",
   "execution_count": 17,
   "id": "5e86a115-5b6a-4e65-9a36-63b781eb4685",
   "metadata": {},
   "outputs": [],
   "source": [
    "runhaskell << EOI\n",
    "\n",
    "{-# LANGUAGE OverloadedStrings #-}\n",
    "module RevenueBasedLoan where\n",
    "\n",
    "import Data.Aeson (encodeFile)\n",
    "import Language.Marlowe.Extended.V1\n",
    "import qualified Language.Marlowe.Core.V1.Semantics.Types as S (Contract)\n",
    "\n",
    "main :: IO ()\n",
    "main =\n",
    "  encodeFile \"revenue-based-loan-01.contract\"\n",
    "    . (toCore :: Contract -> Maybe S.Contract)\n",
    "    $ contract\n",
    "\n",
    "djed :: Token\n",
    "djed = Token \"$DJED_POLICY\" \"DjedUSD\"\n",
    "\n",
    "lender :: Party\n",
    "lender = PK \"$BEAUMONT_PKH\"\n",
    "\n",
    "borrower :: Party\n",
    "borrower = PK \"$KYD_PKH\"\n",
    "\n",
    "oracle :: Party\n",
    "oracle = PK \"$MARLOWE_PKH\"\n",
    "\n",
    "revenueChoice :: ChoiceId\n",
    "revenueChoice = ChoiceId \"Revenue\" oracle\n",
    "\n",
    "revenueValue :: Value\n",
    "revenueValue = ChoiceValue revenueChoice\n",
    "\n",
    "revenueBounds :: Bound\n",
    "revenueBounds = Bound 1 1000000\n",
    "\n",
    "principal :: Value\n",
    "principal = Constant $PRINCIPAL\n",
    "\n",
    "interest :: Value\n",
    "interest = Constant $INTEREST\n",
    "\n",
    "paymentPercent :: Value\n",
    "paymentPercent = Constant $RATE\n",
    "\n",
    "remainingDue :: Value\n",
    "remainingDue = UseValue \"Remaining Due\"\n",
    "\n",
    "nextPayment :: Value\n",
    "nextPayment = UseValue \"Next Payment\"\n",
    "\n",
    "makePayment :: Integer -> Contract -> Contract\n",
    "makePayment period continuation =\n",
    "  When\n",
    "    [\n",
    "      Case (Choice revenueChoice [revenueBounds])\n",
    "        $ Let \"Next Payment\" (DivValue (MulValue revenueValue paymentPercent) (Constant 100))\n",
    "        $ If (ValueGT nextPayment remainingDue)\n",
    "            (\n",
    "              When\n",
    "                [\n",
    "                  Case (Deposit lender borrower djed remainingDue)\n",
    "                    $ Pay lender (Party lender) djed remainingDue\n",
    "                      Close  \n",
    "                ]\n",
    "                (POSIXTime $ $NOW + (period + 1) * $DAY)\n",
    "                continuation\n",
    "            )\n",
    "            (\n",
    "              When\n",
    "                [\n",
    "                  Case (Deposit lender borrower djed nextPayment) \n",
    "                    $ Pay lender (Party lender) djed nextPayment\n",
    "                    $ Let \"Remaining Due\" (SubValue remainingDue nextPayment)\n",
    "                      continuation  \n",
    "                ]\n",
    "                (POSIXTime $ $NOW + (period + 1) * $DAY)\n",
    "                continuation\n",
    "            )\n",
    "    ]\n",
    "    (POSIXTime $ $NOW + (period + 1) * $DAY - 1 * $HOUR)\n",
    "    continuation\n",
    "\n",
    "collectRemainder :: Contract\n",
    "collectRemainder =\n",
    "  When\n",
    "    [\n",
    "      Case (Deposit lender borrower djed remainingDue)\n",
    "        Close\n",
    "    ]\n",
    "    (POSIXTime $((NOW + 1000 * DAY)))\n",
    "    Close\n",
    "\n",
    "contract :: Contract\n",
    "contract =\n",
    "  When\n",
    "    [\n",
    "      Case (Deposit lender lender djed principal)\n",
    "        $ Pay lender (Party borrower) djed principal\n",
    "        $ Let \"Remaining Due\" (AddValue principal interest)\n",
    "        $ foldr makePayment collectRemainder [1..5]\n",
    "    ]\n",
    "    (POSIXTime $((NOW + 1 * DAY)))\n",
    "    Close\n",
    "    \n",
    "EOI"
   ]
  },
  {
   "cell_type": "markdown",
   "id": "2e52f3bc-82aa-42d3-a629-22f766cd8704",
   "metadata": {},
   "source": [
    "How large is the contract?"
   ]
  },
  {
   "cell_type": "code",
   "execution_count": 18,
   "id": "fc5da0ab-aa40-427d-8a44-15c75c2f1018",
   "metadata": {},
   "outputs": [
    {
     "name": "stdout",
     "output_type": "stream",
     "text": [
      "-rw-rw-r-- 1 bbush bbush-upg 1.1M Jul  3 14:05 revenue-based-loan-01.contract\n"
     ]
    }
   ],
   "source": [
    "ls -lh revenue-based-loan-01.contract"
   ]
  },
  {
   "cell_type": "markdown",
   "id": "6eabc2ee-f495-4154-b1ad-3e54727f3e4a",
   "metadata": {},
   "source": [
    "How many `Case` statements does it contain?"
   ]
  },
  {
   "cell_type": "code",
   "execution_count": 19,
   "id": "4ec374b8-7034-4f1b-b124-69fd4b90e424",
   "metadata": {},
   "outputs": [
    {
     "name": "stdout",
     "output_type": "stream",
     "text": [
      "2048\n"
     ]
    }
   ],
   "source": [
    "sed -e 's/case/&\\n/g' revenue-based-loan-01.contract | grep case | wc -l"
   ]
  },
  {
   "cell_type": "markdown",
   "id": "456707bf-adfb-4171-b042-1b0756dd4063",
   "metadata": {},
   "source": [
    "### Set the initial state\n",
    "\n",
    "The Seller will deposit 2 Ada when the contract is created."
   ]
  },
  {
   "cell_type": "code",
   "execution_count": 20,
   "id": "4b95ea64-87d8-4678-b438-0559b0a1c704",
   "metadata": {},
   "outputs": [],
   "source": [
    "yaml2json << EOI > revenue-based-loan-01.state\n",
    "accounts:\n",
    "- - - pk_hash: $MARLOWE_PKH\n",
    "    - currency_symbol: ''\n",
    "      token_name: ''\n",
    "  - $MIN_ADA\n",
    "boundValues: []\n",
    "choices: []\n",
    "minTime: $NOW\n",
    "EOI"
   ]
  },
  {
   "cell_type": "code",
   "execution_count": 21,
   "id": "03787fe2-9b14-4d92-a014-be6e6095eb7e",
   "metadata": {},
   "outputs": [
    {
     "name": "stdout",
     "output_type": "stream",
     "text": [
      "{\"accounts\":[[[{\"pk_hash\":\"e107572dc2e0f7dadaf87c1a4f55d6b5b5456108c1de8f6d75ba0d15\"},{\"currency_symbol\":\"\",\"token_name\":\"\"}],2000000]],\"boundValues\":[],\"choices\":[],\"minTime\":1656878706000}\n"
     ]
    }
   ],
   "source": [
    "cat revenue-based-loan-01.state"
   ]
  },
  {
   "cell_type": "markdown",
   "id": "b5400d8d-4c2d-4a7a-99e3-bdc87629f91f",
   "metadata": {
    "tags": []
   },
   "source": [
    "## Simulate the Contract\n",
    "\n",
    "We start by simulating the contract before running on the blockchain. This lets us test our inputs without committing any Ada. It also separates the logic of the contract's progression from the details of eUTxO management."
   ]
  },
  {
   "cell_type": "markdown",
   "id": "1791ce5f-f3ca-4eba-90ae-489a97fcec44",
   "metadata": {},
   "source": [
    "### 1. Initialize the contract information\n",
    "\n",
    "Create a `.marlowe` file that contains all of the information needed to start the contract. Note that we merkleization the contract because of its large size."
   ]
  },
  {
   "cell_type": "code",
   "execution_count": 22,
   "id": "631e5627-4497-4837-9a25-519190c4f2aa",
   "metadata": {},
   "outputs": [
    {
     "name": "stdout",
     "output_type": "stream",
     "text": [
      "\n",
      "Validator size: 12582\n",
      "Base-validator cost: ExBudget {exBudgetCPU = ExCPU 24562825, exBudgetMemory = ExMemory 82600}\n"
     ]
    }
   ],
   "source": [
    "marlowe-cli run initialize --contract-file revenue-based-loan-01.contract \\\n",
    "                           --state-file    revenue-based-loan-01.state    \\\n",
    "                           --out-file      revenue-based-loan-01.marlowe  \\\n",
    "                           --merkleize                                    \\\n",
    "                           --print-stats"
   ]
  },
  {
   "cell_type": "markdown",
   "id": "756cfa87-1bcb-41d7-a8ab-8d3cf13fbba5",
   "metadata": {},
   "source": [
    "How large is the merkleized contract?"
   ]
  },
  {
   "cell_type": "code",
   "execution_count": 23,
   "id": "6839cdd4-0eb8-41db-a1ea-0a963926ddfb",
   "metadata": {},
   "outputs": [
    {
     "name": "stdout",
     "output_type": "stream",
     "text": [
      "-rw-rw-r-- 1 bbush bbush-upg 123K Jul  3 14:06 revenue-based-loan-01.marlowe\n"
     ]
    }
   ],
   "source": [
    "ls -lh revenue-based-loan-01.marlowe"
   ]
  },
  {
   "cell_type": "markdown",
   "id": "703d3efb-86d7-4856-8eaf-965c5b122daf",
   "metadata": {},
   "source": [
    "How many merkle hashes does it contain?"
   ]
  },
  {
   "cell_type": "code",
   "execution_count": 24,
   "id": "87bdd19f-b45f-47ec-904c-bdb237217d20",
   "metadata": {},
   "outputs": [
    {
     "name": "stdout",
     "output_type": "stream",
     "text": [
      "\u001b[0;39m12\u001b[0m\n"
     ]
    }
   ],
   "source": [
    "jq '.continuations | length' revenue-based-loan-01.marlowe"
   ]
  },
  {
   "cell_type": "markdown",
   "id": "59068808-24ef-468b-b1a7-17535fdc118c",
   "metadata": {},
   "source": [
    "The minimum Ada deposit has been recorded."
   ]
  },
  {
   "cell_type": "code",
   "execution_count": 25,
   "id": "83d26d84-5c4d-4314-b4f1-6feb8dadff60",
   "metadata": {},
   "outputs": [
    {
     "name": "stdout",
     "output_type": "stream",
     "text": [
      "accounts:\n",
      "- - - pk_hash: e107572dc2e0f7dadaf87c1a4f55d6b5b5456108c1de8f6d75ba0d15\n",
      "    - currency_symbol: ''\n",
      "      token_name: ''\n",
      "  - 2000000\n",
      "boundValues: []\n",
      "choices: []\n",
      "minTime: 1656878706000\n"
     ]
    }
   ],
   "source": [
    "jq .state revenue-based-loan-01.marlowe | json2yaml"
   ]
  },
  {
   "cell_type": "markdown",
   "id": "df6792a5-6d95-4011-a138-0a5dc25c0dbe",
   "metadata": {
    "tags": []
   },
   "source": [
    "### 2. The lender deposits the principal"
   ]
  },
  {
   "cell_type": "code",
   "execution_count": 26,
   "id": "7912039a-af9e-4db3-b9df-a9867d8f9eb0",
   "metadata": {},
   "outputs": [
    {
     "name": "stdout",
     "output_type": "stream",
     "text": [
      "\n",
      "Datum size: 827\n",
      "Payment 1\n",
      "  Acccount: PK \"84117ffa443e598527726f6509078114ecd1f2c031e71dd5d239d504\"\n",
      "  Payee: Party (PK \"fd37884bbd044c72e5f29de1b777a9c1c1d531773535cd5b55e2f6ff\")\n",
      "  Ada: 0.000000\n",
      "  1f4cc97451944ce039366dee5d9acd36a2784dd22e7c3431e50264e8.\"DjedUSD\": 1000\n"
     ]
    }
   ],
   "source": [
    "marlowe-cli run prepare --deposit-account PK=$BEAUMONT_PKH           \\\n",
    "                        --deposit-party   PK=$BEAUMONT_PKH           \\\n",
    "                        --deposit-token \"$DJED\"                      \\\n",
    "                        --deposit-amount $PRINCIPAL                  \\\n",
    "                        --invalid-before $NOW                        \\\n",
    "                        --invalid-hereafter $LATER                   \\\n",
    "                        --marlowe-file revenue-based-loan-01.marlowe \\\n",
    "                        --out-file     revenue-based-loan-02.marlowe \\\n",
    "                        --print-stats"
   ]
  },
  {
   "cell_type": "markdown",
   "id": "9e7c4882-326c-44bf-965b-f4d7f82fd857",
   "metadata": {},
   "source": [
    "Now the contract still contains the initial Ada, but the principal has been paid to the borrower. The remaining payments due has been calculated."
   ]
  },
  {
   "cell_type": "code",
   "execution_count": 27,
   "id": "8d7a230d-6822-41ed-b9b0-aa83f02b6fb9",
   "metadata": {},
   "outputs": [
    {
     "name": "stdout",
     "output_type": "stream",
     "text": [
      "timeout: 1656965106000\n",
      "timeout_continuation: close\n",
      "when:\n",
      "- case:\n",
      "    deposits: 1000\n",
      "    into_account:\n",
      "      pk_hash: 84117ffa443e598527726f6509078114ecd1f2c031e71dd5d239d504\n",
      "    of_token:\n",
      "      currency_symbol: 1f4cc97451944ce039366dee5d9acd36a2784dd22e7c3431e50264e8\n",
      "      token_name: DjedUSD\n",
      "    party:\n",
      "      pk_hash: 84117ffa443e598527726f6509078114ecd1f2c031e71dd5d239d504\n",
      "  merkleized_then: a80c752321932efccbca109a5d1a394dfff6b9c7456ddff8efcafd8933dc7203\n"
     ]
    }
   ],
   "source": [
    "jq .contract revenue-based-loan-01.marlowe | json2yaml"
   ]
  },
  {
   "cell_type": "code",
   "execution_count": 28,
   "id": "1291ebb4-35b8-4b0f-80a1-d5640484e59d",
   "metadata": {},
   "outputs": [
    {
     "name": "stdout",
     "output_type": "stream",
     "text": [
      "accounts:\n",
      "- - - pk_hash: e107572dc2e0f7dadaf87c1a4f55d6b5b5456108c1de8f6d75ba0d15\n",
      "    - currency_symbol: ''\n",
      "      token_name: ''\n",
      "  - 2000000\n",
      "boundValues:\n",
      "- - Remaining Due\n",
      "  - 1100\n",
      "choices: []\n",
      "minTime: 1656878706000\n"
     ]
    }
   ],
   "source": [
    "jq .state revenue-based-loan-02.marlowe | json2yaml"
   ]
  },
  {
   "cell_type": "markdown",
   "id": "6fa51a29-b09a-4ca9-9918-1283e207ab2d",
   "metadata": {},
   "source": [
    "### 3. The oracle reports the borrower's revenue in the first period"
   ]
  },
  {
   "cell_type": "code",
   "execution_count": 29,
   "id": "b759b36f-be4d-4345-9a97-257e503b9719",
   "metadata": {},
   "outputs": [],
   "source": [
    "REVENUE_1=15000"
   ]
  },
  {
   "cell_type": "code",
   "execution_count": 30,
   "id": "f6aaec48-332b-4f3c-b291-a90ed27b790c",
   "metadata": {},
   "outputs": [
    {
     "name": "stdout",
     "output_type": "stream",
     "text": [
      "\n",
      "Datum size: 970\n"
     ]
    }
   ],
   "source": [
    "marlowe-cli run prepare --choice-party PK=$MARLOWE_PKH               \\\n",
    "                        --choice-name \"Revenue\"                      \\\n",
    "                        --choice-number $REVENUE_1                   \\\n",
    "                        --invalid-before $NOW                        \\\n",
    "                        --invalid-hereafter $LATER                   \\\n",
    "                        --marlowe-file revenue-based-loan-02.marlowe \\\n",
    "                        --out-file     revenue-based-loan-03.marlowe \\\n",
    "                        --print-stats"
   ]
  },
  {
   "cell_type": "markdown",
   "id": "a095b545-52ed-4522-b396-707e9c284fe1",
   "metadata": {},
   "source": [
    "The revenue value has been recorded and the next payment has been calculated."
   ]
  },
  {
   "cell_type": "code",
   "execution_count": 31,
   "id": "2ccc5fa8-1c2f-4510-b84a-e1d15a145c8d",
   "metadata": {},
   "outputs": [
    {
     "name": "stdout",
     "output_type": "stream",
     "text": [
      "accounts:\n",
      "- - - pk_hash: e107572dc2e0f7dadaf87c1a4f55d6b5b5456108c1de8f6d75ba0d15\n",
      "    - currency_symbol: ''\n",
      "      token_name: ''\n",
      "  - 2000000\n",
      "boundValues:\n",
      "- - Remaining Due\n",
      "  - 1100\n",
      "- - Next Payment\n",
      "  - 450\n",
      "choices:\n",
      "- - choice_name: Revenue\n",
      "    choice_owner:\n",
      "      pk_hash: e107572dc2e0f7dadaf87c1a4f55d6b5b5456108c1de8f6d75ba0d15\n",
      "  - 15000\n",
      "minTime: 1656878706000\n"
     ]
    }
   ],
   "source": [
    "jq .state revenue-based-loan-03.marlowe | json2yaml"
   ]
  },
  {
   "cell_type": "markdown",
   "id": "ba2a66ea-25f7-4a38-bfab-1eb617412053",
   "metadata": {},
   "source": [
    "### 4. The borrower deposits their first payment\n",
    "\n",
    "The borrower must deposit the next payment of 450 `DjedUSD` into the lender's account."
   ]
  },
  {
   "cell_type": "code",
   "execution_count": 32,
   "id": "dd95b6e4-862e-456f-853f-3ca050bac7bd",
   "metadata": {},
   "outputs": [
    {
     "name": "stdout",
     "output_type": "stream",
     "text": [
      "450\n"
     ]
    }
   ],
   "source": [
    "DEPOSIT_1=$((REVENUE_1 * RATE / 100))\n",
    "echo $DEPOSIT_1"
   ]
  },
  {
   "cell_type": "code",
   "execution_count": 33,
   "id": "c084fd9b-f900-4219-8c03-8e9e9998e2d7",
   "metadata": {},
   "outputs": [
    {
     "name": "stdout",
     "output_type": "stream",
     "text": [
      "\n",
      "Warnings:\n",
      "  TransactionShadowing \"Remaining Due\" 1100 650\n",
      "Datum size: 781\n",
      "Payment 1\n",
      "  Acccount: PK \"84117ffa443e598527726f6509078114ecd1f2c031e71dd5d239d504\"\n",
      "  Payee: Party (PK \"84117ffa443e598527726f6509078114ecd1f2c031e71dd5d239d504\")\n",
      "  Ada: 0.000000\n",
      "  1f4cc97451944ce039366dee5d9acd36a2784dd22e7c3431e50264e8.\"DjedUSD\": 450\n"
     ]
    }
   ],
   "source": [
    "marlowe-cli run prepare --deposit-account PK=$BEAUMONT_PKH           \\\n",
    "                        --deposit-party PK=$KYD_PKH                  \\\n",
    "                        --deposit-amount $DEPOSIT_1                  \\\n",
    "                        --deposit-token $DJED                        \\\n",
    "                        --invalid-before $NOW                        \\\n",
    "                        --invalid-hereafter $LATER                   \\\n",
    "                        --marlowe-file revenue-based-loan-03.marlowe \\\n",
    "                        --out-file     revenue-based-loan-04.marlowe \\\n",
    "                        --print-stats"
   ]
  },
  {
   "cell_type": "markdown",
   "id": "09ad03d5-c3b3-4af2-a3a5-e6d725564101",
   "metadata": {},
   "source": [
    "The remaining payments due has been updated."
   ]
  },
  {
   "cell_type": "code",
   "execution_count": 34,
   "id": "25640177-1b7e-4f78-adb0-d03d9d789ae1",
   "metadata": {},
   "outputs": [
    {
     "name": "stdout",
     "output_type": "stream",
     "text": [
      "- - Remaining Due\n",
      "  - 650\n",
      "- - Next Payment\n",
      "  - 450\n"
     ]
    }
   ],
   "source": [
    "jq .state.boundValues revenue-based-loan-04.marlowe | json2yaml"
   ]
  },
  {
   "cell_type": "markdown",
   "id": "f40ed246-d5a7-4267-92af-ab17dd47b598",
   "metadata": {},
   "source": [
    "### 5. The oracle reports the borrower's revenue in the second period"
   ]
  },
  {
   "cell_type": "code",
   "execution_count": 35,
   "id": "9f5c65d1-9ca7-4a8c-ae16-47bafc42e6ad",
   "metadata": {},
   "outputs": [],
   "source": [
    "REVENUE_2=12000"
   ]
  },
  {
   "cell_type": "code",
   "execution_count": 36,
   "id": "0fabcadf-b3d8-4282-a1b8-299507ebd18a",
   "metadata": {},
   "outputs": [
    {
     "name": "stdout",
     "output_type": "stream",
     "text": [
      "\n",
      "Warnings:\n",
      "  TransactionShadowing \"Next Payment\" 450 360\n",
      "Datum size: 855\n"
     ]
    }
   ],
   "source": [
    "marlowe-cli run prepare --choice-party PK=$MARLOWE_PKH               \\\n",
    "                        --choice-name \"Revenue\"                      \\\n",
    "                        --choice-number $REVENUE_2                   \\\n",
    "                        --invalid-before $NOW                        \\\n",
    "                        --invalid-hereafter $LATER                   \\\n",
    "                        --marlowe-file revenue-based-loan-04.marlowe \\\n",
    "                        --out-file     revenue-based-loan-05.marlowe \\\n",
    "                        --print-stats"
   ]
  },
  {
   "cell_type": "markdown",
   "id": "c3574793-318d-48c3-9245-4c21097d7308",
   "metadata": {},
   "source": [
    "The next payment has been calculated."
   ]
  },
  {
   "cell_type": "code",
   "execution_count": 37,
   "id": "d3b9daf1-b12b-447f-8f98-36b96e799d71",
   "metadata": {},
   "outputs": [
    {
     "name": "stdout",
     "output_type": "stream",
     "text": [
      "- - Remaining Due\n",
      "  - 650\n",
      "- - Next Payment\n",
      "  - 360\n"
     ]
    }
   ],
   "source": [
    "jq .state.boundValues revenue-based-loan-05.marlowe | json2yaml"
   ]
  },
  {
   "cell_type": "markdown",
   "id": "39a97993-f47c-47e8-8b9f-b67e0118bf06",
   "metadata": {
    "tags": []
   },
   "source": [
    "### 6. The borrower deposits the second payment"
   ]
  },
  {
   "cell_type": "code",
   "execution_count": 38,
   "id": "66046287-d012-4bbf-aff4-afcec90bf1d9",
   "metadata": {},
   "outputs": [
    {
     "name": "stdout",
     "output_type": "stream",
     "text": [
      "360\n"
     ]
    }
   ],
   "source": [
    "DEPOSIT_2=$((REVENUE_2 * RATE / 100))\n",
    "echo $DEPOSIT_2"
   ]
  },
  {
   "cell_type": "code",
   "execution_count": 39,
   "id": "fb7a74e5-8bdd-45e1-8324-8e2ccb107e1e",
   "metadata": {},
   "outputs": [
    {
     "name": "stdout",
     "output_type": "stream",
     "text": [
      "\n",
      "Warnings:\n",
      "  TransactionShadowing \"Remaining Due\" 650 290\n",
      "Datum size: 666\n",
      "Payment 1\n",
      "  Acccount: PK \"84117ffa443e598527726f6509078114ecd1f2c031e71dd5d239d504\"\n",
      "  Payee: Party (PK \"84117ffa443e598527726f6509078114ecd1f2c031e71dd5d239d504\")\n",
      "  Ada: 0.000000\n",
      "  1f4cc97451944ce039366dee5d9acd36a2784dd22e7c3431e50264e8.\"DjedUSD\": 360\n"
     ]
    }
   ],
   "source": [
    "marlowe-cli run prepare --deposit-account PK=$BEAUMONT_PKH           \\\n",
    "                        --deposit-party PK=$KYD_PKH                  \\\n",
    "                        --deposit-amount $DEPOSIT_2                  \\\n",
    "                        --deposit-token $DJED                        \\\n",
    "                        --invalid-before $NOW                        \\\n",
    "                        --invalid-hereafter $LATER                   \\\n",
    "                        --marlowe-file revenue-based-loan-05.marlowe \\\n",
    "                        --out-file     revenue-based-loan-06.marlowe \\\n",
    "                        --print-stats"
   ]
  },
  {
   "cell_type": "markdown",
   "id": "747dabe8-2d29-47c6-bf3a-bc4742254fac",
   "metadata": {},
   "source": [
    "The remaining payments due has been calculated."
   ]
  },
  {
   "cell_type": "code",
   "execution_count": 40,
   "id": "22fe8ad0-0d66-460d-950f-8e1d6ffc6fab",
   "metadata": {},
   "outputs": [
    {
     "name": "stdout",
     "output_type": "stream",
     "text": [
      "- - Remaining Due\n",
      "  - 290\n",
      "- - Next Payment\n",
      "  - 360\n"
     ]
    }
   ],
   "source": [
    "jq .state.boundValues revenue-based-loan-06.marlowe | json2yaml"
   ]
  },
  {
   "cell_type": "markdown",
   "id": "403b9775-9c0f-4972-8505-674542a859e2",
   "metadata": {},
   "source": [
    "### 7. The oracle reports the borrower's revenue in the third period"
   ]
  },
  {
   "cell_type": "code",
   "execution_count": 41,
   "id": "90ce7f7e-d44e-4b41-a2c6-61165dac8026",
   "metadata": {},
   "outputs": [],
   "source": [
    "REVENUE_3=19000"
   ]
  },
  {
   "cell_type": "code",
   "execution_count": 42,
   "id": "4f1d9d95-4805-49bc-af5c-5a200d1616de",
   "metadata": {},
   "outputs": [
    {
     "name": "stdout",
     "output_type": "stream",
     "text": [
      "\n",
      "Warnings:\n",
      "  TransactionShadowing \"Next Payment\" 360 570\n",
      "Datum size: 741\n"
     ]
    }
   ],
   "source": [
    "marlowe-cli run prepare --choice-party PK=$MARLOWE_PKH               \\\n",
    "                        --choice-name \"Revenue\"                      \\\n",
    "                        --choice-number $REVENUE_3                   \\\n",
    "                        --invalid-before $NOW                        \\\n",
    "                        --invalid-hereafter $LATER                   \\\n",
    "                        --marlowe-file revenue-based-loan-06.marlowe \\\n",
    "                        --out-file     revenue-based-loan-07.marlowe \\\n",
    "                        --print-stats"
   ]
  },
  {
   "cell_type": "markdown",
   "id": "e91993d0-dee2-431b-b2e3-8fc3e765bc47",
   "metadata": {},
   "source": [
    "The remaining due is now smaller than the payment based on the third period's revenue."
   ]
  },
  {
   "cell_type": "code",
   "execution_count": 43,
   "id": "76fbc093-1525-459f-a4f9-8e81cc909f13",
   "metadata": {},
   "outputs": [
    {
     "name": "stdout",
     "output_type": "stream",
     "text": [
      "- - Remaining Due\n",
      "  - 290\n",
      "- - Next Payment\n",
      "  - 570\n"
     ]
    }
   ],
   "source": [
    "jq .state.boundValues revenue-based-loan-07.marlowe | json2yaml"
   ]
  },
  {
   "cell_type": "markdown",
   "id": "e90576c2-9364-47ce-bd7c-9da28c1a5d1c",
   "metadata": {},
   "source": [
    "### 8. The borrower deposits the third payment\n",
    "\n",
    "By paying the remaining due, the borrower completes the loan."
   ]
  },
  {
   "cell_type": "code",
   "execution_count": 44,
   "id": "09d44bb3-0c60-4c80-b2ed-7c365cb07a67",
   "metadata": {},
   "outputs": [
    {
     "name": "stdout",
     "output_type": "stream",
     "text": [
      "290\n"
     ]
    }
   ],
   "source": [
    "DEPOSIT_3=$((PRINCIPAL + INTEREST - DEPOSIT_1 - DEPOSIT_2))\n",
    "echo $DEPOSIT_3"
   ]
  },
  {
   "cell_type": "code",
   "execution_count": 45,
   "id": "08ef8a7c-09e3-47a9-9818-d97fcccc010b",
   "metadata": {},
   "outputs": [
    {
     "name": "stdout",
     "output_type": "stream",
     "text": [
      "\n",
      "Datum size: 113\n",
      "Payment 1\n",
      "  Acccount: PK \"84117ffa443e598527726f6509078114ecd1f2c031e71dd5d239d504\"\n",
      "  Payee: Party (PK \"84117ffa443e598527726f6509078114ecd1f2c031e71dd5d239d504\")\n",
      "  Ada: 0.000000\n",
      "  1f4cc97451944ce039366dee5d9acd36a2784dd22e7c3431e50264e8.\"DjedUSD\": 290\n",
      "Payment 2\n",
      "  Acccount: PK \"e107572dc2e0f7dadaf87c1a4f55d6b5b5456108c1de8f6d75ba0d15\"\n",
      "  Payee: Party (PK \"e107572dc2e0f7dadaf87c1a4f55d6b5b5456108c1de8f6d75ba0d15\")\n",
      "  Ada: 2.000000\n"
     ]
    }
   ],
   "source": [
    "marlowe-cli run prepare --deposit-account PK=$BEAUMONT_PKH           \\\n",
    "                        --deposit-party PK=$KYD_PKH                  \\\n",
    "                        --deposit-amount $DEPOSIT_3                  \\\n",
    "                        --deposit-token $DJED                        \\\n",
    "                        --invalid-before $NOW                        \\\n",
    "                        --invalid-hereafter $LATER                   \\\n",
    "                        --marlowe-file revenue-based-loan-07.marlowe \\\n",
    "                        --out-file     revenue-based-loan-08.marlowe \\\n",
    "                        --print-stats"
   ]
  },
  {
   "cell_type": "markdown",
   "id": "4c09ccb2-ab30-4780-8519-429ee2a22eb0",
   "metadata": {},
   "source": [
    "The final payment to the lender has been made, and the oracle receives back their minimum Ada deposit."
   ]
  },
  {
   "cell_type": "code",
   "execution_count": 46,
   "id": "dc140264-b86e-4789-adf9-4fe78e829e1e",
   "metadata": {},
   "outputs": [
    {
     "name": "stdout",
     "output_type": "stream",
     "text": [
      "accounts: []\n",
      "boundValues:\n",
      "- - Remaining Due\n",
      "  - 290\n",
      "- - Next Payment\n",
      "  - 570\n",
      "choices:\n",
      "- - choice_name: Revenue\n",
      "    choice_owner:\n",
      "      pk_hash: e107572dc2e0f7dadaf87c1a4f55d6b5b5456108c1de8f6d75ba0d15\n",
      "  - 19000\n",
      "minTime: 1656878706000\n"
     ]
    }
   ],
   "source": [
    "jq .state revenue-based-loan-08.marlowe | json2yaml"
   ]
  },
  {
   "cell_type": "markdown",
   "id": "b51a6d51-24f0-419d-a660-d8b90372f6f7",
   "metadata": {},
   "source": [
    "The contract is complete."
   ]
  },
  {
   "cell_type": "code",
   "execution_count": 47,
   "id": "b4f519b6-5418-4ead-bdab-64d12b08a3f3",
   "metadata": {},
   "outputs": [
    {
     "name": "stdout",
     "output_type": "stream",
     "text": [
      "close\n",
      "...\n"
     ]
    }
   ],
   "source": [
    "jq .contract revenue-based-loan-08.marlowe | json2yaml"
   ]
  },
  {
   "cell_type": "markdown",
   "id": "2e9056cb-37c0-48be-a4ad-f67eea380054",
   "metadata": {},
   "source": [
    "## Run the Contract on Chain"
   ]
  },
  {
   "cell_type": "markdown",
   "id": "55a4f05e-be05-4b6d-818f-2947cfa27328",
   "metadata": {},
   "source": [
    "### Find the script address"
   ]
  },
  {
   "cell_type": "code",
   "execution_count": 48,
   "id": "44fc3f60-bca6-4c26-ae4c-f1a787d6bf4a",
   "metadata": {},
   "outputs": [
    {
     "name": "stdout",
     "output_type": "stream",
     "text": [
      "addr_test1wp3v2mx0ccsh4l6kjtsa86lgnsss20f3lsgcst9jr07axpcmajgcl\n"
     ]
    }
   ],
   "source": [
    "SCRIPT_ADDRESS=$(jq -r .marloweValidator.address revenue-based-loan-01.marlowe)\n",
    "echo $SCRIPT_ADDRESS"
   ]
  },
  {
   "cell_type": "markdown",
   "id": "e2e27090-6f6a-4a72-8551-9e341a1cdf4a",
   "metadata": {},
   "source": [
    "### 1. Create the contract"
   ]
  },
  {
   "cell_type": "code",
   "execution_count": 49,
   "id": "471dadf6-c3f8-457c-b754-795abe85171d",
   "metadata": {},
   "outputs": [
    {
     "name": "stdout",
     "output_type": "stream",
     "text": [
      "\n",
      "Fee: Lovelace 187061\n",
      "Size: 477 / 32768 = 1%\n",
      "Execution units:\n",
      "  Memory: 0 / 30000000 = 0%\n",
      "  Steps: 0 / 10000000000 = 0%\n",
      "TxId \"235c2599768473a6249166cb031e0e91139ac12fb7576e02e803fc5adcc3ecd3\"\n"
     ]
    }
   ],
   "source": [
    "TX_1=$(\n",
    "marlowe-cli run execute --tx-in \"$TX_0_MARLOWE\" \\\n",
    "                        --required-signer $MARLOWE_SKEY \\\n",
    "                        --change-address $MARLOWE_ADDR \\\n",
    "                        --marlowe-out-file revenue-based-loan-01.marlowe \\\n",
    "                        --out-file /dev/null \\\n",
    "                        --submit 600 \\\n",
    "                        --print-stats \\\n",
    "| sed -e 's/^TxId \"\\(.*\\)\"$/\\1/' \\\n",
    ")\n",
    "echo \"TxId \\\"$TX_1\\\"\""
   ]
  },
  {
   "cell_type": "markdown",
   "id": "94e9f3f6-9766-4ad3-a5f5-188814f05d42",
   "metadata": {},
   "source": [
    "UTxOs at Marlowe validator address:"
   ]
  },
  {
   "cell_type": "code",
   "execution_count": 50,
   "id": "e2566493-13eb-4466-8cae-eb20de820bc6",
   "metadata": {},
   "outputs": [
    {
     "name": "stdout",
     "output_type": "stream",
     "text": [
      "                           TxHash                                 TxIx        Amount\n",
      "--------------------------------------------------------------------------------------\n",
      "235c2599768473a6249166cb031e0e91139ac12fb7576e02e803fc5adcc3ecd3     1        2000000 lovelace + TxOutDatumHash ScriptDataInAlonzoEra \"a34d01fac6bff27662b2353bc9b34c0f35e73129cd4e5f428e190da027c667ae\"\n"
     ]
    }
   ],
   "source": [
    "cardano-cli query utxo --testnet-magic \"$CARDANO_TESTNET_MAGIC\" --address \"$SCRIPT_ADDRESS\""
   ]
  },
  {
   "cell_type": "markdown",
   "id": "5d560207-f63d-4368-be79-f247d90655eb",
   "metadata": {},
   "source": [
    "UTxOs at the oracle address:"
   ]
  },
  {
   "cell_type": "code",
   "execution_count": 51,
   "id": "bc30ee67-4d74-4e8b-8d6a-c138ad2bca30",
   "metadata": {},
   "outputs": [
    {
     "name": "stdout",
     "output_type": "stream",
     "text": [
      "                           TxHash                                 TxIx        Amount\n",
      "--------------------------------------------------------------------------------------\n",
      "235c2599768473a6249166cb031e0e91139ac12fb7576e02e803fc5adcc3ecd3     0        992556672 lovelace + TxOutDatumNone\n"
     ]
    }
   ],
   "source": [
    "cardano-cli query utxo --testnet-magic \"$CARDANO_TESTNET_MAGIC\" --address \"$MARLOWE_ADDR\""
   ]
  },
  {
   "cell_type": "markdown",
   "id": "0123357f-b1a7-4d06-a3f9-71b3fac0179c",
   "metadata": {},
   "source": [
    "### 2. The lender deposits the principal"
   ]
  },
  {
   "cell_type": "code",
   "execution_count": 52,
   "id": "94b79890-05bf-4db8-ad72-b868cf7c94a6",
   "metadata": {
    "tags": []
   },
   "outputs": [
    {
     "name": "stdout",
     "output_type": "stream",
     "text": [
      "\n",
      "Fee: Lovelace 1578915\n",
      "Size: 15235 / 32768 = 46%\n",
      "Execution units:\n",
      "  Memory: 8713952 / 30000000 = 29%\n",
      "  Steps: 3200141318 / 10000000000 = 32%\n",
      "TxId \"8b97a703eea8b8d9d8ebbcd81cc7e2a00edf8a44e054bfbb917835ee8943e2fa\"\n"
     ]
    }
   ],
   "source": [
    "TX_2=$(\n",
    "marlowe-cli run execute --marlowe-in-file revenue-based-loan-01.marlowe \\\n",
    "                        --tx-in-marlowe \"$TX_1#1\" \\\n",
    "                        --tx-in-collateral \"$TX_0_BEAUMONT_ADA\"\\\n",
    "                        --tx-in \"$TX_0_BEAUMONT_ADA\" \\\n",
    "                        --tx-in \"$TX_0_BEAUMONT_DJED\" \\\n",
    "                        --required-signer $BEAUMONT_SKEY \\\n",
    "                        --change-address $BEAUMONT_ADDR \\\n",
    "                        --marlowe-out-file revenue-based-loan-02.marlowe \\\n",
    "                        --out-file /dev/null \\\n",
    "                        --submit 600 \\\n",
    "                        --print-stats \\\n",
    "| sed -e 's/^TxId \"\\(.*\\)\"$/\\1/' \\\n",
    ")\n",
    "echo \"TxId \\\"$TX_2\\\"\""
   ]
  },
  {
   "cell_type": "markdown",
   "id": "1a32c147-d4f4-4dfc-a3b7-e83e321d53c4",
   "metadata": {},
   "source": [
    "UTxOs at Marlowe validator address:"
   ]
  },
  {
   "cell_type": "code",
   "execution_count": 53,
   "id": "2527513f-9c89-4df6-8701-59b5b25cd839",
   "metadata": {},
   "outputs": [
    {
     "name": "stdout",
     "output_type": "stream",
     "text": [
      "                           TxHash                                 TxIx        Amount\n",
      "--------------------------------------------------------------------------------------\n",
      "8b97a703eea8b8d9d8ebbcd81cc7e2a00edf8a44e054bfbb917835ee8943e2fa     1        2000000 lovelace + TxOutDatumHash ScriptDataInAlonzoEra \"eb5dbe9236e0572f5ba23d4582c3b14d22322150f2d3cb36ebac864ac04334f9\"\n"
     ]
    }
   ],
   "source": [
    "cardano-cli query utxo --testnet-magic \"$CARDANO_TESTNET_MAGIC\" --address \"$SCRIPT_ADDRESS\""
   ]
  },
  {
   "cell_type": "markdown",
   "id": "e8ce1325-3634-4af5-afb0-1772a728ec3d",
   "metadata": {},
   "source": [
    "The lender has spent their 1000 `DjedUSD`:"
   ]
  },
  {
   "cell_type": "code",
   "execution_count": 54,
   "id": "bbbc1375-f5b7-4e5b-b96b-4d21ba7357f8",
   "metadata": {},
   "outputs": [
    {
     "name": "stdout",
     "output_type": "stream",
     "text": [
      "                           TxHash                                 TxIx        Amount\n",
      "--------------------------------------------------------------------------------------\n",
      "8b97a703eea8b8d9d8ebbcd81cc7e2a00edf8a44e054bfbb917835ee8943e2fa     0        976138501 lovelace + TxOutDatumNone\n",
      "8b97a703eea8b8d9d8ebbcd81cc7e2a00edf8a44e054bfbb917835ee8943e2fa     3        1500000 lovelace + TxOutDatumHash ScriptDataInAlonzoEra \"a80c752321932efccbca109a5d1a394dfff6b9c7456ddff8efcafd8933dc7203\"\n"
     ]
    }
   ],
   "source": [
    "cardano-cli query utxo --testnet-magic \"$CARDANO_TESTNET_MAGIC\" --address \"$BEAUMONT_ADDR\""
   ]
  },
  {
   "cell_type": "markdown",
   "id": "9303ff3e-7377-4191-b5e9-94a3a2f46944",
   "metadata": {},
   "source": [
    "The borrower has received their loan of 1000 `DjedUSD`:"
   ]
  },
  {
   "cell_type": "code",
   "execution_count": 55,
   "id": "35612457-37d5-49ff-a003-1bf798370de6",
   "metadata": {},
   "outputs": [
    {
     "name": "stdout",
     "output_type": "stream",
     "text": [
      "                           TxHash                                 TxIx        Amount\n",
      "--------------------------------------------------------------------------------------\n",
      "625b9f53ee6f5f05ca54834b99ca3dceb097be8e934828d353acb2a7e6c74cb7     0        1002574041 lovelace + TxOutDatumNone\n",
      "8b97a703eea8b8d9d8ebbcd81cc7e2a00edf8a44e054bfbb917835ee8943e2fa     2        1344798 lovelace + 1000 1f4cc97451944ce039366dee5d9acd36a2784dd22e7c3431e50264e8.446a6564555344 + TxOutDatumNone\n",
      "923e24f6980b547ec3fe76febd97aa050d8d4e52111ed69e9de0ef80a7cd2f93     2        10000000 lovelace + 100 1f4cc97451944ce039366dee5d9acd36a2784dd22e7c3431e50264e8.446a6564555344 + TxOutDatumNone\n"
     ]
    }
   ],
   "source": [
    "cardano-cli query utxo --testnet-magic \"$CARDANO_TESTNET_MAGIC\" --address \"$KYD_ADDR\""
   ]
  },
  {
   "cell_type": "markdown",
   "id": "8f713e89-2faa-4ea3-a211-30d15176c9dd",
   "metadata": {},
   "source": [
    "### 3. The oracle reports the borrower's revenue in the first period"
   ]
  },
  {
   "cell_type": "code",
   "execution_count": 56,
   "id": "9357850b-db8f-4c07-bd79-87ce0cb86352",
   "metadata": {},
   "outputs": [
    {
     "name": "stdout",
     "output_type": "stream",
     "text": [
      "\n",
      "Fee: Lovelace 1657057\n",
      "Size: 16644 / 32768 = 50%\n",
      "Execution units:\n",
      "  Memory: 8692696 / 30000000 = 28%\n",
      "  Steps: 3502737003 / 10000000000 = 35%\n",
      "TxId \"e4e5a0bbae7e884a5ba95d7258d7bf07866d7e3629709ae9cd4a96f4629659cc\"\n"
     ]
    }
   ],
   "source": [
    "TX_3=$(\n",
    "marlowe-cli run execute --marlowe-in-file revenue-based-loan-02.marlowe \\\n",
    "                        --tx-in-marlowe \"$TX_2#1\" \\\n",
    "                        --tx-in-collateral \"$TX_1#0\" \\\n",
    "                        --tx-in \"$TX_1#0\" \\\n",
    "                        --required-signer $MARLOWE_SKEY \\\n",
    "                        --change-address $MARLOWE_ADDR \\\n",
    "                        --marlowe-out-file revenue-based-loan-03.marlowe \\\n",
    "                        --out-file /dev/null \\\n",
    "                        --submit 600 \\\n",
    "                        --print-stats \\\n",
    "| sed -e 's/^TxId \"\\(.*\\)\"$/\\1/' \\\n",
    ")\n",
    "echo \"TxId \\\"$TX_3\\\"\""
   ]
  },
  {
   "cell_type": "markdown",
   "id": "57427356-e1b3-4c37-9209-55a34f0dbec4",
   "metadata": {},
   "source": [
    "UTxOs at Marlowe validator address:"
   ]
  },
  {
   "cell_type": "code",
   "execution_count": 57,
   "id": "5dd77b0f-9531-4f68-be46-3e8d99f8b6c9",
   "metadata": {},
   "outputs": [
    {
     "name": "stdout",
     "output_type": "stream",
     "text": [
      "                           TxHash                                 TxIx        Amount\n",
      "--------------------------------------------------------------------------------------\n",
      "e4e5a0bbae7e884a5ba95d7258d7bf07866d7e3629709ae9cd4a96f4629659cc     1        2000000 lovelace + TxOutDatumHash ScriptDataInAlonzoEra \"c8aef7177cc9be50218a5286d32eabd1c96aebf6b75a3c6de5e349d91fe56aa0\"\n"
     ]
    }
   ],
   "source": [
    "cardano-cli query utxo --testnet-magic \"$CARDANO_TESTNET_MAGIC\" --address \"$SCRIPT_ADDRESS\""
   ]
  },
  {
   "cell_type": "markdown",
   "id": "c5c490c9-7bdf-4d52-a4a1-bb8553d03f96",
   "metadata": {},
   "source": [
    "UTxOs at the oracle address:"
   ]
  },
  {
   "cell_type": "code",
   "execution_count": 58,
   "id": "04592ff8-3ce1-4991-afd9-6305d66ec173",
   "metadata": {},
   "outputs": [
    {
     "name": "stdout",
     "output_type": "stream",
     "text": [
      "                           TxHash                                 TxIx        Amount\n",
      "--------------------------------------------------------------------------------------\n",
      "e4e5a0bbae7e884a5ba95d7258d7bf07866d7e3629709ae9cd4a96f4629659cc     0        989399615 lovelace + TxOutDatumNone\n",
      "e4e5a0bbae7e884a5ba95d7258d7bf07866d7e3629709ae9cd4a96f4629659cc     2        1500000 lovelace + TxOutDatumHash ScriptDataInAlonzoEra \"a242745d5603ea853c8b3a113eeb1776cd737d7782f94d451afd0643edc3298e\"\n"
     ]
    }
   ],
   "source": [
    "cardano-cli query utxo --testnet-magic \"$CARDANO_TESTNET_MAGIC\" --address \"$MARLOWE_ADDR\""
   ]
  },
  {
   "cell_type": "markdown",
   "id": "a6245b9c-d2cf-4d23-950b-2e0f29cea579",
   "metadata": {},
   "source": [
    "### 4. The borrower deposits their first payment."
   ]
  },
  {
   "cell_type": "code",
   "execution_count": 59,
   "id": "516a209a-b775-4346-af57-86e833ea58f2",
   "metadata": {},
   "outputs": [
    {
     "name": "stdout",
     "output_type": "stream",
     "text": [
      "\n",
      "Fee: Lovelace 1716047\n",
      "Size: 15962 / 32768 = 48%\n",
      "Execution units:\n",
      "  Memory: 9946716 / 30000000 = 33%\n",
      "  Steps: 3610263057 / 10000000000 = 36%\n",
      "TxId \"24a9f47301c4e5c1f4de4733a05200c8aa9b6663133812fd837efc8ac18e47ae\"\n"
     ]
    }
   ],
   "source": [
    "TX_4=$(\n",
    "marlowe-cli run execute --marlowe-in-file revenue-based-loan-03.marlowe \\\n",
    "                        --tx-in-marlowe \"$TX_3#1\" \\\n",
    "                        --tx-in-collateral \"$TX_0_KYD_ADA\" \\\n",
    "                        --tx-in \"$TX_0_KYD_ADA\" \\\n",
    "                        --tx-in \"$TX_0_KYD_DJED\" \\\n",
    "                        --tx-in \"$TX_2#2\" \\\n",
    "                        --required-signer $KYD_SKEY \\\n",
    "                        --change-address $KYD_ADDR \\\n",
    "                        --marlowe-out-file revenue-based-loan-04.marlowe \\\n",
    "                        --tx-out \"$KYD_ADDR+$MIN_ADA+$((PRINCIPAL+INTEREST-DEPOSIT_1)) $DJED\" \\\n",
    "                        --out-file /dev/null \\\n",
    "                        --submit 600 \\\n",
    "                        --print-stats \\\n",
    "| sed -e 's/^TxId \"\\(.*\\)\"$/\\1/' \\\n",
    ")\n",
    "echo \"TxId \\\"$TX_4\\\"\""
   ]
  },
  {
   "cell_type": "markdown",
   "id": "90c64acf-b198-445a-9526-254fa32e4815",
   "metadata": {},
   "source": [
    "UTxOs at the Marlowe validator address:"
   ]
  },
  {
   "cell_type": "code",
   "execution_count": 60,
   "id": "80fe5c38-6854-41db-a83f-ab2c775d01d1",
   "metadata": {},
   "outputs": [
    {
     "name": "stdout",
     "output_type": "stream",
     "text": [
      "                           TxHash                                 TxIx        Amount\n",
      "--------------------------------------------------------------------------------------\n",
      "24a9f47301c4e5c1f4de4733a05200c8aa9b6663133812fd837efc8ac18e47ae     1        2000000 lovelace + TxOutDatumHash ScriptDataInAlonzoEra \"86474f64bbe89ee86aaa6fdc2b9e359c9a22ca816937391d8f242560a59159f9\"\n"
     ]
    }
   ],
   "source": [
    "cardano-cli query utxo --testnet-magic \"$CARDANO_TESTNET_MAGIC\" --address \"$SCRIPT_ADDRESS\""
   ]
  },
  {
   "cell_type": "markdown",
   "id": "65d55c2d-1dc2-4185-b385-0a9e3a94bb51",
   "metadata": {},
   "source": [
    "The lender has received their payment of 450 `DjedUSD`:"
   ]
  },
  {
   "cell_type": "code",
   "execution_count": 61,
   "id": "5aab74d5-e101-4775-b8d4-e31838b123dc",
   "metadata": {},
   "outputs": [
    {
     "name": "stdout",
     "output_type": "stream",
     "text": [
      "                           TxHash                                 TxIx        Amount\n",
      "--------------------------------------------------------------------------------------\n",
      "24a9f47301c4e5c1f4de4733a05200c8aa9b6663133812fd837efc8ac18e47ae     2        1344798 lovelace + 450 1f4cc97451944ce039366dee5d9acd36a2784dd22e7c3431e50264e8.446a6564555344 + TxOutDatumNone\n",
      "8b97a703eea8b8d9d8ebbcd81cc7e2a00edf8a44e054bfbb917835ee8943e2fa     0        976138501 lovelace + TxOutDatumNone\n",
      "8b97a703eea8b8d9d8ebbcd81cc7e2a00edf8a44e054bfbb917835ee8943e2fa     3        1500000 lovelace + TxOutDatumHash ScriptDataInAlonzoEra \"a80c752321932efccbca109a5d1a394dfff6b9c7456ddff8efcafd8933dc7203\"\n"
     ]
    }
   ],
   "source": [
    "cardano-cli query utxo --testnet-magic \"$CARDANO_TESTNET_MAGIC\" --address \"$BEAUMONT_ADDR\""
   ]
  },
  {
   "cell_type": "markdown",
   "id": "1876f9ed-adab-43d2-9bbb-c4183cccbff3",
   "metadata": {},
   "source": [
    "The borrower made their payment of 450 `DjedUSD`:"
   ]
  },
  {
   "cell_type": "code",
   "execution_count": 62,
   "id": "1b0b76ce-28b0-4657-9df1-433e224a9198",
   "metadata": {},
   "outputs": [
    {
     "name": "stdout",
     "output_type": "stream",
     "text": [
      "                           TxHash                                 TxIx        Amount\n",
      "--------------------------------------------------------------------------------------\n",
      "24a9f47301c4e5c1f4de4733a05200c8aa9b6663133812fd837efc8ac18e47ae     0        1007357994 lovelace + TxOutDatumNone\n",
      "24a9f47301c4e5c1f4de4733a05200c8aa9b6663133812fd837efc8ac18e47ae     3        2000000 lovelace + 650 1f4cc97451944ce039366dee5d9acd36a2784dd22e7c3431e50264e8.446a6564555344 + TxOutDatumNone\n",
      "24a9f47301c4e5c1f4de4733a05200c8aa9b6663133812fd837efc8ac18e47ae     4        1500000 lovelace + TxOutDatumHash ScriptDataInAlonzoEra \"e193e470b54e3a23da2d15f9bac0a382b88a03c187087cfd28207a2986a03ece\"\n"
     ]
    }
   ],
   "source": [
    "cardano-cli query utxo --testnet-magic \"$CARDANO_TESTNET_MAGIC\" --address \"$KYD_ADDR\""
   ]
  },
  {
   "cell_type": "markdown",
   "id": "3d15291d-54b1-4e43-9ccb-48ab6dbf0d35",
   "metadata": {},
   "source": [
    "### 5. The oracle reports the borrower's revenue in the second period"
   ]
  },
  {
   "cell_type": "code",
   "execution_count": 63,
   "id": "0ede626e-0564-44ce-bb21-12af1badd905",
   "metadata": {},
   "outputs": [
    {
     "name": "stdout",
     "output_type": "stream",
     "text": [
      "\n",
      "Fee: Lovelace 1654274\n",
      "Size: 16289 / 32768 = 49%\n",
      "Execution units:\n",
      "  Memory: 8862038 / 30000000 = 29%\n",
      "  Steps: 3483614503 / 10000000000 = 34%\n",
      "TxId \"c8c8cb1e17029987474f766fbab9425c579f2ebcb4c312e021a44a70e0f1236f\"\n"
     ]
    }
   ],
   "source": [
    "TX_5=$(\n",
    "marlowe-cli run execute --marlowe-in-file revenue-based-loan-04.marlowe \\\n",
    "                        --tx-in-marlowe \"$TX_4#1\" \\\n",
    "                        --tx-in-collateral \"$TX_3#0\" \\\n",
    "                        --tx-in \"$TX_3#0\" \\\n",
    "                        --tx-in \"$TX_3#2\" \\\n",
    "                        --required-signer $MARLOWE_SKEY \\\n",
    "                        --change-address $MARLOWE_ADDR \\\n",
    "                        --marlowe-out-file revenue-based-loan-05.marlowe \\\n",
    "                        --out-file /dev/null \\\n",
    "                        --submit 600 \\\n",
    "                        --print-stats \\\n",
    "| sed -e 's/^TxId \"\\(.*\\)\"$/\\1/' \\\n",
    ")\n",
    "echo \"TxId \\\"$TX_5\\\"\""
   ]
  },
  {
   "cell_type": "markdown",
   "id": "e3259da1-dfb1-4900-8b43-eaca3098b305",
   "metadata": {},
   "source": [
    "UTxOs at the script address:"
   ]
  },
  {
   "cell_type": "code",
   "execution_count": 64,
   "id": "c1c2fc12-a61a-479d-be31-79814aed2885",
   "metadata": {},
   "outputs": [
    {
     "name": "stdout",
     "output_type": "stream",
     "text": [
      "                           TxHash                                 TxIx        Amount\n",
      "--------------------------------------------------------------------------------------\n",
      "c8c8cb1e17029987474f766fbab9425c579f2ebcb4c312e021a44a70e0f1236f     1        2000000 lovelace + TxOutDatumHash ScriptDataInAlonzoEra \"754c164e802b6a3a4f8e863fb00e33e0f9325e3ec153e50094131f685261224f\"\n"
     ]
    }
   ],
   "source": [
    "cardano-cli query utxo --testnet-magic \"$CARDANO_TESTNET_MAGIC\" --address \"$SCRIPT_ADDRESS\""
   ]
  },
  {
   "cell_type": "markdown",
   "id": "b3526cb0-62d0-4d3e-bfdf-48d741dcf98a",
   "metadata": {},
   "source": [
    "UTxOs at the oracle address:"
   ]
  },
  {
   "cell_type": "code",
   "execution_count": 65,
   "id": "dc8f3a05-06d6-4ef9-9c91-c9457f9ee83b",
   "metadata": {},
   "outputs": [
    {
     "name": "stdout",
     "output_type": "stream",
     "text": [
      "                           TxHash                                 TxIx        Amount\n",
      "--------------------------------------------------------------------------------------\n",
      "c8c8cb1e17029987474f766fbab9425c579f2ebcb4c312e021a44a70e0f1236f     0        987745341 lovelace + TxOutDatumNone\n",
      "c8c8cb1e17029987474f766fbab9425c579f2ebcb4c312e021a44a70e0f1236f     2        1500000 lovelace + TxOutDatumHash ScriptDataInAlonzoEra \"4db7fa7f4725e21c0b61934ac6984540908032ebcfe7de7f43f177dfbf5b4775\"\n"
     ]
    }
   ],
   "source": [
    "cardano-cli query utxo --testnet-magic \"$CARDANO_TESTNET_MAGIC\" --address \"$MARLOWE_ADDR\""
   ]
  },
  {
   "cell_type": "markdown",
   "id": "0de2a95b-65f8-44fd-a5e9-f37e1222a42e",
   "metadata": {},
   "source": [
    "### 6. The borrower deposits their second payment"
   ]
  },
  {
   "cell_type": "code",
   "execution_count": 66,
   "id": "ada5076a-3052-4412-8a96-faec777429e8",
   "metadata": {},
   "outputs": [
    {
     "name": "stdout",
     "output_type": "stream",
     "text": [
      "\n",
      "Fee: Lovelace 1666615\n",
      "Size: 15617 / 32768 = 47%\n",
      "Execution units:\n",
      "  Memory: 9567990 / 30000000 = 31%\n",
      "  Steps: 3438283291 / 10000000000 = 34%\n",
      "TxId \"16a9469bb48dcca6cf18c541971527f8d7cac9931e01d936c26b7f77875aea7a\"\n"
     ]
    }
   ],
   "source": [
    "TX_6=$(\n",
    "marlowe-cli run execute --marlowe-in-file revenue-based-loan-05.marlowe \\\n",
    "                        --tx-in-marlowe \"$TX_5#1\" \\\n",
    "                        --tx-in-collateral \"$TX_4#0\" \\\n",
    "                        --tx-in \"$TX_4#0\" \\\n",
    "                        --tx-in \"$TX_4#3\" \\\n",
    "                        --tx-in \"$TX_4#4\" \\\n",
    "                        --required-signer $KYD_SKEY \\\n",
    "                        --change-address $KYD_ADDR \\\n",
    "                        --marlowe-out-file revenue-based-loan-06.marlowe \\\n",
    "                        --tx-out \"$KYD_ADDR+$MIN_ADA+$((PRINCIPAL+INTEREST-DEPOSIT_1-DEPOSIT_2)) $DJED\" \\\n",
    "                        --out-file /dev/null \\\n",
    "                        --submit 600 \\\n",
    "                        --print-stats \\\n",
    "| sed -e 's/^TxId \"\\(.*\\)\"$/\\1/' \\\n",
    ")\n",
    "echo \"TxId \\\"$TX_6\\\"\""
   ]
  },
  {
   "cell_type": "markdown",
   "id": "ce46d67d-135a-49cb-9835-049431ebd334",
   "metadata": {},
   "source": [
    "UTxOs at Marlowe validator address:"
   ]
  },
  {
   "cell_type": "code",
   "execution_count": 67,
   "id": "2a6528bd-eabe-4a65-bf8d-caca0f291ac6",
   "metadata": {},
   "outputs": [
    {
     "name": "stdout",
     "output_type": "stream",
     "text": [
      "                           TxHash                                 TxIx        Amount\n",
      "--------------------------------------------------------------------------------------\n",
      "16a9469bb48dcca6cf18c541971527f8d7cac9931e01d936c26b7f77875aea7a     1        2000000 lovelace + TxOutDatumHash ScriptDataInAlonzoEra \"9c4c00bd0751ff8fbdbca6cc0ef733a1a0f479736e64d49a036403d94bdee0cf\"\n"
     ]
    }
   ],
   "source": [
    "cardano-cli query utxo --testnet-magic \"$CARDANO_TESTNET_MAGIC\" --address \"$SCRIPT_ADDRESS\""
   ]
  },
  {
   "cell_type": "markdown",
   "id": "ab4595c2-d964-4bcf-aefa-e2595a71406f",
   "metadata": {},
   "source": [
    "The lender has received their payment of 360 `DjedUSD`."
   ]
  },
  {
   "cell_type": "code",
   "execution_count": 68,
   "id": "ba842657-3aef-40f5-889a-18c1655d3db1",
   "metadata": {},
   "outputs": [
    {
     "name": "stdout",
     "output_type": "stream",
     "text": [
      "                           TxHash                                 TxIx        Amount\n",
      "--------------------------------------------------------------------------------------\n",
      "16a9469bb48dcca6cf18c541971527f8d7cac9931e01d936c26b7f77875aea7a     2        1344798 lovelace + 360 1f4cc97451944ce039366dee5d9acd36a2784dd22e7c3431e50264e8.446a6564555344 + TxOutDatumNone\n",
      "24a9f47301c4e5c1f4de4733a05200c8aa9b6663133812fd837efc8ac18e47ae     2        1344798 lovelace + 450 1f4cc97451944ce039366dee5d9acd36a2784dd22e7c3431e50264e8.446a6564555344 + TxOutDatumNone\n",
      "8b97a703eea8b8d9d8ebbcd81cc7e2a00edf8a44e054bfbb917835ee8943e2fa     0        976138501 lovelace + TxOutDatumNone\n",
      "8b97a703eea8b8d9d8ebbcd81cc7e2a00edf8a44e054bfbb917835ee8943e2fa     3        1500000 lovelace + TxOutDatumHash ScriptDataInAlonzoEra \"a80c752321932efccbca109a5d1a394dfff6b9c7456ddff8efcafd8933dc7203\"\n"
     ]
    }
   ],
   "source": [
    "cardano-cli query utxo --testnet-magic \"$CARDANO_TESTNET_MAGIC\" --address \"$BEAUMONT_ADDR\""
   ]
  },
  {
   "cell_type": "markdown",
   "id": "50742b99-16d4-4226-a7c1-40d7bb03fd44",
   "metadata": {},
   "source": [
    "The borrower has made their payment of 360 `DjedUSD`."
   ]
  },
  {
   "cell_type": "code",
   "execution_count": 69,
   "id": "f4683c73-f04b-48d8-bde5-7af29b9eff02",
   "metadata": {},
   "outputs": [
    {
     "name": "stdout",
     "output_type": "stream",
     "text": [
      "                           TxHash                                 TxIx        Amount\n",
      "--------------------------------------------------------------------------------------\n",
      "16a9469bb48dcca6cf18c541971527f8d7cac9931e01d936c26b7f77875aea7a     0        1004346581 lovelace + TxOutDatumNone\n",
      "16a9469bb48dcca6cf18c541971527f8d7cac9931e01d936c26b7f77875aea7a     3        2000000 lovelace + 290 1f4cc97451944ce039366dee5d9acd36a2784dd22e7c3431e50264e8.446a6564555344 + TxOutDatumNone\n",
      "16a9469bb48dcca6cf18c541971527f8d7cac9931e01d936c26b7f77875aea7a     4        1500000 lovelace + TxOutDatumHash ScriptDataInAlonzoEra \"f2d6acf8c7504fc265d4a06a574d5c30e4b81441ac9d75ec2d48ec4d4e73a6a7\"\n"
     ]
    }
   ],
   "source": [
    "cardano-cli query utxo --testnet-magic \"$CARDANO_TESTNET_MAGIC\" --address \"$KYD_ADDR\""
   ]
  },
  {
   "cell_type": "markdown",
   "id": "3d18bd2c-c66a-4a8a-b217-c03f8139949c",
   "metadata": {},
   "source": [
    "### 7. The oracle reports the borrower's revenue in the third period"
   ]
  },
  {
   "cell_type": "code",
   "execution_count": 70,
   "id": "95d4f687-6428-4358-9d53-fb0fb5793676",
   "metadata": {},
   "outputs": [
    {
     "name": "stdout",
     "output_type": "stream",
     "text": [
      "\n",
      "Fee: Lovelace 1580098\n",
      "Size: 15830 / 32768 = 48%\n",
      "Execution units:\n",
      "  Memory: 8266150 / 30000000 = 27%\n",
      "  Steps: 3211813236 / 10000000000 = 32%\n",
      "TxId \"ef6b4e34d56ff1d34482456ed5bf2311c01e5c3e44d229ff6f9934713e1268b3\"\n"
     ]
    }
   ],
   "source": [
    "TX_7=$(\n",
    "marlowe-cli run execute --marlowe-in-file revenue-based-loan-06.marlowe \\\n",
    "                        --tx-in-marlowe \"$TX_6#1\" \\\n",
    "                        --tx-in-collateral \"$TX_5#0\" \\\n",
    "                        --tx-in \"$TX_5#0\" \\\n",
    "                        --tx-in \"$TX_5#2\" \\\n",
    "                        --required-signer $MARLOWE_SKEY \\\n",
    "                        --change-address $MARLOWE_ADDR \\\n",
    "                        --marlowe-out-file revenue-based-loan-07.marlowe \\\n",
    "                        --out-file /dev/null \\\n",
    "                        --submit 600 \\\n",
    "                        --print-stats \\\n",
    "| sed -e 's/^TxId \"\\(.*\\)\"$/\\1/' \\\n",
    ")\n",
    "echo \"TxId \\\"$TX_7\\\"\""
   ]
  },
  {
   "cell_type": "markdown",
   "id": "e1bf272b-6ee6-4a2d-9957-345eceb4fa73",
   "metadata": {},
   "source": [
    "UTxOs at the Marlowe validator address:"
   ]
  },
  {
   "cell_type": "code",
   "execution_count": 71,
   "id": "9fb18666-ea7a-4b1e-a201-9115f6129e4b",
   "metadata": {},
   "outputs": [
    {
     "name": "stdout",
     "output_type": "stream",
     "text": [
      "                           TxHash                                 TxIx        Amount\n",
      "--------------------------------------------------------------------------------------\n",
      "ef6b4e34d56ff1d34482456ed5bf2311c01e5c3e44d229ff6f9934713e1268b3     1        2000000 lovelace + TxOutDatumHash ScriptDataInAlonzoEra \"d4f72ec5be7709f8dae7323009d1678b41060b5b4eb40a2f28092db37216e0d9\"\n"
     ]
    }
   ],
   "source": [
    "cardano-cli query utxo --testnet-magic \"$CARDANO_TESTNET_MAGIC\" --address \"$SCRIPT_ADDRESS\""
   ]
  },
  {
   "cell_type": "markdown",
   "id": "98472cb7-69f5-48bc-8355-398e2e07f563",
   "metadata": {},
   "source": [
    "UTxOs at the oracle address:"
   ]
  },
  {
   "cell_type": "code",
   "execution_count": 72,
   "id": "6fc2835c-2783-404c-b5a0-a18eb8850fd1",
   "metadata": {},
   "outputs": [
    {
     "name": "stdout",
     "output_type": "stream",
     "text": [
      "                           TxHash                                 TxIx        Amount\n",
      "--------------------------------------------------------------------------------------\n",
      "ef6b4e34d56ff1d34482456ed5bf2311c01e5c3e44d229ff6f9934713e1268b3     0        986165243 lovelace + TxOutDatumNone\n",
      "ef6b4e34d56ff1d34482456ed5bf2311c01e5c3e44d229ff6f9934713e1268b3     2        1500000 lovelace + TxOutDatumHash ScriptDataInAlonzoEra \"6aabfb7459cf89ca90c8b91e9d13006ba0b67c5369c2a5f5bce4915b4b26a879\"\n"
     ]
    }
   ],
   "source": [
    "cardano-cli query utxo --testnet-magic \"$CARDANO_TESTNET_MAGIC\" --address \"$MARLOWE_ADDR\""
   ]
  },
  {
   "cell_type": "markdown",
   "id": "f3efb3f8-eaa9-4ca0-99b2-cae7e28ebe27",
   "metadata": {},
   "source": [
    "### 8. The borrower deposits their third payment"
   ]
  },
  {
   "cell_type": "code",
   "execution_count": 73,
   "id": "4ab06cb8-70cf-4157-bbe1-c1f0984e5b1b",
   "metadata": {},
   "outputs": [
    {
     "name": "stdout",
     "output_type": "stream",
     "text": [
      "\n",
      "Fee: Lovelace 1181952\n",
      "Size: 14148 / 32768 = 43%\n",
      "Execution units:\n",
      "  Memory: 4539458 / 30000000 = 15%\n",
      "  Steps: 1636895683 / 10000000000 = 16%\n",
      "TxId \"836631ef271d86554c717fe12a3feadaf661dafd9a2c80728964244c8b163542\"\n"
     ]
    }
   ],
   "source": [
    "TX_8=$(\n",
    "marlowe-cli run execute --marlowe-in-file revenue-based-loan-07.marlowe \\\n",
    "                        --tx-in-marlowe \"$TX_7#1\" \\\n",
    "                        --tx-in-collateral \"$TX_6#0\" \\\n",
    "                        --tx-in \"$TX_6#0\" \\\n",
    "                        --tx-in \"$TX_6#3\" \\\n",
    "                        --tx-in \"$TX_6#4\" \\\n",
    "                        --required-signer $KYD_SKEY \\\n",
    "                        --change-address $KYD_ADDR \\\n",
    "                        --marlowe-out-file revenue-based-loan-08.marlowe \\\n",
    "                        --out-file /dev/null \\\n",
    "                        --submit 600 \\\n",
    "                        --print-stats \\\n",
    "| sed -e 's/^TxId \"\\(.*\\)\"$/\\1/' \\\n",
    ")\n",
    "echo \"TxId \\\"$TX_8\\\"\""
   ]
  },
  {
   "cell_type": "markdown",
   "id": "a9c49b71-bc34-4bc5-b43f-8f9bba678ffc",
   "metadata": {},
   "source": [
    "There is no UTxO at the Marlowe validator address because the contract has closed:"
   ]
  },
  {
   "cell_type": "code",
   "execution_count": 74,
   "id": "04daba2c-b852-49ed-80d7-a530733bd61f",
   "metadata": {},
   "outputs": [
    {
     "name": "stdout",
     "output_type": "stream",
     "text": [
      "                           TxHash                                 TxIx        Amount\n",
      "--------------------------------------------------------------------------------------\n"
     ]
    }
   ],
   "source": [
    "cardano-cli query utxo --testnet-magic \"$CARDANO_TESTNET_MAGIC\" --address \"$SCRIPT_ADDRESS\""
   ]
  },
  {
   "cell_type": "markdown",
   "id": "fbe47177-8fdd-4766-877b-66aef152e0c7",
   "metadata": {},
   "source": [
    "The lender has recieved their payment of 290 `DjedUSD`, completing their receipt of principal and interest."
   ]
  },
  {
   "cell_type": "code",
   "execution_count": 75,
   "id": "f9ad9376-53d2-4924-a947-04a8cd1da0b4",
   "metadata": {},
   "outputs": [
    {
     "name": "stdout",
     "output_type": "stream",
     "text": [
      "                           TxHash                                 TxIx        Amount\n",
      "--------------------------------------------------------------------------------------\n",
      "16a9469bb48dcca6cf18c541971527f8d7cac9931e01d936c26b7f77875aea7a     2        1344798 lovelace + 360 1f4cc97451944ce039366dee5d9acd36a2784dd22e7c3431e50264e8.446a6564555344 + TxOutDatumNone\n",
      "24a9f47301c4e5c1f4de4733a05200c8aa9b6663133812fd837efc8ac18e47ae     2        1344798 lovelace + 450 1f4cc97451944ce039366dee5d9acd36a2784dd22e7c3431e50264e8.446a6564555344 + TxOutDatumNone\n",
      "836631ef271d86554c717fe12a3feadaf661dafd9a2c80728964244c8b163542     1        1344798 lovelace + 290 1f4cc97451944ce039366dee5d9acd36a2784dd22e7c3431e50264e8.446a6564555344 + TxOutDatumNone\n",
      "8b97a703eea8b8d9d8ebbcd81cc7e2a00edf8a44e054bfbb917835ee8943e2fa     0        976138501 lovelace + TxOutDatumNone\n",
      "8b97a703eea8b8d9d8ebbcd81cc7e2a00edf8a44e054bfbb917835ee8943e2fa     3        1500000 lovelace + TxOutDatumHash ScriptDataInAlonzoEra \"a80c752321932efccbca109a5d1a394dfff6b9c7456ddff8efcafd8933dc7203\"\n"
     ]
    }
   ],
   "source": [
    "cardano-cli query utxo --testnet-magic \"$CARDANO_TESTNET_MAGIC\" --address \"$BEAUMONT_ADDR\""
   ]
  },
  {
   "cell_type": "markdown",
   "id": "ad7aaada-690d-405a-be9d-785023c9418a",
   "metadata": {},
   "source": [
    "The borrower has made their payment of 290 `DjedUSD`, completing their obligation."
   ]
  },
  {
   "cell_type": "code",
   "execution_count": 76,
   "id": "803ab37b-6368-4ea5-9ede-abd739d51591",
   "metadata": {},
   "outputs": [
    {
     "name": "stdout",
     "output_type": "stream",
     "text": [
      "                           TxHash                                 TxIx        Amount\n",
      "--------------------------------------------------------------------------------------\n",
      "836631ef271d86554c717fe12a3feadaf661dafd9a2c80728964244c8b163542     0        1003819831 lovelace + TxOutDatumNone\n",
      "836631ef271d86554c717fe12a3feadaf661dafd9a2c80728964244c8b163542     3        1500000 lovelace + TxOutDatumHash ScriptDataInAlonzoEra \"3d01aec8fc802be7833aa4d7bedc46ec8a7a9ac34de6d5da6167ee8e00fe6604\"\n"
     ]
    }
   ],
   "source": [
    "cardano-cli query utxo --testnet-magic \"$CARDANO_TESTNET_MAGIC\" --address \"$KYD_ADDR\""
   ]
  },
  {
   "cell_type": "markdown",
   "id": "c8b8ad47-4e77-4b8e-bea3-65a8695e5bb4",
   "metadata": {},
   "source": [
    "The oracle has received back their minimum Ada deposit:"
   ]
  },
  {
   "cell_type": "code",
   "execution_count": 77,
   "id": "8ace3f2b-a146-46ca-bf22-5c8fa988fb2b",
   "metadata": {},
   "outputs": [
    {
     "name": "stdout",
     "output_type": "stream",
     "text": [
      "                           TxHash                                 TxIx        Amount\n",
      "--------------------------------------------------------------------------------------\n",
      "836631ef271d86554c717fe12a3feadaf661dafd9a2c80728964244c8b163542     2        2000000 lovelace + TxOutDatumNone\n",
      "ef6b4e34d56ff1d34482456ed5bf2311c01e5c3e44d229ff6f9934713e1268b3     0        986165243 lovelace + TxOutDatumNone\n",
      "ef6b4e34d56ff1d34482456ed5bf2311c01e5c3e44d229ff6f9934713e1268b3     2        1500000 lovelace + TxOutDatumHash ScriptDataInAlonzoEra \"6aabfb7459cf89ca90c8b91e9d13006ba0b67c5369c2a5f5bce4915b4b26a879\"\n"
     ]
    }
   ],
   "source": [
    "cardano-cli query utxo --testnet-magic \"$CARDANO_TESTNET_MAGIC\" --address \"$MARLOWE_ADDR\""
   ]
  },
  {
   "cell_type": "markdown",
   "id": "52120c23-d326-45cf-8a7b-1097a0262797",
   "metadata": {},
   "source": [
    "### Clean Up\n",
    "\n",
    "Clean up the UTxOs so we can easily run this example again."
   ]
  },
  {
   "cell_type": "code",
   "execution_count": 78,
   "id": "015f4bae-da19-49ba-90f0-43a983c6465d",
   "metadata": {},
   "outputs": [
    {
     "name": "stdout",
     "output_type": "stream",
     "text": [
      "TxId \"5849c47b06918214ca920b82c539b906895a645efcc6a67c9817ce0dcc28eab9\"\n"
     ]
    }
   ],
   "source": [
    "marlowe-cli transaction simple --tx-in \"$TX_2#0\" \\\n",
    "                               --tx-in \"$TX_2#3\" \\\n",
    "                               --tx-in \"$TX_4#2\" \\\n",
    "                               --tx-in \"$TX_6#2\" \\\n",
    "                               --tx-in \"$TX_8#1\" \\\n",
    "                               --required-signer $BEAUMONT_SKEY \\\n",
    "                               --change-address $BEAUMONT_ADDR \\\n",
    "                               --tx-out \"$BEAUMONT_ADDR+10000000+1000 $DJED\" \\\n",
    "                               --tx-out \"$KYD_ADDR+10000000+100 $DJED\" \\\n",
    "                               --out-file /dev/null \\\n",
    "                               --submit 600"
   ]
  },
  {
   "cell_type": "code",
   "execution_count": 79,
   "id": "289f4afa-e58b-4877-ae91-692c33cfbfff",
   "metadata": {},
   "outputs": [
    {
     "name": "stdout",
     "output_type": "stream",
     "text": [
      "TxId \"e41d27d69dbd4e2a8e053825f0198b42bb4fc1b49ca5ec97421ed8956ee63b2b\"\n"
     ]
    }
   ],
   "source": [
    "marlowe-cli transaction simple --tx-in \"$TX_8#0\" \\\n",
    "                               --tx-in \"$TX_8#3\" \\\n",
    "                               --required-signer $KYD_SKEY \\\n",
    "                               --change-address $KYD_ADDR \\\n",
    "                               --out-file /dev/null \\\n",
    "                               --submit 600"
   ]
  },
  {
   "cell_type": "code",
   "execution_count": 80,
   "id": "b2982079-6a14-4849-aa32-29422b1bdeee",
   "metadata": {},
   "outputs": [
    {
     "name": "stdout",
     "output_type": "stream",
     "text": [
      "TxId \"acf9664e4fddd78e827b36289d96914a664e3505ffb72061744f9eac8fe087af\"\n"
     ]
    }
   ],
   "source": [
    "marlowe-cli transaction simple --tx-in \"$TX_7#0\" \\\n",
    "                               --tx-in \"$TX_7#2\" \\\n",
    "                               --tx-in \"$TX_8#2\" \\\n",
    "                               --required-signer $MARLOWE_SKEY \\\n",
    "                               --change-address $MARLOWE_ADDR \\\n",
    "                               --out-file /dev/null \\\n",
    "                               --submit 600"
   ]
  }
 ],
 "metadata": {
  "kernelspec": {
   "display_name": "Bash - Marlowe",
   "language": "bash",
   "name": "bash_marlowe"
  },
  "language_info": {
   "codemirror_mode": "shell",
   "file_extension": ".sh",
   "mimetype": "text/x-sh",
   "name": "/nix/store/zwjm0gln1vk7x1akpyz0yxjsd1yc46gi-bash-5.1-p16/bin/bash"
  }
 },
 "nbformat": 4,
 "nbformat_minor": 5
}
