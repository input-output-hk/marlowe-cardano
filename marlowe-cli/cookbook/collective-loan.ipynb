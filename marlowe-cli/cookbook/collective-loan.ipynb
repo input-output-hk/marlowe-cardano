{
 "cells": [
  {
   "cell_type": "markdown",
   "id": "d2282dae-c7b1-4dec-9e9d-f66dcff5e767",
   "metadata": {},
   "source": [
    "# Collective Loan in Marlowe\n",
    "\n",
    "\n",
    "**Executive Summary**\n",
    "\n",
    "This collective-loan contract lets lenders deposit currency such as `DjedUSD` in exchange for liquidity tokens, and then lets borrowers draw funds from the contract as loans. After the borrowers pay back their borrowings with interest to the collective loan, the lenders then redeem their liquidity tokens for `DjedUSD` that includes profit from the lending. A central administrator manages approvals. The Marlowe contract for this collective loan is scalable to an arbitrarily largenumber of lenders or borrowers, so long as the trusted central administrator is relied upon to disperse role tokens on a just-in-time basis. (Less centralized versions may be feasible, but they would be more rigid in terms of sequence of participation of the lenders and borrowers.) The contract was both simulated and run on the Cardano blockchain: that involved 3 lenders, 5 borrowers, and ~60 transactions.\n",
    "\n",
    "[A simple one-lender, one-borrower version of this contract](collective-loan.blockly) is available for use in [Marlowe Playground's Blockly/Marlowe format](https://marlowe-playground-staging.plutus.aws.iohkdev.io/#/marlowe).\n",
    "\n",
    "See also [this video](https://vimeo.com/735889853/10601168e4) that walks through this example in Marlowe Playground and on the Marlowe testnet.\n",
    "\n",
    "\n",
    "**Highlights**\n",
    "\n",
    "*   Arbitrary scalability for Marlowe contracts where role-tokens are dispersed on a just-in-time basis.\n",
    "*   Incremental merkleization for rapid construction of large Marlowe contracts.\n",
    "*   Novel merkleization of timeouts to limit contract depth.\n",
    "\n",
    "\n",
    "***Life cycle of this collective loan:***\n",
    "\n",
    "1.  The administrator configures and creates the contract.\n",
    "2.  The administrator deposits the liquidity tokens for the contract.\n",
    "3.  Lenders request to deposit their investment funds.\n",
    "    1.  The administrator approves the lender.\n",
    "    2.  The administrator sends a role token to the lender.\n",
    "    3.  The lender deposits their funds.\n",
    "    4.  The lender receives liquidity tokens as a receipt.\n",
    "4.  Borrowers requests loans from the collective loan.\n",
    "    1.  The administrator authorizes the loan.\n",
    "    2.  The administrator sends a role token to the borrower.\n",
    "    3.  The borrower withdraws their funds.\n",
    "5.  Borrowers deposit their loan proceeds.\n",
    "6.  Lenders redeem their liquidity tokens.\n",
    "7.  The administrator closes the contract.\n",
    "\n",
    "\n",
    "***Caveats and limitations***\n",
    "\n",
    "-   The contract has a finite life cycle with phases of investment, lending, repayment, and redemption.\n",
    "-   The administrator may be an organization or an oracle, manual or automated, but it must be highly secure.\n",
    "    -   For example, a contract with 100 lenders and 5000 loans will fit-on chain if it is merkleized: such a contract contains 20,601 small continuations that account for all possible logical paths through the contract.\n",
    "    -   However, we have not studied how the arbitrary *interleaving* of lending and payback may affect scalability.\n",
    "-   Unlike fully decentralized Marlowe contracts, this collective-loan contract relies upon centralized management of role tokens to bypass the Marlowe's limitations on the number of state variables (which are stored in Plutus `Datum`).\n",
    "    -   The use of reference scripts (CIP-33) in the Babbage Era may somewhat alleviate this limitation.\n",
    "    -   Role tokens can be pre-distributed *if lenders and borrowers submit transactions in a pre-defined order*: this will decrease centralization and increase security at the expense of making the contract more rigid."
   ]
  },
  {
   "cell_type": "markdown",
   "id": "c655fc2e-3149-4e4f-b675-fa55f462dd4c",
   "metadata": {},
   "source": [
    "## Sequence Diagram\n",
    "\n",
    "![UML sequence diagram for collective loan](collective-loan.png)"
   ]
  },
  {
   "cell_type": "markdown",
   "id": "54e55032-abcd-49e4-afd9-8220dfea7334",
   "metadata": {},
   "source": [
    "## Preliminaries"
   ]
  },
  {
   "cell_type": "markdown",
   "id": "732311a2-6b0a-493f-89aa-2e7726935758",
   "metadata": {},
   "source": [
    "### Versions"
   ]
  },
  {
   "cell_type": "markdown",
   "id": "c27b9add-75d2-43c0-bdfa-5e307d0d7ec4",
   "metadata": {},
   "source": [
    "Make a note of the versions of the Marlowe repository and software."
   ]
  },
  {
   "cell_type": "code",
   "execution_count": 1,
   "id": "59b0f329-1f59-4366-b4dc-34b9e4adee00",
   "metadata": {},
   "outputs": [
    {
     "name": "stdout",
     "output_type": "stream",
     "text": [
      "marlowe-cli 0.0.5.0\n"
     ]
    }
   ],
   "source": [
    "marlowe-cli --version"
   ]
  },
  {
   "cell_type": "code",
   "execution_count": 2,
   "id": "dcac1a0e-f533-4cad-b474-c1f122f79cce",
   "metadata": {},
   "outputs": [
    {
     "name": "stdout",
     "output_type": "stream",
     "text": [
      "cardano-cli 1.34.1 - linux-x86_64 - ghc-8.10\n",
      "git rev 0000000000000000000000000000000000000000\n"
     ]
    }
   ],
   "source": [
    "cardano-cli --version"
   ]
  },
  {
   "cell_type": "code",
   "execution_count": 3,
   "id": "85240b4e-2412-4530-95e4-5219eb8a9780",
   "metadata": {},
   "outputs": [
    {
     "name": "stdout",
     "output_type": "stream",
     "text": [
      "1e0695fb623d353d3a5575f9977b21faaa53df6c\n"
     ]
    }
   ],
   "source": [
    "git rev-parse HEAD"
   ]
  },
  {
   "cell_type": "markdown",
   "id": "e9b8f6d0-0a04-4a7f-8b6e-37f5c0398a2e",
   "metadata": {},
   "source": [
    "### Utility Functions"
   ]
  },
  {
   "cell_type": "markdown",
   "id": "062e7e2b-b34a-4484-b7a5-bd4467ee8fc7",
   "metadata": {},
   "source": [
    "The following functions simplify UTxO management."
   ]
  },
  {
   "cell_type": "code",
   "execution_count": 4,
   "id": "def1a556-698e-48d6-9937-35add8a448af",
   "metadata": {},
   "outputs": [],
   "source": [
    "function find_role_token() {\n",
    "  marlowe-cli util select --asset-only $ROLES_POLICY.$2 $1 | sed -e 's/^TxIn \"\\(.*\\)\" (TxIx \\(.*\\))$/\\1#\\2/'\n",
    "}"
   ]
  },
  {
   "cell_type": "code",
   "execution_count": 5,
   "id": "78943068-1617-4908-ad21-09660a19ab55",
   "metadata": {},
   "outputs": [],
   "source": [
    "function find_ada() {\n",
    "  marlowe-cli util select --lovelace-only $((10 * ADA)) $1 | sed -e 's/^TxIn \"\\(.*\\)\" (TxIx \\(.*\\))$/\\1#\\2/' | head -n 1\n",
    "}"
   ]
  },
  {
   "cell_type": "code",
   "execution_count": 6,
   "id": "58f4d703-6ba3-419b-957e-113fb1d96e73",
   "metadata": {},
   "outputs": [],
   "source": [
    "function find_token() {\n",
    "  marlowe-cli util select --asset-only $2 $1 | sed -e 's/^TxIn \"\\(.*\\)\" (TxIx \\(.*\\))$/\\1#\\2/' | head -n 1\n",
    "}"
   ]
  },
  {
   "cell_type": "code",
   "execution_count": 7,
   "id": "837b9280-5bc4-4848-b608-9a98923f373c",
   "metadata": {},
   "outputs": [],
   "source": [
    "function find_token_2() {\n",
    "  marlowe-cli util select --asset-only $2 $1 | sed -e 's/^TxIn \"\\(.*\\)\" (TxIx \\(.*\\))$/\\1#\\2/' | tail -n +2 | head -n 1\n",
    "}"
   ]
  },
  {
   "cell_type": "code",
   "execution_count": 8,
   "id": "91f0f0d4-c142-429f-83c6-b8b3b86bffcf",
   "metadata": {},
   "outputs": [],
   "source": [
    "function make_role_txout () {\n",
    "  echo \"$1+$MIN_ADA+1 $ROLES_POLICY.$2\"\n",
    "}"
   ]
  },
  {
   "cell_type": "code",
   "execution_count": 9,
   "id": "6f826933-6fed-406b-9ea5-5d61665752ce",
   "metadata": {},
   "outputs": [],
   "source": [
    "function make_token_txout() {\n",
    "  echo \"$1+$MIN_ADA+$3 $2\"\n",
    "}"
   ]
  },
  {
   "cell_type": "markdown",
   "id": "aa1c26dd-6db8-4a75-9604-f8494538b9a4",
   "metadata": {},
   "source": [
    "### Select the Cardano network"
   ]
  },
  {
   "cell_type": "code",
   "execution_count": 10,
   "id": "60ab7ef1-d69a-4d40-aa20-894916013cf2",
   "metadata": {},
   "outputs": [],
   "source": [
    "export CARDANO_TESTNET_MAGIC=1567\n",
    "export CARDANO_NODE_SOCKET_PATH=node.socket"
   ]
  },
  {
   "cell_type": "markdown",
   "id": "4cf407d7-6cd1-4933-a593-b638fd0167ef",
   "metadata": {},
   "source": [
    "### Current Time"
   ]
  },
  {
   "cell_type": "markdown",
   "id": "d6e588e1-960a-442e-85f9-5b175644bf70",
   "metadata": {},
   "source": [
    "We'll start the contract at the current time."
   ]
  },
  {
   "cell_type": "code",
   "execution_count": 11,
   "id": "932d174a-1092-4c5f-9da1-4dd84bd6eb81",
   "metadata": {},
   "outputs": [
    {
     "name": "stdout",
     "output_type": "stream",
     "text": [
      "1659630034000\n"
     ]
    }
   ],
   "source": [
    "NOW=$(($(date -u +%s) * 1000))\n",
    "echo $NOW"
   ]
  },
  {
   "cell_type": "markdown",
   "id": "662675d0-241f-433e-9c59-e78c25cfbbbd",
   "metadata": {},
   "source": [
    "Compute time constants, for convenience when setting time intervals for transactions."
   ]
  },
  {
   "cell_type": "code",
   "execution_count": 12,
   "id": "b43c72cd-d15c-4323-aee7-09e95c17cae9",
   "metadata": {},
   "outputs": [],
   "source": [
    "MINUTE=$((60 * 1000))\n",
    "HOUR=$((60 * MINUTE))\n",
    "DAY=$((24 * HOUR))"
   ]
  },
  {
   "cell_type": "markdown",
   "id": "20350c3c-0f59-4e14-a299-cbf6e80753ff",
   "metadata": {},
   "source": [
    "There is a minimum Ada requirement associated with a native token."
   ]
  },
  {
   "cell_type": "code",
   "execution_count": 13,
   "id": "88f6d4e0-2271-42cc-9cfe-177362edf9e9",
   "metadata": {},
   "outputs": [
    {
     "name": "stdout",
     "output_type": "stream",
     "text": [
      "2000000\n"
     ]
    }
   ],
   "source": [
    "ADA=1000000\n",
    "MIN_ADA=$((2 * ADA))\n",
    "echo $MIN_ADA"
   ]
  },
  {
   "cell_type": "markdown",
   "id": "c8aa6463-b652-4340-98f2-7300fc8c49de",
   "metadata": {},
   "source": [
    "### Contract Parameters"
   ]
  },
  {
   "cell_type": "markdown",
   "id": "2e35dfe6-16c1-439e-b6e6-88dd42ee5ada",
   "metadata": {},
   "source": [
    "Set parameters for the contract. This contract scales to large numbers of lenders and borrowers, but that will involve many transactions and much time if run on-chain."
   ]
  },
  {
   "cell_type": "code",
   "execution_count": 14,
   "id": "1967aea0-0df3-4e3b-a855-ff57f40e006e",
   "metadata": {},
   "outputs": [],
   "source": [
    "N_LENDERS=3\n",
    "N_BORROWERS=5\n",
    "\n",
    "MINIMUM_INVESTMENT=500000\n",
    "MAXIMUM_INVESTMENT=5000000\n",
    "\n",
    "POOL_SIZE=$((N_LENDERS * MAXIMUM_INVESTMENT))\n",
    "\n",
    "MINIMUM_LOAN=100000\n",
    "MAXIMUM_LOAN=1000000\n",
    "BORROWER_DJED=500000\n",
    "\n",
    "TOTAL_DJED=$((POOL_SIZE + N_BORROWERS * BORROWER_DJED))\n",
    "\n",
    "SETUP_DEADLINE=$((NOW + 1 * HOUR))\n",
    "\n",
    "INVESTMENT_DEADLINE=$((NOW + 3 * HOUR))\n",
    "INVESTMENT_REPAYMENT_DEADLINE=$((NOW + 12 * HOUR))\n",
    "\n",
    "LOAN_DEADLINE=$((NOW + 6 * HOUR))\n",
    "LOAN_REPAYMENT_DEADLINE=$((NOW + 9 * HOUR))\n",
    "\n",
    "ULTIMATE_DEADLINE=$((NOW + 15 * HOUR))"
   ]
  },
  {
   "cell_type": "markdown",
   "id": "ce4fc6e8-4156-498c-93f9-10b8736f562b",
   "metadata": {},
   "source": [
    "### Keys for the Administrator"
   ]
  },
  {
   "cell_type": "markdown",
   "id": "94bf8dc0-79e1-43cc-95a9-1963b6ca0357",
   "metadata": {},
   "source": [
    "Use a pre-existing key for payment."
   ]
  },
  {
   "cell_type": "code",
   "execution_count": 15,
   "id": "67c1b16c-eab5-480c-a745-c4dd495e9dd6",
   "metadata": {},
   "outputs": [
    {
     "name": "stdout",
     "output_type": "stream",
     "text": [
      "addr_test1vrssw4edcts00kk6lp7p5n64666m23tpprqaarmdwkaq69gfvqnpz\n"
     ]
    }
   ],
   "source": [
    "ADMIN_ROLE=A\n",
    "ADMIN_SKEY=christopher-marlowe.skey\n",
    "ADMIN_VKEY=christopher-marlowe.vkey\n",
    "ADMIN_ADDR=$(cat christopher-marlowe.testnet.address)\n",
    "echo $ADMIN_ADDR"
   ]
  },
  {
   "cell_type": "markdown",
   "id": "5467c608-f710-498e-9229-4655ef05d352",
   "metadata": {},
   "source": [
    "Send 1000 Ada to the administrator."
   ]
  },
  {
   "cell_type": "code",
   "execution_count": 16,
   "id": "ceb75717-e0c1-427a-a366-8fc9b9d68324",
   "metadata": {},
   "outputs": [
    {
     "name": "stdout",
     "output_type": "stream",
     "text": [
      "TxId \"c989e98a7f5917d29306bb4b86f31a23358a994501839ca4f52ae7c3b687c87a\"\n"
     ]
    }
   ],
   "source": [
    "marlowe-cli util faucet --lovelace $((1000 * ADA)) --out-file /dev/null --submit 600 $ADMIN_ADDR"
   ]
  },
  {
   "cell_type": "markdown",
   "id": "4c08198d-2a0c-4eb1-8b99-e95525333579",
   "metadata": {},
   "source": [
    "### Key Derivation"
   ]
  },
  {
   "cell_type": "markdown",
   "id": "71b56f99-7353-4484-8eb5-9203a6c9b330",
   "metadata": {},
   "source": [
    "We'll derive all of the keys for lenders and borrowers from a single root private key."
   ]
  },
  {
   "cell_type": "code",
   "execution_count": 17,
   "id": "50ffba8f-c382-4277-a136-acf58de68bdc",
   "metadata": {},
   "outputs": [],
   "source": [
    "ROOT_PRV=william-shakespeare.root.prv"
   ]
  },
  {
   "cell_type": "markdown",
   "id": "657c8871-2323-47ac-82db-b2034d3f8821",
   "metadata": {},
   "source": [
    "For the convenience of viewing transactions in Daedalus, we'll include the same stake credential in all of the addresses."
   ]
  },
  {
   "cell_type": "code",
   "execution_count": 18,
   "id": "b873b69c-0d43-479a-9439-3ff09c96c3ac",
   "metadata": {},
   "outputs": [
    {
     "name": "stdout",
     "output_type": "stream",
     "text": [
      "stake_test1urplvp2a7dythh6yxutd0qlzzkncr3gy5ftvxj02d3etafqjugc5h\n"
     ]
    }
   ],
   "source": [
    "cardano-wallet key child 1852H/1815H/0H/2/0 < $ROOT_PRV \\\n",
    "| cardano-cli key convert-cardano-address-key --shelley-stake-key --signing-key-file /dev/stdin --out-file /dev/stdout \\\n",
    "| cardano-cli key verification-key --signing-key-file /dev/stdin --verification-key-file /dev/stdout \\\n",
    "| cardano-cli key non-extended-key --extended-verification-key-file /dev/stdin --verification-key-file william-shakespeare.stake.vkey\n",
    "cardano-cli stake-address build --testnet-magic $CARDANO_TESTNET_MAGIC --stake-verification-key-file william-shakespeare.stake.vkey"
   ]
  },
  {
   "cell_type": "markdown",
   "id": "6043d1fc-1b6d-4e37-a4ae-e13ecf7d5a30",
   "metadata": {},
   "source": [
    "### Keys for Lenders"
   ]
  },
  {
   "cell_type": "markdown",
   "id": "8100afb9-424e-4086-b99a-ef9883214216",
   "metadata": {},
   "source": [
    "Build the signing keys and payment addresses for the lenders from the `1852H/1815H/0H/0/` sequence of key derivations."
   ]
  },
  {
   "cell_type": "code",
   "execution_count": 19,
   "id": "7d909421-10ae-41a5-9cdf-af013401a124",
   "metadata": {},
   "outputs": [
    {
     "name": "stdout",
     "output_type": "stream",
     "text": [
      "Lender 1852H/1815H/0H/0/1 = addr_test1qzenwj7elwatk3mmc368mwnv067fqnuk3x7u4nqw5dezg8wr7cz4mu6gh005gdck67p7y9d8s8zsfgjkcdy75mrjh6jqf6k36p\n",
      "Lender 1852H/1815H/0H/0/2 = addr_test1qraxynufcduk7ak7nke2jm6pnc32vn7wsmm7ml30cutfgg7r7cz4mu6gh005gdck67p7y9d8s8zsfgjkcdy75mrjh6jq77wfgp\n",
      "Lender 1852H/1815H/0H/0/3 = addr_test1qzlwepx5u26a8w94kfrkfem6njlam22emyhjscu0lxqrce7r7cz4mu6gh005gdck67p7y9d8s8zsfgjkcdy75mrjh6jq5jnrn3\n"
     ]
    }
   ],
   "source": [
    "mkdir -p tmp\n",
    "for j in `seq 1 $N_LENDERS`\n",
    "do\n",
    "  LENDER_SKEY[$j]=tmp/lender-$j.skey\n",
    "  LENDER_ADDR[$j]=$(\n",
    "  cardano-wallet key child 1852H/1815H/0H/0/$j < $ROOT_PRV \\\n",
    "  | cardano-cli key convert-cardano-address-key --shelley-payment-key --signing-key-file /dev/stdin --out-file ${LENDER_SKEY[$j]}\n",
    "  cardano-cli key verification-key --signing-key-file ${LENDER_SKEY[$j]} --verification-key-file /dev/stdout \\\n",
    "  | cardano-cli address build --testnet-magic $CARDANO_TESTNET_MAGIC --payment-verification-key-file /dev/stdin --stake-verification-key-file william-shakespeare.stake.vkey \\\n",
    "  )\n",
    "  echo \"Lender 1852H/1815H/0H/0/$j = ${LENDER_ADDR[$j]}\"\n",
    "done"
   ]
  },
  {
   "cell_type": "markdown",
   "id": "c71510aa-e40d-4cee-8329-4252e0969dad",
   "metadata": {},
   "source": [
    "Send 25 ADA to each lender."
   ]
  },
  {
   "cell_type": "code",
   "execution_count": 20,
   "id": "8e7997d5-1d4d-4d79-8a16-442e0867c037",
   "metadata": {},
   "outputs": [
    {
     "name": "stdout",
     "output_type": "stream",
     "text": [
      "TxId \"9f0da9216494d506a14f7cc5f48644f13ff3a01a14cc8aa731fb6ae0dcaba588\"\n"
     ]
    }
   ],
   "source": [
    "marlowe-cli util faucet --lovelace $((25 * ADA)) --out-file /dev/null --submit 600 ${LENDER_ADDR[@]}"
   ]
  },
  {
   "cell_type": "markdown",
   "id": "83c204a9-25e7-4843-8208-cfeca7e22b8b",
   "metadata": {},
   "source": [
    "### Keys for Borrowers"
   ]
  },
  {
   "cell_type": "markdown",
   "id": "fdfc3878-12ee-4aba-9f33-6be1683570ea",
   "metadata": {},
   "source": [
    "Build the signing keys and payment addresses for the borrowers from the `1852H/1815H/0H/1/` sequence of key derivations."
   ]
  },
  {
   "cell_type": "code",
   "execution_count": 21,
   "id": "37c397c6-332f-4c1d-9447-d764da23dbd7",
   "metadata": {},
   "outputs": [
    {
     "name": "stdout",
     "output_type": "stream",
     "text": [
      "Borrower 1852H/1815H/0H/1/1 = addr_test1qp7q4e9nlhq08mrugs8pm5uq045e425w72mxhxupq9qqgykr7cz4mu6gh005gdck67p7y9d8s8zsfgjkcdy75mrjh6jqjmt3lh\n",
      "Borrower 1852H/1815H/0H/1/2 = addr_test1qpzun0s6thsyf9qt0zyfnn50x8kpwutrv20eq8dgx9gt6tkr7cz4mu6gh005gdck67p7y9d8s8zsfgjkcdy75mrjh6jqfsjdsz\n",
      "Borrower 1852H/1815H/0H/1/3 = addr_test1qqpet7s339suufnxmr4vrg09469v30g59yxa70yrkxvrfekr7cz4mu6gh005gdck67p7y9d8s8zsfgjkcdy75mrjh6jq37csh4\n",
      "Borrower 1852H/1815H/0H/1/4 = addr_test1qppr8ue92zznn2k3v235fuxtpcun9k32g8jn09dsq3ndvawr7cz4mu6gh005gdck67p7y9d8s8zsfgjkcdy75mrjh6jqh2lydz\n",
      "Borrower 1852H/1815H/0H/1/5 = addr_test1qzcee8xm57tuss5wm3yvxhpk2w7ws3h03c8w2f30tlqahhkr7cz4mu6gh005gdck67p7y9d8s8zsfgjkcdy75mrjh6jqgtpxaq\n"
     ]
    }
   ],
   "source": [
    "mkdir -p tmp\n",
    "for j in `seq 1 $N_BORROWERS`\n",
    "do\n",
    "  BORROWER_SKEY[$j]=tmp/borrower-$j.skey\n",
    "  BORROWER_ADDR[$j]=$(\n",
    "    cardano-wallet key child 1852H/1815H/0H/1/$j < $ROOT_PRV \\\n",
    "  | cardano-cli key convert-cardano-address-key --shelley-payment-key --signing-key-file /dev/stdin --out-file ${BORROWER_SKEY[$j]}\n",
    "  cardano-cli key verification-key --signing-key-file ${BORROWER_SKEY[$j]} --verification-key-file /dev/stdout \\\n",
    "  | cardano-cli address build --testnet-magic $CARDANO_TESTNET_MAGIC --payment-verification-key-file /dev/stdin --stake-verification-key-file william-shakespeare.stake.vkey \\\n",
    "  )\n",
    "  echo \"Borrower 1852H/1815H/0H/1/$j = ${BORROWER_ADDR[$j]}\"\n",
    "done"
   ]
  },
  {
   "cell_type": "markdown",
   "id": "c4cd89d8-bef0-4608-868b-c6cda96594b4",
   "metadata": {},
   "source": [
    "Send 25 ADA to each borrower."
   ]
  },
  {
   "cell_type": "code",
   "execution_count": 22,
   "id": "446331b5-0a57-4283-b19f-7894e665058b",
   "metadata": {
    "tags": []
   },
   "outputs": [
    {
     "name": "stdout",
     "output_type": "stream",
     "text": [
      "TxId \"1e6419b586e4e3c9e73855c51dd6f6dedde5816ffe0d062f3ce11ded80a1c394\"\n"
     ]
    }
   ],
   "source": [
    "marlowe-cli util faucet --lovelace $((25 * ADA)) --out-file /dev/null --submit 600 ${BORROWER_ADDR[@]}"
   ]
  },
  {
   "cell_type": "markdown",
   "id": "b0a82037-fcc8-496a-a64b-e89bd1037d9f",
   "metadata": {},
   "source": [
    "### Mint the Djed\n",
    "\n",
    "The contract will use fake Djed for payments."
   ]
  },
  {
   "cell_type": "code",
   "execution_count": 23,
   "id": "d9f6ad4a-bf12-48a0-9a75-f994c6035349",
   "metadata": {},
   "outputs": [],
   "source": [
    "DJED_NAME=DjedUSD"
   ]
  },
  {
   "cell_type": "code",
   "execution_count": 24,
   "id": "e456909b-84d4-49b2-997d-d6f4a154ea3f",
   "metadata": {},
   "outputs": [
    {
     "name": "stdout",
     "output_type": "stream",
     "text": [
      "PolicyID \"76ea6a9aad89b09448e7af765f5a3e89c574989d67d6371a80e58baf\"\n"
     ]
    }
   ],
   "source": [
    "DJED_POLICY=$(\n",
    "marlowe-cli util mint --required-signer $ADMIN_SKEY \\\n",
    "                      --change-address $ADMIN_ADDR  \\\n",
    "                      --expires 1000000011          \\\n",
    "                      --count $TOTAL_DJED           \\\n",
    "                      --out-file /dev/null          \\\n",
    "                      --submit 600                  \\\n",
    "                      $DJED_NAME                    \\\n",
    "| sed -e 's/^PolicyID \"\\(.*\\)\"$/\\1/'                \\\n",
    ")\n",
    "echo 'PolicyID \"'$DJED_POLICY'\"'"
   ]
  },
  {
   "cell_type": "code",
   "execution_count": 25,
   "id": "f94d45db-bd70-4b55-9146-f4dd52edb4d4",
   "metadata": {},
   "outputs": [
    {
     "name": "stdout",
     "output_type": "stream",
     "text": [
      "76ea6a9aad89b09448e7af765f5a3e89c574989d67d6371a80e58baf.DjedUSD\n"
     ]
    }
   ],
   "source": [
    "DJED=$DJED_POLICY.$DJED_NAME\n",
    "echo $DJED"
   ]
  },
  {
   "cell_type": "markdown",
   "id": "cfcf5f3c-6323-463b-b82f-a5b4e9742062",
   "metadata": {},
   "source": [
    "In `cardano-cli` the token name is printed in hexadecimal, so we have . . ."
   ]
  },
  {
   "cell_type": "code",
   "execution_count": 26,
   "id": "1d6ce963-3a23-4a54-835d-15d04e471cb4",
   "metadata": {},
   "outputs": [
    {
     "name": "stdout",
     "output_type": "stream",
     "text": [
      "76ea6a9aad89b09448e7af765f5a3e89c574989d67d6371a80e58baf.446a6564555344\n"
     ]
    }
   ],
   "source": [
    "echo $DJED_POLICY.$(echo -n $DJED_NAME | basenc --base16 | tr '[:upper:]' '[:lower:]')"
   ]
  },
  {
   "cell_type": "markdown",
   "id": "223af580-241f-4ba4-8d1d-91c36e2475a0",
   "metadata": {},
   "source": [
    "### Distribute the Djed."
   ]
  },
  {
   "cell_type": "markdown",
   "id": "d66b1085-c1a2-4bf5-ba9e-abdc7b476646",
   "metadata": {},
   "source": [
    "Send Djed to lenders and borrowers."
   ]
  },
  {
   "cell_type": "code",
   "execution_count": 27,
   "id": "72025184-2042-4aab-a00e-666a011daa7d",
   "metadata": {},
   "outputs": [],
   "source": [
    "TXOUT=()\n",
    "for j in `seq 1 $N_LENDERS`\n",
    "do\n",
    "  TXOUT+=(\"--tx-out\" \"${LENDER_ADDR[$j]}+$MIN_ADA+$MAXIMUM_INVESTMENT\\ $DJED\")\n",
    "done\n",
    "for j in `seq 1 $N_BORROWERS`\n",
    "do\n",
    "  TXOUT+=(\"--tx-out\" \"${BORROWER_ADDR[$j]}+$MIN_ADA+$BORROWER_DJED\\ $DJED\")\n",
    "done"
   ]
  },
  {
   "cell_type": "code",
   "execution_count": 28,
   "id": "3ebd8b28-a3dc-4216-91b3-ea9d6a4f234a",
   "metadata": {},
   "outputs": [
    {
     "name": "stdout",
     "output_type": "stream",
     "text": [
      "TxId \"2de3b3cd9513312eed16b01897d20f3bc7609978de10253e432825a8b76b4b2c\"\n"
     ]
    }
   ],
   "source": [
    "echo marlowe-cli transaction simple --tx-in \"$(find_ada $ADMIN_ADDR)\"         \\\n",
    "                                    --tx-in \"$(find_token $ADMIN_ADDR $DJED)\" \\\n",
    "                                    ${TXOUT[@]}                               \\\n",
    "                                    --change-address $ADMIN_ADDR              \\\n",
    "                                    --required-signer $ADMIN_SKEY             \\\n",
    "                                    --out-file /dev/null                      \\\n",
    "                                    --submit 600                              \\\n",
    "| bash"
   ]
  },
  {
   "cell_type": "markdown",
   "id": "7c9a3132-4e74-4bfb-99cf-a42155700ca0",
   "metadata": {},
   "source": [
    "### Mint the Liquidity Tokens\n",
    "\n",
    "The contract will use liquidity tokens for bookkeeping."
   ]
  },
  {
   "cell_type": "code",
   "execution_count": 29,
   "id": "39f44915-215a-4685-802f-2ac7a4373c42",
   "metadata": {},
   "outputs": [],
   "source": [
    "LIQUIDITY_NAME=Liquidity"
   ]
  },
  {
   "cell_type": "code",
   "execution_count": 30,
   "id": "f67effc7-47b1-41bd-869c-261c8c4bce9b",
   "metadata": {},
   "outputs": [
    {
     "name": "stdout",
     "output_type": "stream",
     "text": [
      "PolicyID \"5f10ff15e04456ec25f1a2d64e5584087e584613411e8e9051b70fbd\"\n"
     ]
    }
   ],
   "source": [
    "LIQUIDITY_POLICY=$(\n",
    "marlowe-cli util mint --required-signer $ADMIN_SKEY \\\n",
    "                      --change-address $ADMIN_ADDR  \\\n",
    "                      --expires 1000000012          \\\n",
    "                      --count $POOL_SIZE            \\\n",
    "                      --out-file /dev/null          \\\n",
    "                      --submit 600                  \\\n",
    "                      $LIQUIDITY_NAME               \\\n",
    "| sed -e 's/^PolicyID \"\\(.*\\)\"$/\\1/'                \\\n",
    ")\n",
    "echo 'PolicyID \"'$LIQUIDITY_POLICY'\"'"
   ]
  },
  {
   "cell_type": "code",
   "execution_count": 31,
   "id": "b63cad25-58ec-46b4-a09a-d161c740d137",
   "metadata": {},
   "outputs": [
    {
     "name": "stdout",
     "output_type": "stream",
     "text": [
      "5f10ff15e04456ec25f1a2d64e5584087e584613411e8e9051b70fbd.Liquidity\n"
     ]
    }
   ],
   "source": [
    "LIQUIDITY=$LIQUIDITY_POLICY.$LIQUIDITY_NAME\n",
    "echo $LIQUIDITY"
   ]
  },
  {
   "cell_type": "markdown",
   "id": "2ea86b8b-f985-4354-b115-101339028f7c",
   "metadata": {},
   "source": [
    "In `cardano-cli` the token name is printed in hexadecimal, so we have . . ."
   ]
  },
  {
   "cell_type": "code",
   "execution_count": 32,
   "id": "46a1db71-049f-478d-8db4-f5c824e2c94e",
   "metadata": {},
   "outputs": [
    {
     "name": "stdout",
     "output_type": "stream",
     "text": [
      "5f10ff15e04456ec25f1a2d64e5584087e584613411e8e9051b70fbd.4c6971756964697479\n"
     ]
    }
   ],
   "source": [
    "echo $LIQUIDITY_POLICY.$(echo -n $LIQUIDITY_NAME | basenc --base16 | tr '[:upper:]' '[:lower:]')"
   ]
  },
  {
   "cell_type": "markdown",
   "id": "0278ea43-e8ac-4b4f-a9a5-4bd93a690f93",
   "metadata": {},
   "source": [
    "### Mint the Role Tokens"
   ]
  },
  {
   "cell_type": "markdown",
   "id": "cbf0953f-4d3f-4e7e-8521-0a3dd646302e",
   "metadata": {},
   "source": [
    "There is one role token for the administrator."
   ]
  },
  {
   "cell_type": "code",
   "execution_count": 33,
   "id": "890c5891-12f7-4d33-a4d8-b2b2934bd629",
   "metadata": {},
   "outputs": [],
   "source": [
    "ADMIN_ROLE=A"
   ]
  },
  {
   "cell_type": "markdown",
   "id": "691873e5-113a-4e26-892f-494ade59ff39",
   "metadata": {},
   "source": [
    "Lender and borrower tokens will be distribute on a just-in-time basis for making deposits and (separately) for making withdrawals. Note that ordering of these is arbitrary and does not necessarily correspond to the lender and borrower addresses."
   ]
  },
  {
   "cell_type": "code",
   "execution_count": 34,
   "id": "9e4542a2-b10b-4f17-9a59-ce0c97787a9c",
   "metadata": {},
   "outputs": [],
   "source": [
    "for j in `seq 1 $N_LENDERS`\n",
    "do\n",
    "  LENDER_DEPOSIT_ROLE[$j]=LD$j\n",
    "  LENDER_PAYMENT_ROLE[$j]=LP$j\n",
    "done"
   ]
  },
  {
   "cell_type": "code",
   "execution_count": 35,
   "id": "261ea405-41c2-4b21-b5ec-40d1ed919270",
   "metadata": {},
   "outputs": [],
   "source": [
    "for j in `seq 1 $N_BORROWERS`\n",
    "do\n",
    "  BORROWER_DEPOSIT_ROLE[$j]=BD$j\n",
    "  BORROWER_PAYMENT_ROLE[$j]=BP$j\n",
    "done"
   ]
  },
  {
   "cell_type": "markdown",
   "id": "f240afe7-8499-45b9-9c56-1189a6ed7a0a",
   "metadata": {},
   "source": [
    "Mint the role tokens."
   ]
  },
  {
   "cell_type": "code",
   "execution_count": 36,
   "id": "91137ddf-7190-493f-86d6-69236a122576",
   "metadata": {},
   "outputs": [
    {
     "name": "stdout",
     "output_type": "stream",
     "text": [
      "PolicyID \"9cb30bdd840cc8b31806c20eae6ed14614d32f10379547d605064e78\"\n"
     ]
    }
   ],
   "source": [
    "ROLES_POLICY=$(\n",
    "marlowe-cli util mint --required-signer $ADMIN_SKEY \\\n",
    "                      --change-address $ADMIN_ADDR  \\\n",
    "                      --expires 1000000013          \\\n",
    "                      --out-file /dev/null          \\\n",
    "                      --submit 600                  \\\n",
    "                      $ADMIN_ROLE                   \\\n",
    "                      ${LENDER_DEPOSIT_ROLE[@]}     \\\n",
    "                      ${LENDER_PAYMENT_ROLE[@]}     \\\n",
    "                      ${BORROWER_DEPOSIT_ROLE[@]}   \\\n",
    "                      ${BORROWER_PAYMENT_ROLE[@]}   \\\n",
    "| sed -e 's/^PolicyID \"\\(.*\\)\"$/\\1/'                \\\n",
    ")\n",
    "echo 'PolicyID \"'$ROLES_POLICY'\"'"
   ]
  },
  {
   "cell_type": "markdown",
   "id": "3e1ae54c-5013-4d8e-954b-6360fb9fce84",
   "metadata": {},
   "source": [
    "View the role tokens."
   ]
  },
  {
   "cell_type": "code",
   "execution_count": 37,
   "id": "d15490ec-d8fc-483c-b0a8-2063021decdd",
   "metadata": {},
   "outputs": [
    {
     "name": "stdout",
     "output_type": "stream",
     "text": [
      "                           TxHash                                 TxIx        Amount\n",
      "--------------------------------------------------------------------------------------\n",
      "c36871383d1f8045eaf35adecc87c60976e164f2835b343d212255e8151464e8     0        1852833722 lovelace + TxOutDatumNone\n",
      "c36871383d1f8045eaf35adecc87c60976e164f2835b343d212255e8151464e8     1        10000000 lovelace + 15000000 5f10ff15e04456ec25f1a2d64e5584087e584613411e8e9051b70fbd.4c6971756964697479 + TxOutDatumNone\n",
      "c36871383d1f8045eaf35adecc87c60976e164f2835b343d212255e8151464e8     2        10000000 lovelace + 1 9cb30bdd840cc8b31806c20eae6ed14614d32f10379547d605064e78.41 + TxOutDatumNone\n",
      "c36871383d1f8045eaf35adecc87c60976e164f2835b343d212255e8151464e8     3        10000000 lovelace + 1 9cb30bdd840cc8b31806c20eae6ed14614d32f10379547d605064e78.424431 + TxOutDatumNone\n",
      "c36871383d1f8045eaf35adecc87c60976e164f2835b343d212255e8151464e8     4        10000000 lovelace + 1 9cb30bdd840cc8b31806c20eae6ed14614d32f10379547d605064e78.424432 + TxOutDatumNone\n",
      "c36871383d1f8045eaf35adecc87c60976e164f2835b343d212255e8151464e8     5        10000000 lovelace + 1 9cb30bdd840cc8b31806c20eae6ed14614d32f10379547d605064e78.424433 + TxOutDatumNone\n",
      "c36871383d1f8045eaf35adecc87c60976e164f2835b343d212255e8151464e8     6        10000000 lovelace + 1 9cb30bdd840cc8b31806c20eae6ed14614d32f10379547d605064e78.424434 + TxOutDatumNone\n",
      "c36871383d1f8045eaf35adecc87c60976e164f2835b343d212255e8151464e8     7        10000000 lovelace + 1 9cb30bdd840cc8b31806c20eae6ed14614d32f10379547d605064e78.424435 + TxOutDatumNone\n",
      "c36871383d1f8045eaf35adecc87c60976e164f2835b343d212255e8151464e8     8        10000000 lovelace + 1 9cb30bdd840cc8b31806c20eae6ed14614d32f10379547d605064e78.425031 + TxOutDatumNone\n",
      "c36871383d1f8045eaf35adecc87c60976e164f2835b343d212255e8151464e8     9        10000000 lovelace + 1 9cb30bdd840cc8b31806c20eae6ed14614d32f10379547d605064e78.425032 + TxOutDatumNone\n",
      "c36871383d1f8045eaf35adecc87c60976e164f2835b343d212255e8151464e8    10        10000000 lovelace + 1 9cb30bdd840cc8b31806c20eae6ed14614d32f10379547d605064e78.425033 + TxOutDatumNone\n",
      "c36871383d1f8045eaf35adecc87c60976e164f2835b343d212255e8151464e8    11        10000000 lovelace + 1 9cb30bdd840cc8b31806c20eae6ed14614d32f10379547d605064e78.425034 + TxOutDatumNone\n",
      "c36871383d1f8045eaf35adecc87c60976e164f2835b343d212255e8151464e8    12        10000000 lovelace + 1 9cb30bdd840cc8b31806c20eae6ed14614d32f10379547d605064e78.425035 + TxOutDatumNone\n",
      "c36871383d1f8045eaf35adecc87c60976e164f2835b343d212255e8151464e8    13        10000000 lovelace + 1 9cb30bdd840cc8b31806c20eae6ed14614d32f10379547d605064e78.4c4431 + TxOutDatumNone\n",
      "c36871383d1f8045eaf35adecc87c60976e164f2835b343d212255e8151464e8    14        10000000 lovelace + 1 9cb30bdd840cc8b31806c20eae6ed14614d32f10379547d605064e78.4c4432 + TxOutDatumNone\n",
      "c36871383d1f8045eaf35adecc87c60976e164f2835b343d212255e8151464e8    15        10000000 lovelace + 1 9cb30bdd840cc8b31806c20eae6ed14614d32f10379547d605064e78.4c4433 + TxOutDatumNone\n",
      "c36871383d1f8045eaf35adecc87c60976e164f2835b343d212255e8151464e8    16        10000000 lovelace + 1 9cb30bdd840cc8b31806c20eae6ed14614d32f10379547d605064e78.4c5031 + TxOutDatumNone\n",
      "c36871383d1f8045eaf35adecc87c60976e164f2835b343d212255e8151464e8    17        10000000 lovelace + 1 9cb30bdd840cc8b31806c20eae6ed14614d32f10379547d605064e78.4c5032 + TxOutDatumNone\n",
      "c36871383d1f8045eaf35adecc87c60976e164f2835b343d212255e8151464e8    18        10000000 lovelace + 1 9cb30bdd840cc8b31806c20eae6ed14614d32f10379547d605064e78.4c5033 + TxOutDatumNone\n"
     ]
    }
   ],
   "source": [
    "cardano-cli query utxo --testnet-magic $CARDANO_TESTNET_MAGIC --address $ADMIN_ADDR"
   ]
  },
  {
   "cell_type": "markdown",
   "id": "519e08a7-1372-477c-b7ba-1ab013673ca1",
   "metadata": {},
   "source": [
    "## Generate the Contract"
   ]
  },
  {
   "cell_type": "markdown",
   "id": "16e9346d-b183-4e58-92a0-fd63dff0d9fb",
   "metadata": {},
   "source": [
    "Run a Haskell program that generates the contract."
   ]
  },
  {
   "cell_type": "code",
   "execution_count": 38,
   "id": "5e86a115-5b6a-4e65-9a36-63b781eb4685",
   "metadata": {},
   "outputs": [],
   "source": [
    "runhaskell << EOI\n",
    "\n",
    "{-# LANGUAGE OverloadedStrings  #-}\n",
    "\n",
    "\n",
    "module CollectiveLoan where\n",
    "\n",
    "\n",
    "import Control.Monad.Writer (Writer, runWriter, tell)\n",
    "import Data.Aeson ((.=), encodeFile,object)\n",
    "import Data.Foldable (foldrM)\n",
    "import Data.String (fromString)\n",
    "import Language.Marlowe.CLI.Merkle (deepMerkleize)\n",
    "import Language.Marlowe.CLI.Types (Continuations)\n",
    "import Language.Marlowe.Core.V1.Semantics.Types\n",
    "import Plutus.V1.Ledger.Api (POSIXTime(..))\n",
    "\n",
    "\n",
    "main :: IO ()\n",
    "main =\n",
    "  let\n",
    "    (contract, continuations) =\n",
    "      runWriter\n",
    "        $ makeContract\n",
    "          $POOL_SIZE $SETUP_DEADLINE\n",
    "          $N_LENDERS   $MINIMUM_INVESTMENT $MAXIMUM_INVESTMENT $INVESTMENT_DEADLINE     $INVESTMENT_REPAYMENT_DEADLINE\n",
    "          $N_BORROWERS $MINIMUM_LOAN       $MAXIMUM_LOAN       $LOAN_REPAYMENT_DEADLINE $LOAN_DEADLINE\n",
    "  in\n",
    "    encodeFile \"collective-loan.merkleization\"\n",
    "      $ object\n",
    "        [\n",
    "          \"contract\"      .= contract\n",
    "        , \"continuations\" .= continuations\n",
    "        ]\n",
    "\n",
    "\n",
    "djed :: Token\n",
    "djed = Token \"$DJED_POLICY\" \"$DJED_NAME\"\n",
    "\n",
    "liquidity :: Token\n",
    "liquidity = Token \"$LIQUIDITY_POLICY\" \"$LIQUIDITY_NAME\"\n",
    "\n",
    "equity :: ValueId\n",
    "equity = \"Equity\"\n",
    "\n",
    "liability :: ValueId\n",
    "liability = \"Liability\"\n",
    "\n",
    "administrator :: Party\n",
    "administrator = Role \"$ADMIN_ROLE\"\n",
    "\n",
    "\n",
    "merkleizeTimeout :: Contract -> Writer Continuations Contract\n",
    "merkleizeTimeout continuation =\n",
    "  deepMerkleize\n",
    "    $ When\n",
    "      [\n",
    "        Case (Notify TrueObs )\n",
    "        continuation\n",
    "      ]\n",
    "      (POSIXTime $ULTIMATE_DEADLINE)\n",
    "      Close\n",
    "\n",
    "\n",
    "makeContract :: Integer -> Timeout\n",
    "             -> Int -> Integer -> Integer -> Timeout -> Timeout\n",
    "             -> Int -> Integer -> Integer -> Timeout -> Timeout\n",
    "             -> Writer Continuations Contract\n",
    "makeContract poolSize setupDeadline\n",
    "         nLenders minimumInvestment maximumInvestment lenderDepositDeadline lenderWithdrawalDeadline\n",
    "         nBorrowers   minimumLoan       maximumLoan       borrowerDepositDeadline   borrowerWithdrawalDeadline =\n",
    "  let\n",
    "    lenders = [1..nLenders]\n",
    "    borrowers = [1..nBorrowers]\n",
    "    z c = flip (foldrM (lenderWithdraws maximumInvestment lenderWithdrawalDeadline)) lenders c\n",
    "  in\n",
    "    setup poolSize setupDeadline\n",
    "      =<< flip (foldrM $ lenderDeposits minimumInvestment maximumInvestment lenderDepositDeadline) lenders\n",
    "      =<< pure . computeLiability\n",
    "      =<< flip (foldrM $ borrowerWithdraws minimumLoan maximumLoan borrowerWithdrawalDeadline) borrowers\n",
    "      =<< flip (foldrM $ borrowerDeposits maximumLoan borrowerDepositDeadline) borrowers\n",
    "      =<< pure . computeEquity\n",
    "      =<< flip (foldrM $ lenderWithdraws maximumInvestment lenderWithdrawalDeadline) lenders\n",
    "      =<< merkleizeTimeout Close\n",
    "\n",
    "\n",
    "setup :: Integer -> Timeout -> Contract -> Writer Continuations Contract\n",
    "setup poolSize deadline continuation =\n",
    "  deepMerkleize\n",
    "    $ When\n",
    "      [\n",
    "        Case (Deposit administrator administrator liquidity $ Constant poolSize)\n",
    "          continuation\n",
    "      ]\n",
    "      deadline\n",
    "      Close\n",
    "\n",
    "\n",
    "computeLiability :: Contract -> Contract\n",
    "computeLiability =\n",
    "  Let \"Liability\"\n",
    "    $ AvailableMoney administrator djed\n",
    "\n",
    "\n",
    "computeEquity :: Contract -> Contract\n",
    "computeEquity =\n",
    "  Let \"Equity\"\n",
    "    $ AvailableMoney administrator djed\n",
    "\n",
    "\n",
    "borrowerDeposits :: Integer -> Timeout -> Int -> Contract -> Writer Continuations Contract\n",
    "borrowerDeposits maximumLoan deadline i continuation =\n",
    "  let\n",
    "    name = \"Borrower Deposit\"\n",
    "    choice = ChoiceId (fromString name) administrator\n",
    "    amount = ChoiceValue choice\n",
    "    borrower = Role . fromString $ \"BD\" <> show i\n",
    "  in\n",
    "    deepMerkleize\n",
    "      . When\n",
    "        [\n",
    "          Case (Choice choice [Bound 1 $ 2 * maximumLoan])\n",
    "            $ When\n",
    "               [\n",
    "                 Case (Deposit administrator borrower djed amount)\n",
    "                   continuation\n",
    "               ]\n",
    "               deadline\n",
    "               continuation\n",
    "        ]\n",
    "        deadline\n",
    "        =<< merkleizeTimeout continuation\n",
    "\n",
    "\n",
    "borrowerWithdraws :: Integer -> Integer -> Timeout -> Int -> Contract -> Writer Continuations Contract\n",
    "borrowerWithdraws minimumLoan maximumLoan deadline i continuation =\n",
    "  let\n",
    "    name = \"Borrower Withdrawal\"\n",
    "    choice = ChoiceId (fromString name) administrator\n",
    "    amount = ChoiceValue choice\n",
    "    borrower = Role . fromString $ \"BP\" <> show i\n",
    "  in\n",
    "    deepMerkleize\n",
    "      . When\n",
    "        [\n",
    "          Case (Choice choice [Bound minimumLoan maximumLoan])\n",
    "            $ Pay administrator (Party borrower) djed amount\n",
    "              continuation\n",
    "        ]\n",
    "        deadline\n",
    "        =<< merkleizeTimeout continuation\n",
    "\n",
    "\n",
    "lenderDeposits :: Integer -> Integer -> Timeout -> Int -> Contract -> Writer Continuations Contract\n",
    "lenderDeposits minimumInvestment maximumInvestment deadline i continuation =\n",
    "  let\n",
    "    name = \"Lender Deposit\"\n",
    "    choice = ChoiceId (fromString name) administrator\n",
    "    amount = ChoiceValue choice\n",
    "    lender = Role . fromString $ \"LD\" <> show i\n",
    "  in\n",
    "    deepMerkleize\n",
    "      . When\n",
    "      [\n",
    "        Case (Choice choice [Bound minimumInvestment maximumInvestment])\n",
    "          $ When\n",
    "              [\n",
    "                Case (Deposit administrator lender djed amount)\n",
    "                  $ Pay administrator (Party lender) liquidity amount\n",
    "                    continuation\n",
    "              ]\n",
    "              deadline\n",
    "              continuation\n",
    "      ]\n",
    "      deadline\n",
    "      =<< merkleizeTimeout continuation\n",
    "\n",
    "\n",
    "lenderWithdraws :: Integer -> Timeout -> Int -> Contract -> Writer Continuations Contract\n",
    "lenderWithdraws maximumInvestment deadline i continuation =\n",
    "  let\n",
    "    name = \"Lender Withdrawal\"\n",
    "    choice = ChoiceId (fromString name) administrator\n",
    "    amount = ChoiceValue choice\n",
    "    lender = Role . fromString $ \"LP\" <> show i\n",
    "  in\n",
    "    deepMerkleize\n",
    "      . When\n",
    "        [\n",
    "          Case (Choice choice [Bound 1 $ 2 * maximumInvestment])\n",
    "            $ When\n",
    "                [\n",
    "                  Case (Deposit administrator lender liquidity amount)\n",
    "                    $ Pay administrator (Party lender) djed\n",
    "                      (\n",
    "                        DivValue\n",
    "                          (MulValue amount $ UseValue equity)\n",
    "                          (UseValue liability)\n",
    "                      )\n",
    "                      continuation\n",
    "                ]\n",
    "                deadline\n",
    "                continuation\n",
    "        ]\n",
    "        deadline\n",
    "        =<< merkleizeTimeout continuation\n",
    "    \n",
    "EOI"
   ]
  },
  {
   "cell_type": "markdown",
   "id": "2e52f3bc-82aa-42d3-a629-22f766cd8704",
   "metadata": {},
   "source": [
    "How large is the contract?"
   ]
  },
  {
   "cell_type": "code",
   "execution_count": 39,
   "id": "fc5da0ab-aa40-427d-8a44-15c75c2f1018",
   "metadata": {},
   "outputs": [
    {
     "name": "stdout",
     "output_type": "stream",
     "text": [
      "-rw-rw-r-- 1 bbush bbush-upg 29K Aug  4 10:26 collective-loan.merkleization\n"
     ]
    }
   ],
   "source": [
    "ls -lh collective-loan.merkleization"
   ]
  },
  {
   "cell_type": "markdown",
   "id": "6eabc2ee-f495-4154-b1ad-3e54727f3e4a",
   "metadata": {},
   "source": [
    "How many `Case` statements does it contain?"
   ]
  },
  {
   "cell_type": "code",
   "execution_count": 40,
   "id": "4ec374b8-7034-4f1b-b124-69fd4b90e424",
   "metadata": {},
   "outputs": [
    {
     "name": "stdout",
     "output_type": "stream",
     "text": [
      "87\n"
     ]
    }
   ],
   "source": [
    "sed -e 's/case/&\\n/g' collective-loan.merkleization | grep case | wc -l"
   ]
  },
  {
   "cell_type": "markdown",
   "id": "8957004e-4150-491b-b492-0e864b80348d",
   "metadata": {},
   "source": [
    "How many merkleizations does it contain?"
   ]
  },
  {
   "cell_type": "code",
   "execution_count": 41,
   "id": "0b9e1c98-18d9-4e58-9464-3a50becea8e5",
   "metadata": {},
   "outputs": [
    {
     "name": "stdout",
     "output_type": "stream",
     "text": [
      "\u001b[0;39m39\u001b[0m\n"
     ]
    }
   ],
   "source": [
    "jq '.continuations | length' collective-loan.merkleization"
   ]
  },
  {
   "cell_type": "markdown",
   "id": "7594380b-a882-4e56-8bd8-14694c5547f2",
   "metadata": {},
   "source": [
    "Separate the contract from the merkleizations."
   ]
  },
  {
   "cell_type": "code",
   "execution_count": 42,
   "id": "31cb1db2-d591-44af-b829-783aed7aacc0",
   "metadata": {},
   "outputs": [],
   "source": [
    "jq .contract collective-loan.merkleization > collective-loan-1.contract"
   ]
  },
  {
   "cell_type": "markdown",
   "id": "456707bf-adfb-4171-b042-1b0756dd4063",
   "metadata": {},
   "source": [
    "## Set the initial state\n",
    "\n",
    "The Seller will deposit 2 Ada when the contract is created."
   ]
  },
  {
   "cell_type": "code",
   "execution_count": 43,
   "id": "4b95ea64-87d8-4678-b438-0559b0a1c704",
   "metadata": {},
   "outputs": [],
   "source": [
    "yaml2json << EOI > collective-loan-1.state\n",
    "accounts:\n",
    "- - - role_token: $ADMIN_ROLE\n",
    "    - currency_symbol: ''\n",
    "      token_name: ''\n",
    "  - $MIN_ADA\n",
    "boundValues: []\n",
    "choices: []\n",
    "minTime: $NOW\n",
    "EOI"
   ]
  },
  {
   "cell_type": "code",
   "execution_count": 44,
   "id": "03787fe2-9b14-4d92-a014-be6e6095eb7e",
   "metadata": {},
   "outputs": [
    {
     "name": "stdout",
     "output_type": "stream",
     "text": [
      "{\"accounts\":[[[{\"role_token\":\"A\"},{\"currency_symbol\":\"\",\"token_name\":\"\"}],2000000]],\"boundValues\":[],\"choices\":[],\"minTime\":1659630034000}\n"
     ]
    }
   ],
   "source": [
    "cat collective-loan-1.state"
   ]
  },
  {
   "cell_type": "markdown",
   "id": "b5400d8d-4c2d-4a7a-99e3-bdc87629f91f",
   "metadata": {
    "tags": []
   },
   "source": [
    "## Simulate and Execute the Contract"
   ]
  },
  {
   "cell_type": "markdown",
   "id": "1791ce5f-f3ca-4eba-90ae-489a97fcec44",
   "metadata": {},
   "source": [
    "### 1. Initialize the contract information\n",
    "\n",
    "Create a `.marlowe` file that contains all of the information needed to start the contract. Note that we merkleization the contract because of its large size."
   ]
  },
  {
   "cell_type": "code",
   "execution_count": 45,
   "id": "631e5627-4497-4837-9a25-519190c4f2aa",
   "metadata": {},
   "outputs": [
    {
     "name": "stdout",
     "output_type": "stream",
     "text": [
      "\n",
      "Validator size: 12611\n",
      "Base-validator cost: ExBudget {exBudgetCPU = ExCPU 24562825, exBudgetMemory = ExMemory 82600}\n"
     ]
    }
   ],
   "source": [
    "marlowe-cli run initialize --roles-currency $ROLES_POLICY             \\\n",
    "                           --contract-file collective-loan-1.contract \\\n",
    "                           --state-file    collective-loan-1.state    \\\n",
    "                           --out-file      collective-loan-1.partial  \\\n",
    "                           --print-stats"
   ]
  },
  {
   "cell_type": "markdown",
   "id": "f0a90905-521e-4204-9bf9-3f46d0063b22",
   "metadata": {},
   "source": [
    "Manually merge the continuations into the `.marlowe` file."
   ]
  },
  {
   "cell_type": "code",
   "execution_count": 46,
   "id": "af3f5275-3af1-4d7f-b634-2b7d045d55ee",
   "metadata": {},
   "outputs": [],
   "source": [
    "jq -s '.[0] * .[1]' collective-loan-1.partial collective-loan.merkleization > collective-loan-1.marlowe"
   ]
  },
  {
   "cell_type": "markdown",
   "id": "59068808-24ef-468b-b1a7-17535fdc118c",
   "metadata": {},
   "source": [
    "The minimum Ada deposit has been recorded."
   ]
  },
  {
   "cell_type": "code",
   "execution_count": 47,
   "id": "83d26d84-5c4d-4314-b4f1-6feb8dadff60",
   "metadata": {},
   "outputs": [
    {
     "name": "stdout",
     "output_type": "stream",
     "text": [
      "accounts:\n",
      "- - - role_token: A\n",
      "    - currency_symbol: ''\n",
      "      token_name: ''\n",
      "  - 2000000\n",
      "boundValues: []\n",
      "choices: []\n",
      "minTime: 1659630034000\n"
     ]
    }
   ],
   "source": [
    "jq .state collective-loan-1.marlowe | json2yaml"
   ]
  },
  {
   "cell_type": "markdown",
   "id": "16d7145e-a6ff-40f4-bd1b-00c38122d3f3",
   "metadata": {},
   "source": [
    "Submit the transaction."
   ]
  },
  {
   "cell_type": "code",
   "execution_count": 48,
   "id": "180c6f41-fffe-421e-82a9-e0e4bd7ab431",
   "metadata": {},
   "outputs": [
    {
     "name": "stdout",
     "output_type": "stream",
     "text": [
      "TxId \"8fee1ccb0a2053b61461fdcbee1aaebd2cc53f19684894521cc2eb79298ad720\"\n"
     ]
    }
   ],
   "source": [
    "TX_1=$(\n",
    "marlowe-cli run execute --tx-in \"$(find_ada $ADMIN_ADDR)\"            \\\n",
    "                        --marlowe-out-file collective-loan-1.marlowe \\\n",
    "                        --change-address $ADMIN_ADDR                 \\\n",
    "                        --required-signer $ADMIN_SKEY                \\\n",
    "                        --out-file /dev/null                         \\\n",
    "                        --submit 600                                 \\\n",
    "| sed -e 's/^TxId \"\\(.*\\)\"$/\\1/'                                     \\\n",
    ")\n",
    "echo 'TxId \"'$TX_1'\"'"
   ]
  },
  {
   "cell_type": "markdown",
   "id": "28931e5e-f986-43d2-a183-beb34ccae122",
   "metadata": {},
   "source": [
    "View the UTxO at the script address."
   ]
  },
  {
   "cell_type": "code",
   "execution_count": 49,
   "id": "0c07d6d9-659e-458d-a5b5-49520161c3e9",
   "metadata": {},
   "outputs": [
    {
     "name": "stdout",
     "output_type": "stream",
     "text": [
      "addr_test1wphttveup3kdrp7ch4e4xjr8jxstwwx20fg8s4epqayylfqga9h6p\n"
     ]
    }
   ],
   "source": [
    "SCRIPT_ADDR=$(jq -r .marloweValidator.address collective-loan-1.marlowe)\n",
    "echo $SCRIPT_ADDR"
   ]
  },
  {
   "cell_type": "code",
   "execution_count": 50,
   "id": "dba7e935-ddbb-4b3b-b40f-24fc4ed4ff55",
   "metadata": {},
   "outputs": [
    {
     "name": "stdout",
     "output_type": "stream",
     "text": [
      "                           TxHash                                 TxIx        Amount\n",
      "--------------------------------------------------------------------------------------\n",
      "8fee1ccb0a2053b61461fdcbee1aaebd2cc53f19684894521cc2eb79298ad720     1        2000000 lovelace + TxOutDatumHash ScriptDataInAlonzoEra \"1e80317bbd90e4b9dd4d84b25fc45c44de2f6440aff3c440c863dd36dae98886\"\n"
     ]
    }
   ],
   "source": [
    "cardano-cli query utxo --testnet-magic $CARDANO_TESTNET_MAGIC --address $SCRIPT_ADDR"
   ]
  },
  {
   "cell_type": "markdown",
   "id": "df6792a5-6d95-4011-a138-0a5dc25c0dbe",
   "metadata": {
    "tags": []
   },
   "source": [
    "### 2. The administrator deposits the liquidity tokens"
   ]
  },
  {
   "cell_type": "markdown",
   "id": "1049c060-a560-4981-b88f-29a21dc0cf11",
   "metadata": {},
   "source": [
    "Prepare the transaction."
   ]
  },
  {
   "cell_type": "code",
   "execution_count": 51,
   "id": "7912039a-af9e-4db3-b9df-a9867d8f9eb0",
   "metadata": {},
   "outputs": [
    {
     "name": "stdout",
     "output_type": "stream",
     "text": [
      "\n",
      "Datum size: 262\n"
     ]
    }
   ],
   "source": [
    "marlowe-cli run prepare --deposit-account Role=$ADMIN_ROLE                   \\\n",
    "                        --deposit-party Role=$ADMIN_ROLE                     \\\n",
    "                        --deposit-token $LIQUIDITY                           \\\n",
    "                        --deposit-amount $POOL_SIZE                          \\\n",
    "                        --invalid-before $NOW                                \\\n",
    "                        --invalid-hereafter $((SETUP_DEADLINE - 1 * MINUTE)) \\\n",
    "                        --marlowe-file collective-loan-1.marlowe             \\\n",
    "                        --out-file     collective-loan-2.marlowe             \\\n",
    "                        --print-stats"
   ]
  },
  {
   "cell_type": "markdown",
   "id": "9e7c4882-326c-44bf-965b-f4d7f82fd857",
   "metadata": {},
   "source": [
    "Now the contract contains both the initial Ada and the liquidity tokens."
   ]
  },
  {
   "cell_type": "code",
   "execution_count": 52,
   "id": "8d7a230d-6822-41ed-b9b0-aa83f02b6fb9",
   "metadata": {},
   "outputs": [
    {
     "name": "stdout",
     "output_type": "stream",
     "text": [
      "accounts:\n",
      "- - - role_token: A\n",
      "    - currency_symbol: ''\n",
      "      token_name: ''\n",
      "  - 2000000\n",
      "- - - role_token: A\n",
      "    - currency_symbol: 5f10ff15e04456ec25f1a2d64e5584087e584613411e8e9051b70fbd\n",
      "      token_name: Liquidity\n",
      "  - 15000000\n",
      "boundValues: []\n",
      "choices: []\n",
      "minTime: 1659630034000\n"
     ]
    }
   ],
   "source": [
    "jq .state collective-loan-2.marlowe | json2yaml"
   ]
  },
  {
   "cell_type": "markdown",
   "id": "ee3dac07-a18c-4d27-b14d-ce9118e5552a",
   "metadata": {},
   "source": [
    "Submit the transaction."
   ]
  },
  {
   "cell_type": "code",
   "execution_count": 53,
   "id": "9d9dfc35-6388-4a73-afee-c73f1712fad4",
   "metadata": {},
   "outputs": [
    {
     "name": "stdout",
     "output_type": "stream",
     "text": [
      "TxId \"2ef8a06cda8f245facbde2b4cf2f3e66350e1d59d089c0287439a934c87c1479\"\n"
     ]
    }
   ],
   "source": [
    "TX_2=$(\n",
    "marlowe-cli run execute --marlowe-in-file collective-loan-1.marlowe           \\\n",
    "                        --tx-in-marlowe \"$TX_1#1\"                             \\\n",
    "                        --tx-in-collateral \"$TX_1#0\"                          \\\n",
    "                        --tx-in \"$TX_1#0\"                                     \\\n",
    "                        --tx-in \"$(find_token $ADMIN_ADDR $LIQUIDITY)\"        \\\n",
    "                        --tx-in \"$(find_role_token $ADMIN_ADDR $ADMIN_ROLE)\"  \\\n",
    "                        --tx-out \"$(make_role_txout $ADMIN_ADDR $ADMIN_ROLE)\" \\\n",
    "                        --marlowe-out-file collective-loan-2.marlowe          \\\n",
    "                        --change-address $ADMIN_ADDR                          \\\n",
    "                        --required-signer $ADMIN_SKEY                         \\\n",
    "                        --out-file /dev/null                                  \\\n",
    "                        --submit 600                                          \\\n",
    "| sed -e 's/^TxId \"\\(.*\\)\"$/\\1/'                                              \\\n",
    ")\n",
    "echo 'TxId \"'$TX_2'\"'"
   ]
  },
  {
   "cell_type": "markdown",
   "id": "fec03544-c1a9-4905-a567-c32e475c466c",
   "metadata": {},
   "source": [
    "View the UTxO at the script address."
   ]
  },
  {
   "cell_type": "code",
   "execution_count": 54,
   "id": "cfa102bb-63c5-456b-9625-f8ed6b209646",
   "metadata": {},
   "outputs": [
    {
     "name": "stdout",
     "output_type": "stream",
     "text": [
      "                           TxHash                                 TxIx        Amount\n",
      "--------------------------------------------------------------------------------------\n",
      "2ef8a06cda8f245facbde2b4cf2f3e66350e1d59d089c0287439a934c87c1479     1        2000000 lovelace + 15000000 5f10ff15e04456ec25f1a2d64e5584087e584613411e8e9051b70fbd.4c6971756964697479 + TxOutDatumHash ScriptDataInAlonzoEra \"aec7b3f4e35ad96d2f148ce073b215d1c974d667430e39590aa74cec455af2a8\"\n"
     ]
    }
   ],
   "source": [
    "cardano-cli query utxo --testnet-magic $CARDANO_TESTNET_MAGIC --address $SCRIPT_ADDR"
   ]
  },
  {
   "cell_type": "markdown",
   "id": "6fa51a29-b09a-4ca9-9918-1283e207ab2d",
   "metadata": {},
   "source": [
    "### 3. The lenders deposit their investment funds"
   ]
  },
  {
   "cell_type": "markdown",
   "id": "2460047c-7465-48b5-b65c-0929709715fa",
   "metadata": {},
   "source": [
    "Lenders deposit in random order."
   ]
  },
  {
   "cell_type": "code",
   "execution_count": 55,
   "id": "b76abeaf-be86-413f-8dcb-c9553844285f",
   "metadata": {},
   "outputs": [
    {
     "name": "stdout",
     "output_type": "stream",
     "text": [
      "1 3 2\n"
     ]
    }
   ],
   "source": [
    "INVESTMENT_ORDER=(`seq 1 $N_LENDERS | sort -R`)\n",
    "echo ${INVESTMENT_ORDER[@]}"
   ]
  },
  {
   "cell_type": "markdown",
   "id": "5c8e92bc-c148-4d72-b853-d0d1edf73970",
   "metadata": {},
   "source": [
    "Lenders deposit random amounts."
   ]
  },
  {
   "cell_type": "code",
   "execution_count": 56,
   "id": "88910a0b-41b3-45f8-bd3a-25d8c47d8011",
   "metadata": {},
   "outputs": [
    {
     "name": "stdout",
     "output_type": "stream",
     "text": [
      "671391 2056260 2940824\n"
     ]
    }
   ],
   "source": [
    "for j in `seq 1 $N_LENDERS`\n",
    "do\n",
    "  INVESTMENT_AMOUNT[$j]=$(((MAXIMUM_INVESTMENT - MINIMUM_INVESTMENT) * RANDOM / 32767 + MINIMUM_INVESTMENT))\n",
    "done\n",
    "echo ${INVESTMENT_AMOUNT[@]}"
   ]
  },
  {
   "cell_type": "markdown",
   "id": "81e57412-4066-4732-89a5-5294a52ce237",
   "metadata": {},
   "source": [
    "Make the deposits."
   ]
  },
  {
   "cell_type": "code",
   "execution_count": 57,
   "id": "6a7a44dc-0ea0-4c15-92ea-6593f2836e2a",
   "metadata": {},
   "outputs": [
    {
     "name": "stdout",
     "output_type": "stream",
     "text": [
      "\n",
      "--- Lender deposit #1 ---\n",
      "Lender 1 requests to deposit 671391 Djed.\n",
      "Administrator approves deposit and sends role token to lender.\n",
      "TxId \"f65343bec00be343395916d078e68e33be6de8990a7f271cf9b0cf381fa88532\"\n",
      "Lender deposits Djed and receives liquidity tokens using their newly-received role token.\n",
      "Payment 1\n",
      "  Acccount: \"A\"\n",
      "  Payee: Party \"LD1\"\n",
      "  Ada: 0.000000\n",
      "  5f10ff15e04456ec25f1a2d64e5584087e584613411e8e9051b70fbd.\"Liquidity\": 671391\n",
      "TxId \"74a140c663933c63dd249b547f46690d52ee00798ff1c40466e9818d900997eb\"\n",
      "\n",
      "--- Lender deposit #2 ---\n",
      "Lender 3 requests to deposit 2940824 Djed.\n",
      "Administrator approves deposit and sends role token to lender.\n",
      "TxId \"b073b18a30409cb85980f1f43c1d327bd4807e91a4f0b0b31f2ba3b25aeb3609\"\n",
      "Lender deposits Djed and receives liquidity tokens using their newly-received role token.\n",
      "Payment 1\n",
      "  Acccount: \"A\"\n",
      "  Payee: Party \"LD2\"\n",
      "  Ada: 0.000000\n",
      "  5f10ff15e04456ec25f1a2d64e5584087e584613411e8e9051b70fbd.\"Liquidity\": 2940824\n",
      "TxId \"6fdb27bf00390045c20252dec592c876ca591e55c4ed0ff1fabd842f2580c688\"\n",
      "\n",
      "--- Lender deposit #3 ---\n",
      "Lender 2 requests to deposit 2056260 Djed.\n",
      "Administrator approves deposit and sends role token to lender.\n",
      "TxId \"0b15e94f236e7a292f0a2edf69502871b475bd3f40053302de7a5922035f1b8a\"\n",
      "Lender deposits Djed and receives liquidity tokens using their newly-received role token.\n",
      "Payment 1\n",
      "  Acccount: \"A\"\n",
      "  Payee: Party \"LD3\"\n",
      "  Ada: 0.000000\n",
      "  5f10ff15e04456ec25f1a2d64e5584087e584613411e8e9051b70fbd.\"Liquidity\": 2056260\n",
      "TxId \"5251fd1d58153bc177f3956a0ac482353aef39a47c68dc533d7dac01e2064646\"\n"
     ]
    }
   ],
   "source": [
    "TX_OLD=$TX_2\n",
    "k=2\n",
    "for i in `seq 1 $N_LENDERS`\n",
    "do\n",
    "  k1=$((k+1))\n",
    "  k2=$((k+2))\n",
    "  j=${INVESTMENT_ORDER[$((i-1))]}\n",
    "  echo\n",
    "  echo \"--- Lender deposit #$i ---\"\n",
    "  ROLE=${LENDER_DEPOSIT_ROLE[$i]}\n",
    "  ADDR=${LENDER_ADDR[$j]}\n",
    "  SKEY=${LENDER_SKEY[$j]}\n",
    "  AMOUNT=${INVESTMENT_AMOUNT[$j]}\n",
    "  DEADLINE=$((INVESTMENT_DEADLINE - 1 * MINUTE))\n",
    "  echo \"Lender $j requests to deposit $AMOUNT Djed.\"\n",
    "  marlowe-cli run prepare --choice-party Role=$ADMIN_ROLE            \\\n",
    "                          --choice-name \"Lender Deposit\"             \\\n",
    "                          --choice-number $AMOUNT                    \\\n",
    "                          --invalid-before $NOW                      \\\n",
    "                          --invalid-hereafter $DEADLINE              \\\n",
    "                          --marlowe-file collective-loan-$k.marlowe  \\\n",
    "                          --out-file     collective-loan-$k1.marlowe\n",
    "  echo \"Administrator approves deposit and sends role token to lender.\"\n",
    "  TX_ADA=$(find_ada $ADMIN_ADDR)\n",
    "  TX_NEW=$(\n",
    "  marlowe-cli run execute --marlowe-in-file collective-loan-$k.marlowe          \\\n",
    "                          --tx-in-marlowe \"$TX_OLD#1\"                           \\\n",
    "                          --tx-in-collateral $TX_ADA                            \\\n",
    "                          --tx-in $TX_ADA                                       \\\n",
    "                          --tx-in \"$(find_role_token $ADMIN_ADDR $ADMIN_ROLE)\"  \\\n",
    "                          --tx-in \"$(find_role_token $ADMIN_ADDR $ROLE)\"        \\\n",
    "                          --tx-out \"$(make_role_txout $ADMIN_ADDR $ADMIN_ROLE)\" \\\n",
    "                          --tx-out \"$(make_role_txout $ADDR $ROLE)\"             \\\n",
    "                          --marlowe-out-file collective-loan-$k1.marlowe        \\\n",
    "                          --change-address $ADMIN_ADDR                          \\\n",
    "                          --required-signer $ADMIN_SKEY                         \\\n",
    "                          --out-file /dev/null                                  \\\n",
    "                          --submit 600                                          \\\n",
    "  | sed -e 's/^TxId \"\\(.*\\)\"$/\\1/'                                              \\\n",
    "  )\n",
    "  echo 'TxId \"'$TX_NEW'\"'\n",
    "  TX_OLD=$TX_NEW\n",
    "  echo \"Lender deposits Djed and receives liquidity tokens using their newly-received role token.\"\n",
    "  marlowe-cli run prepare --deposit-account Role=$ADMIN_ROLE         \\\n",
    "                          --deposit-party Role=$ROLE                 \\\n",
    "                          --deposit-amount $AMOUNT                   \\\n",
    "                          --deposit-token $DJED                      \\\n",
    "                          --invalid-before $NOW                      \\\n",
    "                          --invalid-hereafter $DEADLINE              \\\n",
    "                          --marlowe-file collective-loan-$k1.marlowe \\\n",
    "                          --out-file     collective-loan-$k2.marlowe \n",
    "  TX_ADA=$(find_ada $ADDR)\n",
    "  CHANGE=$((MAXIMUM_INVESTMENT - AMOUNT))\n",
    "  TX_NEW=$(\n",
    "  marlowe-cli run execute --marlowe-in-file collective-loan-$k1.marlowe      \\\n",
    "                          --tx-in-marlowe \"$TX_OLD#1\"                        \\\n",
    "                          --tx-in-collateral $TX_ADA                         \\\n",
    "                          --tx-in $TX_ADA                                    \\\n",
    "                          --tx-in \"$(find_token $ADDR $DJED)\"                \\\n",
    "                          --tx-in \"$(find_role_token $ADDR $ROLE)\"           \\\n",
    "                          --tx-out \"$(make_role_txout $ADDR $ROLE)\"          \\\n",
    "                          --tx-out \"$(make_token_txout $ADDR $DJED $CHANGE)\" \\\n",
    "                          --marlowe-out-file collective-loan-$k2.marlowe     \\\n",
    "                          --change-address $ADDR                             \\\n",
    "                          --required-signer $SKEY                            \\\n",
    "                          --out-file /dev/null                               \\\n",
    "                          --submit 600                                       \\\n",
    "  | sed -e 's/^TxId \"\\(.*\\)\"$/\\1/'                                           \\\n",
    "  )\n",
    "  echo 'TxId \"'$TX_NEW'\"'\n",
    "  TX_OLD=$TX_NEW\n",
    "  k=$k2\n",
    "done"
   ]
  },
  {
   "cell_type": "markdown",
   "id": "458c45c3-6f0e-4ad2-81dd-2c083135554c",
   "metadata": {},
   "source": [
    "View the state of the contract."
   ]
  },
  {
   "cell_type": "code",
   "execution_count": 58,
   "id": "da9fbadf-fd24-4cf2-aa41-8b848118f329",
   "metadata": {},
   "outputs": [
    {
     "name": "stdout",
     "output_type": "stream",
     "text": [
      "accounts:\n",
      "- - - role_token: A\n",
      "    - currency_symbol: ''\n",
      "      token_name: ''\n",
      "  - 2000000\n",
      "- - - role_token: A\n",
      "    - currency_symbol: 5f10ff15e04456ec25f1a2d64e5584087e584613411e8e9051b70fbd\n",
      "      token_name: Liquidity\n",
      "  - 9331525\n",
      "- - - role_token: A\n",
      "    - currency_symbol: 76ea6a9aad89b09448e7af765f5a3e89c574989d67d6371a80e58baf\n",
      "      token_name: DjedUSD\n",
      "  - 5668475\n",
      "boundValues:\n",
      "- - Liability\n",
      "  - 5668475\n",
      "choices:\n",
      "- - choice_name: Lender Deposit\n",
      "    choice_owner:\n",
      "      role_token: A\n",
      "  - 2056260\n",
      "minTime: 1659630034000\n"
     ]
    }
   ],
   "source": [
    "jq .state collective-loan-$k.marlowe | json2yaml"
   ]
  },
  {
   "cell_type": "markdown",
   "id": "fc36428a-8713-4ff4-8bf7-b7893bb452aa",
   "metadata": {},
   "source": [
    "View the UTxO at the script address."
   ]
  },
  {
   "cell_type": "code",
   "execution_count": 59,
   "id": "cd5f204f-8acc-473b-90a9-3b125c065954",
   "metadata": {},
   "outputs": [
    {
     "name": "stdout",
     "output_type": "stream",
     "text": [
      "                           TxHash                                 TxIx        Amount\n",
      "--------------------------------------------------------------------------------------\n",
      "5251fd1d58153bc177f3956a0ac482353aef39a47c68dc533d7dac01e2064646     1        2000000 lovelace + 9331525 5f10ff15e04456ec25f1a2d64e5584087e584613411e8e9051b70fbd.4c6971756964697479 + 5668475 76ea6a9aad89b09448e7af765f5a3e89c574989d67d6371a80e58baf.446a6564555344 + TxOutDatumHash ScriptDataInAlonzoEra \"37079b677f0e6742b4f607ec93a766416c180362805cff555a7a7dcf5bf178eb\"\n"
     ]
    }
   ],
   "source": [
    "cardano-cli query utxo --testnet-magic $CARDANO_TESTNET_MAGIC --address $SCRIPT_ADDR"
   ]
  },
  {
   "cell_type": "markdown",
   "id": "f58d2c25-b547-421f-8834-302bde984216",
   "metadata": {},
   "source": [
    "### 4. The lenders withdraw their liquidity tokens"
   ]
  },
  {
   "cell_type": "markdown",
   "id": "9f8728f6-75a1-4744-9474-8d0ea250a74c",
   "metadata": {},
   "source": [
    "The role-payout validator address contains the liquidity tokens that were paid to the lenders."
   ]
  },
  {
   "cell_type": "code",
   "execution_count": 60,
   "id": "4683ec66-eca6-412a-9fd0-e1f6a82073b6",
   "metadata": {},
   "outputs": [
    {
     "name": "stdout",
     "output_type": "stream",
     "text": [
      "addr_test1wq0fq8ghuemq7cjk4cd3fys20g6ew4ntpv7tpw4fclat8nqs93zsf\n"
     ]
    }
   ],
   "source": [
    "ROLES_ADDR=$(jq -r .rolesValidator.address collective-loan-1.marlowe)\n",
    "echo $ROLES_ADDR"
   ]
  },
  {
   "cell_type": "markdown",
   "id": "eb6c4e54-06f0-48f5-b9a4-f0f343dc1e97",
   "metadata": {},
   "source": [
    "View these payouts."
   ]
  },
  {
   "cell_type": "code",
   "execution_count": 61,
   "id": "1d89062d-68b5-40b9-9863-01a39206619d",
   "metadata": {},
   "outputs": [
    {
     "name": "stdout",
     "output_type": "stream",
     "text": [
      "                           TxHash                                 TxIx        Amount\n",
      "--------------------------------------------------------------------------------------\n",
      "5251fd1d58153bc177f3956a0ac482353aef39a47c68dc533d7dac01e2064646     2        1724100 lovelace + 2056260 5f10ff15e04456ec25f1a2d64e5584087e584613411e8e9051b70fbd.4c6971756964697479 + TxOutDatumHash ScriptDataInAlonzoEra \"07ef8ca0dad57b0913defa384212e3d4dcb833185743e73109a0479117a776b2\"\n",
      "6fdb27bf00390045c20252dec592c876ca591e55c4ed0ff1fabd842f2580c688     2        1724100 lovelace + 2940824 5f10ff15e04456ec25f1a2d64e5584087e584613411e8e9051b70fbd.4c6971756964697479 + TxOutDatumHash ScriptDataInAlonzoEra \"f5d8260020d67f4c9104d139318b1b1266db527b51ee2baf2a1fe426e5730066\"\n",
      "74a140c663933c63dd249b547f46690d52ee00798ff1c40466e9818d900997eb     2        1724100 lovelace + 671391 5f10ff15e04456ec25f1a2d64e5584087e584613411e8e9051b70fbd.4c6971756964697479 + TxOutDatumHash ScriptDataInAlonzoEra \"459dc064a604ac976036dba2db4f1c1a4d0e44a55b065df1d96c6cdbfd86da85\"\n"
     ]
    }
   ],
   "source": [
    "cardano-cli query utxo --testnet-magic $CARDANO_TESTNET_MAGIC --address $ROLES_ADDR"
   ]
  },
  {
   "cell_type": "markdown",
   "id": "419dddfb-4f15-472a-8363-331f16d23850",
   "metadata": {},
   "source": [
    "Withdraw these payouts to the lenders' addresses."
   ]
  },
  {
   "cell_type": "code",
   "execution_count": 62,
   "id": "4a9b0910-b763-4350-9c8b-80d7336cd628",
   "metadata": {},
   "outputs": [
    {
     "name": "stdout",
     "output_type": "stream",
     "text": [
      "TxId \"28d0e4eedeffac85f808c05e60d3583b05921658ca92277a71be8f3cc585cedf\"\n",
      "TxId \"bfafcd0c51041f6bc19695358d03370590e7d1b5fc30d716362a40aead01c635\"\n",
      "TxId \"2c2f01a39e7a81315184d38bea71f3389c31df0ce4d7dce9e207bd7ba19b2c91\"\n"
     ]
    }
   ],
   "source": [
    "for i in `seq 1 $N_LENDERS`\n",
    "do\n",
    "  j=${INVESTMENT_ORDER[$((i-1))]}\n",
    "  ROLE=${LENDER_DEPOSIT_ROLE[$i]}\n",
    "  ADDR=${LENDER_ADDR[$j]}\n",
    "  SKEY=${LENDER_SKEY[$j]}\n",
    "  TX_ADA=$(find_ada $ADDR)\n",
    "  marlowe-cli run withdraw --marlowe-file collective-loan-$((2*j+2)).marlowe \\\n",
    "                           --role-name $ROLE                                 \\\n",
    "                           --tx-in-collateral $TX_ADA                        \\\n",
    "                           --tx-in $TX_ADA                                   \\\n",
    "                           --tx-in $(find_role_token $ADDR $ROLE)            \\\n",
    "                           --tx-out \"$(make_role_txout $ADDR $ROLE)\"         \\\n",
    "                           --change-address $ADDR                            \\\n",
    "                           --required-signer $SKEY                           \\\n",
    "                           --out-file /dev/null                              \\\n",
    "                           --submit 600\n",
    "done"
   ]
  },
  {
   "cell_type": "markdown",
   "id": "29c531f4-35ed-4600-acca-cb9578cbc2f3",
   "metadata": {},
   "source": [
    "There are no UTxOs at the payout address."
   ]
  },
  {
   "cell_type": "code",
   "execution_count": 63,
   "id": "17e39f9e-103a-45ac-941d-2d690fafb39c",
   "metadata": {},
   "outputs": [
    {
     "name": "stdout",
     "output_type": "stream",
     "text": [
      "                           TxHash                                 TxIx        Amount\n",
      "--------------------------------------------------------------------------------------\n"
     ]
    }
   ],
   "source": [
    "cardano-cli query utxo --testnet-magic $CARDANO_TESTNET_MAGIC --address $ROLES_ADDR"
   ]
  },
  {
   "cell_type": "markdown",
   "id": "3833cfad-5fac-477f-9151-d705689e8786",
   "metadata": {},
   "source": [
    "View the UTxOs at the lenders' addresses to see that they have their role tokens and liquidity tokens."
   ]
  },
  {
   "cell_type": "code",
   "execution_count": 64,
   "id": "16821abd-7498-4bb8-8915-991c22f2c546",
   "metadata": {},
   "outputs": [
    {
     "name": "stdout",
     "output_type": "stream",
     "text": [
      "\n",
      "Lender 1 = addr_test1qzenwj7elwatk3mmc368mwnv067fqnuk3x7u4nqw5dezg8wr7cz4mu6gh005gdck67p7y9d8s8zsfgjkcdy75mrjh6jqf6k36p\n",
      "                           TxHash                                 TxIx        Amount\n",
      "--------------------------------------------------------------------------------------\n",
      "28d0e4eedeffac85f808c05e60d3583b05921658ca92277a71be8f3cc585cedf     0        19470339 lovelace + TxOutDatumNone\n",
      "28d0e4eedeffac85f808c05e60d3583b05921658ca92277a71be8f3cc585cedf     1        1724100 lovelace + 671391 5f10ff15e04456ec25f1a2d64e5584087e584613411e8e9051b70fbd.4c6971756964697479 + TxOutDatumNone\n",
      "28d0e4eedeffac85f808c05e60d3583b05921658ca92277a71be8f3cc585cedf     2        2000000 lovelace + 1 9cb30bdd840cc8b31806c20eae6ed14614d32f10379547d605064e78.4c4431 + TxOutDatumNone\n",
      "74a140c663933c63dd249b547f46690d52ee00798ff1c40466e9818d900997eb     4        2000000 lovelace + 4328609 76ea6a9aad89b09448e7af765f5a3e89c574989d67d6371a80e58baf.446a6564555344 + TxOutDatumNone\n",
      "74a140c663933c63dd249b547f46690d52ee00798ff1c40466e9818d900997eb     5        1500000 lovelace + TxOutDatumHash ScriptDataInAlonzoEra \"aca5f4052273f46311e683e927bf937399f64f09c79036cf1f2731b3099d2754\"\n",
      "dcfdb0ad52624f324119e69d383886e3e5fac3d7c25e5f0818d39297988bbb84     0        343472171 lovelace + TxOutDatumNone\n",
      "\n",
      "Lender 2 = addr_test1qraxynufcduk7ak7nke2jm6pnc32vn7wsmm7ml30cutfgg7r7cz4mu6gh005gdck67p7y9d8s8zsfgjkcdy75mrjh6jq77wfgp\n",
      "                           TxHash                                 TxIx        Amount\n",
      "--------------------------------------------------------------------------------------\n",
      "2c2f01a39e7a81315184d38bea71f3389c31df0ce4d7dce9e207bd7ba19b2c91     0        19350936 lovelace + TxOutDatumNone\n",
      "2c2f01a39e7a81315184d38bea71f3389c31df0ce4d7dce9e207bd7ba19b2c91     1        1724100 lovelace + 2056260 5f10ff15e04456ec25f1a2d64e5584087e584613411e8e9051b70fbd.4c6971756964697479 + TxOutDatumNone\n",
      "2c2f01a39e7a81315184d38bea71f3389c31df0ce4d7dce9e207bd7ba19b2c91     2        2000000 lovelace + 1 9cb30bdd840cc8b31806c20eae6ed14614d32f10379547d605064e78.4c4433 + TxOutDatumNone\n",
      "5251fd1d58153bc177f3956a0ac482353aef39a47c68dc533d7dac01e2064646     4        2000000 lovelace + 2943740 76ea6a9aad89b09448e7af765f5a3e89c574989d67d6371a80e58baf.446a6564555344 + TxOutDatumNone\n",
      "5251fd1d58153bc177f3956a0ac482353aef39a47c68dc533d7dac01e2064646     5        1500000 lovelace + TxOutDatumHash ScriptDataInAlonzoEra \"d3cb8501f9bf2e7ec4d07a7159231e6e33bc231f3823a349709ec0ea74bbef3c\"\n",
      "e3820b4a30a7227a42d8b76beddf0bd85e26e331a9104baadce632d266e904c5     0        254606784 lovelace + TxOutDatumNone\n",
      "\n",
      "Lender 3 = addr_test1qzlwepx5u26a8w94kfrkfem6njlam22emyhjscu0lxqrce7r7cz4mu6gh005gdck67p7y9d8s8zsfgjkcdy75mrjh6jq5jnrn3\n",
      "                           TxHash                                 TxIx        Amount\n",
      "--------------------------------------------------------------------------------------\n",
      "6fdb27bf00390045c20252dec592c876ca591e55c4ed0ff1fabd842f2580c688     4        2000000 lovelace + 2059176 76ea6a9aad89b09448e7af765f5a3e89c574989d67d6371a80e58baf.446a6564555344 + TxOutDatumNone\n",
      "6fdb27bf00390045c20252dec592c876ca591e55c4ed0ff1fabd842f2580c688     5        1500000 lovelace + TxOutDatumHash ScriptDataInAlonzoEra \"855bd1c392ae85adb6c2eafb7c766732a388f4cf2621ba1bc827efc93bb605d2\"\n",
      "bfafcd0c51041f6bc19695358d03370590e7d1b5fc30d716362a40aead01c635     0        19375281 lovelace + TxOutDatumNone\n",
      "bfafcd0c51041f6bc19695358d03370590e7d1b5fc30d716362a40aead01c635     1        1724100 lovelace + 2940824 5f10ff15e04456ec25f1a2d64e5584087e584613411e8e9051b70fbd.4c6971756964697479 + TxOutDatumNone\n",
      "bfafcd0c51041f6bc19695358d03370590e7d1b5fc30d716362a40aead01c635     2        2000000 lovelace + 1 9cb30bdd840cc8b31806c20eae6ed14614d32f10379547d605064e78.4c4432 + TxOutDatumNone\n",
      "d1a84be85e5aefe061a0b42676403a71e0a5d9d8352101ff41ec1c9352e4b785     0        253636568 lovelace + TxOutDatumNone\n"
     ]
    }
   ],
   "source": [
    "for j in `seq 1 $N_LENDERS`\n",
    "do\n",
    "  echo\n",
    "  echo \"Lender $j = ${LENDER_ADDR[$j]}\"\n",
    "  cardano-cli query utxo --testnet-magic $CARDANO_TESTNET_MAGIC --address ${LENDER_ADDR[$j]}\n",
    "done"
   ]
  },
  {
   "cell_type": "markdown",
   "id": "d6482145-90be-4bba-b846-f4797f06a9c4",
   "metadata": {
    "tags": []
   },
   "source": [
    "### 5. The borrowers withdraw their loan funds"
   ]
  },
  {
   "cell_type": "markdown",
   "id": "1fc37473-9d8e-4270-b21b-8593374d8211",
   "metadata": {},
   "source": [
    "Borrowers withdraw in random order."
   ]
  },
  {
   "cell_type": "code",
   "execution_count": 65,
   "id": "9529d919-8cc7-48de-be26-a988bc5611d2",
   "metadata": {},
   "outputs": [
    {
     "name": "stdout",
     "output_type": "stream",
     "text": [
      "3 5 2 1 4\n"
     ]
    }
   ],
   "source": [
    "BORROWER_ORDER=(`seq 1 $N_BORROWERS | sort -R`)\n",
    "echo ${BORROWER_ORDER[@]}"
   ]
  },
  {
   "cell_type": "markdown",
   "id": "bbc2b987-3514-4e73-9fd9-50825635a31c",
   "metadata": {},
   "source": [
    "Borrowers deposit random amounts."
   ]
  },
  {
   "cell_type": "code",
   "execution_count": 66,
   "id": "99cc9fff-e56f-4708-bf34-eb0f5529fdea",
   "metadata": {},
   "outputs": [
    {
     "name": "stdout",
     "output_type": "stream",
     "text": [
      "993462 239613 932569 222748 920703\n"
     ]
    }
   ],
   "source": [
    "for j in `seq 1 $N_BORROWERS`\n",
    "do\n",
    "  LOAN_AMOUNT[$j]=$(((MAXIMUM_LOAN - MINIMUM_LOAN) * RANDOM / 32767 + MINIMUM_LOAN))\n",
    "done\n",
    "echo ${LOAN_AMOUNT[@]}"
   ]
  },
  {
   "cell_type": "markdown",
   "id": "552b8eac-3e36-4077-95ca-8a8b129c8782",
   "metadata": {},
   "source": [
    "Make the withdrawals."
   ]
  },
  {
   "cell_type": "code",
   "execution_count": 67,
   "id": "d3bc5d85-6f0a-4ab7-a4af-f826c287e484",
   "metadata": {},
   "outputs": [
    {
     "name": "stdout",
     "output_type": "stream",
     "text": [
      "\n",
      "--- Borrower withdrawal #1 ---\n",
      "Borrower 3 requests loan of 932569 Djed.\n",
      "Administrator checks credit.\n",
      "Administator approves loan and sends role token to borrower.\n",
      "Payment 1\n",
      "  Acccount: \"A\"\n",
      "  Payee: Party \"BP1\"\n",
      "  Ada: 0.000000\n",
      "  76ea6a9aad89b09448e7af765f5a3e89c574989d67d6371a80e58baf.\"DjedUSD\": 932569\n",
      "TxId \"124b2f805a012ad0e62e5ec9545864b1c88e664a9e59080c7a931ffd141399a8\"\n",
      "Borrower withdraws the Djed from the payout address using their newly-received role token.\n",
      "TxId \"721840ae3bca11c3ffd2a011ca272ae7d893507bbf2e5cce8c5bc96f97584eec\"\n",
      "\n",
      "--- Borrower withdrawal #2 ---\n",
      "Borrower 5 requests loan of 920703 Djed.\n",
      "Administrator checks credit.\n",
      "Administator approves loan and sends role token to borrower.\n",
      "Payment 1\n",
      "  Acccount: \"A\"\n",
      "  Payee: Party \"BP2\"\n",
      "  Ada: 0.000000\n",
      "  76ea6a9aad89b09448e7af765f5a3e89c574989d67d6371a80e58baf.\"DjedUSD\": 920703\n",
      "TxId \"a1bcf742efc16bbeacbea223f498167b8e211216d0ad173b926f53c7e4f2d04e\"\n",
      "Borrower withdraws the Djed from the payout address using their newly-received role token.\n",
      "TxId \"cbc6bc36c3de4d0fcb1398ec58de7930da942255bed11151e4c2317efd0f9916\"\n",
      "\n",
      "--- Borrower withdrawal #3 ---\n",
      "Borrower 2 requests loan of 239613 Djed.\n",
      "Administrator checks credit.\n",
      "Administator approves loan and sends role token to borrower.\n",
      "Payment 1\n",
      "  Acccount: \"A\"\n",
      "  Payee: Party \"BP3\"\n",
      "  Ada: 0.000000\n",
      "  76ea6a9aad89b09448e7af765f5a3e89c574989d67d6371a80e58baf.\"DjedUSD\": 239613\n",
      "TxId \"0b4c3d4faf8fc1792c542dc0d967195954b3eb2ea3eeaa0213f2527d70e431ce\"\n",
      "Borrower withdraws the Djed from the payout address using their newly-received role token.\n",
      "TxId \"dddc5a3a831f4981dd64a18abaa969f53c464bbe4bfb30e9aeb9bb2e81b37860\"\n",
      "\n",
      "--- Borrower withdrawal #4 ---\n",
      "Borrower 1 requests loan of 993462 Djed.\n",
      "Administrator checks credit.\n",
      "Administator approves loan and sends role token to borrower.\n",
      "Payment 1\n",
      "  Acccount: \"A\"\n",
      "  Payee: Party \"BP4\"\n",
      "  Ada: 0.000000\n",
      "  76ea6a9aad89b09448e7af765f5a3e89c574989d67d6371a80e58baf.\"DjedUSD\": 993462\n",
      "TxId \"b1f32b8690241737067f743f3a62f4172506812a0f2027667e4301ae0bb1443d\"\n",
      "Borrower withdraws the Djed from the payout address using their newly-received role token.\n",
      "TxId \"63c3881dd2769310b9bf707ea8db00589cb0e066857e37c5a2b711261483001b\"\n",
      "\n",
      "--- Borrower withdrawal #5 ---\n",
      "Borrower 4 requests loan of 222748 Djed.\n",
      "Administrator checks credit.\n",
      "Administator approves loan and sends role token to borrower.\n",
      "Payment 1\n",
      "  Acccount: \"A\"\n",
      "  Payee: Party \"BP5\"\n",
      "  Ada: 0.000000\n",
      "  76ea6a9aad89b09448e7af765f5a3e89c574989d67d6371a80e58baf.\"DjedUSD\": 222748\n",
      "TxId \"bc32bda414d26811e67e534f419df22a8e08215b16383751d755a5ce8c9ba9ba\"\n",
      "Borrower withdraws the Djed from the payout address using their newly-received role token.\n",
      "TxId \"f6d6ce2d3a8be9df7822459f4e83976d9f16c0f8dcb62df74cc134d903724ab1\"\n"
     ]
    }
   ],
   "source": [
    "for i in `seq 1 $N_BORROWERS`\n",
    "do\n",
    "  k1=$((k+1))\n",
    "  j=${BORROWER_ORDER[$((i-1))]}\n",
    "  echo\n",
    "  echo \"--- Borrower withdrawal #$i ---\"\n",
    "  ROLE=${BORROWER_PAYMENT_ROLE[$i]}\n",
    "  ADDR=${BORROWER_ADDR[$j]}\n",
    "  SKEY=${BORROWER_SKEY[$j]}\n",
    "  AMOUNT=${LOAN_AMOUNT[$j]}\n",
    "  echo \"Borrower $j requests loan of $AMOUNT Djed.\"\n",
    "  echo \"Administrator checks credit.\"\n",
    "  echo \"Administator approves loan and sends role token to borrower.\"\n",
    "  DEADLINE=$((LOAN_DEADLINE - 1 * MINUTE))\n",
    "  marlowe-cli run prepare --choice-party Role=$ADMIN_ROLE            \\\n",
    "                          --choice-name \"Borrower Withdrawal\"        \\\n",
    "                          --choice-number $AMOUNT                    \\\n",
    "                          --invalid-before $NOW                      \\\n",
    "                          --invalid-hereafter $DEADLINE              \\\n",
    "                          --marlowe-file collective-loan-$k.marlowe  \\\n",
    "                          --out-file     collective-loan-$k1.marlowe\n",
    "  TX_ADA=$(find_ada $ADMIN_ADDR)\n",
    "  TX_NEW=$(\n",
    "  marlowe-cli run execute --marlowe-in-file collective-loan-$k.marlowe          \\\n",
    "                          --tx-in-marlowe \"$TX_OLD#1\"                           \\\n",
    "                          --tx-in-collateral $TX_ADA                            \\\n",
    "                          --tx-in $TX_ADA                                       \\\n",
    "                          --tx-in \"$(find_role_token $ADMIN_ADDR $ADMIN_ROLE)\"  \\\n",
    "                          --tx-in \"$(find_role_token $ADMIN_ADDR $ROLE)\"        \\\n",
    "                          --tx-out \"$(make_role_txout $ADMIN_ADDR $ADMIN_ROLE)\" \\\n",
    "                          --tx-out \"$(make_role_txout $ADDR $ROLE)\"             \\\n",
    "                          --marlowe-out-file collective-loan-$k1.marlowe        \\\n",
    "                          --change-address $ADMIN_ADDR                          \\\n",
    "                          --required-signer $ADMIN_SKEY                         \\\n",
    "                          --out-file /dev/null                                  \\\n",
    "                          --submit 600                                          \\\n",
    "  | sed -e 's/^TxId \"\\(.*\\)\"$/\\1/'                                              \\\n",
    "  )\n",
    "  echo 'TxId \"'$TX_NEW'\"'\n",
    "  TX_OLD=$TX_NEW\n",
    "  echo \"Borrower withdraws the Djed from the payout address using their newly-received role token.\"\n",
    "  TX_ADA=$(find_ada $ADDR)\n",
    "  marlowe-cli run withdraw --marlowe-file collective-loan-$k1.marlowe \\\n",
    "                           --role-name $ROLE                          \\\n",
    "                           --tx-in-collateral $TX_ADA                 \\\n",
    "                           --tx-in $TX_ADA                            \\\n",
    "                           --tx-in $(find_role_token $ADDR $ROLE)     \\\n",
    "                           --tx-out \"$(make_role_txout $ADDR $ROLE)\"  \\\n",
    "                           --change-address $ADDR                     \\\n",
    "                           --required-signer $SKEY                    \\\n",
    "                           --out-file /dev/null                       \\\n",
    "                           --submit 600\n",
    "  k=$k1\n",
    "done"
   ]
  },
  {
   "cell_type": "markdown",
   "id": "1bf68866-06b2-4390-b6f6-edc3afd04ef8",
   "metadata": {},
   "source": [
    "Now the contract accounts show that some Djed remains."
   ]
  },
  {
   "cell_type": "code",
   "execution_count": 68,
   "id": "990b69bd-8f7b-4b35-bf27-6375ce29eaa7",
   "metadata": {},
   "outputs": [
    {
     "name": "stdout",
     "output_type": "stream",
     "text": [
      "- - - role_token: A\n",
      "    - currency_symbol: ''\n",
      "      token_name: ''\n",
      "  - 2000000\n",
      "- - - role_token: A\n",
      "    - currency_symbol: 5f10ff15e04456ec25f1a2d64e5584087e584613411e8e9051b70fbd\n",
      "      token_name: Liquidity\n",
      "  - 9331525\n",
      "- - - role_token: A\n",
      "    - currency_symbol: 76ea6a9aad89b09448e7af765f5a3e89c574989d67d6371a80e58baf\n",
      "      token_name: DjedUSD\n",
      "  - 2359380\n"
     ]
    }
   ],
   "source": [
    "jq .state.accounts collective-loan-$k.marlowe | json2yaml"
   ]
  },
  {
   "cell_type": "markdown",
   "id": "db640c2a-8dcc-4382-8b2b-232fbde30074",
   "metadata": {},
   "source": [
    "View the UTxO at the script address."
   ]
  },
  {
   "cell_type": "code",
   "execution_count": 69,
   "id": "f3205ede-9198-4139-a52a-138f23109111",
   "metadata": {},
   "outputs": [
    {
     "name": "stdout",
     "output_type": "stream",
     "text": [
      "                           TxHash                                 TxIx        Amount\n",
      "--------------------------------------------------------------------------------------\n",
      "bc32bda414d26811e67e534f419df22a8e08215b16383751d755a5ce8c9ba9ba     1        2000000 lovelace + 9331525 5f10ff15e04456ec25f1a2d64e5584087e584613411e8e9051b70fbd.4c6971756964697479 + 2359380 76ea6a9aad89b09448e7af765f5a3e89c574989d67d6371a80e58baf.446a6564555344 + TxOutDatumHash ScriptDataInAlonzoEra \"65fb1f50faff485b01ea310a8565ec9996dbf84a4daa471839a637cd9605dfec\"\n"
     ]
    }
   ],
   "source": [
    "cardano-cli query utxo --testnet-magic $CARDANO_TESTNET_MAGIC --address $SCRIPT_ADDR"
   ]
  },
  {
   "cell_type": "markdown",
   "id": "ab8fe0dd-4c67-4c52-bc74-560d96218ee3",
   "metadata": {},
   "source": [
    "There are no UTxOs at the payout address."
   ]
  },
  {
   "cell_type": "code",
   "execution_count": 70,
   "id": "00f0eed9-89d9-40d4-ad5f-e620c34caa64",
   "metadata": {},
   "outputs": [
    {
     "name": "stdout",
     "output_type": "stream",
     "text": [
      "                           TxHash                                 TxIx        Amount\n",
      "--------------------------------------------------------------------------------------\n"
     ]
    }
   ],
   "source": [
    "cardano-cli query utxo --testnet-magic $CARDANO_TESTNET_MAGIC --address $ROLES_ADDR"
   ]
  },
  {
   "cell_type": "markdown",
   "id": "38d2b1b5-3f21-4f85-a91b-97f8e406386a",
   "metadata": {},
   "source": [
    "View the UTxOs at the borrowers' addresses to see that they have their role tokens and Djed."
   ]
  },
  {
   "cell_type": "code",
   "execution_count": 71,
   "id": "3a8efcaf-3788-48eb-8955-711a090d11e6",
   "metadata": {},
   "outputs": [
    {
     "name": "stdout",
     "output_type": "stream",
     "text": [
      "\n",
      "Borrower 1 = addr_test1qp7q4e9nlhq08mrugs8pm5uq045e425w72mxhxupq9qqgykr7cz4mu6gh005gdck67p7y9d8s8zsfgjkcdy75mrjh6jqjmt3lh\n",
      "                           TxHash                                 TxIx        Amount\n",
      "--------------------------------------------------------------------------------------\n",
      "2de3b3cd9513312eed16b01897d20f3bc7609978de10253e432825a8b76b4b2c     4        2000000 lovelace + 500000 76ea6a9aad89b09448e7af765f5a3e89c574989d67d6371a80e58baf.446a6564555344 + TxOutDatumNone\n",
      "63c3881dd2769310b9bf707ea8db00589cb0e066857e37c5a2b711261483001b     0        24541621 lovelace + TxOutDatumNone\n",
      "63c3881dd2769310b9bf707ea8db00589cb0e066857e37c5a2b711261483001b     1        1689618 lovelace + 993462 76ea6a9aad89b09448e7af765f5a3e89c574989d67d6371a80e58baf.446a6564555344 + TxOutDatumNone\n",
      "63c3881dd2769310b9bf707ea8db00589cb0e066857e37c5a2b711261483001b     2        2000000 lovelace + 1 9cb30bdd840cc8b31806c20eae6ed14614d32f10379547d605064e78.425034 + TxOutDatumNone\n",
      "f6735c9d1bba0eacd5ad37d81a23dfe16faadc1cef9ca16d219c0923aaafe6a8     0        394368988 lovelace + TxOutDatumNone\n",
      "\n",
      "Borrower 2 = addr_test1qpzun0s6thsyf9qt0zyfnn50x8kpwutrv20eq8dgx9gt6tkr7cz4mu6gh005gdck67p7y9d8s8zsfgjkcdy75mrjh6jqfsjdsz\n",
      "                           TxHash                                 TxIx        Amount\n",
      "--------------------------------------------------------------------------------------\n",
      "2de3b3cd9513312eed16b01897d20f3bc7609978de10253e432825a8b76b4b2c     5        2000000 lovelace + 500000 76ea6a9aad89b09448e7af765f5a3e89c574989d67d6371a80e58baf.446a6564555344 + TxOutDatumNone\n",
      "806d0e53c799c44bf1a8bd617ff80a65c4dea51eafb6c3a6aeceebc88cf01a7f     0        297832274 lovelace + TxOutDatumNone\n",
      "dddc5a3a831f4981dd64a18abaa969f53c464bbe4bfb30e9aeb9bb2e81b37860     0        24551767 lovelace + TxOutDatumNone\n",
      "dddc5a3a831f4981dd64a18abaa969f53c464bbe4bfb30e9aeb9bb2e81b37860     1        1689618 lovelace + 239613 76ea6a9aad89b09448e7af765f5a3e89c574989d67d6371a80e58baf.446a6564555344 + TxOutDatumNone\n",
      "dddc5a3a831f4981dd64a18abaa969f53c464bbe4bfb30e9aeb9bb2e81b37860     2        2000000 lovelace + 1 9cb30bdd840cc8b31806c20eae6ed14614d32f10379547d605064e78.425033 + TxOutDatumNone\n",
      "\n",
      "Borrower 3 = addr_test1qqpet7s339suufnxmr4vrg09469v30g59yxa70yrkxvrfekr7cz4mu6gh005gdck67p7y9d8s8zsfgjkcdy75mrjh6jq37csh4\n",
      "                           TxHash                                 TxIx        Amount\n",
      "--------------------------------------------------------------------------------------\n",
      "223ce7bcbaa2c65411b02003bea21164a9e3222ef1881b57672fcea3f77f1718     0        992213744 lovelace + TxOutDatumNone\n",
      "2de3b3cd9513312eed16b01897d20f3bc7609978de10253e432825a8b76b4b2c     6        2000000 lovelace + 500000 76ea6a9aad89b09448e7af765f5a3e89c574989d67d6371a80e58baf.446a6564555344 + TxOutDatumNone\n",
      "721840ae3bca11c3ffd2a011ca272ae7d893507bbf2e5cce8c5bc96f97584eec     0        24551767 lovelace + TxOutDatumNone\n",
      "721840ae3bca11c3ffd2a011ca272ae7d893507bbf2e5cce8c5bc96f97584eec     1        1689618 lovelace + 932569 76ea6a9aad89b09448e7af765f5a3e89c574989d67d6371a80e58baf.446a6564555344 + TxOutDatumNone\n",
      "721840ae3bca11c3ffd2a011ca272ae7d893507bbf2e5cce8c5bc96f97584eec     2        2000000 lovelace + 1 9cb30bdd840cc8b31806c20eae6ed14614d32f10379547d605064e78.425031 + TxOutDatumNone\n",
      "\n",
      "Borrower 4 = addr_test1qppr8ue92zznn2k3v235fuxtpcun9k32g8jn09dsq3ndvawr7cz4mu6gh005gdck67p7y9d8s8zsfgjkcdy75mrjh6jqh2lydz\n",
      "                           TxHash                                 TxIx        Amount\n",
      "--------------------------------------------------------------------------------------\n",
      "2de3b3cd9513312eed16b01897d20f3bc7609978de10253e432825a8b76b4b2c     7        2000000 lovelace + 500000 76ea6a9aad89b09448e7af765f5a3e89c574989d67d6371a80e58baf.446a6564555344 + TxOutDatumNone\n",
      "8dcfa82e0998ab52acb7374ef914f8a1b567efe502cc29ea9112db94e6ac8ec3     0        297850184 lovelace + TxOutDatumNone\n",
      "f6d6ce2d3a8be9df7822459f4e83976d9f16c0f8dcb62df74cc134d903724ab1     0        24541621 lovelace + TxOutDatumNone\n",
      "f6d6ce2d3a8be9df7822459f4e83976d9f16c0f8dcb62df74cc134d903724ab1     1        1689618 lovelace + 222748 76ea6a9aad89b09448e7af765f5a3e89c574989d67d6371a80e58baf.446a6564555344 + TxOutDatumNone\n",
      "f6d6ce2d3a8be9df7822459f4e83976d9f16c0f8dcb62df74cc134d903724ab1     2        2000000 lovelace + 1 9cb30bdd840cc8b31806c20eae6ed14614d32f10379547d605064e78.425035 + TxOutDatumNone\n",
      "\n",
      "Borrower 5 = addr_test1qzcee8xm57tuss5wm3yvxhpk2w7ws3h03c8w2f30tlqahhkr7cz4mu6gh005gdck67p7y9d8s8zsfgjkcdy75mrjh6jqgtpxaq\n",
      "                           TxHash                                 TxIx        Amount\n",
      "--------------------------------------------------------------------------------------\n",
      "2de3b3cd9513312eed16b01897d20f3bc7609978de10253e432825a8b76b4b2c     8        2000000 lovelace + 500000 76ea6a9aad89b09448e7af765f5a3e89c574989d67d6371a80e58baf.446a6564555344 + TxOutDatumNone\n",
      "b858ac7f6ce1a0e5a4ca731e2af4c589b868608f2c53be3fcd83480be3063d83     0        7146023220 lovelace + TxOutDatumNone\n",
      "cbc6bc36c3de4d0fcb1398ec58de7930da942255bed11151e4c2317efd0f9916     0        24541621 lovelace + TxOutDatumNone\n",
      "cbc6bc36c3de4d0fcb1398ec58de7930da942255bed11151e4c2317efd0f9916     1        1689618 lovelace + 920703 76ea6a9aad89b09448e7af765f5a3e89c574989d67d6371a80e58baf.446a6564555344 + TxOutDatumNone\n",
      "cbc6bc36c3de4d0fcb1398ec58de7930da942255bed11151e4c2317efd0f9916     2        2000000 lovelace + 1 9cb30bdd840cc8b31806c20eae6ed14614d32f10379547d605064e78.425032 + TxOutDatumNone\n"
     ]
    }
   ],
   "source": [
    "for j in `seq 1 $N_BORROWERS`\n",
    "do\n",
    "  echo\n",
    "  echo \"Borrower $j = ${BORROWER_ADDR[$j]}\"\n",
    "  cardano-cli query utxo --testnet-magic $CARDANO_TESTNET_MAGIC --address ${BORROWER_ADDR[$j]}\n",
    "done"
   ]
  },
  {
   "cell_type": "markdown",
   "id": "ac5b4f49-f7c4-488b-8033-fbb1481dd533",
   "metadata": {
    "tags": []
   },
   "source": [
    "### 6. The borrowers pay back their funds with interest"
   ]
  },
  {
   "cell_type": "markdown",
   "id": "fec14a13-6382-40fe-ab6c-f079c8519238",
   "metadata": {},
   "source": [
    "Some time passes, and the borrowers pay back their loans. We randomize the sequence of paybacks and returns."
   ]
  },
  {
   "cell_type": "code",
   "execution_count": 72,
   "id": "0461768b-20e9-43aa-aac4-fa5b4ff97dda",
   "metadata": {},
   "outputs": [
    {
     "name": "stdout",
     "output_type": "stream",
     "text": [
      "3 2 5 4 1\n"
     ]
    }
   ],
   "source": [
    "BORROWER_ORDER=(`seq 1 $N_BORROWERS | sort -R`)\n",
    "echo ${BORROWER_ORDER[@]}"
   ]
  },
  {
   "cell_type": "code",
   "execution_count": 73,
   "id": "9aeb193d-1136-444f-9d9c-736f9586b628",
   "metadata": {},
   "outputs": [
    {
     "name": "stdout",
     "output_type": "stream",
     "text": [
      "993462 239613 932569 222748 920703\n",
      "1212023 333062 960546 307392 1178499\n"
     ]
    }
   ],
   "source": [
    "for j in `seq 1 $N_BORROWERS`\n",
    "do\n",
    "  INTEREST_PERCENT=$((50 * RANDOM / 32767 - 10))\n",
    "  RETURN_AMOUNT[$j]=$((${LOAN_AMOUNT[$j]} * (100 + INTEREST_PERCENT) / 100))\n",
    "done\n",
    "echo ${LOAN_AMOUNT[@]}\n",
    "echo ${RETURN_AMOUNT[@]}"
   ]
  },
  {
   "cell_type": "markdown",
   "id": "8f14925f-04e1-472c-a6c5-6fbdff6632a7",
   "metadata": {},
   "source": [
    "Pay back the loans."
   ]
  },
  {
   "cell_type": "code",
   "execution_count": 74,
   "id": "63cabb6b-78c4-4c6e-913b-628e9f054627",
   "metadata": {},
   "outputs": [
    {
     "name": "stdout",
     "output_type": "stream",
     "text": [
      "\n",
      "--- Borrower deposit #1 ---\n",
      "Borrower 3 requests to deposit 960546 DjedUSD.\n",
      "Administrator approves deposit and sends role token to borrower.\n",
      "TxId \"3479bbbee20a28f4257d445224f92974f5f9b00ce2d6e2c9076dc9642dbcf0c7\"\n",
      "Borrower makes deposit using their newly-received role token.\n",
      "TxId \"a99a1e8fb552d2a388d2640f270a426704a86ccb9677559da5fba70f89103e33\"\n",
      "\n",
      "--- Borrower deposit #2 ---\n",
      "Borrower 2 requests to deposit 333062 DjedUSD.\n",
      "Administrator approves deposit and sends role token to borrower.\n",
      "TxId \"7908e66856590f6b0e8871bf9805992d5846e7306aca40eaf21805112df233eb\"\n",
      "Borrower makes deposit using their newly-received role token.\n",
      "TxId \"cc40e01f5f165cae65f547d5a5b403ac3d369c7833253e781c591547c141ca35\"\n",
      "\n",
      "--- Borrower deposit #3 ---\n",
      "Borrower 5 requests to deposit 1178499 DjedUSD.\n",
      "Administrator approves deposit and sends role token to borrower.\n",
      "TxId \"ddc7cd4b673864c451a300b1cb46df1cec6fd3d98e9063d594899b56ea620e76\"\n",
      "Borrower makes deposit using their newly-received role token.\n",
      "TxId \"5b15c1920b0dda11fbcc2c1b3736213b591f33215067b8f19919b3169f9ad2b0\"\n",
      "\n",
      "--- Borrower deposit #4 ---\n",
      "Borrower 4 requests to deposit 307392 DjedUSD.\n",
      "Administrator approves deposit and sends role token to borrower.\n",
      "TxId \"84c57aea32d7f074ac82d7a2ccebe310e6fd912c8f08a8ce09de29cda12130b0\"\n",
      "Borrower makes deposit using their newly-received role token.\n",
      "TxId \"fa2baa139251530b9e985c6a9e18bae18e856be6bd69de937874b8ffa054cbb1\"\n",
      "\n",
      "--- Borrower deposit #5 ---\n",
      "Borrower 1 requests to deposit 1212023 DjedUSD.\n",
      "Administrator approves deposit and sends role token to borrower.\n",
      "TxId \"1c46173a4178a7ed6eaee4e2ab1f6d399df3f7c4146cba1d72a1b241d665b7b3\"\n",
      "Borrower makes deposit using their newly-received role token.\n",
      "TxId \"4a265809b0f51def6d24f30d12e48b7e3d56766ffad88123e1302e1d51698813\"\n"
     ]
    }
   ],
   "source": [
    "for i in `seq 1 $N_BORROWERS`\n",
    "do\n",
    "  k1=$((k+1))\n",
    "  k2=$((k+2))\n",
    "  j=${BORROWER_ORDER[$((i-1))]}\n",
    "  echo\n",
    "  echo \"--- Borrower deposit #$i ---\"\n",
    "  ROLE=${BORROWER_DEPOSIT_ROLE[$i]}\n",
    "  ADDR=${BORROWER_ADDR[$j]}\n",
    "  SKEY=${BORROWER_SKEY[$j]}\n",
    "  AMOUNT=${RETURN_AMOUNT[$j]}\n",
    "  DEADLINE=$((LOAN_REPAYMENT_DEADLINE - 1 * MINUTE))\n",
    "  echo \"Borrower $j requests to deposit $AMOUNT DjedUSD.\"\n",
    "  marlowe-cli run prepare --choice-party Role=$ADMIN_ROLE            \\\n",
    "                          --choice-name \"Borrower Deposit\"           \\\n",
    "                          --choice-number $AMOUNT                    \\\n",
    "                          --invalid-before $NOW                      \\\n",
    "                          --invalid-hereafter $DEADLINE              \\\n",
    "                          --marlowe-file collective-loan-$k.marlowe  \\\n",
    "                          --out-file     collective-loan-$k1.marlowe\n",
    "  echo \"Administrator approves deposit and sends role token to borrower.\"\n",
    "  TX_ADA=$(find_ada $ADMIN_ADDR)\n",
    "  TX_NEW=$(\n",
    "  marlowe-cli run execute --marlowe-in-file collective-loan-$k.marlowe          \\\n",
    "                          --tx-in-marlowe \"$TX_OLD#1\"                           \\\n",
    "                          --tx-in-collateral $TX_ADA                            \\\n",
    "                          --tx-in $TX_ADA                                       \\\n",
    "                          --tx-in \"$(find_role_token $ADMIN_ADDR $ADMIN_ROLE)\"  \\\n",
    "                          --tx-in \"$(find_role_token $ADMIN_ADDR $ROLE)\"        \\\n",
    "                          --tx-out \"$(make_role_txout $ADMIN_ADDR $ADMIN_ROLE)\" \\\n",
    "                          --tx-out \"$(make_role_txout $ADDR $ROLE)\"             \\\n",
    "                          --marlowe-out-file collective-loan-$k1.marlowe        \\\n",
    "                          --change-address $ADMIN_ADDR                          \\\n",
    "                          --required-signer $ADMIN_SKEY                         \\\n",
    "                          --out-file /dev/null                                  \\\n",
    "                          --submit 600                                          \\\n",
    "  | sed -e 's/^TxId \"\\(.*\\)\"$/\\1/'                                              \\\n",
    "  )\n",
    "  echo 'TxId \"'$TX_NEW'\"'\n",
    "  TX_OLD=$TX_NEW\n",
    "  echo \"Borrower makes deposit using their newly-received role token.\"\n",
    "  marlowe-cli run prepare --deposit-account Role=$ADMIN_ROLE         \\\n",
    "                          --deposit-party Role=$ROLE                 \\\n",
    "                          --deposit-amount $AMOUNT                   \\\n",
    "                          --deposit-token $DJED                      \\\n",
    "                          --invalid-before $NOW                      \\\n",
    "                          --invalid-hereafter $DEADLINE              \\\n",
    "                          --marlowe-file collective-loan-$k1.marlowe \\\n",
    "                          --out-file     collective-loan-$k2.marlowe \n",
    "  TX_ADA=$(find_ada $ADDR)\n",
    "  CHANGE=$((BORROWER_DJED + LOAN_AMOUNT[$j] - AMOUNT))\n",
    "  TX_NEW=$(\n",
    "  marlowe-cli run execute --marlowe-in-file collective-loan-$k1.marlowe      \\\n",
    "                          --tx-in-marlowe \"$TX_OLD#1\"                        \\\n",
    "                          --tx-in-collateral $TX_ADA                         \\\n",
    "                          --tx-in $TX_ADA                                    \\\n",
    "                          --tx-in \"$(find_token $ADDR $DJED)\"                \\\n",
    "                          --tx-in \"$(find_token_2 $ADDR $DJED)\"              \\\n",
    "                          --tx-in \"$(find_role_token $ADDR $ROLE)\"           \\\n",
    "                          --tx-out \"$(make_role_txout $ADDR $ROLE)\"          \\\n",
    "                          --tx-out \"$(make_token_txout $ADDR $DJED $CHANGE)\" \\\n",
    "                          --marlowe-out-file collective-loan-$k2.marlowe     \\\n",
    "                          --change-address $ADDR                             \\\n",
    "                          --required-signer $SKEY                            \\\n",
    "                          --out-file /dev/null                               \\\n",
    "                          --submit 600                                       \\\n",
    "  | sed -e 's/^TxId \"\\(.*\\)\"$/\\1/'                                           \\\n",
    "  )\n",
    "  echo 'TxId \"'$TX_NEW'\"'\n",
    "  TX_OLD=$TX_NEW\n",
    "  k=$k2\n",
    "done"
   ]
  },
  {
   "cell_type": "markdown",
   "id": "acedbb0d-1c31-44b8-8d19-10e2e0a1b881",
   "metadata": {},
   "source": [
    "Now the contract accounts show that the Djed balance has increased."
   ]
  },
  {
   "cell_type": "code",
   "execution_count": 75,
   "id": "0b6e36a4-ac6c-4ab3-aeb4-ea31cf7f4a82",
   "metadata": {},
   "outputs": [
    {
     "name": "stdout",
     "output_type": "stream",
     "text": [
      "- - - role_token: A\n",
      "    - currency_symbol: ''\n",
      "      token_name: ''\n",
      "  - 2000000\n",
      "- - - role_token: A\n",
      "    - currency_symbol: 5f10ff15e04456ec25f1a2d64e5584087e584613411e8e9051b70fbd\n",
      "      token_name: Liquidity\n",
      "  - 9331525\n",
      "- - - role_token: A\n",
      "    - currency_symbol: 76ea6a9aad89b09448e7af765f5a3e89c574989d67d6371a80e58baf\n",
      "      token_name: DjedUSD\n",
      "  - 6350902\n"
     ]
    }
   ],
   "source": [
    "jq .state.accounts collective-loan-$k.marlowe | json2yaml"
   ]
  },
  {
   "cell_type": "markdown",
   "id": "da159102-cbba-4f42-bf8a-83e35c27337e",
   "metadata": {},
   "source": [
    "The contract has an excess of assets over liabilities."
   ]
  },
  {
   "cell_type": "code",
   "execution_count": 76,
   "id": "0bde6f43-0503-4e95-b286-b38b35358b0e",
   "metadata": {},
   "outputs": [
    {
     "name": "stdout",
     "output_type": "stream",
     "text": [
      "- - Liability\n",
      "  - 5668475\n",
      "- - Equity\n",
      "  - 6350902\n"
     ]
    }
   ],
   "source": [
    "jq .state.boundValues collective-loan-$k.marlowe | json2yaml"
   ]
  },
  {
   "cell_type": "markdown",
   "id": "dbbae7e7-47fe-4ced-b83d-98aa9baaa906",
   "metadata": {},
   "source": [
    "View the UTxO at the script address."
   ]
  },
  {
   "cell_type": "code",
   "execution_count": 77,
   "id": "62886e94-1f9a-4f39-981a-10c5c8df153d",
   "metadata": {},
   "outputs": [
    {
     "name": "stdout",
     "output_type": "stream",
     "text": [
      "                           TxHash                                 TxIx        Amount\n",
      "--------------------------------------------------------------------------------------\n",
      "4a265809b0f51def6d24f30d12e48b7e3d56766ffad88123e1302e1d51698813     1        2000000 lovelace + 9331525 5f10ff15e04456ec25f1a2d64e5584087e584613411e8e9051b70fbd.4c6971756964697479 + 6350902 76ea6a9aad89b09448e7af765f5a3e89c574989d67d6371a80e58baf.446a6564555344 + TxOutDatumHash ScriptDataInAlonzoEra \"f955fd24188ad5972c1b814349978b08633e7d1a1347b0455f0745d32f421cfd\"\n"
     ]
    }
   ],
   "source": [
    "cardano-cli query utxo --testnet-magic $CARDANO_TESTNET_MAGIC --address $SCRIPT_ADDR"
   ]
  },
  {
   "cell_type": "markdown",
   "id": "bd2e40e8-8fac-4891-babf-b163ca4d755e",
   "metadata": {},
   "source": [
    "There are no UTxOs at the payout address."
   ]
  },
  {
   "cell_type": "code",
   "execution_count": 78,
   "id": "eb672aed-36d0-41f3-8a2d-bf0bb6378ad6",
   "metadata": {},
   "outputs": [
    {
     "name": "stdout",
     "output_type": "stream",
     "text": [
      "                           TxHash                                 TxIx        Amount\n",
      "--------------------------------------------------------------------------------------\n"
     ]
    }
   ],
   "source": [
    "cardano-cli query utxo --testnet-magic $CARDANO_TESTNET_MAGIC --address $ROLES_ADDR"
   ]
  },
  {
   "cell_type": "markdown",
   "id": "ac58e085-0c13-4f7a-bb1f-e2e1f4792a48",
   "metadata": {},
   "source": [
    "Defragment and then view the UTxOs at the borrowers' addresses to see that they have their role tokens and Djed."
   ]
  },
  {
   "cell_type": "code",
   "execution_count": 79,
   "id": "fe779388-6958-48f9-b0e6-4412d5949b51",
   "metadata": {},
   "outputs": [
    {
     "name": "stdout",
     "output_type": "stream",
     "text": [
      "\n",
      "Borrower 1 = addr_test1qp7q4e9nlhq08mrugs8pm5uq045e425w72mxhxupq9qqgykr7cz4mu6gh005gdck67p7y9d8s8zsfgjkcdy75mrjh6jqjmt3lh\n",
      "TxId \"0a36c87b854ab158ede79ef82ff5d911e7624503fed4ca2584f79d44f0b01860\"\n",
      "                           TxHash                                 TxIx        Amount\n",
      "--------------------------------------------------------------------------------------\n",
      "0a36c87b854ab158ede79ef82ff5d911e7624503fed4ca2584f79d44f0b01860     0        418580680 lovelace + TxOutDatumNone\n",
      "0a36c87b854ab158ede79ef82ff5d911e7624503fed4ca2584f79d44f0b01860     1        2000000 lovelace + 281439 76ea6a9aad89b09448e7af765f5a3e89c574989d67d6371a80e58baf.446a6564555344 + TxOutDatumNone\n",
      "0a36c87b854ab158ede79ef82ff5d911e7624503fed4ca2584f79d44f0b01860     2        2000000 lovelace + 1 9cb30bdd840cc8b31806c20eae6ed14614d32f10379547d605064e78.424435 + TxOutDatumNone\n",
      "0a36c87b854ab158ede79ef82ff5d911e7624503fed4ca2584f79d44f0b01860     3        2000000 lovelace + 1 9cb30bdd840cc8b31806c20eae6ed14614d32f10379547d605064e78.425034 + TxOutDatumNone\n",
      "\n",
      "Borrower 2 = addr_test1qpzun0s6thsyf9qt0zyfnn50x8kpwutrv20eq8dgx9gt6tkr7cz4mu6gh005gdck67p7y9d8s8zsfgjkcdy75mrjh6jqfsjdsz\n",
      "TxId \"113f8a540b42bcabaeb31ebf3c0a71b527276f179a33f6191ca95b74a41ffe29\"\n",
      "                           TxHash                                 TxIx        Amount\n",
      "--------------------------------------------------------------------------------------\n",
      "113f8a540b42bcabaeb31ebf3c0a71b527276f179a33f6191ca95b74a41ffe29     0        322088745 lovelace + TxOutDatumNone\n",
      "113f8a540b42bcabaeb31ebf3c0a71b527276f179a33f6191ca95b74a41ffe29     1        2000000 lovelace + 406551 76ea6a9aad89b09448e7af765f5a3e89c574989d67d6371a80e58baf.446a6564555344 + TxOutDatumNone\n",
      "113f8a540b42bcabaeb31ebf3c0a71b527276f179a33f6191ca95b74a41ffe29     2        2000000 lovelace + 1 9cb30bdd840cc8b31806c20eae6ed14614d32f10379547d605064e78.424432 + TxOutDatumNone\n",
      "113f8a540b42bcabaeb31ebf3c0a71b527276f179a33f6191ca95b74a41ffe29     3        2000000 lovelace + 1 9cb30bdd840cc8b31806c20eae6ed14614d32f10379547d605064e78.425033 + TxOutDatumNone\n",
      "\n",
      "Borrower 3 = addr_test1qqpet7s339suufnxmr4vrg09469v30g59yxa70yrkxvrfekr7cz4mu6gh005gdck67p7y9d8s8zsfgjkcdy75mrjh6jq37csh4\n",
      "TxId \"22c09ab5788bf24724c15bd792856950b3ef9886640c7e6101a1a2b10394a114\"\n",
      "                           TxHash                                 TxIx        Amount\n",
      "--------------------------------------------------------------------------------------\n",
      "22c09ab5788bf24724c15bd792856950b3ef9886640c7e6101a1a2b10394a114     0        1016458543 lovelace + TxOutDatumNone\n",
      "22c09ab5788bf24724c15bd792856950b3ef9886640c7e6101a1a2b10394a114     1        2000000 lovelace + 472023 76ea6a9aad89b09448e7af765f5a3e89c574989d67d6371a80e58baf.446a6564555344 + TxOutDatumNone\n",
      "22c09ab5788bf24724c15bd792856950b3ef9886640c7e6101a1a2b10394a114     2        2000000 lovelace + 1 9cb30bdd840cc8b31806c20eae6ed14614d32f10379547d605064e78.424431 + TxOutDatumNone\n",
      "22c09ab5788bf24724c15bd792856950b3ef9886640c7e6101a1a2b10394a114     3        2000000 lovelace + 1 9cb30bdd840cc8b31806c20eae6ed14614d32f10379547d605064e78.425031 + TxOutDatumNone\n",
      "\n",
      "Borrower 4 = addr_test1qppr8ue92zznn2k3v235fuxtpcun9k32g8jn09dsq3ndvawr7cz4mu6gh005gdck67p7y9d8s8zsfgjkcdy75mrjh6jqh2lydz\n",
      "TxId \"1362fdccf5e830c85fd4178996bb665981c8aa8910225e621a270eb96759a34c\"\n",
      "                           TxHash                                 TxIx        Amount\n",
      "--------------------------------------------------------------------------------------\n",
      "1362fdccf5e830c85fd4178996bb665981c8aa8910225e621a270eb96759a34c     0        322096509 lovelace + TxOutDatumNone\n",
      "1362fdccf5e830c85fd4178996bb665981c8aa8910225e621a270eb96759a34c     1        2000000 lovelace + 415356 76ea6a9aad89b09448e7af765f5a3e89c574989d67d6371a80e58baf.446a6564555344 + TxOutDatumNone\n",
      "1362fdccf5e830c85fd4178996bb665981c8aa8910225e621a270eb96759a34c     2        2000000 lovelace + 1 9cb30bdd840cc8b31806c20eae6ed14614d32f10379547d605064e78.424434 + TxOutDatumNone\n",
      "1362fdccf5e830c85fd4178996bb665981c8aa8910225e621a270eb96759a34c     3        2000000 lovelace + 1 9cb30bdd840cc8b31806c20eae6ed14614d32f10379547d605064e78.425035 + TxOutDatumNone\n",
      "\n",
      "Borrower 5 = addr_test1qzcee8xm57tuss5wm3yvxhpk2w7ws3h03c8w2f30tlqahhkr7cz4mu6gh005gdck67p7y9d8s8zsfgjkcdy75mrjh6jqgtpxaq\n",
      "TxId \"f76daed32201f6e0c882d54385d3c9bbd2454cc65d8c34008e11fba117f29cb4\"\n",
      "                           TxHash                                 TxIx        Amount\n",
      "--------------------------------------------------------------------------------------\n",
      "f76daed32201f6e0c882d54385d3c9bbd2454cc65d8c34008e11fba117f29cb4     0        7170252746 lovelace + TxOutDatumNone\n",
      "f76daed32201f6e0c882d54385d3c9bbd2454cc65d8c34008e11fba117f29cb4     1        2000000 lovelace + 242204 76ea6a9aad89b09448e7af765f5a3e89c574989d67d6371a80e58baf.446a6564555344 + TxOutDatumNone\n",
      "f76daed32201f6e0c882d54385d3c9bbd2454cc65d8c34008e11fba117f29cb4     2        2000000 lovelace + 1 9cb30bdd840cc8b31806c20eae6ed14614d32f10379547d605064e78.424433 + TxOutDatumNone\n",
      "f76daed32201f6e0c882d54385d3c9bbd2454cc65d8c34008e11fba117f29cb4     3        2000000 lovelace + 1 9cb30bdd840cc8b31806c20eae6ed14614d32f10379547d605064e78.425032 + TxOutDatumNone\n"
     ]
    }
   ],
   "source": [
    "for j in `seq 1 $N_BORROWERS`\n",
    "do\n",
    "  echo\n",
    "  echo \"Borrower $j = ${BORROWER_ADDR[$j]}\"\n",
    "  marlowe-cli util clean --required-signer ${BORROWER_SKEY[$j]} --change-address ${BORROWER_ADDR[$j]} --out-file /dev/null --submit 600\n",
    "  cardano-cli query utxo --testnet-magic $CARDANO_TESTNET_MAGIC --address ${BORROWER_ADDR[$j]}\n",
    "done"
   ]
  },
  {
   "cell_type": "markdown",
   "id": "be874567-fa9b-49a4-9066-4da8595871ec",
   "metadata": {
    "tags": []
   },
   "source": [
    "### 7. The lenders redeem their liquidity tokens"
   ]
  },
  {
   "cell_type": "markdown",
   "id": "810b1ecc-47a5-463e-aeda-e9c563e85493",
   "metadata": {},
   "source": [
    "Lenders redeem in random order."
   ]
  },
  {
   "cell_type": "code",
   "execution_count": 80,
   "id": "27281888-c24b-49da-8615-2d2371a54929",
   "metadata": {},
   "outputs": [
    {
     "name": "stdout",
     "output_type": "stream",
     "text": [
      "2 1 3\n"
     ]
    }
   ],
   "source": [
    "INVESTMENT_ORDER=(`seq 1 $N_LENDERS | sort -R`)\n",
    "echo ${INVESTMENT_ORDER[@]}"
   ]
  },
  {
   "cell_type": "markdown",
   "id": "332cd15c-9294-4c1d-898a-e97f2970516c",
   "metadata": {},
   "source": [
    "Redeem the proceeds of the investments."
   ]
  },
  {
   "cell_type": "code",
   "execution_count": 81,
   "id": "adcd0122-b01c-4a7a-869b-86034291eb59",
   "metadata": {},
   "outputs": [
    {
     "name": "stdout",
     "output_type": "stream",
     "text": [
      "\n",
      "--- Lender redemption #1 ---\n",
      "Lender 2 requests to deposit 2056260 liquidity tokens.\n",
      "Administrator approves deposit and sends role token to lender.\n",
      "TxId \"218d54a7e95379cee16025c5f25e775f2386125b92bdf1657cfff93a1d02b711\"\n",
      "Lender deposits liquidity tokens using their newly-received role token.\n",
      "Payment 1\n",
      "  Acccount: \"A\"\n",
      "  Payee: Party \"LP1\"\n",
      "  Ada: 0.000000\n",
      "  76ea6a9aad89b09448e7af765f5a3e89c574989d67d6371a80e58baf.\"DjedUSD\": 2303813\n",
      "TxId \"99b6529a5a7f3569c5384c32f04445008c8dfb576d3fa06a043df2f76299f06e\"\n",
      "Lender withdraws their funds from the payout address.\n",
      "TxId \"db74a9327e4d2ead679074e878a320151e9287a373cdf5f2db75c31b2a53d2e3\"\n",
      "\n",
      "--- Lender redemption #2 ---\n",
      "Lender 1 requests to deposit 671391 liquidity tokens.\n",
      "Administrator approves deposit and sends role token to lender.\n",
      "TxId \"dfc739d481a9115abb3466b6b0d3d003883a88648883ad969db460ec29239b26\"\n",
      "Lender deposits liquidity tokens using their newly-received role token.\n",
      "Payment 1\n",
      "  Acccount: \"A\"\n",
      "  Payee: Party \"LP2\"\n",
      "  Ada: 0.000000\n",
      "  76ea6a9aad89b09448e7af765f5a3e89c574989d67d6371a80e58baf.\"DjedUSD\": 752220\n",
      "TxId \"766645c2cbdf946d4755bc38824744ab6f32c9384674d06895989b4477a79aed\"\n",
      "Lender withdraws their funds from the payout address.\n",
      "TxId \"4b1908ec7875821b3305cfbf9a13a9ae6231787908201bdd06beba193b2ef2b8\"\n",
      "\n",
      "--- Lender redemption #3 ---\n",
      "Lender 3 requests to deposit 2940824 liquidity tokens.\n",
      "Administrator approves deposit and sends role token to lender.\n",
      "TxId \"e82008a4309539b6e15068df5a464f0b1b7f0dacc8babdd789dcd74eb7c52474\"\n",
      "Lender deposits liquidity tokens using their newly-received role token.\n",
      "Payment 1\n",
      "  Acccount: \"A\"\n",
      "  Payee: Party \"LP3\"\n",
      "  Ada: 0.000000\n",
      "  76ea6a9aad89b09448e7af765f5a3e89c574989d67d6371a80e58baf.\"DjedUSD\": 3294869\n",
      "TxId \"01e8864a819588220d7b2693fb9ff792883c74f292e33eae327156851e16e0b2\"\n",
      "Lender withdraws their funds from the payout address.\n",
      "TxId \"eb5392a2dbde9aba847f2e2b83afece1f642ba4eecffa1ab16faf9dc73cdf984\"\n"
     ]
    }
   ],
   "source": [
    "for i in `seq 1 $N_LENDERS`\n",
    "do\n",
    "  k1=$((k+1))\n",
    "  k2=$((k+2))\n",
    "  j=${INVESTMENT_ORDER[$((i-1))]}\n",
    "  echo\n",
    "  echo \"--- Lender redemption #$i ---\"\n",
    "  ROLE=${LENDER_PAYMENT_ROLE[$i]}\n",
    "  ADDR=${LENDER_ADDR[$j]}\n",
    "  SKEY=${LENDER_SKEY[$j]}\n",
    "  AMOUNT=${INVESTMENT_AMOUNT[$j]}\n",
    "  DEADLINE=$((INVESTMENT_REPAYMENT_DEADLINE - 1 * MINUTE))\n",
    "  echo \"Lender $j requests to deposit $AMOUNT liquidity tokens.\"\n",
    "  marlowe-cli run prepare --choice-party Role=$ADMIN_ROLE            \\\n",
    "                          --choice-name \"Lender Withdrawal\"          \\\n",
    "                          --choice-number $AMOUNT                    \\\n",
    "                          --invalid-before $NOW                      \\\n",
    "                          --invalid-hereafter $DEADLINE              \\\n",
    "                          --marlowe-file collective-loan-$k.marlowe  \\\n",
    "                          --out-file     collective-loan-$k1.marlowe\n",
    "  echo \"Administrator approves deposit and sends role token to lender.\"\n",
    "  TX_ADA=$(find_ada $ADMIN_ADDR)\n",
    "  TX_NEW=$(\n",
    "  marlowe-cli run execute --marlowe-in-file collective-loan-$k.marlowe          \\\n",
    "                          --tx-in-marlowe \"$TX_OLD#1\"                           \\\n",
    "                          --tx-in-collateral $TX_ADA                            \\\n",
    "                          --tx-in $TX_ADA                                       \\\n",
    "                          --tx-in \"$(find_role_token $ADMIN_ADDR $ADMIN_ROLE)\"  \\\n",
    "                          --tx-in \"$(find_role_token $ADMIN_ADDR $ROLE)\"        \\\n",
    "                          --tx-out \"$(make_role_txout $ADMIN_ADDR $ADMIN_ROLE)\" \\\n",
    "                          --tx-out \"$(make_role_txout $ADDR $ROLE)\"             \\\n",
    "                          --marlowe-out-file collective-loan-$k1.marlowe        \\\n",
    "                          --change-address $ADMIN_ADDR                          \\\n",
    "                          --required-signer $ADMIN_SKEY                         \\\n",
    "                          --out-file /dev/null                                  \\\n",
    "                          --submit 600                                          \\\n",
    "  | sed -e 's/^TxId \"\\(.*\\)\"$/\\1/'                                              \\\n",
    "  )\n",
    "  echo 'TxId \"'$TX_NEW'\"'\n",
    "  TX_OLD=$TX_NEW\n",
    "  echo \"Lender deposits liquidity tokens using their newly-received role token.\"\n",
    "  marlowe-cli run prepare --deposit-account Role=$ADMIN_ROLE         \\\n",
    "                          --deposit-party Role=$ROLE                 \\\n",
    "                          --deposit-amount $AMOUNT                   \\\n",
    "                          --deposit-token $LIQUIDITY                 \\\n",
    "                          --invalid-before $NOW                      \\\n",
    "                          --invalid-hereafter $DEADLINE              \\\n",
    "                          --marlowe-file collective-loan-$k1.marlowe \\\n",
    "                          --out-file     collective-loan-$k2.marlowe \n",
    "  TX_ADA=$(find_ada $ADDR)\n",
    "  TX_NEW=$(\n",
    "  marlowe-cli run execute --marlowe-in-file collective-loan-$k1.marlowe  \\\n",
    "                          --tx-in-marlowe \"$TX_OLD#1\"                    \\\n",
    "                          --tx-in-collateral $TX_ADA                     \\\n",
    "                          --tx-in $TX_ADA                                \\\n",
    "                          --tx-in \"$(find_token $ADDR $LIQUIDITY)\"       \\\n",
    "                          --tx-in \"$(find_role_token $ADDR $ROLE)\"       \\\n",
    "                          --tx-out \"$(make_role_txout $ADDR $ROLE)\"      \\\n",
    "                          --marlowe-out-file collective-loan-$k2.marlowe \\\n",
    "                          --change-address $ADDR                         \\\n",
    "                          --required-signer $SKEY                        \\\n",
    "                          --out-file /dev/null                           \\\n",
    "                          --submit 600                                   \\\n",
    "  | sed -e 's/^TxId \"\\(.*\\)\"$/\\1/'                                       \\\n",
    "  )\n",
    "  echo 'TxId \"'$TX_NEW'\"'\n",
    "  TX_OLD=$TX_NEW\n",
    "  echo \"Lender withdraws their funds from the payout address.\"\n",
    "  TX_ADA=$(find_ada $ADDR)\n",
    "  marlowe-cli run withdraw --marlowe-file collective-loan-$k2.marlowe \\\n",
    "                           --role-name $ROLE                          \\\n",
    "                           --tx-in-collateral $TX_ADA                 \\\n",
    "                           --tx-in $TX_ADA                            \\\n",
    "                           --tx-in $(find_role_token $ADDR $ROLE)     \\\n",
    "                           --tx-out \"$(make_role_txout $ADDR $ROLE)\"  \\\n",
    "                           --change-address $ADDR                     \\\n",
    "                           --required-signer $SKEY                    \\\n",
    "                           --out-file /dev/null                       \\\n",
    "                           --submit 600\n",
    "  k=$k2\n",
    "done"
   ]
  },
  {
   "cell_type": "markdown",
   "id": "70501141-3e1f-4e5e-952b-134687d2fc5d",
   "metadata": {},
   "source": [
    "Now the contract accounts show that the contract only retains the liquidity tokens."
   ]
  },
  {
   "cell_type": "code",
   "execution_count": 82,
   "id": "09c30e35-574c-4e2a-95ac-275087501ac0",
   "metadata": {},
   "outputs": [
    {
     "name": "stdout",
     "output_type": "stream",
     "text": [
      "- - - role_token: A\n",
      "    - currency_symbol: ''\n",
      "      token_name: ''\n",
      "  - 2000000\n",
      "- - - role_token: A\n",
      "    - currency_symbol: 5f10ff15e04456ec25f1a2d64e5584087e584613411e8e9051b70fbd\n",
      "      token_name: Liquidity\n",
      "  - 15000000\n"
     ]
    }
   ],
   "source": [
    "jq .state.accounts collective-loan-$k.marlowe | json2yaml"
   ]
  },
  {
   "cell_type": "markdown",
   "id": "42a1bc63-951f-4899-9c8c-3c1a9491804e",
   "metadata": {},
   "source": [
    "View the UTxO at the script address."
   ]
  },
  {
   "cell_type": "code",
   "execution_count": 83,
   "id": "d625f726-7712-40e7-9e2c-182175749a94",
   "metadata": {},
   "outputs": [
    {
     "name": "stdout",
     "output_type": "stream",
     "text": [
      "                           TxHash                                 TxIx        Amount\n",
      "--------------------------------------------------------------------------------------\n",
      "01e8864a819588220d7b2693fb9ff792883c74f292e33eae327156851e16e0b2     1        2000000 lovelace + 15000000 5f10ff15e04456ec25f1a2d64e5584087e584613411e8e9051b70fbd.4c6971756964697479 + TxOutDatumHash ScriptDataInAlonzoEra \"d219dfd716b05b0417b48f6dcc255578d27e1c89d9858dbb85a47f46a2fd90ea\"\n"
     ]
    }
   ],
   "source": [
    "cardano-cli query utxo --testnet-magic $CARDANO_TESTNET_MAGIC --address $SCRIPT_ADDR"
   ]
  },
  {
   "cell_type": "markdown",
   "id": "2755dc37-e21c-4940-ac18-4d8a22942371",
   "metadata": {},
   "source": [
    "There are no UTxOs at the payout address."
   ]
  },
  {
   "cell_type": "code",
   "execution_count": 84,
   "id": "8e028491-6981-4a6a-8c5f-c0d67e13afc0",
   "metadata": {},
   "outputs": [
    {
     "name": "stdout",
     "output_type": "stream",
     "text": [
      "                           TxHash                                 TxIx        Amount\n",
      "--------------------------------------------------------------------------------------\n"
     ]
    }
   ],
   "source": [
    "cardano-cli query utxo --testnet-magic $CARDANO_TESTNET_MAGIC --address $ROLES_ADDR"
   ]
  },
  {
   "cell_type": "markdown",
   "id": "9b6d94ea-e17f-4152-a7d9-db3ca3037948",
   "metadata": {},
   "source": [
    "Defragment and then view the UTxOs at the lenders' addresses to see that they have their role tokens and liquidity tokens."
   ]
  },
  {
   "cell_type": "code",
   "execution_count": 85,
   "id": "d579fe96-c932-4d05-92f4-8ed92606d136",
   "metadata": {},
   "outputs": [
    {
     "name": "stdout",
     "output_type": "stream",
     "text": [
      "\n",
      "Lender 1 = addr_test1qzenwj7elwatk3mmc368mwnv067fqnuk3x7u4nqw5dezg8wr7cz4mu6gh005gdck67p7y9d8s8zsfgjkcdy75mrjh6jqf6k36p\n",
      "TxId \"da9c00fca523f3ecd3cf7a152ae90f3a04500937a57b0e673f5b129eaa191302\"\n",
      "                           TxHash                                 TxIx        Amount\n",
      "--------------------------------------------------------------------------------------\n",
      "da9c00fca523f3ecd3cf7a152ae90f3a04500937a57b0e673f5b129eaa191302     0        362939613 lovelace + TxOutDatumNone\n",
      "da9c00fca523f3ecd3cf7a152ae90f3a04500937a57b0e673f5b129eaa191302     1        2000000 lovelace + 5080829 76ea6a9aad89b09448e7af765f5a3e89c574989d67d6371a80e58baf.446a6564555344 + TxOutDatumNone\n",
      "da9c00fca523f3ecd3cf7a152ae90f3a04500937a57b0e673f5b129eaa191302     2        2000000 lovelace + 1 9cb30bdd840cc8b31806c20eae6ed14614d32f10379547d605064e78.4c4431 + TxOutDatumNone\n",
      "da9c00fca523f3ecd3cf7a152ae90f3a04500937a57b0e673f5b129eaa191302     3        2000000 lovelace + 1 9cb30bdd840cc8b31806c20eae6ed14614d32f10379547d605064e78.4c5032 + TxOutDatumNone\n",
      "\n",
      "Lender 2 = addr_test1qraxynufcduk7ak7nke2jm6pnc32vn7wsmm7ml30cutfgg7r7cz4mu6gh005gdck67p7y9d8s8zsfgjkcdy75mrjh6jq77wfgp\n",
      "TxId \"c4954d3ea66ad9bd8b5d64d7511878482ca747d8334d5591cbaceddad6f7527a\"\n",
      "                           TxHash                                 TxIx        Amount\n",
      "--------------------------------------------------------------------------------------\n",
      "c4954d3ea66ad9bd8b5d64d7511878482ca747d8334d5591cbaceddad6f7527a     0        273971270 lovelace + TxOutDatumNone\n",
      "c4954d3ea66ad9bd8b5d64d7511878482ca747d8334d5591cbaceddad6f7527a     1        2000000 lovelace + 5247553 76ea6a9aad89b09448e7af765f5a3e89c574989d67d6371a80e58baf.446a6564555344 + TxOutDatumNone\n",
      "c4954d3ea66ad9bd8b5d64d7511878482ca747d8334d5591cbaceddad6f7527a     2        2000000 lovelace + 1 9cb30bdd840cc8b31806c20eae6ed14614d32f10379547d605064e78.4c4433 + TxOutDatumNone\n",
      "c4954d3ea66ad9bd8b5d64d7511878482ca747d8334d5591cbaceddad6f7527a     3        2000000 lovelace + 1 9cb30bdd840cc8b31806c20eae6ed14614d32f10379547d605064e78.4c5031 + TxOutDatumNone\n",
      "\n",
      "Lender 3 = addr_test1qzlwepx5u26a8w94kfrkfem6njlam22emyhjscu0lxqrce7r7cz4mu6gh005gdck67p7y9d8s8zsfgjkcdy75mrjh6jq5jnrn3\n",
      "TxId \"9174e48aba3ad042eed186cfa744aeb1ca75dd90b01ec3f52b1256604b74b574\"\n",
      "                           TxHash                                 TxIx        Amount\n",
      "--------------------------------------------------------------------------------------\n",
      "9174e48aba3ad042eed186cfa744aeb1ca75dd90b01ec3f52b1256604b74b574     0        273479197 lovelace + TxOutDatumNone\n",
      "9174e48aba3ad042eed186cfa744aeb1ca75dd90b01ec3f52b1256604b74b574     1        2000000 lovelace + 5354045 76ea6a9aad89b09448e7af765f5a3e89c574989d67d6371a80e58baf.446a6564555344 + TxOutDatumNone\n",
      "9174e48aba3ad042eed186cfa744aeb1ca75dd90b01ec3f52b1256604b74b574     2        2000000 lovelace + 1 9cb30bdd840cc8b31806c20eae6ed14614d32f10379547d605064e78.4c4432 + TxOutDatumNone\n",
      "9174e48aba3ad042eed186cfa744aeb1ca75dd90b01ec3f52b1256604b74b574     3        2000000 lovelace + 1 9cb30bdd840cc8b31806c20eae6ed14614d32f10379547d605064e78.4c5033 + TxOutDatumNone\n"
     ]
    }
   ],
   "source": [
    "for j in `seq 1 $N_LENDERS`\n",
    "do\n",
    "  echo\n",
    "  echo \"Lender $j = ${LENDER_ADDR[$j]}\"\n",
    "  marlowe-cli util clean --required-signer ${LENDER_SKEY[$j]} --change-address ${LENDER_ADDR[$j]} --out-file /dev/null --submit 600\n",
    "  cardano-cli query utxo --testnet-magic $CARDANO_TESTNET_MAGIC --address ${LENDER_ADDR[$j]}\n",
    "done"
   ]
  },
  {
   "cell_type": "markdown",
   "id": "4437d308-1056-410c-9a10-b0f256b4382f",
   "metadata": {},
   "source": [
    "### 8. Close the contract"
   ]
  },
  {
   "cell_type": "markdown",
   "id": "6998070c-eaa0-45d5-9d0e-7cb6b7e905b5",
   "metadata": {},
   "source": [
    "The administrator receives back their initial Ada and liquidity tokens."
   ]
  },
  {
   "cell_type": "code",
   "execution_count": 86,
   "id": "7eb08ac5-1144-491c-8558-865dea9ad5cb",
   "metadata": {},
   "outputs": [
    {
     "name": "stdout",
     "output_type": "stream",
     "text": [
      "Payment 1\n",
      "  Acccount: \"A\"\n",
      "  Payee: Party \"A\"\n",
      "  Ada: 2.000000\n",
      "Payment 2\n",
      "  Acccount: \"A\"\n",
      "  Payee: Party \"A\"\n",
      "  Ada: 0.000000\n",
      "  5f10ff15e04456ec25f1a2d64e5584087e584613411e8e9051b70fbd.\"Liquidity\": 15000000\n"
     ]
    }
   ],
   "source": [
    "marlowe-cli run prepare --notify                                                \\\n",
    "                        --invalid-before $NOW                                   \\\n",
    "                        --invalid-hereafter $((ULTIMATE_DEADLINE - 1 * MINUTE)) \\\n",
    "                        --marlowe-file collective-loan-$k.marlowe               \\\n",
    "                        --out-file     collective-loan-$((1+k)).marlowe"
   ]
  },
  {
   "cell_type": "markdown",
   "id": "813a67c9-4600-44e6-adce-0b600052c3ef",
   "metadata": {},
   "source": [
    "Submit the transactions."
   ]
  },
  {
   "cell_type": "code",
   "execution_count": 87,
   "id": "ad125e81-64c6-454e-8903-1195a427bd03",
   "metadata": {},
   "outputs": [
    {
     "name": "stdout",
     "output_type": "stream",
     "text": [
      "TxId \"50ccb80d408689a8060b17fe9e81b15f2e3c4e77527304051140237988e2ba40\"\n"
     ]
    }
   ],
   "source": [
    "TX_ADA=$(find_ada $ADMIN_ADDR)\n",
    "marlowe-cli run execute --marlowe-in-file collective-loan-$k.marlowe          \\\n",
    "                        --tx-in-marlowe \"$TX_OLD#1\"                           \\\n",
    "                        --tx-in-collateral $TX_ADA                            \\\n",
    "                        --tx-in $TX_ADA                                       \\\n",
    "                        --tx-in \"$(find_role_token $ADMIN_ADDR $ADMIN_ROLE)\"  \\\n",
    "                        --tx-out \"$(make_role_txout $ADMIN_ADDR $ADMIN_ROLE)\" \\\n",
    "                        --marlowe-out-file collective-loan-$((k+1)).marlowe   \\\n",
    "                        --change-address $ADMIN_ADDR                          \\\n",
    "                        --required-signer $ADMIN_SKEY                         \\\n",
    "                        --out-file /dev/null                                  \\\n",
    "                        --submit 600      "
   ]
  },
  {
   "cell_type": "code",
   "execution_count": 88,
   "id": "0203c120-5962-4462-a92d-31de0438d716",
   "metadata": {},
   "outputs": [
    {
     "name": "stdout",
     "output_type": "stream",
     "text": [
      "TxId \"c9ba7397c70f480f0ab6578e81ced30f659886e9e5a3fa425b12a405d6e5e7a8\"\n"
     ]
    }
   ],
   "source": [
    "TX_ADA=$(find_ada $ADMIN_ADDR)\n",
    "marlowe-cli run withdraw --marlowe-file collective-loan-$((k+1)).marlowe       \\\n",
    "                         --role-name $ADMIN_ROLE                               \\\n",
    "                         --tx-in-collateral $TX_ADA                            \\\n",
    "                         --tx-in $TX_ADA                                       \\\n",
    "                         --tx-in $(find_role_token $ADMIN_ADDR $ADMIN_ROLE)    \\\n",
    "                         --tx-out \"$(make_role_txout $ADMIN_ADDR $ADMIN_ROLE)\" \\\n",
    "                         --change-address $ADMIN_ADDR                          \\\n",
    "                         --required-signer $ADMIN_SKEY                         \\\n",
    "                         --out-file /dev/null                                  \\\n",
    "                         --submit 600"
   ]
  },
  {
   "cell_type": "markdown",
   "id": "e28ed408-8134-4216-95a1-356b44eb1930",
   "metadata": {},
   "source": [
    "There is no UTxO at the script address."
   ]
  },
  {
   "cell_type": "code",
   "execution_count": 89,
   "id": "9aa84c56-174c-41b8-acd6-ac48b1eb1d05",
   "metadata": {},
   "outputs": [
    {
     "name": "stdout",
     "output_type": "stream",
     "text": [
      "                           TxHash                                 TxIx        Amount\n",
      "--------------------------------------------------------------------------------------\n"
     ]
    }
   ],
   "source": [
    "cardano-cli query utxo --testnet-magic $CARDANO_TESTNET_MAGIC --address $SCRIPT_ADDR"
   ]
  },
  {
   "cell_type": "markdown",
   "id": "3a13c881-ede6-4aef-bd30-8a8a6abb40c9",
   "metadata": {},
   "source": [
    "There are no UTxOs at the payout address."
   ]
  },
  {
   "cell_type": "code",
   "execution_count": 90,
   "id": "ac415b61-a309-428e-a7a6-284c9b0710fa",
   "metadata": {},
   "outputs": [
    {
     "name": "stdout",
     "output_type": "stream",
     "text": [
      "                           TxHash                                 TxIx        Amount\n",
      "--------------------------------------------------------------------------------------\n"
     ]
    }
   ],
   "source": [
    "cardano-cli query utxo --testnet-magic $CARDANO_TESTNET_MAGIC --address $ROLES_ADDR"
   ]
  },
  {
   "cell_type": "markdown",
   "id": "63fa9ed3-3b3f-4d6c-a57d-019dd4aa34f9",
   "metadata": {},
   "source": [
    "Defragment and then view the UTxOs at the administrator's address."
   ]
  },
  {
   "cell_type": "code",
   "execution_count": 91,
   "id": "31f21c32-dd0a-4764-9790-ef2ffd3d0901",
   "metadata": {},
   "outputs": [
    {
     "name": "stdout",
     "output_type": "stream",
     "text": [
      "TxId \"6e939cfbde7b02458da795102f7cdfa0be13f4d3c444559204e70c72f89f278b\"\n",
      "                           TxHash                                 TxIx        Amount\n",
      "--------------------------------------------------------------------------------------\n",
      "6e939cfbde7b02458da795102f7cdfa0be13f4d3c444559204e70c72f89f278b     0        1957201789 lovelace + TxOutDatumNone\n",
      "6e939cfbde7b02458da795102f7cdfa0be13f4d3c444559204e70c72f89f278b     1        2000000 lovelace + 15000000 5f10ff15e04456ec25f1a2d64e5584087e584613411e8e9051b70fbd.4c6971756964697479 + TxOutDatumNone\n",
      "6e939cfbde7b02458da795102f7cdfa0be13f4d3c444559204e70c72f89f278b     2        2000000 lovelace + 1 9cb30bdd840cc8b31806c20eae6ed14614d32f10379547d605064e78.41 + TxOutDatumNone\n"
     ]
    }
   ],
   "source": [
    "marlowe-cli util clean --required-signer $ADMIN_SKEY --change-address $ADMIN_ADDR --out-file /dev/null --submit 600\n",
    "cardano-cli query utxo --testnet-magic $CARDANO_TESTNET_MAGIC --address $ADMIN_ADDR"
   ]
  },
  {
   "cell_type": "markdown",
   "id": "8eb504ec-fa3b-4f7d-a87c-e1ebadec62fa",
   "metadata": {},
   "source": [
    "## Clean Up"
   ]
  },
  {
   "cell_type": "markdown",
   "id": "42fc479e-bb80-4233-928d-9cb6959d6847",
   "metadata": {},
   "source": [
    "Use Daedalus to send all of the lender and borrower tokens to the administrator."
   ]
  },
  {
   "cell_type": "code",
   "execution_count": 92,
   "id": "76995f54-0ddd-48e6-8a7e-28e450b3c459",
   "metadata": {},
   "outputs": [
    {
     "name": "stdout",
     "output_type": "stream",
     "text": [
      "addr_test1vrssw4edcts00kk6lp7p5n64666m23tpprqaarmdwkaq69gfvqnpz\n"
     ]
    },
    {
     "ename": "",
     "evalue": "1",
     "output_type": "error",
     "traceback": []
    }
   ],
   "source": [
    "echo $ADMIN_ADDR\n",
    "false"
   ]
  },
  {
   "cell_type": "markdown",
   "id": "281af327-74cb-4da0-8d23-db80366621e3",
   "metadata": {},
   "source": [
    "Burn the Djed."
   ]
  },
  {
   "cell_type": "code",
   "execution_count": 93,
   "id": "d271da6e-980c-492b-a213-b138dd066445",
   "metadata": {},
   "outputs": [
    {
     "name": "stdout",
     "output_type": "stream",
     "text": [
      "PolicyID \"76ea6a9aad89b09448e7af765f5a3e89c574989d67d6371a80e58baf\"\n"
     ]
    }
   ],
   "source": [
    "marlowe-cli util mint --required-signer $ADMIN_SKEY \\\n",
    "                      --change-address $ADMIN_ADDR  \\\n",
    "                      --expires 1000000011          \\\n",
    "                      --count -$TOTAL_DJED          \\\n",
    "                      --out-file /dev/null          \\\n",
    "                      --submit 600                  \\\n",
    "                      $DJED_NAME"
   ]
  },
  {
   "cell_type": "markdown",
   "id": "a20aa300-9d09-4d1b-a2bd-2b3e5b708a29",
   "metadata": {},
   "source": [
    "Burn the liquidity tokens."
   ]
  },
  {
   "cell_type": "code",
   "execution_count": 94,
   "id": "0ca9a6e5-e7ef-4e98-9398-889a79d0d98f",
   "metadata": {},
   "outputs": [
    {
     "name": "stdout",
     "output_type": "stream",
     "text": [
      "PolicyID \"5f10ff15e04456ec25f1a2d64e5584087e584613411e8e9051b70fbd\"\n"
     ]
    }
   ],
   "source": [
    "marlowe-cli util mint --required-signer $ADMIN_SKEY \\\n",
    "                      --change-address $ADMIN_ADDR  \\\n",
    "                      --expires 1000000012          \\\n",
    "                      --count -$POOL_SIZE           \\\n",
    "                      --out-file /dev/null          \\\n",
    "                      --submit 600                  \\\n",
    "                      $LIQUIDITY_NAME"
   ]
  },
  {
   "cell_type": "markdown",
   "id": "80230cf6-a9f2-4df2-a6d6-45444828b88f",
   "metadata": {},
   "source": [
    "Burn the role tokens."
   ]
  },
  {
   "cell_type": "code",
   "execution_count": 95,
   "id": "5e4708bd-36a2-4d93-9a71-0255698be797",
   "metadata": {},
   "outputs": [
    {
     "name": "stdout",
     "output_type": "stream",
     "text": [
      "PolicyID \"9cb30bdd840cc8b31806c20eae6ed14614d32f10379547d605064e78\"\n"
     ]
    }
   ],
   "source": [
    "marlowe-cli util mint --required-signer $ADMIN_SKEY \\\n",
    "                      --change-address $ADMIN_ADDR  \\\n",
    "                      --expires 1000000013          \\\n",
    "                      --count -1                    \\\n",
    "                      --out-file /dev/null          \\\n",
    "                      --submit 600                  \\\n",
    "                      $ADMIN_ROLE                   \\\n",
    "                      ${LENDER_DEPOSIT_ROLE[@]}     \\\n",
    "                      ${LENDER_PAYMENT_ROLE[@]}     \\\n",
    "                      ${BORROWER_DEPOSIT_ROLE[@]}   \\\n",
    "                      ${BORROWER_PAYMENT_ROLE[@]}"
   ]
  },
  {
   "cell_type": "markdown",
   "id": "14b80c8a-811c-4769-9071-0318983d90f7",
   "metadata": {},
   "source": [
    "Check that all of the burning was successful."
   ]
  },
  {
   "cell_type": "code",
   "execution_count": 96,
   "id": "da5c3048-bd46-4912-879a-2ce4c14b7896",
   "metadata": {},
   "outputs": [
    {
     "name": "stdout",
     "output_type": "stream",
     "text": [
      "                           TxHash                                 TxIx        Amount\n",
      "--------------------------------------------------------------------------------------\n",
      "8a1223d920eb6674ab94db7434218e4e04874affaffcfb94dff6694c660a3e44     0        1962860880 lovelace + TxOutDatumNone\n"
     ]
    }
   ],
   "source": [
    "cardano-cli query utxo --testnet-magic $CARDANO_TESTNET_MAGIC --address $ADMIN_ADDR"
   ]
  }
 ],
 "metadata": {
  "kernelspec": {
   "display_name": "Bash - Marlowe",
   "language": "bash",
   "name": "bash_marlowe"
  },
  "language_info": {
   "codemirror_mode": "shell",
   "file_extension": ".sh",
   "mimetype": "text/x-sh",
   "name": "/nix/store/zwjm0gln1vk7x1akpyz0yxjsd1yc46gi-bash-5.1-p16/bin/bash"
  }
 },
 "nbformat": 4,
 "nbformat_minor": 5
}
