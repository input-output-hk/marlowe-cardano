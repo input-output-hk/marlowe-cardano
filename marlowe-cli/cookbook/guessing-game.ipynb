{
 "cells": [
  {
   "cell_type": "markdown",
   "id": "d2282dae-c7b1-4dec-9e9d-f66dcff5e767",
   "metadata": {},
   "source": [
    "# Marlowe Contract for Guessing Game\n",
    "\n",
    "This Marlowe contract demonstrates how to store private data on the public blockchain in a Marlowe contract. It uses the fact that it is difficult to factor the product of two prime numbers.\n",
    "\n",
    "⚠️ *NB: This is just an illustrative example to stretech the limits of the Marlowe language. It is only lightly tested and has not undergone any cryptographic review.*\n",
    "\n",
    "\n",
    "## Rules of the Guessing Game\n",
    "\n",
    "The gist of the game is that Bob needs to guess whether Alice secretly selected a positive or a negative number. If Bob chooses correctly, they win a wager; otherwise, Alice wins the wager.\n",
    "\n",
    "1.   Alice and Bob each deposit the wager.\n",
    "2.   Alice secretly selects two 24-digit prime numbers from https://bigprimes.org/. Call these `Smaller Secret Prime` and `Larger Secret Prime`.\n",
    "3.   Alice makes the contract choice `Product of Secret Primes` with the product of `Smaller Secret Prime` and `Larger Secret Prime`.\n",
    "4.   Alices secretly selects a random 23-digit positive or negative number. Call this `Plain Text`.\n",
    "5.   Alices adds `Plain Text` to `Smaller Secret Prime` and makes the contract choice `Cipher Text`.\n",
    "6.   Bob makes the contract choice `1` if they bet that Alice's `Plain Text` is a positive number. Otherwise Bob makes the contract choice `0`.\n",
    "7.   Alice reveals their `Smaller Secret Prime` by making that contract choice.\n",
    "8.   If Alice's `Smaller Secret Prime` is not a smaller factor of `Product of Secret Primes`, then Alice loses her wager.\n",
    "9.   Otherwise, Bob may challenge Alice's `Smaller Secret Prime` by making the contract choice `Smaller Challenge Prime`. If that is indeed a smaller prime factor, then they win the wager; otherwise, Alice wins the wager. Bob can use a Linux utility like `factor` to find if Alice cheated by not providing the smallest prime factor of the `Product of Secret Primes`.\n",
    "10.   Lastly, the contract computes `Plain Text` and awards the wager to Bob if they correctly guessed that the `Plain Text` was positive. Otherwise, the contract awards the wager to Alice.\n",
    "\n",
    "\n",
    "## Choosing the Secret Primes\n",
    "\n",
    "*   The number of digits in the product of the two primes has to be large enough so that Bob *cannot* factor the `Product of Secret Primes` for less money than is the wager is worth.\n",
    "*   However, the number of digits in the product of primes has to be small enough so that Bob *can* cheaply factor the `Product of Secret Primes` if it is the product of three or more primes instead of just two.\n",
    "*   A 48-digit `Product of Secret Primes` seems appropriate because it takes a long time for the Linux `factor` program to factor the product of two 24-digit primes, but a short time for it to factor the product of three 16-digit primes.\n",
    "\n",
    "\n",
    "## Examples\n",
    "\n",
    "### Alice Doesn't Cheat\n",
    "\n",
    "1.  Alice and Bob make their deposits.\n",
    "2.  Alice secretly selects the primes 418133219637912482167661 and 442045966004935111389041\n",
    "3.  Alice chooses `Product of Secret Primes` = 184834102993594727417632924514462037620360003101.\n",
    "4.  Alice secretly selects `Plain Text` = 19295759350583799993723\n",
    "5.  Alice chooses `Cipher Text` = 437428978988496282161384.\n",
    "6.  Bob chooses `Plain Text is Positive` = 0, guessing that Alice's plain text is less than zero.\n",
    "7.  Alice chooses `Smaller Secret Prime` = 418133219637912482167661.\n",
    "8.  Bob runs the Linux command `factor 184834102993594727417632924514462037620360003101`, but it doesn't find any factors in many minutes.\n",
    "9.  Bob lets the next timeout pass, since they do not want to challenge Alice.\n",
    "10. The contract pays the wager to Alice because Bob incorrectly guessed correctly that `Plain Text` was negative.\n",
    "\n",
    "### Alice Does Cheat\n",
    "\n",
    "1.  Alice and Bob make their deposits.\n",
    "2.  Alice secretly selects three primes 6240425729022497, 7445375476229597, and 9149696769535051.\n",
    "3.  Alices chooses `Product of Secret Primes` = 425116072270803373983726731189192374944067744159.\n",
    "4.  Alice cleverly chooses `Cipher Text` = 6984737363688812, which is between the two lower primes.\n",
    "5.  Bob chooses `Plain Text is Positive`= 1, guessing that Alice's plain text is greater than zero.\n",
    "6.  Since Alice sees that Bob guessed negative, Alice chooses `Smaller Secret Prime` = 7445375476229597, even though that is false, since this would mean that `Plain Text` = `Cipher Text` - `Smaller Secret Prime` would be negative and Bob would lose the wager.\n",
    "7.  However, Bob runs the Linux command `factor 190125153026841891465807101762005016303854862683`, and in fifteen seconds discovers the three factors and sees that 6240425729022497 is lower than the one that Alice reported.\n",
    "8.  Bob chooses `Smaller Challenge Prime` = 6240425729022497.\n",
    "9.  The contract pays Bob because Bob proved that Alice cheated. If Bob had not challenged Alice, Alice's cheating would not have been detected and Alice would have won the wager."
   ]
  },
  {
   "cell_type": "markdown",
   "id": "766ae697-3fff-46e7-97ad-25d43987c440",
   "metadata": {
    "tags": []
   },
   "source": [
    "## Preliminaries"
   ]
  },
  {
   "cell_type": "markdown",
   "id": "c27b9add-75d2-43c0-bdfa-5e307d0d7ec4",
   "metadata": {},
   "source": [
    "Make a note of the versions of the Marlowe repository and software."
   ]
  },
  {
   "cell_type": "code",
   "execution_count": 1,
   "id": "59b0f329-1f59-4366-b4dc-34b9e4adee00",
   "metadata": {},
   "outputs": [
    {
     "name": "stdout",
     "output_type": "stream",
     "text": [
      "marlowe-cli 0.0.5.0\n"
     ]
    }
   ],
   "source": [
    "marlowe-cli --version"
   ]
  },
  {
   "cell_type": "code",
   "execution_count": 2,
   "id": "dcac1a0e-f533-4cad-b474-c1f122f79cce",
   "metadata": {},
   "outputs": [
    {
     "name": "stdout",
     "output_type": "stream",
     "text": [
      "cardano-cli 1.34.1 - linux-x86_64 - ghc-8.10\n",
      "git rev 0000000000000000000000000000000000000000\n"
     ]
    }
   ],
   "source": [
    "cardano-cli --version"
   ]
  },
  {
   "cell_type": "code",
   "execution_count": 3,
   "id": "85240b4e-2412-4530-95e4-5219eb8a9780",
   "metadata": {},
   "outputs": [
    {
     "name": "stdout",
     "output_type": "stream",
     "text": [
      "de3ca53f994f989ba7f5693e5e03bdfbcd52beee\n"
     ]
    }
   ],
   "source": [
    "git rev-parse HEAD"
   ]
  },
  {
   "cell_type": "markdown",
   "id": "0a7fcb94-db1e-4800-ae68-68ee488599ce",
   "metadata": {},
   "source": [
    "### Select the Cardano network"
   ]
  },
  {
   "cell_type": "code",
   "execution_count": 4,
   "id": "60ab7ef1-d69a-4d40-aa20-894916013cf2",
   "metadata": {},
   "outputs": [],
   "source": [
    "export CARDANO_TESTNET_MAGIC=1567\n",
    "export CARDANO_NODE_SOCKET_PATH=node.socket"
   ]
  },
  {
   "cell_type": "markdown",
   "id": "a4d471e2-0e05-428d-a32d-75b56c7e4eb0",
   "metadata": {},
   "source": [
    "### Set up keys, addresses, and tokens\n",
    "\n",
    "This section can be omitted if only off-chain simulation is performed.\n",
    "\n",
    "We use public key hashes instead of role tokens to identify the participants in the contract."
   ]
  },
  {
   "cell_type": "markdown",
   "id": "a40630f6-964b-473b-8e74-6203b45d96e6",
   "metadata": {},
   "source": [
    "### Parties to the Contract"
   ]
  },
  {
   "cell_type": "markdown",
   "id": "40ad5b54-f275-490f-8211-1c5094db7b23",
   "metadata": {},
   "source": [
    "#### Alice"
   ]
  },
  {
   "cell_type": "code",
   "execution_count": 5,
   "id": "67c1b16c-eab5-480c-a745-c4dd495e9dd6",
   "metadata": {},
   "outputs": [
    {
     "name": "stdout",
     "output_type": "stream",
     "text": [
      "addr_test1vryrafsnj3wt3as5pgeng8ddh42gq0dk8gphkz3mx8utzncet8j7q\n",
      "c83ea613945cb8f6140a33341dadbd54803db63a037b0a3b31f8b14f\n"
     ]
    }
   ],
   "source": [
    "ALICE_SKEY=alice.skey\n",
    "ALICE_VKEY=alice.vkey\n",
    "ALICE_PKH=$(cardano-cli address key-hash --payment-verification-key-file $ALICE_VKEY)\n",
    "ALICE_ADDR=$(cardano-cli address build --testnet-magic $CARDANO_TESTNET_MAGIC --payment-verification-key-file $ALICE_VKEY)\n",
    "echo $ALICE_ADDR\n",
    "echo $ALICE_PKH"
   ]
  },
  {
   "cell_type": "markdown",
   "id": "4c4c8b5b-f456-4551-86f3-c6394c6d907f",
   "metadata": {},
   "source": [
    "Alice has these UTxOs at her address:"
   ]
  },
  {
   "cell_type": "code",
   "execution_count": 6,
   "id": "02b32d34-1833-4520-ae0c-055e1f177beb",
   "metadata": {},
   "outputs": [
    {
     "name": "stdout",
     "output_type": "stream",
     "text": [
      "                           TxHash                                 TxIx        Amount\n",
      "--------------------------------------------------------------------------------------\n",
      "96ca02355fd1fea54ee5865695bc88c94b301c614a714f8bf7c78a92db1891e8     1        202000000 lovelace + TxOutDatumNone\n",
      "be211601347db446ec179e6659fa9a7c9d01f10d8912fa424179d7936dd9fb55     0        891717640 lovelace + TxOutDatumNone\n"
     ]
    }
   ],
   "source": [
    "cardano-cli query utxo --testnet-magic $CARDANO_TESTNET_MAGIC --address $ALICE_ADDR"
   ]
  },
  {
   "cell_type": "markdown",
   "id": "0ab83a0b-369a-4c74-b8a3-0700e9536c36",
   "metadata": {},
   "source": [
    "Make a note of this UTxO for later use."
   ]
  },
  {
   "cell_type": "code",
   "execution_count": 7,
   "id": "91cad782-72f5-4103-9e88-ec25704d9cc3",
   "metadata": {},
   "outputs": [
    {
     "name": "stdout",
     "output_type": "stream",
     "text": [
      "be211601347db446ec179e6659fa9a7c9d01f10d8912fa424179d7936dd9fb55#0\n"
     ]
    }
   ],
   "source": [
    "TX_0_ALICE=$(marlowe-cli util select --lovelace-only 300000000 $ALICE_ADDR | sed -e 's/^TxIn \"\\(.*\\)\" (TxIx \\(.*\\))$/\\1#\\2/')\n",
    "echo $TX_0_ALICE"
   ]
  },
  {
   "cell_type": "markdown",
   "id": "f4f8b755-2a96-4c55-b37b-8b8b6fb8ca26",
   "metadata": {},
   "source": [
    "#### Bob"
   ]
  },
  {
   "cell_type": "code",
   "execution_count": 8,
   "id": "d2a8af1f-7cf8-417b-90ea-cb9c6bec2ac2",
   "metadata": {},
   "outputs": [
    {
     "name": "stdout",
     "output_type": "stream",
     "text": [
      "addr_test1vzl43spe69knxgfl5eqxrr89lwkef3elskmapjvzmy6akmc29ya5n\n",
      "bf58c039d16d33213fa640618ce5fbad94c73f85b7d0c982d935db6f\n"
     ]
    }
   ],
   "source": [
    "BOB_SKEY=bob.skey\n",
    "BOB_VKEY=bob.vkey\n",
    "BOB_PKH=$(cardano-cli address key-hash --payment-verification-key-file $BOB_VKEY)\n",
    "BOB_ADDR=$(cardano-cli address build --testnet-magic $CARDANO_TESTNET_MAGIC --payment-verification-key-file $BOB_VKEY)\n",
    "echo $BOB_ADDR\n",
    "echo $BOB_PKH"
   ]
  },
  {
   "cell_type": "markdown",
   "id": "b1d49237-9fdc-4017-b0cb-68e1352c1fc0",
   "metadata": {},
   "source": [
    "Bob has these UTxOs at his address:"
   ]
  },
  {
   "cell_type": "code",
   "execution_count": 9,
   "id": "72eb7ab2-999d-4f83-8c05-e02da98a27d3",
   "metadata": {},
   "outputs": [
    {
     "name": "stdout",
     "output_type": "stream",
     "text": [
      "                           TxHash                                 TxIx        Amount\n",
      "--------------------------------------------------------------------------------------\n",
      "96ca02355fd1fea54ee5865695bc88c94b301c614a714f8bf7c78a92db1891e8     0        895799596 lovelace + TxOutDatumNone\n"
     ]
    }
   ],
   "source": [
    "cardano-cli query utxo --testnet-magic $CARDANO_TESTNET_MAGIC --address $BOB_ADDR"
   ]
  },
  {
   "cell_type": "markdown",
   "id": "dd8212c4-6981-48ba-ad6e-1943d30b97c3",
   "metadata": {},
   "source": [
    "Make a note of these UTxOs for later use."
   ]
  },
  {
   "cell_type": "code",
   "execution_count": 10,
   "id": "4c22f0b6-8fb2-47ea-8fc1-036d24a4fb77",
   "metadata": {},
   "outputs": [
    {
     "name": "stdout",
     "output_type": "stream",
     "text": [
      "96ca02355fd1fea54ee5865695bc88c94b301c614a714f8bf7c78a92db1891e8#0\n"
     ]
    }
   ],
   "source": [
    "TX_0_BOB=$(marlowe-cli util select --lovelace-only 300000000 $BOB_ADDR | sed -e 's/^TxIn \"\\(.*\\)\" (TxIx \\(.*\\))$/\\1#\\2/')\n",
    "echo $TX_0_BOB"
   ]
  },
  {
   "cell_type": "markdown",
   "id": "9d7994be-8723-43bf-b98f-640188948e42",
   "metadata": {},
   "source": [
    "### Set up the contract\n",
    "\n",
    "Start the contract at the current time."
   ]
  },
  {
   "cell_type": "code",
   "execution_count": 11,
   "id": "932d174a-1092-4c5f-9da1-4dd84bd6eb81",
   "metadata": {},
   "outputs": [
    {
     "name": "stdout",
     "output_type": "stream",
     "text": [
      "1658677424000\n"
     ]
    }
   ],
   "source": [
    "NOW=$(($(date -u +%s) * 1000))\n",
    "echo $NOW"
   ]
  },
  {
   "cell_type": "markdown",
   "id": "27dbb3ab-91f2-4278-92ea-d43b698c8f02",
   "metadata": {},
   "source": [
    "The game lasts 30 minutes."
   ]
  },
  {
   "cell_type": "code",
   "execution_count": 12,
   "id": "7fa679ff-78aa-4b72-92c6-58c5f9341ff0",
   "metadata": {},
   "outputs": [
    {
     "name": "stdout",
     "output_type": "stream",
     "text": [
      "1658679224000\n"
     ]
    }
   ],
   "source": [
    "MINUTES=$((60 * 1000))\n",
    "END=$((NOW + 30 * MINUTES))\n",
    "echo $END"
   ]
  },
  {
   "cell_type": "markdown",
   "id": "600ccf78-e0ef-4cf2-878b-8fb65c69fd87",
   "metadata": {},
   "source": [
    "All of the transactions for the game will be sent before the 30 minutes."
   ]
  },
  {
   "cell_type": "code",
   "execution_count": 13,
   "id": "b43c72cd-d15c-4323-aee7-09e95c17cae9",
   "metadata": {},
   "outputs": [
    {
     "name": "stdout",
     "output_type": "stream",
     "text": [
      "1658679223000\n"
     ]
    }
   ],
   "source": [
    "LATER=$((END - 1000))\n",
    "echo $LATER"
   ]
  },
  {
   "cell_type": "markdown",
   "id": "abeb8d27-6010-459f-905e-caf65739757a",
   "metadata": {},
   "source": [
    "There is a minimum Ada requirement associated with a native token."
   ]
  },
  {
   "cell_type": "code",
   "execution_count": 14,
   "id": "88f6d4e0-2271-42cc-9cfe-177362edf9e9",
   "metadata": {},
   "outputs": [
    {
     "name": "stdout",
     "output_type": "stream",
     "text": [
      "2000000\n"
     ]
    }
   ],
   "source": [
    "ADA=1000000\n",
    "MIN_ADA=$((2 * ADA))\n",
    "echo $MIN_ADA"
   ]
  },
  {
   "cell_type": "markdown",
   "id": "16e9346d-b183-4e58-92a0-fd63dff0d9fb",
   "metadata": {},
   "source": [
    "Create a Haskell program that will generate a contract with six rounds of bidding for three bidders. We could use `runhaskell` instead of `ghc`, but `runhaskell` is slow because it doesn't perform optimizations."
   ]
  },
  {
   "cell_type": "code",
   "execution_count": 15,
   "id": "653abe3f-e29e-45eb-b274-8dcab270507e",
   "metadata": {},
   "outputs": [
    {
     "name": "stdout",
     "output_type": "stream",
     "text": [
      "100000000\n"
     ]
    }
   ],
   "source": [
    "WAGER=$((100 * ADA))\n",
    "echo $WAGER"
   ]
  },
  {
   "cell_type": "code",
   "execution_count": 16,
   "id": "5e86a115-5b6a-4e65-9a36-63b781eb4685",
   "metadata": {},
   "outputs": [],
   "source": [
    "runhaskell << EOI\n",
    "\n",
    "{-# LANGUAGE OverloadedStrings #-}\n",
    "\n",
    "module GuessingGame where\n",
    "\n",
    "import Data.Aeson (encodeFile)\n",
    "import Language.Marlowe.Core.V1.Semantics.Types\n",
    "import Plutus.V1.Ledger.Api (POSIXTime(..))\n",
    "\n",
    "main :: IO ()\n",
    "main =\n",
    "  encodeFile \"guessing-game-01.contract\"\n",
    "    $ When\n",
    "    [Case\n",
    "        (Deposit\n",
    "            (PK \"$ALICE_PKH\")\n",
    "            (PK \"$ALICE_PKH\")\n",
    "            (Token \"\" \"\")\n",
    "            (Constant $WAGER)\n",
    "        )\n",
    "        (When\n",
    "            [Case\n",
    "                (Deposit\n",
    "                    (PK \"$BOB_PKH\")\n",
    "                    (PK \"$BOB_PKH\")\n",
    "                    (Token \"\" \"\")\n",
    "                    (Constant $WAGER)\n",
    "                )\n",
    "                (When\n",
    "                    [Case\n",
    "                        (Choice\n",
    "                            (ChoiceId\n",
    "                                \"Product of Two Primes\"\n",
    "                                (PK \"$ALICE_PKH\")\n",
    "                            )\n",
    "                            [Bound 10000000000000000000000000000000000000000000000 100000000000000000000000000000000000000000000000000]\n",
    "                        )\n",
    "                        (When\n",
    "                            [Case\n",
    "                                (Choice\n",
    "                                    (ChoiceId\n",
    "                                        \"Cipher Text\"\n",
    "                                        (PK \"$ALICE_PKH\")\n",
    "                                    )\n",
    "                                    [Bound 1000000000000000 100000000000000000000000000]\n",
    "                                )\n",
    "                                (When\n",
    "                                    [Case\n",
    "                                        (Choice\n",
    "                                            (ChoiceId\n",
    "                                                \"Plain Text is Positive\"\n",
    "                                                (PK \"$BOB_PKH\")\n",
    "                                            )\n",
    "                                            [Bound 0 1]\n",
    "                                        )\n",
    "                                        (When\n",
    "                                            [Case\n",
    "                                                (Choice\n",
    "                                                    (ChoiceId\n",
    "                                                        \"Smaller Secret Prime\"\n",
    "                                                        (PK \"$ALICE_PKH\")\n",
    "                                                    )\n",
    "                                                    [Bound 1000000000000000 10000000000000000000000000]\n",
    "                                                )\n",
    "                                                (Let\n",
    "                                                    \"Larger Secret Prime\"\n",
    "                                                    (DivValue\n",
    "                                                        (ChoiceValue\n",
    "                                                            (ChoiceId\n",
    "                                                                \"Product of Two Primes\"\n",
    "                                                                (PK \"$ALICE_PKH\")\n",
    "                                                            ))\n",
    "                                                        (ChoiceValue\n",
    "                                                            (ChoiceId\n",
    "                                                                \"Smaller Secret Prime\"\n",
    "                                                                (PK \"$ALICE_PKH\")\n",
    "                                                            ))\n",
    "                                                    )\n",
    "                                                    (If\n",
    "                                                        (AndObs\n",
    "                                                            (ValueLT\n",
    "                                                                (ChoiceValue\n",
    "                                                                    (ChoiceId\n",
    "                                                                        \"Smaller Secret Prime\"\n",
    "                                                                        (PK \"$ALICE_PKH\")\n",
    "                                                                    ))\n",
    "                                                                (UseValue \"Larger Secret Prime\")\n",
    "                                                            )\n",
    "                                                            (ValueEQ\n",
    "                                                                (ChoiceValue\n",
    "                                                                    (ChoiceId\n",
    "                                                                        \"Product of Two Primes\"\n",
    "                                                                        (PK \"$ALICE_PKH\")\n",
    "                                                                    ))\n",
    "                                                                (MulValue\n",
    "                                                                    (ChoiceValue\n",
    "                                                                        (ChoiceId\n",
    "                                                                            \"Smaller Secret Prime\"\n",
    "                                                                            (PK \"$ALICE_PKH\")\n",
    "                                                                        ))\n",
    "                                                                    (UseValue \"Larger Secret Prime\")\n",
    "                                                                )\n",
    "                                                            )\n",
    "                                                        )\n",
    "                                                        (When\n",
    "                                                            [Case\n",
    "                                                                (Choice\n",
    "                                                                    (ChoiceId\n",
    "                                                                        \"Smaller Challenge Prime\"\n",
    "                                                                        (PK \"$BOB_PKH\")\n",
    "                                                                    )\n",
    "                                                                    [Bound 2 100000000000000000000000000000000000000000000000000]\n",
    "                                                                )\n",
    "                                                                (Let\n",
    "                                                                    \"Larger Challenge Prime\"\n",
    "                                                                    (DivValue\n",
    "                                                                        (ChoiceValue\n",
    "                                                                            (ChoiceId\n",
    "                                                                                \"Product of Two Primes\"\n",
    "                                                                                (PK \"$ALICE_PKH\")\n",
    "                                                                            ))\n",
    "                                                                        (ChoiceValue\n",
    "                                                                            (ChoiceId\n",
    "                                                                                \"Smaller Challenge Prime\"\n",
    "                                                                                (PK \"$BOB_PKH\")\n",
    "                                                                            ))\n",
    "                                                                    )\n",
    "                                                                    (If\n",
    "                                                                        (AndObs\n",
    "                                                                            (ValueLT\n",
    "                                                                                (ChoiceValue\n",
    "                                                                                    (ChoiceId\n",
    "                                                                                        \"Smaller Challenge Prime\"\n",
    "                                                                                        (PK \"$BOB_PKH\")\n",
    "                                                                                    ))\n",
    "                                                                                (ChoiceValue\n",
    "                                                                                    (ChoiceId\n",
    "                                                                                        \"Smaller Secret Prime\"\n",
    "                                                                                        (PK \"$ALICE_PKH\")\n",
    "                                                                                    ))\n",
    "                                                                            )\n",
    "                                                                            (ValueEQ\n",
    "                                                                                (ChoiceValue\n",
    "                                                                                    (ChoiceId\n",
    "                                                                                        \"Product of Two Primes\"\n",
    "                                                                                        (PK \"$ALICE_PKH\")\n",
    "                                                                                    ))\n",
    "                                                                                (MulValue\n",
    "                                                                                    (ChoiceValue\n",
    "                                                                                        (ChoiceId\n",
    "                                                                                            \"Smaller Challenge Prime\"\n",
    "                                                                                            (PK \"$BOB_PKH\")\n",
    "                                                                                        ))\n",
    "                                                                                    (UseValue \"Larger Challenge Prime\")\n",
    "                                                                                )\n",
    "                                                                            )\n",
    "                                                                        )\n",
    "                                                                        (Pay\n",
    "                                                                            (PK \"$ALICE_PKH\")\n",
    "                                                                            (Account (PK \"$BOB_PKH\"))\n",
    "                                                                            (Token \"\" \"\")\n",
    "                                                                            (Constant $WAGER)\n",
    "                                                                            Close \n",
    "                                                                        )\n",
    "                                                                        (Pay\n",
    "                                                                            (PK \"$BOB_PKH\")\n",
    "                                                                            (Account (PK \"$ALICE_PKH\"))\n",
    "                                                                            (Token \"\" \"\")\n",
    "                                                                            (Constant $WAGER)\n",
    "                                                                            Close \n",
    "                                                                        )\n",
    "                                                                    )\n",
    "                                                                )]\n",
    "                                                            (POSIXTime $END)\n",
    "                                                            (Let\n",
    "                                                                \"Plain Text\"\n",
    "                                                                (SubValue\n",
    "                                                                    (ChoiceValue\n",
    "                                                                        (ChoiceId\n",
    "                                                                            \"Cipher Text\"\n",
    "                                                                            (PK \"$ALICE_PKH\")\n",
    "                                                                        ))\n",
    "                                                                    (ChoiceValue\n",
    "                                                                        (ChoiceId\n",
    "                                                                            \"Smaller Secret Prime\"\n",
    "                                                                            (PK \"$ALICE_PKH\")\n",
    "                                                                        ))\n",
    "                                                                )\n",
    "                                                                (If\n",
    "                                                                    (ValueGT\n",
    "                                                                        (MulValue\n",
    "                                                                            (SubValue\n",
    "                                                                                (MulValue\n",
    "                                                                                    (Constant 2)\n",
    "                                                                                    (ChoiceValue\n",
    "                                                                                        (ChoiceId\n",
    "                                                                                            \"Plain Text is Positive\"\n",
    "                                                                                            (PK \"$BOB_PKH\")\n",
    "                                                                                        ))\n",
    "                                                                                )\n",
    "                                                                                (Constant 1)\n",
    "                                                                            )\n",
    "                                                                            (UseValue \"Plain Text\")\n",
    "                                                                        )\n",
    "                                                                        (Constant 0)\n",
    "                                                                    )\n",
    "                                                                    (Pay\n",
    "                                                                        (PK \"$ALICE_PKH\")\n",
    "                                                                        (Account (PK \"$BOB_PKH\"))\n",
    "                                                                        (Token \"\" \"\")\n",
    "                                                                        (Constant $WAGER)\n",
    "                                                                        Close \n",
    "                                                                    )\n",
    "                                                                    (Pay\n",
    "                                                                        (PK \"$BOB_PKH\")\n",
    "                                                                        (Account (PK \"$ALICE_PKH\"))\n",
    "                                                                        (Token \"\" \"\")\n",
    "                                                                        (Constant $WAGER)\n",
    "                                                                        Close \n",
    "                                                                    )\n",
    "                                                                )\n",
    "                                                            )\n",
    "                                                        )\n",
    "                                                        (Pay\n",
    "                                                            (PK \"$ALICE_PKH\")\n",
    "                                                            (Account (PK \"$BOB_PKH\"))\n",
    "                                                            (Token \"\" \"\")\n",
    "                                                            (Constant $WAGER)\n",
    "                                                            Close \n",
    "                                                        )\n",
    "                                                    )\n",
    "                                                )]\n",
    "                                            (POSIXTime $END)\n",
    "                                            Close \n",
    "                                        )]\n",
    "                                    (POSIXTime $END)\n",
    "                                    Close \n",
    "                                )]\n",
    "                            (POSIXTime $END)\n",
    "                            Close \n",
    "                        )]\n",
    "                    (POSIXTime $END)\n",
    "                    Close \n",
    "                )]\n",
    "            (POSIXTime $END)\n",
    "            Close \n",
    "        )]\n",
    "    (POSIXTime $END)\n",
    "    Close \n",
    "    \n",
    "EOI"
   ]
  },
  {
   "cell_type": "markdown",
   "id": "456707bf-adfb-4171-b042-1b0756dd4063",
   "metadata": {},
   "source": [
    "### Set the initial state\n",
    "\n",
    "The Seller will deposit 2 Ada when the contract is created."
   ]
  },
  {
   "cell_type": "code",
   "execution_count": 17,
   "id": "4b95ea64-87d8-4678-b438-0559b0a1c704",
   "metadata": {},
   "outputs": [],
   "source": [
    "yaml2json << EOI > guessing-game-01.state\n",
    "accounts:\n",
    "- - - pk_hash: $ALICE_PKH\n",
    "    - currency_symbol: ''\n",
    "      token_name: ''\n",
    "  - $MIN_ADA\n",
    "boundValues: []\n",
    "choices: []\n",
    "minTime: $NOW\n",
    "EOI"
   ]
  },
  {
   "cell_type": "code",
   "execution_count": 18,
   "id": "03787fe2-9b14-4d92-a014-be6e6095eb7e",
   "metadata": {},
   "outputs": [
    {
     "name": "stdout",
     "output_type": "stream",
     "text": [
      "{\n",
      "   \"accounts\" : [\n",
      "      [\n",
      "         [\n",
      "            {\n",
      "               \"pk_hash\" : \"c83ea613945cb8f6140a33341dadbd54803db63a037b0a3b31f8b14f\"\n",
      "            },\n",
      "            {\n",
      "               \"currency_symbol\" : \"\",\n",
      "               \"token_name\" : \"\"\n",
      "            }\n",
      "         ],\n",
      "         2000000\n",
      "      ]\n",
      "   ],\n",
      "   \"boundValues\" : [],\n",
      "   \"choices\" : [],\n",
      "   \"minTime\" : 1658677424000\n",
      "}\n"
     ]
    }
   ],
   "source": [
    "json_pp < guessing-game-01.state"
   ]
  },
  {
   "cell_type": "markdown",
   "id": "f56caefe-75be-492e-bc8a-2eab8f7b6257",
   "metadata": {},
   "source": [
    "## Examples"
   ]
  },
  {
   "cell_type": "markdown",
   "id": "b949e059-7f0e-4910-8ae4-08c91b2c0a22",
   "metadata": {
    "tags": []
   },
   "source": [
    "### Alice Doesn't Cheat\n",
    "\n",
    "1.  Alice and Bob make their deposits.\n",
    "2.  Alice secretly selects the primes 418133219637912482167661 and 442045966004935111389041\n",
    "3.  Alice chooses `Product of Secret Primes` = 184834102993594727417632924514462037620360003101.\n",
    "4.  Alice secretly selects `Plain Text` = 19295759350583799993723\n",
    "5.  Alice chooses `Cipher Text` = 437428978988496282161384.\n",
    "6.  Bob chooses `Plain Text is Positive` = 0, guessing that Alice's plain text is less than zero.\n",
    "7.  Alice chooses `Smaller Secret Prime` = 418133219637912482167661.\n",
    "8.  Bob runs the Linux command `factor 184834102993594727417632924514462037620360003101`, but it doesn't find any factors in many minutes.\n",
    "9.  Bob lets the next timeout pass, since they do not want to challenge Alice.\n",
    "10. The contract pays the wager to Alice because Bob incorrectly guessed correctly that `Plain Text` was negative."
   ]
  },
  {
   "cell_type": "markdown",
   "id": "98733b41-92a8-4bd8-acae-10e27858b771",
   "metadata": {},
   "source": [
    "#### 1. Initialize the contract information\n",
    "\n",
    "Create a `.marlowe` file that contains all of the information needed to start the contract."
   ]
  },
  {
   "cell_type": "code",
   "execution_count": 19,
   "id": "06b773f1-422e-488c-8366-628784846ed7",
   "metadata": {},
   "outputs": [
    {
     "name": "stdout",
     "output_type": "stream",
     "text": [
      "\n",
      "Validator size: 12582\n",
      "Base-validator cost: ExBudget {exBudgetCPU = ExCPU 24562825, exBudgetMemory = ExMemory 82600}\n"
     ]
    }
   ],
   "source": [
    "marlowe-cli run initialize --contract-file guessing-game-01.contract  \\\n",
    "                           --state-file    guessing-game-01.state     \\\n",
    "                           --out-file      guessing-game-01a.marlowe  \\\n",
    "                           --print-stats"
   ]
  },
  {
   "cell_type": "markdown",
   "id": "85935401-e797-4836-94fd-767aa0221d7f",
   "metadata": {},
   "source": [
    "The minimum Ada deposit has been recorded."
   ]
  },
  {
   "cell_type": "code",
   "execution_count": 20,
   "id": "686c3ad2-6bad-4225-b894-e193d8cc744e",
   "metadata": {},
   "outputs": [
    {
     "name": "stdout",
     "output_type": "stream",
     "text": [
      "accounts:\n",
      "- - - pk_hash: c83ea613945cb8f6140a33341dadbd54803db63a037b0a3b31f8b14f\n",
      "    - currency_symbol: ''\n",
      "      token_name: ''\n",
      "  - 2000000\n",
      "boundValues: []\n",
      "choices: []\n",
      "minTime: 1658677424000\n"
     ]
    }
   ],
   "source": [
    "jq .state guessing-game-01a.marlowe | json2yaml"
   ]
  },
  {
   "cell_type": "markdown",
   "id": "d792ffbc-e916-4607-a8ea-984b10addd93",
   "metadata": {},
   "source": [
    "Find the script address"
   ]
  },
  {
   "cell_type": "code",
   "execution_count": 21,
   "id": "de5d6f5b-0db8-4e52-a5a2-fd6b5bacadc1",
   "metadata": {},
   "outputs": [
    {
     "name": "stdout",
     "output_type": "stream",
     "text": [
      "addr_test1wp3v2mx0ccsh4l6kjtsa86lgnsss20f3lsgcst9jr07axpcmajgcl\n"
     ]
    }
   ],
   "source": [
    "SCRIPT_ADDR=$(jq -r .marloweValidator.address guessing-game-01a.marlowe)\n",
    "echo $SCRIPT_ADDR"
   ]
  },
  {
   "cell_type": "markdown",
   "id": "cb9cb016-739e-44b1-9357-0f8196e84011",
   "metadata": {},
   "source": [
    "Submit the transaction."
   ]
  },
  {
   "cell_type": "code",
   "execution_count": 22,
   "id": "b73099cd-1cd2-433e-95ae-e47c1c17bbfc",
   "metadata": {},
   "outputs": [
    {
     "name": "stdout",
     "output_type": "stream",
     "text": [
      "\n",
      "Fee: Lovelace 286237\n",
      "Size: 2731 / 32768 = 8%\n",
      "Execution units:\n",
      "  Memory: 0 / 30000000 = 0%\n",
      "  Steps: 0 / 10000000000 = 0%\n",
      "TxId \"55a7f12d0032651bf7014e024fde60b2a8ab73dd3bcf1f36b67375b675e3fe05\"\n"
     ]
    }
   ],
   "source": [
    "TX_1=$(\n",
    "marlowe-cli run execute --tx-in \"$TX_0_ALICE\"                        \\\n",
    "                        --required-signer $ALICE_SKEY                \\\n",
    "                        --change-address $ALICE_ADDR                 \\\n",
    "                        --marlowe-out-file guessing-game-01a.marlowe \\\n",
    "                        --out-file /dev/null                         \\\n",
    "                        --submit 600                                 \\\n",
    "                        --print-stats                                \\\n",
    "| sed -e 's/^TxId \"\\(.*\\)\"$/\\1/' \\\n",
    ")\n",
    "echo \"TxId \\\"$TX_1\\\"\""
   ]
  },
  {
   "cell_type": "markdown",
   "id": "9e8ade6d-2dfc-4c63-ba0e-f7e05469bc41",
   "metadata": {},
   "source": [
    "The Marlowe script has this UTxO at its address:"
   ]
  },
  {
   "cell_type": "code",
   "execution_count": 23,
   "id": "31f1438a-99f2-41b2-a667-83b0d69751ab",
   "metadata": {},
   "outputs": [
    {
     "name": "stdout",
     "output_type": "stream",
     "text": [
      "                           TxHash                                 TxIx        Amount\n",
      "--------------------------------------------------------------------------------------\n",
      "55a7f12d0032651bf7014e024fde60b2a8ab73dd3bcf1f36b67375b675e3fe05     1        2000000 lovelace + TxOutDatumHash ScriptDataInAlonzoEra \"6649f9eb200ba725d384a8de5c31fc46be03f2b6309b559effa7e9fc785a3704\"\n"
     ]
    }
   ],
   "source": [
    "cardano-cli query utxo --testnet-magic $CARDANO_TESTNET_MAGIC --address $SCRIPT_ADDR | sed -n -e \"1,2p;/$TX_1/p\""
   ]
  },
  {
   "cell_type": "markdown",
   "id": "c27aeb29-4810-4d82-b731-68b5edb7f098",
   "metadata": {},
   "source": [
    "Alice has these UTxOs at her address:"
   ]
  },
  {
   "cell_type": "code",
   "execution_count": 24,
   "id": "1c995bc9-f9b8-4925-909d-124332317da2",
   "metadata": {},
   "outputs": [
    {
     "name": "stdout",
     "output_type": "stream",
     "text": [
      "                           TxHash                                 TxIx        Amount\n",
      "--------------------------------------------------------------------------------------\n",
      "55a7f12d0032651bf7014e024fde60b2a8ab73dd3bcf1f36b67375b675e3fe05     0        889431403 lovelace + TxOutDatumNone\n"
     ]
    }
   ],
   "source": [
    "cardano-cli query utxo --testnet-magic $CARDANO_TESTNET_MAGIC --address $ALICE_ADDR | sed -n -e \"1,2p;/$TX_1/p\""
   ]
  },
  {
   "cell_type": "markdown",
   "id": "9c0a6a05-778c-477b-9ca4-a496b7f3b55f",
   "metadata": {
    "tags": []
   },
   "source": [
    "#### 2. Alice makes her deposit"
   ]
  },
  {
   "cell_type": "code",
   "execution_count": 25,
   "id": "289a9733-2de2-4d39-a912-e6f1136dcbd6",
   "metadata": {},
   "outputs": [
    {
     "name": "stdout",
     "output_type": "stream",
     "text": [
      "\n",
      "Datum size: 2391\n"
     ]
    }
   ],
   "source": [
    "marlowe-cli run prepare --deposit-account PK=$ALICE_PKH          \\\n",
    "                        --deposit-party   PK=$ALICE_PKH          \\\n",
    "                        --deposit-amount $WAGER                  \\\n",
    "                        --invalid-before $NOW                    \\\n",
    "                        --invalid-hereafter $LATER               \\\n",
    "                        --marlowe-file guessing-game-01a.marlowe \\\n",
    "                        --out-file     guessing-game-02a.marlowe \\\n",
    "                        --print-stats"
   ]
  },
  {
   "cell_type": "markdown",
   "id": "31e95651-0bca-49cc-9797-c25a4aaef684",
   "metadata": {},
   "source": [
    "Now the contract still contains the initial Ada and the deposit."
   ]
  },
  {
   "cell_type": "code",
   "execution_count": 26,
   "id": "3faa231d-2554-448e-ac02-31fe2f44ba0c",
   "metadata": {},
   "outputs": [
    {
     "name": "stdout",
     "output_type": "stream",
     "text": [
      "accounts:\n",
      "- - - pk_hash: c83ea613945cb8f6140a33341dadbd54803db63a037b0a3b31f8b14f\n",
      "    - currency_symbol: ''\n",
      "      token_name: ''\n",
      "  - 102000000\n",
      "boundValues: []\n",
      "choices: []\n",
      "minTime: 1658677424000\n"
     ]
    }
   ],
   "source": [
    "jq .state guessing-game-02a.marlowe | json2yaml"
   ]
  },
  {
   "cell_type": "markdown",
   "id": "e4f73f13-b362-463f-b1d2-ec2ad983b365",
   "metadata": {},
   "source": [
    "Submit the transaction."
   ]
  },
  {
   "cell_type": "code",
   "execution_count": 27,
   "id": "d9bfb3d2-6770-47b0-9b5a-76eb8e9e3f1a",
   "metadata": {},
   "outputs": [
    {
     "name": "stdout",
     "output_type": "stream",
     "text": [
      "\n",
      "Fee: Lovelace 1531805\n",
      "Size: 17896 / 32768 = 54%\n",
      "Execution units:\n",
      "  Memory: 6661076 / 30000000 = 22%\n",
      "  Steps: 2627344382 / 10000000000 = 26%\n",
      "TxId \"86deba4e8449ddf1ac0ebcf2d26f04a50925a198c5d95b1dac34911098f78b3d\"\n"
     ]
    }
   ],
   "source": [
    "TX_2=$(\n",
    "marlowe-cli run execute --marlowe-in-file guessing-game-01a.marlowe  \\\n",
    "                        --tx-in-marlowe \"$TX_1#1\"                    \\\n",
    "                        --tx-in-collateral \"$TX_1#0\"                 \\\n",
    "                        --tx-in \"$TX_1#0\"                            \\\n",
    "                        --required-signer $ALICE_SKEY                \\\n",
    "                        --change-address $ALICE_ADDR                 \\\n",
    "                        --marlowe-out-file guessing-game-02a.marlowe \\\n",
    "                        --out-file /dev/null                         \\\n",
    "                        --submit 600                                 \\\n",
    "                        --print-stats                                \\\n",
    "| sed -e 's/^TxId \"\\(.*\\)\"$/\\1/' \\\n",
    ")\n",
    "echo \"TxId \\\"$TX_2\\\"\""
   ]
  },
  {
   "cell_type": "markdown",
   "id": "89ab3718-a106-4eff-894f-9b76f9e2cce0",
   "metadata": {},
   "source": [
    "The Marlowe script has this UTxO at its address:"
   ]
  },
  {
   "cell_type": "code",
   "execution_count": 28,
   "id": "c9aced48-e47a-4b4c-8642-ed965b6119ae",
   "metadata": {},
   "outputs": [
    {
     "name": "stdout",
     "output_type": "stream",
     "text": [
      "                           TxHash                                 TxIx        Amount\n",
      "--------------------------------------------------------------------------------------\n",
      "86deba4e8449ddf1ac0ebcf2d26f04a50925a198c5d95b1dac34911098f78b3d     1        102000000 lovelace + TxOutDatumHash ScriptDataInAlonzoEra \"62b8fd07313ae75ed140022066412a12929769046278f1803b022c52ca5db7cf\"\n"
     ]
    }
   ],
   "source": [
    "cardano-cli query utxo --testnet-magic $CARDANO_TESTNET_MAGIC --address $SCRIPT_ADDR | sed -n -e \"1,2p;/$TX_1/p;/$TX_2/p\""
   ]
  },
  {
   "cell_type": "markdown",
   "id": "26e86140-9dfc-46ea-b903-fc74633428fa",
   "metadata": {},
   "source": [
    "Alice has these UTxOs at her address:"
   ]
  },
  {
   "cell_type": "code",
   "execution_count": 29,
   "id": "12831621-ec6c-44c1-97c7-3f62b804fed7",
   "metadata": {},
   "outputs": [
    {
     "name": "stdout",
     "output_type": "stream",
     "text": [
      "                           TxHash                                 TxIx        Amount\n",
      "--------------------------------------------------------------------------------------\n",
      "86deba4e8449ddf1ac0ebcf2d26f04a50925a198c5d95b1dac34911098f78b3d     0        787899598 lovelace + TxOutDatumNone\n"
     ]
    }
   ],
   "source": [
    "cardano-cli query utxo --testnet-magic $CARDANO_TESTNET_MAGIC --address $ALICE_ADDR | sed -n -e \"1,2p;/$TX_1/p;/$TX_2/p\""
   ]
  },
  {
   "cell_type": "markdown",
   "id": "e6a3ac4b-3778-459c-90e4-93a52b4a21a8",
   "metadata": {},
   "source": [
    "#### 3. Bob makes his deposit"
   ]
  },
  {
   "cell_type": "code",
   "execution_count": 30,
   "id": "b1adae6a-888e-4fbc-b6cc-dc31020a517c",
   "metadata": {},
   "outputs": [
    {
     "name": "stdout",
     "output_type": "stream",
     "text": [
      "\n",
      "Datum size: 2331\n"
     ]
    }
   ],
   "source": [
    "marlowe-cli run prepare --deposit-account PK=$BOB_PKH            \\\n",
    "                        --deposit-party   PK=$BOB_PKH            \\\n",
    "                        --deposit-amount $WAGER                  \\\n",
    "                        --invalid-before $NOW                    \\\n",
    "                        --invalid-hereafter $LATER               \\\n",
    "                        --marlowe-file guessing-game-02a.marlowe \\\n",
    "                        --out-file     guessing-game-03a.marlowe \\\n",
    "                        --print-stats"
   ]
  },
  {
   "cell_type": "markdown",
   "id": "78c2a66b-2d30-407a-826e-66c0db7a9546",
   "metadata": {},
   "source": [
    "The contract's internal accounts have been updated."
   ]
  },
  {
   "cell_type": "code",
   "execution_count": 31,
   "id": "1fd150e3-e577-4e6c-b86d-bf0f55208c8a",
   "metadata": {},
   "outputs": [
    {
     "name": "stdout",
     "output_type": "stream",
     "text": [
      "- - - pk_hash: c83ea613945cb8f6140a33341dadbd54803db63a037b0a3b31f8b14f\n",
      "    - currency_symbol: ''\n",
      "      token_name: ''\n",
      "  - 102000000\n",
      "- - - pk_hash: bf58c039d16d33213fa640618ce5fbad94c73f85b7d0c982d935db6f\n",
      "    - currency_symbol: ''\n",
      "      token_name: ''\n",
      "  - 100000000\n"
     ]
    }
   ],
   "source": [
    "jq .state.accounts guessing-game-03a.marlowe | json2yaml"
   ]
  },
  {
   "cell_type": "markdown",
   "id": "30a5a138-ce2d-4986-a943-a7427ac91730",
   "metadata": {},
   "source": [
    "Submit the transaction."
   ]
  },
  {
   "cell_type": "code",
   "execution_count": 32,
   "id": "17cb2000-1724-431a-917c-bef7ac1fcd68",
   "metadata": {},
   "outputs": [
    {
     "name": "stdout",
     "output_type": "stream",
     "text": [
      "\n",
      "Fee: Lovelace 1505771\n",
      "Size: 17727 / 32768 = 54%\n",
      "Execution units:\n",
      "  Memory: 6451112 / 30000000 = 21%\n",
      "  Steps: 2537418722 / 10000000000 = 25%\n",
      "TxId \"c32b3e394f0c5e9d02afd6d7695bf8e22af1511574c8bc48046b4a53688ce2ef\"\n"
     ]
    }
   ],
   "source": [
    "TX_3=$(\n",
    "marlowe-cli run execute --marlowe-in-file guessing-game-02a.marlowe  \\\n",
    "                        --tx-in-marlowe \"$TX_2#1\"                    \\\n",
    "                        --tx-in-collateral \"$TX_0_BOB\"               \\\n",
    "                        --tx-in \"$TX_0_BOB\"                          \\\n",
    "                        --required-signer $BOB_SKEY                  \\\n",
    "                        --change-address $BOB_ADDR                   \\\n",
    "                        --marlowe-out-file guessing-game-03a.marlowe \\\n",
    "                        --out-file /dev/null                         \\\n",
    "                        --submit 600                                 \\\n",
    "                        --print-stats                                \\\n",
    "| sed -e 's/^TxId \"\\(.*\\)\"$/\\1/' \\\n",
    ")\n",
    "echo \"TxId \\\"$TX_3\\\"\""
   ]
  },
  {
   "cell_type": "markdown",
   "id": "99710b5f-de93-459a-adac-cf735371eaef",
   "metadata": {},
   "source": [
    "The Marlowe script has this UTxO at its address:"
   ]
  },
  {
   "cell_type": "code",
   "execution_count": 33,
   "id": "93e8dbf3-3c14-48aa-bdd4-9fe596ba18b4",
   "metadata": {},
   "outputs": [
    {
     "name": "stdout",
     "output_type": "stream",
     "text": [
      "                           TxHash                                 TxIx        Amount\n",
      "--------------------------------------------------------------------------------------\n",
      "c32b3e394f0c5e9d02afd6d7695bf8e22af1511574c8bc48046b4a53688ce2ef     1        202000000 lovelace + TxOutDatumHash ScriptDataInAlonzoEra \"2c064c4069bc5af1da89673cccd42d8b5f809d07bd8c31f2bcf744fa12100d10\"\n"
     ]
    }
   ],
   "source": [
    "cardano-cli query utxo --testnet-magic $CARDANO_TESTNET_MAGIC --address $SCRIPT_ADDR | sed -n -e \"1,2p;/$TX_1/p;/$TX_2/p;/$TX_3/p\""
   ]
  },
  {
   "cell_type": "markdown",
   "id": "8a424ada-2cc0-4d74-927b-9b5b88de958f",
   "metadata": {},
   "source": [
    "Bob has these UTxOs at his address:"
   ]
  },
  {
   "cell_type": "code",
   "execution_count": 34,
   "id": "bce899df-d30c-4863-be48-b3ee3c1e588b",
   "metadata": {},
   "outputs": [
    {
     "name": "stdout",
     "output_type": "stream",
     "text": [
      "                           TxHash                                 TxIx        Amount\n",
      "--------------------------------------------------------------------------------------\n",
      "c32b3e394f0c5e9d02afd6d7695bf8e22af1511574c8bc48046b4a53688ce2ef     0        794293825 lovelace + TxOutDatumNone\n"
     ]
    }
   ],
   "source": [
    "cardano-cli query utxo --testnet-magic $CARDANO_TESTNET_MAGIC --address $BOB_ADDR | sed -n -e \"1,2p;/$TX_1/p;/$TX_2/p;/$TX_3/p\""
   ]
  },
  {
   "cell_type": "markdown",
   "id": "63dc57f8-3c25-4612-8cd6-16dc41310a6d",
   "metadata": {},
   "source": [
    "#### 4. Alice secretly selects prime numbers and chooses their product\n",
    "\n",
    "Alice visits https://bigprimes.org/ and secretly selects the primes 418133219637912482167661 and 442045966004935111389041."
   ]
  },
  {
   "cell_type": "code",
   "execution_count": 35,
   "id": "5e42587d-3645-4350-8a5e-891a2b915ec5",
   "metadata": {},
   "outputs": [
    {
     "name": "stdout",
     "output_type": "stream",
     "text": [
      "184834102993594727417632924514462037620360003101\n"
     ]
    }
   ],
   "source": [
    "SMALLER_PRIME=418133219637912482167661\n",
    "LARGER_PRIME=442045966004935111389041\n",
    "PRODUCT_OF_PRIMES=$(echo \"$SMALLER_PRIME * $LARGER_PRIME\" | bc)\n",
    "echo $PRODUCT_OF_PRIMES"
   ]
  },
  {
   "cell_type": "code",
   "execution_count": 36,
   "id": "bb9d1081-f49e-441c-b636-252b3900cb88",
   "metadata": {},
   "outputs": [
    {
     "name": "stdout",
     "output_type": "stream",
     "text": [
      "\n",
      "Datum size: 2276\n"
     ]
    }
   ],
   "source": [
    "marlowe-cli run prepare --choice-party PK=$ALICE_PKH             \\\n",
    "                        --choice-name \"Product of Two Primes\"    \\\n",
    "                        --choice-number $PRODUCT_OF_PRIMES       \\\n",
    "                        --invalid-before $NOW                    \\\n",
    "                        --invalid-hereafter $LATER               \\\n",
    "                        --marlowe-file guessing-game-03a.marlowe \\\n",
    "                        --out-file     guessing-game-04a.marlowe \\\n",
    "                        --print-stats"
   ]
  },
  {
   "cell_type": "markdown",
   "id": "18382330-0453-4ac9-bd18-4eae2f0e0d55",
   "metadata": {},
   "source": [
    "The choice has been recorded."
   ]
  },
  {
   "cell_type": "code",
   "execution_count": 37,
   "id": "0d9a0073-c7c6-4e0d-8a21-285913c9cb73",
   "metadata": {},
   "outputs": [
    {
     "name": "stdout",
     "output_type": "stream",
     "text": [
      "- - choice_name: Product of Two Primes\n",
      "    choice_owner:\n",
      "      pk_hash: c83ea613945cb8f6140a33341dadbd54803db63a037b0a3b31f8b14f\n",
      "  - 1.8483410299359473e+47\n"
     ]
    }
   ],
   "source": [
    "jq .state.choices guessing-game-04a.marlowe | json2yaml"
   ]
  },
  {
   "cell_type": "markdown",
   "id": "308e4216-56b4-4d5f-a02f-365bab712640",
   "metadata": {},
   "source": [
    "👉 Note that `jq` rounds off the number when printing it, even though the full precision is present in the file `guessing-game-04a.marlowe`."
   ]
  },
  {
   "cell_type": "markdown",
   "id": "4d26cef8-700a-42a2-a84f-9cc5bfa61384",
   "metadata": {},
   "source": [
    "Submit the transaction."
   ]
  },
  {
   "cell_type": "code",
   "execution_count": 38,
   "id": "64738a19-12aa-41f0-b43d-6bd9289f0ee7",
   "metadata": {},
   "outputs": [
    {
     "name": "stdout",
     "output_type": "stream",
     "text": [
      "\n",
      "Fee: Lovelace 1496998\n",
      "Size: 17615 / 32768 = 53%\n",
      "Execution units:\n",
      "  Memory: 6424498 / 30000000 = 21%\n",
      "  Steps: 2505395063 / 10000000000 = 25%\n",
      "TxId \"db606e11c373e94669a43359b43a59e76a354836661f6e957e5cedc1a9421cbc\"\n"
     ]
    }
   ],
   "source": [
    "TX_4=$(\n",
    "marlowe-cli run execute --marlowe-in-file guessing-game-03a.marlowe  \\\n",
    "                        --tx-in-marlowe \"$TX_3#1\"                    \\\n",
    "                        --tx-in-collateral \"$TX_2#0\"                 \\\n",
    "                        --tx-in \"$TX_2#0\"                            \\\n",
    "                        --required-signer $ALICE_SKEY                \\\n",
    "                        --change-address $ALICE_ADDR                 \\\n",
    "                        --marlowe-out-file guessing-game-04a.marlowe \\\n",
    "                        --out-file /dev/null                         \\\n",
    "                        --submit 600                                 \\\n",
    "                        --print-stats                                \\\n",
    "| sed -e 's/^TxId \"\\(.*\\)\"$/\\1/' \\\n",
    ")\n",
    "echo \"TxId \\\"$TX_4\\\"\""
   ]
  },
  {
   "cell_type": "markdown",
   "id": "b8f911c1-f820-44cd-884e-00be4c93570e",
   "metadata": {},
   "source": [
    "The Marlowe script has this UTxO at its address:"
   ]
  },
  {
   "cell_type": "code",
   "execution_count": 39,
   "id": "78123769-f961-4d87-9822-6c6bab51a970",
   "metadata": {},
   "outputs": [
    {
     "name": "stdout",
     "output_type": "stream",
     "text": [
      "                           TxHash                                 TxIx        Amount\n",
      "--------------------------------------------------------------------------------------\n",
      "db606e11c373e94669a43359b43a59e76a354836661f6e957e5cedc1a9421cbc     1        202000000 lovelace + TxOutDatumHash ScriptDataInAlonzoEra \"a7581abfb59793a27e5004ee31fcf663ecb6a59a4df1da7a472131379475e150\"\n"
     ]
    }
   ],
   "source": [
    "cardano-cli query utxo --testnet-magic $CARDANO_TESTNET_MAGIC --address $SCRIPT_ADDR | sed -n -e \"1,2p;/$TX_1/p;/$TX_2/p;/$TX_3/p;/$TX_4/p\""
   ]
  },
  {
   "cell_type": "markdown",
   "id": "90f85438-fb7e-42bb-8de1-fc8512c9821b",
   "metadata": {},
   "source": [
    "Alice has these UTxOs at her address:"
   ]
  },
  {
   "cell_type": "code",
   "execution_count": 40,
   "id": "ed204861-19f5-4ad0-9d5e-f655978d26d8",
   "metadata": {},
   "outputs": [
    {
     "name": "stdout",
     "output_type": "stream",
     "text": [
      "                           TxHash                                 TxIx        Amount\n",
      "--------------------------------------------------------------------------------------\n",
      "db606e11c373e94669a43359b43a59e76a354836661f6e957e5cedc1a9421cbc     0        786402600 lovelace + TxOutDatumNone\n"
     ]
    }
   ],
   "source": [
    "cardano-cli query utxo --testnet-magic $CARDANO_TESTNET_MAGIC --address $ALICE_ADDR | sed -n -e \"1,2p;/$TX_1/p;/$TX_2/p;/$TX_3/p;/$TX_4/p\""
   ]
  },
  {
   "cell_type": "markdown",
   "id": "22d6867d-14d1-4807-ad73-7a2266ef5403",
   "metadata": {},
   "source": [
    "#### 5. Alice chooses the cipher text"
   ]
  },
  {
   "cell_type": "markdown",
   "id": "69b64796-a7fb-44de-89f4-1261721ea28c",
   "metadata": {},
   "source": [
    "Alice secretly selects Plain Text = 19295759350583799993723, which is a positive number."
   ]
  },
  {
   "cell_type": "code",
   "execution_count": 41,
   "id": "3110e7c4-b46d-4224-8c42-0b7d2ec60c66",
   "metadata": {},
   "outputs": [],
   "source": [
    "PLAIN_TEXT=19295759350583799993723"
   ]
  },
  {
   "cell_type": "markdown",
   "id": "3429e677-8fa1-4468-99fc-ca4b7445a804",
   "metadata": {},
   "source": [
    "The cipher text is the sum of the plain text and the smaller prime number."
   ]
  },
  {
   "cell_type": "code",
   "execution_count": 42,
   "id": "fae98d3b-e973-4f0d-97e2-b30dc93c930c",
   "metadata": {},
   "outputs": [
    {
     "name": "stdout",
     "output_type": "stream",
     "text": [
      "437428978988496282161384\n"
     ]
    }
   ],
   "source": [
    "CIPHER_TEXT=$(echo \"$SMALLER_PRIME + $PLAIN_TEXT\" | bc)\n",
    "echo $CIPHER_TEXT"
   ]
  },
  {
   "cell_type": "code",
   "execution_count": 43,
   "id": "d37bf352-184c-4dfa-a923-1eb62e5adf93",
   "metadata": {},
   "outputs": [
    {
     "name": "stdout",
     "output_type": "stream",
     "text": [
      "\n",
      "Datum size: 2234\n"
     ]
    }
   ],
   "source": [
    "marlowe-cli run prepare --choice-party PK=$ALICE_PKH             \\\n",
    "                        --choice-name \"Cipher Text\"              \\\n",
    "                        --choice-number $CIPHER_TEXT             \\\n",
    "                        --invalid-before $NOW                    \\\n",
    "                        --invalid-hereafter $LATER               \\\n",
    "                        --marlowe-file guessing-game-04a.marlowe \\\n",
    "                        --out-file     guessing-game-05a.marlowe \\\n",
    "                        --print-stats"
   ]
  },
  {
   "cell_type": "markdown",
   "id": "a58f6f3a-e3bf-41ce-bd43-f24cfe17f402",
   "metadata": {},
   "source": [
    "The choice has been recorded."
   ]
  },
  {
   "cell_type": "code",
   "execution_count": 44,
   "id": "4459c067-5b5b-4a7c-aaec-5993a3e19e5f",
   "metadata": {},
   "outputs": [
    {
     "name": "stdout",
     "output_type": "stream",
     "text": [
      "- - choice_name: Product of Two Primes\n",
      "    choice_owner:\n",
      "      pk_hash: c83ea613945cb8f6140a33341dadbd54803db63a037b0a3b31f8b14f\n",
      "  - 1.8483410299359473e+47\n",
      "- - choice_name: Cipher Text\n",
      "    choice_owner:\n",
      "      pk_hash: c83ea613945cb8f6140a33341dadbd54803db63a037b0a3b31f8b14f\n",
      "  - 437428978988496300000000\n"
     ]
    }
   ],
   "source": [
    "jq .state.choices guessing-game-05a.marlowe | json2yaml"
   ]
  },
  {
   "cell_type": "markdown",
   "id": "3d631ab2-d95f-43b1-8a15-3c6b7be71403",
   "metadata": {},
   "source": [
    "Submit the transaction."
   ]
  },
  {
   "cell_type": "code",
   "execution_count": 45,
   "id": "bc8188ea-540a-45d1-aa69-e5e5512b73d4",
   "metadata": {},
   "outputs": [
    {
     "name": "stdout",
     "output_type": "stream",
     "text": [
      "\n",
      "Fee: Lovelace 1487714\n",
      "Size: 17498 / 32768 = 53%\n",
      "Execution units:\n",
      "  Memory: 6384950 / 30000000 = 21%\n",
      "  Steps: 2479684064 / 10000000000 = 24%\n",
      "TxId \"c9bb2af53136b4b172aa0e0a6a8642aec8c96c35ba97952819b04d7104cfd2c7\"\n"
     ]
    }
   ],
   "source": [
    "TX_5=$(\n",
    "marlowe-cli run execute --marlowe-in-file guessing-game-04a.marlowe  \\\n",
    "                        --tx-in-marlowe \"$TX_4#1\"                    \\\n",
    "                        --tx-in-collateral \"$TX_4#0\"                 \\\n",
    "                        --tx-in \"$TX_4#0\"                            \\\n",
    "                        --required-signer $ALICE_SKEY                \\\n",
    "                        --change-address $ALICE_ADDR                 \\\n",
    "                        --marlowe-out-file guessing-game-05a.marlowe \\\n",
    "                        --out-file /dev/null                         \\\n",
    "                        --submit 600                                 \\\n",
    "                        --print-stats                                \\\n",
    "| sed -e 's/^TxId \"\\(.*\\)\"$/\\1/' \\\n",
    ")\n",
    "echo \"TxId \\\"$TX_5\\\"\""
   ]
  },
  {
   "cell_type": "markdown",
   "id": "6ef4b348-9485-44f0-9dd9-041276baeff0",
   "metadata": {},
   "source": [
    "The Marlowe script has this UTxO at its address:"
   ]
  },
  {
   "cell_type": "code",
   "execution_count": 46,
   "id": "0f3454d3-7c3d-4fd7-9fae-308852c5e185",
   "metadata": {},
   "outputs": [
    {
     "name": "stdout",
     "output_type": "stream",
     "text": [
      "                           TxHash                                 TxIx        Amount\n",
      "--------------------------------------------------------------------------------------\n",
      "c9bb2af53136b4b172aa0e0a6a8642aec8c96c35ba97952819b04d7104cfd2c7     1        202000000 lovelace + TxOutDatumHash ScriptDataInAlonzoEra \"12af479170b3f15f2c2124c48d240791e0eafd9c0f1a1ab2d98547cba0ae1321\"\n"
     ]
    }
   ],
   "source": [
    "cardano-cli query utxo --testnet-magic $CARDANO_TESTNET_MAGIC --address $SCRIPT_ADDR | sed -n -e \"1,2p;/$TX_1/p;/$TX_2/p;/$TX_3/p;/$TX_4/p;/$TX_5/p\""
   ]
  },
  {
   "cell_type": "markdown",
   "id": "2e3c5eca-6da0-4720-bd89-0dd253804176",
   "metadata": {},
   "source": [
    "Alice has these UTxOs at her address:"
   ]
  },
  {
   "cell_type": "code",
   "execution_count": 47,
   "id": "659bcfaa-2fdd-434d-9355-2c321965b004",
   "metadata": {},
   "outputs": [
    {
     "name": "stdout",
     "output_type": "stream",
     "text": [
      "                           TxHash                                 TxIx        Amount\n",
      "--------------------------------------------------------------------------------------\n",
      "c9bb2af53136b4b172aa0e0a6a8642aec8c96c35ba97952819b04d7104cfd2c7     0        784914886 lovelace + TxOutDatumNone\n"
     ]
    }
   ],
   "source": [
    "cardano-cli query utxo --testnet-magic $CARDANO_TESTNET_MAGIC --address $ALICE_ADDR | sed -n -e \"1,2p;/$TX_1/p;/$TX_2/p;/$TX_3/p;/$TX_4/p;/$TX_5/p\""
   ]
  },
  {
   "cell_type": "markdown",
   "id": "ebd5d1dc-c941-48da-ab7e-09a4826f390a",
   "metadata": {
    "tags": []
   },
   "source": [
    "#### 6. Bob guesses that the plain text is a negative number\n",
    "\n",
    "Before guessing whether the plain text is a positive number or not, Bob tries to discover Alice's secret primes by trying to factor the large product that Alice reported."
   ]
  },
  {
   "cell_type": "code",
   "execution_count": 48,
   "id": "8269f31d-2a68-4630-9bfa-29ad486a6637",
   "metadata": {},
   "outputs": [
    {
     "ename": "",
     "evalue": "124",
     "output_type": "error",
     "traceback": []
    }
   ],
   "source": [
    "timeout 10m factor $PRODUCT_OF_PRIMES"
   ]
  },
  {
   "cell_type": "markdown",
   "id": "f83060b8-81de-4f86-ba6d-6e0e33084931",
   "metadata": {},
   "source": [
    "Bob couldn't factor the product, so he just guesses that Alice's plain text is a negative number."
   ]
  },
  {
   "cell_type": "code",
   "execution_count": 49,
   "id": "c0867b3f-120f-455b-8af2-60b541ab3782",
   "metadata": {},
   "outputs": [
    {
     "name": "stdout",
     "output_type": "stream",
     "text": [
      "\n",
      "Datum size: 2201\n"
     ]
    }
   ],
   "source": [
    "marlowe-cli run prepare --choice-party PK=$BOB_PKH               \\\n",
    "                        --choice-name \"Plain Text is Positive\"   \\\n",
    "                        --choice-number 0                        \\\n",
    "                        --invalid-before $NOW                    \\\n",
    "                        --invalid-hereafter $LATER               \\\n",
    "                        --marlowe-file guessing-game-05a.marlowe \\\n",
    "                        --out-file     guessing-game-06a.marlowe \\\n",
    "                        --print-stats"
   ]
  },
  {
   "cell_type": "markdown",
   "id": "40f1dd13-ac3b-4c00-a89a-794a03d5427b",
   "metadata": {},
   "source": [
    "The choice has been recorded."
   ]
  },
  {
   "cell_type": "code",
   "execution_count": 50,
   "id": "8d55546c-2e88-48ae-aafc-09ce3ff90bc4",
   "metadata": {},
   "outputs": [
    {
     "name": "stdout",
     "output_type": "stream",
     "text": [
      "- - choice_name: Product of Two Primes\n",
      "    choice_owner:\n",
      "      pk_hash: c83ea613945cb8f6140a33341dadbd54803db63a037b0a3b31f8b14f\n",
      "  - 1.8483410299359473e+47\n",
      "- - choice_name: Cipher Text\n",
      "    choice_owner:\n",
      "      pk_hash: c83ea613945cb8f6140a33341dadbd54803db63a037b0a3b31f8b14f\n",
      "  - 437428978988496300000000\n",
      "- - choice_name: Plain Text is Positive\n",
      "    choice_owner:\n",
      "      pk_hash: bf58c039d16d33213fa640618ce5fbad94c73f85b7d0c982d935db6f\n",
      "  - 0\n"
     ]
    }
   ],
   "source": [
    "jq .state.choices guessing-game-06a.marlowe | json2yaml"
   ]
  },
  {
   "cell_type": "markdown",
   "id": "7ebdff6f-1dad-450e-897e-9fb4d89582d4",
   "metadata": {},
   "source": [
    "Submit the transaction."
   ]
  },
  {
   "cell_type": "code",
   "execution_count": 51,
   "id": "c0440cc0-779f-41da-9e9a-deb49067c183",
   "metadata": {},
   "outputs": [
    {
     "name": "stdout",
     "output_type": "stream",
     "text": [
      "\n",
      "Fee: Lovelace 1474847\n",
      "Size: 17423 / 32768 = 53%\n",
      "Execution units:\n",
      "  Memory: 6279362 / 30000000 = 20%\n",
      "  Steps: 2431493547 / 10000000000 = 24%\n",
      "TxId \"77eb1ca8aa467a8d649ebffcaf669b09c9a58593b4ac79e6ae5d420b7e5fe917\"\n"
     ]
    }
   ],
   "source": [
    "TX_6=$(\n",
    "marlowe-cli run execute --marlowe-in-file guessing-game-05a.marlowe  \\\n",
    "                        --tx-in-marlowe \"$TX_5#1\"                    \\\n",
    "                        --tx-in-collateral \"$TX_3#0\"                 \\\n",
    "                        --tx-in \"$TX_3#0\"                            \\\n",
    "                        --required-signer $BOB_SKEY                  \\\n",
    "                        --change-address $BOB_ADDR                   \\\n",
    "                        --marlowe-out-file guessing-game-06a.marlowe \\\n",
    "                        --out-file /dev/null                         \\\n",
    "                        --submit 600                                 \\\n",
    "                        --print-stats                                \\\n",
    "| sed -e 's/^TxId \"\\(.*\\)\"$/\\1/' \\\n",
    ")\n",
    "echo \"TxId \\\"$TX_6\\\"\""
   ]
  },
  {
   "cell_type": "markdown",
   "id": "1fa826b6-3f8a-4092-8881-ab9f0983fc61",
   "metadata": {},
   "source": [
    "The Marlowe script has this UTxO at its address:"
   ]
  },
  {
   "cell_type": "code",
   "execution_count": 52,
   "id": "ddb4f664-2db7-4f1c-906c-89628dba1ea5",
   "metadata": {},
   "outputs": [
    {
     "name": "stdout",
     "output_type": "stream",
     "text": [
      "                           TxHash                                 TxIx        Amount\n",
      "--------------------------------------------------------------------------------------\n",
      "77eb1ca8aa467a8d649ebffcaf669b09c9a58593b4ac79e6ae5d420b7e5fe917     1        202000000 lovelace + TxOutDatumHash ScriptDataInAlonzoEra \"817bb9f886167e83bb63709b934e74bb3a807c8eee7597d7f8c10b6a4bd5ff3f\"\n"
     ]
    }
   ],
   "source": [
    "cardano-cli query utxo --testnet-magic $CARDANO_TESTNET_MAGIC --address $SCRIPT_ADDR | sed -n -e \"1,2p;/$TX_1/p;/$TX_2/p;/$TX_3/p;/$TX_4/p;/$TX_5/p;/$TX_6/p\""
   ]
  },
  {
   "cell_type": "markdown",
   "id": "2822f992-f66b-46b1-97e1-76cb0b78fc41",
   "metadata": {},
   "source": [
    "Bob has these UTxOs at his address:"
   ]
  },
  {
   "cell_type": "code",
   "execution_count": 53,
   "id": "c5f6903d-e278-4ae9-bd2b-17683d33bcf8",
   "metadata": {},
   "outputs": [
    {
     "name": "stdout",
     "output_type": "stream",
     "text": [
      "                           TxHash                                 TxIx        Amount\n",
      "--------------------------------------------------------------------------------------\n",
      "77eb1ca8aa467a8d649ebffcaf669b09c9a58593b4ac79e6ae5d420b7e5fe917     0        792818978 lovelace + TxOutDatumNone\n"
     ]
    }
   ],
   "source": [
    "cardano-cli query utxo --testnet-magic $CARDANO_TESTNET_MAGIC --address $BOB_ADDR | sed -n -e \"1,2p;/$TX_1/p;/$TX_2/p;/$TX_3/p;/$TX_4/p;/$TX_5/p;/$TX_6/p\""
   ]
  },
  {
   "cell_type": "markdown",
   "id": "35c37b13-bd16-4774-b097-7fcfaefeb15f",
   "metadata": {},
   "source": [
    "#### 7. Alice reveals the smallest prime factor"
   ]
  },
  {
   "cell_type": "code",
   "execution_count": 54,
   "id": "006ca209-f49e-4845-ac28-189062761076",
   "metadata": {},
   "outputs": [
    {
     "name": "stdout",
     "output_type": "stream",
     "text": [
      "\n",
      "Datum size: 1668\n"
     ]
    }
   ],
   "source": [
    "marlowe-cli run prepare --choice-party PK=$ALICE_PKH             \\\n",
    "                        --choice-name \"Smaller Secret Prime\"     \\\n",
    "                        --choice-number $SMALLER_PRIME           \\\n",
    "                        --invalid-before $NOW                    \\\n",
    "                        --invalid-hereafter $LATER               \\\n",
    "                        --marlowe-file guessing-game-06a.marlowe \\\n",
    "                        --out-file     guessing-game-07a.marlowe \\\n",
    "                        --print-stats"
   ]
  },
  {
   "cell_type": "markdown",
   "id": "7e8cab95-186c-467a-9f11-2aca4b570e1a",
   "metadata": {},
   "source": [
    "The choice has been recorded."
   ]
  },
  {
   "cell_type": "code",
   "execution_count": 55,
   "id": "835a7e39-b8eb-4da7-9333-9ec1b7dbf5d2",
   "metadata": {},
   "outputs": [
    {
     "name": "stdout",
     "output_type": "stream",
     "text": [
      "- - choice_name: Product of Two Primes\n",
      "    choice_owner:\n",
      "      pk_hash: c83ea613945cb8f6140a33341dadbd54803db63a037b0a3b31f8b14f\n",
      "  - 1.8483410299359473e+47\n",
      "- - choice_name: Cipher Text\n",
      "    choice_owner:\n",
      "      pk_hash: c83ea613945cb8f6140a33341dadbd54803db63a037b0a3b31f8b14f\n",
      "  - 437428978988496300000000\n",
      "- - choice_name: Plain Text is Positive\n",
      "    choice_owner:\n",
      "      pk_hash: bf58c039d16d33213fa640618ce5fbad94c73f85b7d0c982d935db6f\n",
      "  - 0\n",
      "- - choice_name: Smaller Secret Prime\n",
      "    choice_owner:\n",
      "      pk_hash: c83ea613945cb8f6140a33341dadbd54803db63a037b0a3b31f8b14f\n",
      "  - 418133219637912500000000\n"
     ]
    }
   ],
   "source": [
    "jq .state.choices guessing-game-07a.marlowe | json2yaml"
   ]
  },
  {
   "cell_type": "markdown",
   "id": "98119e82-1aea-4592-bb73-edcc56bd9fb3",
   "metadata": {},
   "source": [
    "Submit the transaction."
   ]
  },
  {
   "cell_type": "code",
   "execution_count": 56,
   "id": "7fd127c9-37a0-4193-af98-2f8a15bef4ee",
   "metadata": {},
   "outputs": [
    {
     "name": "stdout",
     "output_type": "stream",
     "text": [
      "\n",
      "Fee: Lovelace 1479606\n",
      "Size: 16866 / 32768 = 51%\n",
      "Execution units:\n",
      "  Memory: 6678004 / 30000000 = 22%\n",
      "  Steps: 2518384570 / 10000000000 = 25%\n",
      "TxId \"dd9b725672504e3d7cb5e1e86f7b8a7072ff293cf9996a20f79799f03fdeab55\"\n"
     ]
    }
   ],
   "source": [
    "TX_7=$(\n",
    "marlowe-cli run execute --marlowe-in-file guessing-game-06a.marlowe  \\\n",
    "                        --tx-in-marlowe \"$TX_6#1\"                    \\\n",
    "                        --tx-in-collateral \"$TX_5#0\"                 \\\n",
    "                        --tx-in \"$TX_5#0\"                            \\\n",
    "                        --required-signer $ALICE_SKEY                \\\n",
    "                        --change-address $ALICE_ADDR                 \\\n",
    "                        --marlowe-out-file guessing-game-07a.marlowe \\\n",
    "                        --out-file /dev/null                         \\\n",
    "                        --submit 600                                 \\\n",
    "                        --print-stats                                \\\n",
    "| sed -e 's/^TxId \"\\(.*\\)\"$/\\1/' \\\n",
    ")\n",
    "echo \"TxId \\\"$TX_7\\\"\""
   ]
  },
  {
   "cell_type": "markdown",
   "id": "fb7e0bf3-f925-4375-9101-6078b97ebdb8",
   "metadata": {},
   "source": [
    "The Marlowe script has this UTxO at its address:"
   ]
  },
  {
   "cell_type": "code",
   "execution_count": 57,
   "id": "fcb4b6ac-33bb-4d35-8fb4-9f6311d178ec",
   "metadata": {},
   "outputs": [
    {
     "name": "stdout",
     "output_type": "stream",
     "text": [
      "                           TxHash                                 TxIx        Amount\n",
      "--------------------------------------------------------------------------------------\n",
      "dd9b725672504e3d7cb5e1e86f7b8a7072ff293cf9996a20f79799f03fdeab55     1        202000000 lovelace + TxOutDatumHash ScriptDataInAlonzoEra \"34925397af60cd8560fd46895cc3161e838ddb0cc228110cb7edc19222e56d90\"\n"
     ]
    }
   ],
   "source": [
    "cardano-cli query utxo --testnet-magic $CARDANO_TESTNET_MAGIC --address $SCRIPT_ADDR | sed -n -e \"1,2p;/$TX_1/p;/$TX_2/p;/$TX_3/p;/$TX_4/p;/$TX_5/p;/$TX_6/p;/$TX_7/p\""
   ]
  },
  {
   "cell_type": "markdown",
   "id": "52f05a8d-5e7c-4bbc-a87e-ca49fe6c6856",
   "metadata": {},
   "source": [
    "Alice has these UTxOs at her address:"
   ]
  },
  {
   "cell_type": "code",
   "execution_count": 58,
   "id": "c40a6c6f-72e8-4d71-b1d0-93fd7891bebe",
   "metadata": {},
   "outputs": [
    {
     "name": "stdout",
     "output_type": "stream",
     "text": [
      "                           TxHash                                 TxIx        Amount\n",
      "--------------------------------------------------------------------------------------\n",
      "dd9b725672504e3d7cb5e1e86f7b8a7072ff293cf9996a20f79799f03fdeab55     0        783435280 lovelace + TxOutDatumNone\n"
     ]
    }
   ],
   "source": [
    "cardano-cli query utxo --testnet-magic $CARDANO_TESTNET_MAGIC --address $ALICE_ADDR | sed -n -e \"1,2p;/$TX_1/p;/$TX_2/p;/$TX_3/p;/$TX_4/p;/$TX_5/p;/$TX_6/p;/$TX_7/p\""
   ]
  },
  {
   "cell_type": "markdown",
   "id": "bf95a0b9-4fab-413d-92e2-ebacae38477f",
   "metadata": {},
   "source": [
    "#### 8. Bob checks the secrets that Alice revealed and decides to challenge her\n",
    "\n",
    "Bob checks that the smaller secret prime number is a divisor of the product that Alice reported."
   ]
  },
  {
   "cell_type": "code",
   "execution_count": 59,
   "id": "f4536d7e-b8b8-4af2-aebb-7bf7ef4ef23d",
   "metadata": {},
   "outputs": [
    {
     "name": "stdout",
     "output_type": "stream",
     "text": [
      "442045966004935111389041.000000000000000000000000000000\n"
     ]
    }
   ],
   "source": [
    "echo \"scale=30; $PRODUCT_OF_PRIMES / $SMALLER_PRIME\" | bc"
   ]
  },
  {
   "cell_type": "markdown",
   "id": "7f0c9fe6-af83-4108-a4c4-a6e4cac8cab4",
   "metadata": {},
   "source": [
    "Bob makes sure the number that Alice reported as the smaller prime is actually a prime number:"
   ]
  },
  {
   "cell_type": "code",
   "execution_count": 60,
   "id": "85986471-b8b4-4968-a60c-d8e41a0cbcf7",
   "metadata": {},
   "outputs": [
    {
     "name": "stdout",
     "output_type": "stream",
     "text": [
      "418133219637912482167661: 418133219637912482167661\n"
     ]
    }
   ],
   "source": [
    "factor $SMALLER_PRIME"
   ]
  },
  {
   "cell_type": "markdown",
   "id": "6eed3c7c-19b1-46e7-9ab5-b8187c651cf5",
   "metadata": {},
   "source": [
    "Bob makes sure that the number that Alice implied was the larger prime is actually a prime number."
   ]
  },
  {
   "cell_type": "code",
   "execution_count": 61,
   "id": "67e76c5a-e3e9-4d87-bfcc-1f68d465a04d",
   "metadata": {},
   "outputs": [
    {
     "name": "stdout",
     "output_type": "stream",
     "text": [
      "442045966004935111389041: 442045966004935111389041\n"
     ]
    }
   ],
   "source": [
    "factor $LARGER_PRIME"
   ]
  },
  {
   "cell_type": "markdown",
   "id": "202b5eaf-7b09-436f-aeb2-37b1c73ba722",
   "metadata": {},
   "source": [
    "Bob calculates the plain text, in order to see if he correctly guessed that it was negative."
   ]
  },
  {
   "cell_type": "code",
   "execution_count": 62,
   "id": "ff5a793e-f892-444b-8476-343165aff9d5",
   "metadata": {},
   "outputs": [
    {
     "name": "stdout",
     "output_type": "stream",
     "text": [
      "19295759350583799993723\n"
     ]
    }
   ],
   "source": [
    "echo \"$CIPHER_TEXT - $SMALLER_PRIME\" | bc"
   ]
  },
  {
   "cell_type": "markdown",
   "id": "3085b831-ebe3-4b7f-943c-f42546072c46",
   "metadata": {},
   "source": [
    "Alice was telling the truth, so Bob does not challenges and waits until the game is over, when Alice receives her winnings."
   ]
  },
  {
   "cell_type": "code",
   "execution_count": 63,
   "id": "7bacc65e-786b-4f1f-b6e9-69ced98c04aa",
   "metadata": {},
   "outputs": [
    {
     "name": "stdout",
     "output_type": "stream",
     "text": [
      "\n",
      "Datum size: 363\n",
      "Payment 1\n",
      "  Acccount: PK \"bf58c039d16d33213fa640618ce5fbad94c73f85b7d0c982d935db6f\"\n",
      "  Payee: Account (PK \"c83ea613945cb8f6140a33341dadbd54803db63a037b0a3b31f8b14f\")\n",
      "  Ada: 100.000000\n",
      "Payment 2\n",
      "  Acccount: PK \"c83ea613945cb8f6140a33341dadbd54803db63a037b0a3b31f8b14f\"\n",
      "  Payee: Party (PK \"c83ea613945cb8f6140a33341dadbd54803db63a037b0a3b31f8b14f\")\n",
      "  Ada: 202.000000\n"
     ]
    }
   ],
   "source": [
    "marlowe-cli run prepare --invalid-before $END                      \\\n",
    "                        --invalid-hereafter $((END + 5 * MINUTES)) \\\n",
    "                        --marlowe-file guessing-game-07a.marlowe   \\\n",
    "                        --out-file     guessing-game-08a.marlowe   \\\n",
    "                        --print-stats"
   ]
  },
  {
   "cell_type": "markdown",
   "id": "8f0842a8-f736-4b83-b36d-1dc233d6b7d5",
   "metadata": {},
   "source": [
    "The plain text was correctly computed."
   ]
  },
  {
   "cell_type": "code",
   "execution_count": 64,
   "id": "20278035-d94a-4f68-81c6-64a9f9fc5824",
   "metadata": {},
   "outputs": [
    {
     "name": "stdout",
     "output_type": "stream",
     "text": [
      "- - Larger Secret Prime\n",
      "  - 442045966004935100000000\n",
      "- - Plain Text\n",
      "  - 19295759350583800000000\n"
     ]
    }
   ],
   "source": [
    "jq .state.boundValues guessing-game-08a.marlowe | json2yaml"
   ]
  },
  {
   "cell_type": "markdown",
   "id": "f63b2456-677e-44fd-aeb7-e20251a9a716",
   "metadata": {},
   "source": [
    "The contract is complete."
   ]
  },
  {
   "cell_type": "code",
   "execution_count": 65,
   "id": "e7518ffe-262c-4289-be61-cbb432979be2",
   "metadata": {},
   "outputs": [
    {
     "name": "stdout",
     "output_type": "stream",
     "text": [
      "close\n",
      "...\n"
     ]
    }
   ],
   "source": [
    "jq .contract guessing-game-08a.marlowe | json2yaml"
   ]
  },
  {
   "cell_type": "markdown",
   "id": "96feff9b-8c86-4875-9649-c77e30d7624a",
   "metadata": {},
   "source": [
    "Wait unit the 30 minutes of the contract's duration has passed."
   ]
  },
  {
   "cell_type": "code",
   "execution_count": 66,
   "id": "3e556921-b47c-4ef0-b1d8-9ae0b0591ca1",
   "metadata": {},
   "outputs": [],
   "source": [
    "sleep $((END / 1000 - $(date -u +%s) + 120))s"
   ]
  },
  {
   "cell_type": "markdown",
   "id": "384ff695-d086-4a12-9359-1bde09863cf4",
   "metadata": {},
   "source": [
    "Submit the transaction."
   ]
  },
  {
   "cell_type": "code",
   "execution_count": 67,
   "id": "4bfc0ab5-e87b-4c58-a52c-74bb9d0def30",
   "metadata": {},
   "outputs": [
    {
     "name": "stdout",
     "output_type": "stream",
     "text": [
      "\n",
      "Fee: Lovelace 1219786\n",
      "Size: 14551 / 32768 = 44%\n",
      "Execution units:\n",
      "  Memory: 4841130 / 30000000 = 16%\n",
      "  Steps: 1797547297 / 10000000000 = 17%\n",
      "TxId \"640a6789a74119d3f23b05121304d4bdf71caefda6855942d67f067a2426067c\"\n"
     ]
    }
   ],
   "source": [
    "TX_8=$(\n",
    "marlowe-cli run execute --marlowe-in-file guessing-game-07a.marlowe  \\\n",
    "                        --tx-in-marlowe \"$TX_7#1\"                    \\\n",
    "                        --tx-in-collateral \"$TX_6#0\"                 \\\n",
    "                        --tx-in \"$TX_6#0\"                            \\\n",
    "                        --required-signer $BOB_SKEY                  \\\n",
    "                        --change-address $BOB_ADDR                   \\\n",
    "                        --marlowe-out-file guessing-game-08a.marlowe \\\n",
    "                        --out-file /dev/null                         \\\n",
    "                        --submit 600                                 \\\n",
    "                        --print-stats                                \\\n",
    "| sed -e 's/^TxId \"\\(.*\\)\"$/\\1/' \\\n",
    ")\n",
    "echo \"TxId \\\"$TX_8\\\"\""
   ]
  },
  {
   "cell_type": "markdown",
   "id": "c0a6b48b-135d-4fcd-aafb-8573211946f4",
   "metadata": {},
   "source": [
    "The Marlowe script has no UTxOs at its address:"
   ]
  },
  {
   "cell_type": "code",
   "execution_count": 68,
   "id": "b62613ae-0def-4994-aeca-b2bccfd50286",
   "metadata": {},
   "outputs": [
    {
     "name": "stdout",
     "output_type": "stream",
     "text": [
      "                           TxHash                                 TxIx        Amount\n",
      "--------------------------------------------------------------------------------------\n"
     ]
    }
   ],
   "source": [
    "cardano-cli query utxo --testnet-magic $CARDANO_TESTNET_MAGIC --address $SCRIPT_ADDR | sed -n -e \"1,2p;/$TX_1/p;/$TX_2/p;/$TX_3/p;/$TX_4/p;/$TX_5/p;/$TX_6/p;/$TX_7/p;/$TX_8/p\""
   ]
  },
  {
   "cell_type": "markdown",
   "id": "93fee517-3b57-451d-9f9b-92535ab95c1c",
   "metadata": {},
   "source": [
    "Alice has these UTxOs at her address:"
   ]
  },
  {
   "cell_type": "code",
   "execution_count": 69,
   "id": "ac45170b-9637-411e-af8d-93c1953a8cc6",
   "metadata": {},
   "outputs": [
    {
     "name": "stdout",
     "output_type": "stream",
     "text": [
      "                           TxHash                                 TxIx        Amount\n",
      "--------------------------------------------------------------------------------------\n",
      "640a6789a74119d3f23b05121304d4bdf71caefda6855942d67f067a2426067c     1        202000000 lovelace + TxOutDatumNone\n",
      "dd9b725672504e3d7cb5e1e86f7b8a7072ff293cf9996a20f79799f03fdeab55     0        783435280 lovelace + TxOutDatumNone\n"
     ]
    }
   ],
   "source": [
    "cardano-cli query utxo --testnet-magic $CARDANO_TESTNET_MAGIC --address $ALICE_ADDR | sed -n -e \"1,2p;/$TX_1/p;/$TX_2/p;/$TX_3/p;/$TX_4/p;/$TX_5/p;/$TX_6/p;/$TX_7/p;/$TX_8/p\""
   ]
  },
  {
   "cell_type": "markdown",
   "id": "c479803a-1cde-4058-9fc9-1b48de509308",
   "metadata": {},
   "source": [
    "Bob has these UTxOs at his address:"
   ]
  },
  {
   "cell_type": "code",
   "execution_count": 70,
   "id": "b633e18b-3179-4d2d-95f9-63ecf9dcf6e4",
   "metadata": {},
   "outputs": [
    {
     "name": "stdout",
     "output_type": "stream",
     "text": [
      "                           TxHash                                 TxIx        Amount\n",
      "--------------------------------------------------------------------------------------\n",
      "640a6789a74119d3f23b05121304d4bdf71caefda6855942d67f067a2426067c     0        791599192 lovelace + TxOutDatumNone\n"
     ]
    }
   ],
   "source": [
    "cardano-cli query utxo --testnet-magic $CARDANO_TESTNET_MAGIC --address $BOB_ADDR | sed -n -e \"1,2p;/$TX_1/p;/$TX_2/p;/$TX_3/p;/$TX_4/p;/$TX_5/p;/$TX_6/p;/$TX_7/p;/$TX_8/p\""
   ]
  },
  {
   "cell_type": "markdown",
   "id": "2356b191-9ac7-41e3-b44f-642235ad9421",
   "metadata": {
    "tags": []
   },
   "source": [
    "### Alice Cheats\n",
    "\n",
    "1.  Alice and Bob make their deposits.\n",
    "2.  Alice secretly selects three primes 6240425729022497, 7445375476229597, and 9149696769535051.\n",
    "3.  Alices chooses `Product of Secret Primes` = 425116072270803373983726731189192374944067744159.\n",
    "4.  Alice cleverly chooses `Cipher Text` = 6984737363688812, which is between the two lower primes.\n",
    "5.  Bob chooses `Plain Text is Positive`= 1, guessing that Alice's plain text is greater than zero.\n",
    "6.  Since Alice sees that Bob guessed negative, Alice chooses `Smaller Secret Prime` = 7445375476229597, even though that is false, since this would mean that `Plain Text` = `Cipher Text` - `Smaller Secret Prime` would be negative and Bob would lose the wager.\n",
    "7.  However, Bob runs the Linux command `factor 190125153026841891465807101762005016303854862683`, and in fifteen seconds discovers the three factors and sees that 6240425729022497 is lower than the one that Alice reported.\n",
    "8.  Bob chooses `Smaller Challenge Prime` = 6240425729022497.\n",
    "9.  The contract pays Bob because Bob proved that Alice cheated. If Bob had not challenged Alice, Alice's cheating would not have been detected and Alice would have won the wager."
   ]
  },
  {
   "cell_type": "markdown",
   "id": "1791ce5f-f3ca-4eba-90ae-489a97fcec44",
   "metadata": {},
   "source": [
    "#### 1. Initialize the contract information\n",
    "\n",
    "Create a `.marlowe` file that contains all of the information needed to start the contract."
   ]
  },
  {
   "cell_type": "code",
   "execution_count": 71,
   "id": "631e5627-4497-4837-9a25-519190c4f2aa",
   "metadata": {},
   "outputs": [
    {
     "name": "stdout",
     "output_type": "stream",
     "text": [
      "\n",
      "Validator size: 12582\n",
      "Base-validator cost: ExBudget {exBudgetCPU = ExCPU 24562825, exBudgetMemory = ExMemory 82600}\n"
     ]
    }
   ],
   "source": [
    "marlowe-cli run initialize --contract-file guessing-game-01.contract  \\\n",
    "                           --state-file    guessing-game-01.state     \\\n",
    "                           --out-file      guessing-game-01b.marlowe  \\\n",
    "                           --print-stats"
   ]
  },
  {
   "cell_type": "markdown",
   "id": "59068808-24ef-468b-b1a7-17535fdc118c",
   "metadata": {},
   "source": [
    "The minimum Ada deposit has been recorded."
   ]
  },
  {
   "cell_type": "code",
   "execution_count": 72,
   "id": "83d26d84-5c4d-4314-b4f1-6feb8dadff60",
   "metadata": {},
   "outputs": [
    {
     "name": "stdout",
     "output_type": "stream",
     "text": [
      "accounts:\n",
      "- - - pk_hash: c83ea613945cb8f6140a33341dadbd54803db63a037b0a3b31f8b14f\n",
      "    - currency_symbol: ''\n",
      "      token_name: ''\n",
      "  - 2000000\n",
      "boundValues: []\n",
      "choices: []\n",
      "minTime: 1658677424000\n"
     ]
    }
   ],
   "source": [
    "jq .state guessing-game-01b.marlowe | json2yaml"
   ]
  },
  {
   "cell_type": "markdown",
   "id": "34be41b4-e39e-456a-9fdf-59c7be061a35",
   "metadata": {},
   "source": [
    "We won't demonstrate running this example on the blockchain."
   ]
  },
  {
   "cell_type": "markdown",
   "id": "df6792a5-6d95-4011-a138-0a5dc25c0dbe",
   "metadata": {
    "tags": []
   },
   "source": [
    "#### 2. Alice makes her deposit"
   ]
  },
  {
   "cell_type": "code",
   "execution_count": 73,
   "id": "7912039a-af9e-4db3-b9df-a9867d8f9eb0",
   "metadata": {},
   "outputs": [
    {
     "name": "stdout",
     "output_type": "stream",
     "text": [
      "\n",
      "Datum size: 2391\n"
     ]
    }
   ],
   "source": [
    "marlowe-cli run prepare --deposit-account PK=$ALICE_PKH          \\\n",
    "                        --deposit-party   PK=$ALICE_PKH          \\\n",
    "                        --deposit-amount $WAGER                  \\\n",
    "                        --invalid-before $NOW                    \\\n",
    "                        --invalid-hereafter $LATER               \\\n",
    "                        --marlowe-file guessing-game-01b.marlowe \\\n",
    "                        --out-file     guessing-game-02b.marlowe \\\n",
    "                        --print-stats"
   ]
  },
  {
   "cell_type": "markdown",
   "id": "9e7c4882-326c-44bf-965b-f4d7f82fd857",
   "metadata": {},
   "source": [
    "Now the contract still contains the initial Ada and the deposit."
   ]
  },
  {
   "cell_type": "code",
   "execution_count": 74,
   "id": "1291ebb4-35b8-4b0f-80a1-d5640484e59d",
   "metadata": {},
   "outputs": [
    {
     "name": "stdout",
     "output_type": "stream",
     "text": [
      "accounts:\n",
      "- - - pk_hash: c83ea613945cb8f6140a33341dadbd54803db63a037b0a3b31f8b14f\n",
      "    - currency_symbol: ''\n",
      "      token_name: ''\n",
      "  - 102000000\n",
      "boundValues: []\n",
      "choices: []\n",
      "minTime: 1658677424000\n"
     ]
    }
   ],
   "source": [
    "jq .state guessing-game-02b.marlowe | json2yaml"
   ]
  },
  {
   "cell_type": "markdown",
   "id": "6fa51a29-b09a-4ca9-9918-1283e207ab2d",
   "metadata": {},
   "source": [
    "#### 3. Bob makes his deposit"
   ]
  },
  {
   "cell_type": "code",
   "execution_count": 75,
   "id": "f6aaec48-332b-4f3c-b291-a90ed27b790c",
   "metadata": {},
   "outputs": [
    {
     "name": "stdout",
     "output_type": "stream",
     "text": [
      "\n",
      "Datum size: 2331\n"
     ]
    }
   ],
   "source": [
    "marlowe-cli run prepare --deposit-account PK=$BOB_PKH            \\\n",
    "                        --deposit-party   PK=$BOB_PKH            \\\n",
    "                        --deposit-amount $WAGER                  \\\n",
    "                        --invalid-before $NOW                    \\\n",
    "                        --invalid-hereafter $LATER               \\\n",
    "                        --marlowe-file guessing-game-02b.marlowe \\\n",
    "                        --out-file     guessing-game-03b.marlowe \\\n",
    "                        --print-stats"
   ]
  },
  {
   "cell_type": "markdown",
   "id": "a095b545-52ed-4522-b396-707e9c284fe1",
   "metadata": {},
   "source": [
    "The contract's internal accounts have been updated."
   ]
  },
  {
   "cell_type": "code",
   "execution_count": 76,
   "id": "2ccc5fa8-1c2f-4510-b84a-e1d15a145c8d",
   "metadata": {},
   "outputs": [
    {
     "name": "stdout",
     "output_type": "stream",
     "text": [
      "- - - pk_hash: c83ea613945cb8f6140a33341dadbd54803db63a037b0a3b31f8b14f\n",
      "    - currency_symbol: ''\n",
      "      token_name: ''\n",
      "  - 102000000\n",
      "- - - pk_hash: bf58c039d16d33213fa640618ce5fbad94c73f85b7d0c982d935db6f\n",
      "    - currency_symbol: ''\n",
      "      token_name: ''\n",
      "  - 100000000\n"
     ]
    }
   ],
   "source": [
    "jq .state.accounts guessing-game-03b.marlowe | json2yaml"
   ]
  },
  {
   "cell_type": "markdown",
   "id": "ba2a66ea-25f7-4a38-bfab-1eb617412053",
   "metadata": {},
   "source": [
    "#### 4. Alice secretly selects prime numbers and chooses their product\n",
    "\n",
    "Alice visits https://bigprimes.org/ and secretly selects the *three* primes 6240425729022497, 7445375476229597, and 9149696769535051."
   ]
  },
  {
   "cell_type": "code",
   "execution_count": 77,
   "id": "dd95b6e4-862e-456f-853f-3ca050bac7bd",
   "metadata": {},
   "outputs": [
    {
     "name": "stdout",
     "output_type": "stream",
     "text": [
      "425116072270803373983726731189192374944067744159\n"
     ]
    }
   ],
   "source": [
    "PRIME_1=6240425729022497\n",
    "PRIME_2=7445375476229597\n",
    "PRIME_3=9149696769535051\n",
    "PRODUCT_OF_PRIMES=$(echo \"$PRIME_1 * $PRIME_2 * $PRIME_3\" | bc)\n",
    "echo $PRODUCT_OF_PRIMES"
   ]
  },
  {
   "cell_type": "code",
   "execution_count": 78,
   "id": "c084fd9b-f900-4219-8c03-8e9e9998e2d7",
   "metadata": {},
   "outputs": [
    {
     "name": "stdout",
     "output_type": "stream",
     "text": [
      "\n",
      "Datum size: 2276\n"
     ]
    }
   ],
   "source": [
    "marlowe-cli run prepare --choice-party PK=$ALICE_PKH             \\\n",
    "                        --choice-name \"Product of Two Primes\"    \\\n",
    "                        --choice-number $PRODUCT_OF_PRIMES       \\\n",
    "                        --invalid-before $NOW                    \\\n",
    "                        --invalid-hereafter $LATER               \\\n",
    "                        --marlowe-file guessing-game-03b.marlowe \\\n",
    "                        --out-file     guessing-game-04b.marlowe \\\n",
    "                        --print-stats"
   ]
  },
  {
   "cell_type": "markdown",
   "id": "09ad03d5-c3b3-4af2-a3a5-e6d725564101",
   "metadata": {},
   "source": [
    "The choice has been recorded."
   ]
  },
  {
   "cell_type": "code",
   "execution_count": 79,
   "id": "25640177-1b7e-4f78-adb0-d03d9d789ae1",
   "metadata": {},
   "outputs": [
    {
     "name": "stdout",
     "output_type": "stream",
     "text": [
      "- - choice_name: Product of Two Primes\n",
      "    choice_owner:\n",
      "      pk_hash: c83ea613945cb8f6140a33341dadbd54803db63a037b0a3b31f8b14f\n",
      "  - 4.2511607227080335e+47\n"
     ]
    }
   ],
   "source": [
    "jq .state.choices guessing-game-04b.marlowe | json2yaml"
   ]
  },
  {
   "cell_type": "markdown",
   "id": "f880eb45-6b54-47b7-92c9-d84aca425a04",
   "metadata": {},
   "source": [
    "👉 Note that `jq` rounds off the number when printing it, even though the full precision is present in the file `guessing-game-04b.marlowe`."
   ]
  },
  {
   "cell_type": "markdown",
   "id": "f40ed246-d5a7-4267-92af-ab17dd47b598",
   "metadata": {},
   "source": [
    "#### 5. Alice chooses the cipher text"
   ]
  },
  {
   "cell_type": "markdown",
   "id": "c66d8311-0151-4f79-937f-7c3aa33dc593",
   "metadata": {},
   "source": [
    "Alice cleverly chooses Cipher Text = 6984737363688812, which is between the two lower primes."
   ]
  },
  {
   "cell_type": "code",
   "execution_count": 80,
   "id": "ecfec47d-f563-450e-ab2e-a193a830a3b3",
   "metadata": {},
   "outputs": [],
   "source": [
    "CIPHER_TEXT=6984737363688812"
   ]
  },
  {
   "cell_type": "code",
   "execution_count": 81,
   "id": "0fabcadf-b3d8-4282-a1b8-299507ebd18a",
   "metadata": {},
   "outputs": [
    {
     "name": "stdout",
     "output_type": "stream",
     "text": [
      "\n",
      "Datum size: 2234\n"
     ]
    }
   ],
   "source": [
    "marlowe-cli run prepare --choice-party PK=$ALICE_PKH             \\\n",
    "                        --choice-name \"Cipher Text\"              \\\n",
    "                        --choice-number $PLAIN_TEXT              \\\n",
    "                        --invalid-before $NOW                    \\\n",
    "                        --invalid-hereafter $LATER               \\\n",
    "                        --marlowe-file guessing-game-04b.marlowe \\\n",
    "                        --out-file     guessing-game-05b.marlowe \\\n",
    "                        --print-stats"
   ]
  },
  {
   "cell_type": "markdown",
   "id": "c3574793-318d-48c3-9245-4c21097d7308",
   "metadata": {},
   "source": [
    "The choice has been recorded."
   ]
  },
  {
   "cell_type": "code",
   "execution_count": 82,
   "id": "d3b9daf1-b12b-447f-8f98-36b96e799d71",
   "metadata": {},
   "outputs": [
    {
     "name": "stdout",
     "output_type": "stream",
     "text": [
      "- - choice_name: Product of Two Primes\n",
      "    choice_owner:\n",
      "      pk_hash: c83ea613945cb8f6140a33341dadbd54803db63a037b0a3b31f8b14f\n",
      "  - 4.2511607227080335e+47\n",
      "- - choice_name: Cipher Text\n",
      "    choice_owner:\n",
      "      pk_hash: c83ea613945cb8f6140a33341dadbd54803db63a037b0a3b31f8b14f\n",
      "  - 19295759350583800000000\n"
     ]
    }
   ],
   "source": [
    "jq .state.choices guessing-game-05b.marlowe | json2yaml"
   ]
  },
  {
   "cell_type": "markdown",
   "id": "39a97993-f47c-47e8-8b9f-b67e0118bf06",
   "metadata": {
    "tags": []
   },
   "source": [
    "#### 6. Bob guesses that the plain text is a positive number\n",
    "\n",
    "Before guessing whether the plain text is a positive number or not, Bob tries to discover Alice's secret primes by trying to factor the large product that Alice reported."
   ]
  },
  {
   "cell_type": "code",
   "execution_count": 83,
   "id": "cb862247-aaf4-4595-8fed-365052037b04",
   "metadata": {},
   "outputs": [
    {
     "name": "stdout",
     "output_type": "stream",
     "text": [
      "425116072270803373983726731189192374944067744159: 6240425729022497 7445375476229597 9149696769535051\n"
     ]
    }
   ],
   "source": [
    "timeout 10m factor $PRODUCT_OF_PRIMES"
   ]
  },
  {
   "cell_type": "markdown",
   "id": "f600b5ae-bc47-46c0-b815-839c23427759",
   "metadata": {},
   "source": [
    "Bob sees that Alices might be cheating and that Alice's cipher text is greater than the smallest prime factor, so he just guesses that Alice's plain text is a positive number."
   ]
  },
  {
   "cell_type": "code",
   "execution_count": 84,
   "id": "fb7a74e5-8bdd-45e1-8324-8e2ccb107e1e",
   "metadata": {},
   "outputs": [
    {
     "name": "stdout",
     "output_type": "stream",
     "text": [
      "\n",
      "Datum size: 2201\n"
     ]
    }
   ],
   "source": [
    "marlowe-cli run prepare --choice-party PK=$BOB_PKH               \\\n",
    "                        --choice-name \"Plain Text is Positive\"   \\\n",
    "                        --choice-number 1                        \\\n",
    "                        --invalid-before $NOW                    \\\n",
    "                        --invalid-hereafter $LATER               \\\n",
    "                        --marlowe-file guessing-game-05b.marlowe \\\n",
    "                        --out-file     guessing-game-06b.marlowe \\\n",
    "                        --print-stats"
   ]
  },
  {
   "cell_type": "markdown",
   "id": "747dabe8-2d29-47c6-bf3a-bc4742254fac",
   "metadata": {},
   "source": [
    "The choice has been recorded."
   ]
  },
  {
   "cell_type": "code",
   "execution_count": 85,
   "id": "22fe8ad0-0d66-460d-950f-8e1d6ffc6fab",
   "metadata": {},
   "outputs": [
    {
     "name": "stdout",
     "output_type": "stream",
     "text": [
      "- - choice_name: Product of Two Primes\n",
      "    choice_owner:\n",
      "      pk_hash: c83ea613945cb8f6140a33341dadbd54803db63a037b0a3b31f8b14f\n",
      "  - 4.2511607227080335e+47\n",
      "- - choice_name: Cipher Text\n",
      "    choice_owner:\n",
      "      pk_hash: c83ea613945cb8f6140a33341dadbd54803db63a037b0a3b31f8b14f\n",
      "  - 19295759350583800000000\n",
      "- - choice_name: Plain Text is Positive\n",
      "    choice_owner:\n",
      "      pk_hash: bf58c039d16d33213fa640618ce5fbad94c73f85b7d0c982d935db6f\n",
      "  - 1\n"
     ]
    }
   ],
   "source": [
    "jq .state.choices guessing-game-06b.marlowe | json2yaml"
   ]
  },
  {
   "cell_type": "markdown",
   "id": "403b9775-9c0f-4972-8505-674542a859e2",
   "metadata": {},
   "source": [
    "#### 7. Alice cheats by choosing a number that is not the smallest prime factor\n",
    "\n",
    "Since Alice sees that Bob guessed negative, Alice chooses Smaller Secret Prime = 7445375476229597, even though that is false, since this would mean that `Plain Text = Cipher Text - Smaller Secret Prime` would be negative and Bob would lose the wager."
   ]
  },
  {
   "cell_type": "code",
   "execution_count": 86,
   "id": "89ca73b2-b55d-439a-aa0c-19e3c859851d",
   "metadata": {},
   "outputs": [
    {
     "name": "stdout",
     "output_type": "stream",
     "text": [
      "7445375476229597\n"
     ]
    }
   ],
   "source": [
    "SMALLER_PRIME=$PRIME_2\n",
    "echo $SMALLER_PRIME"
   ]
  },
  {
   "cell_type": "code",
   "execution_count": 87,
   "id": "4f1d9d95-4805-49bc-af5c-5a200d1616de",
   "metadata": {},
   "outputs": [
    {
     "name": "stdout",
     "output_type": "stream",
     "text": [
      "\n",
      "Datum size: 1669\n"
     ]
    }
   ],
   "source": [
    "marlowe-cli run prepare --choice-party PK=$ALICE_PKH             \\\n",
    "                        --choice-name \"Smaller Secret Prime\"     \\\n",
    "                        --choice-number $SMALLER_PRIME           \\\n",
    "                        --invalid-before $NOW                    \\\n",
    "                        --invalid-hereafter $LATER               \\\n",
    "                        --marlowe-file guessing-game-06b.marlowe \\\n",
    "                        --out-file     guessing-game-07b.marlowe \\\n",
    "                        --print-stats"
   ]
  },
  {
   "cell_type": "markdown",
   "id": "e91993d0-dee2-431b-b2e3-8fc3e765bc47",
   "metadata": {},
   "source": [
    "The choice has been recorded."
   ]
  },
  {
   "cell_type": "code",
   "execution_count": 88,
   "id": "76fbc093-1525-459f-a4f9-8e81cc909f13",
   "metadata": {},
   "outputs": [
    {
     "name": "stdout",
     "output_type": "stream",
     "text": [
      "- - choice_name: Product of Two Primes\n",
      "    choice_owner:\n",
      "      pk_hash: c83ea613945cb8f6140a33341dadbd54803db63a037b0a3b31f8b14f\n",
      "  - 4.2511607227080335e+47\n",
      "- - choice_name: Cipher Text\n",
      "    choice_owner:\n",
      "      pk_hash: c83ea613945cb8f6140a33341dadbd54803db63a037b0a3b31f8b14f\n",
      "  - 19295759350583800000000\n",
      "- - choice_name: Plain Text is Positive\n",
      "    choice_owner:\n",
      "      pk_hash: bf58c039d16d33213fa640618ce5fbad94c73f85b7d0c982d935db6f\n",
      "  - 1\n",
      "- - choice_name: Smaller Secret Prime\n",
      "    choice_owner:\n",
      "      pk_hash: c83ea613945cb8f6140a33341dadbd54803db63a037b0a3b31f8b14f\n",
      "  - 7445375476229597\n"
     ]
    }
   ],
   "source": [
    "jq .state.choices guessing-game-07b.marlowe | json2yaml"
   ]
  },
  {
   "cell_type": "markdown",
   "id": "e90576c2-9364-47ce-bd7c-9da28c1a5d1c",
   "metadata": {},
   "source": [
    "#### 8. Bob checks the secrets that Alice revealed and decides to challenge her\n",
    "\n",
    "Bob checks that the smaller secret prime number is a divisor of the product that Alice reported."
   ]
  },
  {
   "cell_type": "code",
   "execution_count": 89,
   "id": "4a6c5b89-2298-41cb-8230-9acb1c01f831",
   "metadata": {},
   "outputs": [
    {
     "name": "stdout",
     "output_type": "stream",
     "text": [
      "57098003133360556355951409042347\n"
     ]
    }
   ],
   "source": [
    "LARGER_PRIME=$(echo \"$PRODUCT_OF_PRIMES / $SMALLER_PRIME\" | bc)\n",
    "echo $LARGER_PRIME"
   ]
  },
  {
   "cell_type": "markdown",
   "id": "fb17215a-97fa-4933-bc38-381630108ac9",
   "metadata": {},
   "source": [
    "Bob makes sure the number that Alice reported as the smaller prime is actually a prime number:"
   ]
  },
  {
   "cell_type": "code",
   "execution_count": 90,
   "id": "feedfa64-74de-46b7-8888-30420d1194de",
   "metadata": {},
   "outputs": [
    {
     "name": "stdout",
     "output_type": "stream",
     "text": [
      "7445375476229597: 7445375476229597\n"
     ]
    }
   ],
   "source": [
    "factor $SMALLER_PRIME"
   ]
  },
  {
   "cell_type": "markdown",
   "id": "4365455c-b850-4df7-ba63-7cc145cad877",
   "metadata": {},
   "source": [
    "Bob makes sure that the number that Alice implied was the larger prime is actually a prime number, but sees that it is a composite number and that its smallest factor is smaller than the one that Alice reported as the smaller prime."
   ]
  },
  {
   "cell_type": "code",
   "execution_count": 91,
   "id": "4e5f4cd2-a18d-4bd5-8fcb-eb685f3f6a90",
   "metadata": {},
   "outputs": [
    {
     "name": "stdout",
     "output_type": "stream",
     "text": [
      "57098003133360556355951409042347: 6240425729022497 9149696769535051\n"
     ]
    }
   ],
   "source": [
    "factor $LARGER_PRIME"
   ]
  },
  {
   "cell_type": "markdown",
   "id": "7a703842-71e6-4e99-9761-e2e249409604",
   "metadata": {},
   "source": [
    "Bob calculates the plain text, in order to see if he correctly guessed that it was positive."
   ]
  },
  {
   "cell_type": "markdown",
   "id": "3d3f9ac8-6b51-4247-8a71-77b9fb2e10a1",
   "metadata": {},
   "source": [
    "Bob chooses `Smaller Challenge Prime = 6240425729022497`."
   ]
  },
  {
   "cell_type": "code",
   "execution_count": 92,
   "id": "08c556f0-a1b4-433b-802d-b41e5de03ea8",
   "metadata": {},
   "outputs": [],
   "source": [
    "CHALLENGE=6240425729022497"
   ]
  },
  {
   "cell_type": "markdown",
   "id": "0faf4c12-f951-4855-9193-12cfa8eb1ece",
   "metadata": {},
   "source": [
    "Alice was not telling the truth, so Bob challenges with a lower factor and he receives his winnings."
   ]
  },
  {
   "cell_type": "code",
   "execution_count": 93,
   "id": "ad640b98-1f50-4aee-8d75-45bee191cbdc",
   "metadata": {},
   "outputs": [
    {
     "name": "stdout",
     "output_type": "stream",
     "text": [
      "\n",
      "Datum size: 451\n",
      "Payment 1\n",
      "  Acccount: PK \"c83ea613945cb8f6140a33341dadbd54803db63a037b0a3b31f8b14f\"\n",
      "  Payee: Account (PK \"bf58c039d16d33213fa640618ce5fbad94c73f85b7d0c982d935db6f\")\n",
      "  Ada: 100.000000\n",
      "Payment 2\n",
      "  Acccount: PK \"c83ea613945cb8f6140a33341dadbd54803db63a037b0a3b31f8b14f\"\n",
      "  Payee: Party (PK \"c83ea613945cb8f6140a33341dadbd54803db63a037b0a3b31f8b14f\")\n",
      "  Ada: 2.000000\n",
      "Payment 3\n",
      "  Acccount: PK \"bf58c039d16d33213fa640618ce5fbad94c73f85b7d0c982d935db6f\"\n",
      "  Payee: Party (PK \"bf58c039d16d33213fa640618ce5fbad94c73f85b7d0c982d935db6f\")\n",
      "  Ada: 200.000000\n"
     ]
    }
   ],
   "source": [
    "marlowe-cli run prepare --choice-party PK=$BOB_PKH               \\\n",
    "                        --choice-name \"Smaller Challenge Prime\"  \\\n",
    "                        --choice-number $CHALLENGE               \\\n",
    "                        --invalid-before $NOW                    \\\n",
    "                        --invalid-hereafter $LATER               \\\n",
    "                        --marlowe-file guessing-game-07b.marlowe \\\n",
    "                        --out-file     guessing-game-08b.marlowe \\\n",
    "                        --print-stats"
   ]
  },
  {
   "cell_type": "markdown",
   "id": "ad200dd1-58b6-4b16-9a59-617017774319",
   "metadata": {},
   "source": [
    "The contract is complete."
   ]
  },
  {
   "cell_type": "code",
   "execution_count": 94,
   "id": "aaa167c3-f4a5-4504-816d-a2e2f6bf5c10",
   "metadata": {},
   "outputs": [
    {
     "name": "stdout",
     "output_type": "stream",
     "text": [
      "close\n",
      "...\n"
     ]
    }
   ],
   "source": [
    "jq .contract guessing-game-08b.marlowe | json2yaml"
   ]
  }
 ],
 "metadata": {
  "kernelspec": {
   "display_name": "Bash - Marlowe",
   "language": "bash",
   "name": "bash_marlowe"
  },
  "language_info": {
   "codemirror_mode": "shell",
   "file_extension": ".sh",
   "mimetype": "text/x-sh",
   "name": "/nix/store/zwjm0gln1vk7x1akpyz0yxjsd1yc46gi-bash-5.1-p16/bin/bash"
  }
 },
 "nbformat": 4,
 "nbformat_minor": 5
}
